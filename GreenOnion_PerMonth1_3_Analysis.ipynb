{
 "cells": [
  {
   "cell_type": "code",
   "execution_count": 2,
   "metadata": {},
   "outputs": [],
   "source": [
    "import numpy as np\n",
    "import pandas as pd\n",
    "import os\n",
    "import warnings\n",
    "warnings.filterwarnings(action='ignore')\n",
    "#경고 메시지 숨기기"
   ]
  },
  {
   "cell_type": "markdown",
   "metadata": {},
   "source": [
    "### 2020/2021 1~3월 데이터 불러오기 ###"
   ]
  },
  {
   "cell_type": "code",
   "execution_count": 3,
   "metadata": {
    "scrolled": true
   },
   "outputs": [
    {
     "name": "stdout",
     "output_type": "stream",
     "text": [
      "       Unnamed: 0  경매구분코드 경매구분코드명  도매시장법인코드    산지코드      산지명2      경락일자  거래량  \\\n",
      "0               0       2    정가수의  24000101  585000  전라북도 고창군  20200102  500   \n",
      "1             261       1      경매  38010102  641465       NaN  20200102  100   \n",
      "2             260       1      경매  38010101  627834       NaN  20200102  100   \n",
      "3             259       1      경매  38010101  627834       NaN  20200102  100   \n",
      "4             258       1      경매  38010101  627834       NaN  20200102  100   \n",
      "...           ...     ...     ...       ...     ...       ...       ...  ...   \n",
      "43015       30768       1      경매  21000902  600010       NaN  20200131  140   \n",
      "43016       30767       1      경매  21000902  539800       NaN  20200131  226   \n",
      "43017       30777       2    정가수의  21000902  600010       NaN  20200131  100   \n",
      "43018       30735       1      경매  21000901  902000     부산광역시  20200131  150   \n",
      "43019       30324       1      경매  11000105  539000  전라남도 진도군  20200131  216   \n",
      "\n",
      "       도매시장법인명  거래가격  ...  stdMgNewNm       산지명 등급코드 등급명     품종명 거래규격단위코드  \\\n",
      "0      광주원협(공)  6000  ...          기타  전라북도 고창군   11   특  대파(일반)       12   \n",
      "1      농협창원(공)  1750  ...          기타  경상남도 창원시   11   특  대파(일반)       12   \n",
      "2         창원청과  1900  ...          기타  경상남도 밀양시   11   특  대파(일반)       12   \n",
      "3         창원청과  1900  ...          기타  경상남도 밀양시   11   특  대파(일반)       12   \n",
      "4         창원청과  1850  ...          기타  경상남도 밀양시   11   특  대파(일반)       12   \n",
      "...        ...   ...  ...         ...       ...  ...  ..     ...      ...   \n",
      "43015   부산중앙청과   850  ...          기타  부산광역시 중구   12   상  대파(일반)       12   \n",
      "43016   부산중앙청과   700  ...          기타  전라남도 진도군   12   상  대파(일반)       12   \n",
      "43017   부산중앙청과   700  ...          기타  부산광역시 중구   12   상  대파(일반)       12   \n",
      "43018     동부청과   850  ...          기타     부산광역시   12   상  대파(일반)       12   \n",
      "43019     한국청과  5300  ...          기타  전라남도 진도군   11   특  대파(일반)       12   \n",
      "\n",
      "      거래단위명  도매시장코드     도매시장명                 경매시간  \n",
      "0        kg  240001  광주각화도매시장                  NaN  \n",
      "1        kg  380101  창원팔용도매시장                  NaN  \n",
      "2        kg  380101  창원팔용도매시장  2020-01-02 05:14:27  \n",
      "3        kg  380101  창원팔용도매시장  2020-01-02 05:14:21  \n",
      "4        kg  380101  창원팔용도매시장  2020-01-02 05:14:17  \n",
      "...     ...     ...       ...                  ...  \n",
      "43015    kg  210009  부산반여도매시장  2020-01-31 07:17:15  \n",
      "43016    kg  210009  부산반여도매시장  2020-01-31 07:17:13  \n",
      "43017    kg  210009  부산반여도매시장  2020-01-31 09:18:18  \n",
      "43018    kg  210009  부산반여도매시장  2020-01-31 09:03:20  \n",
      "43019    kg  110001  서울가락도매시장        2020-01-31 ::  \n",
      "\n",
      "[43020 rows x 25 columns]\n"
     ]
    }
   ],
   "source": [
    "#Csv파일 불러오기\n",
    "Jan20 = pd.read_csv(r'C:\\study\\python\\notebook\\202001.csv', encoding='utf-8-sig')\n",
    "print(Jan20)"
   ]
  },
  {
   "cell_type": "code",
   "execution_count": 4,
   "metadata": {
    "scrolled": true
   },
   "outputs": [
    {
     "name": "stdout",
     "output_type": "stream",
     "text": [
      "       Unnamed: 0  경매구분코드 경매구분코드명  도매시장법인코드    산지코드      경락일자  거래량  도매시장법인명  \\\n",
      "0               0       1      경매  24000101  535800  20210102  150  광주원협(공)   \n",
      "1           76229       2    정가수의  38020101  907000  20210102  250  울산원협(공)   \n",
      "2           76228       2    정가수의  38020101  907000  20210102   80  울산원협(공)   \n",
      "3           76227       2    정가수의  38020101  907000  20210102   50  울산원협(공)   \n",
      "4           76226       2    정가수의  38020101  907000  20210102   15  울산원협(공)   \n",
      "...           ...     ...     ...       ...     ...       ...  ...      ...   \n",
      "64115       99579       2    정가수의  38020101  680813  20210131   20  울산원협(공)   \n",
      "64116       99580       2    정가수의  38020101  680813  20210131   10  울산원협(공)   \n",
      "64117       99581       2    정가수의  38020101  680813  20210131  100  울산원협(공)   \n",
      "64118       99582       1      경매  38020102  626000  20210131   40   울산중앙청과   \n",
      "64119       23377       2    정가수의  38020101  680813  20210131  100  울산원협(공)   \n",
      "\n",
      "        거래가격  출하구분코드  ...       산지명 등급코드  등급명     품종명 거래규격단위코드 거래단위명  도매시장코드  \\\n",
      "0       4300     3.0  ...  전라남도 신안군   11    특  대파(일반)       12    kg  240001   \n",
      "1       2300     3.0  ...     울산광역시   12    상     깐대파       12    kg  380201   \n",
      "2       2300     3.0  ...     울산광역시   12    상     깐대파       12    kg  380201   \n",
      "3       2300     3.0  ...     울산광역시   12    상     깐대파       12    kg  380201   \n",
      "4      13000     3.0  ...     울산광역시   12    상     깐대파       12    kg  380201   \n",
      "...      ...     ...  ...       ...  ...  ...     ...      ...   ...     ...   \n",
      "64115  36000     4.0  ...  울산광역시 남구   12    상  대파(수입)       12    kg  380201   \n",
      "64116  36000     4.0  ...  울산광역시 남구   12    상  대파(수입)       12    kg  380201   \n",
      "64117  36000     4.0  ...  울산광역시 남구   12    상  대파(수입)       12    kg  380201   \n",
      "64118  22000     3.0  ...  경상남도 양산시   1Z  무등급  대파(일반)       12    kg  380201   \n",
      "64119  36000     4.0  ...  울산광역시 남구   12    상  대파(수입)       12    kg  380201   \n",
      "\n",
      "          도매시장명      산지명2 경매시간  \n",
      "0      광주각화도매시장       NaN  NaN  \n",
      "1        울산도매시장     울산광역시  NaN  \n",
      "2        울산도매시장     울산광역시  NaN  \n",
      "3        울산도매시장     울산광역시  NaN  \n",
      "4        울산도매시장     울산광역시  NaN  \n",
      "...         ...       ...  ...  \n",
      "64115    울산도매시장       NaN  NaN  \n",
      "64116    울산도매시장       NaN  NaN  \n",
      "64117    울산도매시장       NaN  NaN  \n",
      "64118    울산도매시장  경상남도 양산시  NaN  \n",
      "64119    울산도매시장       NaN  NaN  \n",
      "\n",
      "[64120 rows x 24 columns]\n"
     ]
    }
   ],
   "source": [
    "Jan21 = pd.read_csv(r'C:\\study\\python\\notebook\\202101.csv', encoding='utf-8-sig')\n",
    "print(Jan21)"
   ]
  },
  {
   "cell_type": "code",
   "execution_count": 5,
   "metadata": {},
   "outputs": [
    {
     "name": "stdout",
     "output_type": "stream",
     "text": [
      "       Unnamed: 0  경매구분코드 경매구분코드명  도매시장법인코드    산지코드      산지명2      경락일자  거래량  \\\n",
      "0           32359       1      경매  25000301  536000  전라남도 해남군  20200201  100   \n",
      "1           32360       1      경매  25000301  536000  전라남도 해남군  20200201  150   \n",
      "2           32361       1      경매  25000301  536000  전라남도 해남군  20200201  150   \n",
      "3           32362       1      경매  25000301  536000  전라남도 해남군  20200201  150   \n",
      "4           32363       1      경매  25000301  536000  전라남도 해남군  20200201  160   \n",
      "...           ...     ...     ...       ...     ...       ...       ...  ...   \n",
      "40045       77340       1      경매  31120103  471080       NaN  20200229   30   \n",
      "40046       77341       1      경매  31120103  471080       NaN  20200229   30   \n",
      "40047       77342       1      경매  31120103  471080       NaN  20200229   30   \n",
      "40048       77284       1      경매  31120101  471030       NaN  20200229  300   \n",
      "40049       76480       1      경매  11000104  535000  전라남도 신안군  20200229  180   \n",
      "\n",
      "       도매시장법인명  거래가격  ...  stdMgNewNm       산지명 등급코드  등급명     품종명 거래규격단위코드  \\\n",
      "0       대전중앙청과  2500  ...          기타  전라남도 해남군   1Z  무등급  대파(일반)       12   \n",
      "1       대전중앙청과   550  ...          기타  전라남도 해남군   1Z  무등급  대파(일반)       12   \n",
      "2       대전중앙청과   500  ...          기타  전라남도 해남군   1Z  무등급  대파(일반)       12   \n",
      "3       대전중앙청과   500  ...          기타  전라남도 해남군   1Z  무등급  대파(일반)       12   \n",
      "4       대전중앙청과   500  ...          기타  전라남도 해남군   1Z  무등급  대파(일반)       12   \n",
      "...        ...   ...  ...         ...       ...  ...  ...     ...      ...   \n",
      "40045     구리청과  7500  ...          기타   경기도 구리시   11    특  대파(일반)       12   \n",
      "40046     구리청과  7500  ...          기타   경기도 구리시   11    특  대파(일반)       12   \n",
      "40047     구리청과  7500  ...          기타   경기도 구리시   11    특  대파(일반)       12   \n",
      "40048  농협구리(공)   870  ...          10   경기도 구리시   11    특  대파(일반)       12   \n",
      "40049     동화청과  7200  ...          기타  전라남도 신안군   11    특  대파(일반)       12   \n",
      "\n",
      "      거래단위명  도매시장코드     도매시장명           경매시간  \n",
      "0        kg  250003  대전노은도매시장            NaN  \n",
      "1        kg  250003  대전노은도매시장            NaN  \n",
      "2        kg  250003  대전노은도매시장            NaN  \n",
      "3        kg  250003  대전노은도매시장            NaN  \n",
      "4        kg  250003  대전노은도매시장            NaN  \n",
      "...     ...     ...       ...            ...  \n",
      "40045    kg  311201    구리도매시장            NaN  \n",
      "40046    kg  311201    구리도매시장            NaN  \n",
      "40047    kg  311201    구리도매시장            NaN  \n",
      "40048    kg  311201    구리도매시장            NaN  \n",
      "40049    kg  110001  서울가락도매시장  2020-02-29 ::  \n",
      "\n",
      "[40050 rows x 25 columns]\n"
     ]
    }
   ],
   "source": [
    "Feb20 = pd.read_csv(r'C:\\study\\python\\notebook\\202002.csv', encoding='utf-8-sig')\n",
    "print(Feb20)"
   ]
  },
  {
   "cell_type": "code",
   "execution_count": 6,
   "metadata": {
    "scrolled": true
   },
   "outputs": [
    {
     "name": "stdout",
     "output_type": "stream",
     "text": [
      "       Unnamed: 0  경매구분코드 경매구분코드명  도매시장법인코드    산지코드      경락일자  거래량  도매시장법인명  \\\n",
      "0           24844       1      경매  38010101  641111  20210201  100     창원청과   \n",
      "1           24843       1      경매  37150102  730010  20210201   10   구미중앙청과   \n",
      "2           24842       1      경매  37150102  730010  20210201   15   구미중앙청과   \n",
      "3           24841       1      경매  37150102  730010  20210201   15   구미중앙청과   \n",
      "4           24840       1      경매  37150102  730010  20210201    4   구미중앙청과   \n",
      "...           ...     ...     ...       ...     ...       ...  ...      ...   \n",
      "55789       52918       2    정가수의  11000802  535000  20210227  200     서부청과   \n",
      "55790       52921       1      경매  11000803  215000  20210227  550     강서청과   \n",
      "55791       52916       1      경매  11000802  535000  20210227  500     서부청과   \n",
      "55792       52917       1      경매  11000802  535000  20210227  500     서부청과   \n",
      "55793       54678       1      경매  25000302  305325  20210301  100  대전원협(공)   \n",
      "\n",
      "        거래가격  출하구분코드  ...        산지명 등급코드  등급명     품종명 거래규격단위코드 거래단위명  도매시장코드  \\\n",
      "0       5100     3.0  ...   경상남도 창원시   11    특  대파(일반)       12    kg  380101   \n",
      "1      12000     3.0  ...   경상북도 구미시   12    상  대파(일반)       12    kg  371501   \n",
      "2      15500     3.0  ...   경상북도 구미시   11    특  대파(일반)       12    kg  371501   \n",
      "3      15500     3.0  ...   경상북도 구미시   11    특  대파(일반)       12    kg  371501   \n",
      "4      20300     4.0  ...   경상북도 구미시   13   보통  대파(일반)       12    kg  371501   \n",
      "...      ...     ...  ...        ...  ...  ...     ...      ...   ...     ...   \n",
      "55789   5200     NaN  ...   전라남도 신안군   11    특  대파(일반)       12    kg  110008   \n",
      "55790   5100     NaN  ...    강원도 양양군   1Z  무등급  대파(일반)       12    kg  110008   \n",
      "55791   5200     NaN  ...   전라남도 신안군   11    특  대파(일반)       12    kg  110008   \n",
      "55792   5200     NaN  ...   전라남도 신안군   11    특  대파(일반)       12    kg  110008   \n",
      "55793  27300     3.0  ...  대전광역시 유성구   11    특  대파(일반)       12    kg  250003   \n",
      "\n",
      "          도매시장명      산지명2             경매시간  \n",
      "0      창원팔용도매시장       NaN  2021-02-01 5:22  \n",
      "1        구미도매시장       NaN  2021-02-01 8:47  \n",
      "2        구미도매시장       NaN  2021-02-01 8:47  \n",
      "3        구미도매시장       NaN  2021-02-01 8:46  \n",
      "4        구미도매시장       NaN  2021-02-01 8:38  \n",
      "...         ...       ...              ...  \n",
      "55789  서울강서도매시장  전라남도 신안군    2021-02-27 ::  \n",
      "55790  서울강서도매시장   강원도 양양군    2021-02-27 ::  \n",
      "55791  서울강서도매시장  전라남도 신안군    2021-02-27 ::  \n",
      "55792  서울강서도매시장  전라남도 신안군    2021-02-27 ::  \n",
      "55793  대전노은도매시장       NaN              NaN  \n",
      "\n",
      "[55794 rows x 24 columns]\n"
     ]
    }
   ],
   "source": [
    "Feb21 = pd.read_csv(r'C:\\study\\python\\notebook\\202102.csv', encoding='utf-8-sig')\n",
    "print(Feb21)"
   ]
  },
  {
   "cell_type": "code",
   "execution_count": 7,
   "metadata": {},
   "outputs": [
    {
     "name": "stdout",
     "output_type": "stream",
     "text": [
      "       Unnamed: 0  경매구분코드 경매구분코드명  도매시장법인코드    산지코드      산지명2      경락일자  거래량  \\\n",
      "0           77728       2    정가수의  11000101  539000  전라남도 진도군  20200302   75   \n",
      "1           78956       2    정가수의  31090105  413810       NaN  20200302  500   \n",
      "2           78955       2    정가수의  31090105  413810       NaN  20200302  500   \n",
      "3           78954       2    정가수의  31090105  413810       NaN  20200302  500   \n",
      "4           78953       2    정가수의  31090105  413810       NaN  20200302  500   \n",
      "...           ...     ...     ...       ...     ...       ...       ...  ...   \n",
      "18378       97772       1      경매  38040101  676000  경상남도 함양군  20200314  110   \n",
      "18379       97773       1      경매  38040101  664600       NaN  20200314  100   \n",
      "18380       97774       1      경매  38040101  664600       NaN  20200314  100   \n",
      "18381       97766       1      경매  38040101  676000  경상남도 함양군  20200314  100   \n",
      "18382       96832       1      경매  22000103  539000  전라남도 진도군  20200314  250   \n",
      "\n",
      "       도매시장법인명  거래가격  ...  stdMgNewNm       산지명 등급코드 등급명     품종명 거래규격단위코드  \\\n",
      "0         서울청과  6000  ...          기타  전라남도 진도군   11   특  대파(일반)       12   \n",
      "1        안산농산물  1000  ...          기타   경기도 파주시   11   특  대파(일반)       12   \n",
      "2        안산농산물   850  ...          기타   경기도 파주시   11   특  대파(일반)       12   \n",
      "3        안산농산물   850  ...          기타   경기도 파주시   11   특  대파(일반)       12   \n",
      "4        안산농산물  1000  ...          기타   경기도 파주시   11   특  대파(일반)       12   \n",
      "...        ...   ...  ...         ...       ...  ...  ..     ...      ...   \n",
      "18378  진주원협(공)  1400  ...          기타  경상남도 함양군   11   특  대파(일반)       12   \n",
      "18379  진주원협(공)  1800  ...          기타  경상남도 사천시   11   특  대파(일반)       12   \n",
      "18380  진주원협(공)  1800  ...          기타  경상남도 사천시   11   특  대파(일반)       12   \n",
      "18381  진주원협(공)  1400  ...          기타  경상남도 함양군   11   특  대파(일반)       12   \n",
      "18382     효성청과   800  ...          기타  전라남도 진도군   11   특  대파(일반)       12   \n",
      "\n",
      "      거래단위명  도매시장코드     도매시장명           경매시간  \n",
      "0        kg  110001  서울가락도매시장  2020-03-02 ::  \n",
      "1        kg  310901    안산도매시장            NaN  \n",
      "2        kg  310901    안산도매시장            NaN  \n",
      "3        kg  310901    안산도매시장            NaN  \n",
      "4        kg  310901    안산도매시장            NaN  \n",
      "...     ...     ...       ...            ...  \n",
      "18378    kg  380401    진주도매시장            NaN  \n",
      "18379    kg  380401    진주도매시장            NaN  \n",
      "18380    kg  380401    진주도매시장            NaN  \n",
      "18381    kg  380401    진주도매시장            NaN  \n",
      "18382    kg  220001  대구북부도매시장            NaN  \n",
      "\n",
      "[18383 rows x 25 columns]\n"
     ]
    }
   ],
   "source": [
    "Mar20 = pd.read_csv(r'C:\\study\\python\\notebook\\202003.csv', encoding='utf-8-sig')\n",
    "print(Mar20)"
   ]
  },
  {
   "cell_type": "code",
   "execution_count": 8,
   "metadata": {},
   "outputs": [
    {
     "name": "stdout",
     "output_type": "stream",
     "text": [
      "       Unnamed: 0  경매구분코드 경매구분코드명  도매시장법인코드    산지코드      경락일자  거래량  도매시장법인명  \\\n",
      "0           54663       1      경매  25000301  535000  20210301  270   대전중앙청과   \n",
      "1           54662       2    정가수의  25000301  535000  20210301  123   대전중앙청과   \n",
      "2           54661       1      경매  25000301  535000  20210301   85   대전중앙청과   \n",
      "3           54658       1      경매  25000301  535000  20210301  120   대전중앙청과   \n",
      "4           54659       1      경매  25000301  535000  20210301  122   대전중앙청과   \n",
      "...           ...     ...     ...       ...     ...       ...  ...      ...   \n",
      "32488      147984       1      경매  21000101  232948  20210315  200  농협부산(공)   \n",
      "32489      147983       1      경매  21000101  232948  20210315  200  농협부산(공)   \n",
      "32490      147982       1      경매  21000101  902000  20210315  300  농협부산(공)   \n",
      "32491      147992       1      경매  21000103  902000  20210315  300     항도청과   \n",
      "32492      148110       1      경매  21000903  612810  20210315  300  농협반여(공)   \n",
      "\n",
      "        거래가격  출하구분코드  ...         산지명 등급코드  등급명     품종명 거래규격단위코드 거래단위명  \\\n",
      "0      11600     1.0  ...    전라남도 신안군   1Z  무등급  대파(일반)       12    kg   \n",
      "1      11600     1.0  ...    전라남도 신안군   1Z  무등급  대파(일반)       12    kg   \n",
      "2      21600     1.0  ...    전라남도 신안군   1Z  무등급  대파(일반)       12    kg   \n",
      "3      23000     1.0  ...    전라남도 신안군   1Z  무등급  대파(일반)       12    kg   \n",
      "4      23200     1.0  ...    전라남도 신안군   1Z  무등급  대파(일반)       12    kg   \n",
      "...      ...     ...  ...         ...  ...  ...     ...      ...   ...   \n",
      "32488   3080     3.0  ...     강원도 평창군   12    상  대파(일반)       12    kg   \n",
      "32489   3050     3.0  ...     강원도 평창군   12    상  대파(일반)       12    kg   \n",
      "32490   3510     2.0  ...       부산광역시   12    상  대파(일반)       12    kg   \n",
      "32491   4000     3.0  ...       부산광역시   11    특  대파(일반)       12    kg   \n",
      "32492   3900     2.0  ...  부산광역시 해운대구   11    특  대파(일반)       12    kg   \n",
      "\n",
      "       도매시장코드     도매시장명      산지명2 경매시간  \n",
      "0      250003  대전노은도매시장  전라남도 신안군  NaN  \n",
      "1      250003  대전노은도매시장  전라남도 신안군  NaN  \n",
      "2      250003  대전노은도매시장  전라남도 신안군  NaN  \n",
      "3      250003  대전노은도매시장  전라남도 신안군  NaN  \n",
      "4      250003  대전노은도매시장  전라남도 신안군  NaN  \n",
      "...       ...       ...       ...  ...  \n",
      "32488  210001  부산엄궁도매시장       NaN  NaN  \n",
      "32489  210001  부산엄궁도매시장       NaN  NaN  \n",
      "32490  210001  부산엄궁도매시장     부산광역시  NaN  \n",
      "32491  210001  부산엄궁도매시장     부산광역시  NaN  \n",
      "32492  210009  부산반여도매시장       NaN  NaN  \n",
      "\n",
      "[32493 rows x 24 columns]\n"
     ]
    }
   ],
   "source": [
    "Mar21 = pd.read_csv(r'C:\\study\\python\\notebook\\202103.csv', encoding='utf-8-sig')\n",
    "print(Mar21)"
   ]
  },
  {
   "cell_type": "markdown",
   "metadata": {},
   "source": [
    "### 2020/2021 1~3월 데이터 산지별 거래량 합계 전처리 ###"
   ]
  },
  {
   "cell_type": "code",
   "execution_count": 57,
   "metadata": {},
   "outputs": [
    {
     "data": {
      "text/html": [
       "<div>\n",
       "<style scoped>\n",
       "    .dataframe tbody tr th:only-of-type {\n",
       "        vertical-align: middle;\n",
       "    }\n",
       "\n",
       "    .dataframe tbody tr th {\n",
       "        vertical-align: top;\n",
       "    }\n",
       "\n",
       "    .dataframe thead th {\n",
       "        text-align: right;\n",
       "    }\n",
       "</style>\n",
       "<table border=\"1\" class=\"dataframe\">\n",
       "  <thead>\n",
       "    <tr style=\"text-align: right;\">\n",
       "      <th></th>\n",
       "      <th>산지명</th>\n",
       "      <th>거래량</th>\n",
       "    </tr>\n",
       "  </thead>\n",
       "  <tbody>\n",
       "    <tr>\n",
       "      <th>0</th>\n",
       "      <td>강원도</td>\n",
       "      <td>3915</td>\n",
       "    </tr>\n",
       "    <tr>\n",
       "      <th>1</th>\n",
       "      <td>강원도 강릉시</td>\n",
       "      <td>46925</td>\n",
       "    </tr>\n",
       "    <tr>\n",
       "      <th>2</th>\n",
       "      <td>강원도 동해시</td>\n",
       "      <td>10946</td>\n",
       "    </tr>\n",
       "    <tr>\n",
       "      <th>3</th>\n",
       "      <td>강원도 원주시</td>\n",
       "      <td>6382</td>\n",
       "    </tr>\n",
       "    <tr>\n",
       "      <th>4</th>\n",
       "      <td>강원도 인제군</td>\n",
       "      <td>70467</td>\n",
       "    </tr>\n",
       "    <tr>\n",
       "      <th>...</th>\n",
       "      <td>...</td>\n",
       "      <td>...</td>\n",
       "    </tr>\n",
       "    <tr>\n",
       "      <th>147</th>\n",
       "      <td>충청북도 음성군</td>\n",
       "      <td>78</td>\n",
       "    </tr>\n",
       "    <tr>\n",
       "      <th>148</th>\n",
       "      <td>충청북도 제천시</td>\n",
       "      <td>10625</td>\n",
       "    </tr>\n",
       "    <tr>\n",
       "      <th>149</th>\n",
       "      <td>충청북도 진천군</td>\n",
       "      <td>591</td>\n",
       "    </tr>\n",
       "    <tr>\n",
       "      <th>150</th>\n",
       "      <td>충청북도 청주시</td>\n",
       "      <td>292296</td>\n",
       "    </tr>\n",
       "    <tr>\n",
       "      <th>151</th>\n",
       "      <td>충청북도 충주시</td>\n",
       "      <td>54295</td>\n",
       "    </tr>\n",
       "  </tbody>\n",
       "</table>\n",
       "<p>152 rows × 2 columns</p>\n",
       "</div>"
      ],
      "text/plain": [
       "          산지명     거래량\n",
       "0         강원도    3915\n",
       "1     강원도 강릉시   46925\n",
       "2     강원도 동해시   10946\n",
       "3     강원도 원주시    6382\n",
       "4     강원도 인제군   70467\n",
       "..        ...     ...\n",
       "147  충청북도 음성군      78\n",
       "148  충청북도 제천시   10625\n",
       "149  충청북도 진천군     591\n",
       "150  충청북도 청주시  292296\n",
       "151  충청북도 충주시   54295\n",
       "\n",
       "[152 rows x 2 columns]"
      ]
     },
     "execution_count": 57,
     "metadata": {},
     "output_type": "execute_result"
    }
   ],
   "source": [
    "sum_trading_volume = Jan20.groupby(Jan20['산지명'])['거래량'].sum().reset_index()\n",
    "#20산지 별 거래량 합계\n",
    "sum_trading_volume"
   ]
  },
  {
   "cell_type": "code",
   "execution_count": 58,
   "metadata": {},
   "outputs": [
    {
     "data": {
      "text/html": [
       "<div>\n",
       "<style scoped>\n",
       "    .dataframe tbody tr th:only-of-type {\n",
       "        vertical-align: middle;\n",
       "    }\n",
       "\n",
       "    .dataframe tbody tr th {\n",
       "        vertical-align: top;\n",
       "    }\n",
       "\n",
       "    .dataframe thead th {\n",
       "        text-align: right;\n",
       "    }\n",
       "</style>\n",
       "<table border=\"1\" class=\"dataframe\">\n",
       "  <thead>\n",
       "    <tr style=\"text-align: right;\">\n",
       "      <th></th>\n",
       "      <th>index</th>\n",
       "      <th>산지명</th>\n",
       "      <th>거래량</th>\n",
       "    </tr>\n",
       "  </thead>\n",
       "  <tbody>\n",
       "    <tr>\n",
       "      <th>0</th>\n",
       "      <td>109</td>\n",
       "      <td>전라남도 진도군</td>\n",
       "      <td>2049449</td>\n",
       "    </tr>\n",
       "    <tr>\n",
       "      <th>1</th>\n",
       "      <td>102</td>\n",
       "      <td>전라남도 신안군</td>\n",
       "      <td>1607819</td>\n",
       "    </tr>\n",
       "    <tr>\n",
       "      <th>2</th>\n",
       "      <td>11</td>\n",
       "      <td>경기도 구리시</td>\n",
       "      <td>364288</td>\n",
       "    </tr>\n",
       "    <tr>\n",
       "      <th>3</th>\n",
       "      <td>70</td>\n",
       "      <td>부산광역시</td>\n",
       "      <td>317795</td>\n",
       "    </tr>\n",
       "    <tr>\n",
       "      <th>4</th>\n",
       "      <td>150</td>\n",
       "      <td>충청북도 청주시</td>\n",
       "      <td>292296</td>\n",
       "    </tr>\n",
       "    <tr>\n",
       "      <th>...</th>\n",
       "      <td>...</td>\n",
       "      <td>...</td>\n",
       "      <td>...</td>\n",
       "    </tr>\n",
       "    <tr>\n",
       "      <th>147</th>\n",
       "      <td>121</td>\n",
       "      <td>전라북도 임실군</td>\n",
       "      <td>70</td>\n",
       "    </tr>\n",
       "    <tr>\n",
       "      <th>148</th>\n",
       "      <td>108</td>\n",
       "      <td>전라남도 장흥군</td>\n",
       "      <td>43</td>\n",
       "    </tr>\n",
       "    <tr>\n",
       "      <th>149</th>\n",
       "      <td>29</td>\n",
       "      <td>경상남도 거창군</td>\n",
       "      <td>40</td>\n",
       "    </tr>\n",
       "    <tr>\n",
       "      <th>150</th>\n",
       "      <td>31</td>\n",
       "      <td>경상남도 남해군</td>\n",
       "      <td>40</td>\n",
       "    </tr>\n",
       "    <tr>\n",
       "      <th>151</th>\n",
       "      <td>134</td>\n",
       "      <td>충청남도 보령시</td>\n",
       "      <td>36</td>\n",
       "    </tr>\n",
       "  </tbody>\n",
       "</table>\n",
       "<p>152 rows × 3 columns</p>\n",
       "</div>"
      ],
      "text/plain": [
       "     index       산지명      거래량\n",
       "0      109  전라남도 진도군  2049449\n",
       "1      102  전라남도 신안군  1607819\n",
       "2       11   경기도 구리시   364288\n",
       "3       70     부산광역시   317795\n",
       "4      150  충청북도 청주시   292296\n",
       "..     ...       ...      ...\n",
       "147    121  전라북도 임실군       70\n",
       "148    108  전라남도 장흥군       43\n",
       "149     29  경상남도 거창군       40\n",
       "150     31  경상남도 남해군       40\n",
       "151    134  충청남도 보령시       36\n",
       "\n",
       "[152 rows x 3 columns]"
      ]
     },
     "execution_count": 58,
     "metadata": {},
     "output_type": "execute_result"
    }
   ],
   "source": [
    "asc_df_MTV = sum_trading_volume.sort_values('거래량', ascending=False).reset_index()\n",
    "asc_df_MTV"
   ]
  },
  {
   "cell_type": "code",
   "execution_count": 59,
   "metadata": {},
   "outputs": [
    {
     "data": {
      "text/plain": [
       "index                                                11476\n",
       "산지명      전라남도 진도군전라남도 신안군경기도 구리시부산광역시충청북도 청주시전라남도 영광군전라...\n",
       "거래량                                                8876265\n",
       "dtype: object"
      ]
     },
     "execution_count": 59,
     "metadata": {},
     "output_type": "execute_result"
    }
   ],
   "source": [
    "asc_df_MTV.sum()"
   ]
  },
  {
   "cell_type": "code",
   "execution_count": 60,
   "metadata": {},
   "outputs": [],
   "source": [
    "asc_df_MTV.loc[\"Total\", :] = asc_df_MTV.sum()\n",
    "#거래량 합계 total 행 추가"
   ]
  },
  {
   "cell_type": "code",
   "execution_count": 61,
   "metadata": {
    "scrolled": true
   },
   "outputs": [
    {
     "data": {
      "text/html": [
       "<div>\n",
       "<style scoped>\n",
       "    .dataframe tbody tr th:only-of-type {\n",
       "        vertical-align: middle;\n",
       "    }\n",
       "\n",
       "    .dataframe tbody tr th {\n",
       "        vertical-align: top;\n",
       "    }\n",
       "\n",
       "    .dataframe thead th {\n",
       "        text-align: right;\n",
       "    }\n",
       "</style>\n",
       "<table border=\"1\" class=\"dataframe\">\n",
       "  <thead>\n",
       "    <tr style=\"text-align: right;\">\n",
       "      <th></th>\n",
       "      <th>index</th>\n",
       "      <th>산지명</th>\n",
       "      <th>거래량</th>\n",
       "    </tr>\n",
       "  </thead>\n",
       "  <tbody>\n",
       "    <tr>\n",
       "      <th>0</th>\n",
       "      <td>109.0</td>\n",
       "      <td>전라남도 진도군</td>\n",
       "      <td>2049449.0</td>\n",
       "    </tr>\n",
       "    <tr>\n",
       "      <th>1</th>\n",
       "      <td>102.0</td>\n",
       "      <td>전라남도 신안군</td>\n",
       "      <td>1607819.0</td>\n",
       "    </tr>\n",
       "    <tr>\n",
       "      <th>2</th>\n",
       "      <td>11.0</td>\n",
       "      <td>경기도 구리시</td>\n",
       "      <td>364288.0</td>\n",
       "    </tr>\n",
       "    <tr>\n",
       "      <th>3</th>\n",
       "      <td>70.0</td>\n",
       "      <td>부산광역시</td>\n",
       "      <td>317795.0</td>\n",
       "    </tr>\n",
       "    <tr>\n",
       "      <th>4</th>\n",
       "      <td>150.0</td>\n",
       "      <td>충청북도 청주시</td>\n",
       "      <td>292296.0</td>\n",
       "    </tr>\n",
       "    <tr>\n",
       "      <th>...</th>\n",
       "      <td>...</td>\n",
       "      <td>...</td>\n",
       "      <td>...</td>\n",
       "    </tr>\n",
       "    <tr>\n",
       "      <th>148</th>\n",
       "      <td>108.0</td>\n",
       "      <td>전라남도 장흥군</td>\n",
       "      <td>43.0</td>\n",
       "    </tr>\n",
       "    <tr>\n",
       "      <th>149</th>\n",
       "      <td>29.0</td>\n",
       "      <td>경상남도 거창군</td>\n",
       "      <td>40.0</td>\n",
       "    </tr>\n",
       "    <tr>\n",
       "      <th>150</th>\n",
       "      <td>31.0</td>\n",
       "      <td>경상남도 남해군</td>\n",
       "      <td>40.0</td>\n",
       "    </tr>\n",
       "    <tr>\n",
       "      <th>151</th>\n",
       "      <td>134.0</td>\n",
       "      <td>충청남도 보령시</td>\n",
       "      <td>36.0</td>\n",
       "    </tr>\n",
       "    <tr>\n",
       "      <th>Total</th>\n",
       "      <td>11476.0</td>\n",
       "      <td>전라남도 진도군전라남도 신안군경기도 구리시부산광역시충청북도 청주시전라남도 영광군전라...</td>\n",
       "      <td>8876265.0</td>\n",
       "    </tr>\n",
       "  </tbody>\n",
       "</table>\n",
       "<p>153 rows × 3 columns</p>\n",
       "</div>"
      ],
      "text/plain": [
       "         index                                                산지명        거래량\n",
       "0        109.0                                           전라남도 진도군  2049449.0\n",
       "1        102.0                                           전라남도 신안군  1607819.0\n",
       "2         11.0                                            경기도 구리시   364288.0\n",
       "3         70.0                                              부산광역시   317795.0\n",
       "4        150.0                                           충청북도 청주시   292296.0\n",
       "...        ...                                                ...        ...\n",
       "148      108.0                                           전라남도 장흥군       43.0\n",
       "149       29.0                                           경상남도 거창군       40.0\n",
       "150       31.0                                           경상남도 남해군       40.0\n",
       "151      134.0                                           충청남도 보령시       36.0\n",
       "Total  11476.0  전라남도 진도군전라남도 신안군경기도 구리시부산광역시충청북도 청주시전라남도 영광군전라...  8876265.0\n",
       "\n",
       "[153 rows x 3 columns]"
      ]
     },
     "execution_count": 61,
     "metadata": {},
     "output_type": "execute_result"
    }
   ],
   "source": [
    "asc_df_MTV"
   ]
  },
  {
   "cell_type": "code",
   "execution_count": 62,
   "metadata": {},
   "outputs": [],
   "source": [
    "Total_trading1 = asc_df_MTV.iloc[[-1], :]\n",
    "#total행 선택"
   ]
  },
  {
   "cell_type": "code",
   "execution_count": 63,
   "metadata": {},
   "outputs": [],
   "source": [
    "Total_trading1.rename(index={'Total':'2020_01'}, inplace=True)\n",
    "#total행 이름 변경"
   ]
  },
  {
   "cell_type": "code",
   "execution_count": 64,
   "metadata": {},
   "outputs": [
    {
     "data": {
      "text/html": [
       "<div>\n",
       "<style scoped>\n",
       "    .dataframe tbody tr th:only-of-type {\n",
       "        vertical-align: middle;\n",
       "    }\n",
       "\n",
       "    .dataframe tbody tr th {\n",
       "        vertical-align: top;\n",
       "    }\n",
       "\n",
       "    .dataframe thead th {\n",
       "        text-align: right;\n",
       "    }\n",
       "</style>\n",
       "<table border=\"1\" class=\"dataframe\">\n",
       "  <thead>\n",
       "    <tr style=\"text-align: right;\">\n",
       "      <th></th>\n",
       "      <th>index</th>\n",
       "      <th>산지명</th>\n",
       "      <th>거래량</th>\n",
       "    </tr>\n",
       "  </thead>\n",
       "  <tbody>\n",
       "    <tr>\n",
       "      <th>2020_01</th>\n",
       "      <td>11476.0</td>\n",
       "      <td>전라남도 진도군전라남도 신안군경기도 구리시부산광역시충청북도 청주시전라남도 영광군전라...</td>\n",
       "      <td>8876265.0</td>\n",
       "    </tr>\n",
       "  </tbody>\n",
       "</table>\n",
       "</div>"
      ],
      "text/plain": [
       "           index                                                산지명        거래량\n",
       "2020_01  11476.0  전라남도 진도군전라남도 신안군경기도 구리시부산광역시충청북도 청주시전라남도 영광군전라...  8876265.0"
      ]
     },
     "execution_count": 64,
     "metadata": {},
     "output_type": "execute_result"
    }
   ],
   "source": [
    "Total_trading1"
   ]
  },
  {
   "cell_type": "code",
   "execution_count": 65,
   "metadata": {},
   "outputs": [],
   "source": [
    "Total_trading2 = asc_df_MTV2.iloc[[-1], :]"
   ]
  },
  {
   "cell_type": "code",
   "execution_count": 66,
   "metadata": {},
   "outputs": [],
   "source": [
    "Total_trading2.rename(index={'Total':'2021_01'}, inplace=True)"
   ]
  },
  {
   "cell_type": "code",
   "execution_count": 67,
   "metadata": {},
   "outputs": [
    {
     "data": {
      "text/html": [
       "<div>\n",
       "<style scoped>\n",
       "    .dataframe tbody tr th:only-of-type {\n",
       "        vertical-align: middle;\n",
       "    }\n",
       "\n",
       "    .dataframe tbody tr th {\n",
       "        vertical-align: top;\n",
       "    }\n",
       "\n",
       "    .dataframe thead th {\n",
       "        text-align: right;\n",
       "    }\n",
       "</style>\n",
       "<table border=\"1\" class=\"dataframe\">\n",
       "  <thead>\n",
       "    <tr style=\"text-align: right;\">\n",
       "      <th></th>\n",
       "      <th>index</th>\n",
       "      <th>산지명</th>\n",
       "      <th>거래량</th>\n",
       "    </tr>\n",
       "  </thead>\n",
       "  <tbody>\n",
       "    <tr>\n",
       "      <th>2021_01</th>\n",
       "      <td>8646.0</td>\n",
       "      <td>전라남도 진도군전라남도 신안군부산광역시경기도 구리시충청북도 청주시부산광역시 중구경상...</td>\n",
       "      <td>13978720.0</td>\n",
       "    </tr>\n",
       "  </tbody>\n",
       "</table>\n",
       "</div>"
      ],
      "text/plain": [
       "          index                                                산지명         거래량\n",
       "2021_01  8646.0  전라남도 진도군전라남도 신안군부산광역시경기도 구리시충청북도 청주시부산광역시 중구경상...  13978720.0"
      ]
     },
     "execution_count": 67,
     "metadata": {},
     "output_type": "execute_result"
    }
   ],
   "source": [
    "Total_trading2"
   ]
  },
  {
   "cell_type": "code",
   "execution_count": 68,
   "metadata": {},
   "outputs": [],
   "source": [
    "Total_trading3 = asc_df_MTV3.iloc[[-1], :]"
   ]
  },
  {
   "cell_type": "code",
   "execution_count": 69,
   "metadata": {},
   "outputs": [],
   "source": [
    "Total_trading3.rename(index={'Total':'2020_02'}, inplace=True)"
   ]
  },
  {
   "cell_type": "code",
   "execution_count": 70,
   "metadata": {},
   "outputs": [
    {
     "data": {
      "text/html": [
       "<div>\n",
       "<style scoped>\n",
       "    .dataframe tbody tr th:only-of-type {\n",
       "        vertical-align: middle;\n",
       "    }\n",
       "\n",
       "    .dataframe tbody tr th {\n",
       "        vertical-align: top;\n",
       "    }\n",
       "\n",
       "    .dataframe thead th {\n",
       "        text-align: right;\n",
       "    }\n",
       "</style>\n",
       "<table border=\"1\" class=\"dataframe\">\n",
       "  <thead>\n",
       "    <tr style=\"text-align: right;\">\n",
       "      <th></th>\n",
       "      <th>index</th>\n",
       "      <th>산지명</th>\n",
       "      <th>거래량</th>\n",
       "    </tr>\n",
       "  </thead>\n",
       "  <tbody>\n",
       "    <tr>\n",
       "      <th>2020_02</th>\n",
       "      <td>10011.0</td>\n",
       "      <td>전라남도 진도군전라남도 신안군경기도 구리시부산광역시부산광역시 강서구충청북도 청주시전...</td>\n",
       "      <td>8566983.0</td>\n",
       "    </tr>\n",
       "  </tbody>\n",
       "</table>\n",
       "</div>"
      ],
      "text/plain": [
       "           index                                                산지명        거래량\n",
       "2020_02  10011.0  전라남도 진도군전라남도 신안군경기도 구리시부산광역시부산광역시 강서구충청북도 청주시전...  8566983.0"
      ]
     },
     "execution_count": 70,
     "metadata": {},
     "output_type": "execute_result"
    }
   ],
   "source": [
    "Total_trading3"
   ]
  },
  {
   "cell_type": "code",
   "execution_count": 71,
   "metadata": {},
   "outputs": [],
   "source": [
    "Total_trading4 = asc_df_MTV4.iloc[[-1], :]"
   ]
  },
  {
   "cell_type": "code",
   "execution_count": 72,
   "metadata": {},
   "outputs": [],
   "source": [
    "Total_trading4.rename(index={'Total':'2021_02'}, inplace=True)"
   ]
  },
  {
   "cell_type": "code",
   "execution_count": 73,
   "metadata": {},
   "outputs": [
    {
     "data": {
      "text/html": [
       "<div>\n",
       "<style scoped>\n",
       "    .dataframe tbody tr th:only-of-type {\n",
       "        vertical-align: middle;\n",
       "    }\n",
       "\n",
       "    .dataframe tbody tr th {\n",
       "        vertical-align: top;\n",
       "    }\n",
       "\n",
       "    .dataframe thead th {\n",
       "        text-align: right;\n",
       "    }\n",
       "</style>\n",
       "<table border=\"1\" class=\"dataframe\">\n",
       "  <thead>\n",
       "    <tr style=\"text-align: right;\">\n",
       "      <th></th>\n",
       "      <th>index</th>\n",
       "      <th>산지명</th>\n",
       "      <th>거래량</th>\n",
       "    </tr>\n",
       "  </thead>\n",
       "  <tbody>\n",
       "    <tr>\n",
       "      <th>2021_02</th>\n",
       "      <td>7260.0</td>\n",
       "      <td>전라남도 신안군전라남도 진도군부산광역시경기도 구리시경상남도 김해시부산광역시 중구경기...</td>\n",
       "      <td>11881718.0</td>\n",
       "    </tr>\n",
       "  </tbody>\n",
       "</table>\n",
       "</div>"
      ],
      "text/plain": [
       "          index                                                산지명         거래량\n",
       "2021_02  7260.0  전라남도 신안군전라남도 진도군부산광역시경기도 구리시경상남도 김해시부산광역시 중구경기...  11881718.0"
      ]
     },
     "execution_count": 73,
     "metadata": {},
     "output_type": "execute_result"
    }
   ],
   "source": [
    "Total_trading4"
   ]
  },
  {
   "cell_type": "code",
   "execution_count": 74,
   "metadata": {},
   "outputs": [],
   "source": [
    "\n",
    "Total_trading5 = asc_df_MTV5.iloc[[-1], :]"
   ]
  },
  {
   "cell_type": "code",
   "execution_count": 75,
   "metadata": {},
   "outputs": [],
   "source": [
    "Total_trading5.rename(index={'Total':'2020_03'}, inplace=True)"
   ]
  },
  {
   "cell_type": "code",
   "execution_count": 76,
   "metadata": {},
   "outputs": [
    {
     "data": {
      "text/html": [
       "<div>\n",
       "<style scoped>\n",
       "    .dataframe tbody tr th:only-of-type {\n",
       "        vertical-align: middle;\n",
       "    }\n",
       "\n",
       "    .dataframe tbody tr th {\n",
       "        vertical-align: top;\n",
       "    }\n",
       "\n",
       "    .dataframe thead th {\n",
       "        text-align: right;\n",
       "    }\n",
       "</style>\n",
       "<table border=\"1\" class=\"dataframe\">\n",
       "  <thead>\n",
       "    <tr style=\"text-align: right;\">\n",
       "      <th></th>\n",
       "      <th>index</th>\n",
       "      <th>산지명</th>\n",
       "      <th>거래량</th>\n",
       "    </tr>\n",
       "  </thead>\n",
       "  <tbody>\n",
       "    <tr>\n",
       "      <th>2020_03</th>\n",
       "      <td>7626.0</td>\n",
       "      <td>전라남도 신안군전라남도 진도군경기도 구리시부산광역시부산광역시 강서구서울특별시 송파구...</td>\n",
       "      <td>3799885.0</td>\n",
       "    </tr>\n",
       "  </tbody>\n",
       "</table>\n",
       "</div>"
      ],
      "text/plain": [
       "          index                                                산지명        거래량\n",
       "2020_03  7626.0  전라남도 신안군전라남도 진도군경기도 구리시부산광역시부산광역시 강서구서울특별시 송파구...  3799885.0"
      ]
     },
     "execution_count": 76,
     "metadata": {},
     "output_type": "execute_result"
    }
   ],
   "source": [
    "Total_trading5"
   ]
  },
  {
   "cell_type": "code",
   "execution_count": 77,
   "metadata": {},
   "outputs": [],
   "source": [
    "Total_trading6 = asc_df_MTV6.iloc[[-1], :]"
   ]
  },
  {
   "cell_type": "code",
   "execution_count": 78,
   "metadata": {},
   "outputs": [],
   "source": [
    "Total_trading6.rename(index={'Total':'2021_03'}, inplace=True)"
   ]
  },
  {
   "cell_type": "code",
   "execution_count": 79,
   "metadata": {},
   "outputs": [
    {
     "data": {
      "text/html": [
       "<div>\n",
       "<style scoped>\n",
       "    .dataframe tbody tr th:only-of-type {\n",
       "        vertical-align: middle;\n",
       "    }\n",
       "\n",
       "    .dataframe tbody tr th {\n",
       "        vertical-align: top;\n",
       "    }\n",
       "\n",
       "    .dataframe thead th {\n",
       "        text-align: right;\n",
       "    }\n",
       "</style>\n",
       "<table border=\"1\" class=\"dataframe\">\n",
       "  <thead>\n",
       "    <tr style=\"text-align: right;\">\n",
       "      <th></th>\n",
       "      <th>index</th>\n",
       "      <th>산지명</th>\n",
       "      <th>거래량</th>\n",
       "    </tr>\n",
       "  </thead>\n",
       "  <tbody>\n",
       "    <tr>\n",
       "      <th>2021_03</th>\n",
       "      <td>6670.0</td>\n",
       "      <td>전라남도 신안군전라남도 진도군부산광역시경기도 구리시서울특별시 송파구경상남도 김해시부...</td>\n",
       "      <td>6405142.0</td>\n",
       "    </tr>\n",
       "  </tbody>\n",
       "</table>\n",
       "</div>"
      ],
      "text/plain": [
       "          index                                                산지명        거래량\n",
       "2021_03  6670.0  전라남도 신안군전라남도 진도군부산광역시경기도 구리시서울특별시 송파구경상남도 김해시부...  6405142.0"
      ]
     },
     "execution_count": 79,
     "metadata": {},
     "output_type": "execute_result"
    }
   ],
   "source": [
    "Total_trading6"
   ]
  },
  {
   "cell_type": "code",
   "execution_count": 80,
   "metadata": {},
   "outputs": [],
   "source": [
    "#각 연월 거래량 합계 merge\n",
    "result = pd.concat([Total_trading1,Total_trading2,Total_trading3,Total_trading4,Total_trading5,Total_trading6])"
   ]
  },
  {
   "cell_type": "code",
   "execution_count": 81,
   "metadata": {},
   "outputs": [
    {
     "data": {
      "text/html": [
       "<div>\n",
       "<style scoped>\n",
       "    .dataframe tbody tr th:only-of-type {\n",
       "        vertical-align: middle;\n",
       "    }\n",
       "\n",
       "    .dataframe tbody tr th {\n",
       "        vertical-align: top;\n",
       "    }\n",
       "\n",
       "    .dataframe thead th {\n",
       "        text-align: right;\n",
       "    }\n",
       "</style>\n",
       "<table border=\"1\" class=\"dataframe\">\n",
       "  <thead>\n",
       "    <tr style=\"text-align: right;\">\n",
       "      <th></th>\n",
       "      <th>index</th>\n",
       "      <th>산지명</th>\n",
       "      <th>거래량</th>\n",
       "    </tr>\n",
       "  </thead>\n",
       "  <tbody>\n",
       "    <tr>\n",
       "      <th>2020_01</th>\n",
       "      <td>11476.0</td>\n",
       "      <td>전라남도 진도군전라남도 신안군경기도 구리시부산광역시충청북도 청주시전라남도 영광군전라...</td>\n",
       "      <td>8876265.0</td>\n",
       "    </tr>\n",
       "    <tr>\n",
       "      <th>2021_01</th>\n",
       "      <td>8646.0</td>\n",
       "      <td>전라남도 진도군전라남도 신안군부산광역시경기도 구리시충청북도 청주시부산광역시 중구경상...</td>\n",
       "      <td>13978720.0</td>\n",
       "    </tr>\n",
       "    <tr>\n",
       "      <th>2020_02</th>\n",
       "      <td>10011.0</td>\n",
       "      <td>전라남도 진도군전라남도 신안군경기도 구리시부산광역시부산광역시 강서구충청북도 청주시전...</td>\n",
       "      <td>8566983.0</td>\n",
       "    </tr>\n",
       "    <tr>\n",
       "      <th>2021_02</th>\n",
       "      <td>7260.0</td>\n",
       "      <td>전라남도 신안군전라남도 진도군부산광역시경기도 구리시경상남도 김해시부산광역시 중구경기...</td>\n",
       "      <td>11881718.0</td>\n",
       "    </tr>\n",
       "    <tr>\n",
       "      <th>2020_03</th>\n",
       "      <td>7626.0</td>\n",
       "      <td>전라남도 신안군전라남도 진도군경기도 구리시부산광역시부산광역시 강서구서울특별시 송파구...</td>\n",
       "      <td>3799885.0</td>\n",
       "    </tr>\n",
       "    <tr>\n",
       "      <th>2021_03</th>\n",
       "      <td>6670.0</td>\n",
       "      <td>전라남도 신안군전라남도 진도군부산광역시경기도 구리시서울특별시 송파구경상남도 김해시부...</td>\n",
       "      <td>6405142.0</td>\n",
       "    </tr>\n",
       "  </tbody>\n",
       "</table>\n",
       "</div>"
      ],
      "text/plain": [
       "           index                                                산지명  \\\n",
       "2020_01  11476.0  전라남도 진도군전라남도 신안군경기도 구리시부산광역시충청북도 청주시전라남도 영광군전라...   \n",
       "2021_01   8646.0  전라남도 진도군전라남도 신안군부산광역시경기도 구리시충청북도 청주시부산광역시 중구경상...   \n",
       "2020_02  10011.0  전라남도 진도군전라남도 신안군경기도 구리시부산광역시부산광역시 강서구충청북도 청주시전...   \n",
       "2021_02   7260.0  전라남도 신안군전라남도 진도군부산광역시경기도 구리시경상남도 김해시부산광역시 중구경기...   \n",
       "2020_03   7626.0  전라남도 신안군전라남도 진도군경기도 구리시부산광역시부산광역시 강서구서울특별시 송파구...   \n",
       "2021_03   6670.0  전라남도 신안군전라남도 진도군부산광역시경기도 구리시서울특별시 송파구경상남도 김해시부...   \n",
       "\n",
       "                거래량  \n",
       "2020_01   8876265.0  \n",
       "2021_01  13978720.0  \n",
       "2020_02   8566983.0  \n",
       "2021_02  11881718.0  \n",
       "2020_03   3799885.0  \n",
       "2021_03   6405142.0  "
      ]
     },
     "execution_count": 81,
     "metadata": {},
     "output_type": "execute_result"
    }
   ],
   "source": [
    "result"
   ]
  },
  {
   "cell_type": "code",
   "execution_count": 82,
   "metadata": {},
   "outputs": [],
   "source": [
    "#시각화하기 위한 index 설정\n",
    "result2 = result.reset_index()"
   ]
  },
  {
   "cell_type": "code",
   "execution_count": 83,
   "metadata": {},
   "outputs": [
    {
     "data": {
      "text/html": [
       "<div>\n",
       "<style scoped>\n",
       "    .dataframe tbody tr th:only-of-type {\n",
       "        vertical-align: middle;\n",
       "    }\n",
       "\n",
       "    .dataframe tbody tr th {\n",
       "        vertical-align: top;\n",
       "    }\n",
       "\n",
       "    .dataframe thead th {\n",
       "        text-align: right;\n",
       "    }\n",
       "</style>\n",
       "<table border=\"1\" class=\"dataframe\">\n",
       "  <thead>\n",
       "    <tr style=\"text-align: right;\">\n",
       "      <th></th>\n",
       "      <th>level_0</th>\n",
       "      <th>index</th>\n",
       "      <th>산지명</th>\n",
       "      <th>거래량</th>\n",
       "    </tr>\n",
       "  </thead>\n",
       "  <tbody>\n",
       "    <tr>\n",
       "      <th>0</th>\n",
       "      <td>2020_01</td>\n",
       "      <td>11476.0</td>\n",
       "      <td>전라남도 진도군전라남도 신안군경기도 구리시부산광역시충청북도 청주시전라남도 영광군전라...</td>\n",
       "      <td>8876265.0</td>\n",
       "    </tr>\n",
       "    <tr>\n",
       "      <th>1</th>\n",
       "      <td>2021_01</td>\n",
       "      <td>8646.0</td>\n",
       "      <td>전라남도 진도군전라남도 신안군부산광역시경기도 구리시충청북도 청주시부산광역시 중구경상...</td>\n",
       "      <td>13978720.0</td>\n",
       "    </tr>\n",
       "    <tr>\n",
       "      <th>2</th>\n",
       "      <td>2020_02</td>\n",
       "      <td>10011.0</td>\n",
       "      <td>전라남도 진도군전라남도 신안군경기도 구리시부산광역시부산광역시 강서구충청북도 청주시전...</td>\n",
       "      <td>8566983.0</td>\n",
       "    </tr>\n",
       "    <tr>\n",
       "      <th>3</th>\n",
       "      <td>2021_02</td>\n",
       "      <td>7260.0</td>\n",
       "      <td>전라남도 신안군전라남도 진도군부산광역시경기도 구리시경상남도 김해시부산광역시 중구경기...</td>\n",
       "      <td>11881718.0</td>\n",
       "    </tr>\n",
       "    <tr>\n",
       "      <th>4</th>\n",
       "      <td>2020_03</td>\n",
       "      <td>7626.0</td>\n",
       "      <td>전라남도 신안군전라남도 진도군경기도 구리시부산광역시부산광역시 강서구서울특별시 송파구...</td>\n",
       "      <td>3799885.0</td>\n",
       "    </tr>\n",
       "    <tr>\n",
       "      <th>5</th>\n",
       "      <td>2021_03</td>\n",
       "      <td>6670.0</td>\n",
       "      <td>전라남도 신안군전라남도 진도군부산광역시경기도 구리시서울특별시 송파구경상남도 김해시부...</td>\n",
       "      <td>6405142.0</td>\n",
       "    </tr>\n",
       "  </tbody>\n",
       "</table>\n",
       "</div>"
      ],
      "text/plain": [
       "   level_0    index                                                산지명  \\\n",
       "0  2020_01  11476.0  전라남도 진도군전라남도 신안군경기도 구리시부산광역시충청북도 청주시전라남도 영광군전라...   \n",
       "1  2021_01   8646.0  전라남도 진도군전라남도 신안군부산광역시경기도 구리시충청북도 청주시부산광역시 중구경상...   \n",
       "2  2020_02  10011.0  전라남도 진도군전라남도 신안군경기도 구리시부산광역시부산광역시 강서구충청북도 청주시전...   \n",
       "3  2021_02   7260.0  전라남도 신안군전라남도 진도군부산광역시경기도 구리시경상남도 김해시부산광역시 중구경기...   \n",
       "4  2020_03   7626.0  전라남도 신안군전라남도 진도군경기도 구리시부산광역시부산광역시 강서구서울특별시 송파구...   \n",
       "5  2021_03   6670.0  전라남도 신안군전라남도 진도군부산광역시경기도 구리시서울특별시 송파구경상남도 김해시부...   \n",
       "\n",
       "          거래량  \n",
       "0   8876265.0  \n",
       "1  13978720.0  \n",
       "2   8566983.0  \n",
       "3  11881718.0  \n",
       "4   3799885.0  \n",
       "5   6405142.0  "
      ]
     },
     "execution_count": 83,
     "metadata": {},
     "output_type": "execute_result"
    }
   ],
   "source": [
    "result2 #시각화 최종 데이터 "
   ]
  },
  {
   "cell_type": "markdown",
   "metadata": {},
   "source": [
    "### 꺾은 선 막대그래프 시각화로 변경하기 위한 데이터 프레임 수정 ###"
   ]
  },
  {
   "cell_type": "code",
   "execution_count": 84,
   "metadata": {},
   "outputs": [],
   "source": [
    "result2.drop(['index','산지명'], axis=1, inplace=True)#필요없는 칼럼 삭제"
   ]
  },
  {
   "cell_type": "code",
   "execution_count": 85,
   "metadata": {},
   "outputs": [],
   "source": [
    "result2[\"2021\"] = 6 # 컬럼 추가"
   ]
  },
  {
   "cell_type": "code",
   "execution_count": 86,
   "metadata": {},
   "outputs": [
    {
     "data": {
      "text/html": [
       "<div>\n",
       "<style scoped>\n",
       "    .dataframe tbody tr th:only-of-type {\n",
       "        vertical-align: middle;\n",
       "    }\n",
       "\n",
       "    .dataframe tbody tr th {\n",
       "        vertical-align: top;\n",
       "    }\n",
       "\n",
       "    .dataframe thead th {\n",
       "        text-align: right;\n",
       "    }\n",
       "</style>\n",
       "<table border=\"1\" class=\"dataframe\">\n",
       "  <thead>\n",
       "    <tr style=\"text-align: right;\">\n",
       "      <th></th>\n",
       "      <th>level_0</th>\n",
       "      <th>거래량</th>\n",
       "      <th>2021</th>\n",
       "    </tr>\n",
       "  </thead>\n",
       "  <tbody>\n",
       "    <tr>\n",
       "      <th>0</th>\n",
       "      <td>2020_01</td>\n",
       "      <td>8876265.0</td>\n",
       "      <td>6</td>\n",
       "    </tr>\n",
       "    <tr>\n",
       "      <th>1</th>\n",
       "      <td>2021_01</td>\n",
       "      <td>13978720.0</td>\n",
       "      <td>6</td>\n",
       "    </tr>\n",
       "    <tr>\n",
       "      <th>2</th>\n",
       "      <td>2020_02</td>\n",
       "      <td>8566983.0</td>\n",
       "      <td>6</td>\n",
       "    </tr>\n",
       "    <tr>\n",
       "      <th>3</th>\n",
       "      <td>2021_02</td>\n",
       "      <td>11881718.0</td>\n",
       "      <td>6</td>\n",
       "    </tr>\n",
       "    <tr>\n",
       "      <th>4</th>\n",
       "      <td>2020_03</td>\n",
       "      <td>3799885.0</td>\n",
       "      <td>6</td>\n",
       "    </tr>\n",
       "    <tr>\n",
       "      <th>5</th>\n",
       "      <td>2021_03</td>\n",
       "      <td>6405142.0</td>\n",
       "      <td>6</td>\n",
       "    </tr>\n",
       "  </tbody>\n",
       "</table>\n",
       "</div>"
      ],
      "text/plain": [
       "   level_0         거래량  2021\n",
       "0  2020_01   8876265.0     6\n",
       "1  2021_01  13978720.0     6\n",
       "2  2020_02   8566983.0     6\n",
       "3  2021_02  11881718.0     6\n",
       "4  2020_03   3799885.0     6\n",
       "5  2021_03   6405142.0     6"
      ]
     },
     "execution_count": 86,
     "metadata": {},
     "output_type": "execute_result"
    }
   ],
   "source": [
    "result2"
   ]
  },
  {
   "cell_type": "code",
   "execution_count": 87,
   "metadata": {},
   "outputs": [],
   "source": [
    "result2.rename(index={'거래량':'2020'}, inplace=True) #컬럼명 변경"
   ]
  },
  {
   "cell_type": "code",
   "execution_count": 88,
   "metadata": {},
   "outputs": [],
   "source": [
    "# 1. Index 기반 접근방법 \n",
    "result2.at[0,'level_0'] = '1월'\n",
    "# 0행, 'level_0'컬럼 값을 1월로 변경"
   ]
  },
  {
   "cell_type": "code",
   "execution_count": 89,
   "metadata": {},
   "outputs": [],
   "source": [
    "\n",
    "result2.at[2,'2021'] = '23763436'"
   ]
  },
  {
   "cell_type": "code",
   "execution_count": 90,
   "metadata": {},
   "outputs": [],
   "source": [
    "result2.at[4,'2021'] = '6405142'"
   ]
  },
  {
   "cell_type": "code",
   "execution_count": 91,
   "metadata": {},
   "outputs": [
    {
     "data": {
      "text/html": [
       "<div>\n",
       "<style scoped>\n",
       "    .dataframe tbody tr th:only-of-type {\n",
       "        vertical-align: middle;\n",
       "    }\n",
       "\n",
       "    .dataframe tbody tr th {\n",
       "        vertical-align: top;\n",
       "    }\n",
       "\n",
       "    .dataframe thead th {\n",
       "        text-align: right;\n",
       "    }\n",
       "</style>\n",
       "<table border=\"1\" class=\"dataframe\">\n",
       "  <thead>\n",
       "    <tr style=\"text-align: right;\">\n",
       "      <th></th>\n",
       "      <th>level_0</th>\n",
       "      <th>거래량</th>\n",
       "      <th>2021</th>\n",
       "    </tr>\n",
       "  </thead>\n",
       "  <tbody>\n",
       "    <tr>\n",
       "      <th>0</th>\n",
       "      <td>1월</td>\n",
       "      <td>8876265.0</td>\n",
       "      <td>6</td>\n",
       "    </tr>\n",
       "    <tr>\n",
       "      <th>1</th>\n",
       "      <td>2021_01</td>\n",
       "      <td>13978720.0</td>\n",
       "      <td>6</td>\n",
       "    </tr>\n",
       "    <tr>\n",
       "      <th>2</th>\n",
       "      <td>2020_02</td>\n",
       "      <td>8566983.0</td>\n",
       "      <td>23763436</td>\n",
       "    </tr>\n",
       "    <tr>\n",
       "      <th>3</th>\n",
       "      <td>2021_02</td>\n",
       "      <td>11881718.0</td>\n",
       "      <td>6</td>\n",
       "    </tr>\n",
       "    <tr>\n",
       "      <th>4</th>\n",
       "      <td>2020_03</td>\n",
       "      <td>3799885.0</td>\n",
       "      <td>6405142</td>\n",
       "    </tr>\n",
       "    <tr>\n",
       "      <th>5</th>\n",
       "      <td>2021_03</td>\n",
       "      <td>6405142.0</td>\n",
       "      <td>6</td>\n",
       "    </tr>\n",
       "  </tbody>\n",
       "</table>\n",
       "</div>"
      ],
      "text/plain": [
       "   level_0         거래량      2021\n",
       "0       1월   8876265.0         6\n",
       "1  2021_01  13978720.0         6\n",
       "2  2020_02   8566983.0  23763436\n",
       "3  2021_02  11881718.0         6\n",
       "4  2020_03   3799885.0   6405142\n",
       "5  2021_03   6405142.0         6"
      ]
     },
     "execution_count": 91,
     "metadata": {},
     "output_type": "execute_result"
    }
   ],
   "source": [
    "result2"
   ]
  },
  {
   "cell_type": "code",
   "execution_count": 92,
   "metadata": {},
   "outputs": [],
   "source": [
    "result3 = result2.drop([1,3,5], axis=0)#필요없는 행 삭제"
   ]
  },
  {
   "cell_type": "code",
   "execution_count": 93,
   "metadata": {},
   "outputs": [
    {
     "data": {
      "text/html": [
       "<div>\n",
       "<style scoped>\n",
       "    .dataframe tbody tr th:only-of-type {\n",
       "        vertical-align: middle;\n",
       "    }\n",
       "\n",
       "    .dataframe tbody tr th {\n",
       "        vertical-align: top;\n",
       "    }\n",
       "\n",
       "    .dataframe thead th {\n",
       "        text-align: right;\n",
       "    }\n",
       "</style>\n",
       "<table border=\"1\" class=\"dataframe\">\n",
       "  <thead>\n",
       "    <tr style=\"text-align: right;\">\n",
       "      <th></th>\n",
       "      <th>level_0</th>\n",
       "      <th>거래량</th>\n",
       "      <th>2021</th>\n",
       "    </tr>\n",
       "  </thead>\n",
       "  <tbody>\n",
       "    <tr>\n",
       "      <th>0</th>\n",
       "      <td>1월</td>\n",
       "      <td>8876265.0</td>\n",
       "      <td>6</td>\n",
       "    </tr>\n",
       "    <tr>\n",
       "      <th>2</th>\n",
       "      <td>2020_02</td>\n",
       "      <td>8566983.0</td>\n",
       "      <td>23763436</td>\n",
       "    </tr>\n",
       "    <tr>\n",
       "      <th>4</th>\n",
       "      <td>2020_03</td>\n",
       "      <td>3799885.0</td>\n",
       "      <td>6405142</td>\n",
       "    </tr>\n",
       "  </tbody>\n",
       "</table>\n",
       "</div>"
      ],
      "text/plain": [
       "   level_0        거래량      2021\n",
       "0       1월  8876265.0         6\n",
       "2  2020_02  8566983.0  23763436\n",
       "4  2020_03  3799885.0   6405142"
      ]
     },
     "execution_count": 93,
     "metadata": {},
     "output_type": "execute_result"
    }
   ],
   "source": [
    "result3"
   ]
  },
  {
   "cell_type": "code",
   "execution_count": 94,
   "metadata": {},
   "outputs": [],
   "source": [
    "result3.at[2,'level_0'] = '2월'\n",
    "result3.at[4,'level_0'] = '3월'"
   ]
  },
  {
   "cell_type": "code",
   "execution_count": 95,
   "metadata": {},
   "outputs": [],
   "source": [
    "result3.columns=['month','2020','2021'] #컬럼명 변경"
   ]
  },
  {
   "cell_type": "code",
   "execution_count": 96,
   "metadata": {},
   "outputs": [],
   "source": [
    "result4 = result3.reset_index()\n",
    "result4.drop(['index'], axis=1, inplace=True)#필요없는 칼럼 삭제\n"
   ]
  },
  {
   "cell_type": "code",
   "execution_count": 97,
   "metadata": {},
   "outputs": [
    {
     "data": {
      "text/plain": [
       "month     object\n",
       "2020     float64\n",
       "2021       int64\n",
       "dtype: object"
      ]
     },
     "execution_count": 97,
     "metadata": {},
     "output_type": "execute_result"
    }
   ],
   "source": [
    "result4.dtypes#타입확인"
   ]
  },
  {
   "cell_type": "code",
   "execution_count": 98,
   "metadata": {},
   "outputs": [],
   "source": [
    "result4 = result4.astype({'2020':'int'})#2020컬럼 정수 처리"
   ]
  },
  {
   "cell_type": "code",
   "execution_count": 99,
   "metadata": {},
   "outputs": [
    {
     "data": {
      "text/html": [
       "<div>\n",
       "<style scoped>\n",
       "    .dataframe tbody tr th:only-of-type {\n",
       "        vertical-align: middle;\n",
       "    }\n",
       "\n",
       "    .dataframe tbody tr th {\n",
       "        vertical-align: top;\n",
       "    }\n",
       "\n",
       "    .dataframe thead th {\n",
       "        text-align: right;\n",
       "    }\n",
       "</style>\n",
       "<table border=\"1\" class=\"dataframe\">\n",
       "  <thead>\n",
       "    <tr style=\"text-align: right;\">\n",
       "      <th></th>\n",
       "      <th>month</th>\n",
       "      <th>2020</th>\n",
       "      <th>2021</th>\n",
       "    </tr>\n",
       "  </thead>\n",
       "  <tbody>\n",
       "    <tr>\n",
       "      <th>0</th>\n",
       "      <td>1월</td>\n",
       "      <td>8876265</td>\n",
       "      <td>6</td>\n",
       "    </tr>\n",
       "    <tr>\n",
       "      <th>1</th>\n",
       "      <td>2월</td>\n",
       "      <td>8566983</td>\n",
       "      <td>23763436</td>\n",
       "    </tr>\n",
       "    <tr>\n",
       "      <th>2</th>\n",
       "      <td>3월</td>\n",
       "      <td>3799885</td>\n",
       "      <td>6405142</td>\n",
       "    </tr>\n",
       "  </tbody>\n",
       "</table>\n",
       "</div>"
      ],
      "text/plain": [
       "  month     2020      2021\n",
       "0    1월  8876265         6\n",
       "1    2월  8566983  23763436\n",
       "2    3월  3799885   6405142"
      ]
     },
     "execution_count": 99,
     "metadata": {},
     "output_type": "execute_result"
    }
   ],
   "source": [
    "result4#산지별 거래량으로 실 거래량합계랑 차이가 있음"
   ]
  },
  {
   "cell_type": "markdown",
   "metadata": {},
   "source": [
    "### 거래량 총합 ###"
   ]
  },
  {
   "cell_type": "code",
   "execution_count": 100,
   "metadata": {},
   "outputs": [
    {
     "data": {
      "text/plain": [
       "9114615"
      ]
     },
     "execution_count": 100,
     "metadata": {},
     "output_type": "execute_result"
    }
   ],
   "source": [
    "sum1 = Jan20['거래량'].sum()\n",
    "sum1"
   ]
  },
  {
   "cell_type": "code",
   "execution_count": 101,
   "metadata": {},
   "outputs": [
    {
     "data": {
      "text/plain": [
       "14394588"
      ]
     },
     "execution_count": 101,
     "metadata": {},
     "output_type": "execute_result"
    }
   ],
   "source": [
    "sum2 = Jan21['거래량'].sum()\n",
    "sum2"
   ]
  },
  {
   "cell_type": "code",
   "execution_count": 102,
   "metadata": {},
   "outputs": [
    {
     "data": {
      "text/plain": [
       "8712647"
      ]
     },
     "execution_count": 102,
     "metadata": {},
     "output_type": "execute_result"
    }
   ],
   "source": [
    "sum3 = Feb20['거래량'].sum()\n",
    "sum3"
   ]
  },
  {
   "cell_type": "code",
   "execution_count": 103,
   "metadata": {},
   "outputs": [
    {
     "data": {
      "text/plain": [
       "12299405"
      ]
     },
     "execution_count": 103,
     "metadata": {},
     "output_type": "execute_result"
    }
   ],
   "source": [
    "sum4 = Feb21['거래량'].sum()\n",
    "sum4"
   ]
  },
  {
   "cell_type": "code",
   "execution_count": 104,
   "metadata": {},
   "outputs": [
    {
     "data": {
      "text/plain": [
       "3872972"
      ]
     },
     "execution_count": 104,
     "metadata": {},
     "output_type": "execute_result"
    }
   ],
   "source": [
    "sum5 = Mar20['거래량'].sum()\n",
    "sum5"
   ]
  },
  {
   "cell_type": "code",
   "execution_count": 105,
   "metadata": {},
   "outputs": [
    {
     "data": {
      "text/plain": [
       "6601660"
      ]
     },
     "execution_count": 105,
     "metadata": {},
     "output_type": "execute_result"
    }
   ],
   "source": [
    "sum6 = Mar21['거래량'].sum()\n",
    "sum6"
   ]
  },
  {
   "cell_type": "code",
   "execution_count": 106,
   "metadata": {},
   "outputs": [
    {
     "data": {
      "text/html": [
       "<div>\n",
       "<style scoped>\n",
       "    .dataframe tbody tr th:only-of-type {\n",
       "        vertical-align: middle;\n",
       "    }\n",
       "\n",
       "    .dataframe tbody tr th {\n",
       "        vertical-align: top;\n",
       "    }\n",
       "\n",
       "    .dataframe thead th {\n",
       "        text-align: right;\n",
       "    }\n",
       "</style>\n",
       "<table border=\"1\" class=\"dataframe\">\n",
       "  <thead>\n",
       "    <tr style=\"text-align: right;\">\n",
       "      <th></th>\n",
       "      <th>month</th>\n",
       "      <th>2020</th>\n",
       "      <th>2021</th>\n",
       "    </tr>\n",
       "  </thead>\n",
       "  <tbody>\n",
       "    <tr>\n",
       "      <th>0</th>\n",
       "      <td>1월</td>\n",
       "      <td>9114615</td>\n",
       "      <td>14394588</td>\n",
       "    </tr>\n",
       "    <tr>\n",
       "      <th>1</th>\n",
       "      <td>2월</td>\n",
       "      <td>8712647</td>\n",
       "      <td>12299405</td>\n",
       "    </tr>\n",
       "    <tr>\n",
       "      <th>2</th>\n",
       "      <td>3월</td>\n",
       "      <td>3872972</td>\n",
       "      <td>6601660</td>\n",
       "    </tr>\n",
       "  </tbody>\n",
       "</table>\n",
       "</div>"
      ],
      "text/plain": [
       "  month     2020      2021\n",
       "0    1월  9114615  14394588\n",
       "1    2월  8712647  12299405\n",
       "2    3월  3872972   6601660"
      ]
     },
     "execution_count": 106,
     "metadata": {},
     "output_type": "execute_result"
    }
   ],
   "source": [
    "result4.at[0,'2020'] = '9114615'\n",
    "result4.at[0,'2021'] = '14394588'\n",
    "result4.at[1,'2020'] = '8712647'\n",
    "result4.at[1,'2021'] = '12299405'\n",
    "result4.at[2,'2020'] = '3872972'\n",
    "result4.at[2,'2021'] = '6601660'\n",
    "\n",
    "result4"
   ]
  },
  {
   "cell_type": "markdown",
   "metadata": {},
   "source": [
    "### 연도별 1~3월 산지별 거래량 합계 전처리 ### "
   ]
  },
  {
   "cell_type": "code",
   "execution_count": 50,
   "metadata": {},
   "outputs": [
    {
     "ename": "NameError",
     "evalue": "name 'result' is not defined",
     "output_type": "error",
     "traceback": [
      "\u001b[1;31m---------------------------------------------------------------------------\u001b[0m",
      "\u001b[1;31mNameError\u001b[0m                                 Traceback (most recent call last)",
      "\u001b[1;32m<ipython-input-50-effa4abd09db>\u001b[0m in \u001b[0;36m<module>\u001b[1;34m\u001b[0m\n\u001b[0;32m      1\u001b[0m \u001b[1;31m#인덱스, 산지명 제외\u001b[0m\u001b[1;33m\u001b[0m\u001b[1;33m\u001b[0m\u001b[1;33m\u001b[0m\u001b[0m\n\u001b[1;32m----> 2\u001b[1;33m \u001b[0mresult\u001b[0m\u001b[1;33m.\u001b[0m\u001b[0mdrop\u001b[0m\u001b[1;33m(\u001b[0m\u001b[1;33m[\u001b[0m\u001b[1;34m'index'\u001b[0m\u001b[1;33m,\u001b[0m\u001b[1;34m'산지명'\u001b[0m\u001b[1;33m]\u001b[0m\u001b[1;33m,\u001b[0m \u001b[0maxis\u001b[0m\u001b[1;33m=\u001b[0m\u001b[1;36m1\u001b[0m\u001b[1;33m,\u001b[0m \u001b[0minplace\u001b[0m\u001b[1;33m=\u001b[0m\u001b[1;32mTrue\u001b[0m\u001b[1;33m)\u001b[0m\u001b[1;33m\u001b[0m\u001b[1;33m\u001b[0m\u001b[0m\n\u001b[0m",
      "\u001b[1;31mNameError\u001b[0m: name 'result' is not defined"
     ]
    }
   ],
   "source": [
    "#인덱스, 산지명 제외\n",
    "result.drop(['index','산지명'], axis=1, inplace=True)"
   ]
  },
  {
   "cell_type": "code",
   "execution_count": 25,
   "metadata": {
    "scrolled": true
   },
   "outputs": [
    {
     "data": {
      "text/html": [
       "<div>\n",
       "<style scoped>\n",
       "    .dataframe tbody tr th:only-of-type {\n",
       "        vertical-align: middle;\n",
       "    }\n",
       "\n",
       "    .dataframe tbody tr th {\n",
       "        vertical-align: top;\n",
       "    }\n",
       "\n",
       "    .dataframe thead th {\n",
       "        text-align: right;\n",
       "    }\n",
       "</style>\n",
       "<table border=\"1\" class=\"dataframe\">\n",
       "  <thead>\n",
       "    <tr style=\"text-align: right;\">\n",
       "      <th></th>\n",
       "      <th>산지명</th>\n",
       "      <th>거래량</th>\n",
       "    </tr>\n",
       "  </thead>\n",
       "  <tbody>\n",
       "    <tr>\n",
       "      <th>0</th>\n",
       "      <td>강원도</td>\n",
       "      <td>400</td>\n",
       "    </tr>\n",
       "    <tr>\n",
       "      <th>1</th>\n",
       "      <td>강원도 강릉시</td>\n",
       "      <td>105596</td>\n",
       "    </tr>\n",
       "    <tr>\n",
       "      <th>2</th>\n",
       "      <td>강원도 고성군</td>\n",
       "      <td>34</td>\n",
       "    </tr>\n",
       "    <tr>\n",
       "      <th>3</th>\n",
       "      <td>강원도 동해시</td>\n",
       "      <td>2420</td>\n",
       "    </tr>\n",
       "    <tr>\n",
       "      <th>4</th>\n",
       "      <td>강원도 양양군</td>\n",
       "      <td>236820</td>\n",
       "    </tr>\n",
       "    <tr>\n",
       "      <th>...</th>\n",
       "      <td>...</td>\n",
       "      <td>...</td>\n",
       "    </tr>\n",
       "    <tr>\n",
       "      <th>127</th>\n",
       "      <td>충청북도 영동군</td>\n",
       "      <td>4006</td>\n",
       "    </tr>\n",
       "    <tr>\n",
       "      <th>128</th>\n",
       "      <td>충청북도 제천시</td>\n",
       "      <td>15126</td>\n",
       "    </tr>\n",
       "    <tr>\n",
       "      <th>129</th>\n",
       "      <td>충청북도 증평군</td>\n",
       "      <td>3280</td>\n",
       "    </tr>\n",
       "    <tr>\n",
       "      <th>130</th>\n",
       "      <td>충청북도 청주시</td>\n",
       "      <td>456604</td>\n",
       "    </tr>\n",
       "    <tr>\n",
       "      <th>131</th>\n",
       "      <td>충청북도 충주시</td>\n",
       "      <td>226594</td>\n",
       "    </tr>\n",
       "  </tbody>\n",
       "</table>\n",
       "<p>132 rows × 2 columns</p>\n",
       "</div>"
      ],
      "text/plain": [
       "          산지명     거래량\n",
       "0         강원도     400\n",
       "1     강원도 강릉시  105596\n",
       "2     강원도 고성군      34\n",
       "3     강원도 동해시    2420\n",
       "4     강원도 양양군  236820\n",
       "..        ...     ...\n",
       "127  충청북도 영동군    4006\n",
       "128  충청북도 제천시   15126\n",
       "129  충청북도 증평군    3280\n",
       "130  충청북도 청주시  456604\n",
       "131  충청북도 충주시  226594\n",
       "\n",
       "[132 rows x 2 columns]"
      ]
     },
     "execution_count": 25,
     "metadata": {},
     "output_type": "execute_result"
    }
   ],
   "source": [
    "sum_trading_volume2 = Jan21.groupby(Jan21['산지명'])['거래량'].sum().reset_index()\n",
    "#2020 1월 산지 별 거래량 합계\n",
    "sum_trading_volume2"
   ]
  },
  {
   "cell_type": "code",
   "execution_count": 26,
   "metadata": {},
   "outputs": [
    {
     "data": {
      "text/html": [
       "<div>\n",
       "<style scoped>\n",
       "    .dataframe tbody tr th:only-of-type {\n",
       "        vertical-align: middle;\n",
       "    }\n",
       "\n",
       "    .dataframe tbody tr th {\n",
       "        vertical-align: top;\n",
       "    }\n",
       "\n",
       "    .dataframe thead th {\n",
       "        text-align: right;\n",
       "    }\n",
       "</style>\n",
       "<table border=\"1\" class=\"dataframe\">\n",
       "  <thead>\n",
       "    <tr style=\"text-align: right;\">\n",
       "      <th></th>\n",
       "      <th>index</th>\n",
       "      <th>산지명</th>\n",
       "      <th>거래량</th>\n",
       "    </tr>\n",
       "  </thead>\n",
       "  <tbody>\n",
       "    <tr>\n",
       "      <th>0</th>\n",
       "      <td>98</td>\n",
       "      <td>전라남도 진도군</td>\n",
       "      <td>3743274</td>\n",
       "    </tr>\n",
       "    <tr>\n",
       "      <th>1</th>\n",
       "      <td>91</td>\n",
       "      <td>전라남도 신안군</td>\n",
       "      <td>2901246</td>\n",
       "    </tr>\n",
       "    <tr>\n",
       "      <th>2</th>\n",
       "      <td>63</td>\n",
       "      <td>부산광역시</td>\n",
       "      <td>659774</td>\n",
       "    </tr>\n",
       "    <tr>\n",
       "      <th>3</th>\n",
       "      <td>14</td>\n",
       "      <td>경기도 구리시</td>\n",
       "      <td>653652</td>\n",
       "    </tr>\n",
       "    <tr>\n",
       "      <th>4</th>\n",
       "      <td>130</td>\n",
       "      <td>충청북도 청주시</td>\n",
       "      <td>456604</td>\n",
       "    </tr>\n",
       "    <tr>\n",
       "      <th>...</th>\n",
       "      <td>...</td>\n",
       "      <td>...</td>\n",
       "      <td>...</td>\n",
       "    </tr>\n",
       "    <tr>\n",
       "      <th>127</th>\n",
       "      <td>62</td>\n",
       "      <td>대전광역시 중구</td>\n",
       "      <td>80</td>\n",
       "    </tr>\n",
       "    <tr>\n",
       "      <th>128</th>\n",
       "      <td>11</td>\n",
       "      <td>경기도</td>\n",
       "      <td>60</td>\n",
       "    </tr>\n",
       "    <tr>\n",
       "      <th>129</th>\n",
       "      <td>109</td>\n",
       "      <td>전라북도 정읍시</td>\n",
       "      <td>44</td>\n",
       "    </tr>\n",
       "    <tr>\n",
       "      <th>130</th>\n",
       "      <td>119</td>\n",
       "      <td>충청남도 서천군</td>\n",
       "      <td>36</td>\n",
       "    </tr>\n",
       "    <tr>\n",
       "      <th>131</th>\n",
       "      <td>2</td>\n",
       "      <td>강원도 고성군</td>\n",
       "      <td>34</td>\n",
       "    </tr>\n",
       "  </tbody>\n",
       "</table>\n",
       "<p>132 rows × 3 columns</p>\n",
       "</div>"
      ],
      "text/plain": [
       "     index       산지명      거래량\n",
       "0       98  전라남도 진도군  3743274\n",
       "1       91  전라남도 신안군  2901246\n",
       "2       63     부산광역시   659774\n",
       "3       14   경기도 구리시   653652\n",
       "4      130  충청북도 청주시   456604\n",
       "..     ...       ...      ...\n",
       "127     62  대전광역시 중구       80\n",
       "128     11       경기도       60\n",
       "129    109  전라북도 정읍시       44\n",
       "130    119  충청남도 서천군       36\n",
       "131      2   강원도 고성군       34\n",
       "\n",
       "[132 rows x 3 columns]"
      ]
     },
     "execution_count": 26,
     "metadata": {},
     "output_type": "execute_result"
    }
   ],
   "source": [
    "asc_df_MTV2 = sum_trading_volume2.sort_values('거래량', ascending=False).reset_index()\n",
    "asc_df_MTV2"
   ]
  },
  {
   "cell_type": "code",
   "execution_count": 27,
   "metadata": {
    "scrolled": true
   },
   "outputs": [
    {
     "data": {
      "text/plain": [
       "index                                                 8646\n",
       "산지명      전라남도 진도군전라남도 신안군부산광역시경기도 구리시충청북도 청주시부산광역시 중구경상...\n",
       "거래량                                               13978720\n",
       "dtype: object"
      ]
     },
     "execution_count": 27,
     "metadata": {},
     "output_type": "execute_result"
    }
   ],
   "source": [
    "asc_df_MTV2.sum()"
   ]
  },
  {
   "cell_type": "code",
   "execution_count": 28,
   "metadata": {},
   "outputs": [],
   "source": [
    "asc_df_MTV2.loc[\"Total\", :] = asc_df_MTV2.sum()"
   ]
  },
  {
   "cell_type": "code",
   "execution_count": 29,
   "metadata": {},
   "outputs": [
    {
     "data": {
      "text/html": [
       "<div>\n",
       "<style scoped>\n",
       "    .dataframe tbody tr th:only-of-type {\n",
       "        vertical-align: middle;\n",
       "    }\n",
       "\n",
       "    .dataframe tbody tr th {\n",
       "        vertical-align: top;\n",
       "    }\n",
       "\n",
       "    .dataframe thead th {\n",
       "        text-align: right;\n",
       "    }\n",
       "</style>\n",
       "<table border=\"1\" class=\"dataframe\">\n",
       "  <thead>\n",
       "    <tr style=\"text-align: right;\">\n",
       "      <th></th>\n",
       "      <th>index</th>\n",
       "      <th>산지명</th>\n",
       "      <th>거래량</th>\n",
       "    </tr>\n",
       "  </thead>\n",
       "  <tbody>\n",
       "    <tr>\n",
       "      <th>0</th>\n",
       "      <td>98.0</td>\n",
       "      <td>전라남도 진도군</td>\n",
       "      <td>3743274.0</td>\n",
       "    </tr>\n",
       "    <tr>\n",
       "      <th>1</th>\n",
       "      <td>91.0</td>\n",
       "      <td>전라남도 신안군</td>\n",
       "      <td>2901246.0</td>\n",
       "    </tr>\n",
       "    <tr>\n",
       "      <th>2</th>\n",
       "      <td>63.0</td>\n",
       "      <td>부산광역시</td>\n",
       "      <td>659774.0</td>\n",
       "    </tr>\n",
       "    <tr>\n",
       "      <th>3</th>\n",
       "      <td>14.0</td>\n",
       "      <td>경기도 구리시</td>\n",
       "      <td>653652.0</td>\n",
       "    </tr>\n",
       "    <tr>\n",
       "      <th>4</th>\n",
       "      <td>130.0</td>\n",
       "      <td>충청북도 청주시</td>\n",
       "      <td>456604.0</td>\n",
       "    </tr>\n",
       "    <tr>\n",
       "      <th>...</th>\n",
       "      <td>...</td>\n",
       "      <td>...</td>\n",
       "      <td>...</td>\n",
       "    </tr>\n",
       "    <tr>\n",
       "      <th>128</th>\n",
       "      <td>11.0</td>\n",
       "      <td>경기도</td>\n",
       "      <td>60.0</td>\n",
       "    </tr>\n",
       "    <tr>\n",
       "      <th>129</th>\n",
       "      <td>109.0</td>\n",
       "      <td>전라북도 정읍시</td>\n",
       "      <td>44.0</td>\n",
       "    </tr>\n",
       "    <tr>\n",
       "      <th>130</th>\n",
       "      <td>119.0</td>\n",
       "      <td>충청남도 서천군</td>\n",
       "      <td>36.0</td>\n",
       "    </tr>\n",
       "    <tr>\n",
       "      <th>131</th>\n",
       "      <td>2.0</td>\n",
       "      <td>강원도 고성군</td>\n",
       "      <td>34.0</td>\n",
       "    </tr>\n",
       "    <tr>\n",
       "      <th>Total</th>\n",
       "      <td>8646.0</td>\n",
       "      <td>전라남도 진도군전라남도 신안군부산광역시경기도 구리시충청북도 청주시부산광역시 중구경상...</td>\n",
       "      <td>13978720.0</td>\n",
       "    </tr>\n",
       "  </tbody>\n",
       "</table>\n",
       "<p>133 rows × 3 columns</p>\n",
       "</div>"
      ],
      "text/plain": [
       "        index                                                산지명         거래량\n",
       "0        98.0                                           전라남도 진도군   3743274.0\n",
       "1        91.0                                           전라남도 신안군   2901246.0\n",
       "2        63.0                                              부산광역시    659774.0\n",
       "3        14.0                                            경기도 구리시    653652.0\n",
       "4       130.0                                           충청북도 청주시    456604.0\n",
       "...       ...                                                ...         ...\n",
       "128      11.0                                                경기도        60.0\n",
       "129     109.0                                           전라북도 정읍시        44.0\n",
       "130     119.0                                           충청남도 서천군        36.0\n",
       "131       2.0                                            강원도 고성군        34.0\n",
       "Total  8646.0  전라남도 진도군전라남도 신안군부산광역시경기도 구리시충청북도 청주시부산광역시 중구경상...  13978720.0\n",
       "\n",
       "[133 rows x 3 columns]"
      ]
     },
     "execution_count": 29,
     "metadata": {},
     "output_type": "execute_result"
    }
   ],
   "source": [
    "asc_df_MTV2"
   ]
  },
  {
   "cell_type": "code",
   "execution_count": 30,
   "metadata": {
    "scrolled": true
   },
   "outputs": [
    {
     "data": {
      "text/html": [
       "<div>\n",
       "<style scoped>\n",
       "    .dataframe tbody tr th:only-of-type {\n",
       "        vertical-align: middle;\n",
       "    }\n",
       "\n",
       "    .dataframe tbody tr th {\n",
       "        vertical-align: top;\n",
       "    }\n",
       "\n",
       "    .dataframe thead th {\n",
       "        text-align: right;\n",
       "    }\n",
       "</style>\n",
       "<table border=\"1\" class=\"dataframe\">\n",
       "  <thead>\n",
       "    <tr style=\"text-align: right;\">\n",
       "      <th></th>\n",
       "      <th>산지명</th>\n",
       "      <th>거래량</th>\n",
       "    </tr>\n",
       "  </thead>\n",
       "  <tbody>\n",
       "    <tr>\n",
       "      <th>0</th>\n",
       "      <td>강원도 강릉시</td>\n",
       "      <td>47573</td>\n",
       "    </tr>\n",
       "    <tr>\n",
       "      <th>1</th>\n",
       "      <td>강원도 고성군</td>\n",
       "      <td>862</td>\n",
       "    </tr>\n",
       "    <tr>\n",
       "      <th>2</th>\n",
       "      <td>강원도 동해시</td>\n",
       "      <td>8330</td>\n",
       "    </tr>\n",
       "    <tr>\n",
       "      <th>3</th>\n",
       "      <td>강원도 원주시</td>\n",
       "      <td>5437</td>\n",
       "    </tr>\n",
       "    <tr>\n",
       "      <th>4</th>\n",
       "      <td>강원도 인제군</td>\n",
       "      <td>64065</td>\n",
       "    </tr>\n",
       "    <tr>\n",
       "      <th>...</th>\n",
       "      <td>...</td>\n",
       "      <td>...</td>\n",
       "    </tr>\n",
       "    <tr>\n",
       "      <th>137</th>\n",
       "      <td>충청북도 옥천군</td>\n",
       "      <td>511</td>\n",
       "    </tr>\n",
       "    <tr>\n",
       "      <th>138</th>\n",
       "      <td>충청북도 제천시</td>\n",
       "      <td>20793</td>\n",
       "    </tr>\n",
       "    <tr>\n",
       "      <th>139</th>\n",
       "      <td>충청북도 진천군</td>\n",
       "      <td>58</td>\n",
       "    </tr>\n",
       "    <tr>\n",
       "      <th>140</th>\n",
       "      <td>충청북도 청주시</td>\n",
       "      <td>188988</td>\n",
       "    </tr>\n",
       "    <tr>\n",
       "      <th>141</th>\n",
       "      <td>충청북도 충주시</td>\n",
       "      <td>52762</td>\n",
       "    </tr>\n",
       "  </tbody>\n",
       "</table>\n",
       "<p>142 rows × 2 columns</p>\n",
       "</div>"
      ],
      "text/plain": [
       "          산지명     거래량\n",
       "0     강원도 강릉시   47573\n",
       "1     강원도 고성군     862\n",
       "2     강원도 동해시    8330\n",
       "3     강원도 원주시    5437\n",
       "4     강원도 인제군   64065\n",
       "..        ...     ...\n",
       "137  충청북도 옥천군     511\n",
       "138  충청북도 제천시   20793\n",
       "139  충청북도 진천군      58\n",
       "140  충청북도 청주시  188988\n",
       "141  충청북도 충주시   52762\n",
       "\n",
       "[142 rows x 2 columns]"
      ]
     },
     "execution_count": 30,
     "metadata": {},
     "output_type": "execute_result"
    }
   ],
   "source": [
    "sum_trading_volume3 = Feb20.groupby(Feb20['산지명'])['거래량'].sum().reset_index()\n",
    "sum_trading_volume3"
   ]
  },
  {
   "cell_type": "code",
   "execution_count": 31,
   "metadata": {
    "scrolled": true
   },
   "outputs": [
    {
     "data": {
      "text/html": [
       "<div>\n",
       "<style scoped>\n",
       "    .dataframe tbody tr th:only-of-type {\n",
       "        vertical-align: middle;\n",
       "    }\n",
       "\n",
       "    .dataframe tbody tr th {\n",
       "        vertical-align: top;\n",
       "    }\n",
       "\n",
       "    .dataframe thead th {\n",
       "        text-align: right;\n",
       "    }\n",
       "</style>\n",
       "<table border=\"1\" class=\"dataframe\">\n",
       "  <thead>\n",
       "    <tr style=\"text-align: right;\">\n",
       "      <th></th>\n",
       "      <th>index</th>\n",
       "      <th>산지명</th>\n",
       "      <th>거래량</th>\n",
       "    </tr>\n",
       "  </thead>\n",
       "  <tbody>\n",
       "    <tr>\n",
       "      <th>0</th>\n",
       "      <td>104</td>\n",
       "      <td>전라남도 진도군</td>\n",
       "      <td>2107991</td>\n",
       "    </tr>\n",
       "    <tr>\n",
       "      <th>1</th>\n",
       "      <td>99</td>\n",
       "      <td>전라남도 신안군</td>\n",
       "      <td>1820322</td>\n",
       "    </tr>\n",
       "    <tr>\n",
       "      <th>2</th>\n",
       "      <td>10</td>\n",
       "      <td>경기도 구리시</td>\n",
       "      <td>434842</td>\n",
       "    </tr>\n",
       "    <tr>\n",
       "      <th>3</th>\n",
       "      <td>66</td>\n",
       "      <td>부산광역시</td>\n",
       "      <td>375417</td>\n",
       "    </tr>\n",
       "    <tr>\n",
       "      <th>4</th>\n",
       "      <td>67</td>\n",
       "      <td>부산광역시 강서구</td>\n",
       "      <td>228587</td>\n",
       "    </tr>\n",
       "    <tr>\n",
       "      <th>...</th>\n",
       "      <td>...</td>\n",
       "      <td>...</td>\n",
       "      <td>...</td>\n",
       "    </tr>\n",
       "    <tr>\n",
       "      <th>137</th>\n",
       "      <td>117</td>\n",
       "      <td>제주특별자치도</td>\n",
       "      <td>30</td>\n",
       "    </tr>\n",
       "    <tr>\n",
       "      <th>138</th>\n",
       "      <td>62</td>\n",
       "      <td>대구광역시 서구</td>\n",
       "      <td>25</td>\n",
       "    </tr>\n",
       "    <tr>\n",
       "      <th>139</th>\n",
       "      <td>28</td>\n",
       "      <td>경상남도 거창군</td>\n",
       "      <td>20</td>\n",
       "    </tr>\n",
       "    <tr>\n",
       "      <th>140</th>\n",
       "      <td>52</td>\n",
       "      <td>경상북도 의성군</td>\n",
       "      <td>17</td>\n",
       "    </tr>\n",
       "    <tr>\n",
       "      <th>141</th>\n",
       "      <td>29</td>\n",
       "      <td>경상남도 고성군</td>\n",
       "      <td>5</td>\n",
       "    </tr>\n",
       "  </tbody>\n",
       "</table>\n",
       "<p>142 rows × 3 columns</p>\n",
       "</div>"
      ],
      "text/plain": [
       "     index        산지명      거래량\n",
       "0      104   전라남도 진도군  2107991\n",
       "1       99   전라남도 신안군  1820322\n",
       "2       10    경기도 구리시   434842\n",
       "3       66      부산광역시   375417\n",
       "4       67  부산광역시 강서구   228587\n",
       "..     ...        ...      ...\n",
       "137    117    제주특별자치도       30\n",
       "138     62   대구광역시 서구       25\n",
       "139     28   경상남도 거창군       20\n",
       "140     52   경상북도 의성군       17\n",
       "141     29   경상남도 고성군        5\n",
       "\n",
       "[142 rows x 3 columns]"
      ]
     },
     "execution_count": 31,
     "metadata": {},
     "output_type": "execute_result"
    }
   ],
   "source": [
    "asc_df_MTV3 = sum_trading_volume3.sort_values('거래량', ascending=False).reset_index()\n",
    "asc_df_MTV3"
   ]
  },
  {
   "cell_type": "code",
   "execution_count": 32,
   "metadata": {},
   "outputs": [
    {
     "data": {
      "text/plain": [
       "index                                                10011\n",
       "산지명      전라남도 진도군전라남도 신안군경기도 구리시부산광역시부산광역시 강서구충청북도 청주시전...\n",
       "거래량                                                8566983\n",
       "dtype: object"
      ]
     },
     "execution_count": 32,
     "metadata": {},
     "output_type": "execute_result"
    }
   ],
   "source": [
    "asc_df_MTV3.sum()"
   ]
  },
  {
   "cell_type": "code",
   "execution_count": 33,
   "metadata": {},
   "outputs": [],
   "source": [
    "asc_df_MTV3.loc[\"Total\", :] = asc_df_MTV3.sum()"
   ]
  },
  {
   "cell_type": "code",
   "execution_count": 34,
   "metadata": {},
   "outputs": [
    {
     "data": {
      "text/html": [
       "<div>\n",
       "<style scoped>\n",
       "    .dataframe tbody tr th:only-of-type {\n",
       "        vertical-align: middle;\n",
       "    }\n",
       "\n",
       "    .dataframe tbody tr th {\n",
       "        vertical-align: top;\n",
       "    }\n",
       "\n",
       "    .dataframe thead th {\n",
       "        text-align: right;\n",
       "    }\n",
       "</style>\n",
       "<table border=\"1\" class=\"dataframe\">\n",
       "  <thead>\n",
       "    <tr style=\"text-align: right;\">\n",
       "      <th></th>\n",
       "      <th>index</th>\n",
       "      <th>산지명</th>\n",
       "      <th>거래량</th>\n",
       "    </tr>\n",
       "  </thead>\n",
       "  <tbody>\n",
       "    <tr>\n",
       "      <th>0</th>\n",
       "      <td>104.0</td>\n",
       "      <td>전라남도 진도군</td>\n",
       "      <td>2107991.0</td>\n",
       "    </tr>\n",
       "    <tr>\n",
       "      <th>1</th>\n",
       "      <td>99.0</td>\n",
       "      <td>전라남도 신안군</td>\n",
       "      <td>1820322.0</td>\n",
       "    </tr>\n",
       "    <tr>\n",
       "      <th>2</th>\n",
       "      <td>10.0</td>\n",
       "      <td>경기도 구리시</td>\n",
       "      <td>434842.0</td>\n",
       "    </tr>\n",
       "    <tr>\n",
       "      <th>3</th>\n",
       "      <td>66.0</td>\n",
       "      <td>부산광역시</td>\n",
       "      <td>375417.0</td>\n",
       "    </tr>\n",
       "    <tr>\n",
       "      <th>4</th>\n",
       "      <td>67.0</td>\n",
       "      <td>부산광역시 강서구</td>\n",
       "      <td>228587.0</td>\n",
       "    </tr>\n",
       "    <tr>\n",
       "      <th>...</th>\n",
       "      <td>...</td>\n",
       "      <td>...</td>\n",
       "      <td>...</td>\n",
       "    </tr>\n",
       "    <tr>\n",
       "      <th>138</th>\n",
       "      <td>62.0</td>\n",
       "      <td>대구광역시 서구</td>\n",
       "      <td>25.0</td>\n",
       "    </tr>\n",
       "    <tr>\n",
       "      <th>139</th>\n",
       "      <td>28.0</td>\n",
       "      <td>경상남도 거창군</td>\n",
       "      <td>20.0</td>\n",
       "    </tr>\n",
       "    <tr>\n",
       "      <th>140</th>\n",
       "      <td>52.0</td>\n",
       "      <td>경상북도 의성군</td>\n",
       "      <td>17.0</td>\n",
       "    </tr>\n",
       "    <tr>\n",
       "      <th>141</th>\n",
       "      <td>29.0</td>\n",
       "      <td>경상남도 고성군</td>\n",
       "      <td>5.0</td>\n",
       "    </tr>\n",
       "    <tr>\n",
       "      <th>Total</th>\n",
       "      <td>10011.0</td>\n",
       "      <td>전라남도 진도군전라남도 신안군경기도 구리시부산광역시부산광역시 강서구충청북도 청주시전...</td>\n",
       "      <td>8566983.0</td>\n",
       "    </tr>\n",
       "  </tbody>\n",
       "</table>\n",
       "<p>143 rows × 3 columns</p>\n",
       "</div>"
      ],
      "text/plain": [
       "         index                                                산지명        거래량\n",
       "0        104.0                                           전라남도 진도군  2107991.0\n",
       "1         99.0                                           전라남도 신안군  1820322.0\n",
       "2         10.0                                            경기도 구리시   434842.0\n",
       "3         66.0                                              부산광역시   375417.0\n",
       "4         67.0                                          부산광역시 강서구   228587.0\n",
       "...        ...                                                ...        ...\n",
       "138       62.0                                           대구광역시 서구       25.0\n",
       "139       28.0                                           경상남도 거창군       20.0\n",
       "140       52.0                                           경상북도 의성군       17.0\n",
       "141       29.0                                           경상남도 고성군        5.0\n",
       "Total  10011.0  전라남도 진도군전라남도 신안군경기도 구리시부산광역시부산광역시 강서구충청북도 청주시전...  8566983.0\n",
       "\n",
       "[143 rows x 3 columns]"
      ]
     },
     "execution_count": 34,
     "metadata": {},
     "output_type": "execute_result"
    }
   ],
   "source": [
    "asc_df_MTV3"
   ]
  },
  {
   "cell_type": "code",
   "execution_count": 35,
   "metadata": {},
   "outputs": [
    {
     "data": {
      "text/html": [
       "<div>\n",
       "<style scoped>\n",
       "    .dataframe tbody tr th:only-of-type {\n",
       "        vertical-align: middle;\n",
       "    }\n",
       "\n",
       "    .dataframe tbody tr th {\n",
       "        vertical-align: top;\n",
       "    }\n",
       "\n",
       "    .dataframe thead th {\n",
       "        text-align: right;\n",
       "    }\n",
       "</style>\n",
       "<table border=\"1\" class=\"dataframe\">\n",
       "  <thead>\n",
       "    <tr style=\"text-align: right;\">\n",
       "      <th></th>\n",
       "      <th>산지명</th>\n",
       "      <th>거래량</th>\n",
       "    </tr>\n",
       "  </thead>\n",
       "  <tbody>\n",
       "    <tr>\n",
       "      <th>0</th>\n",
       "      <td>강원도 강릉시</td>\n",
       "      <td>96580</td>\n",
       "    </tr>\n",
       "    <tr>\n",
       "      <th>1</th>\n",
       "      <td>강원도 양양군</td>\n",
       "      <td>199980</td>\n",
       "    </tr>\n",
       "    <tr>\n",
       "      <th>2</th>\n",
       "      <td>강원도 원주시</td>\n",
       "      <td>6262</td>\n",
       "    </tr>\n",
       "    <tr>\n",
       "      <th>3</th>\n",
       "      <td>강원도 인제군</td>\n",
       "      <td>18564</td>\n",
       "    </tr>\n",
       "    <tr>\n",
       "      <th>4</th>\n",
       "      <td>강원도 정선군</td>\n",
       "      <td>9260</td>\n",
       "    </tr>\n",
       "    <tr>\n",
       "      <th>...</th>\n",
       "      <td>...</td>\n",
       "      <td>...</td>\n",
       "    </tr>\n",
       "    <tr>\n",
       "      <th>116</th>\n",
       "      <td>충청북도 옥천군</td>\n",
       "      <td>6</td>\n",
       "    </tr>\n",
       "    <tr>\n",
       "      <th>117</th>\n",
       "      <td>충청북도 음성군</td>\n",
       "      <td>72</td>\n",
       "    </tr>\n",
       "    <tr>\n",
       "      <th>118</th>\n",
       "      <td>충청북도 제천시</td>\n",
       "      <td>6492</td>\n",
       "    </tr>\n",
       "    <tr>\n",
       "      <th>119</th>\n",
       "      <td>충청북도 청주시</td>\n",
       "      <td>203674</td>\n",
       "    </tr>\n",
       "    <tr>\n",
       "      <th>120</th>\n",
       "      <td>충청북도 충주시</td>\n",
       "      <td>97256</td>\n",
       "    </tr>\n",
       "  </tbody>\n",
       "</table>\n",
       "<p>121 rows × 2 columns</p>\n",
       "</div>"
      ],
      "text/plain": [
       "          산지명     거래량\n",
       "0     강원도 강릉시   96580\n",
       "1     강원도 양양군  199980\n",
       "2     강원도 원주시    6262\n",
       "3     강원도 인제군   18564\n",
       "4     강원도 정선군    9260\n",
       "..        ...     ...\n",
       "116  충청북도 옥천군       6\n",
       "117  충청북도 음성군      72\n",
       "118  충청북도 제천시    6492\n",
       "119  충청북도 청주시  203674\n",
       "120  충청북도 충주시   97256\n",
       "\n",
       "[121 rows x 2 columns]"
      ]
     },
     "execution_count": 35,
     "metadata": {},
     "output_type": "execute_result"
    }
   ],
   "source": [
    "sum_trading_volume4 = Feb21.groupby(Feb21['산지명'])['거래량'].sum().reset_index()\n",
    "sum_trading_volume4"
   ]
  },
  {
   "cell_type": "code",
   "execution_count": 36,
   "metadata": {},
   "outputs": [
    {
     "ename": "NameError",
     "evalue": "name 'asc_df_MTV4' is not defined",
     "output_type": "error",
     "traceback": [
      "\u001b[1;31m---------------------------------------------------------------------------\u001b[0m",
      "\u001b[1;31mNameError\u001b[0m                                 Traceback (most recent call last)",
      "\u001b[1;32m<ipython-input-36-8dcfcfea1cec>\u001b[0m in \u001b[0;36m<module>\u001b[1;34m\u001b[0m\n\u001b[1;32m----> 1\u001b[1;33m \u001b[0masc_df_MTV4\u001b[0m\u001b[1;33m.\u001b[0m\u001b[0msum\u001b[0m\u001b[1;33m(\u001b[0m\u001b[1;33m)\u001b[0m\u001b[1;33m\u001b[0m\u001b[1;33m\u001b[0m\u001b[0m\n\u001b[0m",
      "\u001b[1;31mNameError\u001b[0m: name 'asc_df_MTV4' is not defined"
     ]
    }
   ],
   "source": [
    "asc_df_MTV4.sum()"
   ]
  },
  {
   "cell_type": "code",
   "execution_count": 37,
   "metadata": {},
   "outputs": [
    {
     "data": {
      "text/html": [
       "<div>\n",
       "<style scoped>\n",
       "    .dataframe tbody tr th:only-of-type {\n",
       "        vertical-align: middle;\n",
       "    }\n",
       "\n",
       "    .dataframe tbody tr th {\n",
       "        vertical-align: top;\n",
       "    }\n",
       "\n",
       "    .dataframe thead th {\n",
       "        text-align: right;\n",
       "    }\n",
       "</style>\n",
       "<table border=\"1\" class=\"dataframe\">\n",
       "  <thead>\n",
       "    <tr style=\"text-align: right;\">\n",
       "      <th></th>\n",
       "      <th>index</th>\n",
       "      <th>산지명</th>\n",
       "      <th>거래량</th>\n",
       "    </tr>\n",
       "  </thead>\n",
       "  <tbody>\n",
       "    <tr>\n",
       "      <th>0</th>\n",
       "      <td>82</td>\n",
       "      <td>전라남도 신안군</td>\n",
       "      <td>3705920</td>\n",
       "    </tr>\n",
       "    <tr>\n",
       "      <th>1</th>\n",
       "      <td>88</td>\n",
       "      <td>전라남도 진도군</td>\n",
       "      <td>3005066</td>\n",
       "    </tr>\n",
       "    <tr>\n",
       "      <th>2</th>\n",
       "      <td>56</td>\n",
       "      <td>부산광역시</td>\n",
       "      <td>626018</td>\n",
       "    </tr>\n",
       "    <tr>\n",
       "      <th>3</th>\n",
       "      <td>11</td>\n",
       "      <td>경기도 구리시</td>\n",
       "      <td>457008</td>\n",
       "    </tr>\n",
       "    <tr>\n",
       "      <th>4</th>\n",
       "      <td>28</td>\n",
       "      <td>경상남도 김해시</td>\n",
       "      <td>324462</td>\n",
       "    </tr>\n",
       "    <tr>\n",
       "      <th>...</th>\n",
       "      <td>...</td>\n",
       "      <td>...</td>\n",
       "      <td>...</td>\n",
       "    </tr>\n",
       "    <tr>\n",
       "      <th>116</th>\n",
       "      <td>41</td>\n",
       "      <td>경상북도 상주시</td>\n",
       "      <td>12</td>\n",
       "    </tr>\n",
       "    <tr>\n",
       "      <th>117</th>\n",
       "      <td>107</td>\n",
       "      <td>충청남도 부여군</td>\n",
       "      <td>10</td>\n",
       "    </tr>\n",
       "    <tr>\n",
       "      <th>118</th>\n",
       "      <td>113</td>\n",
       "      <td>충청남도 청양군</td>\n",
       "      <td>6</td>\n",
       "    </tr>\n",
       "    <tr>\n",
       "      <th>119</th>\n",
       "      <td>102</td>\n",
       "      <td>충청남도</td>\n",
       "      <td>6</td>\n",
       "    </tr>\n",
       "    <tr>\n",
       "      <th>120</th>\n",
       "      <td>116</td>\n",
       "      <td>충청북도 옥천군</td>\n",
       "      <td>6</td>\n",
       "    </tr>\n",
       "  </tbody>\n",
       "</table>\n",
       "<p>121 rows × 3 columns</p>\n",
       "</div>"
      ],
      "text/plain": [
       "     index       산지명      거래량\n",
       "0       82  전라남도 신안군  3705920\n",
       "1       88  전라남도 진도군  3005066\n",
       "2       56     부산광역시   626018\n",
       "3       11   경기도 구리시   457008\n",
       "4       28  경상남도 김해시   324462\n",
       "..     ...       ...      ...\n",
       "116     41  경상북도 상주시       12\n",
       "117    107  충청남도 부여군       10\n",
       "118    113  충청남도 청양군        6\n",
       "119    102      충청남도        6\n",
       "120    116  충청북도 옥천군        6\n",
       "\n",
       "[121 rows x 3 columns]"
      ]
     },
     "execution_count": 37,
     "metadata": {},
     "output_type": "execute_result"
    }
   ],
   "source": [
    "asc_df_MTV4 = sum_trading_volume4.sort_values('거래량', ascending=False).reset_index()\n",
    "asc_df_MTV4"
   ]
  },
  {
   "cell_type": "code",
   "execution_count": 38,
   "metadata": {},
   "outputs": [],
   "source": [
    "asc_df_MTV4.loc[\"Total\", :] = asc_df_MTV4.sum()"
   ]
  },
  {
   "cell_type": "code",
   "execution_count": 39,
   "metadata": {},
   "outputs": [
    {
     "data": {
      "text/html": [
       "<div>\n",
       "<style scoped>\n",
       "    .dataframe tbody tr th:only-of-type {\n",
       "        vertical-align: middle;\n",
       "    }\n",
       "\n",
       "    .dataframe tbody tr th {\n",
       "        vertical-align: top;\n",
       "    }\n",
       "\n",
       "    .dataframe thead th {\n",
       "        text-align: right;\n",
       "    }\n",
       "</style>\n",
       "<table border=\"1\" class=\"dataframe\">\n",
       "  <thead>\n",
       "    <tr style=\"text-align: right;\">\n",
       "      <th></th>\n",
       "      <th>index</th>\n",
       "      <th>산지명</th>\n",
       "      <th>거래량</th>\n",
       "    </tr>\n",
       "  </thead>\n",
       "  <tbody>\n",
       "    <tr>\n",
       "      <th>0</th>\n",
       "      <td>82.0</td>\n",
       "      <td>전라남도 신안군</td>\n",
       "      <td>3705920.0</td>\n",
       "    </tr>\n",
       "    <tr>\n",
       "      <th>1</th>\n",
       "      <td>88.0</td>\n",
       "      <td>전라남도 진도군</td>\n",
       "      <td>3005066.0</td>\n",
       "    </tr>\n",
       "    <tr>\n",
       "      <th>2</th>\n",
       "      <td>56.0</td>\n",
       "      <td>부산광역시</td>\n",
       "      <td>626018.0</td>\n",
       "    </tr>\n",
       "    <tr>\n",
       "      <th>3</th>\n",
       "      <td>11.0</td>\n",
       "      <td>경기도 구리시</td>\n",
       "      <td>457008.0</td>\n",
       "    </tr>\n",
       "    <tr>\n",
       "      <th>4</th>\n",
       "      <td>28.0</td>\n",
       "      <td>경상남도 김해시</td>\n",
       "      <td>324462.0</td>\n",
       "    </tr>\n",
       "    <tr>\n",
       "      <th>...</th>\n",
       "      <td>...</td>\n",
       "      <td>...</td>\n",
       "      <td>...</td>\n",
       "    </tr>\n",
       "    <tr>\n",
       "      <th>117</th>\n",
       "      <td>107.0</td>\n",
       "      <td>충청남도 부여군</td>\n",
       "      <td>10.0</td>\n",
       "    </tr>\n",
       "    <tr>\n",
       "      <th>118</th>\n",
       "      <td>113.0</td>\n",
       "      <td>충청남도 청양군</td>\n",
       "      <td>6.0</td>\n",
       "    </tr>\n",
       "    <tr>\n",
       "      <th>119</th>\n",
       "      <td>102.0</td>\n",
       "      <td>충청남도</td>\n",
       "      <td>6.0</td>\n",
       "    </tr>\n",
       "    <tr>\n",
       "      <th>120</th>\n",
       "      <td>116.0</td>\n",
       "      <td>충청북도 옥천군</td>\n",
       "      <td>6.0</td>\n",
       "    </tr>\n",
       "    <tr>\n",
       "      <th>Total</th>\n",
       "      <td>7260.0</td>\n",
       "      <td>전라남도 신안군전라남도 진도군부산광역시경기도 구리시경상남도 김해시부산광역시 중구경기...</td>\n",
       "      <td>11881718.0</td>\n",
       "    </tr>\n",
       "  </tbody>\n",
       "</table>\n",
       "<p>122 rows × 3 columns</p>\n",
       "</div>"
      ],
      "text/plain": [
       "        index                                                산지명         거래량\n",
       "0        82.0                                           전라남도 신안군   3705920.0\n",
       "1        88.0                                           전라남도 진도군   3005066.0\n",
       "2        56.0                                              부산광역시    626018.0\n",
       "3        11.0                                            경기도 구리시    457008.0\n",
       "4        28.0                                           경상남도 김해시    324462.0\n",
       "...       ...                                                ...         ...\n",
       "117     107.0                                           충청남도 부여군        10.0\n",
       "118     113.0                                           충청남도 청양군         6.0\n",
       "119     102.0                                               충청남도         6.0\n",
       "120     116.0                                           충청북도 옥천군         6.0\n",
       "Total  7260.0  전라남도 신안군전라남도 진도군부산광역시경기도 구리시경상남도 김해시부산광역시 중구경기...  11881718.0\n",
       "\n",
       "[122 rows x 3 columns]"
      ]
     },
     "execution_count": 39,
     "metadata": {},
     "output_type": "execute_result"
    }
   ],
   "source": [
    "asc_df_MTV4"
   ]
  },
  {
   "cell_type": "code",
   "execution_count": 40,
   "metadata": {},
   "outputs": [
    {
     "data": {
      "text/html": [
       "<div>\n",
       "<style scoped>\n",
       "    .dataframe tbody tr th:only-of-type {\n",
       "        vertical-align: middle;\n",
       "    }\n",
       "\n",
       "    .dataframe tbody tr th {\n",
       "        vertical-align: top;\n",
       "    }\n",
       "\n",
       "    .dataframe thead th {\n",
       "        text-align: right;\n",
       "    }\n",
       "</style>\n",
       "<table border=\"1\" class=\"dataframe\">\n",
       "  <thead>\n",
       "    <tr style=\"text-align: right;\">\n",
       "      <th></th>\n",
       "      <th>산지명</th>\n",
       "      <th>거래량</th>\n",
       "    </tr>\n",
       "  </thead>\n",
       "  <tbody>\n",
       "    <tr>\n",
       "      <th>0</th>\n",
       "      <td>강원도 강릉시</td>\n",
       "      <td>23395</td>\n",
       "    </tr>\n",
       "    <tr>\n",
       "      <th>1</th>\n",
       "      <td>강원도 동해시</td>\n",
       "      <td>2240</td>\n",
       "    </tr>\n",
       "    <tr>\n",
       "      <th>2</th>\n",
       "      <td>강원도 원주시</td>\n",
       "      <td>3753</td>\n",
       "    </tr>\n",
       "    <tr>\n",
       "      <th>3</th>\n",
       "      <td>강원도 인제군</td>\n",
       "      <td>31230</td>\n",
       "    </tr>\n",
       "    <tr>\n",
       "      <th>4</th>\n",
       "      <td>강원도 정선군</td>\n",
       "      <td>300</td>\n",
       "    </tr>\n",
       "    <tr>\n",
       "      <th>...</th>\n",
       "      <td>...</td>\n",
       "      <td>...</td>\n",
       "    </tr>\n",
       "    <tr>\n",
       "      <th>119</th>\n",
       "      <td>충청북도 영동군</td>\n",
       "      <td>68</td>\n",
       "    </tr>\n",
       "    <tr>\n",
       "      <th>120</th>\n",
       "      <td>충청북도 제천시</td>\n",
       "      <td>6994</td>\n",
       "    </tr>\n",
       "    <tr>\n",
       "      <th>121</th>\n",
       "      <td>충청북도 진천군</td>\n",
       "      <td>112</td>\n",
       "    </tr>\n",
       "    <tr>\n",
       "      <th>122</th>\n",
       "      <td>충청북도 청주시</td>\n",
       "      <td>58406</td>\n",
       "    </tr>\n",
       "    <tr>\n",
       "      <th>123</th>\n",
       "      <td>충청북도 충주시</td>\n",
       "      <td>27765</td>\n",
       "    </tr>\n",
       "  </tbody>\n",
       "</table>\n",
       "<p>124 rows × 2 columns</p>\n",
       "</div>"
      ],
      "text/plain": [
       "          산지명    거래량\n",
       "0     강원도 강릉시  23395\n",
       "1     강원도 동해시   2240\n",
       "2     강원도 원주시   3753\n",
       "3     강원도 인제군  31230\n",
       "4     강원도 정선군    300\n",
       "..        ...    ...\n",
       "119  충청북도 영동군     68\n",
       "120  충청북도 제천시   6994\n",
       "121  충청북도 진천군    112\n",
       "122  충청북도 청주시  58406\n",
       "123  충청북도 충주시  27765\n",
       "\n",
       "[124 rows x 2 columns]"
      ]
     },
     "execution_count": 40,
     "metadata": {},
     "output_type": "execute_result"
    }
   ],
   "source": [
    "sum_trading_volume5 = Mar20.groupby(Mar20['산지명'])['거래량'].sum().reset_index()\n",
    "sum_trading_volume5"
   ]
  },
  {
   "cell_type": "code",
   "execution_count": 41,
   "metadata": {
    "scrolled": true
   },
   "outputs": [
    {
     "data": {
      "text/html": [
       "<div>\n",
       "<style scoped>\n",
       "    .dataframe tbody tr th:only-of-type {\n",
       "        vertical-align: middle;\n",
       "    }\n",
       "\n",
       "    .dataframe tbody tr th {\n",
       "        vertical-align: top;\n",
       "    }\n",
       "\n",
       "    .dataframe thead th {\n",
       "        text-align: right;\n",
       "    }\n",
       "</style>\n",
       "<table border=\"1\" class=\"dataframe\">\n",
       "  <thead>\n",
       "    <tr style=\"text-align: right;\">\n",
       "      <th></th>\n",
       "      <th>index</th>\n",
       "      <th>산지명</th>\n",
       "      <th>거래량</th>\n",
       "    </tr>\n",
       "  </thead>\n",
       "  <tbody>\n",
       "    <tr>\n",
       "      <th>0</th>\n",
       "      <td>86</td>\n",
       "      <td>전라남도 신안군</td>\n",
       "      <td>917565</td>\n",
       "    </tr>\n",
       "    <tr>\n",
       "      <th>1</th>\n",
       "      <td>91</td>\n",
       "      <td>전라남도 진도군</td>\n",
       "      <td>863131</td>\n",
       "    </tr>\n",
       "    <tr>\n",
       "      <th>2</th>\n",
       "      <td>6</td>\n",
       "      <td>경기도 구리시</td>\n",
       "      <td>213953</td>\n",
       "    </tr>\n",
       "    <tr>\n",
       "      <th>3</th>\n",
       "      <td>55</td>\n",
       "      <td>부산광역시</td>\n",
       "      <td>179809</td>\n",
       "    </tr>\n",
       "    <tr>\n",
       "      <th>4</th>\n",
       "      <td>56</td>\n",
       "      <td>부산광역시 강서구</td>\n",
       "      <td>104426</td>\n",
       "    </tr>\n",
       "    <tr>\n",
       "      <th>...</th>\n",
       "      <td>...</td>\n",
       "      <td>...</td>\n",
       "      <td>...</td>\n",
       "    </tr>\n",
       "    <tr>\n",
       "      <th>119</th>\n",
       "      <td>106</td>\n",
       "      <td>충청남도 공주시</td>\n",
       "      <td>37</td>\n",
       "    </tr>\n",
       "    <tr>\n",
       "      <th>120</th>\n",
       "      <td>44</td>\n",
       "      <td>광주광역시 동구</td>\n",
       "      <td>28</td>\n",
       "    </tr>\n",
       "    <tr>\n",
       "      <th>121</th>\n",
       "      <td>103</td>\n",
       "      <td>제주특별자치도 서귀포시</td>\n",
       "      <td>27</td>\n",
       "    </tr>\n",
       "    <tr>\n",
       "      <th>122</th>\n",
       "      <td>110</td>\n",
       "      <td>충청남도 보령시</td>\n",
       "      <td>18</td>\n",
       "    </tr>\n",
       "    <tr>\n",
       "      <th>123</th>\n",
       "      <td>24</td>\n",
       "      <td>경상남도 거제시</td>\n",
       "      <td>4</td>\n",
       "    </tr>\n",
       "  </tbody>\n",
       "</table>\n",
       "<p>124 rows × 3 columns</p>\n",
       "</div>"
      ],
      "text/plain": [
       "     index           산지명     거래량\n",
       "0       86      전라남도 신안군  917565\n",
       "1       91      전라남도 진도군  863131\n",
       "2        6       경기도 구리시  213953\n",
       "3       55         부산광역시  179809\n",
       "4       56     부산광역시 강서구  104426\n",
       "..     ...           ...     ...\n",
       "119    106      충청남도 공주시      37\n",
       "120     44      광주광역시 동구      28\n",
       "121    103  제주특별자치도 서귀포시      27\n",
       "122    110      충청남도 보령시      18\n",
       "123     24      경상남도 거제시       4\n",
       "\n",
       "[124 rows x 3 columns]"
      ]
     },
     "execution_count": 41,
     "metadata": {},
     "output_type": "execute_result"
    }
   ],
   "source": [
    "asc_df_MTV5 = sum_trading_volume5.sort_values('거래량', ascending=False).reset_index()\n",
    "asc_df_MTV5"
   ]
  },
  {
   "cell_type": "code",
   "execution_count": 42,
   "metadata": {
    "scrolled": true
   },
   "outputs": [
    {
     "data": {
      "text/plain": [
       "index                                                 7626\n",
       "산지명      전라남도 신안군전라남도 진도군경기도 구리시부산광역시부산광역시 강서구서울특별시 송파구...\n",
       "거래량                                                3799885\n",
       "dtype: object"
      ]
     },
     "execution_count": 42,
     "metadata": {},
     "output_type": "execute_result"
    }
   ],
   "source": [
    "asc_df_MTV5.sum()"
   ]
  },
  {
   "cell_type": "code",
   "execution_count": 43,
   "metadata": {},
   "outputs": [],
   "source": [
    "asc_df_MTV5.loc[\"Total\", :] = asc_df_MTV5.sum()"
   ]
  },
  {
   "cell_type": "code",
   "execution_count": 44,
   "metadata": {},
   "outputs": [
    {
     "data": {
      "text/html": [
       "<div>\n",
       "<style scoped>\n",
       "    .dataframe tbody tr th:only-of-type {\n",
       "        vertical-align: middle;\n",
       "    }\n",
       "\n",
       "    .dataframe tbody tr th {\n",
       "        vertical-align: top;\n",
       "    }\n",
       "\n",
       "    .dataframe thead th {\n",
       "        text-align: right;\n",
       "    }\n",
       "</style>\n",
       "<table border=\"1\" class=\"dataframe\">\n",
       "  <thead>\n",
       "    <tr style=\"text-align: right;\">\n",
       "      <th></th>\n",
       "      <th>index</th>\n",
       "      <th>산지명</th>\n",
       "      <th>거래량</th>\n",
       "    </tr>\n",
       "  </thead>\n",
       "  <tbody>\n",
       "    <tr>\n",
       "      <th>0</th>\n",
       "      <td>86.0</td>\n",
       "      <td>전라남도 신안군</td>\n",
       "      <td>917565.0</td>\n",
       "    </tr>\n",
       "    <tr>\n",
       "      <th>1</th>\n",
       "      <td>91.0</td>\n",
       "      <td>전라남도 진도군</td>\n",
       "      <td>863131.0</td>\n",
       "    </tr>\n",
       "    <tr>\n",
       "      <th>2</th>\n",
       "      <td>6.0</td>\n",
       "      <td>경기도 구리시</td>\n",
       "      <td>213953.0</td>\n",
       "    </tr>\n",
       "    <tr>\n",
       "      <th>3</th>\n",
       "      <td>55.0</td>\n",
       "      <td>부산광역시</td>\n",
       "      <td>179809.0</td>\n",
       "    </tr>\n",
       "    <tr>\n",
       "      <th>4</th>\n",
       "      <td>56.0</td>\n",
       "      <td>부산광역시 강서구</td>\n",
       "      <td>104426.0</td>\n",
       "    </tr>\n",
       "    <tr>\n",
       "      <th>...</th>\n",
       "      <td>...</td>\n",
       "      <td>...</td>\n",
       "      <td>...</td>\n",
       "    </tr>\n",
       "    <tr>\n",
       "      <th>120</th>\n",
       "      <td>44.0</td>\n",
       "      <td>광주광역시 동구</td>\n",
       "      <td>28.0</td>\n",
       "    </tr>\n",
       "    <tr>\n",
       "      <th>121</th>\n",
       "      <td>103.0</td>\n",
       "      <td>제주특별자치도 서귀포시</td>\n",
       "      <td>27.0</td>\n",
       "    </tr>\n",
       "    <tr>\n",
       "      <th>122</th>\n",
       "      <td>110.0</td>\n",
       "      <td>충청남도 보령시</td>\n",
       "      <td>18.0</td>\n",
       "    </tr>\n",
       "    <tr>\n",
       "      <th>123</th>\n",
       "      <td>24.0</td>\n",
       "      <td>경상남도 거제시</td>\n",
       "      <td>4.0</td>\n",
       "    </tr>\n",
       "    <tr>\n",
       "      <th>Total</th>\n",
       "      <td>7626.0</td>\n",
       "      <td>전라남도 신안군전라남도 진도군경기도 구리시부산광역시부산광역시 강서구서울특별시 송파구...</td>\n",
       "      <td>3799885.0</td>\n",
       "    </tr>\n",
       "  </tbody>\n",
       "</table>\n",
       "<p>125 rows × 3 columns</p>\n",
       "</div>"
      ],
      "text/plain": [
       "        index                                                산지명        거래량\n",
       "0        86.0                                           전라남도 신안군   917565.0\n",
       "1        91.0                                           전라남도 진도군   863131.0\n",
       "2         6.0                                            경기도 구리시   213953.0\n",
       "3        55.0                                              부산광역시   179809.0\n",
       "4        56.0                                          부산광역시 강서구   104426.0\n",
       "...       ...                                                ...        ...\n",
       "120      44.0                                           광주광역시 동구       28.0\n",
       "121     103.0                                       제주특별자치도 서귀포시       27.0\n",
       "122     110.0                                           충청남도 보령시       18.0\n",
       "123      24.0                                           경상남도 거제시        4.0\n",
       "Total  7626.0  전라남도 신안군전라남도 진도군경기도 구리시부산광역시부산광역시 강서구서울특별시 송파구...  3799885.0\n",
       "\n",
       "[125 rows x 3 columns]"
      ]
     },
     "execution_count": 44,
     "metadata": {},
     "output_type": "execute_result"
    }
   ],
   "source": [
    "asc_df_MTV5"
   ]
  },
  {
   "cell_type": "code",
   "execution_count": 45,
   "metadata": {},
   "outputs": [
    {
     "data": {
      "text/html": [
       "<div>\n",
       "<style scoped>\n",
       "    .dataframe tbody tr th:only-of-type {\n",
       "        vertical-align: middle;\n",
       "    }\n",
       "\n",
       "    .dataframe tbody tr th {\n",
       "        vertical-align: top;\n",
       "    }\n",
       "\n",
       "    .dataframe thead th {\n",
       "        text-align: right;\n",
       "    }\n",
       "</style>\n",
       "<table border=\"1\" class=\"dataframe\">\n",
       "  <thead>\n",
       "    <tr style=\"text-align: right;\">\n",
       "      <th></th>\n",
       "      <th>산지명</th>\n",
       "      <th>거래량</th>\n",
       "    </tr>\n",
       "  </thead>\n",
       "  <tbody>\n",
       "    <tr>\n",
       "      <th>0</th>\n",
       "      <td>강원도</td>\n",
       "      <td>1680</td>\n",
       "    </tr>\n",
       "    <tr>\n",
       "      <th>1</th>\n",
       "      <td>강원도 강릉시</td>\n",
       "      <td>59840</td>\n",
       "    </tr>\n",
       "    <tr>\n",
       "      <th>2</th>\n",
       "      <td>강원도 동해시</td>\n",
       "      <td>1140</td>\n",
       "    </tr>\n",
       "    <tr>\n",
       "      <th>3</th>\n",
       "      <td>강원도 양양군</td>\n",
       "      <td>83100</td>\n",
       "    </tr>\n",
       "    <tr>\n",
       "      <th>4</th>\n",
       "      <td>강원도 원주시</td>\n",
       "      <td>7700</td>\n",
       "    </tr>\n",
       "    <tr>\n",
       "      <th>...</th>\n",
       "      <td>...</td>\n",
       "      <td>...</td>\n",
       "    </tr>\n",
       "    <tr>\n",
       "      <th>111</th>\n",
       "      <td>충청북도 옥천군</td>\n",
       "      <td>74</td>\n",
       "    </tr>\n",
       "    <tr>\n",
       "      <th>112</th>\n",
       "      <td>충청북도 음성군</td>\n",
       "      <td>1080</td>\n",
       "    </tr>\n",
       "    <tr>\n",
       "      <th>113</th>\n",
       "      <td>충청북도 제천시</td>\n",
       "      <td>1522</td>\n",
       "    </tr>\n",
       "    <tr>\n",
       "      <th>114</th>\n",
       "      <td>충청북도 청주시</td>\n",
       "      <td>116078</td>\n",
       "    </tr>\n",
       "    <tr>\n",
       "      <th>115</th>\n",
       "      <td>충청북도 충주시</td>\n",
       "      <td>47262</td>\n",
       "    </tr>\n",
       "  </tbody>\n",
       "</table>\n",
       "<p>116 rows × 2 columns</p>\n",
       "</div>"
      ],
      "text/plain": [
       "          산지명     거래량\n",
       "0         강원도    1680\n",
       "1     강원도 강릉시   59840\n",
       "2     강원도 동해시    1140\n",
       "3     강원도 양양군   83100\n",
       "4     강원도 원주시    7700\n",
       "..        ...     ...\n",
       "111  충청북도 옥천군      74\n",
       "112  충청북도 음성군    1080\n",
       "113  충청북도 제천시    1522\n",
       "114  충청북도 청주시  116078\n",
       "115  충청북도 충주시   47262\n",
       "\n",
       "[116 rows x 2 columns]"
      ]
     },
     "execution_count": 45,
     "metadata": {},
     "output_type": "execute_result"
    }
   ],
   "source": [
    "sum_trading_volume6 = Mar21.groupby(Mar21['산지명'])['거래량'].sum().reset_index()\n",
    "sum_trading_volume6"
   ]
  },
  {
   "cell_type": "code",
   "execution_count": 46,
   "metadata": {},
   "outputs": [
    {
     "data": {
      "text/html": [
       "<div>\n",
       "<style scoped>\n",
       "    .dataframe tbody tr th:only-of-type {\n",
       "        vertical-align: middle;\n",
       "    }\n",
       "\n",
       "    .dataframe tbody tr th {\n",
       "        vertical-align: top;\n",
       "    }\n",
       "\n",
       "    .dataframe thead th {\n",
       "        text-align: right;\n",
       "    }\n",
       "</style>\n",
       "<table border=\"1\" class=\"dataframe\">\n",
       "  <thead>\n",
       "    <tr style=\"text-align: right;\">\n",
       "      <th></th>\n",
       "      <th>index</th>\n",
       "      <th>산지명</th>\n",
       "      <th>거래량</th>\n",
       "    </tr>\n",
       "  </thead>\n",
       "  <tbody>\n",
       "    <tr>\n",
       "      <th>0</th>\n",
       "      <td>81</td>\n",
       "      <td>전라남도 신안군</td>\n",
       "      <td>1906882</td>\n",
       "    </tr>\n",
       "    <tr>\n",
       "      <th>1</th>\n",
       "      <td>87</td>\n",
       "      <td>전라남도 진도군</td>\n",
       "      <td>1499216</td>\n",
       "    </tr>\n",
       "    <tr>\n",
       "      <th>2</th>\n",
       "      <td>53</td>\n",
       "      <td>부산광역시</td>\n",
       "      <td>419836</td>\n",
       "    </tr>\n",
       "    <tr>\n",
       "      <th>3</th>\n",
       "      <td>9</td>\n",
       "      <td>경기도 구리시</td>\n",
       "      <td>325520</td>\n",
       "    </tr>\n",
       "    <tr>\n",
       "      <th>4</th>\n",
       "      <td>60</td>\n",
       "      <td>서울특별시 송파구</td>\n",
       "      <td>152216</td>\n",
       "    </tr>\n",
       "    <tr>\n",
       "      <th>...</th>\n",
       "      <td>...</td>\n",
       "      <td>...</td>\n",
       "      <td>...</td>\n",
       "    </tr>\n",
       "    <tr>\n",
       "      <th>111</th>\n",
       "      <td>43</td>\n",
       "      <td>경상북도 포항시</td>\n",
       "      <td>20</td>\n",
       "    </tr>\n",
       "    <tr>\n",
       "      <th>112</th>\n",
       "      <td>104</td>\n",
       "      <td>충청남도 부여군</td>\n",
       "      <td>18</td>\n",
       "    </tr>\n",
       "    <tr>\n",
       "      <th>113</th>\n",
       "      <td>65</td>\n",
       "      <td>울산광역시 울주군</td>\n",
       "      <td>14</td>\n",
       "    </tr>\n",
       "    <tr>\n",
       "      <th>114</th>\n",
       "      <td>51</td>\n",
       "      <td>대전광역시 동구</td>\n",
       "      <td>10</td>\n",
       "    </tr>\n",
       "    <tr>\n",
       "      <th>115</th>\n",
       "      <td>109</td>\n",
       "      <td>충청남도 홍성군</td>\n",
       "      <td>2</td>\n",
       "    </tr>\n",
       "  </tbody>\n",
       "</table>\n",
       "<p>116 rows × 3 columns</p>\n",
       "</div>"
      ],
      "text/plain": [
       "     index        산지명      거래량\n",
       "0       81   전라남도 신안군  1906882\n",
       "1       87   전라남도 진도군  1499216\n",
       "2       53      부산광역시   419836\n",
       "3        9    경기도 구리시   325520\n",
       "4       60  서울특별시 송파구   152216\n",
       "..     ...        ...      ...\n",
       "111     43   경상북도 포항시       20\n",
       "112    104   충청남도 부여군       18\n",
       "113     65  울산광역시 울주군       14\n",
       "114     51   대전광역시 동구       10\n",
       "115    109   충청남도 홍성군        2\n",
       "\n",
       "[116 rows x 3 columns]"
      ]
     },
     "execution_count": 46,
     "metadata": {},
     "output_type": "execute_result"
    }
   ],
   "source": [
    "asc_df_MTV6 = sum_trading_volume6.sort_values('거래량', ascending=False).reset_index()\n",
    "asc_df_MTV6"
   ]
  },
  {
   "cell_type": "code",
   "execution_count": 47,
   "metadata": {},
   "outputs": [
    {
     "data": {
      "text/plain": [
       "index                                                 6670\n",
       "산지명      전라남도 신안군전라남도 진도군부산광역시경기도 구리시서울특별시 송파구경상남도 김해시부...\n",
       "거래량                                                6405142\n",
       "dtype: object"
      ]
     },
     "execution_count": 47,
     "metadata": {},
     "output_type": "execute_result"
    }
   ],
   "source": [
    "asc_df_MTV6.sum() "
   ]
  },
  {
   "cell_type": "code",
   "execution_count": 48,
   "metadata": {},
   "outputs": [],
   "source": [
    "asc_df_MTV6.loc[\"Total\", :] = asc_df_MTV6.sum()"
   ]
  },
  {
   "cell_type": "code",
   "execution_count": 49,
   "metadata": {},
   "outputs": [
    {
     "data": {
      "text/html": [
       "<div>\n",
       "<style scoped>\n",
       "    .dataframe tbody tr th:only-of-type {\n",
       "        vertical-align: middle;\n",
       "    }\n",
       "\n",
       "    .dataframe tbody tr th {\n",
       "        vertical-align: top;\n",
       "    }\n",
       "\n",
       "    .dataframe thead th {\n",
       "        text-align: right;\n",
       "    }\n",
       "</style>\n",
       "<table border=\"1\" class=\"dataframe\">\n",
       "  <thead>\n",
       "    <tr style=\"text-align: right;\">\n",
       "      <th></th>\n",
       "      <th>index</th>\n",
       "      <th>산지명</th>\n",
       "      <th>거래량</th>\n",
       "    </tr>\n",
       "  </thead>\n",
       "  <tbody>\n",
       "    <tr>\n",
       "      <th>0</th>\n",
       "      <td>81.0</td>\n",
       "      <td>전라남도 신안군</td>\n",
       "      <td>1906882.0</td>\n",
       "    </tr>\n",
       "    <tr>\n",
       "      <th>1</th>\n",
       "      <td>87.0</td>\n",
       "      <td>전라남도 진도군</td>\n",
       "      <td>1499216.0</td>\n",
       "    </tr>\n",
       "    <tr>\n",
       "      <th>2</th>\n",
       "      <td>53.0</td>\n",
       "      <td>부산광역시</td>\n",
       "      <td>419836.0</td>\n",
       "    </tr>\n",
       "    <tr>\n",
       "      <th>3</th>\n",
       "      <td>9.0</td>\n",
       "      <td>경기도 구리시</td>\n",
       "      <td>325520.0</td>\n",
       "    </tr>\n",
       "    <tr>\n",
       "      <th>4</th>\n",
       "      <td>60.0</td>\n",
       "      <td>서울특별시 송파구</td>\n",
       "      <td>152216.0</td>\n",
       "    </tr>\n",
       "    <tr>\n",
       "      <th>...</th>\n",
       "      <td>...</td>\n",
       "      <td>...</td>\n",
       "      <td>...</td>\n",
       "    </tr>\n",
       "    <tr>\n",
       "      <th>112</th>\n",
       "      <td>104.0</td>\n",
       "      <td>충청남도 부여군</td>\n",
       "      <td>18.0</td>\n",
       "    </tr>\n",
       "    <tr>\n",
       "      <th>113</th>\n",
       "      <td>65.0</td>\n",
       "      <td>울산광역시 울주군</td>\n",
       "      <td>14.0</td>\n",
       "    </tr>\n",
       "    <tr>\n",
       "      <th>114</th>\n",
       "      <td>51.0</td>\n",
       "      <td>대전광역시 동구</td>\n",
       "      <td>10.0</td>\n",
       "    </tr>\n",
       "    <tr>\n",
       "      <th>115</th>\n",
       "      <td>109.0</td>\n",
       "      <td>충청남도 홍성군</td>\n",
       "      <td>2.0</td>\n",
       "    </tr>\n",
       "    <tr>\n",
       "      <th>Total</th>\n",
       "      <td>6670.0</td>\n",
       "      <td>전라남도 신안군전라남도 진도군부산광역시경기도 구리시서울특별시 송파구경상남도 김해시부...</td>\n",
       "      <td>6405142.0</td>\n",
       "    </tr>\n",
       "  </tbody>\n",
       "</table>\n",
       "<p>117 rows × 3 columns</p>\n",
       "</div>"
      ],
      "text/plain": [
       "        index                                                산지명        거래량\n",
       "0        81.0                                           전라남도 신안군  1906882.0\n",
       "1        87.0                                           전라남도 진도군  1499216.0\n",
       "2        53.0                                              부산광역시   419836.0\n",
       "3         9.0                                            경기도 구리시   325520.0\n",
       "4        60.0                                          서울특별시 송파구   152216.0\n",
       "...       ...                                                ...        ...\n",
       "112     104.0                                           충청남도 부여군       18.0\n",
       "113      65.0                                          울산광역시 울주군       14.0\n",
       "114      51.0                                           대전광역시 동구       10.0\n",
       "115     109.0                                           충청남도 홍성군        2.0\n",
       "Total  6670.0  전라남도 신안군전라남도 진도군부산광역시경기도 구리시서울특별시 송파구경상남도 김해시부...  6405142.0\n",
       "\n",
       "[117 rows x 3 columns]"
      ]
     },
     "execution_count": 49,
     "metadata": {},
     "output_type": "execute_result"
    }
   ],
   "source": [
    "asc_df_MTV6"
   ]
  },
  {
   "cell_type": "markdown",
   "metadata": {},
   "source": [
    "### 도매시장 별 거래량 ###"
   ]
  },
  {
   "cell_type": "code",
   "execution_count": 97,
   "metadata": {
    "scrolled": true
   },
   "outputs": [
    {
     "data": {
      "text/html": [
       "<div>\n",
       "<style scoped>\n",
       "    .dataframe tbody tr th:only-of-type {\n",
       "        vertical-align: middle;\n",
       "    }\n",
       "\n",
       "    .dataframe tbody tr th {\n",
       "        vertical-align: top;\n",
       "    }\n",
       "\n",
       "    .dataframe thead th {\n",
       "        text-align: right;\n",
       "    }\n",
       "</style>\n",
       "<table border=\"1\" class=\"dataframe\">\n",
       "  <thead>\n",
       "    <tr style=\"text-align: right;\">\n",
       "      <th></th>\n",
       "      <th>산지명</th>\n",
       "      <th>거래량_x</th>\n",
       "      <th>거래량_y</th>\n",
       "    </tr>\n",
       "  </thead>\n",
       "  <tbody>\n",
       "    <tr>\n",
       "      <th>0</th>\n",
       "      <td>강원도</td>\n",
       "      <td>3915</td>\n",
       "      <td>400.0</td>\n",
       "    </tr>\n",
       "    <tr>\n",
       "      <th>1</th>\n",
       "      <td>강원도 강릉시</td>\n",
       "      <td>46925</td>\n",
       "      <td>105596.0</td>\n",
       "    </tr>\n",
       "    <tr>\n",
       "      <th>2</th>\n",
       "      <td>강원도 동해시</td>\n",
       "      <td>10946</td>\n",
       "      <td>2420.0</td>\n",
       "    </tr>\n",
       "    <tr>\n",
       "      <th>3</th>\n",
       "      <td>강원도 원주시</td>\n",
       "      <td>6382</td>\n",
       "      <td>7180.0</td>\n",
       "    </tr>\n",
       "    <tr>\n",
       "      <th>4</th>\n",
       "      <td>강원도 인제군</td>\n",
       "      <td>70467</td>\n",
       "      <td>25920.0</td>\n",
       "    </tr>\n",
       "    <tr>\n",
       "      <th>...</th>\n",
       "      <td>...</td>\n",
       "      <td>...</td>\n",
       "      <td>...</td>\n",
       "    </tr>\n",
       "    <tr>\n",
       "      <th>147</th>\n",
       "      <td>충청북도 음성군</td>\n",
       "      <td>78</td>\n",
       "      <td>NaN</td>\n",
       "    </tr>\n",
       "    <tr>\n",
       "      <th>148</th>\n",
       "      <td>충청북도 제천시</td>\n",
       "      <td>10625</td>\n",
       "      <td>15126.0</td>\n",
       "    </tr>\n",
       "    <tr>\n",
       "      <th>149</th>\n",
       "      <td>충청북도 진천군</td>\n",
       "      <td>591</td>\n",
       "      <td>NaN</td>\n",
       "    </tr>\n",
       "    <tr>\n",
       "      <th>150</th>\n",
       "      <td>충청북도 청주시</td>\n",
       "      <td>292296</td>\n",
       "      <td>456604.0</td>\n",
       "    </tr>\n",
       "    <tr>\n",
       "      <th>151</th>\n",
       "      <td>충청북도 충주시</td>\n",
       "      <td>54295</td>\n",
       "      <td>226594.0</td>\n",
       "    </tr>\n",
       "  </tbody>\n",
       "</table>\n",
       "<p>152 rows × 3 columns</p>\n",
       "</div>"
      ],
      "text/plain": [
       "          산지명   거래량_x     거래량_y\n",
       "0         강원도    3915     400.0\n",
       "1     강원도 강릉시   46925  105596.0\n",
       "2     강원도 동해시   10946    2420.0\n",
       "3     강원도 원주시    6382    7180.0\n",
       "4     강원도 인제군   70467   25920.0\n",
       "..        ...     ...       ...\n",
       "147  충청북도 음성군      78       NaN\n",
       "148  충청북도 제천시   10625   15126.0\n",
       "149  충청북도 진천군     591       NaN\n",
       "150  충청북도 청주시  292296  456604.0\n",
       "151  충청북도 충주시   54295  226594.0\n",
       "\n",
       "[152 rows x 3 columns]"
      ]
     },
     "execution_count": 97,
     "metadata": {},
     "output_type": "execute_result"
    }
   ],
   "source": [
    "#merge\n",
    "result = pd.merge(sum_trading_volume,sum_trading_volume2, on = '산지명', how = 'left')#'산지명'열 left 위주로 merge\n",
    "result\n"
   ]
  },
  {
   "cell_type": "code",
   "execution_count": 98,
   "metadata": {},
   "outputs": [
    {
     "data": {
      "text/html": [
       "<div>\n",
       "<style scoped>\n",
       "    .dataframe tbody tr th:only-of-type {\n",
       "        vertical-align: middle;\n",
       "    }\n",
       "\n",
       "    .dataframe tbody tr th {\n",
       "        vertical-align: top;\n",
       "    }\n",
       "\n",
       "    .dataframe thead th {\n",
       "        text-align: right;\n",
       "    }\n",
       "</style>\n",
       "<table border=\"1\" class=\"dataframe\">\n",
       "  <thead>\n",
       "    <tr style=\"text-align: right;\">\n",
       "      <th></th>\n",
       "      <th>산지명</th>\n",
       "      <th>거래량_x</th>\n",
       "      <th>거래량_y</th>\n",
       "      <th>거래량_x</th>\n",
       "      <th>거래량_y</th>\n",
       "      <th>거래량_x</th>\n",
       "      <th>거래량_y</th>\n",
       "    </tr>\n",
       "  </thead>\n",
       "  <tbody>\n",
       "    <tr>\n",
       "      <th>0</th>\n",
       "      <td>강원도</td>\n",
       "      <td>3915</td>\n",
       "      <td>400.0</td>\n",
       "      <td>NaN</td>\n",
       "      <td>NaN</td>\n",
       "      <td>NaN</td>\n",
       "      <td>1680.0</td>\n",
       "    </tr>\n",
       "    <tr>\n",
       "      <th>1</th>\n",
       "      <td>강원도 강릉시</td>\n",
       "      <td>46925</td>\n",
       "      <td>105596.0</td>\n",
       "      <td>47573.0</td>\n",
       "      <td>96580.0</td>\n",
       "      <td>23395.0</td>\n",
       "      <td>59840.0</td>\n",
       "    </tr>\n",
       "    <tr>\n",
       "      <th>2</th>\n",
       "      <td>강원도 동해시</td>\n",
       "      <td>10946</td>\n",
       "      <td>2420.0</td>\n",
       "      <td>8330.0</td>\n",
       "      <td>NaN</td>\n",
       "      <td>2240.0</td>\n",
       "      <td>1140.0</td>\n",
       "    </tr>\n",
       "    <tr>\n",
       "      <th>3</th>\n",
       "      <td>강원도 원주시</td>\n",
       "      <td>6382</td>\n",
       "      <td>7180.0</td>\n",
       "      <td>5437.0</td>\n",
       "      <td>6262.0</td>\n",
       "      <td>3753.0</td>\n",
       "      <td>7700.0</td>\n",
       "    </tr>\n",
       "    <tr>\n",
       "      <th>4</th>\n",
       "      <td>강원도 인제군</td>\n",
       "      <td>70467</td>\n",
       "      <td>25920.0</td>\n",
       "      <td>64065.0</td>\n",
       "      <td>18564.0</td>\n",
       "      <td>31230.0</td>\n",
       "      <td>11260.0</td>\n",
       "    </tr>\n",
       "    <tr>\n",
       "      <th>...</th>\n",
       "      <td>...</td>\n",
       "      <td>...</td>\n",
       "      <td>...</td>\n",
       "      <td>...</td>\n",
       "      <td>...</td>\n",
       "      <td>...</td>\n",
       "      <td>...</td>\n",
       "    </tr>\n",
       "    <tr>\n",
       "      <th>147</th>\n",
       "      <td>충청북도 음성군</td>\n",
       "      <td>78</td>\n",
       "      <td>NaN</td>\n",
       "      <td>NaN</td>\n",
       "      <td>72.0</td>\n",
       "      <td>NaN</td>\n",
       "      <td>1080.0</td>\n",
       "    </tr>\n",
       "    <tr>\n",
       "      <th>148</th>\n",
       "      <td>충청북도 제천시</td>\n",
       "      <td>10625</td>\n",
       "      <td>15126.0</td>\n",
       "      <td>20793.0</td>\n",
       "      <td>6492.0</td>\n",
       "      <td>6994.0</td>\n",
       "      <td>1522.0</td>\n",
       "    </tr>\n",
       "    <tr>\n",
       "      <th>149</th>\n",
       "      <td>충청북도 진천군</td>\n",
       "      <td>591</td>\n",
       "      <td>NaN</td>\n",
       "      <td>58.0</td>\n",
       "      <td>NaN</td>\n",
       "      <td>112.0</td>\n",
       "      <td>NaN</td>\n",
       "    </tr>\n",
       "    <tr>\n",
       "      <th>150</th>\n",
       "      <td>충청북도 청주시</td>\n",
       "      <td>292296</td>\n",
       "      <td>456604.0</td>\n",
       "      <td>188988.0</td>\n",
       "      <td>203674.0</td>\n",
       "      <td>58406.0</td>\n",
       "      <td>116078.0</td>\n",
       "    </tr>\n",
       "    <tr>\n",
       "      <th>151</th>\n",
       "      <td>충청북도 충주시</td>\n",
       "      <td>54295</td>\n",
       "      <td>226594.0</td>\n",
       "      <td>52762.0</td>\n",
       "      <td>97256.0</td>\n",
       "      <td>27765.0</td>\n",
       "      <td>47262.0</td>\n",
       "    </tr>\n",
       "  </tbody>\n",
       "</table>\n",
       "<p>152 rows × 7 columns</p>\n",
       "</div>"
      ],
      "text/plain": [
       "          산지명   거래량_x     거래량_y     거래량_x     거래량_y    거래량_x     거래량_y\n",
       "0         강원도    3915     400.0       NaN       NaN      NaN    1680.0\n",
       "1     강원도 강릉시   46925  105596.0   47573.0   96580.0  23395.0   59840.0\n",
       "2     강원도 동해시   10946    2420.0    8330.0       NaN   2240.0    1140.0\n",
       "3     강원도 원주시    6382    7180.0    5437.0    6262.0   3753.0    7700.0\n",
       "4     강원도 인제군   70467   25920.0   64065.0   18564.0  31230.0   11260.0\n",
       "..        ...     ...       ...       ...       ...      ...       ...\n",
       "147  충청북도 음성군      78       NaN       NaN      72.0      NaN    1080.0\n",
       "148  충청북도 제천시   10625   15126.0   20793.0    6492.0   6994.0    1522.0\n",
       "149  충청북도 진천군     591       NaN      58.0       NaN    112.0       NaN\n",
       "150  충청북도 청주시  292296  456604.0  188988.0  203674.0  58406.0  116078.0\n",
       "151  충청북도 충주시   54295  226594.0   52762.0   97256.0  27765.0   47262.0\n",
       "\n",
       "[152 rows x 7 columns]"
      ]
     },
     "execution_count": 98,
     "metadata": {},
     "output_type": "execute_result"
    }
   ],
   "source": [
    "result2 = pd.merge(result,sum_trading_volume3, on = '산지명', how = 'left')\n",
    "result3 = pd.merge(result2,sum_trading_volume4, on = '산지명', how = 'left')\n",
    "result4 = pd.merge(result3,sum_trading_volume5, on = '산지명', how = 'left')\n",
    "result5 = pd.merge(result4,sum_trading_volume6, on = '산지명', how = 'left')\n",
    "result5"
   ]
  },
  {
   "cell_type": "code",
   "execution_count": 104,
   "metadata": {
    "scrolled": true
   },
   "outputs": [
    {
     "name": "stdout",
     "output_type": "stream",
     "text": [
      "<class 'pandas.core.frame.DataFrame'>\n",
      "Int64Index: 152 entries, 0 to 151\n",
      "Data columns (total 7 columns):\n",
      " #   Column  Non-Null Count  Dtype  \n",
      "---  ------  --------------  -----  \n",
      " 0   산지명     152 non-null    object \n",
      " 1   거래량_x   152 non-null    int64  \n",
      " 2   거래량_y   117 non-null    float64\n",
      " 3   거래량_x   128 non-null    float64\n",
      " 4   거래량_y   104 non-null    float64\n",
      " 5   거래량_x   117 non-null    float64\n",
      " 6   거래량_y   100 non-null    float64\n",
      "dtypes: float64(5), int64(1), object(1)\n",
      "memory usage: 9.5+ KB\n"
     ]
    },
    {
     "ename": "ValueError",
     "evalue": "Cannot convert non-finite values (NA or inf) to integer",
     "output_type": "error",
     "traceback": [
      "\u001b[1;31m---------------------------------------------------------------------------\u001b[0m",
      "\u001b[1;31mValueError\u001b[0m                                Traceback (most recent call last)",
      "\u001b[1;32m<ipython-input-104-26494617f808>\u001b[0m in \u001b[0;36m<module>\u001b[1;34m\u001b[0m\n\u001b[0;32m      2\u001b[0m \u001b[0mresult5\u001b[0m\u001b[1;33m.\u001b[0m\u001b[0minfo\u001b[0m\u001b[1;33m(\u001b[0m\u001b[1;33m)\u001b[0m\u001b[1;33m\u001b[0m\u001b[1;33m\u001b[0m\u001b[0m\n\u001b[0;32m      3\u001b[0m \u001b[0mresult5\u001b[0m\u001b[1;33m.\u001b[0m\u001b[0mfillna\u001b[0m\u001b[1;33m(\u001b[0m\u001b[1;36m0\u001b[0m\u001b[1;33m)\u001b[0m\u001b[1;33m\u001b[0m\u001b[1;33m\u001b[0m\u001b[0m\n\u001b[1;32m----> 4\u001b[1;33m \u001b[0mresult5\u001b[0m\u001b[1;33m.\u001b[0m\u001b[0mastype\u001b[0m\u001b[1;33m(\u001b[0m\u001b[0mint\u001b[0m\u001b[1;33m)\u001b[0m\u001b[1;33m\u001b[0m\u001b[1;33m\u001b[0m\u001b[0m\n\u001b[0m",
      "\u001b[1;32mC:\\ProgramData\\Anaconda3\\envs\\pydata\\lib\\site-packages\\pandas\\core\\generic.py\u001b[0m in \u001b[0;36mastype\u001b[1;34m(self, dtype, copy, errors)\u001b[0m\n\u001b[0;32m   5875\u001b[0m         \u001b[1;32melse\u001b[0m\u001b[1;33m:\u001b[0m\u001b[1;33m\u001b[0m\u001b[1;33m\u001b[0m\u001b[0m\n\u001b[0;32m   5876\u001b[0m             \u001b[1;31m# else, only a single dtype is given\u001b[0m\u001b[1;33m\u001b[0m\u001b[1;33m\u001b[0m\u001b[1;33m\u001b[0m\u001b[0m\n\u001b[1;32m-> 5877\u001b[1;33m             \u001b[0mnew_data\u001b[0m \u001b[1;33m=\u001b[0m \u001b[0mself\u001b[0m\u001b[1;33m.\u001b[0m\u001b[0m_mgr\u001b[0m\u001b[1;33m.\u001b[0m\u001b[0mastype\u001b[0m\u001b[1;33m(\u001b[0m\u001b[0mdtype\u001b[0m\u001b[1;33m=\u001b[0m\u001b[0mdtype\u001b[0m\u001b[1;33m,\u001b[0m \u001b[0mcopy\u001b[0m\u001b[1;33m=\u001b[0m\u001b[0mcopy\u001b[0m\u001b[1;33m,\u001b[0m \u001b[0merrors\u001b[0m\u001b[1;33m=\u001b[0m\u001b[0merrors\u001b[0m\u001b[1;33m)\u001b[0m\u001b[1;33m\u001b[0m\u001b[1;33m\u001b[0m\u001b[0m\n\u001b[0m\u001b[0;32m   5878\u001b[0m             \u001b[1;32mreturn\u001b[0m \u001b[0mself\u001b[0m\u001b[1;33m.\u001b[0m\u001b[0m_constructor\u001b[0m\u001b[1;33m(\u001b[0m\u001b[0mnew_data\u001b[0m\u001b[1;33m)\u001b[0m\u001b[1;33m.\u001b[0m\u001b[0m__finalize__\u001b[0m\u001b[1;33m(\u001b[0m\u001b[0mself\u001b[0m\u001b[1;33m,\u001b[0m \u001b[0mmethod\u001b[0m\u001b[1;33m=\u001b[0m\u001b[1;34m\"astype\"\u001b[0m\u001b[1;33m)\u001b[0m\u001b[1;33m\u001b[0m\u001b[1;33m\u001b[0m\u001b[0m\n\u001b[0;32m   5879\u001b[0m \u001b[1;33m\u001b[0m\u001b[0m\n",
      "\u001b[1;32mC:\\ProgramData\\Anaconda3\\envs\\pydata\\lib\\site-packages\\pandas\\core\\internals\\managers.py\u001b[0m in \u001b[0;36mastype\u001b[1;34m(self, dtype, copy, errors)\u001b[0m\n\u001b[0;32m    629\u001b[0m         \u001b[0mself\u001b[0m\u001b[1;33m,\u001b[0m \u001b[0mdtype\u001b[0m\u001b[1;33m,\u001b[0m \u001b[0mcopy\u001b[0m\u001b[1;33m:\u001b[0m \u001b[0mbool\u001b[0m \u001b[1;33m=\u001b[0m \u001b[1;32mFalse\u001b[0m\u001b[1;33m,\u001b[0m \u001b[0merrors\u001b[0m\u001b[1;33m:\u001b[0m \u001b[0mstr\u001b[0m \u001b[1;33m=\u001b[0m \u001b[1;34m\"raise\"\u001b[0m\u001b[1;33m\u001b[0m\u001b[1;33m\u001b[0m\u001b[0m\n\u001b[0;32m    630\u001b[0m     ) -> \"BlockManager\":\n\u001b[1;32m--> 631\u001b[1;33m         \u001b[1;32mreturn\u001b[0m \u001b[0mself\u001b[0m\u001b[1;33m.\u001b[0m\u001b[0mapply\u001b[0m\u001b[1;33m(\u001b[0m\u001b[1;34m\"astype\"\u001b[0m\u001b[1;33m,\u001b[0m \u001b[0mdtype\u001b[0m\u001b[1;33m=\u001b[0m\u001b[0mdtype\u001b[0m\u001b[1;33m,\u001b[0m \u001b[0mcopy\u001b[0m\u001b[1;33m=\u001b[0m\u001b[0mcopy\u001b[0m\u001b[1;33m,\u001b[0m \u001b[0merrors\u001b[0m\u001b[1;33m=\u001b[0m\u001b[0merrors\u001b[0m\u001b[1;33m)\u001b[0m\u001b[1;33m\u001b[0m\u001b[1;33m\u001b[0m\u001b[0m\n\u001b[0m\u001b[0;32m    632\u001b[0m \u001b[1;33m\u001b[0m\u001b[0m\n\u001b[0;32m    633\u001b[0m     def convert(\n",
      "\u001b[1;32mC:\\ProgramData\\Anaconda3\\envs\\pydata\\lib\\site-packages\\pandas\\core\\internals\\managers.py\u001b[0m in \u001b[0;36mapply\u001b[1;34m(self, f, align_keys, ignore_failures, **kwargs)\u001b[0m\n\u001b[0;32m    425\u001b[0m                     \u001b[0mapplied\u001b[0m \u001b[1;33m=\u001b[0m \u001b[0mb\u001b[0m\u001b[1;33m.\u001b[0m\u001b[0mapply\u001b[0m\u001b[1;33m(\u001b[0m\u001b[0mf\u001b[0m\u001b[1;33m,\u001b[0m \u001b[1;33m**\u001b[0m\u001b[0mkwargs\u001b[0m\u001b[1;33m)\u001b[0m\u001b[1;33m\u001b[0m\u001b[1;33m\u001b[0m\u001b[0m\n\u001b[0;32m    426\u001b[0m                 \u001b[1;32melse\u001b[0m\u001b[1;33m:\u001b[0m\u001b[1;33m\u001b[0m\u001b[1;33m\u001b[0m\u001b[0m\n\u001b[1;32m--> 427\u001b[1;33m                     \u001b[0mapplied\u001b[0m \u001b[1;33m=\u001b[0m \u001b[0mgetattr\u001b[0m\u001b[1;33m(\u001b[0m\u001b[0mb\u001b[0m\u001b[1;33m,\u001b[0m \u001b[0mf\u001b[0m\u001b[1;33m)\u001b[0m\u001b[1;33m(\u001b[0m\u001b[1;33m**\u001b[0m\u001b[0mkwargs\u001b[0m\u001b[1;33m)\u001b[0m\u001b[1;33m\u001b[0m\u001b[1;33m\u001b[0m\u001b[0m\n\u001b[0m\u001b[0;32m    428\u001b[0m             \u001b[1;32mexcept\u001b[0m \u001b[1;33m(\u001b[0m\u001b[0mTypeError\u001b[0m\u001b[1;33m,\u001b[0m \u001b[0mNotImplementedError\u001b[0m\u001b[1;33m)\u001b[0m\u001b[1;33m:\u001b[0m\u001b[1;33m\u001b[0m\u001b[1;33m\u001b[0m\u001b[0m\n\u001b[0;32m    429\u001b[0m                 \u001b[1;32mif\u001b[0m \u001b[1;32mnot\u001b[0m \u001b[0mignore_failures\u001b[0m\u001b[1;33m:\u001b[0m\u001b[1;33m\u001b[0m\u001b[1;33m\u001b[0m\u001b[0m\n",
      "\u001b[1;32mC:\\ProgramData\\Anaconda3\\envs\\pydata\\lib\\site-packages\\pandas\\core\\internals\\blocks.py\u001b[0m in \u001b[0;36mastype\u001b[1;34m(self, dtype, copy, errors)\u001b[0m\n\u001b[0;32m    671\u001b[0m             \u001b[0mvals1d\u001b[0m \u001b[1;33m=\u001b[0m \u001b[0mvalues\u001b[0m\u001b[1;33m.\u001b[0m\u001b[0mravel\u001b[0m\u001b[1;33m(\u001b[0m\u001b[1;33m)\u001b[0m\u001b[1;33m\u001b[0m\u001b[1;33m\u001b[0m\u001b[0m\n\u001b[0;32m    672\u001b[0m             \u001b[1;32mtry\u001b[0m\u001b[1;33m:\u001b[0m\u001b[1;33m\u001b[0m\u001b[1;33m\u001b[0m\u001b[0m\n\u001b[1;32m--> 673\u001b[1;33m                 \u001b[0mvalues\u001b[0m \u001b[1;33m=\u001b[0m \u001b[0mastype_nansafe\u001b[0m\u001b[1;33m(\u001b[0m\u001b[0mvals1d\u001b[0m\u001b[1;33m,\u001b[0m \u001b[0mdtype\u001b[0m\u001b[1;33m,\u001b[0m \u001b[0mcopy\u001b[0m\u001b[1;33m=\u001b[0m\u001b[1;32mTrue\u001b[0m\u001b[1;33m)\u001b[0m\u001b[1;33m\u001b[0m\u001b[1;33m\u001b[0m\u001b[0m\n\u001b[0m\u001b[0;32m    674\u001b[0m             \u001b[1;32mexcept\u001b[0m \u001b[1;33m(\u001b[0m\u001b[0mValueError\u001b[0m\u001b[1;33m,\u001b[0m \u001b[0mTypeError\u001b[0m\u001b[1;33m)\u001b[0m\u001b[1;33m:\u001b[0m\u001b[1;33m\u001b[0m\u001b[1;33m\u001b[0m\u001b[0m\n\u001b[0;32m    675\u001b[0m                 \u001b[1;31m# e.g. astype_nansafe can fail on object-dtype of strings\u001b[0m\u001b[1;33m\u001b[0m\u001b[1;33m\u001b[0m\u001b[1;33m\u001b[0m\u001b[0m\n",
      "\u001b[1;32mC:\\ProgramData\\Anaconda3\\envs\\pydata\\lib\\site-packages\\pandas\\core\\dtypes\\cast.py\u001b[0m in \u001b[0;36mastype_nansafe\u001b[1;34m(arr, dtype, copy, skipna)\u001b[0m\n\u001b[0;32m   1066\u001b[0m \u001b[1;33m\u001b[0m\u001b[0m\n\u001b[0;32m   1067\u001b[0m         \u001b[1;32mif\u001b[0m \u001b[1;32mnot\u001b[0m \u001b[0mnp\u001b[0m\u001b[1;33m.\u001b[0m\u001b[0misfinite\u001b[0m\u001b[1;33m(\u001b[0m\u001b[0marr\u001b[0m\u001b[1;33m)\u001b[0m\u001b[1;33m.\u001b[0m\u001b[0mall\u001b[0m\u001b[1;33m(\u001b[0m\u001b[1;33m)\u001b[0m\u001b[1;33m:\u001b[0m\u001b[1;33m\u001b[0m\u001b[1;33m\u001b[0m\u001b[0m\n\u001b[1;32m-> 1068\u001b[1;33m             \u001b[1;32mraise\u001b[0m \u001b[0mValueError\u001b[0m\u001b[1;33m(\u001b[0m\u001b[1;34m\"Cannot convert non-finite values (NA or inf) to integer\"\u001b[0m\u001b[1;33m)\u001b[0m\u001b[1;33m\u001b[0m\u001b[1;33m\u001b[0m\u001b[0m\n\u001b[0m\u001b[0;32m   1069\u001b[0m \u001b[1;33m\u001b[0m\u001b[0m\n\u001b[0;32m   1070\u001b[0m     \u001b[1;32melif\u001b[0m \u001b[0mis_object_dtype\u001b[0m\u001b[1;33m(\u001b[0m\u001b[0marr\u001b[0m\u001b[1;33m)\u001b[0m\u001b[1;33m:\u001b[0m\u001b[1;33m\u001b[0m\u001b[1;33m\u001b[0m\u001b[0m\n",
      "\u001b[1;31mValueError\u001b[0m: Cannot convert non-finite values (NA or inf) to integer"
     ]
    }
   ],
   "source": [
    "# 결측치 채우기\n",
    "result5.info()\n",
    "result5.fillna(0)"
   ]
  },
  {
   "cell_type": "code",
   "execution_count": 123,
   "metadata": {},
   "outputs": [],
   "source": [
    "# 컬럼 변경\n",
    "result5.columns=['산지명','202001','202101','202002','202102','202003','202103'] "
   ]
  },
  {
   "cell_type": "code",
   "execution_count": 124,
   "metadata": {},
   "outputs": [
    {
     "data": {
      "text/html": [
       "<div>\n",
       "<style scoped>\n",
       "    .dataframe tbody tr th:only-of-type {\n",
       "        vertical-align: middle;\n",
       "    }\n",
       "\n",
       "    .dataframe tbody tr th {\n",
       "        vertical-align: top;\n",
       "    }\n",
       "\n",
       "    .dataframe thead th {\n",
       "        text-align: right;\n",
       "    }\n",
       "</style>\n",
       "<table border=\"1\" class=\"dataframe\">\n",
       "  <thead>\n",
       "    <tr style=\"text-align: right;\">\n",
       "      <th></th>\n",
       "      <th>산지명</th>\n",
       "      <th>202001</th>\n",
       "      <th>202101</th>\n",
       "      <th>202002</th>\n",
       "      <th>202102</th>\n",
       "      <th>202003</th>\n",
       "      <th>202103</th>\n",
       "    </tr>\n",
       "  </thead>\n",
       "  <tbody>\n",
       "    <tr>\n",
       "      <th>0</th>\n",
       "      <td>강원도</td>\n",
       "      <td>3915</td>\n",
       "      <td>400.0</td>\n",
       "      <td>0</td>\n",
       "      <td>0</td>\n",
       "      <td>0</td>\n",
       "      <td>1680.0</td>\n",
       "    </tr>\n",
       "    <tr>\n",
       "      <th>1</th>\n",
       "      <td>강원도 강릉시</td>\n",
       "      <td>46925</td>\n",
       "      <td>105596.0</td>\n",
       "      <td>47573</td>\n",
       "      <td>96580</td>\n",
       "      <td>23395</td>\n",
       "      <td>59840.0</td>\n",
       "    </tr>\n",
       "    <tr>\n",
       "      <th>2</th>\n",
       "      <td>강원도 동해시</td>\n",
       "      <td>10946</td>\n",
       "      <td>2420.0</td>\n",
       "      <td>8330</td>\n",
       "      <td>0</td>\n",
       "      <td>2240</td>\n",
       "      <td>1140.0</td>\n",
       "    </tr>\n",
       "    <tr>\n",
       "      <th>3</th>\n",
       "      <td>강원도 원주시</td>\n",
       "      <td>6382</td>\n",
       "      <td>7180.0</td>\n",
       "      <td>5437</td>\n",
       "      <td>6262</td>\n",
       "      <td>3753</td>\n",
       "      <td>7700.0</td>\n",
       "    </tr>\n",
       "    <tr>\n",
       "      <th>4</th>\n",
       "      <td>강원도 인제군</td>\n",
       "      <td>70467</td>\n",
       "      <td>25920.0</td>\n",
       "      <td>64065</td>\n",
       "      <td>18564</td>\n",
       "      <td>31230</td>\n",
       "      <td>11260.0</td>\n",
       "    </tr>\n",
       "    <tr>\n",
       "      <th>...</th>\n",
       "      <td>...</td>\n",
       "      <td>...</td>\n",
       "      <td>...</td>\n",
       "      <td>...</td>\n",
       "      <td>...</td>\n",
       "      <td>...</td>\n",
       "      <td>...</td>\n",
       "    </tr>\n",
       "    <tr>\n",
       "      <th>147</th>\n",
       "      <td>충청북도 음성군</td>\n",
       "      <td>78</td>\n",
       "      <td>0.0</td>\n",
       "      <td>0</td>\n",
       "      <td>72</td>\n",
       "      <td>0</td>\n",
       "      <td>1080.0</td>\n",
       "    </tr>\n",
       "    <tr>\n",
       "      <th>148</th>\n",
       "      <td>충청북도 제천시</td>\n",
       "      <td>10625</td>\n",
       "      <td>15126.0</td>\n",
       "      <td>20793</td>\n",
       "      <td>6492</td>\n",
       "      <td>6994</td>\n",
       "      <td>1522.0</td>\n",
       "    </tr>\n",
       "    <tr>\n",
       "      <th>149</th>\n",
       "      <td>충청북도 진천군</td>\n",
       "      <td>591</td>\n",
       "      <td>0.0</td>\n",
       "      <td>58</td>\n",
       "      <td>0</td>\n",
       "      <td>112</td>\n",
       "      <td>0.0</td>\n",
       "    </tr>\n",
       "    <tr>\n",
       "      <th>150</th>\n",
       "      <td>충청북도 청주시</td>\n",
       "      <td>292296</td>\n",
       "      <td>456604.0</td>\n",
       "      <td>188988</td>\n",
       "      <td>203674</td>\n",
       "      <td>58406</td>\n",
       "      <td>116078.0</td>\n",
       "    </tr>\n",
       "    <tr>\n",
       "      <th>151</th>\n",
       "      <td>충청북도 충주시</td>\n",
       "      <td>54295</td>\n",
       "      <td>226594.0</td>\n",
       "      <td>52762</td>\n",
       "      <td>97256</td>\n",
       "      <td>27765</td>\n",
       "      <td>47262.0</td>\n",
       "    </tr>\n",
       "  </tbody>\n",
       "</table>\n",
       "<p>152 rows × 7 columns</p>\n",
       "</div>"
      ],
      "text/plain": [
       "          산지명  202001    202101  202002  202102  202003    202103\n",
       "0         강원도    3915     400.0       0       0       0    1680.0\n",
       "1     강원도 강릉시   46925  105596.0   47573   96580   23395   59840.0\n",
       "2     강원도 동해시   10946    2420.0    8330       0    2240    1140.0\n",
       "3     강원도 원주시    6382    7180.0    5437    6262    3753    7700.0\n",
       "4     강원도 인제군   70467   25920.0   64065   18564   31230   11260.0\n",
       "..        ...     ...       ...     ...     ...     ...       ...\n",
       "147  충청북도 음성군      78       0.0       0      72       0    1080.0\n",
       "148  충청북도 제천시   10625   15126.0   20793    6492    6994    1522.0\n",
       "149  충청북도 진천군     591       0.0      58       0     112       0.0\n",
       "150  충청북도 청주시  292296  456604.0  188988  203674   58406  116078.0\n",
       "151  충청북도 충주시   54295  226594.0   52762   97256   27765   47262.0\n",
       "\n",
       "[152 rows x 7 columns]"
      ]
     },
     "execution_count": 124,
     "metadata": {},
     "output_type": "execute_result"
    }
   ],
   "source": [
    "result5"
   ]
  },
  {
   "cell_type": "code",
   "execution_count": 125,
   "metadata": {},
   "outputs": [],
   "source": [
    "result5 = result5.fillna(0)"
   ]
  },
  {
   "cell_type": "code",
   "execution_count": 126,
   "metadata": {},
   "outputs": [],
   "source": [
    "# 정수 처리\n",
    "result5 = result5.astype({'202001':'int'},{'202101':'int'})#2020컬럼 정수 처리\n",
    "# TypeError: astype() takes from 2 to 4 positional arguments but 5 were given"
   ]
  },
  {
   "cell_type": "code",
   "execution_count": 127,
   "metadata": {},
   "outputs": [
    {
     "data": {
      "text/html": [
       "<div>\n",
       "<style scoped>\n",
       "    .dataframe tbody tr th:only-of-type {\n",
       "        vertical-align: middle;\n",
       "    }\n",
       "\n",
       "    .dataframe tbody tr th {\n",
       "        vertical-align: top;\n",
       "    }\n",
       "\n",
       "    .dataframe thead th {\n",
       "        text-align: right;\n",
       "    }\n",
       "</style>\n",
       "<table border=\"1\" class=\"dataframe\">\n",
       "  <thead>\n",
       "    <tr style=\"text-align: right;\">\n",
       "      <th></th>\n",
       "      <th>산지명</th>\n",
       "      <th>202001</th>\n",
       "      <th>202101</th>\n",
       "      <th>202002</th>\n",
       "      <th>202102</th>\n",
       "      <th>202003</th>\n",
       "      <th>202103</th>\n",
       "    </tr>\n",
       "  </thead>\n",
       "  <tbody>\n",
       "    <tr>\n",
       "      <th>0</th>\n",
       "      <td>False</td>\n",
       "      <td>False</td>\n",
       "      <td>False</td>\n",
       "      <td>False</td>\n",
       "      <td>False</td>\n",
       "      <td>False</td>\n",
       "      <td>False</td>\n",
       "    </tr>\n",
       "    <tr>\n",
       "      <th>1</th>\n",
       "      <td>False</td>\n",
       "      <td>False</td>\n",
       "      <td>False</td>\n",
       "      <td>False</td>\n",
       "      <td>False</td>\n",
       "      <td>False</td>\n",
       "      <td>False</td>\n",
       "    </tr>\n",
       "    <tr>\n",
       "      <th>2</th>\n",
       "      <td>False</td>\n",
       "      <td>False</td>\n",
       "      <td>False</td>\n",
       "      <td>False</td>\n",
       "      <td>False</td>\n",
       "      <td>False</td>\n",
       "      <td>False</td>\n",
       "    </tr>\n",
       "    <tr>\n",
       "      <th>3</th>\n",
       "      <td>False</td>\n",
       "      <td>False</td>\n",
       "      <td>False</td>\n",
       "      <td>False</td>\n",
       "      <td>False</td>\n",
       "      <td>False</td>\n",
       "      <td>False</td>\n",
       "    </tr>\n",
       "    <tr>\n",
       "      <th>4</th>\n",
       "      <td>False</td>\n",
       "      <td>False</td>\n",
       "      <td>False</td>\n",
       "      <td>False</td>\n",
       "      <td>False</td>\n",
       "      <td>False</td>\n",
       "      <td>False</td>\n",
       "    </tr>\n",
       "    <tr>\n",
       "      <th>...</th>\n",
       "      <td>...</td>\n",
       "      <td>...</td>\n",
       "      <td>...</td>\n",
       "      <td>...</td>\n",
       "      <td>...</td>\n",
       "      <td>...</td>\n",
       "      <td>...</td>\n",
       "    </tr>\n",
       "    <tr>\n",
       "      <th>147</th>\n",
       "      <td>False</td>\n",
       "      <td>False</td>\n",
       "      <td>False</td>\n",
       "      <td>False</td>\n",
       "      <td>False</td>\n",
       "      <td>False</td>\n",
       "      <td>False</td>\n",
       "    </tr>\n",
       "    <tr>\n",
       "      <th>148</th>\n",
       "      <td>False</td>\n",
       "      <td>False</td>\n",
       "      <td>False</td>\n",
       "      <td>False</td>\n",
       "      <td>False</td>\n",
       "      <td>False</td>\n",
       "      <td>False</td>\n",
       "    </tr>\n",
       "    <tr>\n",
       "      <th>149</th>\n",
       "      <td>False</td>\n",
       "      <td>False</td>\n",
       "      <td>False</td>\n",
       "      <td>False</td>\n",
       "      <td>False</td>\n",
       "      <td>False</td>\n",
       "      <td>False</td>\n",
       "    </tr>\n",
       "    <tr>\n",
       "      <th>150</th>\n",
       "      <td>False</td>\n",
       "      <td>False</td>\n",
       "      <td>False</td>\n",
       "      <td>False</td>\n",
       "      <td>False</td>\n",
       "      <td>False</td>\n",
       "      <td>False</td>\n",
       "    </tr>\n",
       "    <tr>\n",
       "      <th>151</th>\n",
       "      <td>False</td>\n",
       "      <td>False</td>\n",
       "      <td>False</td>\n",
       "      <td>False</td>\n",
       "      <td>False</td>\n",
       "      <td>False</td>\n",
       "      <td>False</td>\n",
       "    </tr>\n",
       "  </tbody>\n",
       "</table>\n",
       "<p>152 rows × 7 columns</p>\n",
       "</div>"
      ],
      "text/plain": [
       "       산지명  202001  202101  202002  202102  202003  202103\n",
       "0    False   False   False   False   False   False   False\n",
       "1    False   False   False   False   False   False   False\n",
       "2    False   False   False   False   False   False   False\n",
       "3    False   False   False   False   False   False   False\n",
       "4    False   False   False   False   False   False   False\n",
       "..     ...     ...     ...     ...     ...     ...     ...\n",
       "147  False   False   False   False   False   False   False\n",
       "148  False   False   False   False   False   False   False\n",
       "149  False   False   False   False   False   False   False\n",
       "150  False   False   False   False   False   False   False\n",
       "151  False   False   False   False   False   False   False\n",
       "\n",
       "[152 rows x 7 columns]"
      ]
     },
     "execution_count": 127,
     "metadata": {},
     "output_type": "execute_result"
    }
   ],
   "source": [
    "result5.isnull()"
   ]
  },
  {
   "cell_type": "code",
   "execution_count": 128,
   "metadata": {
    "scrolled": true
   },
   "outputs": [],
   "source": [
    "result5 = result5.astype({'202002':'int'},{'202102':'int'})"
   ]
  },
  {
   "cell_type": "code",
   "execution_count": 129,
   "metadata": {},
   "outputs": [
    {
     "data": {
      "text/html": [
       "<div>\n",
       "<style scoped>\n",
       "    .dataframe tbody tr th:only-of-type {\n",
       "        vertical-align: middle;\n",
       "    }\n",
       "\n",
       "    .dataframe tbody tr th {\n",
       "        vertical-align: top;\n",
       "    }\n",
       "\n",
       "    .dataframe thead th {\n",
       "        text-align: right;\n",
       "    }\n",
       "</style>\n",
       "<table border=\"1\" class=\"dataframe\">\n",
       "  <thead>\n",
       "    <tr style=\"text-align: right;\">\n",
       "      <th></th>\n",
       "      <th>산지명</th>\n",
       "      <th>202001</th>\n",
       "      <th>202101</th>\n",
       "      <th>202002</th>\n",
       "      <th>202102</th>\n",
       "      <th>202003</th>\n",
       "      <th>202103</th>\n",
       "    </tr>\n",
       "  </thead>\n",
       "  <tbody>\n",
       "    <tr>\n",
       "      <th>0</th>\n",
       "      <td>강원도</td>\n",
       "      <td>3915</td>\n",
       "      <td>400.0</td>\n",
       "      <td>0</td>\n",
       "      <td>0</td>\n",
       "      <td>0</td>\n",
       "      <td>1680.0</td>\n",
       "    </tr>\n",
       "    <tr>\n",
       "      <th>1</th>\n",
       "      <td>강원도 강릉시</td>\n",
       "      <td>46925</td>\n",
       "      <td>105596.0</td>\n",
       "      <td>47573</td>\n",
       "      <td>96580</td>\n",
       "      <td>23395</td>\n",
       "      <td>59840.0</td>\n",
       "    </tr>\n",
       "    <tr>\n",
       "      <th>2</th>\n",
       "      <td>강원도 동해시</td>\n",
       "      <td>10946</td>\n",
       "      <td>2420.0</td>\n",
       "      <td>8330</td>\n",
       "      <td>0</td>\n",
       "      <td>2240</td>\n",
       "      <td>1140.0</td>\n",
       "    </tr>\n",
       "    <tr>\n",
       "      <th>3</th>\n",
       "      <td>강원도 원주시</td>\n",
       "      <td>6382</td>\n",
       "      <td>7180.0</td>\n",
       "      <td>5437</td>\n",
       "      <td>6262</td>\n",
       "      <td>3753</td>\n",
       "      <td>7700.0</td>\n",
       "    </tr>\n",
       "    <tr>\n",
       "      <th>4</th>\n",
       "      <td>강원도 인제군</td>\n",
       "      <td>70467</td>\n",
       "      <td>25920.0</td>\n",
       "      <td>64065</td>\n",
       "      <td>18564</td>\n",
       "      <td>31230</td>\n",
       "      <td>11260.0</td>\n",
       "    </tr>\n",
       "    <tr>\n",
       "      <th>...</th>\n",
       "      <td>...</td>\n",
       "      <td>...</td>\n",
       "      <td>...</td>\n",
       "      <td>...</td>\n",
       "      <td>...</td>\n",
       "      <td>...</td>\n",
       "      <td>...</td>\n",
       "    </tr>\n",
       "    <tr>\n",
       "      <th>147</th>\n",
       "      <td>충청북도 음성군</td>\n",
       "      <td>78</td>\n",
       "      <td>0.0</td>\n",
       "      <td>0</td>\n",
       "      <td>72</td>\n",
       "      <td>0</td>\n",
       "      <td>1080.0</td>\n",
       "    </tr>\n",
       "    <tr>\n",
       "      <th>148</th>\n",
       "      <td>충청북도 제천시</td>\n",
       "      <td>10625</td>\n",
       "      <td>15126.0</td>\n",
       "      <td>20793</td>\n",
       "      <td>6492</td>\n",
       "      <td>6994</td>\n",
       "      <td>1522.0</td>\n",
       "    </tr>\n",
       "    <tr>\n",
       "      <th>149</th>\n",
       "      <td>충청북도 진천군</td>\n",
       "      <td>591</td>\n",
       "      <td>0.0</td>\n",
       "      <td>58</td>\n",
       "      <td>0</td>\n",
       "      <td>112</td>\n",
       "      <td>0.0</td>\n",
       "    </tr>\n",
       "    <tr>\n",
       "      <th>150</th>\n",
       "      <td>충청북도 청주시</td>\n",
       "      <td>292296</td>\n",
       "      <td>456604.0</td>\n",
       "      <td>188988</td>\n",
       "      <td>203674</td>\n",
       "      <td>58406</td>\n",
       "      <td>116078.0</td>\n",
       "    </tr>\n",
       "    <tr>\n",
       "      <th>151</th>\n",
       "      <td>충청북도 충주시</td>\n",
       "      <td>54295</td>\n",
       "      <td>226594.0</td>\n",
       "      <td>52762</td>\n",
       "      <td>97256</td>\n",
       "      <td>27765</td>\n",
       "      <td>47262.0</td>\n",
       "    </tr>\n",
       "  </tbody>\n",
       "</table>\n",
       "<p>152 rows × 7 columns</p>\n",
       "</div>"
      ],
      "text/plain": [
       "          산지명  202001    202101  202002  202102  202003    202103\n",
       "0         강원도    3915     400.0       0       0       0    1680.0\n",
       "1     강원도 강릉시   46925  105596.0   47573   96580   23395   59840.0\n",
       "2     강원도 동해시   10946    2420.0    8330       0    2240    1140.0\n",
       "3     강원도 원주시    6382    7180.0    5437    6262    3753    7700.0\n",
       "4     강원도 인제군   70467   25920.0   64065   18564   31230   11260.0\n",
       "..        ...     ...       ...     ...     ...     ...       ...\n",
       "147  충청북도 음성군      78       0.0       0      72       0    1080.0\n",
       "148  충청북도 제천시   10625   15126.0   20793    6492    6994    1522.0\n",
       "149  충청북도 진천군     591       0.0      58       0     112       0.0\n",
       "150  충청북도 청주시  292296  456604.0  188988  203674   58406  116078.0\n",
       "151  충청북도 충주시   54295  226594.0   52762   97256   27765   47262.0\n",
       "\n",
       "[152 rows x 7 columns]"
      ]
     },
     "execution_count": 129,
     "metadata": {},
     "output_type": "execute_result"
    }
   ],
   "source": [
    "result5 = result5.astype({'202003':'int'},{'202103':'int'})\n",
    "result5"
   ]
  },
  {
   "cell_type": "markdown",
   "metadata": {},
   "source": [
    "### 데이터 시각화 ###"
   ]
  },
  {
   "cell_type": "code",
   "execution_count": 108,
   "metadata": {},
   "outputs": [
    {
     "data": {
      "text/html": [
       "        <script type=\"text/javascript\">\n",
       "        window.PlotlyConfig = {MathJaxConfig: 'local'};\n",
       "        if (window.MathJax) {MathJax.Hub.Config({SVG: {font: \"STIX-Web\"}});}\n",
       "        if (typeof require !== 'undefined') {\n",
       "        require.undef(\"plotly\");\n",
       "        requirejs.config({\n",
       "            paths: {\n",
       "                'plotly': ['https://cdn.plot.ly/plotly-latest.min']\n",
       "            }\n",
       "        });\n",
       "        require(['plotly'], function(Plotly) {\n",
       "            window._Plotly = Plotly;\n",
       "        });\n",
       "        }\n",
       "        </script>\n",
       "        "
      ]
     },
     "metadata": {},
     "output_type": "display_data"
    }
   ],
   "source": [
    "import plotly\n",
    "import plotly.offline as pyo\n",
    "import plotly.graph_objs as go\n",
    "from plotly.offline import download_plotlyjs, init_notebook_mode, plot, iplot\n",
    "init_notebook_mode(connected=True)"
   ]
  },
  {
   "cell_type": "markdown",
   "metadata": {},
   "source": [
    "### 대파 총 거래량 합계 ###"
   ]
  },
  {
   "cell_type": "code",
   "execution_count": 109,
   "metadata": {
    "scrolled": true
   },
   "outputs": [
    {
     "data": {
      "application/vnd.plotly.v1+json": {
       "config": {
        "linkText": "Export to plot.ly",
        "plotlyServerURL": "https://plot.ly",
        "showLink": false
       },
       "data": [
        {
         "name": "2020",
         "type": "bar",
         "x": [
          "1월",
          "2월",
          "3월"
         ],
         "y": [
          9114615,
          8712647,
          3872972
         ]
        },
        {
         "name": "2021",
         "type": "bar",
         "x": [
          "1월",
          "2월",
          "3월"
         ],
         "y": [
          14394588,
          12299405,
          6601660
         ]
        },
        {
         "mode": "lines",
         "name": "2020lines",
         "type": "scatter",
         "x": [
          "1월",
          "2월",
          "3월"
         ],
         "y": [
          9114615,
          8712647,
          3872972
         ]
        },
        {
         "mode": "lines",
         "name": "2021lines",
         "type": "scatter",
         "x": [
          "1월",
          "2월",
          "3월"
         ],
         "y": [
          14394588,
          12299405,
          6601660
         ]
        }
       ],
       "layout": {
        "barmode": "stack",
        "template": {
         "data": {
          "bar": [
           {
            "error_x": {
             "color": "#2a3f5f"
            },
            "error_y": {
             "color": "#2a3f5f"
            },
            "marker": {
             "line": {
              "color": "#E5ECF6",
              "width": 0.5
             }
            },
            "type": "bar"
           }
          ],
          "barpolar": [
           {
            "marker": {
             "line": {
              "color": "#E5ECF6",
              "width": 0.5
             }
            },
            "type": "barpolar"
           }
          ],
          "carpet": [
           {
            "aaxis": {
             "endlinecolor": "#2a3f5f",
             "gridcolor": "white",
             "linecolor": "white",
             "minorgridcolor": "white",
             "startlinecolor": "#2a3f5f"
            },
            "baxis": {
             "endlinecolor": "#2a3f5f",
             "gridcolor": "white",
             "linecolor": "white",
             "minorgridcolor": "white",
             "startlinecolor": "#2a3f5f"
            },
            "type": "carpet"
           }
          ],
          "choropleth": [
           {
            "colorbar": {
             "outlinewidth": 0,
             "ticks": ""
            },
            "type": "choropleth"
           }
          ],
          "contour": [
           {
            "colorbar": {
             "outlinewidth": 0,
             "ticks": ""
            },
            "colorscale": [
             [
              0,
              "#0d0887"
             ],
             [
              0.1111111111111111,
              "#46039f"
             ],
             [
              0.2222222222222222,
              "#7201a8"
             ],
             [
              0.3333333333333333,
              "#9c179e"
             ],
             [
              0.4444444444444444,
              "#bd3786"
             ],
             [
              0.5555555555555556,
              "#d8576b"
             ],
             [
              0.6666666666666666,
              "#ed7953"
             ],
             [
              0.7777777777777778,
              "#fb9f3a"
             ],
             [
              0.8888888888888888,
              "#fdca26"
             ],
             [
              1,
              "#f0f921"
             ]
            ],
            "type": "contour"
           }
          ],
          "contourcarpet": [
           {
            "colorbar": {
             "outlinewidth": 0,
             "ticks": ""
            },
            "type": "contourcarpet"
           }
          ],
          "heatmap": [
           {
            "colorbar": {
             "outlinewidth": 0,
             "ticks": ""
            },
            "colorscale": [
             [
              0,
              "#0d0887"
             ],
             [
              0.1111111111111111,
              "#46039f"
             ],
             [
              0.2222222222222222,
              "#7201a8"
             ],
             [
              0.3333333333333333,
              "#9c179e"
             ],
             [
              0.4444444444444444,
              "#bd3786"
             ],
             [
              0.5555555555555556,
              "#d8576b"
             ],
             [
              0.6666666666666666,
              "#ed7953"
             ],
             [
              0.7777777777777778,
              "#fb9f3a"
             ],
             [
              0.8888888888888888,
              "#fdca26"
             ],
             [
              1,
              "#f0f921"
             ]
            ],
            "type": "heatmap"
           }
          ],
          "heatmapgl": [
           {
            "colorbar": {
             "outlinewidth": 0,
             "ticks": ""
            },
            "colorscale": [
             [
              0,
              "#0d0887"
             ],
             [
              0.1111111111111111,
              "#46039f"
             ],
             [
              0.2222222222222222,
              "#7201a8"
             ],
             [
              0.3333333333333333,
              "#9c179e"
             ],
             [
              0.4444444444444444,
              "#bd3786"
             ],
             [
              0.5555555555555556,
              "#d8576b"
             ],
             [
              0.6666666666666666,
              "#ed7953"
             ],
             [
              0.7777777777777778,
              "#fb9f3a"
             ],
             [
              0.8888888888888888,
              "#fdca26"
             ],
             [
              1,
              "#f0f921"
             ]
            ],
            "type": "heatmapgl"
           }
          ],
          "histogram": [
           {
            "marker": {
             "colorbar": {
              "outlinewidth": 0,
              "ticks": ""
             }
            },
            "type": "histogram"
           }
          ],
          "histogram2d": [
           {
            "colorbar": {
             "outlinewidth": 0,
             "ticks": ""
            },
            "colorscale": [
             [
              0,
              "#0d0887"
             ],
             [
              0.1111111111111111,
              "#46039f"
             ],
             [
              0.2222222222222222,
              "#7201a8"
             ],
             [
              0.3333333333333333,
              "#9c179e"
             ],
             [
              0.4444444444444444,
              "#bd3786"
             ],
             [
              0.5555555555555556,
              "#d8576b"
             ],
             [
              0.6666666666666666,
              "#ed7953"
             ],
             [
              0.7777777777777778,
              "#fb9f3a"
             ],
             [
              0.8888888888888888,
              "#fdca26"
             ],
             [
              1,
              "#f0f921"
             ]
            ],
            "type": "histogram2d"
           }
          ],
          "histogram2dcontour": [
           {
            "colorbar": {
             "outlinewidth": 0,
             "ticks": ""
            },
            "colorscale": [
             [
              0,
              "#0d0887"
             ],
             [
              0.1111111111111111,
              "#46039f"
             ],
             [
              0.2222222222222222,
              "#7201a8"
             ],
             [
              0.3333333333333333,
              "#9c179e"
             ],
             [
              0.4444444444444444,
              "#bd3786"
             ],
             [
              0.5555555555555556,
              "#d8576b"
             ],
             [
              0.6666666666666666,
              "#ed7953"
             ],
             [
              0.7777777777777778,
              "#fb9f3a"
             ],
             [
              0.8888888888888888,
              "#fdca26"
             ],
             [
              1,
              "#f0f921"
             ]
            ],
            "type": "histogram2dcontour"
           }
          ],
          "mesh3d": [
           {
            "colorbar": {
             "outlinewidth": 0,
             "ticks": ""
            },
            "type": "mesh3d"
           }
          ],
          "parcoords": [
           {
            "line": {
             "colorbar": {
              "outlinewidth": 0,
              "ticks": ""
             }
            },
            "type": "parcoords"
           }
          ],
          "pie": [
           {
            "automargin": true,
            "type": "pie"
           }
          ],
          "scatter": [
           {
            "marker": {
             "colorbar": {
              "outlinewidth": 0,
              "ticks": ""
             }
            },
            "type": "scatter"
           }
          ],
          "scatter3d": [
           {
            "line": {
             "colorbar": {
              "outlinewidth": 0,
              "ticks": ""
             }
            },
            "marker": {
             "colorbar": {
              "outlinewidth": 0,
              "ticks": ""
             }
            },
            "type": "scatter3d"
           }
          ],
          "scattercarpet": [
           {
            "marker": {
             "colorbar": {
              "outlinewidth": 0,
              "ticks": ""
             }
            },
            "type": "scattercarpet"
           }
          ],
          "scattergeo": [
           {
            "marker": {
             "colorbar": {
              "outlinewidth": 0,
              "ticks": ""
             }
            },
            "type": "scattergeo"
           }
          ],
          "scattergl": [
           {
            "marker": {
             "colorbar": {
              "outlinewidth": 0,
              "ticks": ""
             }
            },
            "type": "scattergl"
           }
          ],
          "scattermapbox": [
           {
            "marker": {
             "colorbar": {
              "outlinewidth": 0,
              "ticks": ""
             }
            },
            "type": "scattermapbox"
           }
          ],
          "scatterpolar": [
           {
            "marker": {
             "colorbar": {
              "outlinewidth": 0,
              "ticks": ""
             }
            },
            "type": "scatterpolar"
           }
          ],
          "scatterpolargl": [
           {
            "marker": {
             "colorbar": {
              "outlinewidth": 0,
              "ticks": ""
             }
            },
            "type": "scatterpolargl"
           }
          ],
          "scatterternary": [
           {
            "marker": {
             "colorbar": {
              "outlinewidth": 0,
              "ticks": ""
             }
            },
            "type": "scatterternary"
           }
          ],
          "surface": [
           {
            "colorbar": {
             "outlinewidth": 0,
             "ticks": ""
            },
            "colorscale": [
             [
              0,
              "#0d0887"
             ],
             [
              0.1111111111111111,
              "#46039f"
             ],
             [
              0.2222222222222222,
              "#7201a8"
             ],
             [
              0.3333333333333333,
              "#9c179e"
             ],
             [
              0.4444444444444444,
              "#bd3786"
             ],
             [
              0.5555555555555556,
              "#d8576b"
             ],
             [
              0.6666666666666666,
              "#ed7953"
             ],
             [
              0.7777777777777778,
              "#fb9f3a"
             ],
             [
              0.8888888888888888,
              "#fdca26"
             ],
             [
              1,
              "#f0f921"
             ]
            ],
            "type": "surface"
           }
          ],
          "table": [
           {
            "cells": {
             "fill": {
              "color": "#EBF0F8"
             },
             "line": {
              "color": "white"
             }
            },
            "header": {
             "fill": {
              "color": "#C8D4E3"
             },
             "line": {
              "color": "white"
             }
            },
            "type": "table"
           }
          ]
         },
         "layout": {
          "annotationdefaults": {
           "arrowcolor": "#2a3f5f",
           "arrowhead": 0,
           "arrowwidth": 1
          },
          "autotypenumbers": "strict",
          "coloraxis": {
           "colorbar": {
            "outlinewidth": 0,
            "ticks": ""
           }
          },
          "colorscale": {
           "diverging": [
            [
             0,
             "#8e0152"
            ],
            [
             0.1,
             "#c51b7d"
            ],
            [
             0.2,
             "#de77ae"
            ],
            [
             0.3,
             "#f1b6da"
            ],
            [
             0.4,
             "#fde0ef"
            ],
            [
             0.5,
             "#f7f7f7"
            ],
            [
             0.6,
             "#e6f5d0"
            ],
            [
             0.7,
             "#b8e186"
            ],
            [
             0.8,
             "#7fbc41"
            ],
            [
             0.9,
             "#4d9221"
            ],
            [
             1,
             "#276419"
            ]
           ],
           "sequential": [
            [
             0,
             "#0d0887"
            ],
            [
             0.1111111111111111,
             "#46039f"
            ],
            [
             0.2222222222222222,
             "#7201a8"
            ],
            [
             0.3333333333333333,
             "#9c179e"
            ],
            [
             0.4444444444444444,
             "#bd3786"
            ],
            [
             0.5555555555555556,
             "#d8576b"
            ],
            [
             0.6666666666666666,
             "#ed7953"
            ],
            [
             0.7777777777777778,
             "#fb9f3a"
            ],
            [
             0.8888888888888888,
             "#fdca26"
            ],
            [
             1,
             "#f0f921"
            ]
           ],
           "sequentialminus": [
            [
             0,
             "#0d0887"
            ],
            [
             0.1111111111111111,
             "#46039f"
            ],
            [
             0.2222222222222222,
             "#7201a8"
            ],
            [
             0.3333333333333333,
             "#9c179e"
            ],
            [
             0.4444444444444444,
             "#bd3786"
            ],
            [
             0.5555555555555556,
             "#d8576b"
            ],
            [
             0.6666666666666666,
             "#ed7953"
            ],
            [
             0.7777777777777778,
             "#fb9f3a"
            ],
            [
             0.8888888888888888,
             "#fdca26"
            ],
            [
             1,
             "#f0f921"
            ]
           ]
          },
          "colorway": [
           "#636efa",
           "#EF553B",
           "#00cc96",
           "#ab63fa",
           "#FFA15A",
           "#19d3f3",
           "#FF6692",
           "#B6E880",
           "#FF97FF",
           "#FECB52"
          ],
          "font": {
           "color": "#2a3f5f"
          },
          "geo": {
           "bgcolor": "white",
           "lakecolor": "white",
           "landcolor": "#E5ECF6",
           "showlakes": true,
           "showland": true,
           "subunitcolor": "white"
          },
          "hoverlabel": {
           "align": "left"
          },
          "hovermode": "closest",
          "mapbox": {
           "style": "light"
          },
          "paper_bgcolor": "white",
          "plot_bgcolor": "#E5ECF6",
          "polar": {
           "angularaxis": {
            "gridcolor": "white",
            "linecolor": "white",
            "ticks": ""
           },
           "bgcolor": "#E5ECF6",
           "radialaxis": {
            "gridcolor": "white",
            "linecolor": "white",
            "ticks": ""
           }
          },
          "scene": {
           "xaxis": {
            "backgroundcolor": "#E5ECF6",
            "gridcolor": "white",
            "gridwidth": 2,
            "linecolor": "white",
            "showbackground": true,
            "ticks": "",
            "zerolinecolor": "white"
           },
           "yaxis": {
            "backgroundcolor": "#E5ECF6",
            "gridcolor": "white",
            "gridwidth": 2,
            "linecolor": "white",
            "showbackground": true,
            "ticks": "",
            "zerolinecolor": "white"
           },
           "zaxis": {
            "backgroundcolor": "#E5ECF6",
            "gridcolor": "white",
            "gridwidth": 2,
            "linecolor": "white",
            "showbackground": true,
            "ticks": "",
            "zerolinecolor": "white"
           }
          },
          "shapedefaults": {
           "line": {
            "color": "#2a3f5f"
           }
          },
          "ternary": {
           "aaxis": {
            "gridcolor": "white",
            "linecolor": "white",
            "ticks": ""
           },
           "baxis": {
            "gridcolor": "white",
            "linecolor": "white",
            "ticks": ""
           },
           "bgcolor": "#E5ECF6",
           "caxis": {
            "gridcolor": "white",
            "linecolor": "white",
            "ticks": ""
           }
          },
          "title": {
           "x": 0.05
          },
          "xaxis": {
           "automargin": true,
           "gridcolor": "white",
           "linecolor": "white",
           "ticks": "",
           "title": {
            "standoff": 15
           },
           "zerolinecolor": "white",
           "zerolinewidth": 2
          },
          "yaxis": {
           "automargin": true,
           "gridcolor": "white",
           "linecolor": "white",
           "ticks": "",
           "title": {
            "standoff": 15
           },
           "zerolinecolor": "white",
           "zerolinewidth": 2
          }
         }
        },
        "title": {
         "text": "2020-2021 1~3월 대파 총 거래량"
        }
       }
      },
      "text/html": [
       "<div>                            <div id=\"eca6391c-7bb6-45e0-8b15-09c364c55200\" class=\"plotly-graph-div\" style=\"height:525px; width:100%;\"></div>            <script type=\"text/javascript\">                require([\"plotly\"], function(Plotly) {                    window.PLOTLYENV=window.PLOTLYENV || {};                                    if (document.getElementById(\"eca6391c-7bb6-45e0-8b15-09c364c55200\")) {                    Plotly.newPlot(                        \"eca6391c-7bb6-45e0-8b15-09c364c55200\",                        [{\"name\": \"2020\", \"type\": \"bar\", \"x\": [\"1\\uc6d4\", \"2\\uc6d4\", \"3\\uc6d4\"], \"y\": [9114615, 8712647, 3872972]}, {\"name\": \"2021\", \"type\": \"bar\", \"x\": [\"1\\uc6d4\", \"2\\uc6d4\", \"3\\uc6d4\"], \"y\": [14394588, 12299405, 6601660]}, {\"mode\": \"lines\", \"name\": \"2020lines\", \"type\": \"scatter\", \"x\": [\"1\\uc6d4\", \"2\\uc6d4\", \"3\\uc6d4\"], \"y\": [9114615, 8712647, 3872972]}, {\"mode\": \"lines\", \"name\": \"2021lines\", \"type\": \"scatter\", \"x\": [\"1\\uc6d4\", \"2\\uc6d4\", \"3\\uc6d4\"], \"y\": [14394588, 12299405, 6601660]}],                        {\"barmode\": \"stack\", \"template\": {\"data\": {\"bar\": [{\"error_x\": {\"color\": \"#2a3f5f\"}, \"error_y\": {\"color\": \"#2a3f5f\"}, \"marker\": {\"line\": {\"color\": \"#E5ECF6\", \"width\": 0.5}}, \"type\": \"bar\"}], \"barpolar\": [{\"marker\": {\"line\": {\"color\": \"#E5ECF6\", \"width\": 0.5}}, \"type\": \"barpolar\"}], \"carpet\": [{\"aaxis\": {\"endlinecolor\": \"#2a3f5f\", \"gridcolor\": \"white\", \"linecolor\": \"white\", \"minorgridcolor\": \"white\", \"startlinecolor\": \"#2a3f5f\"}, \"baxis\": {\"endlinecolor\": \"#2a3f5f\", \"gridcolor\": \"white\", \"linecolor\": \"white\", \"minorgridcolor\": \"white\", \"startlinecolor\": \"#2a3f5f\"}, \"type\": \"carpet\"}], \"choropleth\": [{\"colorbar\": {\"outlinewidth\": 0, \"ticks\": \"\"}, \"type\": \"choropleth\"}], \"contour\": [{\"colorbar\": {\"outlinewidth\": 0, \"ticks\": \"\"}, \"colorscale\": [[0.0, \"#0d0887\"], [0.1111111111111111, \"#46039f\"], [0.2222222222222222, \"#7201a8\"], [0.3333333333333333, \"#9c179e\"], [0.4444444444444444, \"#bd3786\"], [0.5555555555555556, \"#d8576b\"], [0.6666666666666666, \"#ed7953\"], [0.7777777777777778, \"#fb9f3a\"], [0.8888888888888888, \"#fdca26\"], [1.0, \"#f0f921\"]], \"type\": \"contour\"}], \"contourcarpet\": [{\"colorbar\": {\"outlinewidth\": 0, \"ticks\": \"\"}, \"type\": \"contourcarpet\"}], \"heatmap\": [{\"colorbar\": {\"outlinewidth\": 0, \"ticks\": \"\"}, \"colorscale\": [[0.0, \"#0d0887\"], [0.1111111111111111, \"#46039f\"], [0.2222222222222222, \"#7201a8\"], [0.3333333333333333, \"#9c179e\"], [0.4444444444444444, \"#bd3786\"], [0.5555555555555556, \"#d8576b\"], [0.6666666666666666, \"#ed7953\"], [0.7777777777777778, \"#fb9f3a\"], [0.8888888888888888, \"#fdca26\"], [1.0, \"#f0f921\"]], \"type\": \"heatmap\"}], \"heatmapgl\": [{\"colorbar\": {\"outlinewidth\": 0, \"ticks\": \"\"}, \"colorscale\": [[0.0, \"#0d0887\"], [0.1111111111111111, \"#46039f\"], [0.2222222222222222, \"#7201a8\"], [0.3333333333333333, \"#9c179e\"], [0.4444444444444444, \"#bd3786\"], [0.5555555555555556, \"#d8576b\"], [0.6666666666666666, \"#ed7953\"], [0.7777777777777778, \"#fb9f3a\"], [0.8888888888888888, \"#fdca26\"], [1.0, \"#f0f921\"]], \"type\": \"heatmapgl\"}], \"histogram\": [{\"marker\": {\"colorbar\": {\"outlinewidth\": 0, \"ticks\": \"\"}}, \"type\": \"histogram\"}], \"histogram2d\": [{\"colorbar\": {\"outlinewidth\": 0, \"ticks\": \"\"}, \"colorscale\": [[0.0, \"#0d0887\"], [0.1111111111111111, \"#46039f\"], [0.2222222222222222, \"#7201a8\"], [0.3333333333333333, \"#9c179e\"], [0.4444444444444444, \"#bd3786\"], [0.5555555555555556, \"#d8576b\"], [0.6666666666666666, \"#ed7953\"], [0.7777777777777778, \"#fb9f3a\"], [0.8888888888888888, \"#fdca26\"], [1.0, \"#f0f921\"]], \"type\": \"histogram2d\"}], \"histogram2dcontour\": [{\"colorbar\": {\"outlinewidth\": 0, \"ticks\": \"\"}, \"colorscale\": [[0.0, \"#0d0887\"], [0.1111111111111111, \"#46039f\"], [0.2222222222222222, \"#7201a8\"], [0.3333333333333333, \"#9c179e\"], [0.4444444444444444, \"#bd3786\"], [0.5555555555555556, \"#d8576b\"], [0.6666666666666666, \"#ed7953\"], [0.7777777777777778, \"#fb9f3a\"], [0.8888888888888888, \"#fdca26\"], [1.0, \"#f0f921\"]], \"type\": \"histogram2dcontour\"}], \"mesh3d\": [{\"colorbar\": {\"outlinewidth\": 0, \"ticks\": \"\"}, \"type\": \"mesh3d\"}], \"parcoords\": [{\"line\": {\"colorbar\": {\"outlinewidth\": 0, \"ticks\": \"\"}}, \"type\": \"parcoords\"}], \"pie\": [{\"automargin\": true, \"type\": \"pie\"}], \"scatter\": [{\"marker\": {\"colorbar\": {\"outlinewidth\": 0, \"ticks\": \"\"}}, \"type\": \"scatter\"}], \"scatter3d\": [{\"line\": {\"colorbar\": {\"outlinewidth\": 0, \"ticks\": \"\"}}, \"marker\": {\"colorbar\": {\"outlinewidth\": 0, \"ticks\": \"\"}}, \"type\": \"scatter3d\"}], \"scattercarpet\": [{\"marker\": {\"colorbar\": {\"outlinewidth\": 0, \"ticks\": \"\"}}, \"type\": \"scattercarpet\"}], \"scattergeo\": [{\"marker\": {\"colorbar\": {\"outlinewidth\": 0, \"ticks\": \"\"}}, \"type\": \"scattergeo\"}], \"scattergl\": [{\"marker\": {\"colorbar\": {\"outlinewidth\": 0, \"ticks\": \"\"}}, \"type\": \"scattergl\"}], \"scattermapbox\": [{\"marker\": {\"colorbar\": {\"outlinewidth\": 0, \"ticks\": \"\"}}, \"type\": \"scattermapbox\"}], \"scatterpolar\": [{\"marker\": {\"colorbar\": {\"outlinewidth\": 0, \"ticks\": \"\"}}, \"type\": \"scatterpolar\"}], \"scatterpolargl\": [{\"marker\": {\"colorbar\": {\"outlinewidth\": 0, \"ticks\": \"\"}}, \"type\": \"scatterpolargl\"}], \"scatterternary\": [{\"marker\": {\"colorbar\": {\"outlinewidth\": 0, \"ticks\": \"\"}}, \"type\": \"scatterternary\"}], \"surface\": [{\"colorbar\": {\"outlinewidth\": 0, \"ticks\": \"\"}, \"colorscale\": [[0.0, \"#0d0887\"], [0.1111111111111111, \"#46039f\"], [0.2222222222222222, \"#7201a8\"], [0.3333333333333333, \"#9c179e\"], [0.4444444444444444, \"#bd3786\"], [0.5555555555555556, \"#d8576b\"], [0.6666666666666666, \"#ed7953\"], [0.7777777777777778, \"#fb9f3a\"], [0.8888888888888888, \"#fdca26\"], [1.0, \"#f0f921\"]], \"type\": \"surface\"}], \"table\": [{\"cells\": {\"fill\": {\"color\": \"#EBF0F8\"}, \"line\": {\"color\": \"white\"}}, \"header\": {\"fill\": {\"color\": \"#C8D4E3\"}, \"line\": {\"color\": \"white\"}}, \"type\": \"table\"}]}, \"layout\": {\"annotationdefaults\": {\"arrowcolor\": \"#2a3f5f\", \"arrowhead\": 0, \"arrowwidth\": 1}, \"autotypenumbers\": \"strict\", \"coloraxis\": {\"colorbar\": {\"outlinewidth\": 0, \"ticks\": \"\"}}, \"colorscale\": {\"diverging\": [[0, \"#8e0152\"], [0.1, \"#c51b7d\"], [0.2, \"#de77ae\"], [0.3, \"#f1b6da\"], [0.4, \"#fde0ef\"], [0.5, \"#f7f7f7\"], [0.6, \"#e6f5d0\"], [0.7, \"#b8e186\"], [0.8, \"#7fbc41\"], [0.9, \"#4d9221\"], [1, \"#276419\"]], \"sequential\": [[0.0, \"#0d0887\"], [0.1111111111111111, \"#46039f\"], [0.2222222222222222, \"#7201a8\"], [0.3333333333333333, \"#9c179e\"], [0.4444444444444444, \"#bd3786\"], [0.5555555555555556, \"#d8576b\"], [0.6666666666666666, \"#ed7953\"], [0.7777777777777778, \"#fb9f3a\"], [0.8888888888888888, \"#fdca26\"], [1.0, \"#f0f921\"]], \"sequentialminus\": [[0.0, \"#0d0887\"], [0.1111111111111111, \"#46039f\"], [0.2222222222222222, \"#7201a8\"], [0.3333333333333333, \"#9c179e\"], [0.4444444444444444, \"#bd3786\"], [0.5555555555555556, \"#d8576b\"], [0.6666666666666666, \"#ed7953\"], [0.7777777777777778, \"#fb9f3a\"], [0.8888888888888888, \"#fdca26\"], [1.0, \"#f0f921\"]]}, \"colorway\": [\"#636efa\", \"#EF553B\", \"#00cc96\", \"#ab63fa\", \"#FFA15A\", \"#19d3f3\", \"#FF6692\", \"#B6E880\", \"#FF97FF\", \"#FECB52\"], \"font\": {\"color\": \"#2a3f5f\"}, \"geo\": {\"bgcolor\": \"white\", \"lakecolor\": \"white\", \"landcolor\": \"#E5ECF6\", \"showlakes\": true, \"showland\": true, \"subunitcolor\": \"white\"}, \"hoverlabel\": {\"align\": \"left\"}, \"hovermode\": \"closest\", \"mapbox\": {\"style\": \"light\"}, \"paper_bgcolor\": \"white\", \"plot_bgcolor\": \"#E5ECF6\", \"polar\": {\"angularaxis\": {\"gridcolor\": \"white\", \"linecolor\": \"white\", \"ticks\": \"\"}, \"bgcolor\": \"#E5ECF6\", \"radialaxis\": {\"gridcolor\": \"white\", \"linecolor\": \"white\", \"ticks\": \"\"}}, \"scene\": {\"xaxis\": {\"backgroundcolor\": \"#E5ECF6\", \"gridcolor\": \"white\", \"gridwidth\": 2, \"linecolor\": \"white\", \"showbackground\": true, \"ticks\": \"\", \"zerolinecolor\": \"white\"}, \"yaxis\": {\"backgroundcolor\": \"#E5ECF6\", \"gridcolor\": \"white\", \"gridwidth\": 2, \"linecolor\": \"white\", \"showbackground\": true, \"ticks\": \"\", \"zerolinecolor\": \"white\"}, \"zaxis\": {\"backgroundcolor\": \"#E5ECF6\", \"gridcolor\": \"white\", \"gridwidth\": 2, \"linecolor\": \"white\", \"showbackground\": true, \"ticks\": \"\", \"zerolinecolor\": \"white\"}}, \"shapedefaults\": {\"line\": {\"color\": \"#2a3f5f\"}}, \"ternary\": {\"aaxis\": {\"gridcolor\": \"white\", \"linecolor\": \"white\", \"ticks\": \"\"}, \"baxis\": {\"gridcolor\": \"white\", \"linecolor\": \"white\", \"ticks\": \"\"}, \"bgcolor\": \"#E5ECF6\", \"caxis\": {\"gridcolor\": \"white\", \"linecolor\": \"white\", \"ticks\": \"\"}}, \"title\": {\"x\": 0.05}, \"xaxis\": {\"automargin\": true, \"gridcolor\": \"white\", \"linecolor\": \"white\", \"ticks\": \"\", \"title\": {\"standoff\": 15}, \"zerolinecolor\": \"white\", \"zerolinewidth\": 2}, \"yaxis\": {\"automargin\": true, \"gridcolor\": \"white\", \"linecolor\": \"white\", \"ticks\": \"\", \"title\": {\"standoff\": 15}, \"zerolinecolor\": \"white\", \"zerolinewidth\": 2}}}, \"title\": {\"text\": \"2020-2021 1~3\\uc6d4 \\ub300\\ud30c \\ucd1d \\uac70\\ub798\\ub7c9\"}},                        {\"responsive\": true}                    ).then(function(){\n",
       "                            \n",
       "var gd = document.getElementById('eca6391c-7bb6-45e0-8b15-09c364c55200');\n",
       "var x = new MutationObserver(function (mutations, observer) {{\n",
       "        var display = window.getComputedStyle(gd).display;\n",
       "        if (!display || display === 'none') {{\n",
       "            console.log([gd, 'removed!']);\n",
       "            Plotly.purge(gd);\n",
       "            observer.disconnect();\n",
       "        }}\n",
       "}});\n",
       "\n",
       "// Listen for the removal of the full notebook cells\n",
       "var notebookContainer = gd.closest('#notebook-container');\n",
       "if (notebookContainer) {{\n",
       "    x.observe(notebookContainer, {childList: true});\n",
       "}}\n",
       "\n",
       "// Listen for the clearing of the current output cell\n",
       "var outputEl = gd.closest('.output');\n",
       "if (outputEl) {{\n",
       "    x.observe(outputEl, {childList: true});\n",
       "}}\n",
       "\n",
       "                        })                };                });            </script>        </div>"
      ]
     },
     "metadata": {},
     "output_type": "display_data"
    }
   ],
   "source": [
    "#꺾은선,누적막대(stacked)\n",
    "trace1 = go.Bar(x=result4['month'], y=result4['2020'], name='2020')\n",
    "trace2 = go.Bar(x=result4['month'], y=result4['2021'], name='2021')\n",
    "trace3 = go.Scatter(x = result4['month'], y = result4['2020'], mode = 'lines', name = '2020lines')\n",
    "trace4 = go.Scatter(x = result4['month'], y = result4['2021'], mode = 'lines', name = '2021lines')\n",
    "\n",
    "data = [trace1, trace2, trace3, trace4]\n",
    "\n",
    "layout = go.Layout(title='2020-2021 1~3월 대파 총 거래량', barmode='stack')\n",
    "\n",
    "fig = go.Figure(data=data, layout=layout)\n",
    "pyo.iplot(fig)\n",
    " "
   ]
  },
  {
   "cell_type": "markdown",
   "metadata": {},
   "source": [
    "### 산지 별 총 거래량 합계 ###"
   ]
  },
  {
   "cell_type": "code",
   "execution_count": 131,
   "metadata": {},
   "outputs": [
    {
     "data": {
      "application/vnd.plotly.v1+json": {
       "config": {
        "linkText": "Export to plot.ly",
        "plotlyServerURL": "https://plot.ly",
        "showLink": false
       },
       "data": [
        {
         "name": "2020년1월",
         "type": "bar",
         "x": [
          "강원도",
          "강원도 강릉시",
          "강원도 동해시",
          "강원도 원주시",
          "강원도 인제군",
          "강원도 정선군",
          "강원도 철원군",
          "강원도 춘천시",
          "강원도 평창군",
          "경기도",
          "경기도 고양시",
          "경기도 구리시",
          "경기도 군포시",
          "경기도 김포시",
          "경기도 남양주시",
          "경기도 동두천시",
          "경기도 수원시",
          "경기도 안산시",
          "경기도 안성시",
          "경기도 안양시",
          "경기도 양주시",
          "경기도 여주시",
          "경기도 연천군",
          "경기도 이천시",
          "경기도 파주시",
          "경기도 평택시",
          "경기도 포천시",
          "경기도 화성시",
          "경상남도",
          "경상남도 거창군",
          "경상남도 김해시",
          "경상남도 남해군",
          "경상남도 밀양시",
          "경상남도 사천시",
          "경상남도 양산시",
          "경상남도 진주시",
          "경상남도 창녕군",
          "경상남도 창원시",
          "경상남도 하동군",
          "경상남도 함안군",
          "경상남도 함양군",
          "경상북도 경산시",
          "경상북도 경주시",
          "경상북도 고령군",
          "경상북도 구미시",
          "경상북도 군위군",
          "경상북도 김천시",
          "경상북도 봉화군",
          "경상북도 상주시",
          "경상북도 안동시",
          "경상북도 영덕군",
          "경상북도 영천시",
          "경상북도 칠곡군",
          "광주광역시",
          "광주광역시 광산구",
          "광주광역시 남구",
          "광주광역시 북구",
          "광주광역시 서구",
          "대구광역시",
          "대구광역시 남구",
          "대구광역시 달서구",
          "대구광역시 동구",
          "대구광역시 북구",
          "대구광역시 수성구",
          "대구광역시 중구",
          "대전광역시",
          "대전광역시 대덕구",
          "대전광역시 동구",
          "대전광역시 서구",
          "대전광역시 유성구",
          "부산광역시",
          "부산광역시 강서구",
          "부산광역시 사상구",
          "부산광역시 중구",
          "부산광역시 해운대구",
          "서울특별시",
          "서울특별시 강서구",
          "서울특별시 마포구",
          "서울특별시 성북구",
          "서울특별시 송파구",
          "서울특별시 양천구",
          "서울특별시 은평구",
          "서울특별시 중랑구",
          "세종특별자치시",
          "울산광역시",
          "울산광역시 남구",
          "인천광역시",
          "인천광역시 계양구",
          "인천광역시 남구",
          "인천광역시 남동구",
          "인천광역시 동구",
          "인천광역시 부평구",
          "인천광역시 연수구",
          "전라남도",
          "전라남도 강진군",
          "전라남도 고흥군",
          "전라남도 광양시",
          "전라남도 나주시",
          "전라남도 목포시",
          "전라남도 무안군",
          "전라남도 보성군",
          "전라남도 순천시",
          "전라남도 신안군",
          "전라남도 여수시",
          "전라남도 영광군",
          "전라남도 영암군",
          "전라남도 완도군",
          "전라남도 장성군",
          "전라남도 장흥군",
          "전라남도 진도군",
          "전라남도 함평군",
          "전라남도 해남군",
          "전라남도 화순군",
          "전라북도",
          "전라북도 고창군",
          "전라북도 군산시",
          "전라북도 김제시",
          "전라북도 남원시",
          "전라북도 부안군",
          "전라북도 완주군",
          "전라북도 익산시",
          "전라북도 임실군",
          "전라북도 장수군",
          "전라북도 전주시",
          "전라북도 정읍시",
          "전라북도 진안군",
          "제주특별자치도",
          "제주특별자치도 서귀포시",
          "제주특별자치도 제주시",
          "중국",
          "충청남도 공주시",
          "충청남도 금산군",
          "충청남도 논산시",
          "충청남도 당진시",
          "충청남도 보령시",
          "충청남도 부여군",
          "충청남도 서산시",
          "충청남도 서천군",
          "충청남도 아산시",
          "충청남도 예산군",
          "충청남도 천안시",
          "충청남도 태안군",
          "충청남도 홍성군",
          "충청북도",
          "충청북도 괴산군",
          "충청북도 보은군",
          "충청북도 영동군",
          "충청북도 음성군",
          "충청북도 제천시",
          "충청북도 진천군",
          "충청북도 청주시",
          "충청북도 충주시"
         ],
         "y": [
          3915,
          46925,
          10946,
          6382,
          70467,
          9170,
          22570,
          13670,
          3156,
          7280,
          18220,
          364288,
          763,
          42930,
          10312,
          14150,
          107199,
          930,
          6010,
          1650,
          82902,
          328,
          6540,
          47431,
          115260,
          8230,
          26888,
          830,
          50288,
          40,
          181893,
          40,
          37014,
          2650,
          2200,
          9323,
          1660,
          109249,
          123,
          1054,
          27951,
          435,
          153,
          10427,
          13827,
          2700,
          4900,
          820,
          75,
          150,
          242,
          53530,
          23085,
          24003,
          4620,
          504,
          8190,
          14527,
          56030,
          5280,
          9920,
          964,
          140,
          1552,
          152,
          1389,
          3752,
          125,
          355,
          44124,
          317795,
          200317,
          67126,
          170145,
          65707,
          60284,
          143610,
          6429,
          6990,
          90678,
          200,
          106110,
          14700,
          42787,
          4313,
          27342,
          66982,
          17050,
          41420,
          67759,
          1490,
          3330,
          32400,
          207712,
          3036,
          22912,
          7450,
          5248,
          111886,
          21326,
          10859,
          7318,
          1607819,
          35708,
          227843,
          223,
          53860,
          953,
          43,
          2049449,
          185,
          98867,
          300,
          10000,
          11668,
          4041,
          5838,
          11695,
          5101,
          108619,
          55805,
          70,
          5417,
          79319,
          9793,
          865,
          202,
          155,
          1143,
          3344,
          3916,
          5480,
          2020,
          5082,
          36,
          4190,
          59005,
          3223,
          130551,
          108972,
          67716,
          7707,
          10666,
          5120,
          1227,
          916,
          2719,
          78,
          10625,
          591,
          292296,
          54295
         ]
        },
        {
         "name": "2021년1월",
         "type": "bar",
         "x": [
          "강원도",
          "강원도 강릉시",
          "강원도 동해시",
          "강원도 원주시",
          "강원도 인제군",
          "강원도 정선군",
          "강원도 철원군",
          "강원도 춘천시",
          "강원도 평창군",
          "경기도",
          "경기도 고양시",
          "경기도 구리시",
          "경기도 군포시",
          "경기도 김포시",
          "경기도 남양주시",
          "경기도 동두천시",
          "경기도 수원시",
          "경기도 안산시",
          "경기도 안성시",
          "경기도 안양시",
          "경기도 양주시",
          "경기도 여주시",
          "경기도 연천군",
          "경기도 이천시",
          "경기도 파주시",
          "경기도 평택시",
          "경기도 포천시",
          "경기도 화성시",
          "경상남도",
          "경상남도 거창군",
          "경상남도 김해시",
          "경상남도 남해군",
          "경상남도 밀양시",
          "경상남도 사천시",
          "경상남도 양산시",
          "경상남도 진주시",
          "경상남도 창녕군",
          "경상남도 창원시",
          "경상남도 하동군",
          "경상남도 함안군",
          "경상남도 함양군",
          "경상북도 경산시",
          "경상북도 경주시",
          "경상북도 고령군",
          "경상북도 구미시",
          "경상북도 군위군",
          "경상북도 김천시",
          "경상북도 봉화군",
          "경상북도 상주시",
          "경상북도 안동시",
          "경상북도 영덕군",
          "경상북도 영천시",
          "경상북도 칠곡군",
          "광주광역시",
          "광주광역시 광산구",
          "광주광역시 남구",
          "광주광역시 북구",
          "광주광역시 서구",
          "대구광역시",
          "대구광역시 남구",
          "대구광역시 달서구",
          "대구광역시 동구",
          "대구광역시 북구",
          "대구광역시 수성구",
          "대구광역시 중구",
          "대전광역시",
          "대전광역시 대덕구",
          "대전광역시 동구",
          "대전광역시 서구",
          "대전광역시 유성구",
          "부산광역시",
          "부산광역시 강서구",
          "부산광역시 사상구",
          "부산광역시 중구",
          "부산광역시 해운대구",
          "서울특별시",
          "서울특별시 강서구",
          "서울특별시 마포구",
          "서울특별시 성북구",
          "서울특별시 송파구",
          "서울특별시 양천구",
          "서울특별시 은평구",
          "서울특별시 중랑구",
          "세종특별자치시",
          "울산광역시",
          "울산광역시 남구",
          "인천광역시",
          "인천광역시 계양구",
          "인천광역시 남구",
          "인천광역시 남동구",
          "인천광역시 동구",
          "인천광역시 부평구",
          "인천광역시 연수구",
          "전라남도",
          "전라남도 강진군",
          "전라남도 고흥군",
          "전라남도 광양시",
          "전라남도 나주시",
          "전라남도 목포시",
          "전라남도 무안군",
          "전라남도 보성군",
          "전라남도 순천시",
          "전라남도 신안군",
          "전라남도 여수시",
          "전라남도 영광군",
          "전라남도 영암군",
          "전라남도 완도군",
          "전라남도 장성군",
          "전라남도 장흥군",
          "전라남도 진도군",
          "전라남도 함평군",
          "전라남도 해남군",
          "전라남도 화순군",
          "전라북도",
          "전라북도 고창군",
          "전라북도 군산시",
          "전라북도 김제시",
          "전라북도 남원시",
          "전라북도 부안군",
          "전라북도 완주군",
          "전라북도 익산시",
          "전라북도 임실군",
          "전라북도 장수군",
          "전라북도 전주시",
          "전라북도 정읍시",
          "전라북도 진안군",
          "제주특별자치도",
          "제주특별자치도 서귀포시",
          "제주특별자치도 제주시",
          "중국",
          "충청남도 공주시",
          "충청남도 금산군",
          "충청남도 논산시",
          "충청남도 당진시",
          "충청남도 보령시",
          "충청남도 부여군",
          "충청남도 서산시",
          "충청남도 서천군",
          "충청남도 아산시",
          "충청남도 예산군",
          "충청남도 천안시",
          "충청남도 태안군",
          "충청남도 홍성군",
          "충청북도",
          "충청북도 괴산군",
          "충청북도 보은군",
          "충청북도 영동군",
          "충청북도 음성군",
          "충청북도 제천시",
          "충청북도 진천군",
          "충청북도 청주시",
          "충청북도 충주시"
         ],
         "y": [
          400,
          105596,
          2420,
          7180,
          25920,
          0,
          34660,
          600,
          149834,
          60,
          14320,
          653652,
          0,
          0,
          8090,
          0,
          90718,
          840,
          9640,
          2400,
          10046,
          43566,
          0,
          93570,
          243400,
          86,
          2896,
          9340,
          93784,
          0,
          343854,
          0,
          40434,
          15780,
          3650,
          26950,
          6500,
          83738,
          0,
          816,
          11434,
          2424,
          0,
          3030,
          8420,
          0,
          36056,
          0,
          0,
          9400,
          0,
          1100,
          75400,
          49142,
          1996,
          0,
          18758,
          3800,
          87750,
          0,
          0,
          630,
          470,
          4010,
          0,
          42908,
          660,
          32064,
          0,
          35776,
          659774,
          254950,
          73814,
          356530,
          74544,
          31134,
          0,
          0,
          0,
          167638,
          0,
          9920,
          12960,
          50678,
          16696,
          39848,
          183860,
          127960,
          0,
          20144,
          760,
          2000,
          0,
          149116,
          4222,
          9534,
          0,
          5084,
          21372,
          30260,
          10100,
          30262,
          2901246,
          1496,
          305272,
          31360,
          7220,
          1968,
          5194,
          3743274,
          2328,
          81978,
          0,
          20000,
          30632,
          0,
          0,
          24400,
          10924,
          199708,
          26612,
          0,
          38860,
          168134,
          44,
          0,
          7026,
          100,
          27232,
          6058,
          50304,
          1216,
          3894,
          12780,
          0,
          0,
          31572,
          36,
          117104,
          164634,
          89036,
          928,
          980,
          0,
          464,
          938,
          4006,
          0,
          15126,
          0,
          456604,
          226594
         ]
        },
        {
         "name": "2020년2월",
         "type": "bar",
         "x": [
          "강원도",
          "강원도 강릉시",
          "강원도 동해시",
          "강원도 원주시",
          "강원도 인제군",
          "강원도 정선군",
          "강원도 철원군",
          "강원도 춘천시",
          "강원도 평창군",
          "경기도",
          "경기도 고양시",
          "경기도 구리시",
          "경기도 군포시",
          "경기도 김포시",
          "경기도 남양주시",
          "경기도 동두천시",
          "경기도 수원시",
          "경기도 안산시",
          "경기도 안성시",
          "경기도 안양시",
          "경기도 양주시",
          "경기도 여주시",
          "경기도 연천군",
          "경기도 이천시",
          "경기도 파주시",
          "경기도 평택시",
          "경기도 포천시",
          "경기도 화성시",
          "경상남도",
          "경상남도 거창군",
          "경상남도 김해시",
          "경상남도 남해군",
          "경상남도 밀양시",
          "경상남도 사천시",
          "경상남도 양산시",
          "경상남도 진주시",
          "경상남도 창녕군",
          "경상남도 창원시",
          "경상남도 하동군",
          "경상남도 함안군",
          "경상남도 함양군",
          "경상북도 경산시",
          "경상북도 경주시",
          "경상북도 고령군",
          "경상북도 구미시",
          "경상북도 군위군",
          "경상북도 김천시",
          "경상북도 봉화군",
          "경상북도 상주시",
          "경상북도 안동시",
          "경상북도 영덕군",
          "경상북도 영천시",
          "경상북도 칠곡군",
          "광주광역시",
          "광주광역시 광산구",
          "광주광역시 남구",
          "광주광역시 북구",
          "광주광역시 서구",
          "대구광역시",
          "대구광역시 남구",
          "대구광역시 달서구",
          "대구광역시 동구",
          "대구광역시 북구",
          "대구광역시 수성구",
          "대구광역시 중구",
          "대전광역시",
          "대전광역시 대덕구",
          "대전광역시 동구",
          "대전광역시 서구",
          "대전광역시 유성구",
          "부산광역시",
          "부산광역시 강서구",
          "부산광역시 사상구",
          "부산광역시 중구",
          "부산광역시 해운대구",
          "서울특별시",
          "서울특별시 강서구",
          "서울특별시 마포구",
          "서울특별시 성북구",
          "서울특별시 송파구",
          "서울특별시 양천구",
          "서울특별시 은평구",
          "서울특별시 중랑구",
          "세종특별자치시",
          "울산광역시",
          "울산광역시 남구",
          "인천광역시",
          "인천광역시 계양구",
          "인천광역시 남구",
          "인천광역시 남동구",
          "인천광역시 동구",
          "인천광역시 부평구",
          "인천광역시 연수구",
          "전라남도",
          "전라남도 강진군",
          "전라남도 고흥군",
          "전라남도 광양시",
          "전라남도 나주시",
          "전라남도 목포시",
          "전라남도 무안군",
          "전라남도 보성군",
          "전라남도 순천시",
          "전라남도 신안군",
          "전라남도 여수시",
          "전라남도 영광군",
          "전라남도 영암군",
          "전라남도 완도군",
          "전라남도 장성군",
          "전라남도 장흥군",
          "전라남도 진도군",
          "전라남도 함평군",
          "전라남도 해남군",
          "전라남도 화순군",
          "전라북도",
          "전라북도 고창군",
          "전라북도 군산시",
          "전라북도 김제시",
          "전라북도 남원시",
          "전라북도 부안군",
          "전라북도 완주군",
          "전라북도 익산시",
          "전라북도 임실군",
          "전라북도 장수군",
          "전라북도 전주시",
          "전라북도 정읍시",
          "전라북도 진안군",
          "제주특별자치도",
          "제주특별자치도 서귀포시",
          "제주특별자치도 제주시",
          "중국",
          "충청남도 공주시",
          "충청남도 금산군",
          "충청남도 논산시",
          "충청남도 당진시",
          "충청남도 보령시",
          "충청남도 부여군",
          "충청남도 서산시",
          "충청남도 서천군",
          "충청남도 아산시",
          "충청남도 예산군",
          "충청남도 천안시",
          "충청남도 태안군",
          "충청남도 홍성군",
          "충청북도",
          "충청북도 괴산군",
          "충청북도 보은군",
          "충청북도 영동군",
          "충청북도 음성군",
          "충청북도 제천시",
          "충청북도 진천군",
          "충청북도 청주시",
          "충청북도 충주시"
         ],
         "y": [
          0,
          47573,
          8330,
          5437,
          64065,
          3445,
          4300,
          0,
          250,
          1600,
          15219,
          434842,
          520,
          43750,
          15450,
          5590,
          106947,
          2680,
          716,
          1550,
          72100,
          260,
          8930,
          49630,
          132340,
          6620,
          0,
          0,
          37931,
          20,
          132680,
          140,
          32084,
          5715,
          2515,
          13680,
          11870,
          92941,
          0,
          1317,
          30235,
          177,
          78,
          14434,
          12747,
          11100,
          1015,
          48,
          0,
          204,
          232,
          67775,
          33164,
          23993,
          4608,
          0,
          11107,
          26430,
          26615,
          0,
          810,
          3104,
          0,
          0,
          0,
          1076,
          702,
          0,
          0,
          15303,
          375417,
          228587,
          59509,
          158154,
          71981,
          82612,
          98970,
          10745,
          17979,
          95836,
          0,
          59560,
          4650,
          9882,
          7202,
          22436,
          84752,
          39460,
          50560,
          54420,
          0,
          8570,
          51510,
          161578,
          1588,
          12340,
          4870,
          5574,
          114782,
          14215,
          7455,
          12510,
          1820322,
          21499,
          37978,
          1972,
          33055,
          0,
          0,
          2107991,
          0,
          106745,
          300,
          8000,
          9673,
          6469,
          445,
          0,
          0,
          80095,
          50754,
          0,
          3971,
          106040,
          8970,
          656,
          30,
          38,
          1567,
          2811,
          3078,
          4372,
          861,
          7713,
          577,
          1579,
          52864,
          4032,
          51796,
          90153,
          66059,
          700,
          21500,
          0,
          2908,
          0,
          1620,
          0,
          20793,
          58,
          188988,
          52762
         ]
        },
        {
         "name": "2021년2월",
         "type": "bar",
         "x": [
          "강원도",
          "강원도 강릉시",
          "강원도 동해시",
          "강원도 원주시",
          "강원도 인제군",
          "강원도 정선군",
          "강원도 철원군",
          "강원도 춘천시",
          "강원도 평창군",
          "경기도",
          "경기도 고양시",
          "경기도 구리시",
          "경기도 군포시",
          "경기도 김포시",
          "경기도 남양주시",
          "경기도 동두천시",
          "경기도 수원시",
          "경기도 안산시",
          "경기도 안성시",
          "경기도 안양시",
          "경기도 양주시",
          "경기도 여주시",
          "경기도 연천군",
          "경기도 이천시",
          "경기도 파주시",
          "경기도 평택시",
          "경기도 포천시",
          "경기도 화성시",
          "경상남도",
          "경상남도 거창군",
          "경상남도 김해시",
          "경상남도 남해군",
          "경상남도 밀양시",
          "경상남도 사천시",
          "경상남도 양산시",
          "경상남도 진주시",
          "경상남도 창녕군",
          "경상남도 창원시",
          "경상남도 하동군",
          "경상남도 함안군",
          "경상남도 함양군",
          "경상북도 경산시",
          "경상북도 경주시",
          "경상북도 고령군",
          "경상북도 구미시",
          "경상북도 군위군",
          "경상북도 김천시",
          "경상북도 봉화군",
          "경상북도 상주시",
          "경상북도 안동시",
          "경상북도 영덕군",
          "경상북도 영천시",
          "경상북도 칠곡군",
          "광주광역시",
          "광주광역시 광산구",
          "광주광역시 남구",
          "광주광역시 북구",
          "광주광역시 서구",
          "대구광역시",
          "대구광역시 남구",
          "대구광역시 달서구",
          "대구광역시 동구",
          "대구광역시 북구",
          "대구광역시 수성구",
          "대구광역시 중구",
          "대전광역시",
          "대전광역시 대덕구",
          "대전광역시 동구",
          "대전광역시 서구",
          "대전광역시 유성구",
          "부산광역시",
          "부산광역시 강서구",
          "부산광역시 사상구",
          "부산광역시 중구",
          "부산광역시 해운대구",
          "서울특별시",
          "서울특별시 강서구",
          "서울특별시 마포구",
          "서울특별시 성북구",
          "서울특별시 송파구",
          "서울특별시 양천구",
          "서울특별시 은평구",
          "서울특별시 중랑구",
          "세종특별자치시",
          "울산광역시",
          "울산광역시 남구",
          "인천광역시",
          "인천광역시 계양구",
          "인천광역시 남구",
          "인천광역시 남동구",
          "인천광역시 동구",
          "인천광역시 부평구",
          "인천광역시 연수구",
          "전라남도",
          "전라남도 강진군",
          "전라남도 고흥군",
          "전라남도 광양시",
          "전라남도 나주시",
          "전라남도 목포시",
          "전라남도 무안군",
          "전라남도 보성군",
          "전라남도 순천시",
          "전라남도 신안군",
          "전라남도 여수시",
          "전라남도 영광군",
          "전라남도 영암군",
          "전라남도 완도군",
          "전라남도 장성군",
          "전라남도 장흥군",
          "전라남도 진도군",
          "전라남도 함평군",
          "전라남도 해남군",
          "전라남도 화순군",
          "전라북도",
          "전라북도 고창군",
          "전라북도 군산시",
          "전라북도 김제시",
          "전라북도 남원시",
          "전라북도 부안군",
          "전라북도 완주군",
          "전라북도 익산시",
          "전라북도 임실군",
          "전라북도 장수군",
          "전라북도 전주시",
          "전라북도 정읍시",
          "전라북도 진안군",
          "제주특별자치도",
          "제주특별자치도 서귀포시",
          "제주특별자치도 제주시",
          "중국",
          "충청남도 공주시",
          "충청남도 금산군",
          "충청남도 논산시",
          "충청남도 당진시",
          "충청남도 보령시",
          "충청남도 부여군",
          "충청남도 서산시",
          "충청남도 서천군",
          "충청남도 아산시",
          "충청남도 예산군",
          "충청남도 천안시",
          "충청남도 태안군",
          "충청남도 홍성군",
          "충청북도",
          "충청북도 괴산군",
          "충청북도 보은군",
          "충청북도 영동군",
          "충청북도 음성군",
          "충청북도 제천시",
          "충청북도 진천군",
          "충청북도 청주시",
          "충청북도 충주시"
         ],
         "y": [
          0,
          96580,
          0,
          6262,
          18564,
          9260,
          30120,
          0,
          69264,
          3860,
          2280,
          457008,
          0,
          0,
          9682,
          0,
          63622,
          0,
          7660,
          4000,
          2864,
          40708,
          3980,
          9848,
          255782,
          5886,
          1000,
          16940,
          60034,
          0,
          324462,
          0,
          43980,
          12290,
          5220,
          6674,
          6240,
          64974,
          0,
          0,
          11220,
          8326,
          280,
          0,
          8864,
          0,
          55716,
          0,
          12,
          15552,
          0,
          0,
          63600,
          61656,
          0,
          0,
          19128,
          11642,
          60072,
          0,
          0,
          0,
          0,
          0,
          0,
          474,
          3750,
          40,
          0,
          40620,
          626018,
          225608,
          49312,
          270326,
          80320,
          56848,
          0,
          0,
          0,
          181764,
          0,
          0,
          4000,
          22548,
          7428,
          34444,
          103728,
          31400,
          0,
          11722,
          0,
          0,
          0,
          157394,
          7012,
          2130,
          1644,
          7008,
          21432,
          24770,
          22340,
          24530,
          3705920,
          1154,
          81424,
          14340,
          0,
          1062,
          378,
          3005066,
          680,
          80604,
          0,
          0,
          5684,
          0,
          0,
          13618,
          240,
          120986,
          7036,
          0,
          8258,
          78410,
          0,
          0,
          11758,
          904,
          38124,
          5050,
          22004,
          1060,
          6526,
          13258,
          0,
          10,
          16508,
          52,
          15094,
          84136,
          35516,
          0,
          0,
          0,
          770,
          0,
          730,
          72,
          6492,
          0,
          203674,
          97256
         ]
        },
        {
         "name": "2020년3월",
         "type": "bar",
         "x": [
          "강원도",
          "강원도 강릉시",
          "강원도 동해시",
          "강원도 원주시",
          "강원도 인제군",
          "강원도 정선군",
          "강원도 철원군",
          "강원도 춘천시",
          "강원도 평창군",
          "경기도",
          "경기도 고양시",
          "경기도 구리시",
          "경기도 군포시",
          "경기도 김포시",
          "경기도 남양주시",
          "경기도 동두천시",
          "경기도 수원시",
          "경기도 안산시",
          "경기도 안성시",
          "경기도 안양시",
          "경기도 양주시",
          "경기도 여주시",
          "경기도 연천군",
          "경기도 이천시",
          "경기도 파주시",
          "경기도 평택시",
          "경기도 포천시",
          "경기도 화성시",
          "경상남도",
          "경상남도 거창군",
          "경상남도 김해시",
          "경상남도 남해군",
          "경상남도 밀양시",
          "경상남도 사천시",
          "경상남도 양산시",
          "경상남도 진주시",
          "경상남도 창녕군",
          "경상남도 창원시",
          "경상남도 하동군",
          "경상남도 함안군",
          "경상남도 함양군",
          "경상북도 경산시",
          "경상북도 경주시",
          "경상북도 고령군",
          "경상북도 구미시",
          "경상북도 군위군",
          "경상북도 김천시",
          "경상북도 봉화군",
          "경상북도 상주시",
          "경상북도 안동시",
          "경상북도 영덕군",
          "경상북도 영천시",
          "경상북도 칠곡군",
          "광주광역시",
          "광주광역시 광산구",
          "광주광역시 남구",
          "광주광역시 북구",
          "광주광역시 서구",
          "대구광역시",
          "대구광역시 남구",
          "대구광역시 달서구",
          "대구광역시 동구",
          "대구광역시 북구",
          "대구광역시 수성구",
          "대구광역시 중구",
          "대전광역시",
          "대전광역시 대덕구",
          "대전광역시 동구",
          "대전광역시 서구",
          "대전광역시 유성구",
          "부산광역시",
          "부산광역시 강서구",
          "부산광역시 사상구",
          "부산광역시 중구",
          "부산광역시 해운대구",
          "서울특별시",
          "서울특별시 강서구",
          "서울특별시 마포구",
          "서울특별시 성북구",
          "서울특별시 송파구",
          "서울특별시 양천구",
          "서울특별시 은평구",
          "서울특별시 중랑구",
          "세종특별자치시",
          "울산광역시",
          "울산광역시 남구",
          "인천광역시",
          "인천광역시 계양구",
          "인천광역시 남구",
          "인천광역시 남동구",
          "인천광역시 동구",
          "인천광역시 부평구",
          "인천광역시 연수구",
          "전라남도",
          "전라남도 강진군",
          "전라남도 고흥군",
          "전라남도 광양시",
          "전라남도 나주시",
          "전라남도 목포시",
          "전라남도 무안군",
          "전라남도 보성군",
          "전라남도 순천시",
          "전라남도 신안군",
          "전라남도 여수시",
          "전라남도 영광군",
          "전라남도 영암군",
          "전라남도 완도군",
          "전라남도 장성군",
          "전라남도 장흥군",
          "전라남도 진도군",
          "전라남도 함평군",
          "전라남도 해남군",
          "전라남도 화순군",
          "전라북도",
          "전라북도 고창군",
          "전라북도 군산시",
          "전라북도 김제시",
          "전라북도 남원시",
          "전라북도 부안군",
          "전라북도 완주군",
          "전라북도 익산시",
          "전라북도 임실군",
          "전라북도 장수군",
          "전라북도 전주시",
          "전라북도 정읍시",
          "전라북도 진안군",
          "제주특별자치도",
          "제주특별자치도 서귀포시",
          "제주특별자치도 제주시",
          "중국",
          "충청남도 공주시",
          "충청남도 금산군",
          "충청남도 논산시",
          "충청남도 당진시",
          "충청남도 보령시",
          "충청남도 부여군",
          "충청남도 서산시",
          "충청남도 서천군",
          "충청남도 아산시",
          "충청남도 예산군",
          "충청남도 천안시",
          "충청남도 태안군",
          "충청남도 홍성군",
          "충청북도",
          "충청북도 괴산군",
          "충청북도 보은군",
          "충청북도 영동군",
          "충청북도 음성군",
          "충청북도 제천시",
          "충청북도 진천군",
          "충청북도 청주시",
          "충청북도 충주시"
         ],
         "y": [
          0,
          23395,
          2240,
          3753,
          31230,
          300,
          0,
          0,
          0,
          0,
          1000,
          213953,
          0,
          19760,
          4250,
          1200,
          42535,
          440,
          0,
          210,
          20129,
          450,
          10400,
          23069,
          67300,
          5700,
          0,
          350,
          24113,
          60,
          42720,
          0,
          18716,
          5305,
          1290,
          6488,
          4740,
          41613,
          0,
          317,
          15785,
          0,
          0,
          5672,
          3538,
          0,
          65,
          0,
          0,
          0,
          138,
          41940,
          1500,
          8400,
          2400,
          0,
          5480,
          14121,
          13011,
          1915,
          4460,
          2128,
          0,
          0,
          0,
          2879,
          606,
          1666,
          0,
          5251,
          179809,
          104426,
          24486,
          57792,
          24935,
          37288,
          40570,
          9699,
          12274,
          68397,
          0,
          1990,
          500,
          68,
          7264,
          9986,
          25169,
          5390,
          22590,
          21476,
          0,
          3460,
          18120,
          42527,
          625,
          6140,
          200,
          1077,
          61743,
          7153,
          22596,
          6745,
          917565,
          6524,
          18617,
          558,
          50,
          0,
          0,
          863131,
          0,
          63564,
          0,
          1000,
          2500,
          1077,
          1193,
          0,
          3200,
          32361,
          20370,
          0,
          3242,
          40154,
          3282,
          0,
          0,
          27,
          604,
          2040,
          37,
          1520,
          998,
          5323,
          18,
          0,
          41273,
          1122,
          11078,
          29433,
          31689,
          2940,
          9616,
          0,
          283,
          0,
          68,
          0,
          6994,
          112,
          58406,
          27765
         ]
        },
        {
         "name": "2021년3월",
         "type": "bar",
         "x": [
          "강원도",
          "강원도 강릉시",
          "강원도 동해시",
          "강원도 원주시",
          "강원도 인제군",
          "강원도 정선군",
          "강원도 철원군",
          "강원도 춘천시",
          "강원도 평창군",
          "경기도",
          "경기도 고양시",
          "경기도 구리시",
          "경기도 군포시",
          "경기도 김포시",
          "경기도 남양주시",
          "경기도 동두천시",
          "경기도 수원시",
          "경기도 안산시",
          "경기도 안성시",
          "경기도 안양시",
          "경기도 양주시",
          "경기도 여주시",
          "경기도 연천군",
          "경기도 이천시",
          "경기도 파주시",
          "경기도 평택시",
          "경기도 포천시",
          "경기도 화성시",
          "경상남도",
          "경상남도 거창군",
          "경상남도 김해시",
          "경상남도 남해군",
          "경상남도 밀양시",
          "경상남도 사천시",
          "경상남도 양산시",
          "경상남도 진주시",
          "경상남도 창녕군",
          "경상남도 창원시",
          "경상남도 하동군",
          "경상남도 함안군",
          "경상남도 함양군",
          "경상북도 경산시",
          "경상북도 경주시",
          "경상북도 고령군",
          "경상북도 구미시",
          "경상북도 군위군",
          "경상북도 김천시",
          "경상북도 봉화군",
          "경상북도 상주시",
          "경상북도 안동시",
          "경상북도 영덕군",
          "경상북도 영천시",
          "경상북도 칠곡군",
          "광주광역시",
          "광주광역시 광산구",
          "광주광역시 남구",
          "광주광역시 북구",
          "광주광역시 서구",
          "대구광역시",
          "대구광역시 남구",
          "대구광역시 달서구",
          "대구광역시 동구",
          "대구광역시 북구",
          "대구광역시 수성구",
          "대구광역시 중구",
          "대전광역시",
          "대전광역시 대덕구",
          "대전광역시 동구",
          "대전광역시 서구",
          "대전광역시 유성구",
          "부산광역시",
          "부산광역시 강서구",
          "부산광역시 사상구",
          "부산광역시 중구",
          "부산광역시 해운대구",
          "서울특별시",
          "서울특별시 강서구",
          "서울특별시 마포구",
          "서울특별시 성북구",
          "서울특별시 송파구",
          "서울특별시 양천구",
          "서울특별시 은평구",
          "서울특별시 중랑구",
          "세종특별자치시",
          "울산광역시",
          "울산광역시 남구",
          "인천광역시",
          "인천광역시 계양구",
          "인천광역시 남구",
          "인천광역시 남동구",
          "인천광역시 동구",
          "인천광역시 부평구",
          "인천광역시 연수구",
          "전라남도",
          "전라남도 강진군",
          "전라남도 고흥군",
          "전라남도 광양시",
          "전라남도 나주시",
          "전라남도 목포시",
          "전라남도 무안군",
          "전라남도 보성군",
          "전라남도 순천시",
          "전라남도 신안군",
          "전라남도 여수시",
          "전라남도 영광군",
          "전라남도 영암군",
          "전라남도 완도군",
          "전라남도 장성군",
          "전라남도 장흥군",
          "전라남도 진도군",
          "전라남도 함평군",
          "전라남도 해남군",
          "전라남도 화순군",
          "전라북도",
          "전라북도 고창군",
          "전라북도 군산시",
          "전라북도 김제시",
          "전라북도 남원시",
          "전라북도 부안군",
          "전라북도 완주군",
          "전라북도 익산시",
          "전라북도 임실군",
          "전라북도 장수군",
          "전라북도 전주시",
          "전라북도 정읍시",
          "전라북도 진안군",
          "제주특별자치도",
          "제주특별자치도 서귀포시",
          "제주특별자치도 제주시",
          "중국",
          "충청남도 공주시",
          "충청남도 금산군",
          "충청남도 논산시",
          "충청남도 당진시",
          "충청남도 보령시",
          "충청남도 부여군",
          "충청남도 서산시",
          "충청남도 서천군",
          "충청남도 아산시",
          "충청남도 예산군",
          "충청남도 천안시",
          "충청남도 태안군",
          "충청남도 홍성군",
          "충청북도",
          "충청북도 괴산군",
          "충청북도 보은군",
          "충청북도 영동군",
          "충청북도 음성군",
          "충청북도 제천시",
          "충청북도 진천군",
          "충청북도 청주시",
          "충청북도 충주시"
         ],
         "y": [
          1680,
          59840,
          1140,
          7700,
          11260,
          1000,
          37120,
          0,
          49050,
          0,
          0,
          325520,
          0,
          0,
          920,
          0,
          64152,
          0,
          3420,
          3380,
          2158,
          16884,
          0,
          176,
          138100,
          3390,
          2520,
          6410,
          14952,
          0,
          148762,
          0,
          22754,
          0,
          3006,
          13638,
          3500,
          51640,
          0,
          0,
          6300,
          2184,
          990,
          0,
          7172,
          0,
          11922,
          0,
          422,
          9930,
          0,
          0,
          39968,
          12768,
          0,
          0,
          750,
          7534,
          50782,
          0,
          0,
          0,
          1210,
          0,
          0,
          8000,
          1500,
          10,
          0,
          25196,
          419836,
          72566,
          47152,
          145476,
          42794,
          48444,
          0,
          0,
          0,
          152216,
          0,
          0,
          1600,
          12868,
          2484,
          18198,
          53948,
          5000,
          400,
          13064,
          0,
          0,
          0,
          80808,
          7402,
          222,
          0,
          7104,
          9390,
          10768,
          0,
          8204,
          1906882,
          1000,
          85172,
          372,
          0,
          214,
          36,
          1499216,
          0,
          105628,
          0,
          800,
          1036,
          0,
          0,
          0,
          274,
          65990,
          4556,
          368,
          2460,
          34864,
          0,
          0,
          10512,
          100,
          14952,
          11918,
          692,
          0,
          696,
          4660,
          0,
          18,
          28188,
          0,
          1972,
          16142,
          9396,
          0,
          2,
          0,
          0,
          0,
          474,
          1080,
          1522,
          0,
          116078,
          47262
         ]
        }
       ],
       "layout": {
        "barmode": "stack",
        "template": {
         "data": {
          "bar": [
           {
            "error_x": {
             "color": "#2a3f5f"
            },
            "error_y": {
             "color": "#2a3f5f"
            },
            "marker": {
             "line": {
              "color": "#E5ECF6",
              "width": 0.5
             }
            },
            "type": "bar"
           }
          ],
          "barpolar": [
           {
            "marker": {
             "line": {
              "color": "#E5ECF6",
              "width": 0.5
             }
            },
            "type": "barpolar"
           }
          ],
          "carpet": [
           {
            "aaxis": {
             "endlinecolor": "#2a3f5f",
             "gridcolor": "white",
             "linecolor": "white",
             "minorgridcolor": "white",
             "startlinecolor": "#2a3f5f"
            },
            "baxis": {
             "endlinecolor": "#2a3f5f",
             "gridcolor": "white",
             "linecolor": "white",
             "minorgridcolor": "white",
             "startlinecolor": "#2a3f5f"
            },
            "type": "carpet"
           }
          ],
          "choropleth": [
           {
            "colorbar": {
             "outlinewidth": 0,
             "ticks": ""
            },
            "type": "choropleth"
           }
          ],
          "contour": [
           {
            "colorbar": {
             "outlinewidth": 0,
             "ticks": ""
            },
            "colorscale": [
             [
              0,
              "#0d0887"
             ],
             [
              0.1111111111111111,
              "#46039f"
             ],
             [
              0.2222222222222222,
              "#7201a8"
             ],
             [
              0.3333333333333333,
              "#9c179e"
             ],
             [
              0.4444444444444444,
              "#bd3786"
             ],
             [
              0.5555555555555556,
              "#d8576b"
             ],
             [
              0.6666666666666666,
              "#ed7953"
             ],
             [
              0.7777777777777778,
              "#fb9f3a"
             ],
             [
              0.8888888888888888,
              "#fdca26"
             ],
             [
              1,
              "#f0f921"
             ]
            ],
            "type": "contour"
           }
          ],
          "contourcarpet": [
           {
            "colorbar": {
             "outlinewidth": 0,
             "ticks": ""
            },
            "type": "contourcarpet"
           }
          ],
          "heatmap": [
           {
            "colorbar": {
             "outlinewidth": 0,
             "ticks": ""
            },
            "colorscale": [
             [
              0,
              "#0d0887"
             ],
             [
              0.1111111111111111,
              "#46039f"
             ],
             [
              0.2222222222222222,
              "#7201a8"
             ],
             [
              0.3333333333333333,
              "#9c179e"
             ],
             [
              0.4444444444444444,
              "#bd3786"
             ],
             [
              0.5555555555555556,
              "#d8576b"
             ],
             [
              0.6666666666666666,
              "#ed7953"
             ],
             [
              0.7777777777777778,
              "#fb9f3a"
             ],
             [
              0.8888888888888888,
              "#fdca26"
             ],
             [
              1,
              "#f0f921"
             ]
            ],
            "type": "heatmap"
           }
          ],
          "heatmapgl": [
           {
            "colorbar": {
             "outlinewidth": 0,
             "ticks": ""
            },
            "colorscale": [
             [
              0,
              "#0d0887"
             ],
             [
              0.1111111111111111,
              "#46039f"
             ],
             [
              0.2222222222222222,
              "#7201a8"
             ],
             [
              0.3333333333333333,
              "#9c179e"
             ],
             [
              0.4444444444444444,
              "#bd3786"
             ],
             [
              0.5555555555555556,
              "#d8576b"
             ],
             [
              0.6666666666666666,
              "#ed7953"
             ],
             [
              0.7777777777777778,
              "#fb9f3a"
             ],
             [
              0.8888888888888888,
              "#fdca26"
             ],
             [
              1,
              "#f0f921"
             ]
            ],
            "type": "heatmapgl"
           }
          ],
          "histogram": [
           {
            "marker": {
             "colorbar": {
              "outlinewidth": 0,
              "ticks": ""
             }
            },
            "type": "histogram"
           }
          ],
          "histogram2d": [
           {
            "colorbar": {
             "outlinewidth": 0,
             "ticks": ""
            },
            "colorscale": [
             [
              0,
              "#0d0887"
             ],
             [
              0.1111111111111111,
              "#46039f"
             ],
             [
              0.2222222222222222,
              "#7201a8"
             ],
             [
              0.3333333333333333,
              "#9c179e"
             ],
             [
              0.4444444444444444,
              "#bd3786"
             ],
             [
              0.5555555555555556,
              "#d8576b"
             ],
             [
              0.6666666666666666,
              "#ed7953"
             ],
             [
              0.7777777777777778,
              "#fb9f3a"
             ],
             [
              0.8888888888888888,
              "#fdca26"
             ],
             [
              1,
              "#f0f921"
             ]
            ],
            "type": "histogram2d"
           }
          ],
          "histogram2dcontour": [
           {
            "colorbar": {
             "outlinewidth": 0,
             "ticks": ""
            },
            "colorscale": [
             [
              0,
              "#0d0887"
             ],
             [
              0.1111111111111111,
              "#46039f"
             ],
             [
              0.2222222222222222,
              "#7201a8"
             ],
             [
              0.3333333333333333,
              "#9c179e"
             ],
             [
              0.4444444444444444,
              "#bd3786"
             ],
             [
              0.5555555555555556,
              "#d8576b"
             ],
             [
              0.6666666666666666,
              "#ed7953"
             ],
             [
              0.7777777777777778,
              "#fb9f3a"
             ],
             [
              0.8888888888888888,
              "#fdca26"
             ],
             [
              1,
              "#f0f921"
             ]
            ],
            "type": "histogram2dcontour"
           }
          ],
          "mesh3d": [
           {
            "colorbar": {
             "outlinewidth": 0,
             "ticks": ""
            },
            "type": "mesh3d"
           }
          ],
          "parcoords": [
           {
            "line": {
             "colorbar": {
              "outlinewidth": 0,
              "ticks": ""
             }
            },
            "type": "parcoords"
           }
          ],
          "pie": [
           {
            "automargin": true,
            "type": "pie"
           }
          ],
          "scatter": [
           {
            "marker": {
             "colorbar": {
              "outlinewidth": 0,
              "ticks": ""
             }
            },
            "type": "scatter"
           }
          ],
          "scatter3d": [
           {
            "line": {
             "colorbar": {
              "outlinewidth": 0,
              "ticks": ""
             }
            },
            "marker": {
             "colorbar": {
              "outlinewidth": 0,
              "ticks": ""
             }
            },
            "type": "scatter3d"
           }
          ],
          "scattercarpet": [
           {
            "marker": {
             "colorbar": {
              "outlinewidth": 0,
              "ticks": ""
             }
            },
            "type": "scattercarpet"
           }
          ],
          "scattergeo": [
           {
            "marker": {
             "colorbar": {
              "outlinewidth": 0,
              "ticks": ""
             }
            },
            "type": "scattergeo"
           }
          ],
          "scattergl": [
           {
            "marker": {
             "colorbar": {
              "outlinewidth": 0,
              "ticks": ""
             }
            },
            "type": "scattergl"
           }
          ],
          "scattermapbox": [
           {
            "marker": {
             "colorbar": {
              "outlinewidth": 0,
              "ticks": ""
             }
            },
            "type": "scattermapbox"
           }
          ],
          "scatterpolar": [
           {
            "marker": {
             "colorbar": {
              "outlinewidth": 0,
              "ticks": ""
             }
            },
            "type": "scatterpolar"
           }
          ],
          "scatterpolargl": [
           {
            "marker": {
             "colorbar": {
              "outlinewidth": 0,
              "ticks": ""
             }
            },
            "type": "scatterpolargl"
           }
          ],
          "scatterternary": [
           {
            "marker": {
             "colorbar": {
              "outlinewidth": 0,
              "ticks": ""
             }
            },
            "type": "scatterternary"
           }
          ],
          "surface": [
           {
            "colorbar": {
             "outlinewidth": 0,
             "ticks": ""
            },
            "colorscale": [
             [
              0,
              "#0d0887"
             ],
             [
              0.1111111111111111,
              "#46039f"
             ],
             [
              0.2222222222222222,
              "#7201a8"
             ],
             [
              0.3333333333333333,
              "#9c179e"
             ],
             [
              0.4444444444444444,
              "#bd3786"
             ],
             [
              0.5555555555555556,
              "#d8576b"
             ],
             [
              0.6666666666666666,
              "#ed7953"
             ],
             [
              0.7777777777777778,
              "#fb9f3a"
             ],
             [
              0.8888888888888888,
              "#fdca26"
             ],
             [
              1,
              "#f0f921"
             ]
            ],
            "type": "surface"
           }
          ],
          "table": [
           {
            "cells": {
             "fill": {
              "color": "#EBF0F8"
             },
             "line": {
              "color": "white"
             }
            },
            "header": {
             "fill": {
              "color": "#C8D4E3"
             },
             "line": {
              "color": "white"
             }
            },
            "type": "table"
           }
          ]
         },
         "layout": {
          "annotationdefaults": {
           "arrowcolor": "#2a3f5f",
           "arrowhead": 0,
           "arrowwidth": 1
          },
          "autotypenumbers": "strict",
          "coloraxis": {
           "colorbar": {
            "outlinewidth": 0,
            "ticks": ""
           }
          },
          "colorscale": {
           "diverging": [
            [
             0,
             "#8e0152"
            ],
            [
             0.1,
             "#c51b7d"
            ],
            [
             0.2,
             "#de77ae"
            ],
            [
             0.3,
             "#f1b6da"
            ],
            [
             0.4,
             "#fde0ef"
            ],
            [
             0.5,
             "#f7f7f7"
            ],
            [
             0.6,
             "#e6f5d0"
            ],
            [
             0.7,
             "#b8e186"
            ],
            [
             0.8,
             "#7fbc41"
            ],
            [
             0.9,
             "#4d9221"
            ],
            [
             1,
             "#276419"
            ]
           ],
           "sequential": [
            [
             0,
             "#0d0887"
            ],
            [
             0.1111111111111111,
             "#46039f"
            ],
            [
             0.2222222222222222,
             "#7201a8"
            ],
            [
             0.3333333333333333,
             "#9c179e"
            ],
            [
             0.4444444444444444,
             "#bd3786"
            ],
            [
             0.5555555555555556,
             "#d8576b"
            ],
            [
             0.6666666666666666,
             "#ed7953"
            ],
            [
             0.7777777777777778,
             "#fb9f3a"
            ],
            [
             0.8888888888888888,
             "#fdca26"
            ],
            [
             1,
             "#f0f921"
            ]
           ],
           "sequentialminus": [
            [
             0,
             "#0d0887"
            ],
            [
             0.1111111111111111,
             "#46039f"
            ],
            [
             0.2222222222222222,
             "#7201a8"
            ],
            [
             0.3333333333333333,
             "#9c179e"
            ],
            [
             0.4444444444444444,
             "#bd3786"
            ],
            [
             0.5555555555555556,
             "#d8576b"
            ],
            [
             0.6666666666666666,
             "#ed7953"
            ],
            [
             0.7777777777777778,
             "#fb9f3a"
            ],
            [
             0.8888888888888888,
             "#fdca26"
            ],
            [
             1,
             "#f0f921"
            ]
           ]
          },
          "colorway": [
           "#636efa",
           "#EF553B",
           "#00cc96",
           "#ab63fa",
           "#FFA15A",
           "#19d3f3",
           "#FF6692",
           "#B6E880",
           "#FF97FF",
           "#FECB52"
          ],
          "font": {
           "color": "#2a3f5f"
          },
          "geo": {
           "bgcolor": "white",
           "lakecolor": "white",
           "landcolor": "#E5ECF6",
           "showlakes": true,
           "showland": true,
           "subunitcolor": "white"
          },
          "hoverlabel": {
           "align": "left"
          },
          "hovermode": "closest",
          "mapbox": {
           "style": "light"
          },
          "paper_bgcolor": "white",
          "plot_bgcolor": "#E5ECF6",
          "polar": {
           "angularaxis": {
            "gridcolor": "white",
            "linecolor": "white",
            "ticks": ""
           },
           "bgcolor": "#E5ECF6",
           "radialaxis": {
            "gridcolor": "white",
            "linecolor": "white",
            "ticks": ""
           }
          },
          "scene": {
           "xaxis": {
            "backgroundcolor": "#E5ECF6",
            "gridcolor": "white",
            "gridwidth": 2,
            "linecolor": "white",
            "showbackground": true,
            "ticks": "",
            "zerolinecolor": "white"
           },
           "yaxis": {
            "backgroundcolor": "#E5ECF6",
            "gridcolor": "white",
            "gridwidth": 2,
            "linecolor": "white",
            "showbackground": true,
            "ticks": "",
            "zerolinecolor": "white"
           },
           "zaxis": {
            "backgroundcolor": "#E5ECF6",
            "gridcolor": "white",
            "gridwidth": 2,
            "linecolor": "white",
            "showbackground": true,
            "ticks": "",
            "zerolinecolor": "white"
           }
          },
          "shapedefaults": {
           "line": {
            "color": "#2a3f5f"
           }
          },
          "ternary": {
           "aaxis": {
            "gridcolor": "white",
            "linecolor": "white",
            "ticks": ""
           },
           "baxis": {
            "gridcolor": "white",
            "linecolor": "white",
            "ticks": ""
           },
           "bgcolor": "#E5ECF6",
           "caxis": {
            "gridcolor": "white",
            "linecolor": "white",
            "ticks": ""
           }
          },
          "title": {
           "x": 0.05
          },
          "xaxis": {
           "automargin": true,
           "gridcolor": "white",
           "linecolor": "white",
           "ticks": "",
           "title": {
            "standoff": 15
           },
           "zerolinecolor": "white",
           "zerolinewidth": 2
          },
          "yaxis": {
           "automargin": true,
           "gridcolor": "white",
           "linecolor": "white",
           "ticks": "",
           "title": {
            "standoff": 15
           },
           "zerolinecolor": "white",
           "zerolinewidth": 2
          }
         }
        },
        "title": {
         "text": "2020-2021 1~3월 산지 별 대파 출하량"
        }
       }
      },
      "text/html": [
       "<div>                            <div id=\"a2f7f29e-79da-42b3-bd32-2f0c2ba2bbe0\" class=\"plotly-graph-div\" style=\"height:525px; width:100%;\"></div>            <script type=\"text/javascript\">                require([\"plotly\"], function(Plotly) {                    window.PLOTLYENV=window.PLOTLYENV || {};                                    if (document.getElementById(\"a2f7f29e-79da-42b3-bd32-2f0c2ba2bbe0\")) {                    Plotly.newPlot(                        \"a2f7f29e-79da-42b3-bd32-2f0c2ba2bbe0\",                        [{\"name\": \"2020\\ub1441\\uc6d4\", \"type\": \"bar\", \"x\": [\"\\uac15\\uc6d0\\ub3c4\", \"\\uac15\\uc6d0\\ub3c4 \\uac15\\ub989\\uc2dc\", \"\\uac15\\uc6d0\\ub3c4 \\ub3d9\\ud574\\uc2dc\", \"\\uac15\\uc6d0\\ub3c4 \\uc6d0\\uc8fc\\uc2dc\", \"\\uac15\\uc6d0\\ub3c4 \\uc778\\uc81c\\uad70\", \"\\uac15\\uc6d0\\ub3c4 \\uc815\\uc120\\uad70\", \"\\uac15\\uc6d0\\ub3c4 \\ucca0\\uc6d0\\uad70\", \"\\uac15\\uc6d0\\ub3c4 \\ucd98\\ucc9c\\uc2dc\", \"\\uac15\\uc6d0\\ub3c4 \\ud3c9\\ucc3d\\uad70\", \"\\uacbd\\uae30\\ub3c4\", \"\\uacbd\\uae30\\ub3c4 \\uace0\\uc591\\uc2dc\", \"\\uacbd\\uae30\\ub3c4 \\uad6c\\ub9ac\\uc2dc\", \"\\uacbd\\uae30\\ub3c4 \\uad70\\ud3ec\\uc2dc\", \"\\uacbd\\uae30\\ub3c4 \\uae40\\ud3ec\\uc2dc\", \"\\uacbd\\uae30\\ub3c4 \\ub0a8\\uc591\\uc8fc\\uc2dc\", \"\\uacbd\\uae30\\ub3c4 \\ub3d9\\ub450\\ucc9c\\uc2dc\", \"\\uacbd\\uae30\\ub3c4 \\uc218\\uc6d0\\uc2dc\", \"\\uacbd\\uae30\\ub3c4 \\uc548\\uc0b0\\uc2dc\", \"\\uacbd\\uae30\\ub3c4 \\uc548\\uc131\\uc2dc\", \"\\uacbd\\uae30\\ub3c4 \\uc548\\uc591\\uc2dc\", \"\\uacbd\\uae30\\ub3c4 \\uc591\\uc8fc\\uc2dc\", \"\\uacbd\\uae30\\ub3c4 \\uc5ec\\uc8fc\\uc2dc\", \"\\uacbd\\uae30\\ub3c4 \\uc5f0\\ucc9c\\uad70\", \"\\uacbd\\uae30\\ub3c4 \\uc774\\ucc9c\\uc2dc\", \"\\uacbd\\uae30\\ub3c4 \\ud30c\\uc8fc\\uc2dc\", \"\\uacbd\\uae30\\ub3c4 \\ud3c9\\ud0dd\\uc2dc\", \"\\uacbd\\uae30\\ub3c4 \\ud3ec\\ucc9c\\uc2dc\", \"\\uacbd\\uae30\\ub3c4 \\ud654\\uc131\\uc2dc\", \"\\uacbd\\uc0c1\\ub0a8\\ub3c4\", \"\\uacbd\\uc0c1\\ub0a8\\ub3c4 \\uac70\\ucc3d\\uad70\", \"\\uacbd\\uc0c1\\ub0a8\\ub3c4 \\uae40\\ud574\\uc2dc\", \"\\uacbd\\uc0c1\\ub0a8\\ub3c4 \\ub0a8\\ud574\\uad70\", \"\\uacbd\\uc0c1\\ub0a8\\ub3c4 \\ubc00\\uc591\\uc2dc\", \"\\uacbd\\uc0c1\\ub0a8\\ub3c4 \\uc0ac\\ucc9c\\uc2dc\", \"\\uacbd\\uc0c1\\ub0a8\\ub3c4 \\uc591\\uc0b0\\uc2dc\", \"\\uacbd\\uc0c1\\ub0a8\\ub3c4 \\uc9c4\\uc8fc\\uc2dc\", \"\\uacbd\\uc0c1\\ub0a8\\ub3c4 \\ucc3d\\ub155\\uad70\", \"\\uacbd\\uc0c1\\ub0a8\\ub3c4 \\ucc3d\\uc6d0\\uc2dc\", \"\\uacbd\\uc0c1\\ub0a8\\ub3c4 \\ud558\\ub3d9\\uad70\", \"\\uacbd\\uc0c1\\ub0a8\\ub3c4 \\ud568\\uc548\\uad70\", \"\\uacbd\\uc0c1\\ub0a8\\ub3c4 \\ud568\\uc591\\uad70\", \"\\uacbd\\uc0c1\\ubd81\\ub3c4 \\uacbd\\uc0b0\\uc2dc\", \"\\uacbd\\uc0c1\\ubd81\\ub3c4 \\uacbd\\uc8fc\\uc2dc\", \"\\uacbd\\uc0c1\\ubd81\\ub3c4 \\uace0\\ub839\\uad70\", \"\\uacbd\\uc0c1\\ubd81\\ub3c4 \\uad6c\\ubbf8\\uc2dc\", \"\\uacbd\\uc0c1\\ubd81\\ub3c4 \\uad70\\uc704\\uad70\", \"\\uacbd\\uc0c1\\ubd81\\ub3c4 \\uae40\\ucc9c\\uc2dc\", \"\\uacbd\\uc0c1\\ubd81\\ub3c4 \\ubd09\\ud654\\uad70\", \"\\uacbd\\uc0c1\\ubd81\\ub3c4 \\uc0c1\\uc8fc\\uc2dc\", \"\\uacbd\\uc0c1\\ubd81\\ub3c4 \\uc548\\ub3d9\\uc2dc\", \"\\uacbd\\uc0c1\\ubd81\\ub3c4 \\uc601\\ub355\\uad70\", \"\\uacbd\\uc0c1\\ubd81\\ub3c4 \\uc601\\ucc9c\\uc2dc\", \"\\uacbd\\uc0c1\\ubd81\\ub3c4 \\uce60\\uace1\\uad70\", \"\\uad11\\uc8fc\\uad11\\uc5ed\\uc2dc\", \"\\uad11\\uc8fc\\uad11\\uc5ed\\uc2dc \\uad11\\uc0b0\\uad6c\", \"\\uad11\\uc8fc\\uad11\\uc5ed\\uc2dc \\ub0a8\\uad6c\", \"\\uad11\\uc8fc\\uad11\\uc5ed\\uc2dc \\ubd81\\uad6c\", \"\\uad11\\uc8fc\\uad11\\uc5ed\\uc2dc \\uc11c\\uad6c\", \"\\ub300\\uad6c\\uad11\\uc5ed\\uc2dc\", \"\\ub300\\uad6c\\uad11\\uc5ed\\uc2dc \\ub0a8\\uad6c\", \"\\ub300\\uad6c\\uad11\\uc5ed\\uc2dc \\ub2ec\\uc11c\\uad6c\", \"\\ub300\\uad6c\\uad11\\uc5ed\\uc2dc \\ub3d9\\uad6c\", \"\\ub300\\uad6c\\uad11\\uc5ed\\uc2dc \\ubd81\\uad6c\", \"\\ub300\\uad6c\\uad11\\uc5ed\\uc2dc \\uc218\\uc131\\uad6c\", \"\\ub300\\uad6c\\uad11\\uc5ed\\uc2dc \\uc911\\uad6c\", \"\\ub300\\uc804\\uad11\\uc5ed\\uc2dc\", \"\\ub300\\uc804\\uad11\\uc5ed\\uc2dc \\ub300\\ub355\\uad6c\", \"\\ub300\\uc804\\uad11\\uc5ed\\uc2dc \\ub3d9\\uad6c\", \"\\ub300\\uc804\\uad11\\uc5ed\\uc2dc \\uc11c\\uad6c\", \"\\ub300\\uc804\\uad11\\uc5ed\\uc2dc \\uc720\\uc131\\uad6c\", \"\\ubd80\\uc0b0\\uad11\\uc5ed\\uc2dc\", \"\\ubd80\\uc0b0\\uad11\\uc5ed\\uc2dc \\uac15\\uc11c\\uad6c\", \"\\ubd80\\uc0b0\\uad11\\uc5ed\\uc2dc \\uc0ac\\uc0c1\\uad6c\", \"\\ubd80\\uc0b0\\uad11\\uc5ed\\uc2dc \\uc911\\uad6c\", \"\\ubd80\\uc0b0\\uad11\\uc5ed\\uc2dc \\ud574\\uc6b4\\ub300\\uad6c\", \"\\uc11c\\uc6b8\\ud2b9\\ubcc4\\uc2dc\", \"\\uc11c\\uc6b8\\ud2b9\\ubcc4\\uc2dc \\uac15\\uc11c\\uad6c\", \"\\uc11c\\uc6b8\\ud2b9\\ubcc4\\uc2dc \\ub9c8\\ud3ec\\uad6c\", \"\\uc11c\\uc6b8\\ud2b9\\ubcc4\\uc2dc \\uc131\\ubd81\\uad6c\", \"\\uc11c\\uc6b8\\ud2b9\\ubcc4\\uc2dc \\uc1a1\\ud30c\\uad6c\", \"\\uc11c\\uc6b8\\ud2b9\\ubcc4\\uc2dc \\uc591\\ucc9c\\uad6c\", \"\\uc11c\\uc6b8\\ud2b9\\ubcc4\\uc2dc \\uc740\\ud3c9\\uad6c\", \"\\uc11c\\uc6b8\\ud2b9\\ubcc4\\uc2dc \\uc911\\ub791\\uad6c\", \"\\uc138\\uc885\\ud2b9\\ubcc4\\uc790\\uce58\\uc2dc\", \"\\uc6b8\\uc0b0\\uad11\\uc5ed\\uc2dc\", \"\\uc6b8\\uc0b0\\uad11\\uc5ed\\uc2dc \\ub0a8\\uad6c\", \"\\uc778\\ucc9c\\uad11\\uc5ed\\uc2dc\", \"\\uc778\\ucc9c\\uad11\\uc5ed\\uc2dc \\uacc4\\uc591\\uad6c\", \"\\uc778\\ucc9c\\uad11\\uc5ed\\uc2dc \\ub0a8\\uad6c\", \"\\uc778\\ucc9c\\uad11\\uc5ed\\uc2dc \\ub0a8\\ub3d9\\uad6c\", \"\\uc778\\ucc9c\\uad11\\uc5ed\\uc2dc \\ub3d9\\uad6c\", \"\\uc778\\ucc9c\\uad11\\uc5ed\\uc2dc \\ubd80\\ud3c9\\uad6c\", \"\\uc778\\ucc9c\\uad11\\uc5ed\\uc2dc \\uc5f0\\uc218\\uad6c\", \"\\uc804\\ub77c\\ub0a8\\ub3c4\", \"\\uc804\\ub77c\\ub0a8\\ub3c4 \\uac15\\uc9c4\\uad70\", \"\\uc804\\ub77c\\ub0a8\\ub3c4 \\uace0\\ud765\\uad70\", \"\\uc804\\ub77c\\ub0a8\\ub3c4 \\uad11\\uc591\\uc2dc\", \"\\uc804\\ub77c\\ub0a8\\ub3c4 \\ub098\\uc8fc\\uc2dc\", \"\\uc804\\ub77c\\ub0a8\\ub3c4 \\ubaa9\\ud3ec\\uc2dc\", \"\\uc804\\ub77c\\ub0a8\\ub3c4 \\ubb34\\uc548\\uad70\", \"\\uc804\\ub77c\\ub0a8\\ub3c4 \\ubcf4\\uc131\\uad70\", \"\\uc804\\ub77c\\ub0a8\\ub3c4 \\uc21c\\ucc9c\\uc2dc\", \"\\uc804\\ub77c\\ub0a8\\ub3c4 \\uc2e0\\uc548\\uad70\", \"\\uc804\\ub77c\\ub0a8\\ub3c4 \\uc5ec\\uc218\\uc2dc\", \"\\uc804\\ub77c\\ub0a8\\ub3c4 \\uc601\\uad11\\uad70\", \"\\uc804\\ub77c\\ub0a8\\ub3c4 \\uc601\\uc554\\uad70\", \"\\uc804\\ub77c\\ub0a8\\ub3c4 \\uc644\\ub3c4\\uad70\", \"\\uc804\\ub77c\\ub0a8\\ub3c4 \\uc7a5\\uc131\\uad70\", \"\\uc804\\ub77c\\ub0a8\\ub3c4 \\uc7a5\\ud765\\uad70\", \"\\uc804\\ub77c\\ub0a8\\ub3c4 \\uc9c4\\ub3c4\\uad70\", \"\\uc804\\ub77c\\ub0a8\\ub3c4 \\ud568\\ud3c9\\uad70\", \"\\uc804\\ub77c\\ub0a8\\ub3c4 \\ud574\\ub0a8\\uad70\", \"\\uc804\\ub77c\\ub0a8\\ub3c4 \\ud654\\uc21c\\uad70\", \"\\uc804\\ub77c\\ubd81\\ub3c4\", \"\\uc804\\ub77c\\ubd81\\ub3c4 \\uace0\\ucc3d\\uad70\", \"\\uc804\\ub77c\\ubd81\\ub3c4 \\uad70\\uc0b0\\uc2dc\", \"\\uc804\\ub77c\\ubd81\\ub3c4 \\uae40\\uc81c\\uc2dc\", \"\\uc804\\ub77c\\ubd81\\ub3c4 \\ub0a8\\uc6d0\\uc2dc\", \"\\uc804\\ub77c\\ubd81\\ub3c4 \\ubd80\\uc548\\uad70\", \"\\uc804\\ub77c\\ubd81\\ub3c4 \\uc644\\uc8fc\\uad70\", \"\\uc804\\ub77c\\ubd81\\ub3c4 \\uc775\\uc0b0\\uc2dc\", \"\\uc804\\ub77c\\ubd81\\ub3c4 \\uc784\\uc2e4\\uad70\", \"\\uc804\\ub77c\\ubd81\\ub3c4 \\uc7a5\\uc218\\uad70\", \"\\uc804\\ub77c\\ubd81\\ub3c4 \\uc804\\uc8fc\\uc2dc\", \"\\uc804\\ub77c\\ubd81\\ub3c4 \\uc815\\uc74d\\uc2dc\", \"\\uc804\\ub77c\\ubd81\\ub3c4 \\uc9c4\\uc548\\uad70\", \"\\uc81c\\uc8fc\\ud2b9\\ubcc4\\uc790\\uce58\\ub3c4\", \"\\uc81c\\uc8fc\\ud2b9\\ubcc4\\uc790\\uce58\\ub3c4 \\uc11c\\uadc0\\ud3ec\\uc2dc\", \"\\uc81c\\uc8fc\\ud2b9\\ubcc4\\uc790\\uce58\\ub3c4 \\uc81c\\uc8fc\\uc2dc\", \"\\uc911\\uad6d\", \"\\ucda9\\uccad\\ub0a8\\ub3c4 \\uacf5\\uc8fc\\uc2dc\", \"\\ucda9\\uccad\\ub0a8\\ub3c4 \\uae08\\uc0b0\\uad70\", \"\\ucda9\\uccad\\ub0a8\\ub3c4 \\ub17c\\uc0b0\\uc2dc\", \"\\ucda9\\uccad\\ub0a8\\ub3c4 \\ub2f9\\uc9c4\\uc2dc\", \"\\ucda9\\uccad\\ub0a8\\ub3c4 \\ubcf4\\ub839\\uc2dc\", \"\\ucda9\\uccad\\ub0a8\\ub3c4 \\ubd80\\uc5ec\\uad70\", \"\\ucda9\\uccad\\ub0a8\\ub3c4 \\uc11c\\uc0b0\\uc2dc\", \"\\ucda9\\uccad\\ub0a8\\ub3c4 \\uc11c\\ucc9c\\uad70\", \"\\ucda9\\uccad\\ub0a8\\ub3c4 \\uc544\\uc0b0\\uc2dc\", \"\\ucda9\\uccad\\ub0a8\\ub3c4 \\uc608\\uc0b0\\uad70\", \"\\ucda9\\uccad\\ub0a8\\ub3c4 \\ucc9c\\uc548\\uc2dc\", \"\\ucda9\\uccad\\ub0a8\\ub3c4 \\ud0dc\\uc548\\uad70\", \"\\ucda9\\uccad\\ub0a8\\ub3c4 \\ud64d\\uc131\\uad70\", \"\\ucda9\\uccad\\ubd81\\ub3c4\", \"\\ucda9\\uccad\\ubd81\\ub3c4 \\uad34\\uc0b0\\uad70\", \"\\ucda9\\uccad\\ubd81\\ub3c4 \\ubcf4\\uc740\\uad70\", \"\\ucda9\\uccad\\ubd81\\ub3c4 \\uc601\\ub3d9\\uad70\", \"\\ucda9\\uccad\\ubd81\\ub3c4 \\uc74c\\uc131\\uad70\", \"\\ucda9\\uccad\\ubd81\\ub3c4 \\uc81c\\ucc9c\\uc2dc\", \"\\ucda9\\uccad\\ubd81\\ub3c4 \\uc9c4\\ucc9c\\uad70\", \"\\ucda9\\uccad\\ubd81\\ub3c4 \\uccad\\uc8fc\\uc2dc\", \"\\ucda9\\uccad\\ubd81\\ub3c4 \\ucda9\\uc8fc\\uc2dc\"], \"y\": [3915, 46925, 10946, 6382, 70467, 9170, 22570, 13670, 3156, 7280, 18220, 364288, 763, 42930, 10312, 14150, 107199, 930, 6010, 1650, 82902, 328, 6540, 47431, 115260, 8230, 26888, 830, 50288, 40, 181893, 40, 37014, 2650, 2200, 9323, 1660, 109249, 123, 1054, 27951, 435, 153, 10427, 13827, 2700, 4900, 820, 75, 150, 242, 53530, 23085, 24003, 4620, 504, 8190, 14527, 56030, 5280, 9920, 964, 140, 1552, 152, 1389, 3752, 125, 355, 44124, 317795, 200317, 67126, 170145, 65707, 60284, 143610, 6429, 6990, 90678, 200, 106110, 14700, 42787, 4313, 27342, 66982, 17050, 41420, 67759, 1490, 3330, 32400, 207712, 3036, 22912, 7450, 5248, 111886, 21326, 10859, 7318, 1607819, 35708, 227843, 223, 53860, 953, 43, 2049449, 185, 98867, 300, 10000, 11668, 4041, 5838, 11695, 5101, 108619, 55805, 70, 5417, 79319, 9793, 865, 202, 155, 1143, 3344, 3916, 5480, 2020, 5082, 36, 4190, 59005, 3223, 130551, 108972, 67716, 7707, 10666, 5120, 1227, 916, 2719, 78, 10625, 591, 292296, 54295]}, {\"name\": \"2021\\ub1441\\uc6d4\", \"type\": \"bar\", \"x\": [\"\\uac15\\uc6d0\\ub3c4\", \"\\uac15\\uc6d0\\ub3c4 \\uac15\\ub989\\uc2dc\", \"\\uac15\\uc6d0\\ub3c4 \\ub3d9\\ud574\\uc2dc\", \"\\uac15\\uc6d0\\ub3c4 \\uc6d0\\uc8fc\\uc2dc\", \"\\uac15\\uc6d0\\ub3c4 \\uc778\\uc81c\\uad70\", \"\\uac15\\uc6d0\\ub3c4 \\uc815\\uc120\\uad70\", \"\\uac15\\uc6d0\\ub3c4 \\ucca0\\uc6d0\\uad70\", \"\\uac15\\uc6d0\\ub3c4 \\ucd98\\ucc9c\\uc2dc\", \"\\uac15\\uc6d0\\ub3c4 \\ud3c9\\ucc3d\\uad70\", \"\\uacbd\\uae30\\ub3c4\", \"\\uacbd\\uae30\\ub3c4 \\uace0\\uc591\\uc2dc\", \"\\uacbd\\uae30\\ub3c4 \\uad6c\\ub9ac\\uc2dc\", \"\\uacbd\\uae30\\ub3c4 \\uad70\\ud3ec\\uc2dc\", \"\\uacbd\\uae30\\ub3c4 \\uae40\\ud3ec\\uc2dc\", \"\\uacbd\\uae30\\ub3c4 \\ub0a8\\uc591\\uc8fc\\uc2dc\", \"\\uacbd\\uae30\\ub3c4 \\ub3d9\\ub450\\ucc9c\\uc2dc\", \"\\uacbd\\uae30\\ub3c4 \\uc218\\uc6d0\\uc2dc\", \"\\uacbd\\uae30\\ub3c4 \\uc548\\uc0b0\\uc2dc\", \"\\uacbd\\uae30\\ub3c4 \\uc548\\uc131\\uc2dc\", \"\\uacbd\\uae30\\ub3c4 \\uc548\\uc591\\uc2dc\", \"\\uacbd\\uae30\\ub3c4 \\uc591\\uc8fc\\uc2dc\", \"\\uacbd\\uae30\\ub3c4 \\uc5ec\\uc8fc\\uc2dc\", \"\\uacbd\\uae30\\ub3c4 \\uc5f0\\ucc9c\\uad70\", \"\\uacbd\\uae30\\ub3c4 \\uc774\\ucc9c\\uc2dc\", \"\\uacbd\\uae30\\ub3c4 \\ud30c\\uc8fc\\uc2dc\", \"\\uacbd\\uae30\\ub3c4 \\ud3c9\\ud0dd\\uc2dc\", \"\\uacbd\\uae30\\ub3c4 \\ud3ec\\ucc9c\\uc2dc\", \"\\uacbd\\uae30\\ub3c4 \\ud654\\uc131\\uc2dc\", \"\\uacbd\\uc0c1\\ub0a8\\ub3c4\", \"\\uacbd\\uc0c1\\ub0a8\\ub3c4 \\uac70\\ucc3d\\uad70\", \"\\uacbd\\uc0c1\\ub0a8\\ub3c4 \\uae40\\ud574\\uc2dc\", \"\\uacbd\\uc0c1\\ub0a8\\ub3c4 \\ub0a8\\ud574\\uad70\", \"\\uacbd\\uc0c1\\ub0a8\\ub3c4 \\ubc00\\uc591\\uc2dc\", \"\\uacbd\\uc0c1\\ub0a8\\ub3c4 \\uc0ac\\ucc9c\\uc2dc\", \"\\uacbd\\uc0c1\\ub0a8\\ub3c4 \\uc591\\uc0b0\\uc2dc\", \"\\uacbd\\uc0c1\\ub0a8\\ub3c4 \\uc9c4\\uc8fc\\uc2dc\", \"\\uacbd\\uc0c1\\ub0a8\\ub3c4 \\ucc3d\\ub155\\uad70\", \"\\uacbd\\uc0c1\\ub0a8\\ub3c4 \\ucc3d\\uc6d0\\uc2dc\", \"\\uacbd\\uc0c1\\ub0a8\\ub3c4 \\ud558\\ub3d9\\uad70\", \"\\uacbd\\uc0c1\\ub0a8\\ub3c4 \\ud568\\uc548\\uad70\", \"\\uacbd\\uc0c1\\ub0a8\\ub3c4 \\ud568\\uc591\\uad70\", \"\\uacbd\\uc0c1\\ubd81\\ub3c4 \\uacbd\\uc0b0\\uc2dc\", \"\\uacbd\\uc0c1\\ubd81\\ub3c4 \\uacbd\\uc8fc\\uc2dc\", \"\\uacbd\\uc0c1\\ubd81\\ub3c4 \\uace0\\ub839\\uad70\", \"\\uacbd\\uc0c1\\ubd81\\ub3c4 \\uad6c\\ubbf8\\uc2dc\", \"\\uacbd\\uc0c1\\ubd81\\ub3c4 \\uad70\\uc704\\uad70\", \"\\uacbd\\uc0c1\\ubd81\\ub3c4 \\uae40\\ucc9c\\uc2dc\", \"\\uacbd\\uc0c1\\ubd81\\ub3c4 \\ubd09\\ud654\\uad70\", \"\\uacbd\\uc0c1\\ubd81\\ub3c4 \\uc0c1\\uc8fc\\uc2dc\", \"\\uacbd\\uc0c1\\ubd81\\ub3c4 \\uc548\\ub3d9\\uc2dc\", \"\\uacbd\\uc0c1\\ubd81\\ub3c4 \\uc601\\ub355\\uad70\", \"\\uacbd\\uc0c1\\ubd81\\ub3c4 \\uc601\\ucc9c\\uc2dc\", \"\\uacbd\\uc0c1\\ubd81\\ub3c4 \\uce60\\uace1\\uad70\", \"\\uad11\\uc8fc\\uad11\\uc5ed\\uc2dc\", \"\\uad11\\uc8fc\\uad11\\uc5ed\\uc2dc \\uad11\\uc0b0\\uad6c\", \"\\uad11\\uc8fc\\uad11\\uc5ed\\uc2dc \\ub0a8\\uad6c\", \"\\uad11\\uc8fc\\uad11\\uc5ed\\uc2dc \\ubd81\\uad6c\", \"\\uad11\\uc8fc\\uad11\\uc5ed\\uc2dc \\uc11c\\uad6c\", \"\\ub300\\uad6c\\uad11\\uc5ed\\uc2dc\", \"\\ub300\\uad6c\\uad11\\uc5ed\\uc2dc \\ub0a8\\uad6c\", \"\\ub300\\uad6c\\uad11\\uc5ed\\uc2dc \\ub2ec\\uc11c\\uad6c\", \"\\ub300\\uad6c\\uad11\\uc5ed\\uc2dc \\ub3d9\\uad6c\", \"\\ub300\\uad6c\\uad11\\uc5ed\\uc2dc \\ubd81\\uad6c\", \"\\ub300\\uad6c\\uad11\\uc5ed\\uc2dc \\uc218\\uc131\\uad6c\", \"\\ub300\\uad6c\\uad11\\uc5ed\\uc2dc \\uc911\\uad6c\", \"\\ub300\\uc804\\uad11\\uc5ed\\uc2dc\", \"\\ub300\\uc804\\uad11\\uc5ed\\uc2dc \\ub300\\ub355\\uad6c\", \"\\ub300\\uc804\\uad11\\uc5ed\\uc2dc \\ub3d9\\uad6c\", \"\\ub300\\uc804\\uad11\\uc5ed\\uc2dc \\uc11c\\uad6c\", \"\\ub300\\uc804\\uad11\\uc5ed\\uc2dc \\uc720\\uc131\\uad6c\", \"\\ubd80\\uc0b0\\uad11\\uc5ed\\uc2dc\", \"\\ubd80\\uc0b0\\uad11\\uc5ed\\uc2dc \\uac15\\uc11c\\uad6c\", \"\\ubd80\\uc0b0\\uad11\\uc5ed\\uc2dc \\uc0ac\\uc0c1\\uad6c\", \"\\ubd80\\uc0b0\\uad11\\uc5ed\\uc2dc \\uc911\\uad6c\", \"\\ubd80\\uc0b0\\uad11\\uc5ed\\uc2dc \\ud574\\uc6b4\\ub300\\uad6c\", \"\\uc11c\\uc6b8\\ud2b9\\ubcc4\\uc2dc\", \"\\uc11c\\uc6b8\\ud2b9\\ubcc4\\uc2dc \\uac15\\uc11c\\uad6c\", \"\\uc11c\\uc6b8\\ud2b9\\ubcc4\\uc2dc \\ub9c8\\ud3ec\\uad6c\", \"\\uc11c\\uc6b8\\ud2b9\\ubcc4\\uc2dc \\uc131\\ubd81\\uad6c\", \"\\uc11c\\uc6b8\\ud2b9\\ubcc4\\uc2dc \\uc1a1\\ud30c\\uad6c\", \"\\uc11c\\uc6b8\\ud2b9\\ubcc4\\uc2dc \\uc591\\ucc9c\\uad6c\", \"\\uc11c\\uc6b8\\ud2b9\\ubcc4\\uc2dc \\uc740\\ud3c9\\uad6c\", \"\\uc11c\\uc6b8\\ud2b9\\ubcc4\\uc2dc \\uc911\\ub791\\uad6c\", \"\\uc138\\uc885\\ud2b9\\ubcc4\\uc790\\uce58\\uc2dc\", \"\\uc6b8\\uc0b0\\uad11\\uc5ed\\uc2dc\", \"\\uc6b8\\uc0b0\\uad11\\uc5ed\\uc2dc \\ub0a8\\uad6c\", \"\\uc778\\ucc9c\\uad11\\uc5ed\\uc2dc\", \"\\uc778\\ucc9c\\uad11\\uc5ed\\uc2dc \\uacc4\\uc591\\uad6c\", \"\\uc778\\ucc9c\\uad11\\uc5ed\\uc2dc \\ub0a8\\uad6c\", \"\\uc778\\ucc9c\\uad11\\uc5ed\\uc2dc \\ub0a8\\ub3d9\\uad6c\", \"\\uc778\\ucc9c\\uad11\\uc5ed\\uc2dc \\ub3d9\\uad6c\", \"\\uc778\\ucc9c\\uad11\\uc5ed\\uc2dc \\ubd80\\ud3c9\\uad6c\", \"\\uc778\\ucc9c\\uad11\\uc5ed\\uc2dc \\uc5f0\\uc218\\uad6c\", \"\\uc804\\ub77c\\ub0a8\\ub3c4\", \"\\uc804\\ub77c\\ub0a8\\ub3c4 \\uac15\\uc9c4\\uad70\", \"\\uc804\\ub77c\\ub0a8\\ub3c4 \\uace0\\ud765\\uad70\", \"\\uc804\\ub77c\\ub0a8\\ub3c4 \\uad11\\uc591\\uc2dc\", \"\\uc804\\ub77c\\ub0a8\\ub3c4 \\ub098\\uc8fc\\uc2dc\", \"\\uc804\\ub77c\\ub0a8\\ub3c4 \\ubaa9\\ud3ec\\uc2dc\", \"\\uc804\\ub77c\\ub0a8\\ub3c4 \\ubb34\\uc548\\uad70\", \"\\uc804\\ub77c\\ub0a8\\ub3c4 \\ubcf4\\uc131\\uad70\", \"\\uc804\\ub77c\\ub0a8\\ub3c4 \\uc21c\\ucc9c\\uc2dc\", \"\\uc804\\ub77c\\ub0a8\\ub3c4 \\uc2e0\\uc548\\uad70\", \"\\uc804\\ub77c\\ub0a8\\ub3c4 \\uc5ec\\uc218\\uc2dc\", \"\\uc804\\ub77c\\ub0a8\\ub3c4 \\uc601\\uad11\\uad70\", \"\\uc804\\ub77c\\ub0a8\\ub3c4 \\uc601\\uc554\\uad70\", \"\\uc804\\ub77c\\ub0a8\\ub3c4 \\uc644\\ub3c4\\uad70\", \"\\uc804\\ub77c\\ub0a8\\ub3c4 \\uc7a5\\uc131\\uad70\", \"\\uc804\\ub77c\\ub0a8\\ub3c4 \\uc7a5\\ud765\\uad70\", \"\\uc804\\ub77c\\ub0a8\\ub3c4 \\uc9c4\\ub3c4\\uad70\", \"\\uc804\\ub77c\\ub0a8\\ub3c4 \\ud568\\ud3c9\\uad70\", \"\\uc804\\ub77c\\ub0a8\\ub3c4 \\ud574\\ub0a8\\uad70\", \"\\uc804\\ub77c\\ub0a8\\ub3c4 \\ud654\\uc21c\\uad70\", \"\\uc804\\ub77c\\ubd81\\ub3c4\", \"\\uc804\\ub77c\\ubd81\\ub3c4 \\uace0\\ucc3d\\uad70\", \"\\uc804\\ub77c\\ubd81\\ub3c4 \\uad70\\uc0b0\\uc2dc\", \"\\uc804\\ub77c\\ubd81\\ub3c4 \\uae40\\uc81c\\uc2dc\", \"\\uc804\\ub77c\\ubd81\\ub3c4 \\ub0a8\\uc6d0\\uc2dc\", \"\\uc804\\ub77c\\ubd81\\ub3c4 \\ubd80\\uc548\\uad70\", \"\\uc804\\ub77c\\ubd81\\ub3c4 \\uc644\\uc8fc\\uad70\", \"\\uc804\\ub77c\\ubd81\\ub3c4 \\uc775\\uc0b0\\uc2dc\", \"\\uc804\\ub77c\\ubd81\\ub3c4 \\uc784\\uc2e4\\uad70\", \"\\uc804\\ub77c\\ubd81\\ub3c4 \\uc7a5\\uc218\\uad70\", \"\\uc804\\ub77c\\ubd81\\ub3c4 \\uc804\\uc8fc\\uc2dc\", \"\\uc804\\ub77c\\ubd81\\ub3c4 \\uc815\\uc74d\\uc2dc\", \"\\uc804\\ub77c\\ubd81\\ub3c4 \\uc9c4\\uc548\\uad70\", \"\\uc81c\\uc8fc\\ud2b9\\ubcc4\\uc790\\uce58\\ub3c4\", \"\\uc81c\\uc8fc\\ud2b9\\ubcc4\\uc790\\uce58\\ub3c4 \\uc11c\\uadc0\\ud3ec\\uc2dc\", \"\\uc81c\\uc8fc\\ud2b9\\ubcc4\\uc790\\uce58\\ub3c4 \\uc81c\\uc8fc\\uc2dc\", \"\\uc911\\uad6d\", \"\\ucda9\\uccad\\ub0a8\\ub3c4 \\uacf5\\uc8fc\\uc2dc\", \"\\ucda9\\uccad\\ub0a8\\ub3c4 \\uae08\\uc0b0\\uad70\", \"\\ucda9\\uccad\\ub0a8\\ub3c4 \\ub17c\\uc0b0\\uc2dc\", \"\\ucda9\\uccad\\ub0a8\\ub3c4 \\ub2f9\\uc9c4\\uc2dc\", \"\\ucda9\\uccad\\ub0a8\\ub3c4 \\ubcf4\\ub839\\uc2dc\", \"\\ucda9\\uccad\\ub0a8\\ub3c4 \\ubd80\\uc5ec\\uad70\", \"\\ucda9\\uccad\\ub0a8\\ub3c4 \\uc11c\\uc0b0\\uc2dc\", \"\\ucda9\\uccad\\ub0a8\\ub3c4 \\uc11c\\ucc9c\\uad70\", \"\\ucda9\\uccad\\ub0a8\\ub3c4 \\uc544\\uc0b0\\uc2dc\", \"\\ucda9\\uccad\\ub0a8\\ub3c4 \\uc608\\uc0b0\\uad70\", \"\\ucda9\\uccad\\ub0a8\\ub3c4 \\ucc9c\\uc548\\uc2dc\", \"\\ucda9\\uccad\\ub0a8\\ub3c4 \\ud0dc\\uc548\\uad70\", \"\\ucda9\\uccad\\ub0a8\\ub3c4 \\ud64d\\uc131\\uad70\", \"\\ucda9\\uccad\\ubd81\\ub3c4\", \"\\ucda9\\uccad\\ubd81\\ub3c4 \\uad34\\uc0b0\\uad70\", \"\\ucda9\\uccad\\ubd81\\ub3c4 \\ubcf4\\uc740\\uad70\", \"\\ucda9\\uccad\\ubd81\\ub3c4 \\uc601\\ub3d9\\uad70\", \"\\ucda9\\uccad\\ubd81\\ub3c4 \\uc74c\\uc131\\uad70\", \"\\ucda9\\uccad\\ubd81\\ub3c4 \\uc81c\\ucc9c\\uc2dc\", \"\\ucda9\\uccad\\ubd81\\ub3c4 \\uc9c4\\ucc9c\\uad70\", \"\\ucda9\\uccad\\ubd81\\ub3c4 \\uccad\\uc8fc\\uc2dc\", \"\\ucda9\\uccad\\ubd81\\ub3c4 \\ucda9\\uc8fc\\uc2dc\"], \"y\": [400.0, 105596.0, 2420.0, 7180.0, 25920.0, 0.0, 34660.0, 600.0, 149834.0, 60.0, 14320.0, 653652.0, 0.0, 0.0, 8090.0, 0.0, 90718.0, 840.0, 9640.0, 2400.0, 10046.0, 43566.0, 0.0, 93570.0, 243400.0, 86.0, 2896.0, 9340.0, 93784.0, 0.0, 343854.0, 0.0, 40434.0, 15780.0, 3650.0, 26950.0, 6500.0, 83738.0, 0.0, 816.0, 11434.0, 2424.0, 0.0, 3030.0, 8420.0, 0.0, 36056.0, 0.0, 0.0, 9400.0, 0.0, 1100.0, 75400.0, 49142.0, 1996.0, 0.0, 18758.0, 3800.0, 87750.0, 0.0, 0.0, 630.0, 470.0, 4010.0, 0.0, 42908.0, 660.0, 32064.0, 0.0, 35776.0, 659774.0, 254950.0, 73814.0, 356530.0, 74544.0, 31134.0, 0.0, 0.0, 0.0, 167638.0, 0.0, 9920.0, 12960.0, 50678.0, 16696.0, 39848.0, 183860.0, 127960.0, 0.0, 20144.0, 760.0, 2000.0, 0.0, 149116.0, 4222.0, 9534.0, 0.0, 5084.0, 21372.0, 30260.0, 10100.0, 30262.0, 2901246.0, 1496.0, 305272.0, 31360.0, 7220.0, 1968.0, 5194.0, 3743274.0, 2328.0, 81978.0, 0.0, 20000.0, 30632.0, 0.0, 0.0, 24400.0, 10924.0, 199708.0, 26612.0, 0.0, 38860.0, 168134.0, 44.0, 0.0, 7026.0, 100.0, 27232.0, 6058.0, 50304.0, 1216.0, 3894.0, 12780.0, 0.0, 0.0, 31572.0, 36.0, 117104.0, 164634.0, 89036.0, 928.0, 980.0, 0.0, 464.0, 938.0, 4006.0, 0.0, 15126.0, 0.0, 456604.0, 226594.0]}, {\"name\": \"2020\\ub1442\\uc6d4\", \"type\": \"bar\", \"x\": [\"\\uac15\\uc6d0\\ub3c4\", \"\\uac15\\uc6d0\\ub3c4 \\uac15\\ub989\\uc2dc\", \"\\uac15\\uc6d0\\ub3c4 \\ub3d9\\ud574\\uc2dc\", \"\\uac15\\uc6d0\\ub3c4 \\uc6d0\\uc8fc\\uc2dc\", \"\\uac15\\uc6d0\\ub3c4 \\uc778\\uc81c\\uad70\", \"\\uac15\\uc6d0\\ub3c4 \\uc815\\uc120\\uad70\", \"\\uac15\\uc6d0\\ub3c4 \\ucca0\\uc6d0\\uad70\", \"\\uac15\\uc6d0\\ub3c4 \\ucd98\\ucc9c\\uc2dc\", \"\\uac15\\uc6d0\\ub3c4 \\ud3c9\\ucc3d\\uad70\", \"\\uacbd\\uae30\\ub3c4\", \"\\uacbd\\uae30\\ub3c4 \\uace0\\uc591\\uc2dc\", \"\\uacbd\\uae30\\ub3c4 \\uad6c\\ub9ac\\uc2dc\", \"\\uacbd\\uae30\\ub3c4 \\uad70\\ud3ec\\uc2dc\", \"\\uacbd\\uae30\\ub3c4 \\uae40\\ud3ec\\uc2dc\", \"\\uacbd\\uae30\\ub3c4 \\ub0a8\\uc591\\uc8fc\\uc2dc\", \"\\uacbd\\uae30\\ub3c4 \\ub3d9\\ub450\\ucc9c\\uc2dc\", \"\\uacbd\\uae30\\ub3c4 \\uc218\\uc6d0\\uc2dc\", \"\\uacbd\\uae30\\ub3c4 \\uc548\\uc0b0\\uc2dc\", \"\\uacbd\\uae30\\ub3c4 \\uc548\\uc131\\uc2dc\", \"\\uacbd\\uae30\\ub3c4 \\uc548\\uc591\\uc2dc\", \"\\uacbd\\uae30\\ub3c4 \\uc591\\uc8fc\\uc2dc\", \"\\uacbd\\uae30\\ub3c4 \\uc5ec\\uc8fc\\uc2dc\", \"\\uacbd\\uae30\\ub3c4 \\uc5f0\\ucc9c\\uad70\", \"\\uacbd\\uae30\\ub3c4 \\uc774\\ucc9c\\uc2dc\", \"\\uacbd\\uae30\\ub3c4 \\ud30c\\uc8fc\\uc2dc\", \"\\uacbd\\uae30\\ub3c4 \\ud3c9\\ud0dd\\uc2dc\", \"\\uacbd\\uae30\\ub3c4 \\ud3ec\\ucc9c\\uc2dc\", \"\\uacbd\\uae30\\ub3c4 \\ud654\\uc131\\uc2dc\", \"\\uacbd\\uc0c1\\ub0a8\\ub3c4\", \"\\uacbd\\uc0c1\\ub0a8\\ub3c4 \\uac70\\ucc3d\\uad70\", \"\\uacbd\\uc0c1\\ub0a8\\ub3c4 \\uae40\\ud574\\uc2dc\", \"\\uacbd\\uc0c1\\ub0a8\\ub3c4 \\ub0a8\\ud574\\uad70\", \"\\uacbd\\uc0c1\\ub0a8\\ub3c4 \\ubc00\\uc591\\uc2dc\", \"\\uacbd\\uc0c1\\ub0a8\\ub3c4 \\uc0ac\\ucc9c\\uc2dc\", \"\\uacbd\\uc0c1\\ub0a8\\ub3c4 \\uc591\\uc0b0\\uc2dc\", \"\\uacbd\\uc0c1\\ub0a8\\ub3c4 \\uc9c4\\uc8fc\\uc2dc\", \"\\uacbd\\uc0c1\\ub0a8\\ub3c4 \\ucc3d\\ub155\\uad70\", \"\\uacbd\\uc0c1\\ub0a8\\ub3c4 \\ucc3d\\uc6d0\\uc2dc\", \"\\uacbd\\uc0c1\\ub0a8\\ub3c4 \\ud558\\ub3d9\\uad70\", \"\\uacbd\\uc0c1\\ub0a8\\ub3c4 \\ud568\\uc548\\uad70\", \"\\uacbd\\uc0c1\\ub0a8\\ub3c4 \\ud568\\uc591\\uad70\", \"\\uacbd\\uc0c1\\ubd81\\ub3c4 \\uacbd\\uc0b0\\uc2dc\", \"\\uacbd\\uc0c1\\ubd81\\ub3c4 \\uacbd\\uc8fc\\uc2dc\", \"\\uacbd\\uc0c1\\ubd81\\ub3c4 \\uace0\\ub839\\uad70\", \"\\uacbd\\uc0c1\\ubd81\\ub3c4 \\uad6c\\ubbf8\\uc2dc\", \"\\uacbd\\uc0c1\\ubd81\\ub3c4 \\uad70\\uc704\\uad70\", \"\\uacbd\\uc0c1\\ubd81\\ub3c4 \\uae40\\ucc9c\\uc2dc\", \"\\uacbd\\uc0c1\\ubd81\\ub3c4 \\ubd09\\ud654\\uad70\", \"\\uacbd\\uc0c1\\ubd81\\ub3c4 \\uc0c1\\uc8fc\\uc2dc\", \"\\uacbd\\uc0c1\\ubd81\\ub3c4 \\uc548\\ub3d9\\uc2dc\", \"\\uacbd\\uc0c1\\ubd81\\ub3c4 \\uc601\\ub355\\uad70\", \"\\uacbd\\uc0c1\\ubd81\\ub3c4 \\uc601\\ucc9c\\uc2dc\", \"\\uacbd\\uc0c1\\ubd81\\ub3c4 \\uce60\\uace1\\uad70\", \"\\uad11\\uc8fc\\uad11\\uc5ed\\uc2dc\", \"\\uad11\\uc8fc\\uad11\\uc5ed\\uc2dc \\uad11\\uc0b0\\uad6c\", \"\\uad11\\uc8fc\\uad11\\uc5ed\\uc2dc \\ub0a8\\uad6c\", \"\\uad11\\uc8fc\\uad11\\uc5ed\\uc2dc \\ubd81\\uad6c\", \"\\uad11\\uc8fc\\uad11\\uc5ed\\uc2dc \\uc11c\\uad6c\", \"\\ub300\\uad6c\\uad11\\uc5ed\\uc2dc\", \"\\ub300\\uad6c\\uad11\\uc5ed\\uc2dc \\ub0a8\\uad6c\", \"\\ub300\\uad6c\\uad11\\uc5ed\\uc2dc \\ub2ec\\uc11c\\uad6c\", \"\\ub300\\uad6c\\uad11\\uc5ed\\uc2dc \\ub3d9\\uad6c\", \"\\ub300\\uad6c\\uad11\\uc5ed\\uc2dc \\ubd81\\uad6c\", \"\\ub300\\uad6c\\uad11\\uc5ed\\uc2dc \\uc218\\uc131\\uad6c\", \"\\ub300\\uad6c\\uad11\\uc5ed\\uc2dc \\uc911\\uad6c\", \"\\ub300\\uc804\\uad11\\uc5ed\\uc2dc\", \"\\ub300\\uc804\\uad11\\uc5ed\\uc2dc \\ub300\\ub355\\uad6c\", \"\\ub300\\uc804\\uad11\\uc5ed\\uc2dc \\ub3d9\\uad6c\", \"\\ub300\\uc804\\uad11\\uc5ed\\uc2dc \\uc11c\\uad6c\", \"\\ub300\\uc804\\uad11\\uc5ed\\uc2dc \\uc720\\uc131\\uad6c\", \"\\ubd80\\uc0b0\\uad11\\uc5ed\\uc2dc\", \"\\ubd80\\uc0b0\\uad11\\uc5ed\\uc2dc \\uac15\\uc11c\\uad6c\", \"\\ubd80\\uc0b0\\uad11\\uc5ed\\uc2dc \\uc0ac\\uc0c1\\uad6c\", \"\\ubd80\\uc0b0\\uad11\\uc5ed\\uc2dc \\uc911\\uad6c\", \"\\ubd80\\uc0b0\\uad11\\uc5ed\\uc2dc \\ud574\\uc6b4\\ub300\\uad6c\", \"\\uc11c\\uc6b8\\ud2b9\\ubcc4\\uc2dc\", \"\\uc11c\\uc6b8\\ud2b9\\ubcc4\\uc2dc \\uac15\\uc11c\\uad6c\", \"\\uc11c\\uc6b8\\ud2b9\\ubcc4\\uc2dc \\ub9c8\\ud3ec\\uad6c\", \"\\uc11c\\uc6b8\\ud2b9\\ubcc4\\uc2dc \\uc131\\ubd81\\uad6c\", \"\\uc11c\\uc6b8\\ud2b9\\ubcc4\\uc2dc \\uc1a1\\ud30c\\uad6c\", \"\\uc11c\\uc6b8\\ud2b9\\ubcc4\\uc2dc \\uc591\\ucc9c\\uad6c\", \"\\uc11c\\uc6b8\\ud2b9\\ubcc4\\uc2dc \\uc740\\ud3c9\\uad6c\", \"\\uc11c\\uc6b8\\ud2b9\\ubcc4\\uc2dc \\uc911\\ub791\\uad6c\", \"\\uc138\\uc885\\ud2b9\\ubcc4\\uc790\\uce58\\uc2dc\", \"\\uc6b8\\uc0b0\\uad11\\uc5ed\\uc2dc\", \"\\uc6b8\\uc0b0\\uad11\\uc5ed\\uc2dc \\ub0a8\\uad6c\", \"\\uc778\\ucc9c\\uad11\\uc5ed\\uc2dc\", \"\\uc778\\ucc9c\\uad11\\uc5ed\\uc2dc \\uacc4\\uc591\\uad6c\", \"\\uc778\\ucc9c\\uad11\\uc5ed\\uc2dc \\ub0a8\\uad6c\", \"\\uc778\\ucc9c\\uad11\\uc5ed\\uc2dc \\ub0a8\\ub3d9\\uad6c\", \"\\uc778\\ucc9c\\uad11\\uc5ed\\uc2dc \\ub3d9\\uad6c\", \"\\uc778\\ucc9c\\uad11\\uc5ed\\uc2dc \\ubd80\\ud3c9\\uad6c\", \"\\uc778\\ucc9c\\uad11\\uc5ed\\uc2dc \\uc5f0\\uc218\\uad6c\", \"\\uc804\\ub77c\\ub0a8\\ub3c4\", \"\\uc804\\ub77c\\ub0a8\\ub3c4 \\uac15\\uc9c4\\uad70\", \"\\uc804\\ub77c\\ub0a8\\ub3c4 \\uace0\\ud765\\uad70\", \"\\uc804\\ub77c\\ub0a8\\ub3c4 \\uad11\\uc591\\uc2dc\", \"\\uc804\\ub77c\\ub0a8\\ub3c4 \\ub098\\uc8fc\\uc2dc\", \"\\uc804\\ub77c\\ub0a8\\ub3c4 \\ubaa9\\ud3ec\\uc2dc\", \"\\uc804\\ub77c\\ub0a8\\ub3c4 \\ubb34\\uc548\\uad70\", \"\\uc804\\ub77c\\ub0a8\\ub3c4 \\ubcf4\\uc131\\uad70\", \"\\uc804\\ub77c\\ub0a8\\ub3c4 \\uc21c\\ucc9c\\uc2dc\", \"\\uc804\\ub77c\\ub0a8\\ub3c4 \\uc2e0\\uc548\\uad70\", \"\\uc804\\ub77c\\ub0a8\\ub3c4 \\uc5ec\\uc218\\uc2dc\", \"\\uc804\\ub77c\\ub0a8\\ub3c4 \\uc601\\uad11\\uad70\", \"\\uc804\\ub77c\\ub0a8\\ub3c4 \\uc601\\uc554\\uad70\", \"\\uc804\\ub77c\\ub0a8\\ub3c4 \\uc644\\ub3c4\\uad70\", \"\\uc804\\ub77c\\ub0a8\\ub3c4 \\uc7a5\\uc131\\uad70\", \"\\uc804\\ub77c\\ub0a8\\ub3c4 \\uc7a5\\ud765\\uad70\", \"\\uc804\\ub77c\\ub0a8\\ub3c4 \\uc9c4\\ub3c4\\uad70\", \"\\uc804\\ub77c\\ub0a8\\ub3c4 \\ud568\\ud3c9\\uad70\", \"\\uc804\\ub77c\\ub0a8\\ub3c4 \\ud574\\ub0a8\\uad70\", \"\\uc804\\ub77c\\ub0a8\\ub3c4 \\ud654\\uc21c\\uad70\", \"\\uc804\\ub77c\\ubd81\\ub3c4\", \"\\uc804\\ub77c\\ubd81\\ub3c4 \\uace0\\ucc3d\\uad70\", \"\\uc804\\ub77c\\ubd81\\ub3c4 \\uad70\\uc0b0\\uc2dc\", \"\\uc804\\ub77c\\ubd81\\ub3c4 \\uae40\\uc81c\\uc2dc\", \"\\uc804\\ub77c\\ubd81\\ub3c4 \\ub0a8\\uc6d0\\uc2dc\", \"\\uc804\\ub77c\\ubd81\\ub3c4 \\ubd80\\uc548\\uad70\", \"\\uc804\\ub77c\\ubd81\\ub3c4 \\uc644\\uc8fc\\uad70\", \"\\uc804\\ub77c\\ubd81\\ub3c4 \\uc775\\uc0b0\\uc2dc\", \"\\uc804\\ub77c\\ubd81\\ub3c4 \\uc784\\uc2e4\\uad70\", \"\\uc804\\ub77c\\ubd81\\ub3c4 \\uc7a5\\uc218\\uad70\", \"\\uc804\\ub77c\\ubd81\\ub3c4 \\uc804\\uc8fc\\uc2dc\", \"\\uc804\\ub77c\\ubd81\\ub3c4 \\uc815\\uc74d\\uc2dc\", \"\\uc804\\ub77c\\ubd81\\ub3c4 \\uc9c4\\uc548\\uad70\", \"\\uc81c\\uc8fc\\ud2b9\\ubcc4\\uc790\\uce58\\ub3c4\", \"\\uc81c\\uc8fc\\ud2b9\\ubcc4\\uc790\\uce58\\ub3c4 \\uc11c\\uadc0\\ud3ec\\uc2dc\", \"\\uc81c\\uc8fc\\ud2b9\\ubcc4\\uc790\\uce58\\ub3c4 \\uc81c\\uc8fc\\uc2dc\", \"\\uc911\\uad6d\", \"\\ucda9\\uccad\\ub0a8\\ub3c4 \\uacf5\\uc8fc\\uc2dc\", \"\\ucda9\\uccad\\ub0a8\\ub3c4 \\uae08\\uc0b0\\uad70\", \"\\ucda9\\uccad\\ub0a8\\ub3c4 \\ub17c\\uc0b0\\uc2dc\", \"\\ucda9\\uccad\\ub0a8\\ub3c4 \\ub2f9\\uc9c4\\uc2dc\", \"\\ucda9\\uccad\\ub0a8\\ub3c4 \\ubcf4\\ub839\\uc2dc\", \"\\ucda9\\uccad\\ub0a8\\ub3c4 \\ubd80\\uc5ec\\uad70\", \"\\ucda9\\uccad\\ub0a8\\ub3c4 \\uc11c\\uc0b0\\uc2dc\", \"\\ucda9\\uccad\\ub0a8\\ub3c4 \\uc11c\\ucc9c\\uad70\", \"\\ucda9\\uccad\\ub0a8\\ub3c4 \\uc544\\uc0b0\\uc2dc\", \"\\ucda9\\uccad\\ub0a8\\ub3c4 \\uc608\\uc0b0\\uad70\", \"\\ucda9\\uccad\\ub0a8\\ub3c4 \\ucc9c\\uc548\\uc2dc\", \"\\ucda9\\uccad\\ub0a8\\ub3c4 \\ud0dc\\uc548\\uad70\", \"\\ucda9\\uccad\\ub0a8\\ub3c4 \\ud64d\\uc131\\uad70\", \"\\ucda9\\uccad\\ubd81\\ub3c4\", \"\\ucda9\\uccad\\ubd81\\ub3c4 \\uad34\\uc0b0\\uad70\", \"\\ucda9\\uccad\\ubd81\\ub3c4 \\ubcf4\\uc740\\uad70\", \"\\ucda9\\uccad\\ubd81\\ub3c4 \\uc601\\ub3d9\\uad70\", \"\\ucda9\\uccad\\ubd81\\ub3c4 \\uc74c\\uc131\\uad70\", \"\\ucda9\\uccad\\ubd81\\ub3c4 \\uc81c\\ucc9c\\uc2dc\", \"\\ucda9\\uccad\\ubd81\\ub3c4 \\uc9c4\\ucc9c\\uad70\", \"\\ucda9\\uccad\\ubd81\\ub3c4 \\uccad\\uc8fc\\uc2dc\", \"\\ucda9\\uccad\\ubd81\\ub3c4 \\ucda9\\uc8fc\\uc2dc\"], \"y\": [0, 47573, 8330, 5437, 64065, 3445, 4300, 0, 250, 1600, 15219, 434842, 520, 43750, 15450, 5590, 106947, 2680, 716, 1550, 72100, 260, 8930, 49630, 132340, 6620, 0, 0, 37931, 20, 132680, 140, 32084, 5715, 2515, 13680, 11870, 92941, 0, 1317, 30235, 177, 78, 14434, 12747, 11100, 1015, 48, 0, 204, 232, 67775, 33164, 23993, 4608, 0, 11107, 26430, 26615, 0, 810, 3104, 0, 0, 0, 1076, 702, 0, 0, 15303, 375417, 228587, 59509, 158154, 71981, 82612, 98970, 10745, 17979, 95836, 0, 59560, 4650, 9882, 7202, 22436, 84752, 39460, 50560, 54420, 0, 8570, 51510, 161578, 1588, 12340, 4870, 5574, 114782, 14215, 7455, 12510, 1820322, 21499, 37978, 1972, 33055, 0, 0, 2107991, 0, 106745, 300, 8000, 9673, 6469, 445, 0, 0, 80095, 50754, 0, 3971, 106040, 8970, 656, 30, 38, 1567, 2811, 3078, 4372, 861, 7713, 577, 1579, 52864, 4032, 51796, 90153, 66059, 700, 21500, 0, 2908, 0, 1620, 0, 20793, 58, 188988, 52762]}, {\"name\": \"2021\\ub1442\\uc6d4\", \"type\": \"bar\", \"x\": [\"\\uac15\\uc6d0\\ub3c4\", \"\\uac15\\uc6d0\\ub3c4 \\uac15\\ub989\\uc2dc\", \"\\uac15\\uc6d0\\ub3c4 \\ub3d9\\ud574\\uc2dc\", \"\\uac15\\uc6d0\\ub3c4 \\uc6d0\\uc8fc\\uc2dc\", \"\\uac15\\uc6d0\\ub3c4 \\uc778\\uc81c\\uad70\", \"\\uac15\\uc6d0\\ub3c4 \\uc815\\uc120\\uad70\", \"\\uac15\\uc6d0\\ub3c4 \\ucca0\\uc6d0\\uad70\", \"\\uac15\\uc6d0\\ub3c4 \\ucd98\\ucc9c\\uc2dc\", \"\\uac15\\uc6d0\\ub3c4 \\ud3c9\\ucc3d\\uad70\", \"\\uacbd\\uae30\\ub3c4\", \"\\uacbd\\uae30\\ub3c4 \\uace0\\uc591\\uc2dc\", \"\\uacbd\\uae30\\ub3c4 \\uad6c\\ub9ac\\uc2dc\", \"\\uacbd\\uae30\\ub3c4 \\uad70\\ud3ec\\uc2dc\", \"\\uacbd\\uae30\\ub3c4 \\uae40\\ud3ec\\uc2dc\", \"\\uacbd\\uae30\\ub3c4 \\ub0a8\\uc591\\uc8fc\\uc2dc\", \"\\uacbd\\uae30\\ub3c4 \\ub3d9\\ub450\\ucc9c\\uc2dc\", \"\\uacbd\\uae30\\ub3c4 \\uc218\\uc6d0\\uc2dc\", \"\\uacbd\\uae30\\ub3c4 \\uc548\\uc0b0\\uc2dc\", \"\\uacbd\\uae30\\ub3c4 \\uc548\\uc131\\uc2dc\", \"\\uacbd\\uae30\\ub3c4 \\uc548\\uc591\\uc2dc\", \"\\uacbd\\uae30\\ub3c4 \\uc591\\uc8fc\\uc2dc\", \"\\uacbd\\uae30\\ub3c4 \\uc5ec\\uc8fc\\uc2dc\", \"\\uacbd\\uae30\\ub3c4 \\uc5f0\\ucc9c\\uad70\", \"\\uacbd\\uae30\\ub3c4 \\uc774\\ucc9c\\uc2dc\", \"\\uacbd\\uae30\\ub3c4 \\ud30c\\uc8fc\\uc2dc\", \"\\uacbd\\uae30\\ub3c4 \\ud3c9\\ud0dd\\uc2dc\", \"\\uacbd\\uae30\\ub3c4 \\ud3ec\\ucc9c\\uc2dc\", \"\\uacbd\\uae30\\ub3c4 \\ud654\\uc131\\uc2dc\", \"\\uacbd\\uc0c1\\ub0a8\\ub3c4\", \"\\uacbd\\uc0c1\\ub0a8\\ub3c4 \\uac70\\ucc3d\\uad70\", \"\\uacbd\\uc0c1\\ub0a8\\ub3c4 \\uae40\\ud574\\uc2dc\", \"\\uacbd\\uc0c1\\ub0a8\\ub3c4 \\ub0a8\\ud574\\uad70\", \"\\uacbd\\uc0c1\\ub0a8\\ub3c4 \\ubc00\\uc591\\uc2dc\", \"\\uacbd\\uc0c1\\ub0a8\\ub3c4 \\uc0ac\\ucc9c\\uc2dc\", \"\\uacbd\\uc0c1\\ub0a8\\ub3c4 \\uc591\\uc0b0\\uc2dc\", \"\\uacbd\\uc0c1\\ub0a8\\ub3c4 \\uc9c4\\uc8fc\\uc2dc\", \"\\uacbd\\uc0c1\\ub0a8\\ub3c4 \\ucc3d\\ub155\\uad70\", \"\\uacbd\\uc0c1\\ub0a8\\ub3c4 \\ucc3d\\uc6d0\\uc2dc\", \"\\uacbd\\uc0c1\\ub0a8\\ub3c4 \\ud558\\ub3d9\\uad70\", \"\\uacbd\\uc0c1\\ub0a8\\ub3c4 \\ud568\\uc548\\uad70\", \"\\uacbd\\uc0c1\\ub0a8\\ub3c4 \\ud568\\uc591\\uad70\", \"\\uacbd\\uc0c1\\ubd81\\ub3c4 \\uacbd\\uc0b0\\uc2dc\", \"\\uacbd\\uc0c1\\ubd81\\ub3c4 \\uacbd\\uc8fc\\uc2dc\", \"\\uacbd\\uc0c1\\ubd81\\ub3c4 \\uace0\\ub839\\uad70\", \"\\uacbd\\uc0c1\\ubd81\\ub3c4 \\uad6c\\ubbf8\\uc2dc\", \"\\uacbd\\uc0c1\\ubd81\\ub3c4 \\uad70\\uc704\\uad70\", \"\\uacbd\\uc0c1\\ubd81\\ub3c4 \\uae40\\ucc9c\\uc2dc\", \"\\uacbd\\uc0c1\\ubd81\\ub3c4 \\ubd09\\ud654\\uad70\", \"\\uacbd\\uc0c1\\ubd81\\ub3c4 \\uc0c1\\uc8fc\\uc2dc\", \"\\uacbd\\uc0c1\\ubd81\\ub3c4 \\uc548\\ub3d9\\uc2dc\", \"\\uacbd\\uc0c1\\ubd81\\ub3c4 \\uc601\\ub355\\uad70\", \"\\uacbd\\uc0c1\\ubd81\\ub3c4 \\uc601\\ucc9c\\uc2dc\", \"\\uacbd\\uc0c1\\ubd81\\ub3c4 \\uce60\\uace1\\uad70\", \"\\uad11\\uc8fc\\uad11\\uc5ed\\uc2dc\", \"\\uad11\\uc8fc\\uad11\\uc5ed\\uc2dc \\uad11\\uc0b0\\uad6c\", \"\\uad11\\uc8fc\\uad11\\uc5ed\\uc2dc \\ub0a8\\uad6c\", \"\\uad11\\uc8fc\\uad11\\uc5ed\\uc2dc \\ubd81\\uad6c\", \"\\uad11\\uc8fc\\uad11\\uc5ed\\uc2dc \\uc11c\\uad6c\", \"\\ub300\\uad6c\\uad11\\uc5ed\\uc2dc\", \"\\ub300\\uad6c\\uad11\\uc5ed\\uc2dc \\ub0a8\\uad6c\", \"\\ub300\\uad6c\\uad11\\uc5ed\\uc2dc \\ub2ec\\uc11c\\uad6c\", \"\\ub300\\uad6c\\uad11\\uc5ed\\uc2dc \\ub3d9\\uad6c\", \"\\ub300\\uad6c\\uad11\\uc5ed\\uc2dc \\ubd81\\uad6c\", \"\\ub300\\uad6c\\uad11\\uc5ed\\uc2dc \\uc218\\uc131\\uad6c\", \"\\ub300\\uad6c\\uad11\\uc5ed\\uc2dc \\uc911\\uad6c\", \"\\ub300\\uc804\\uad11\\uc5ed\\uc2dc\", \"\\ub300\\uc804\\uad11\\uc5ed\\uc2dc \\ub300\\ub355\\uad6c\", \"\\ub300\\uc804\\uad11\\uc5ed\\uc2dc \\ub3d9\\uad6c\", \"\\ub300\\uc804\\uad11\\uc5ed\\uc2dc \\uc11c\\uad6c\", \"\\ub300\\uc804\\uad11\\uc5ed\\uc2dc \\uc720\\uc131\\uad6c\", \"\\ubd80\\uc0b0\\uad11\\uc5ed\\uc2dc\", \"\\ubd80\\uc0b0\\uad11\\uc5ed\\uc2dc \\uac15\\uc11c\\uad6c\", \"\\ubd80\\uc0b0\\uad11\\uc5ed\\uc2dc \\uc0ac\\uc0c1\\uad6c\", \"\\ubd80\\uc0b0\\uad11\\uc5ed\\uc2dc \\uc911\\uad6c\", \"\\ubd80\\uc0b0\\uad11\\uc5ed\\uc2dc \\ud574\\uc6b4\\ub300\\uad6c\", \"\\uc11c\\uc6b8\\ud2b9\\ubcc4\\uc2dc\", \"\\uc11c\\uc6b8\\ud2b9\\ubcc4\\uc2dc \\uac15\\uc11c\\uad6c\", \"\\uc11c\\uc6b8\\ud2b9\\ubcc4\\uc2dc \\ub9c8\\ud3ec\\uad6c\", \"\\uc11c\\uc6b8\\ud2b9\\ubcc4\\uc2dc \\uc131\\ubd81\\uad6c\", \"\\uc11c\\uc6b8\\ud2b9\\ubcc4\\uc2dc \\uc1a1\\ud30c\\uad6c\", \"\\uc11c\\uc6b8\\ud2b9\\ubcc4\\uc2dc \\uc591\\ucc9c\\uad6c\", \"\\uc11c\\uc6b8\\ud2b9\\ubcc4\\uc2dc \\uc740\\ud3c9\\uad6c\", \"\\uc11c\\uc6b8\\ud2b9\\ubcc4\\uc2dc \\uc911\\ub791\\uad6c\", \"\\uc138\\uc885\\ud2b9\\ubcc4\\uc790\\uce58\\uc2dc\", \"\\uc6b8\\uc0b0\\uad11\\uc5ed\\uc2dc\", \"\\uc6b8\\uc0b0\\uad11\\uc5ed\\uc2dc \\ub0a8\\uad6c\", \"\\uc778\\ucc9c\\uad11\\uc5ed\\uc2dc\", \"\\uc778\\ucc9c\\uad11\\uc5ed\\uc2dc \\uacc4\\uc591\\uad6c\", \"\\uc778\\ucc9c\\uad11\\uc5ed\\uc2dc \\ub0a8\\uad6c\", \"\\uc778\\ucc9c\\uad11\\uc5ed\\uc2dc \\ub0a8\\ub3d9\\uad6c\", \"\\uc778\\ucc9c\\uad11\\uc5ed\\uc2dc \\ub3d9\\uad6c\", \"\\uc778\\ucc9c\\uad11\\uc5ed\\uc2dc \\ubd80\\ud3c9\\uad6c\", \"\\uc778\\ucc9c\\uad11\\uc5ed\\uc2dc \\uc5f0\\uc218\\uad6c\", \"\\uc804\\ub77c\\ub0a8\\ub3c4\", \"\\uc804\\ub77c\\ub0a8\\ub3c4 \\uac15\\uc9c4\\uad70\", \"\\uc804\\ub77c\\ub0a8\\ub3c4 \\uace0\\ud765\\uad70\", \"\\uc804\\ub77c\\ub0a8\\ub3c4 \\uad11\\uc591\\uc2dc\", \"\\uc804\\ub77c\\ub0a8\\ub3c4 \\ub098\\uc8fc\\uc2dc\", \"\\uc804\\ub77c\\ub0a8\\ub3c4 \\ubaa9\\ud3ec\\uc2dc\", \"\\uc804\\ub77c\\ub0a8\\ub3c4 \\ubb34\\uc548\\uad70\", \"\\uc804\\ub77c\\ub0a8\\ub3c4 \\ubcf4\\uc131\\uad70\", \"\\uc804\\ub77c\\ub0a8\\ub3c4 \\uc21c\\ucc9c\\uc2dc\", \"\\uc804\\ub77c\\ub0a8\\ub3c4 \\uc2e0\\uc548\\uad70\", \"\\uc804\\ub77c\\ub0a8\\ub3c4 \\uc5ec\\uc218\\uc2dc\", \"\\uc804\\ub77c\\ub0a8\\ub3c4 \\uc601\\uad11\\uad70\", \"\\uc804\\ub77c\\ub0a8\\ub3c4 \\uc601\\uc554\\uad70\", \"\\uc804\\ub77c\\ub0a8\\ub3c4 \\uc644\\ub3c4\\uad70\", \"\\uc804\\ub77c\\ub0a8\\ub3c4 \\uc7a5\\uc131\\uad70\", \"\\uc804\\ub77c\\ub0a8\\ub3c4 \\uc7a5\\ud765\\uad70\", \"\\uc804\\ub77c\\ub0a8\\ub3c4 \\uc9c4\\ub3c4\\uad70\", \"\\uc804\\ub77c\\ub0a8\\ub3c4 \\ud568\\ud3c9\\uad70\", \"\\uc804\\ub77c\\ub0a8\\ub3c4 \\ud574\\ub0a8\\uad70\", \"\\uc804\\ub77c\\ub0a8\\ub3c4 \\ud654\\uc21c\\uad70\", \"\\uc804\\ub77c\\ubd81\\ub3c4\", \"\\uc804\\ub77c\\ubd81\\ub3c4 \\uace0\\ucc3d\\uad70\", \"\\uc804\\ub77c\\ubd81\\ub3c4 \\uad70\\uc0b0\\uc2dc\", \"\\uc804\\ub77c\\ubd81\\ub3c4 \\uae40\\uc81c\\uc2dc\", \"\\uc804\\ub77c\\ubd81\\ub3c4 \\ub0a8\\uc6d0\\uc2dc\", \"\\uc804\\ub77c\\ubd81\\ub3c4 \\ubd80\\uc548\\uad70\", \"\\uc804\\ub77c\\ubd81\\ub3c4 \\uc644\\uc8fc\\uad70\", \"\\uc804\\ub77c\\ubd81\\ub3c4 \\uc775\\uc0b0\\uc2dc\", \"\\uc804\\ub77c\\ubd81\\ub3c4 \\uc784\\uc2e4\\uad70\", \"\\uc804\\ub77c\\ubd81\\ub3c4 \\uc7a5\\uc218\\uad70\", \"\\uc804\\ub77c\\ubd81\\ub3c4 \\uc804\\uc8fc\\uc2dc\", \"\\uc804\\ub77c\\ubd81\\ub3c4 \\uc815\\uc74d\\uc2dc\", \"\\uc804\\ub77c\\ubd81\\ub3c4 \\uc9c4\\uc548\\uad70\", \"\\uc81c\\uc8fc\\ud2b9\\ubcc4\\uc790\\uce58\\ub3c4\", \"\\uc81c\\uc8fc\\ud2b9\\ubcc4\\uc790\\uce58\\ub3c4 \\uc11c\\uadc0\\ud3ec\\uc2dc\", \"\\uc81c\\uc8fc\\ud2b9\\ubcc4\\uc790\\uce58\\ub3c4 \\uc81c\\uc8fc\\uc2dc\", \"\\uc911\\uad6d\", \"\\ucda9\\uccad\\ub0a8\\ub3c4 \\uacf5\\uc8fc\\uc2dc\", \"\\ucda9\\uccad\\ub0a8\\ub3c4 \\uae08\\uc0b0\\uad70\", \"\\ucda9\\uccad\\ub0a8\\ub3c4 \\ub17c\\uc0b0\\uc2dc\", \"\\ucda9\\uccad\\ub0a8\\ub3c4 \\ub2f9\\uc9c4\\uc2dc\", \"\\ucda9\\uccad\\ub0a8\\ub3c4 \\ubcf4\\ub839\\uc2dc\", \"\\ucda9\\uccad\\ub0a8\\ub3c4 \\ubd80\\uc5ec\\uad70\", \"\\ucda9\\uccad\\ub0a8\\ub3c4 \\uc11c\\uc0b0\\uc2dc\", \"\\ucda9\\uccad\\ub0a8\\ub3c4 \\uc11c\\ucc9c\\uad70\", \"\\ucda9\\uccad\\ub0a8\\ub3c4 \\uc544\\uc0b0\\uc2dc\", \"\\ucda9\\uccad\\ub0a8\\ub3c4 \\uc608\\uc0b0\\uad70\", \"\\ucda9\\uccad\\ub0a8\\ub3c4 \\ucc9c\\uc548\\uc2dc\", \"\\ucda9\\uccad\\ub0a8\\ub3c4 \\ud0dc\\uc548\\uad70\", \"\\ucda9\\uccad\\ub0a8\\ub3c4 \\ud64d\\uc131\\uad70\", \"\\ucda9\\uccad\\ubd81\\ub3c4\", \"\\ucda9\\uccad\\ubd81\\ub3c4 \\uad34\\uc0b0\\uad70\", \"\\ucda9\\uccad\\ubd81\\ub3c4 \\ubcf4\\uc740\\uad70\", \"\\ucda9\\uccad\\ubd81\\ub3c4 \\uc601\\ub3d9\\uad70\", \"\\ucda9\\uccad\\ubd81\\ub3c4 \\uc74c\\uc131\\uad70\", \"\\ucda9\\uccad\\ubd81\\ub3c4 \\uc81c\\ucc9c\\uc2dc\", \"\\ucda9\\uccad\\ubd81\\ub3c4 \\uc9c4\\ucc9c\\uad70\", \"\\ucda9\\uccad\\ubd81\\ub3c4 \\uccad\\uc8fc\\uc2dc\", \"\\ucda9\\uccad\\ubd81\\ub3c4 \\ucda9\\uc8fc\\uc2dc\"], \"y\": [0, 96580, 0, 6262, 18564, 9260, 30120, 0, 69264, 3860, 2280, 457008, 0, 0, 9682, 0, 63622, 0, 7660, 4000, 2864, 40708, 3980, 9848, 255782, 5886, 1000, 16940, 60034, 0, 324462, 0, 43980, 12290, 5220, 6674, 6240, 64974, 0, 0, 11220, 8326, 280, 0, 8864, 0, 55716, 0, 12, 15552, 0, 0, 63600, 61656, 0, 0, 19128, 11642, 60072, 0, 0, 0, 0, 0, 0, 474, 3750, 40, 0, 40620, 626018, 225608, 49312, 270326, 80320, 56848, 0, 0, 0, 181764, 0, 0, 4000, 22548, 7428, 34444, 103728, 31400, 0, 11722, 0, 0, 0, 157394, 7012, 2130, 1644, 7008, 21432, 24770, 22340, 24530, 3705920, 1154, 81424, 14340, 0, 1062, 378, 3005066, 680, 80604, 0, 0, 5684, 0, 0, 13618, 240, 120986, 7036, 0, 8258, 78410, 0, 0, 11758, 904, 38124, 5050, 22004, 1060, 6526, 13258, 0, 10, 16508, 52, 15094, 84136, 35516, 0, 0, 0, 770, 0, 730, 72, 6492, 0, 203674, 97256]}, {\"name\": \"2020\\ub1443\\uc6d4\", \"type\": \"bar\", \"x\": [\"\\uac15\\uc6d0\\ub3c4\", \"\\uac15\\uc6d0\\ub3c4 \\uac15\\ub989\\uc2dc\", \"\\uac15\\uc6d0\\ub3c4 \\ub3d9\\ud574\\uc2dc\", \"\\uac15\\uc6d0\\ub3c4 \\uc6d0\\uc8fc\\uc2dc\", \"\\uac15\\uc6d0\\ub3c4 \\uc778\\uc81c\\uad70\", \"\\uac15\\uc6d0\\ub3c4 \\uc815\\uc120\\uad70\", \"\\uac15\\uc6d0\\ub3c4 \\ucca0\\uc6d0\\uad70\", \"\\uac15\\uc6d0\\ub3c4 \\ucd98\\ucc9c\\uc2dc\", \"\\uac15\\uc6d0\\ub3c4 \\ud3c9\\ucc3d\\uad70\", \"\\uacbd\\uae30\\ub3c4\", \"\\uacbd\\uae30\\ub3c4 \\uace0\\uc591\\uc2dc\", \"\\uacbd\\uae30\\ub3c4 \\uad6c\\ub9ac\\uc2dc\", \"\\uacbd\\uae30\\ub3c4 \\uad70\\ud3ec\\uc2dc\", \"\\uacbd\\uae30\\ub3c4 \\uae40\\ud3ec\\uc2dc\", \"\\uacbd\\uae30\\ub3c4 \\ub0a8\\uc591\\uc8fc\\uc2dc\", \"\\uacbd\\uae30\\ub3c4 \\ub3d9\\ub450\\ucc9c\\uc2dc\", \"\\uacbd\\uae30\\ub3c4 \\uc218\\uc6d0\\uc2dc\", \"\\uacbd\\uae30\\ub3c4 \\uc548\\uc0b0\\uc2dc\", \"\\uacbd\\uae30\\ub3c4 \\uc548\\uc131\\uc2dc\", \"\\uacbd\\uae30\\ub3c4 \\uc548\\uc591\\uc2dc\", \"\\uacbd\\uae30\\ub3c4 \\uc591\\uc8fc\\uc2dc\", \"\\uacbd\\uae30\\ub3c4 \\uc5ec\\uc8fc\\uc2dc\", \"\\uacbd\\uae30\\ub3c4 \\uc5f0\\ucc9c\\uad70\", \"\\uacbd\\uae30\\ub3c4 \\uc774\\ucc9c\\uc2dc\", \"\\uacbd\\uae30\\ub3c4 \\ud30c\\uc8fc\\uc2dc\", \"\\uacbd\\uae30\\ub3c4 \\ud3c9\\ud0dd\\uc2dc\", \"\\uacbd\\uae30\\ub3c4 \\ud3ec\\ucc9c\\uc2dc\", \"\\uacbd\\uae30\\ub3c4 \\ud654\\uc131\\uc2dc\", \"\\uacbd\\uc0c1\\ub0a8\\ub3c4\", \"\\uacbd\\uc0c1\\ub0a8\\ub3c4 \\uac70\\ucc3d\\uad70\", \"\\uacbd\\uc0c1\\ub0a8\\ub3c4 \\uae40\\ud574\\uc2dc\", \"\\uacbd\\uc0c1\\ub0a8\\ub3c4 \\ub0a8\\ud574\\uad70\", \"\\uacbd\\uc0c1\\ub0a8\\ub3c4 \\ubc00\\uc591\\uc2dc\", \"\\uacbd\\uc0c1\\ub0a8\\ub3c4 \\uc0ac\\ucc9c\\uc2dc\", \"\\uacbd\\uc0c1\\ub0a8\\ub3c4 \\uc591\\uc0b0\\uc2dc\", \"\\uacbd\\uc0c1\\ub0a8\\ub3c4 \\uc9c4\\uc8fc\\uc2dc\", \"\\uacbd\\uc0c1\\ub0a8\\ub3c4 \\ucc3d\\ub155\\uad70\", \"\\uacbd\\uc0c1\\ub0a8\\ub3c4 \\ucc3d\\uc6d0\\uc2dc\", \"\\uacbd\\uc0c1\\ub0a8\\ub3c4 \\ud558\\ub3d9\\uad70\", \"\\uacbd\\uc0c1\\ub0a8\\ub3c4 \\ud568\\uc548\\uad70\", \"\\uacbd\\uc0c1\\ub0a8\\ub3c4 \\ud568\\uc591\\uad70\", \"\\uacbd\\uc0c1\\ubd81\\ub3c4 \\uacbd\\uc0b0\\uc2dc\", \"\\uacbd\\uc0c1\\ubd81\\ub3c4 \\uacbd\\uc8fc\\uc2dc\", \"\\uacbd\\uc0c1\\ubd81\\ub3c4 \\uace0\\ub839\\uad70\", \"\\uacbd\\uc0c1\\ubd81\\ub3c4 \\uad6c\\ubbf8\\uc2dc\", \"\\uacbd\\uc0c1\\ubd81\\ub3c4 \\uad70\\uc704\\uad70\", \"\\uacbd\\uc0c1\\ubd81\\ub3c4 \\uae40\\ucc9c\\uc2dc\", \"\\uacbd\\uc0c1\\ubd81\\ub3c4 \\ubd09\\ud654\\uad70\", \"\\uacbd\\uc0c1\\ubd81\\ub3c4 \\uc0c1\\uc8fc\\uc2dc\", \"\\uacbd\\uc0c1\\ubd81\\ub3c4 \\uc548\\ub3d9\\uc2dc\", \"\\uacbd\\uc0c1\\ubd81\\ub3c4 \\uc601\\ub355\\uad70\", \"\\uacbd\\uc0c1\\ubd81\\ub3c4 \\uc601\\ucc9c\\uc2dc\", \"\\uacbd\\uc0c1\\ubd81\\ub3c4 \\uce60\\uace1\\uad70\", \"\\uad11\\uc8fc\\uad11\\uc5ed\\uc2dc\", \"\\uad11\\uc8fc\\uad11\\uc5ed\\uc2dc \\uad11\\uc0b0\\uad6c\", \"\\uad11\\uc8fc\\uad11\\uc5ed\\uc2dc \\ub0a8\\uad6c\", \"\\uad11\\uc8fc\\uad11\\uc5ed\\uc2dc \\ubd81\\uad6c\", \"\\uad11\\uc8fc\\uad11\\uc5ed\\uc2dc \\uc11c\\uad6c\", \"\\ub300\\uad6c\\uad11\\uc5ed\\uc2dc\", \"\\ub300\\uad6c\\uad11\\uc5ed\\uc2dc \\ub0a8\\uad6c\", \"\\ub300\\uad6c\\uad11\\uc5ed\\uc2dc \\ub2ec\\uc11c\\uad6c\", \"\\ub300\\uad6c\\uad11\\uc5ed\\uc2dc \\ub3d9\\uad6c\", \"\\ub300\\uad6c\\uad11\\uc5ed\\uc2dc \\ubd81\\uad6c\", \"\\ub300\\uad6c\\uad11\\uc5ed\\uc2dc \\uc218\\uc131\\uad6c\", \"\\ub300\\uad6c\\uad11\\uc5ed\\uc2dc \\uc911\\uad6c\", \"\\ub300\\uc804\\uad11\\uc5ed\\uc2dc\", \"\\ub300\\uc804\\uad11\\uc5ed\\uc2dc \\ub300\\ub355\\uad6c\", \"\\ub300\\uc804\\uad11\\uc5ed\\uc2dc \\ub3d9\\uad6c\", \"\\ub300\\uc804\\uad11\\uc5ed\\uc2dc \\uc11c\\uad6c\", \"\\ub300\\uc804\\uad11\\uc5ed\\uc2dc \\uc720\\uc131\\uad6c\", \"\\ubd80\\uc0b0\\uad11\\uc5ed\\uc2dc\", \"\\ubd80\\uc0b0\\uad11\\uc5ed\\uc2dc \\uac15\\uc11c\\uad6c\", \"\\ubd80\\uc0b0\\uad11\\uc5ed\\uc2dc \\uc0ac\\uc0c1\\uad6c\", \"\\ubd80\\uc0b0\\uad11\\uc5ed\\uc2dc \\uc911\\uad6c\", \"\\ubd80\\uc0b0\\uad11\\uc5ed\\uc2dc \\ud574\\uc6b4\\ub300\\uad6c\", \"\\uc11c\\uc6b8\\ud2b9\\ubcc4\\uc2dc\", \"\\uc11c\\uc6b8\\ud2b9\\ubcc4\\uc2dc \\uac15\\uc11c\\uad6c\", \"\\uc11c\\uc6b8\\ud2b9\\ubcc4\\uc2dc \\ub9c8\\ud3ec\\uad6c\", \"\\uc11c\\uc6b8\\ud2b9\\ubcc4\\uc2dc \\uc131\\ubd81\\uad6c\", \"\\uc11c\\uc6b8\\ud2b9\\ubcc4\\uc2dc \\uc1a1\\ud30c\\uad6c\", \"\\uc11c\\uc6b8\\ud2b9\\ubcc4\\uc2dc \\uc591\\ucc9c\\uad6c\", \"\\uc11c\\uc6b8\\ud2b9\\ubcc4\\uc2dc \\uc740\\ud3c9\\uad6c\", \"\\uc11c\\uc6b8\\ud2b9\\ubcc4\\uc2dc \\uc911\\ub791\\uad6c\", \"\\uc138\\uc885\\ud2b9\\ubcc4\\uc790\\uce58\\uc2dc\", \"\\uc6b8\\uc0b0\\uad11\\uc5ed\\uc2dc\", \"\\uc6b8\\uc0b0\\uad11\\uc5ed\\uc2dc \\ub0a8\\uad6c\", \"\\uc778\\ucc9c\\uad11\\uc5ed\\uc2dc\", \"\\uc778\\ucc9c\\uad11\\uc5ed\\uc2dc \\uacc4\\uc591\\uad6c\", \"\\uc778\\ucc9c\\uad11\\uc5ed\\uc2dc \\ub0a8\\uad6c\", \"\\uc778\\ucc9c\\uad11\\uc5ed\\uc2dc \\ub0a8\\ub3d9\\uad6c\", \"\\uc778\\ucc9c\\uad11\\uc5ed\\uc2dc \\ub3d9\\uad6c\", \"\\uc778\\ucc9c\\uad11\\uc5ed\\uc2dc \\ubd80\\ud3c9\\uad6c\", \"\\uc778\\ucc9c\\uad11\\uc5ed\\uc2dc \\uc5f0\\uc218\\uad6c\", \"\\uc804\\ub77c\\ub0a8\\ub3c4\", \"\\uc804\\ub77c\\ub0a8\\ub3c4 \\uac15\\uc9c4\\uad70\", \"\\uc804\\ub77c\\ub0a8\\ub3c4 \\uace0\\ud765\\uad70\", \"\\uc804\\ub77c\\ub0a8\\ub3c4 \\uad11\\uc591\\uc2dc\", \"\\uc804\\ub77c\\ub0a8\\ub3c4 \\ub098\\uc8fc\\uc2dc\", \"\\uc804\\ub77c\\ub0a8\\ub3c4 \\ubaa9\\ud3ec\\uc2dc\", \"\\uc804\\ub77c\\ub0a8\\ub3c4 \\ubb34\\uc548\\uad70\", \"\\uc804\\ub77c\\ub0a8\\ub3c4 \\ubcf4\\uc131\\uad70\", \"\\uc804\\ub77c\\ub0a8\\ub3c4 \\uc21c\\ucc9c\\uc2dc\", \"\\uc804\\ub77c\\ub0a8\\ub3c4 \\uc2e0\\uc548\\uad70\", \"\\uc804\\ub77c\\ub0a8\\ub3c4 \\uc5ec\\uc218\\uc2dc\", \"\\uc804\\ub77c\\ub0a8\\ub3c4 \\uc601\\uad11\\uad70\", \"\\uc804\\ub77c\\ub0a8\\ub3c4 \\uc601\\uc554\\uad70\", \"\\uc804\\ub77c\\ub0a8\\ub3c4 \\uc644\\ub3c4\\uad70\", \"\\uc804\\ub77c\\ub0a8\\ub3c4 \\uc7a5\\uc131\\uad70\", \"\\uc804\\ub77c\\ub0a8\\ub3c4 \\uc7a5\\ud765\\uad70\", \"\\uc804\\ub77c\\ub0a8\\ub3c4 \\uc9c4\\ub3c4\\uad70\", \"\\uc804\\ub77c\\ub0a8\\ub3c4 \\ud568\\ud3c9\\uad70\", \"\\uc804\\ub77c\\ub0a8\\ub3c4 \\ud574\\ub0a8\\uad70\", \"\\uc804\\ub77c\\ub0a8\\ub3c4 \\ud654\\uc21c\\uad70\", \"\\uc804\\ub77c\\ubd81\\ub3c4\", \"\\uc804\\ub77c\\ubd81\\ub3c4 \\uace0\\ucc3d\\uad70\", \"\\uc804\\ub77c\\ubd81\\ub3c4 \\uad70\\uc0b0\\uc2dc\", \"\\uc804\\ub77c\\ubd81\\ub3c4 \\uae40\\uc81c\\uc2dc\", \"\\uc804\\ub77c\\ubd81\\ub3c4 \\ub0a8\\uc6d0\\uc2dc\", \"\\uc804\\ub77c\\ubd81\\ub3c4 \\ubd80\\uc548\\uad70\", \"\\uc804\\ub77c\\ubd81\\ub3c4 \\uc644\\uc8fc\\uad70\", \"\\uc804\\ub77c\\ubd81\\ub3c4 \\uc775\\uc0b0\\uc2dc\", \"\\uc804\\ub77c\\ubd81\\ub3c4 \\uc784\\uc2e4\\uad70\", \"\\uc804\\ub77c\\ubd81\\ub3c4 \\uc7a5\\uc218\\uad70\", \"\\uc804\\ub77c\\ubd81\\ub3c4 \\uc804\\uc8fc\\uc2dc\", \"\\uc804\\ub77c\\ubd81\\ub3c4 \\uc815\\uc74d\\uc2dc\", \"\\uc804\\ub77c\\ubd81\\ub3c4 \\uc9c4\\uc548\\uad70\", \"\\uc81c\\uc8fc\\ud2b9\\ubcc4\\uc790\\uce58\\ub3c4\", \"\\uc81c\\uc8fc\\ud2b9\\ubcc4\\uc790\\uce58\\ub3c4 \\uc11c\\uadc0\\ud3ec\\uc2dc\", \"\\uc81c\\uc8fc\\ud2b9\\ubcc4\\uc790\\uce58\\ub3c4 \\uc81c\\uc8fc\\uc2dc\", \"\\uc911\\uad6d\", \"\\ucda9\\uccad\\ub0a8\\ub3c4 \\uacf5\\uc8fc\\uc2dc\", \"\\ucda9\\uccad\\ub0a8\\ub3c4 \\uae08\\uc0b0\\uad70\", \"\\ucda9\\uccad\\ub0a8\\ub3c4 \\ub17c\\uc0b0\\uc2dc\", \"\\ucda9\\uccad\\ub0a8\\ub3c4 \\ub2f9\\uc9c4\\uc2dc\", \"\\ucda9\\uccad\\ub0a8\\ub3c4 \\ubcf4\\ub839\\uc2dc\", \"\\ucda9\\uccad\\ub0a8\\ub3c4 \\ubd80\\uc5ec\\uad70\", \"\\ucda9\\uccad\\ub0a8\\ub3c4 \\uc11c\\uc0b0\\uc2dc\", \"\\ucda9\\uccad\\ub0a8\\ub3c4 \\uc11c\\ucc9c\\uad70\", \"\\ucda9\\uccad\\ub0a8\\ub3c4 \\uc544\\uc0b0\\uc2dc\", \"\\ucda9\\uccad\\ub0a8\\ub3c4 \\uc608\\uc0b0\\uad70\", \"\\ucda9\\uccad\\ub0a8\\ub3c4 \\ucc9c\\uc548\\uc2dc\", \"\\ucda9\\uccad\\ub0a8\\ub3c4 \\ud0dc\\uc548\\uad70\", \"\\ucda9\\uccad\\ub0a8\\ub3c4 \\ud64d\\uc131\\uad70\", \"\\ucda9\\uccad\\ubd81\\ub3c4\", \"\\ucda9\\uccad\\ubd81\\ub3c4 \\uad34\\uc0b0\\uad70\", \"\\ucda9\\uccad\\ubd81\\ub3c4 \\ubcf4\\uc740\\uad70\", \"\\ucda9\\uccad\\ubd81\\ub3c4 \\uc601\\ub3d9\\uad70\", \"\\ucda9\\uccad\\ubd81\\ub3c4 \\uc74c\\uc131\\uad70\", \"\\ucda9\\uccad\\ubd81\\ub3c4 \\uc81c\\ucc9c\\uc2dc\", \"\\ucda9\\uccad\\ubd81\\ub3c4 \\uc9c4\\ucc9c\\uad70\", \"\\ucda9\\uccad\\ubd81\\ub3c4 \\uccad\\uc8fc\\uc2dc\", \"\\ucda9\\uccad\\ubd81\\ub3c4 \\ucda9\\uc8fc\\uc2dc\"], \"y\": [0, 23395, 2240, 3753, 31230, 300, 0, 0, 0, 0, 1000, 213953, 0, 19760, 4250, 1200, 42535, 440, 0, 210, 20129, 450, 10400, 23069, 67300, 5700, 0, 350, 24113, 60, 42720, 0, 18716, 5305, 1290, 6488, 4740, 41613, 0, 317, 15785, 0, 0, 5672, 3538, 0, 65, 0, 0, 0, 138, 41940, 1500, 8400, 2400, 0, 5480, 14121, 13011, 1915, 4460, 2128, 0, 0, 0, 2879, 606, 1666, 0, 5251, 179809, 104426, 24486, 57792, 24935, 37288, 40570, 9699, 12274, 68397, 0, 1990, 500, 68, 7264, 9986, 25169, 5390, 22590, 21476, 0, 3460, 18120, 42527, 625, 6140, 200, 1077, 61743, 7153, 22596, 6745, 917565, 6524, 18617, 558, 50, 0, 0, 863131, 0, 63564, 0, 1000, 2500, 1077, 1193, 0, 3200, 32361, 20370, 0, 3242, 40154, 3282, 0, 0, 27, 604, 2040, 37, 1520, 998, 5323, 18, 0, 41273, 1122, 11078, 29433, 31689, 2940, 9616, 0, 283, 0, 68, 0, 6994, 112, 58406, 27765]}, {\"name\": \"2021\\ub1443\\uc6d4\", \"type\": \"bar\", \"x\": [\"\\uac15\\uc6d0\\ub3c4\", \"\\uac15\\uc6d0\\ub3c4 \\uac15\\ub989\\uc2dc\", \"\\uac15\\uc6d0\\ub3c4 \\ub3d9\\ud574\\uc2dc\", \"\\uac15\\uc6d0\\ub3c4 \\uc6d0\\uc8fc\\uc2dc\", \"\\uac15\\uc6d0\\ub3c4 \\uc778\\uc81c\\uad70\", \"\\uac15\\uc6d0\\ub3c4 \\uc815\\uc120\\uad70\", \"\\uac15\\uc6d0\\ub3c4 \\ucca0\\uc6d0\\uad70\", \"\\uac15\\uc6d0\\ub3c4 \\ucd98\\ucc9c\\uc2dc\", \"\\uac15\\uc6d0\\ub3c4 \\ud3c9\\ucc3d\\uad70\", \"\\uacbd\\uae30\\ub3c4\", \"\\uacbd\\uae30\\ub3c4 \\uace0\\uc591\\uc2dc\", \"\\uacbd\\uae30\\ub3c4 \\uad6c\\ub9ac\\uc2dc\", \"\\uacbd\\uae30\\ub3c4 \\uad70\\ud3ec\\uc2dc\", \"\\uacbd\\uae30\\ub3c4 \\uae40\\ud3ec\\uc2dc\", \"\\uacbd\\uae30\\ub3c4 \\ub0a8\\uc591\\uc8fc\\uc2dc\", \"\\uacbd\\uae30\\ub3c4 \\ub3d9\\ub450\\ucc9c\\uc2dc\", \"\\uacbd\\uae30\\ub3c4 \\uc218\\uc6d0\\uc2dc\", \"\\uacbd\\uae30\\ub3c4 \\uc548\\uc0b0\\uc2dc\", \"\\uacbd\\uae30\\ub3c4 \\uc548\\uc131\\uc2dc\", \"\\uacbd\\uae30\\ub3c4 \\uc548\\uc591\\uc2dc\", \"\\uacbd\\uae30\\ub3c4 \\uc591\\uc8fc\\uc2dc\", \"\\uacbd\\uae30\\ub3c4 \\uc5ec\\uc8fc\\uc2dc\", \"\\uacbd\\uae30\\ub3c4 \\uc5f0\\ucc9c\\uad70\", \"\\uacbd\\uae30\\ub3c4 \\uc774\\ucc9c\\uc2dc\", \"\\uacbd\\uae30\\ub3c4 \\ud30c\\uc8fc\\uc2dc\", \"\\uacbd\\uae30\\ub3c4 \\ud3c9\\ud0dd\\uc2dc\", \"\\uacbd\\uae30\\ub3c4 \\ud3ec\\ucc9c\\uc2dc\", \"\\uacbd\\uae30\\ub3c4 \\ud654\\uc131\\uc2dc\", \"\\uacbd\\uc0c1\\ub0a8\\ub3c4\", \"\\uacbd\\uc0c1\\ub0a8\\ub3c4 \\uac70\\ucc3d\\uad70\", \"\\uacbd\\uc0c1\\ub0a8\\ub3c4 \\uae40\\ud574\\uc2dc\", \"\\uacbd\\uc0c1\\ub0a8\\ub3c4 \\ub0a8\\ud574\\uad70\", \"\\uacbd\\uc0c1\\ub0a8\\ub3c4 \\ubc00\\uc591\\uc2dc\", \"\\uacbd\\uc0c1\\ub0a8\\ub3c4 \\uc0ac\\ucc9c\\uc2dc\", \"\\uacbd\\uc0c1\\ub0a8\\ub3c4 \\uc591\\uc0b0\\uc2dc\", \"\\uacbd\\uc0c1\\ub0a8\\ub3c4 \\uc9c4\\uc8fc\\uc2dc\", \"\\uacbd\\uc0c1\\ub0a8\\ub3c4 \\ucc3d\\ub155\\uad70\", \"\\uacbd\\uc0c1\\ub0a8\\ub3c4 \\ucc3d\\uc6d0\\uc2dc\", \"\\uacbd\\uc0c1\\ub0a8\\ub3c4 \\ud558\\ub3d9\\uad70\", \"\\uacbd\\uc0c1\\ub0a8\\ub3c4 \\ud568\\uc548\\uad70\", \"\\uacbd\\uc0c1\\ub0a8\\ub3c4 \\ud568\\uc591\\uad70\", \"\\uacbd\\uc0c1\\ubd81\\ub3c4 \\uacbd\\uc0b0\\uc2dc\", \"\\uacbd\\uc0c1\\ubd81\\ub3c4 \\uacbd\\uc8fc\\uc2dc\", \"\\uacbd\\uc0c1\\ubd81\\ub3c4 \\uace0\\ub839\\uad70\", \"\\uacbd\\uc0c1\\ubd81\\ub3c4 \\uad6c\\ubbf8\\uc2dc\", \"\\uacbd\\uc0c1\\ubd81\\ub3c4 \\uad70\\uc704\\uad70\", \"\\uacbd\\uc0c1\\ubd81\\ub3c4 \\uae40\\ucc9c\\uc2dc\", \"\\uacbd\\uc0c1\\ubd81\\ub3c4 \\ubd09\\ud654\\uad70\", \"\\uacbd\\uc0c1\\ubd81\\ub3c4 \\uc0c1\\uc8fc\\uc2dc\", \"\\uacbd\\uc0c1\\ubd81\\ub3c4 \\uc548\\ub3d9\\uc2dc\", \"\\uacbd\\uc0c1\\ubd81\\ub3c4 \\uc601\\ub355\\uad70\", \"\\uacbd\\uc0c1\\ubd81\\ub3c4 \\uc601\\ucc9c\\uc2dc\", \"\\uacbd\\uc0c1\\ubd81\\ub3c4 \\uce60\\uace1\\uad70\", \"\\uad11\\uc8fc\\uad11\\uc5ed\\uc2dc\", \"\\uad11\\uc8fc\\uad11\\uc5ed\\uc2dc \\uad11\\uc0b0\\uad6c\", \"\\uad11\\uc8fc\\uad11\\uc5ed\\uc2dc \\ub0a8\\uad6c\", \"\\uad11\\uc8fc\\uad11\\uc5ed\\uc2dc \\ubd81\\uad6c\", \"\\uad11\\uc8fc\\uad11\\uc5ed\\uc2dc \\uc11c\\uad6c\", \"\\ub300\\uad6c\\uad11\\uc5ed\\uc2dc\", \"\\ub300\\uad6c\\uad11\\uc5ed\\uc2dc \\ub0a8\\uad6c\", \"\\ub300\\uad6c\\uad11\\uc5ed\\uc2dc \\ub2ec\\uc11c\\uad6c\", \"\\ub300\\uad6c\\uad11\\uc5ed\\uc2dc \\ub3d9\\uad6c\", \"\\ub300\\uad6c\\uad11\\uc5ed\\uc2dc \\ubd81\\uad6c\", \"\\ub300\\uad6c\\uad11\\uc5ed\\uc2dc \\uc218\\uc131\\uad6c\", \"\\ub300\\uad6c\\uad11\\uc5ed\\uc2dc \\uc911\\uad6c\", \"\\ub300\\uc804\\uad11\\uc5ed\\uc2dc\", \"\\ub300\\uc804\\uad11\\uc5ed\\uc2dc \\ub300\\ub355\\uad6c\", \"\\ub300\\uc804\\uad11\\uc5ed\\uc2dc \\ub3d9\\uad6c\", \"\\ub300\\uc804\\uad11\\uc5ed\\uc2dc \\uc11c\\uad6c\", \"\\ub300\\uc804\\uad11\\uc5ed\\uc2dc \\uc720\\uc131\\uad6c\", \"\\ubd80\\uc0b0\\uad11\\uc5ed\\uc2dc\", \"\\ubd80\\uc0b0\\uad11\\uc5ed\\uc2dc \\uac15\\uc11c\\uad6c\", \"\\ubd80\\uc0b0\\uad11\\uc5ed\\uc2dc \\uc0ac\\uc0c1\\uad6c\", \"\\ubd80\\uc0b0\\uad11\\uc5ed\\uc2dc \\uc911\\uad6c\", \"\\ubd80\\uc0b0\\uad11\\uc5ed\\uc2dc \\ud574\\uc6b4\\ub300\\uad6c\", \"\\uc11c\\uc6b8\\ud2b9\\ubcc4\\uc2dc\", \"\\uc11c\\uc6b8\\ud2b9\\ubcc4\\uc2dc \\uac15\\uc11c\\uad6c\", \"\\uc11c\\uc6b8\\ud2b9\\ubcc4\\uc2dc \\ub9c8\\ud3ec\\uad6c\", \"\\uc11c\\uc6b8\\ud2b9\\ubcc4\\uc2dc \\uc131\\ubd81\\uad6c\", \"\\uc11c\\uc6b8\\ud2b9\\ubcc4\\uc2dc \\uc1a1\\ud30c\\uad6c\", \"\\uc11c\\uc6b8\\ud2b9\\ubcc4\\uc2dc \\uc591\\ucc9c\\uad6c\", \"\\uc11c\\uc6b8\\ud2b9\\ubcc4\\uc2dc \\uc740\\ud3c9\\uad6c\", \"\\uc11c\\uc6b8\\ud2b9\\ubcc4\\uc2dc \\uc911\\ub791\\uad6c\", \"\\uc138\\uc885\\ud2b9\\ubcc4\\uc790\\uce58\\uc2dc\", \"\\uc6b8\\uc0b0\\uad11\\uc5ed\\uc2dc\", \"\\uc6b8\\uc0b0\\uad11\\uc5ed\\uc2dc \\ub0a8\\uad6c\", \"\\uc778\\ucc9c\\uad11\\uc5ed\\uc2dc\", \"\\uc778\\ucc9c\\uad11\\uc5ed\\uc2dc \\uacc4\\uc591\\uad6c\", \"\\uc778\\ucc9c\\uad11\\uc5ed\\uc2dc \\ub0a8\\uad6c\", \"\\uc778\\ucc9c\\uad11\\uc5ed\\uc2dc \\ub0a8\\ub3d9\\uad6c\", \"\\uc778\\ucc9c\\uad11\\uc5ed\\uc2dc \\ub3d9\\uad6c\", \"\\uc778\\ucc9c\\uad11\\uc5ed\\uc2dc \\ubd80\\ud3c9\\uad6c\", \"\\uc778\\ucc9c\\uad11\\uc5ed\\uc2dc \\uc5f0\\uc218\\uad6c\", \"\\uc804\\ub77c\\ub0a8\\ub3c4\", \"\\uc804\\ub77c\\ub0a8\\ub3c4 \\uac15\\uc9c4\\uad70\", \"\\uc804\\ub77c\\ub0a8\\ub3c4 \\uace0\\ud765\\uad70\", \"\\uc804\\ub77c\\ub0a8\\ub3c4 \\uad11\\uc591\\uc2dc\", \"\\uc804\\ub77c\\ub0a8\\ub3c4 \\ub098\\uc8fc\\uc2dc\", \"\\uc804\\ub77c\\ub0a8\\ub3c4 \\ubaa9\\ud3ec\\uc2dc\", \"\\uc804\\ub77c\\ub0a8\\ub3c4 \\ubb34\\uc548\\uad70\", \"\\uc804\\ub77c\\ub0a8\\ub3c4 \\ubcf4\\uc131\\uad70\", \"\\uc804\\ub77c\\ub0a8\\ub3c4 \\uc21c\\ucc9c\\uc2dc\", \"\\uc804\\ub77c\\ub0a8\\ub3c4 \\uc2e0\\uc548\\uad70\", \"\\uc804\\ub77c\\ub0a8\\ub3c4 \\uc5ec\\uc218\\uc2dc\", \"\\uc804\\ub77c\\ub0a8\\ub3c4 \\uc601\\uad11\\uad70\", \"\\uc804\\ub77c\\ub0a8\\ub3c4 \\uc601\\uc554\\uad70\", \"\\uc804\\ub77c\\ub0a8\\ub3c4 \\uc644\\ub3c4\\uad70\", \"\\uc804\\ub77c\\ub0a8\\ub3c4 \\uc7a5\\uc131\\uad70\", \"\\uc804\\ub77c\\ub0a8\\ub3c4 \\uc7a5\\ud765\\uad70\", \"\\uc804\\ub77c\\ub0a8\\ub3c4 \\uc9c4\\ub3c4\\uad70\", \"\\uc804\\ub77c\\ub0a8\\ub3c4 \\ud568\\ud3c9\\uad70\", \"\\uc804\\ub77c\\ub0a8\\ub3c4 \\ud574\\ub0a8\\uad70\", \"\\uc804\\ub77c\\ub0a8\\ub3c4 \\ud654\\uc21c\\uad70\", \"\\uc804\\ub77c\\ubd81\\ub3c4\", \"\\uc804\\ub77c\\ubd81\\ub3c4 \\uace0\\ucc3d\\uad70\", \"\\uc804\\ub77c\\ubd81\\ub3c4 \\uad70\\uc0b0\\uc2dc\", \"\\uc804\\ub77c\\ubd81\\ub3c4 \\uae40\\uc81c\\uc2dc\", \"\\uc804\\ub77c\\ubd81\\ub3c4 \\ub0a8\\uc6d0\\uc2dc\", \"\\uc804\\ub77c\\ubd81\\ub3c4 \\ubd80\\uc548\\uad70\", \"\\uc804\\ub77c\\ubd81\\ub3c4 \\uc644\\uc8fc\\uad70\", \"\\uc804\\ub77c\\ubd81\\ub3c4 \\uc775\\uc0b0\\uc2dc\", \"\\uc804\\ub77c\\ubd81\\ub3c4 \\uc784\\uc2e4\\uad70\", \"\\uc804\\ub77c\\ubd81\\ub3c4 \\uc7a5\\uc218\\uad70\", \"\\uc804\\ub77c\\ubd81\\ub3c4 \\uc804\\uc8fc\\uc2dc\", \"\\uc804\\ub77c\\ubd81\\ub3c4 \\uc815\\uc74d\\uc2dc\", \"\\uc804\\ub77c\\ubd81\\ub3c4 \\uc9c4\\uc548\\uad70\", \"\\uc81c\\uc8fc\\ud2b9\\ubcc4\\uc790\\uce58\\ub3c4\", \"\\uc81c\\uc8fc\\ud2b9\\ubcc4\\uc790\\uce58\\ub3c4 \\uc11c\\uadc0\\ud3ec\\uc2dc\", \"\\uc81c\\uc8fc\\ud2b9\\ubcc4\\uc790\\uce58\\ub3c4 \\uc81c\\uc8fc\\uc2dc\", \"\\uc911\\uad6d\", \"\\ucda9\\uccad\\ub0a8\\ub3c4 \\uacf5\\uc8fc\\uc2dc\", \"\\ucda9\\uccad\\ub0a8\\ub3c4 \\uae08\\uc0b0\\uad70\", \"\\ucda9\\uccad\\ub0a8\\ub3c4 \\ub17c\\uc0b0\\uc2dc\", \"\\ucda9\\uccad\\ub0a8\\ub3c4 \\ub2f9\\uc9c4\\uc2dc\", \"\\ucda9\\uccad\\ub0a8\\ub3c4 \\ubcf4\\ub839\\uc2dc\", \"\\ucda9\\uccad\\ub0a8\\ub3c4 \\ubd80\\uc5ec\\uad70\", \"\\ucda9\\uccad\\ub0a8\\ub3c4 \\uc11c\\uc0b0\\uc2dc\", \"\\ucda9\\uccad\\ub0a8\\ub3c4 \\uc11c\\ucc9c\\uad70\", \"\\ucda9\\uccad\\ub0a8\\ub3c4 \\uc544\\uc0b0\\uc2dc\", \"\\ucda9\\uccad\\ub0a8\\ub3c4 \\uc608\\uc0b0\\uad70\", \"\\ucda9\\uccad\\ub0a8\\ub3c4 \\ucc9c\\uc548\\uc2dc\", \"\\ucda9\\uccad\\ub0a8\\ub3c4 \\ud0dc\\uc548\\uad70\", \"\\ucda9\\uccad\\ub0a8\\ub3c4 \\ud64d\\uc131\\uad70\", \"\\ucda9\\uccad\\ubd81\\ub3c4\", \"\\ucda9\\uccad\\ubd81\\ub3c4 \\uad34\\uc0b0\\uad70\", \"\\ucda9\\uccad\\ubd81\\ub3c4 \\ubcf4\\uc740\\uad70\", \"\\ucda9\\uccad\\ubd81\\ub3c4 \\uc601\\ub3d9\\uad70\", \"\\ucda9\\uccad\\ubd81\\ub3c4 \\uc74c\\uc131\\uad70\", \"\\ucda9\\uccad\\ubd81\\ub3c4 \\uc81c\\ucc9c\\uc2dc\", \"\\ucda9\\uccad\\ubd81\\ub3c4 \\uc9c4\\ucc9c\\uad70\", \"\\ucda9\\uccad\\ubd81\\ub3c4 \\uccad\\uc8fc\\uc2dc\", \"\\ucda9\\uccad\\ubd81\\ub3c4 \\ucda9\\uc8fc\\uc2dc\"], \"y\": [1680.0, 59840.0, 1140.0, 7700.0, 11260.0, 1000.0, 37120.0, 0.0, 49050.0, 0.0, 0.0, 325520.0, 0.0, 0.0, 920.0, 0.0, 64152.0, 0.0, 3420.0, 3380.0, 2158.0, 16884.0, 0.0, 176.0, 138100.0, 3390.0, 2520.0, 6410.0, 14952.0, 0.0, 148762.0, 0.0, 22754.0, 0.0, 3006.0, 13638.0, 3500.0, 51640.0, 0.0, 0.0, 6300.0, 2184.0, 990.0, 0.0, 7172.0, 0.0, 11922.0, 0.0, 422.0, 9930.0, 0.0, 0.0, 39968.0, 12768.0, 0.0, 0.0, 750.0, 7534.0, 50782.0, 0.0, 0.0, 0.0, 1210.0, 0.0, 0.0, 8000.0, 1500.0, 10.0, 0.0, 25196.0, 419836.0, 72566.0, 47152.0, 145476.0, 42794.0, 48444.0, 0.0, 0.0, 0.0, 152216.0, 0.0, 0.0, 1600.0, 12868.0, 2484.0, 18198.0, 53948.0, 5000.0, 400.0, 13064.0, 0.0, 0.0, 0.0, 80808.0, 7402.0, 222.0, 0.0, 7104.0, 9390.0, 10768.0, 0.0, 8204.0, 1906882.0, 1000.0, 85172.0, 372.0, 0.0, 214.0, 36.0, 1499216.0, 0.0, 105628.0, 0.0, 800.0, 1036.0, 0.0, 0.0, 0.0, 274.0, 65990.0, 4556.0, 368.0, 2460.0, 34864.0, 0.0, 0.0, 10512.0, 100.0, 14952.0, 11918.0, 692.0, 0.0, 696.0, 4660.0, 0.0, 18.0, 28188.0, 0.0, 1972.0, 16142.0, 9396.0, 0.0, 2.0, 0.0, 0.0, 0.0, 474.0, 1080.0, 1522.0, 0.0, 116078.0, 47262.0]}],                        {\"barmode\": \"stack\", \"template\": {\"data\": {\"bar\": [{\"error_x\": {\"color\": \"#2a3f5f\"}, \"error_y\": {\"color\": \"#2a3f5f\"}, \"marker\": {\"line\": {\"color\": \"#E5ECF6\", \"width\": 0.5}}, \"type\": \"bar\"}], \"barpolar\": [{\"marker\": {\"line\": {\"color\": \"#E5ECF6\", \"width\": 0.5}}, \"type\": \"barpolar\"}], \"carpet\": [{\"aaxis\": {\"endlinecolor\": \"#2a3f5f\", \"gridcolor\": \"white\", \"linecolor\": \"white\", \"minorgridcolor\": \"white\", \"startlinecolor\": \"#2a3f5f\"}, \"baxis\": {\"endlinecolor\": \"#2a3f5f\", \"gridcolor\": \"white\", \"linecolor\": \"white\", \"minorgridcolor\": \"white\", \"startlinecolor\": \"#2a3f5f\"}, \"type\": \"carpet\"}], \"choropleth\": [{\"colorbar\": {\"outlinewidth\": 0, \"ticks\": \"\"}, \"type\": \"choropleth\"}], \"contour\": [{\"colorbar\": {\"outlinewidth\": 0, \"ticks\": \"\"}, \"colorscale\": [[0.0, \"#0d0887\"], [0.1111111111111111, \"#46039f\"], [0.2222222222222222, \"#7201a8\"], [0.3333333333333333, \"#9c179e\"], [0.4444444444444444, \"#bd3786\"], [0.5555555555555556, \"#d8576b\"], [0.6666666666666666, \"#ed7953\"], [0.7777777777777778, \"#fb9f3a\"], [0.8888888888888888, \"#fdca26\"], [1.0, \"#f0f921\"]], \"type\": \"contour\"}], \"contourcarpet\": [{\"colorbar\": {\"outlinewidth\": 0, \"ticks\": \"\"}, \"type\": \"contourcarpet\"}], \"heatmap\": [{\"colorbar\": {\"outlinewidth\": 0, \"ticks\": \"\"}, \"colorscale\": [[0.0, \"#0d0887\"], [0.1111111111111111, \"#46039f\"], [0.2222222222222222, \"#7201a8\"], [0.3333333333333333, \"#9c179e\"], [0.4444444444444444, \"#bd3786\"], [0.5555555555555556, \"#d8576b\"], [0.6666666666666666, \"#ed7953\"], [0.7777777777777778, \"#fb9f3a\"], [0.8888888888888888, \"#fdca26\"], [1.0, \"#f0f921\"]], \"type\": \"heatmap\"}], \"heatmapgl\": [{\"colorbar\": {\"outlinewidth\": 0, \"ticks\": \"\"}, \"colorscale\": [[0.0, \"#0d0887\"], [0.1111111111111111, \"#46039f\"], [0.2222222222222222, \"#7201a8\"], [0.3333333333333333, \"#9c179e\"], [0.4444444444444444, \"#bd3786\"], [0.5555555555555556, \"#d8576b\"], [0.6666666666666666, \"#ed7953\"], [0.7777777777777778, \"#fb9f3a\"], [0.8888888888888888, \"#fdca26\"], [1.0, \"#f0f921\"]], \"type\": \"heatmapgl\"}], \"histogram\": [{\"marker\": {\"colorbar\": {\"outlinewidth\": 0, \"ticks\": \"\"}}, \"type\": \"histogram\"}], \"histogram2d\": [{\"colorbar\": {\"outlinewidth\": 0, \"ticks\": \"\"}, \"colorscale\": [[0.0, \"#0d0887\"], [0.1111111111111111, \"#46039f\"], [0.2222222222222222, \"#7201a8\"], [0.3333333333333333, \"#9c179e\"], [0.4444444444444444, \"#bd3786\"], [0.5555555555555556, \"#d8576b\"], [0.6666666666666666, \"#ed7953\"], [0.7777777777777778, \"#fb9f3a\"], [0.8888888888888888, \"#fdca26\"], [1.0, \"#f0f921\"]], \"type\": \"histogram2d\"}], \"histogram2dcontour\": [{\"colorbar\": {\"outlinewidth\": 0, \"ticks\": \"\"}, \"colorscale\": [[0.0, \"#0d0887\"], [0.1111111111111111, \"#46039f\"], [0.2222222222222222, \"#7201a8\"], [0.3333333333333333, \"#9c179e\"], [0.4444444444444444, \"#bd3786\"], [0.5555555555555556, \"#d8576b\"], [0.6666666666666666, \"#ed7953\"], [0.7777777777777778, \"#fb9f3a\"], [0.8888888888888888, \"#fdca26\"], [1.0, \"#f0f921\"]], \"type\": \"histogram2dcontour\"}], \"mesh3d\": [{\"colorbar\": {\"outlinewidth\": 0, \"ticks\": \"\"}, \"type\": \"mesh3d\"}], \"parcoords\": [{\"line\": {\"colorbar\": {\"outlinewidth\": 0, \"ticks\": \"\"}}, \"type\": \"parcoords\"}], \"pie\": [{\"automargin\": true, \"type\": \"pie\"}], \"scatter\": [{\"marker\": {\"colorbar\": {\"outlinewidth\": 0, \"ticks\": \"\"}}, \"type\": \"scatter\"}], \"scatter3d\": [{\"line\": {\"colorbar\": {\"outlinewidth\": 0, \"ticks\": \"\"}}, \"marker\": {\"colorbar\": {\"outlinewidth\": 0, \"ticks\": \"\"}}, \"type\": \"scatter3d\"}], \"scattercarpet\": [{\"marker\": {\"colorbar\": {\"outlinewidth\": 0, \"ticks\": \"\"}}, \"type\": \"scattercarpet\"}], \"scattergeo\": [{\"marker\": {\"colorbar\": {\"outlinewidth\": 0, \"ticks\": \"\"}}, \"type\": \"scattergeo\"}], \"scattergl\": [{\"marker\": {\"colorbar\": {\"outlinewidth\": 0, \"ticks\": \"\"}}, \"type\": \"scattergl\"}], \"scattermapbox\": [{\"marker\": {\"colorbar\": {\"outlinewidth\": 0, \"ticks\": \"\"}}, \"type\": \"scattermapbox\"}], \"scatterpolar\": [{\"marker\": {\"colorbar\": {\"outlinewidth\": 0, \"ticks\": \"\"}}, \"type\": \"scatterpolar\"}], \"scatterpolargl\": [{\"marker\": {\"colorbar\": {\"outlinewidth\": 0, \"ticks\": \"\"}}, \"type\": \"scatterpolargl\"}], \"scatterternary\": [{\"marker\": {\"colorbar\": {\"outlinewidth\": 0, \"ticks\": \"\"}}, \"type\": \"scatterternary\"}], \"surface\": [{\"colorbar\": {\"outlinewidth\": 0, \"ticks\": \"\"}, \"colorscale\": [[0.0, \"#0d0887\"], [0.1111111111111111, \"#46039f\"], [0.2222222222222222, \"#7201a8\"], [0.3333333333333333, \"#9c179e\"], [0.4444444444444444, \"#bd3786\"], [0.5555555555555556, \"#d8576b\"], [0.6666666666666666, \"#ed7953\"], [0.7777777777777778, \"#fb9f3a\"], [0.8888888888888888, \"#fdca26\"], [1.0, \"#f0f921\"]], \"type\": \"surface\"}], \"table\": [{\"cells\": {\"fill\": {\"color\": \"#EBF0F8\"}, \"line\": {\"color\": \"white\"}}, \"header\": {\"fill\": {\"color\": \"#C8D4E3\"}, \"line\": {\"color\": \"white\"}}, \"type\": \"table\"}]}, \"layout\": {\"annotationdefaults\": {\"arrowcolor\": \"#2a3f5f\", \"arrowhead\": 0, \"arrowwidth\": 1}, \"autotypenumbers\": \"strict\", \"coloraxis\": {\"colorbar\": {\"outlinewidth\": 0, \"ticks\": \"\"}}, \"colorscale\": {\"diverging\": [[0, \"#8e0152\"], [0.1, \"#c51b7d\"], [0.2, \"#de77ae\"], [0.3, \"#f1b6da\"], [0.4, \"#fde0ef\"], [0.5, \"#f7f7f7\"], [0.6, \"#e6f5d0\"], [0.7, \"#b8e186\"], [0.8, \"#7fbc41\"], [0.9, \"#4d9221\"], [1, \"#276419\"]], \"sequential\": [[0.0, \"#0d0887\"], [0.1111111111111111, \"#46039f\"], [0.2222222222222222, \"#7201a8\"], [0.3333333333333333, \"#9c179e\"], [0.4444444444444444, \"#bd3786\"], [0.5555555555555556, \"#d8576b\"], [0.6666666666666666, \"#ed7953\"], [0.7777777777777778, \"#fb9f3a\"], [0.8888888888888888, \"#fdca26\"], [1.0, \"#f0f921\"]], \"sequentialminus\": [[0.0, \"#0d0887\"], [0.1111111111111111, \"#46039f\"], [0.2222222222222222, \"#7201a8\"], [0.3333333333333333, \"#9c179e\"], [0.4444444444444444, \"#bd3786\"], [0.5555555555555556, \"#d8576b\"], [0.6666666666666666, \"#ed7953\"], [0.7777777777777778, \"#fb9f3a\"], [0.8888888888888888, \"#fdca26\"], [1.0, \"#f0f921\"]]}, \"colorway\": [\"#636efa\", \"#EF553B\", \"#00cc96\", \"#ab63fa\", \"#FFA15A\", \"#19d3f3\", \"#FF6692\", \"#B6E880\", \"#FF97FF\", \"#FECB52\"], \"font\": {\"color\": \"#2a3f5f\"}, \"geo\": {\"bgcolor\": \"white\", \"lakecolor\": \"white\", \"landcolor\": \"#E5ECF6\", \"showlakes\": true, \"showland\": true, \"subunitcolor\": \"white\"}, \"hoverlabel\": {\"align\": \"left\"}, \"hovermode\": \"closest\", \"mapbox\": {\"style\": \"light\"}, \"paper_bgcolor\": \"white\", \"plot_bgcolor\": \"#E5ECF6\", \"polar\": {\"angularaxis\": {\"gridcolor\": \"white\", \"linecolor\": \"white\", \"ticks\": \"\"}, \"bgcolor\": \"#E5ECF6\", \"radialaxis\": {\"gridcolor\": \"white\", \"linecolor\": \"white\", \"ticks\": \"\"}}, \"scene\": {\"xaxis\": {\"backgroundcolor\": \"#E5ECF6\", \"gridcolor\": \"white\", \"gridwidth\": 2, \"linecolor\": \"white\", \"showbackground\": true, \"ticks\": \"\", \"zerolinecolor\": \"white\"}, \"yaxis\": {\"backgroundcolor\": \"#E5ECF6\", \"gridcolor\": \"white\", \"gridwidth\": 2, \"linecolor\": \"white\", \"showbackground\": true, \"ticks\": \"\", \"zerolinecolor\": \"white\"}, \"zaxis\": {\"backgroundcolor\": \"#E5ECF6\", \"gridcolor\": \"white\", \"gridwidth\": 2, \"linecolor\": \"white\", \"showbackground\": true, \"ticks\": \"\", \"zerolinecolor\": \"white\"}}, \"shapedefaults\": {\"line\": {\"color\": \"#2a3f5f\"}}, \"ternary\": {\"aaxis\": {\"gridcolor\": \"white\", \"linecolor\": \"white\", \"ticks\": \"\"}, \"baxis\": {\"gridcolor\": \"white\", \"linecolor\": \"white\", \"ticks\": \"\"}, \"bgcolor\": \"#E5ECF6\", \"caxis\": {\"gridcolor\": \"white\", \"linecolor\": \"white\", \"ticks\": \"\"}}, \"title\": {\"x\": 0.05}, \"xaxis\": {\"automargin\": true, \"gridcolor\": \"white\", \"linecolor\": \"white\", \"ticks\": \"\", \"title\": {\"standoff\": 15}, \"zerolinecolor\": \"white\", \"zerolinewidth\": 2}, \"yaxis\": {\"automargin\": true, \"gridcolor\": \"white\", \"linecolor\": \"white\", \"ticks\": \"\", \"title\": {\"standoff\": 15}, \"zerolinecolor\": \"white\", \"zerolinewidth\": 2}}}, \"title\": {\"text\": \"2020-2021 1~3\\uc6d4 \\uc0b0\\uc9c0 \\ubcc4 \\ub300\\ud30c \\ucd9c\\ud558\\ub7c9\"}},                        {\"responsive\": true}                    ).then(function(){\n",
       "                            \n",
       "var gd = document.getElementById('a2f7f29e-79da-42b3-bd32-2f0c2ba2bbe0');\n",
       "var x = new MutationObserver(function (mutations, observer) {{\n",
       "        var display = window.getComputedStyle(gd).display;\n",
       "        if (!display || display === 'none') {{\n",
       "            console.log([gd, 'removed!']);\n",
       "            Plotly.purge(gd);\n",
       "            observer.disconnect();\n",
       "        }}\n",
       "}});\n",
       "\n",
       "// Listen for the removal of the full notebook cells\n",
       "var notebookContainer = gd.closest('#notebook-container');\n",
       "if (notebookContainer) {{\n",
       "    x.observe(notebookContainer, {childList: true});\n",
       "}}\n",
       "\n",
       "// Listen for the clearing of the current output cell\n",
       "var outputEl = gd.closest('.output');\n",
       "if (outputEl) {{\n",
       "    x.observe(outputEl, {childList: true});\n",
       "}}\n",
       "\n",
       "                        })                };                });            </script>        </div>"
      ]
     },
     "metadata": {},
     "output_type": "display_data"
    }
   ],
   "source": [
    "#누적막대\n",
    "trace1 = go.Bar(x=result5['산지명'], y=result5['202001'], name='2020년1월')\n",
    "trace2 = go.Bar(x=result5['산지명'], y=result5['202101'], name='2021년1월')\n",
    "trace3 = go.Bar(x=result5['산지명'], y=result5['202002'], name='2020년2월')\n",
    "trace4 = go.Bar(x=result5['산지명'], y=result5['202102'], name='2021년2월')\n",
    "trace5 = go.Bar(x=result5['산지명'], y=result5['202003'], name='2020년3월')\n",
    "trace6 = go.Bar(x=result5['산지명'], y=result5['202103'], name='2021년3월')\n",
    "\n",
    "data = [trace1, trace2, trace3, trace4, trace5, trace6]\n",
    "\n",
    "layout = go.Layout(title='2020-2021 1~3월 산지 별 대파 출하량', barmode='stack')\n",
    "\n",
    "fig = go.Figure(data=data, layout=layout)\n",
    "pyo.iplot(fig)\n",
    " "
   ]
  },
  {
   "cell_type": "code",
   "execution_count": null,
   "metadata": {},
   "outputs": [],
   "source": []
  }
 ],
 "metadata": {
  "kernelspec": {
   "display_name": "pydata",
   "language": "python",
   "name": "pydata"
  },
  "language_info": {
   "codemirror_mode": {
    "name": "ipython",
    "version": 3
   },
   "file_extension": ".py",
   "mimetype": "text/x-python",
   "name": "python",
   "nbconvert_exporter": "python",
   "pygments_lexer": "ipython3",
   "version": "3.7.10"
  }
 },
 "nbformat": 4,
 "nbformat_minor": 4
}
