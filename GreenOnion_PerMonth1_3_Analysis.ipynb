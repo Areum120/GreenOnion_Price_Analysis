{
 "cells": [
  {
   "cell_type": "code",
   "execution_count": 1,
   "metadata": {},
   "outputs": [],
   "source": [
    "import numpy as np\n",
    "import pandas as pd\n",
    "import os\n",
    "import warnings\n",
    "warnings.filterwarnings(action='ignore')\n",
    "#경고 메시지 숨기기"
   ]
  },
  {
   "cell_type": "code",
   "execution_count": null,
   "metadata": {},
   "outputs": [],
   "source": [
    "# 월별로 따로 구하지 않아도 됨\n",
    "# df['경락일자'] = pd.to_datetime(df['경락일자'], format='%Y%m%d')\n",
    "# df = df.set_index('경락일자')\n",
    "# gr = df.groupby(pd.Grouper(freq='M'))\n",
    "# gr[['거래량']].sum().plot()\n",
    "# gr[['거래가격']].mean().plot()"
   ]
  },
  {
   "cell_type": "markdown",
   "metadata": {},
   "source": [
    "### 2020/2021 1~3월 데이터 불러오기 ###"
   ]
  },
  {
   "cell_type": "code",
   "execution_count": 2,
   "metadata": {
    "scrolled": true
   },
   "outputs": [
    {
     "name": "stdout",
     "output_type": "stream",
     "text": [
      "       Unnamed: 0  경매구분코드 경매구분코드명  도매시장법인코드    산지코드      산지명2      경락일자  거래량  \\\n",
      "0               0       2    정가수의  24000101  585000  전라북도 고창군  20200102  500   \n",
      "1             261       1      경매  38010102  641465       NaN  20200102  100   \n",
      "2             260       1      경매  38010101  627834       NaN  20200102  100   \n",
      "3             259       1      경매  38010101  627834       NaN  20200102  100   \n",
      "4             258       1      경매  38010101  627834       NaN  20200102  100   \n",
      "...           ...     ...     ...       ...     ...       ...       ...  ...   \n",
      "43015       30768       1      경매  21000902  600010       NaN  20200131  140   \n",
      "43016       30767       1      경매  21000902  539800       NaN  20200131  226   \n",
      "43017       30777       2    정가수의  21000902  600010       NaN  20200131  100   \n",
      "43018       30735       1      경매  21000901  902000     부산광역시  20200131  150   \n",
      "43019       30324       1      경매  11000105  539000  전라남도 진도군  20200131  216   \n",
      "\n",
      "       도매시장법인명  거래가격  ...  stdMgNewNm       산지명 등급코드 등급명     품종명 거래규격단위코드  \\\n",
      "0      광주원협(공)  6000  ...          기타  전라북도 고창군   11   특  대파(일반)       12   \n",
      "1      농협창원(공)  1750  ...          기타  경상남도 창원시   11   특  대파(일반)       12   \n",
      "2         창원청과  1900  ...          기타  경상남도 밀양시   11   특  대파(일반)       12   \n",
      "3         창원청과  1900  ...          기타  경상남도 밀양시   11   특  대파(일반)       12   \n",
      "4         창원청과  1850  ...          기타  경상남도 밀양시   11   특  대파(일반)       12   \n",
      "...        ...   ...  ...         ...       ...  ...  ..     ...      ...   \n",
      "43015   부산중앙청과   850  ...          기타  부산광역시 중구   12   상  대파(일반)       12   \n",
      "43016   부산중앙청과   700  ...          기타  전라남도 진도군   12   상  대파(일반)       12   \n",
      "43017   부산중앙청과   700  ...          기타  부산광역시 중구   12   상  대파(일반)       12   \n",
      "43018     동부청과   850  ...          기타     부산광역시   12   상  대파(일반)       12   \n",
      "43019     한국청과  5300  ...          기타  전라남도 진도군   11   특  대파(일반)       12   \n",
      "\n",
      "      거래단위명  도매시장코드     도매시장명                 경매시간  \n",
      "0        kg  240001  광주각화도매시장                  NaN  \n",
      "1        kg  380101  창원팔용도매시장                  NaN  \n",
      "2        kg  380101  창원팔용도매시장  2020-01-02 05:14:27  \n",
      "3        kg  380101  창원팔용도매시장  2020-01-02 05:14:21  \n",
      "4        kg  380101  창원팔용도매시장  2020-01-02 05:14:17  \n",
      "...     ...     ...       ...                  ...  \n",
      "43015    kg  210009  부산반여도매시장  2020-01-31 07:17:15  \n",
      "43016    kg  210009  부산반여도매시장  2020-01-31 07:17:13  \n",
      "43017    kg  210009  부산반여도매시장  2020-01-31 09:18:18  \n",
      "43018    kg  210009  부산반여도매시장  2020-01-31 09:03:20  \n",
      "43019    kg  110001  서울가락도매시장        2020-01-31 ::  \n",
      "\n",
      "[43020 rows x 25 columns]\n"
     ]
    }
   ],
   "source": [
    "#Csv파일 불러오기\n",
    "Jan20 = pd.read_csv(r'C:\\study\\python\\notebook\\202001.csv', encoding='utf-8-sig')\n",
    "print(Jan20)"
   ]
  },
  {
   "cell_type": "code",
   "execution_count": 3,
   "metadata": {
    "scrolled": true
   },
   "outputs": [
    {
     "name": "stdout",
     "output_type": "stream",
     "text": [
      "       Unnamed: 0  경매구분코드 경매구분코드명  도매시장법인코드    산지코드      경락일자  거래량  도매시장법인명  \\\n",
      "0               0       1      경매  24000101  535800  20210102  150  광주원협(공)   \n",
      "1              30       2    정가수의  38020101  907000  20210102   10  울산원협(공)   \n",
      "2              31       2    정가수의  38020101  907000  20210102  350  울산원협(공)   \n",
      "3              32       2    정가수의  38020101  907000  20210102  200  울산원협(공)   \n",
      "4              33       2    정가수의  38020101  907000  20210102  100  울산원협(공)   \n",
      "...           ...     ...     ...       ...     ...       ...  ...      ...   \n",
      "32055       23295       1      경매  38010101  627834  20210130  100     창원청과   \n",
      "32056       23375       2    정가수의  38020101  680813  20210131   20  울산원협(공)   \n",
      "32057       23376       2    정가수의  38020101  680813  20210131   10  울산원협(공)   \n",
      "32058       23377       2    정가수의  38020101  680813  20210131  100  울산원협(공)   \n",
      "32059       23378       1      경매  38020102  626000  20210131   40   울산중앙청과   \n",
      "\n",
      "        거래가격  출하구분코드  ...       산지명 등급코드  등급명     품종명 거래규격단위코드 거래단위명  도매시장코드  \\\n",
      "0       4300     3.0  ...  전라남도 신안군   11    특  대파(일반)       12    kg  240001   \n",
      "1      13000     3.0  ...     울산광역시   12    상     깐대파       12    kg  380201   \n",
      "2       2300     3.0  ...     울산광역시   12    상     깐대파       12    kg  380201   \n",
      "3       2300     3.0  ...     울산광역시   12    상     깐대파       12    kg  380201   \n",
      "4       2300     3.0  ...     울산광역시   12    상     깐대파       12    kg  380201   \n",
      "...      ...     ...  ...       ...  ...  ...     ...      ...   ...     ...   \n",
      "32055   4100     3.0  ...  경상남도 밀양시   11    특  대파(일반)       12    kg  380101   \n",
      "32056  36000     4.0  ...  울산광역시 남구   12    상  대파(수입)       12    kg  380201   \n",
      "32057  36000     4.0  ...  울산광역시 남구   12    상  대파(수입)       12    kg  380201   \n",
      "32058  36000     4.0  ...  울산광역시 남구   12    상  대파(수입)       12    kg  380201   \n",
      "32059  22000     3.0  ...  경상남도 양산시   1Z  무등급  대파(일반)       12    kg  380201   \n",
      "\n",
      "          도매시장명      산지명2                 경매시간  \n",
      "0      광주각화도매시장       NaN                  NaN  \n",
      "1        울산도매시장     울산광역시                  NaN  \n",
      "2        울산도매시장     울산광역시                  NaN  \n",
      "3        울산도매시장     울산광역시                  NaN  \n",
      "4        울산도매시장     울산광역시                  NaN  \n",
      "...         ...       ...                  ...  \n",
      "32055  창원팔용도매시장       NaN  2021-01-30 05:12:51  \n",
      "32056    울산도매시장       NaN                  NaN  \n",
      "32057    울산도매시장       NaN                  NaN  \n",
      "32058    울산도매시장       NaN                  NaN  \n",
      "32059    울산도매시장  경상남도 양산시                  NaN  \n",
      "\n",
      "[32060 rows x 24 columns]\n"
     ]
    }
   ],
   "source": [
    "Jan21 = pd.read_csv(r'C:\\study\\python\\notebook\\202101.csv', encoding='utf-8-sig')\n",
    "print(Jan21)"
   ]
  },
  {
   "cell_type": "code",
   "execution_count": 4,
   "metadata": {},
   "outputs": [
    {
     "name": "stdout",
     "output_type": "stream",
     "text": [
      "       Unnamed: 0  경매구분코드 경매구분코드명  도매시장법인코드    산지코드      산지명2      경락일자  거래량  \\\n",
      "0           32359       1      경매  25000301  536000  전라남도 해남군  20200201  100   \n",
      "1           32360       1      경매  25000301  536000  전라남도 해남군  20200201  150   \n",
      "2           32361       1      경매  25000301  536000  전라남도 해남군  20200201  150   \n",
      "3           32362       1      경매  25000301  536000  전라남도 해남군  20200201  150   \n",
      "4           32363       1      경매  25000301  536000  전라남도 해남군  20200201  160   \n",
      "...           ...     ...     ...       ...     ...       ...       ...  ...   \n",
      "40045       77340       1      경매  31120103  471080       NaN  20200229   30   \n",
      "40046       77341       1      경매  31120103  471080       NaN  20200229   30   \n",
      "40047       77342       1      경매  31120103  471080       NaN  20200229   30   \n",
      "40048       77284       1      경매  31120101  471030       NaN  20200229  300   \n",
      "40049       76480       1      경매  11000104  535000  전라남도 신안군  20200229  180   \n",
      "\n",
      "       도매시장법인명  거래가격  ...  stdMgNewNm       산지명 등급코드  등급명     품종명 거래규격단위코드  \\\n",
      "0       대전중앙청과  2500  ...          기타  전라남도 해남군   1Z  무등급  대파(일반)       12   \n",
      "1       대전중앙청과   550  ...          기타  전라남도 해남군   1Z  무등급  대파(일반)       12   \n",
      "2       대전중앙청과   500  ...          기타  전라남도 해남군   1Z  무등급  대파(일반)       12   \n",
      "3       대전중앙청과   500  ...          기타  전라남도 해남군   1Z  무등급  대파(일반)       12   \n",
      "4       대전중앙청과   500  ...          기타  전라남도 해남군   1Z  무등급  대파(일반)       12   \n",
      "...        ...   ...  ...         ...       ...  ...  ...     ...      ...   \n",
      "40045     구리청과  7500  ...          기타   경기도 구리시   11    특  대파(일반)       12   \n",
      "40046     구리청과  7500  ...          기타   경기도 구리시   11    특  대파(일반)       12   \n",
      "40047     구리청과  7500  ...          기타   경기도 구리시   11    특  대파(일반)       12   \n",
      "40048  농협구리(공)   870  ...          10   경기도 구리시   11    특  대파(일반)       12   \n",
      "40049     동화청과  7200  ...          기타  전라남도 신안군   11    특  대파(일반)       12   \n",
      "\n",
      "      거래단위명  도매시장코드     도매시장명           경매시간  \n",
      "0        kg  250003  대전노은도매시장            NaN  \n",
      "1        kg  250003  대전노은도매시장            NaN  \n",
      "2        kg  250003  대전노은도매시장            NaN  \n",
      "3        kg  250003  대전노은도매시장            NaN  \n",
      "4        kg  250003  대전노은도매시장            NaN  \n",
      "...     ...     ...       ...            ...  \n",
      "40045    kg  311201    구리도매시장            NaN  \n",
      "40046    kg  311201    구리도매시장            NaN  \n",
      "40047    kg  311201    구리도매시장            NaN  \n",
      "40048    kg  311201    구리도매시장            NaN  \n",
      "40049    kg  110001  서울가락도매시장  2020-02-29 ::  \n",
      "\n",
      "[40050 rows x 25 columns]\n"
     ]
    }
   ],
   "source": [
    "Feb20 = pd.read_csv(r'C:\\study\\python\\notebook\\202002.csv', encoding='utf-8-sig')\n",
    "print(Feb20)"
   ]
  },
  {
   "cell_type": "code",
   "execution_count": 5,
   "metadata": {
    "scrolled": true
   },
   "outputs": [
    {
     "name": "stdout",
     "output_type": "stream",
     "text": [
      "       Unnamed: 0  경매구분코드 경매구분코드명  도매시장법인코드    산지코드      경락일자  거래량  도매시장법인명  \\\n",
      "0           24446       1      경매  31090101  901000  20210201  270  농협안산(공)   \n",
      "1           24451       1      경매  31090101  269000  20210201  330  농협안산(공)   \n",
      "2           24448       1      경매  31090101  901000  20210201  270  농협안산(공)   \n",
      "3           24444       1      경매  31090101  336600  20210201  300  농협안산(공)   \n",
      "4           24450       1      경매  31090101  269000  20210201  330  농협안산(공)   \n",
      "...           ...     ...     ...       ...     ...       ...  ...      ...   \n",
      "27891       53535       2    정가수의  31040101  539000  20210227   40  안양원협(공)   \n",
      "27892       53536       2    정가수의  31040101  539000  20210227   30  안양원협(공)   \n",
      "27893       53537       2    정가수의  31040101  539000  20210227   30  안양원협(공)   \n",
      "27894       53538       2    정가수의  31040101  539000  20210227  180  안양원협(공)   \n",
      "27895       53532       2    정가수의  31040101  539000  20210227   60  안양원협(공)   \n",
      "\n",
      "       거래가격  출하구분코드  ...       산지명 등급코드  등급명     품종명 거래규격단위코드 거래단위명  도매시장코드  \\\n",
      "0      4400     2.0  ...     서울특별시   11    특  대파(일반)       12    kg  310901   \n",
      "1      3700     2.0  ...   강원도 철원군   11    특  대파(일반)       12    kg  310901   \n",
      "2      4300     2.0  ...     서울특별시   11    특  대파(일반)       12    kg  310901   \n",
      "3      4910     3.0  ...  충청남도 아산시   11    특  대파(일반)       12    kg  310901   \n",
      "4      3700     2.0  ...   강원도 철원군   11    특  대파(일반)       12    kg  310901   \n",
      "...     ...     ...  ...       ...  ...  ...     ...      ...   ...     ...   \n",
      "27891  4900     3.0  ...  전라남도 진도군   1Z  무등급  대파(일반)       12    kg  310401   \n",
      "27892  4900     3.0  ...  전라남도 진도군   1Z  무등급  대파(일반)       12    kg  310401   \n",
      "27893  4900     3.0  ...  전라남도 진도군   1Z  무등급  대파(일반)       12    kg  310401   \n",
      "27894  4900     3.0  ...  전라남도 진도군   1Z  무등급  대파(일반)       12    kg  310401   \n",
      "27895  4900     3.0  ...  전라남도 진도군   1Z  무등급  대파(일반)       12    kg  310401   \n",
      "\n",
      "        도매시장명      산지명2 경매시간  \n",
      "0      안산도매시장     서울특별시  NaN  \n",
      "1      안산도매시장   강원도 철원군  NaN  \n",
      "2      안산도매시장     서울특별시  NaN  \n",
      "3      안산도매시장       NaN  NaN  \n",
      "4      안산도매시장   강원도 철원군  NaN  \n",
      "...       ...       ...  ...  \n",
      "27891  안양도매시장  전라남도 진도군  NaN  \n",
      "27892  안양도매시장  전라남도 진도군  NaN  \n",
      "27893  안양도매시장  전라남도 진도군  NaN  \n",
      "27894  안양도매시장  전라남도 진도군  NaN  \n",
      "27895  안양도매시장  전라남도 진도군  NaN  \n",
      "\n",
      "[27896 rows x 24 columns]\n"
     ]
    }
   ],
   "source": [
    "Feb21 = pd.read_csv(r'C:\\study\\python\\notebook\\202102.csv', encoding='utf-8-sig')\n",
    "print(Feb21)"
   ]
  },
  {
   "cell_type": "code",
   "execution_count": 6,
   "metadata": {},
   "outputs": [
    {
     "name": "stdout",
     "output_type": "stream",
     "text": [
      "       Unnamed: 0  경매구분코드 경매구분코드명  도매시장법인코드    산지코드      산지명2      경락일자  거래량  \\\n",
      "0           77728       2    정가수의  11000101  539000  전라남도 진도군  20200302   75   \n",
      "1           78956       2    정가수의  31090105  413810       NaN  20200302  500   \n",
      "2           78955       2    정가수의  31090105  413810       NaN  20200302  500   \n",
      "3           78954       2    정가수의  31090105  413810       NaN  20200302  500   \n",
      "4           78953       2    정가수의  31090105  413810       NaN  20200302  500   \n",
      "...           ...     ...     ...       ...     ...       ...       ...  ...   \n",
      "18378       97772       1      경매  38040101  676000  경상남도 함양군  20200314  110   \n",
      "18379       97773       1      경매  38040101  664600       NaN  20200314  100   \n",
      "18380       97774       1      경매  38040101  664600       NaN  20200314  100   \n",
      "18381       97766       1      경매  38040101  676000  경상남도 함양군  20200314  100   \n",
      "18382       96832       1      경매  22000103  539000  전라남도 진도군  20200314  250   \n",
      "\n",
      "       도매시장법인명  거래가격  ...  stdMgNewNm       산지명 등급코드 등급명     품종명 거래규격단위코드  \\\n",
      "0         서울청과  6000  ...          기타  전라남도 진도군   11   특  대파(일반)       12   \n",
      "1        안산농산물  1000  ...          기타   경기도 파주시   11   특  대파(일반)       12   \n",
      "2        안산농산물   850  ...          기타   경기도 파주시   11   특  대파(일반)       12   \n",
      "3        안산농산물   850  ...          기타   경기도 파주시   11   특  대파(일반)       12   \n",
      "4        안산농산물  1000  ...          기타   경기도 파주시   11   특  대파(일반)       12   \n",
      "...        ...   ...  ...         ...       ...  ...  ..     ...      ...   \n",
      "18378  진주원협(공)  1400  ...          기타  경상남도 함양군   11   특  대파(일반)       12   \n",
      "18379  진주원협(공)  1800  ...          기타  경상남도 사천시   11   특  대파(일반)       12   \n",
      "18380  진주원협(공)  1800  ...          기타  경상남도 사천시   11   특  대파(일반)       12   \n",
      "18381  진주원협(공)  1400  ...          기타  경상남도 함양군   11   특  대파(일반)       12   \n",
      "18382     효성청과   800  ...          기타  전라남도 진도군   11   특  대파(일반)       12   \n",
      "\n",
      "      거래단위명  도매시장코드     도매시장명           경매시간  \n",
      "0        kg  110001  서울가락도매시장  2020-03-02 ::  \n",
      "1        kg  310901    안산도매시장            NaN  \n",
      "2        kg  310901    안산도매시장            NaN  \n",
      "3        kg  310901    안산도매시장            NaN  \n",
      "4        kg  310901    안산도매시장            NaN  \n",
      "...     ...     ...       ...            ...  \n",
      "18378    kg  380401    진주도매시장            NaN  \n",
      "18379    kg  380401    진주도매시장            NaN  \n",
      "18380    kg  380401    진주도매시장            NaN  \n",
      "18381    kg  380401    진주도매시장            NaN  \n",
      "18382    kg  220001  대구북부도매시장            NaN  \n",
      "\n",
      "[18383 rows x 25 columns]\n"
     ]
    }
   ],
   "source": [
    "Mar20 = pd.read_csv(r'C:\\study\\python\\notebook\\202003.csv', encoding='utf-8-sig')\n",
    "print(Mar20)"
   ]
  },
  {
   "cell_type": "code",
   "execution_count": 7,
   "metadata": {},
   "outputs": [
    {
     "name": "stdout",
     "output_type": "stream",
     "text": [
      "       Unnamed: 0  경매구분코드 경매구분코드명  도매시장법인코드    산지코드      경락일자  거래량   도매시장법인명  \\\n",
      "0           54217       2    정가수의  21000102  635000  20210301  150      부산청과   \n",
      "1           54004       1      경매  11000106  535000  20210301  240      대아청과   \n",
      "2           55053       1      경매  36030101  535870  20210301  100      남도청과   \n",
      "3           55052       1      경매  36030101  535870  20210301   50      남도청과   \n",
      "4           55051       1      경매  36030101  535870  20210301  150      남도청과   \n",
      "...           ...     ...     ...       ...     ...       ...  ...       ...   \n",
      "16241       72005       1      경매  22000105  695901  20210315   20  농협북대구(공)   \n",
      "16242       72004       1      경매  22000105  690600  20210315   20  농협북대구(공)   \n",
      "16243       72003       1      경매  22000104  539000  20210315  150      대양청과   \n",
      "16244       72001       1      경매  22000104  539000  20210315   14      대양청과   \n",
      "16245       72691       1      경매  33020101  535830  20210315  400  충북원협(충주)   \n",
      "\n",
      "        거래가격  출하구분코드  ...          산지명 등급코드 등급명     품종명 거래규격단위코드 거래단위명  \\\n",
      "0       5200     3.0  ...     경상남도 창녕군   13  보통  대파(일반)       12    kg   \n",
      "1      64500     NaN  ...     전라남도 신안군   11   특  대파(일반)       12    kg   \n",
      "2      10000     3.0  ...     전라남도 신안군   11   특  대파(일반)       12    kg   \n",
      "3      10000     3.0  ...     전라남도 신안군   11   특  대파(일반)       12    kg   \n",
      "4      10000     3.0  ...     전라남도 신안군   11   특  대파(일반)       12    kg   \n",
      "...      ...     ...  ...          ...  ...  ..     ...      ...   ...   \n",
      "16241  38000     3.0  ...  제주특별자치도 제주시   11   특  대파(일반)       12    kg   \n",
      "16242  53000     2.0  ...  제주특별자치도 제주시   11   특  대파(일반)       12    kg   \n",
      "16243   3700     3.0  ...     전라남도 진도군   11   특  대파(일반)       12    kg   \n",
      "16244   3500     3.0  ...     전라남도 진도군   11   특  대파(일반)       12    kg   \n",
      "16245   3600     3.0  ...     전라남도 신안군   11   특  대파(일반)       12    kg   \n",
      "\n",
      "       도매시장코드     도매시장명      산지명2                 경매시간  \n",
      "0      210001  부산엄궁도매시장  경상남도 창녕군                  NaN  \n",
      "1      110001  서울가락도매시장  전라남도 신안군        2021-03-01 ::  \n",
      "2      360301    순천도매시장       NaN  2021-02-27 14:17:31  \n",
      "3      360301    순천도매시장       NaN  2021-02-27 14:17:31  \n",
      "4      360301    순천도매시장       NaN  2021-02-27 14:17:28  \n",
      "...       ...       ...       ...                  ...  \n",
      "16241  220001  대구북부도매시장       NaN                  NaN  \n",
      "16242  220001  대구북부도매시장       NaN                  NaN  \n",
      "16243  220001  대구북부도매시장  전라남도 진도군                  NaN  \n",
      "16244  220001  대구북부도매시장  전라남도 진도군                  NaN  \n",
      "16245  330201    충주도매시장       NaN                  NaN  \n",
      "\n",
      "[16246 rows x 24 columns]\n"
     ]
    }
   ],
   "source": [
    "Mar21 = pd.read_csv(r'C:\\study\\python\\notebook\\202103.csv', encoding='utf-8-sig')\n",
    "print(Mar21)"
   ]
  },
  {
   "cell_type": "markdown",
   "metadata": {},
   "source": [
    "### 2020/2021 1~3월 데이터 산지별 거래량 합계 전처리 ###"
   ]
  },
  {
   "cell_type": "code",
   "execution_count": 8,
   "metadata": {},
   "outputs": [
    {
     "data": {
      "text/html": [
       "<div>\n",
       "<style scoped>\n",
       "    .dataframe tbody tr th:only-of-type {\n",
       "        vertical-align: middle;\n",
       "    }\n",
       "\n",
       "    .dataframe tbody tr th {\n",
       "        vertical-align: top;\n",
       "    }\n",
       "\n",
       "    .dataframe thead th {\n",
       "        text-align: right;\n",
       "    }\n",
       "</style>\n",
       "<table border=\"1\" class=\"dataframe\">\n",
       "  <thead>\n",
       "    <tr style=\"text-align: right;\">\n",
       "      <th></th>\n",
       "      <th>산지명</th>\n",
       "      <th>거래량</th>\n",
       "    </tr>\n",
       "  </thead>\n",
       "  <tbody>\n",
       "    <tr>\n",
       "      <th>0</th>\n",
       "      <td>강원도</td>\n",
       "      <td>3915</td>\n",
       "    </tr>\n",
       "    <tr>\n",
       "      <th>1</th>\n",
       "      <td>강원도 강릉시</td>\n",
       "      <td>46925</td>\n",
       "    </tr>\n",
       "    <tr>\n",
       "      <th>2</th>\n",
       "      <td>강원도 동해시</td>\n",
       "      <td>10946</td>\n",
       "    </tr>\n",
       "    <tr>\n",
       "      <th>3</th>\n",
       "      <td>강원도 원주시</td>\n",
       "      <td>6382</td>\n",
       "    </tr>\n",
       "    <tr>\n",
       "      <th>4</th>\n",
       "      <td>강원도 인제군</td>\n",
       "      <td>70467</td>\n",
       "    </tr>\n",
       "    <tr>\n",
       "      <th>...</th>\n",
       "      <td>...</td>\n",
       "      <td>...</td>\n",
       "    </tr>\n",
       "    <tr>\n",
       "      <th>147</th>\n",
       "      <td>충청북도 음성군</td>\n",
       "      <td>78</td>\n",
       "    </tr>\n",
       "    <tr>\n",
       "      <th>148</th>\n",
       "      <td>충청북도 제천시</td>\n",
       "      <td>10625</td>\n",
       "    </tr>\n",
       "    <tr>\n",
       "      <th>149</th>\n",
       "      <td>충청북도 진천군</td>\n",
       "      <td>591</td>\n",
       "    </tr>\n",
       "    <tr>\n",
       "      <th>150</th>\n",
       "      <td>충청북도 청주시</td>\n",
       "      <td>292296</td>\n",
       "    </tr>\n",
       "    <tr>\n",
       "      <th>151</th>\n",
       "      <td>충청북도 충주시</td>\n",
       "      <td>54295</td>\n",
       "    </tr>\n",
       "  </tbody>\n",
       "</table>\n",
       "<p>152 rows × 2 columns</p>\n",
       "</div>"
      ],
      "text/plain": [
       "          산지명     거래량\n",
       "0         강원도    3915\n",
       "1     강원도 강릉시   46925\n",
       "2     강원도 동해시   10946\n",
       "3     강원도 원주시    6382\n",
       "4     강원도 인제군   70467\n",
       "..        ...     ...\n",
       "147  충청북도 음성군      78\n",
       "148  충청북도 제천시   10625\n",
       "149  충청북도 진천군     591\n",
       "150  충청북도 청주시  292296\n",
       "151  충청북도 충주시   54295\n",
       "\n",
       "[152 rows x 2 columns]"
      ]
     },
     "execution_count": 8,
     "metadata": {},
     "output_type": "execute_result"
    }
   ],
   "source": [
    "sum_trading_volume = Jan20.groupby(Jan20['산지명'])['거래량'].sum().reset_index()\n",
    "#20산지 별 거래량 합계\n",
    "sum_trading_volume"
   ]
  },
  {
   "cell_type": "code",
   "execution_count": 9,
   "metadata": {},
   "outputs": [
    {
     "data": {
      "text/html": [
       "<div>\n",
       "<style scoped>\n",
       "    .dataframe tbody tr th:only-of-type {\n",
       "        vertical-align: middle;\n",
       "    }\n",
       "\n",
       "    .dataframe tbody tr th {\n",
       "        vertical-align: top;\n",
       "    }\n",
       "\n",
       "    .dataframe thead th {\n",
       "        text-align: right;\n",
       "    }\n",
       "</style>\n",
       "<table border=\"1\" class=\"dataframe\">\n",
       "  <thead>\n",
       "    <tr style=\"text-align: right;\">\n",
       "      <th></th>\n",
       "      <th>index</th>\n",
       "      <th>산지명</th>\n",
       "      <th>거래량</th>\n",
       "    </tr>\n",
       "  </thead>\n",
       "  <tbody>\n",
       "    <tr>\n",
       "      <th>0</th>\n",
       "      <td>109</td>\n",
       "      <td>전라남도 진도군</td>\n",
       "      <td>2049449</td>\n",
       "    </tr>\n",
       "    <tr>\n",
       "      <th>1</th>\n",
       "      <td>102</td>\n",
       "      <td>전라남도 신안군</td>\n",
       "      <td>1607819</td>\n",
       "    </tr>\n",
       "    <tr>\n",
       "      <th>2</th>\n",
       "      <td>11</td>\n",
       "      <td>경기도 구리시</td>\n",
       "      <td>364288</td>\n",
       "    </tr>\n",
       "    <tr>\n",
       "      <th>3</th>\n",
       "      <td>70</td>\n",
       "      <td>부산광역시</td>\n",
       "      <td>317795</td>\n",
       "    </tr>\n",
       "    <tr>\n",
       "      <th>4</th>\n",
       "      <td>150</td>\n",
       "      <td>충청북도 청주시</td>\n",
       "      <td>292296</td>\n",
       "    </tr>\n",
       "    <tr>\n",
       "      <th>...</th>\n",
       "      <td>...</td>\n",
       "      <td>...</td>\n",
       "      <td>...</td>\n",
       "    </tr>\n",
       "    <tr>\n",
       "      <th>147</th>\n",
       "      <td>121</td>\n",
       "      <td>전라북도 임실군</td>\n",
       "      <td>70</td>\n",
       "    </tr>\n",
       "    <tr>\n",
       "      <th>148</th>\n",
       "      <td>108</td>\n",
       "      <td>전라남도 장흥군</td>\n",
       "      <td>43</td>\n",
       "    </tr>\n",
       "    <tr>\n",
       "      <th>149</th>\n",
       "      <td>29</td>\n",
       "      <td>경상남도 거창군</td>\n",
       "      <td>40</td>\n",
       "    </tr>\n",
       "    <tr>\n",
       "      <th>150</th>\n",
       "      <td>31</td>\n",
       "      <td>경상남도 남해군</td>\n",
       "      <td>40</td>\n",
       "    </tr>\n",
       "    <tr>\n",
       "      <th>151</th>\n",
       "      <td>134</td>\n",
       "      <td>충청남도 보령시</td>\n",
       "      <td>36</td>\n",
       "    </tr>\n",
       "  </tbody>\n",
       "</table>\n",
       "<p>152 rows × 3 columns</p>\n",
       "</div>"
      ],
      "text/plain": [
       "     index       산지명      거래량\n",
       "0      109  전라남도 진도군  2049449\n",
       "1      102  전라남도 신안군  1607819\n",
       "2       11   경기도 구리시   364288\n",
       "3       70     부산광역시   317795\n",
       "4      150  충청북도 청주시   292296\n",
       "..     ...       ...      ...\n",
       "147    121  전라북도 임실군       70\n",
       "148    108  전라남도 장흥군       43\n",
       "149     29  경상남도 거창군       40\n",
       "150     31  경상남도 남해군       40\n",
       "151    134  충청남도 보령시       36\n",
       "\n",
       "[152 rows x 3 columns]"
      ]
     },
     "execution_count": 9,
     "metadata": {},
     "output_type": "execute_result"
    }
   ],
   "source": [
    "asc_df_MTV = sum_trading_volume.sort_values('거래량', ascending=False).reset_index()\n",
    "asc_df_MTV"
   ]
  },
  {
   "cell_type": "code",
   "execution_count": 10,
   "metadata": {},
   "outputs": [
    {
     "data": {
      "text/plain": [
       "index                                                11476\n",
       "산지명      전라남도 진도군전라남도 신안군경기도 구리시부산광역시충청북도 청주시전라남도 영광군전라...\n",
       "거래량                                                8876265\n",
       "dtype: object"
      ]
     },
     "execution_count": 10,
     "metadata": {},
     "output_type": "execute_result"
    }
   ],
   "source": [
    "asc_df_MTV.sum()"
   ]
  },
  {
   "cell_type": "code",
   "execution_count": 11,
   "metadata": {},
   "outputs": [],
   "source": [
    "asc_df_MTV.loc[\"Total\", :] = asc_df_MTV.sum()\n",
    "#거래량 합계 total 행 추가"
   ]
  },
  {
   "cell_type": "code",
   "execution_count": 12,
   "metadata": {
    "scrolled": true
   },
   "outputs": [
    {
     "data": {
      "text/html": [
       "<div>\n",
       "<style scoped>\n",
       "    .dataframe tbody tr th:only-of-type {\n",
       "        vertical-align: middle;\n",
       "    }\n",
       "\n",
       "    .dataframe tbody tr th {\n",
       "        vertical-align: top;\n",
       "    }\n",
       "\n",
       "    .dataframe thead th {\n",
       "        text-align: right;\n",
       "    }\n",
       "</style>\n",
       "<table border=\"1\" class=\"dataframe\">\n",
       "  <thead>\n",
       "    <tr style=\"text-align: right;\">\n",
       "      <th></th>\n",
       "      <th>index</th>\n",
       "      <th>산지명</th>\n",
       "      <th>거래량</th>\n",
       "    </tr>\n",
       "  </thead>\n",
       "  <tbody>\n",
       "    <tr>\n",
       "      <th>0</th>\n",
       "      <td>109.0</td>\n",
       "      <td>전라남도 진도군</td>\n",
       "      <td>2049449.0</td>\n",
       "    </tr>\n",
       "    <tr>\n",
       "      <th>1</th>\n",
       "      <td>102.0</td>\n",
       "      <td>전라남도 신안군</td>\n",
       "      <td>1607819.0</td>\n",
       "    </tr>\n",
       "    <tr>\n",
       "      <th>2</th>\n",
       "      <td>11.0</td>\n",
       "      <td>경기도 구리시</td>\n",
       "      <td>364288.0</td>\n",
       "    </tr>\n",
       "    <tr>\n",
       "      <th>3</th>\n",
       "      <td>70.0</td>\n",
       "      <td>부산광역시</td>\n",
       "      <td>317795.0</td>\n",
       "    </tr>\n",
       "    <tr>\n",
       "      <th>4</th>\n",
       "      <td>150.0</td>\n",
       "      <td>충청북도 청주시</td>\n",
       "      <td>292296.0</td>\n",
       "    </tr>\n",
       "    <tr>\n",
       "      <th>...</th>\n",
       "      <td>...</td>\n",
       "      <td>...</td>\n",
       "      <td>...</td>\n",
       "    </tr>\n",
       "    <tr>\n",
       "      <th>148</th>\n",
       "      <td>108.0</td>\n",
       "      <td>전라남도 장흥군</td>\n",
       "      <td>43.0</td>\n",
       "    </tr>\n",
       "    <tr>\n",
       "      <th>149</th>\n",
       "      <td>29.0</td>\n",
       "      <td>경상남도 거창군</td>\n",
       "      <td>40.0</td>\n",
       "    </tr>\n",
       "    <tr>\n",
       "      <th>150</th>\n",
       "      <td>31.0</td>\n",
       "      <td>경상남도 남해군</td>\n",
       "      <td>40.0</td>\n",
       "    </tr>\n",
       "    <tr>\n",
       "      <th>151</th>\n",
       "      <td>134.0</td>\n",
       "      <td>충청남도 보령시</td>\n",
       "      <td>36.0</td>\n",
       "    </tr>\n",
       "    <tr>\n",
       "      <th>Total</th>\n",
       "      <td>11476.0</td>\n",
       "      <td>전라남도 진도군전라남도 신안군경기도 구리시부산광역시충청북도 청주시전라남도 영광군전라...</td>\n",
       "      <td>8876265.0</td>\n",
       "    </tr>\n",
       "  </tbody>\n",
       "</table>\n",
       "<p>153 rows × 3 columns</p>\n",
       "</div>"
      ],
      "text/plain": [
       "         index                                                산지명        거래량\n",
       "0        109.0                                           전라남도 진도군  2049449.0\n",
       "1        102.0                                           전라남도 신안군  1607819.0\n",
       "2         11.0                                            경기도 구리시   364288.0\n",
       "3         70.0                                              부산광역시   317795.0\n",
       "4        150.0                                           충청북도 청주시   292296.0\n",
       "...        ...                                                ...        ...\n",
       "148      108.0                                           전라남도 장흥군       43.0\n",
       "149       29.0                                           경상남도 거창군       40.0\n",
       "150       31.0                                           경상남도 남해군       40.0\n",
       "151      134.0                                           충청남도 보령시       36.0\n",
       "Total  11476.0  전라남도 진도군전라남도 신안군경기도 구리시부산광역시충청북도 청주시전라남도 영광군전라...  8876265.0\n",
       "\n",
       "[153 rows x 3 columns]"
      ]
     },
     "execution_count": 12,
     "metadata": {},
     "output_type": "execute_result"
    }
   ],
   "source": [
    "asc_df_MTV"
   ]
  },
  {
   "cell_type": "code",
   "execution_count": 13,
   "metadata": {},
   "outputs": [],
   "source": [
    "Total_trading1 = asc_df_MTV.iloc[[-1], :]\n",
    "#total행 선택"
   ]
  },
  {
   "cell_type": "code",
   "execution_count": 14,
   "metadata": {},
   "outputs": [],
   "source": [
    "Total_trading1.rename(index={'Total':'2020_01'}, inplace=True)\n",
    "#total행 이름 변경"
   ]
  },
  {
   "cell_type": "code",
   "execution_count": 15,
   "metadata": {},
   "outputs": [
    {
     "data": {
      "text/html": [
       "<div>\n",
       "<style scoped>\n",
       "    .dataframe tbody tr th:only-of-type {\n",
       "        vertical-align: middle;\n",
       "    }\n",
       "\n",
       "    .dataframe tbody tr th {\n",
       "        vertical-align: top;\n",
       "    }\n",
       "\n",
       "    .dataframe thead th {\n",
       "        text-align: right;\n",
       "    }\n",
       "</style>\n",
       "<table border=\"1\" class=\"dataframe\">\n",
       "  <thead>\n",
       "    <tr style=\"text-align: right;\">\n",
       "      <th></th>\n",
       "      <th>index</th>\n",
       "      <th>산지명</th>\n",
       "      <th>거래량</th>\n",
       "    </tr>\n",
       "  </thead>\n",
       "  <tbody>\n",
       "    <tr>\n",
       "      <th>2020_01</th>\n",
       "      <td>11476.0</td>\n",
       "      <td>전라남도 진도군전라남도 신안군경기도 구리시부산광역시충청북도 청주시전라남도 영광군전라...</td>\n",
       "      <td>8876265.0</td>\n",
       "    </tr>\n",
       "  </tbody>\n",
       "</table>\n",
       "</div>"
      ],
      "text/plain": [
       "           index                                                산지명        거래량\n",
       "2020_01  11476.0  전라남도 진도군전라남도 신안군경기도 구리시부산광역시충청북도 청주시전라남도 영광군전라...  8876265.0"
      ]
     },
     "execution_count": 15,
     "metadata": {},
     "output_type": "execute_result"
    }
   ],
   "source": [
    "Total_trading1"
   ]
  },
  {
   "cell_type": "code",
   "execution_count": 43,
   "metadata": {},
   "outputs": [],
   "source": [
    "Total_trading2 = asc_df_MTV2.iloc[[-1], :]"
   ]
  },
  {
   "cell_type": "code",
   "execution_count": 44,
   "metadata": {},
   "outputs": [],
   "source": [
    "Total_trading2.rename(index={'Total':'2021_01'}, inplace=True)"
   ]
  },
  {
   "cell_type": "code",
   "execution_count": 45,
   "metadata": {},
   "outputs": [
    {
     "data": {
      "text/html": [
       "<div>\n",
       "<style scoped>\n",
       "    .dataframe tbody tr th:only-of-type {\n",
       "        vertical-align: middle;\n",
       "    }\n",
       "\n",
       "    .dataframe tbody tr th {\n",
       "        vertical-align: top;\n",
       "    }\n",
       "\n",
       "    .dataframe thead th {\n",
       "        text-align: right;\n",
       "    }\n",
       "</style>\n",
       "<table border=\"1\" class=\"dataframe\">\n",
       "  <thead>\n",
       "    <tr style=\"text-align: right;\">\n",
       "      <th></th>\n",
       "      <th>index</th>\n",
       "      <th>산지명</th>\n",
       "      <th>거래량</th>\n",
       "    </tr>\n",
       "  </thead>\n",
       "  <tbody>\n",
       "    <tr>\n",
       "      <th>2021_01</th>\n",
       "      <td>8646.0</td>\n",
       "      <td>전라남도 진도군전라남도 신안군부산광역시경기도 구리시충청북도 청주시부산광역시 중구경상...</td>\n",
       "      <td>6989360.0</td>\n",
       "    </tr>\n",
       "  </tbody>\n",
       "</table>\n",
       "</div>"
      ],
      "text/plain": [
       "          index                                                산지명        거래량\n",
       "2021_01  8646.0  전라남도 진도군전라남도 신안군부산광역시경기도 구리시충청북도 청주시부산광역시 중구경상...  6989360.0"
      ]
     },
     "execution_count": 45,
     "metadata": {},
     "output_type": "execute_result"
    }
   ],
   "source": [
    "Total_trading2"
   ]
  },
  {
   "cell_type": "code",
   "execution_count": 46,
   "metadata": {},
   "outputs": [],
   "source": [
    "Total_trading3 = asc_df_MTV3.iloc[[-1], :]"
   ]
  },
  {
   "cell_type": "code",
   "execution_count": 47,
   "metadata": {},
   "outputs": [],
   "source": [
    "Total_trading3.rename(index={'Total':'2020_02'}, inplace=True)"
   ]
  },
  {
   "cell_type": "code",
   "execution_count": 48,
   "metadata": {},
   "outputs": [
    {
     "data": {
      "text/html": [
       "<div>\n",
       "<style scoped>\n",
       "    .dataframe tbody tr th:only-of-type {\n",
       "        vertical-align: middle;\n",
       "    }\n",
       "\n",
       "    .dataframe tbody tr th {\n",
       "        vertical-align: top;\n",
       "    }\n",
       "\n",
       "    .dataframe thead th {\n",
       "        text-align: right;\n",
       "    }\n",
       "</style>\n",
       "<table border=\"1\" class=\"dataframe\">\n",
       "  <thead>\n",
       "    <tr style=\"text-align: right;\">\n",
       "      <th></th>\n",
       "      <th>index</th>\n",
       "      <th>산지명</th>\n",
       "      <th>거래량</th>\n",
       "    </tr>\n",
       "  </thead>\n",
       "  <tbody>\n",
       "    <tr>\n",
       "      <th>2020_02</th>\n",
       "      <td>10011.0</td>\n",
       "      <td>전라남도 진도군전라남도 신안군경기도 구리시부산광역시부산광역시 강서구충청북도 청주시전...</td>\n",
       "      <td>8566983.0</td>\n",
       "    </tr>\n",
       "  </tbody>\n",
       "</table>\n",
       "</div>"
      ],
      "text/plain": [
       "           index                                                산지명        거래량\n",
       "2020_02  10011.0  전라남도 진도군전라남도 신안군경기도 구리시부산광역시부산광역시 강서구충청북도 청주시전...  8566983.0"
      ]
     },
     "execution_count": 48,
     "metadata": {},
     "output_type": "execute_result"
    }
   ],
   "source": [
    "Total_trading3"
   ]
  },
  {
   "cell_type": "code",
   "execution_count": 49,
   "metadata": {},
   "outputs": [],
   "source": [
    "Total_trading4 = asc_df_MTV4.iloc[[-1], :]"
   ]
  },
  {
   "cell_type": "code",
   "execution_count": 50,
   "metadata": {},
   "outputs": [],
   "source": [
    "Total_trading4.rename(index={'Total':'2021_02'}, inplace=True)"
   ]
  },
  {
   "cell_type": "code",
   "execution_count": 51,
   "metadata": {},
   "outputs": [
    {
     "data": {
      "text/html": [
       "<div>\n",
       "<style scoped>\n",
       "    .dataframe tbody tr th:only-of-type {\n",
       "        vertical-align: middle;\n",
       "    }\n",
       "\n",
       "    .dataframe tbody tr th {\n",
       "        vertical-align: top;\n",
       "    }\n",
       "\n",
       "    .dataframe thead th {\n",
       "        text-align: right;\n",
       "    }\n",
       "</style>\n",
       "<table border=\"1\" class=\"dataframe\">\n",
       "  <thead>\n",
       "    <tr style=\"text-align: right;\">\n",
       "      <th></th>\n",
       "      <th>index</th>\n",
       "      <th>산지명</th>\n",
       "      <th>거래량</th>\n",
       "    </tr>\n",
       "  </thead>\n",
       "  <tbody>\n",
       "    <tr>\n",
       "      <th>2021_02</th>\n",
       "      <td>7260.0</td>\n",
       "      <td>전라남도 신안군전라남도 진도군부산광역시경기도 구리시경상남도 김해시부산광역시 중구경기...</td>\n",
       "      <td>5940539.0</td>\n",
       "    </tr>\n",
       "  </tbody>\n",
       "</table>\n",
       "</div>"
      ],
      "text/plain": [
       "          index                                                산지명        거래량\n",
       "2021_02  7260.0  전라남도 신안군전라남도 진도군부산광역시경기도 구리시경상남도 김해시부산광역시 중구경기...  5940539.0"
      ]
     },
     "execution_count": 51,
     "metadata": {},
     "output_type": "execute_result"
    }
   ],
   "source": [
    "Total_trading4"
   ]
  },
  {
   "cell_type": "code",
   "execution_count": 52,
   "metadata": {},
   "outputs": [],
   "source": [
    "\n",
    "Total_trading5 = asc_df_MTV5.iloc[[-1], :]"
   ]
  },
  {
   "cell_type": "code",
   "execution_count": 53,
   "metadata": {},
   "outputs": [],
   "source": [
    "Total_trading5.rename(index={'Total':'2020_03'}, inplace=True)"
   ]
  },
  {
   "cell_type": "code",
   "execution_count": 54,
   "metadata": {},
   "outputs": [
    {
     "data": {
      "text/html": [
       "<div>\n",
       "<style scoped>\n",
       "    .dataframe tbody tr th:only-of-type {\n",
       "        vertical-align: middle;\n",
       "    }\n",
       "\n",
       "    .dataframe tbody tr th {\n",
       "        vertical-align: top;\n",
       "    }\n",
       "\n",
       "    .dataframe thead th {\n",
       "        text-align: right;\n",
       "    }\n",
       "</style>\n",
       "<table border=\"1\" class=\"dataframe\">\n",
       "  <thead>\n",
       "    <tr style=\"text-align: right;\">\n",
       "      <th></th>\n",
       "      <th>index</th>\n",
       "      <th>산지명</th>\n",
       "      <th>거래량</th>\n",
       "    </tr>\n",
       "  </thead>\n",
       "  <tbody>\n",
       "    <tr>\n",
       "      <th>2020_03</th>\n",
       "      <td>7626.0</td>\n",
       "      <td>전라남도 신안군전라남도 진도군경기도 구리시부산광역시부산광역시 강서구서울특별시 송파구...</td>\n",
       "      <td>3799885.0</td>\n",
       "    </tr>\n",
       "  </tbody>\n",
       "</table>\n",
       "</div>"
      ],
      "text/plain": [
       "          index                                                산지명        거래량\n",
       "2020_03  7626.0  전라남도 신안군전라남도 진도군경기도 구리시부산광역시부산광역시 강서구서울특별시 송파구...  3799885.0"
      ]
     },
     "execution_count": 54,
     "metadata": {},
     "output_type": "execute_result"
    }
   ],
   "source": [
    "Total_trading5"
   ]
  },
  {
   "cell_type": "code",
   "execution_count": 55,
   "metadata": {},
   "outputs": [],
   "source": [
    "Total_trading6 = asc_df_MTV6.iloc[[-1], :]"
   ]
  },
  {
   "cell_type": "code",
   "execution_count": 56,
   "metadata": {},
   "outputs": [],
   "source": [
    "Total_trading6.rename(index={'Total':'2021_03'}, inplace=True)"
   ]
  },
  {
   "cell_type": "code",
   "execution_count": 57,
   "metadata": {},
   "outputs": [
    {
     "data": {
      "text/html": [
       "<div>\n",
       "<style scoped>\n",
       "    .dataframe tbody tr th:only-of-type {\n",
       "        vertical-align: middle;\n",
       "    }\n",
       "\n",
       "    .dataframe tbody tr th {\n",
       "        vertical-align: top;\n",
       "    }\n",
       "\n",
       "    .dataframe thead th {\n",
       "        text-align: right;\n",
       "    }\n",
       "</style>\n",
       "<table border=\"1\" class=\"dataframe\">\n",
       "  <thead>\n",
       "    <tr style=\"text-align: right;\">\n",
       "      <th></th>\n",
       "      <th>index</th>\n",
       "      <th>산지명</th>\n",
       "      <th>거래량</th>\n",
       "    </tr>\n",
       "  </thead>\n",
       "  <tbody>\n",
       "    <tr>\n",
       "      <th>2021_03</th>\n",
       "      <td>6670.0</td>\n",
       "      <td>전라남도 신안군전라남도 진도군부산광역시경기도 구리시서울특별시 송파구경상남도 김해시부...</td>\n",
       "      <td>3202171.0</td>\n",
       "    </tr>\n",
       "  </tbody>\n",
       "</table>\n",
       "</div>"
      ],
      "text/plain": [
       "          index                                                산지명        거래량\n",
       "2021_03  6670.0  전라남도 신안군전라남도 진도군부산광역시경기도 구리시서울특별시 송파구경상남도 김해시부...  3202171.0"
      ]
     },
     "execution_count": 57,
     "metadata": {},
     "output_type": "execute_result"
    }
   ],
   "source": [
    "Total_trading6"
   ]
  },
  {
   "cell_type": "code",
   "execution_count": 58,
   "metadata": {},
   "outputs": [],
   "source": [
    "#각 연월 거래량 합계 merge\n",
    "result = pd.concat([Total_trading1,Total_trading2,Total_trading3,Total_trading4,Total_trading5,Total_trading6])"
   ]
  },
  {
   "cell_type": "code",
   "execution_count": 59,
   "metadata": {},
   "outputs": [
    {
     "data": {
      "text/html": [
       "<div>\n",
       "<style scoped>\n",
       "    .dataframe tbody tr th:only-of-type {\n",
       "        vertical-align: middle;\n",
       "    }\n",
       "\n",
       "    .dataframe tbody tr th {\n",
       "        vertical-align: top;\n",
       "    }\n",
       "\n",
       "    .dataframe thead th {\n",
       "        text-align: right;\n",
       "    }\n",
       "</style>\n",
       "<table border=\"1\" class=\"dataframe\">\n",
       "  <thead>\n",
       "    <tr style=\"text-align: right;\">\n",
       "      <th></th>\n",
       "      <th>index</th>\n",
       "      <th>산지명</th>\n",
       "      <th>거래량</th>\n",
       "    </tr>\n",
       "  </thead>\n",
       "  <tbody>\n",
       "    <tr>\n",
       "      <th>2020_01</th>\n",
       "      <td>11476.0</td>\n",
       "      <td>전라남도 진도군전라남도 신안군경기도 구리시부산광역시충청북도 청주시전라남도 영광군전라...</td>\n",
       "      <td>8876265.0</td>\n",
       "    </tr>\n",
       "    <tr>\n",
       "      <th>2021_01</th>\n",
       "      <td>8646.0</td>\n",
       "      <td>전라남도 진도군전라남도 신안군부산광역시경기도 구리시충청북도 청주시부산광역시 중구경상...</td>\n",
       "      <td>6989360.0</td>\n",
       "    </tr>\n",
       "    <tr>\n",
       "      <th>2020_02</th>\n",
       "      <td>10011.0</td>\n",
       "      <td>전라남도 진도군전라남도 신안군경기도 구리시부산광역시부산광역시 강서구충청북도 청주시전...</td>\n",
       "      <td>8566983.0</td>\n",
       "    </tr>\n",
       "    <tr>\n",
       "      <th>2021_02</th>\n",
       "      <td>7260.0</td>\n",
       "      <td>전라남도 신안군전라남도 진도군부산광역시경기도 구리시경상남도 김해시부산광역시 중구경기...</td>\n",
       "      <td>5940539.0</td>\n",
       "    </tr>\n",
       "    <tr>\n",
       "      <th>2020_03</th>\n",
       "      <td>7626.0</td>\n",
       "      <td>전라남도 신안군전라남도 진도군경기도 구리시부산광역시부산광역시 강서구서울특별시 송파구...</td>\n",
       "      <td>3799885.0</td>\n",
       "    </tr>\n",
       "    <tr>\n",
       "      <th>2021_03</th>\n",
       "      <td>6670.0</td>\n",
       "      <td>전라남도 신안군전라남도 진도군부산광역시경기도 구리시서울특별시 송파구경상남도 김해시부...</td>\n",
       "      <td>3202171.0</td>\n",
       "    </tr>\n",
       "  </tbody>\n",
       "</table>\n",
       "</div>"
      ],
      "text/plain": [
       "           index                                                산지명        거래량\n",
       "2020_01  11476.0  전라남도 진도군전라남도 신안군경기도 구리시부산광역시충청북도 청주시전라남도 영광군전라...  8876265.0\n",
       "2021_01   8646.0  전라남도 진도군전라남도 신안군부산광역시경기도 구리시충청북도 청주시부산광역시 중구경상...  6989360.0\n",
       "2020_02  10011.0  전라남도 진도군전라남도 신안군경기도 구리시부산광역시부산광역시 강서구충청북도 청주시전...  8566983.0\n",
       "2021_02   7260.0  전라남도 신안군전라남도 진도군부산광역시경기도 구리시경상남도 김해시부산광역시 중구경기...  5940539.0\n",
       "2020_03   7626.0  전라남도 신안군전라남도 진도군경기도 구리시부산광역시부산광역시 강서구서울특별시 송파구...  3799885.0\n",
       "2021_03   6670.0  전라남도 신안군전라남도 진도군부산광역시경기도 구리시서울특별시 송파구경상남도 김해시부...  3202171.0"
      ]
     },
     "execution_count": 59,
     "metadata": {},
     "output_type": "execute_result"
    }
   ],
   "source": [
    "result"
   ]
  },
  {
   "cell_type": "code",
   "execution_count": 60,
   "metadata": {},
   "outputs": [],
   "source": [
    "#시각화하기 위한 index 설정\n",
    "result2 = result.reset_index()"
   ]
  },
  {
   "cell_type": "code",
   "execution_count": 61,
   "metadata": {},
   "outputs": [
    {
     "data": {
      "text/html": [
       "<div>\n",
       "<style scoped>\n",
       "    .dataframe tbody tr th:only-of-type {\n",
       "        vertical-align: middle;\n",
       "    }\n",
       "\n",
       "    .dataframe tbody tr th {\n",
       "        vertical-align: top;\n",
       "    }\n",
       "\n",
       "    .dataframe thead th {\n",
       "        text-align: right;\n",
       "    }\n",
       "</style>\n",
       "<table border=\"1\" class=\"dataframe\">\n",
       "  <thead>\n",
       "    <tr style=\"text-align: right;\">\n",
       "      <th></th>\n",
       "      <th>level_0</th>\n",
       "      <th>index</th>\n",
       "      <th>산지명</th>\n",
       "      <th>거래량</th>\n",
       "    </tr>\n",
       "  </thead>\n",
       "  <tbody>\n",
       "    <tr>\n",
       "      <th>0</th>\n",
       "      <td>2020_01</td>\n",
       "      <td>11476.0</td>\n",
       "      <td>전라남도 진도군전라남도 신안군경기도 구리시부산광역시충청북도 청주시전라남도 영광군전라...</td>\n",
       "      <td>8876265.0</td>\n",
       "    </tr>\n",
       "    <tr>\n",
       "      <th>1</th>\n",
       "      <td>2021_01</td>\n",
       "      <td>8646.0</td>\n",
       "      <td>전라남도 진도군전라남도 신안군부산광역시경기도 구리시충청북도 청주시부산광역시 중구경상...</td>\n",
       "      <td>6989360.0</td>\n",
       "    </tr>\n",
       "    <tr>\n",
       "      <th>2</th>\n",
       "      <td>2020_02</td>\n",
       "      <td>10011.0</td>\n",
       "      <td>전라남도 진도군전라남도 신안군경기도 구리시부산광역시부산광역시 강서구충청북도 청주시전...</td>\n",
       "      <td>8566983.0</td>\n",
       "    </tr>\n",
       "    <tr>\n",
       "      <th>3</th>\n",
       "      <td>2021_02</td>\n",
       "      <td>7260.0</td>\n",
       "      <td>전라남도 신안군전라남도 진도군부산광역시경기도 구리시경상남도 김해시부산광역시 중구경기...</td>\n",
       "      <td>5940539.0</td>\n",
       "    </tr>\n",
       "    <tr>\n",
       "      <th>4</th>\n",
       "      <td>2020_03</td>\n",
       "      <td>7626.0</td>\n",
       "      <td>전라남도 신안군전라남도 진도군경기도 구리시부산광역시부산광역시 강서구서울특별시 송파구...</td>\n",
       "      <td>3799885.0</td>\n",
       "    </tr>\n",
       "    <tr>\n",
       "      <th>5</th>\n",
       "      <td>2021_03</td>\n",
       "      <td>6670.0</td>\n",
       "      <td>전라남도 신안군전라남도 진도군부산광역시경기도 구리시서울특별시 송파구경상남도 김해시부...</td>\n",
       "      <td>3202171.0</td>\n",
       "    </tr>\n",
       "  </tbody>\n",
       "</table>\n",
       "</div>"
      ],
      "text/plain": [
       "   level_0    index                                                산지명  \\\n",
       "0  2020_01  11476.0  전라남도 진도군전라남도 신안군경기도 구리시부산광역시충청북도 청주시전라남도 영광군전라...   \n",
       "1  2021_01   8646.0  전라남도 진도군전라남도 신안군부산광역시경기도 구리시충청북도 청주시부산광역시 중구경상...   \n",
       "2  2020_02  10011.0  전라남도 진도군전라남도 신안군경기도 구리시부산광역시부산광역시 강서구충청북도 청주시전...   \n",
       "3  2021_02   7260.0  전라남도 신안군전라남도 진도군부산광역시경기도 구리시경상남도 김해시부산광역시 중구경기...   \n",
       "4  2020_03   7626.0  전라남도 신안군전라남도 진도군경기도 구리시부산광역시부산광역시 강서구서울특별시 송파구...   \n",
       "5  2021_03   6670.0  전라남도 신안군전라남도 진도군부산광역시경기도 구리시서울특별시 송파구경상남도 김해시부...   \n",
       "\n",
       "         거래량  \n",
       "0  8876265.0  \n",
       "1  6989360.0  \n",
       "2  8566983.0  \n",
       "3  5940539.0  \n",
       "4  3799885.0  \n",
       "5  3202171.0  "
      ]
     },
     "execution_count": 61,
     "metadata": {},
     "output_type": "execute_result"
    }
   ],
   "source": [
    "result2 #시각화 최종 데이터 "
   ]
  },
  {
   "cell_type": "markdown",
   "metadata": {},
   "source": [
    "### 꺾은 선 막대그래프 시각화로 변경하기 위한 데이터 프레임 수정 ###"
   ]
  },
  {
   "cell_type": "code",
   "execution_count": 62,
   "metadata": {},
   "outputs": [],
   "source": [
    "result2.drop(['index','산지명'], axis=1, inplace=True)#필요없는 칼럼 삭제"
   ]
  },
  {
   "cell_type": "code",
   "execution_count": 63,
   "metadata": {},
   "outputs": [],
   "source": [
    "result2[\"2021\"] = 6 # 컬럼 추가"
   ]
  },
  {
   "cell_type": "code",
   "execution_count": 64,
   "metadata": {},
   "outputs": [
    {
     "data": {
      "text/html": [
       "<div>\n",
       "<style scoped>\n",
       "    .dataframe tbody tr th:only-of-type {\n",
       "        vertical-align: middle;\n",
       "    }\n",
       "\n",
       "    .dataframe tbody tr th {\n",
       "        vertical-align: top;\n",
       "    }\n",
       "\n",
       "    .dataframe thead th {\n",
       "        text-align: right;\n",
       "    }\n",
       "</style>\n",
       "<table border=\"1\" class=\"dataframe\">\n",
       "  <thead>\n",
       "    <tr style=\"text-align: right;\">\n",
       "      <th></th>\n",
       "      <th>level_0</th>\n",
       "      <th>거래량</th>\n",
       "      <th>2021</th>\n",
       "    </tr>\n",
       "  </thead>\n",
       "  <tbody>\n",
       "    <tr>\n",
       "      <th>0</th>\n",
       "      <td>2020_01</td>\n",
       "      <td>8876265.0</td>\n",
       "      <td>6</td>\n",
       "    </tr>\n",
       "    <tr>\n",
       "      <th>1</th>\n",
       "      <td>2021_01</td>\n",
       "      <td>6989360.0</td>\n",
       "      <td>6</td>\n",
       "    </tr>\n",
       "    <tr>\n",
       "      <th>2</th>\n",
       "      <td>2020_02</td>\n",
       "      <td>8566983.0</td>\n",
       "      <td>6</td>\n",
       "    </tr>\n",
       "    <tr>\n",
       "      <th>3</th>\n",
       "      <td>2021_02</td>\n",
       "      <td>5940539.0</td>\n",
       "      <td>6</td>\n",
       "    </tr>\n",
       "    <tr>\n",
       "      <th>4</th>\n",
       "      <td>2020_03</td>\n",
       "      <td>3799885.0</td>\n",
       "      <td>6</td>\n",
       "    </tr>\n",
       "    <tr>\n",
       "      <th>5</th>\n",
       "      <td>2021_03</td>\n",
       "      <td>3202171.0</td>\n",
       "      <td>6</td>\n",
       "    </tr>\n",
       "  </tbody>\n",
       "</table>\n",
       "</div>"
      ],
      "text/plain": [
       "   level_0        거래량  2021\n",
       "0  2020_01  8876265.0     6\n",
       "1  2021_01  6989360.0     6\n",
       "2  2020_02  8566983.0     6\n",
       "3  2021_02  5940539.0     6\n",
       "4  2020_03  3799885.0     6\n",
       "5  2021_03  3202171.0     6"
      ]
     },
     "execution_count": 64,
     "metadata": {},
     "output_type": "execute_result"
    }
   ],
   "source": [
    "result2"
   ]
  },
  {
   "cell_type": "code",
   "execution_count": 65,
   "metadata": {},
   "outputs": [],
   "source": [
    "result2.rename(index={'거래량':'2020'}, inplace=True) #컬럼명 변경"
   ]
  },
  {
   "cell_type": "code",
   "execution_count": 66,
   "metadata": {},
   "outputs": [],
   "source": [
    "# 1. Index 기반 접근방법 \n",
    "result2.at[0,'level_0'] = '1월'\n",
    "# 0행, 'level_0'컬럼 값을 1월로 변경"
   ]
  },
  {
   "cell_type": "code",
   "execution_count": 67,
   "metadata": {},
   "outputs": [],
   "source": [
    "\n",
    "result2.at[2,'2021'] = '23763436'"
   ]
  },
  {
   "cell_type": "code",
   "execution_count": 68,
   "metadata": {},
   "outputs": [],
   "source": [
    "result2.at[4,'2021'] = '6405142'"
   ]
  },
  {
   "cell_type": "code",
   "execution_count": 69,
   "metadata": {},
   "outputs": [
    {
     "data": {
      "text/html": [
       "<div>\n",
       "<style scoped>\n",
       "    .dataframe tbody tr th:only-of-type {\n",
       "        vertical-align: middle;\n",
       "    }\n",
       "\n",
       "    .dataframe tbody tr th {\n",
       "        vertical-align: top;\n",
       "    }\n",
       "\n",
       "    .dataframe thead th {\n",
       "        text-align: right;\n",
       "    }\n",
       "</style>\n",
       "<table border=\"1\" class=\"dataframe\">\n",
       "  <thead>\n",
       "    <tr style=\"text-align: right;\">\n",
       "      <th></th>\n",
       "      <th>level_0</th>\n",
       "      <th>거래량</th>\n",
       "      <th>2021</th>\n",
       "    </tr>\n",
       "  </thead>\n",
       "  <tbody>\n",
       "    <tr>\n",
       "      <th>0</th>\n",
       "      <td>1월</td>\n",
       "      <td>8876265.0</td>\n",
       "      <td>6</td>\n",
       "    </tr>\n",
       "    <tr>\n",
       "      <th>1</th>\n",
       "      <td>2021_01</td>\n",
       "      <td>6989360.0</td>\n",
       "      <td>6</td>\n",
       "    </tr>\n",
       "    <tr>\n",
       "      <th>2</th>\n",
       "      <td>2020_02</td>\n",
       "      <td>8566983.0</td>\n",
       "      <td>23763436</td>\n",
       "    </tr>\n",
       "    <tr>\n",
       "      <th>3</th>\n",
       "      <td>2021_02</td>\n",
       "      <td>5940539.0</td>\n",
       "      <td>6</td>\n",
       "    </tr>\n",
       "    <tr>\n",
       "      <th>4</th>\n",
       "      <td>2020_03</td>\n",
       "      <td>3799885.0</td>\n",
       "      <td>6405142</td>\n",
       "    </tr>\n",
       "    <tr>\n",
       "      <th>5</th>\n",
       "      <td>2021_03</td>\n",
       "      <td>3202171.0</td>\n",
       "      <td>6</td>\n",
       "    </tr>\n",
       "  </tbody>\n",
       "</table>\n",
       "</div>"
      ],
      "text/plain": [
       "   level_0        거래량      2021\n",
       "0       1월  8876265.0         6\n",
       "1  2021_01  6989360.0         6\n",
       "2  2020_02  8566983.0  23763436\n",
       "3  2021_02  5940539.0         6\n",
       "4  2020_03  3799885.0   6405142\n",
       "5  2021_03  3202171.0         6"
      ]
     },
     "execution_count": 69,
     "metadata": {},
     "output_type": "execute_result"
    }
   ],
   "source": [
    "result2"
   ]
  },
  {
   "cell_type": "code",
   "execution_count": 70,
   "metadata": {},
   "outputs": [],
   "source": [
    "result3 = result2.drop([1,3,5], axis=0)#필요없는 행 삭제"
   ]
  },
  {
   "cell_type": "code",
   "execution_count": 71,
   "metadata": {},
   "outputs": [
    {
     "data": {
      "text/html": [
       "<div>\n",
       "<style scoped>\n",
       "    .dataframe tbody tr th:only-of-type {\n",
       "        vertical-align: middle;\n",
       "    }\n",
       "\n",
       "    .dataframe tbody tr th {\n",
       "        vertical-align: top;\n",
       "    }\n",
       "\n",
       "    .dataframe thead th {\n",
       "        text-align: right;\n",
       "    }\n",
       "</style>\n",
       "<table border=\"1\" class=\"dataframe\">\n",
       "  <thead>\n",
       "    <tr style=\"text-align: right;\">\n",
       "      <th></th>\n",
       "      <th>level_0</th>\n",
       "      <th>거래량</th>\n",
       "      <th>2021</th>\n",
       "    </tr>\n",
       "  </thead>\n",
       "  <tbody>\n",
       "    <tr>\n",
       "      <th>0</th>\n",
       "      <td>1월</td>\n",
       "      <td>8876265.0</td>\n",
       "      <td>6</td>\n",
       "    </tr>\n",
       "    <tr>\n",
       "      <th>2</th>\n",
       "      <td>2020_02</td>\n",
       "      <td>8566983.0</td>\n",
       "      <td>23763436</td>\n",
       "    </tr>\n",
       "    <tr>\n",
       "      <th>4</th>\n",
       "      <td>2020_03</td>\n",
       "      <td>3799885.0</td>\n",
       "      <td>6405142</td>\n",
       "    </tr>\n",
       "  </tbody>\n",
       "</table>\n",
       "</div>"
      ],
      "text/plain": [
       "   level_0        거래량      2021\n",
       "0       1월  8876265.0         6\n",
       "2  2020_02  8566983.0  23763436\n",
       "4  2020_03  3799885.0   6405142"
      ]
     },
     "execution_count": 71,
     "metadata": {},
     "output_type": "execute_result"
    }
   ],
   "source": [
    "result3"
   ]
  },
  {
   "cell_type": "code",
   "execution_count": 72,
   "metadata": {},
   "outputs": [],
   "source": [
    "result3.at[2,'level_0'] = '2월'\n",
    "result3.at[4,'level_0'] = '3월'"
   ]
  },
  {
   "cell_type": "code",
   "execution_count": 73,
   "metadata": {},
   "outputs": [],
   "source": [
    "result3.columns=['month','2020','2021'] #컬럼명 변경"
   ]
  },
  {
   "cell_type": "code",
   "execution_count": 74,
   "metadata": {},
   "outputs": [],
   "source": [
    "result4 = result3.reset_index()\n",
    "result4.drop(['index'], axis=1, inplace=True)#필요없는 칼럼 삭제\n"
   ]
  },
  {
   "cell_type": "code",
   "execution_count": 75,
   "metadata": {},
   "outputs": [
    {
     "data": {
      "text/plain": [
       "month     object\n",
       "2020     float64\n",
       "2021       int64\n",
       "dtype: object"
      ]
     },
     "execution_count": 75,
     "metadata": {},
     "output_type": "execute_result"
    }
   ],
   "source": [
    "result4.dtypes#타입확인"
   ]
  },
  {
   "cell_type": "code",
   "execution_count": 76,
   "metadata": {},
   "outputs": [],
   "source": [
    "result4 = result4.astype({'2020':'int'})#2020컬럼 정수 처리"
   ]
  },
  {
   "cell_type": "code",
   "execution_count": 77,
   "metadata": {},
   "outputs": [
    {
     "data": {
      "text/html": [
       "<div>\n",
       "<style scoped>\n",
       "    .dataframe tbody tr th:only-of-type {\n",
       "        vertical-align: middle;\n",
       "    }\n",
       "\n",
       "    .dataframe tbody tr th {\n",
       "        vertical-align: top;\n",
       "    }\n",
       "\n",
       "    .dataframe thead th {\n",
       "        text-align: right;\n",
       "    }\n",
       "</style>\n",
       "<table border=\"1\" class=\"dataframe\">\n",
       "  <thead>\n",
       "    <tr style=\"text-align: right;\">\n",
       "      <th></th>\n",
       "      <th>month</th>\n",
       "      <th>2020</th>\n",
       "      <th>2021</th>\n",
       "    </tr>\n",
       "  </thead>\n",
       "  <tbody>\n",
       "    <tr>\n",
       "      <th>0</th>\n",
       "      <td>1월</td>\n",
       "      <td>8876265</td>\n",
       "      <td>6</td>\n",
       "    </tr>\n",
       "    <tr>\n",
       "      <th>1</th>\n",
       "      <td>2월</td>\n",
       "      <td>8566983</td>\n",
       "      <td>23763436</td>\n",
       "    </tr>\n",
       "    <tr>\n",
       "      <th>2</th>\n",
       "      <td>3월</td>\n",
       "      <td>3799885</td>\n",
       "      <td>6405142</td>\n",
       "    </tr>\n",
       "  </tbody>\n",
       "</table>\n",
       "</div>"
      ],
      "text/plain": [
       "  month     2020      2021\n",
       "0    1월  8876265         6\n",
       "1    2월  8566983  23763436\n",
       "2    3월  3799885   6405142"
      ]
     },
     "execution_count": 77,
     "metadata": {},
     "output_type": "execute_result"
    }
   ],
   "source": [
    "result4#산지별 거래량으로 실 거래량합계랑 차이가 있음"
   ]
  },
  {
   "cell_type": "markdown",
   "metadata": {},
   "source": [
    "### 거래량 총합 ###"
   ]
  },
  {
   "cell_type": "code",
   "execution_count": 78,
   "metadata": {},
   "outputs": [
    {
     "data": {
      "text/plain": [
       "9114615"
      ]
     },
     "execution_count": 78,
     "metadata": {},
     "output_type": "execute_result"
    }
   ],
   "source": [
    "sum1 = Jan20['거래량'].sum()\n",
    "sum1"
   ]
  },
  {
   "cell_type": "code",
   "execution_count": 79,
   "metadata": {},
   "outputs": [
    {
     "data": {
      "text/plain": [
       "7197294"
      ]
     },
     "execution_count": 79,
     "metadata": {},
     "output_type": "execute_result"
    }
   ],
   "source": [
    "sum2 = Jan21['거래량'].sum()\n",
    "sum2"
   ]
  },
  {
   "cell_type": "code",
   "execution_count": 80,
   "metadata": {},
   "outputs": [
    {
     "data": {
      "text/plain": [
       "8712647"
      ]
     },
     "execution_count": 80,
     "metadata": {},
     "output_type": "execute_result"
    }
   ],
   "source": [
    "sum3 = Feb20['거래량'].sum()\n",
    "sum3"
   ]
  },
  {
   "cell_type": "code",
   "execution_count": 81,
   "metadata": {},
   "outputs": [
    {
     "data": {
      "text/plain": [
       "6149395"
      ]
     },
     "execution_count": 81,
     "metadata": {},
     "output_type": "execute_result"
    }
   ],
   "source": [
    "sum4 = Feb21['거래량'].sum()\n",
    "sum4"
   ]
  },
  {
   "cell_type": "code",
   "execution_count": 82,
   "metadata": {},
   "outputs": [
    {
     "data": {
      "text/plain": [
       "3872972"
      ]
     },
     "execution_count": 82,
     "metadata": {},
     "output_type": "execute_result"
    }
   ],
   "source": [
    "sum5 = Mar20['거래량'].sum()\n",
    "sum5"
   ]
  },
  {
   "cell_type": "code",
   "execution_count": 83,
   "metadata": {},
   "outputs": [
    {
     "data": {
      "text/plain": [
       "3300430"
      ]
     },
     "execution_count": 83,
     "metadata": {},
     "output_type": "execute_result"
    }
   ],
   "source": [
    "sum6 = Mar21['거래량'].sum()\n",
    "sum6"
   ]
  },
  {
   "cell_type": "code",
   "execution_count": 88,
   "metadata": {},
   "outputs": [
    {
     "data": {
      "text/html": [
       "<div>\n",
       "<style scoped>\n",
       "    .dataframe tbody tr th:only-of-type {\n",
       "        vertical-align: middle;\n",
       "    }\n",
       "\n",
       "    .dataframe tbody tr th {\n",
       "        vertical-align: top;\n",
       "    }\n",
       "\n",
       "    .dataframe thead th {\n",
       "        text-align: right;\n",
       "    }\n",
       "</style>\n",
       "<table border=\"1\" class=\"dataframe\">\n",
       "  <thead>\n",
       "    <tr style=\"text-align: right;\">\n",
       "      <th></th>\n",
       "      <th>month</th>\n",
       "      <th>2020</th>\n",
       "      <th>2021</th>\n",
       "    </tr>\n",
       "  </thead>\n",
       "  <tbody>\n",
       "    <tr>\n",
       "      <th>0</th>\n",
       "      <td>1월</td>\n",
       "      <td>9114615</td>\n",
       "      <td>7197294</td>\n",
       "    </tr>\n",
       "    <tr>\n",
       "      <th>1</th>\n",
       "      <td>2월</td>\n",
       "      <td>8712647</td>\n",
       "      <td>6149395</td>\n",
       "    </tr>\n",
       "    <tr>\n",
       "      <th>2</th>\n",
       "      <td>3월</td>\n",
       "      <td>3872972</td>\n",
       "      <td>3300430</td>\n",
       "    </tr>\n",
       "  </tbody>\n",
       "</table>\n",
       "</div>"
      ],
      "text/plain": [
       "  month     2020     2021\n",
       "0    1월  9114615  7197294\n",
       "1    2월  8712647  6149395\n",
       "2    3월  3872972  3300430"
      ]
     },
     "execution_count": 88,
     "metadata": {},
     "output_type": "execute_result"
    }
   ],
   "source": [
    "result4.at[0,'2020'] = '9114615'\n",
    "result4.at[0,'2021'] = '7197294'\n",
    "result4.at[1,'2020'] = '8712647'\n",
    "result4.at[1,'2021'] = '6149395'\n",
    "result4.at[2,'2020'] = '3872972'\n",
    "result4.at[2,'2021'] = '3300430'\n",
    "\n",
    "result4"
   ]
  },
  {
   "cell_type": "markdown",
   "metadata": {},
   "source": [
    "### 연도별 1~3월 산지별 거래량 합계 전처리 ### "
   ]
  },
  {
   "cell_type": "code",
   "execution_count": 90,
   "metadata": {},
   "outputs": [],
   "source": [
    "#인덱스, 산지명 제외\n",
    "result.drop(['index','산지명'], axis=1, inplace=True)"
   ]
  },
  {
   "cell_type": "code",
   "execution_count": 91,
   "metadata": {
    "scrolled": true
   },
   "outputs": [
    {
     "data": {
      "text/html": [
       "<div>\n",
       "<style scoped>\n",
       "    .dataframe tbody tr th:only-of-type {\n",
       "        vertical-align: middle;\n",
       "    }\n",
       "\n",
       "    .dataframe tbody tr th {\n",
       "        vertical-align: top;\n",
       "    }\n",
       "\n",
       "    .dataframe thead th {\n",
       "        text-align: right;\n",
       "    }\n",
       "</style>\n",
       "<table border=\"1\" class=\"dataframe\">\n",
       "  <thead>\n",
       "    <tr style=\"text-align: right;\">\n",
       "      <th></th>\n",
       "      <th>산지명</th>\n",
       "      <th>거래량</th>\n",
       "    </tr>\n",
       "  </thead>\n",
       "  <tbody>\n",
       "    <tr>\n",
       "      <th>0</th>\n",
       "      <td>강원도</td>\n",
       "      <td>200</td>\n",
       "    </tr>\n",
       "    <tr>\n",
       "      <th>1</th>\n",
       "      <td>강원도 강릉시</td>\n",
       "      <td>52798</td>\n",
       "    </tr>\n",
       "    <tr>\n",
       "      <th>2</th>\n",
       "      <td>강원도 고성군</td>\n",
       "      <td>17</td>\n",
       "    </tr>\n",
       "    <tr>\n",
       "      <th>3</th>\n",
       "      <td>강원도 동해시</td>\n",
       "      <td>1210</td>\n",
       "    </tr>\n",
       "    <tr>\n",
       "      <th>4</th>\n",
       "      <td>강원도 양양군</td>\n",
       "      <td>118410</td>\n",
       "    </tr>\n",
       "    <tr>\n",
       "      <th>...</th>\n",
       "      <td>...</td>\n",
       "      <td>...</td>\n",
       "    </tr>\n",
       "    <tr>\n",
       "      <th>127</th>\n",
       "      <td>충청북도 영동군</td>\n",
       "      <td>2003</td>\n",
       "    </tr>\n",
       "    <tr>\n",
       "      <th>128</th>\n",
       "      <td>충청북도 제천시</td>\n",
       "      <td>7563</td>\n",
       "    </tr>\n",
       "    <tr>\n",
       "      <th>129</th>\n",
       "      <td>충청북도 증평군</td>\n",
       "      <td>1640</td>\n",
       "    </tr>\n",
       "    <tr>\n",
       "      <th>130</th>\n",
       "      <td>충청북도 청주시</td>\n",
       "      <td>228302</td>\n",
       "    </tr>\n",
       "    <tr>\n",
       "      <th>131</th>\n",
       "      <td>충청북도 충주시</td>\n",
       "      <td>113297</td>\n",
       "    </tr>\n",
       "  </tbody>\n",
       "</table>\n",
       "<p>132 rows × 2 columns</p>\n",
       "</div>"
      ],
      "text/plain": [
       "          산지명     거래량\n",
       "0         강원도     200\n",
       "1     강원도 강릉시   52798\n",
       "2     강원도 고성군      17\n",
       "3     강원도 동해시    1210\n",
       "4     강원도 양양군  118410\n",
       "..        ...     ...\n",
       "127  충청북도 영동군    2003\n",
       "128  충청북도 제천시    7563\n",
       "129  충청북도 증평군    1640\n",
       "130  충청북도 청주시  228302\n",
       "131  충청북도 충주시  113297\n",
       "\n",
       "[132 rows x 2 columns]"
      ]
     },
     "execution_count": 91,
     "metadata": {},
     "output_type": "execute_result"
    }
   ],
   "source": [
    "sum_trading_volume2 = Jan21.groupby(Jan21['산지명'])['거래량'].sum().reset_index()\n",
    "#2020 1월 산지 별 거래량 합계\n",
    "sum_trading_volume2"
   ]
  },
  {
   "cell_type": "code",
   "execution_count": 92,
   "metadata": {},
   "outputs": [
    {
     "data": {
      "text/html": [
       "<div>\n",
       "<style scoped>\n",
       "    .dataframe tbody tr th:only-of-type {\n",
       "        vertical-align: middle;\n",
       "    }\n",
       "\n",
       "    .dataframe tbody tr th {\n",
       "        vertical-align: top;\n",
       "    }\n",
       "\n",
       "    .dataframe thead th {\n",
       "        text-align: right;\n",
       "    }\n",
       "</style>\n",
       "<table border=\"1\" class=\"dataframe\">\n",
       "  <thead>\n",
       "    <tr style=\"text-align: right;\">\n",
       "      <th></th>\n",
       "      <th>index</th>\n",
       "      <th>산지명</th>\n",
       "      <th>거래량</th>\n",
       "    </tr>\n",
       "  </thead>\n",
       "  <tbody>\n",
       "    <tr>\n",
       "      <th>0</th>\n",
       "      <td>98</td>\n",
       "      <td>전라남도 진도군</td>\n",
       "      <td>1871637</td>\n",
       "    </tr>\n",
       "    <tr>\n",
       "      <th>1</th>\n",
       "      <td>91</td>\n",
       "      <td>전라남도 신안군</td>\n",
       "      <td>1450623</td>\n",
       "    </tr>\n",
       "    <tr>\n",
       "      <th>2</th>\n",
       "      <td>63</td>\n",
       "      <td>부산광역시</td>\n",
       "      <td>329887</td>\n",
       "    </tr>\n",
       "    <tr>\n",
       "      <th>3</th>\n",
       "      <td>14</td>\n",
       "      <td>경기도 구리시</td>\n",
       "      <td>326826</td>\n",
       "    </tr>\n",
       "    <tr>\n",
       "      <th>4</th>\n",
       "      <td>130</td>\n",
       "      <td>충청북도 청주시</td>\n",
       "      <td>228302</td>\n",
       "    </tr>\n",
       "    <tr>\n",
       "      <th>...</th>\n",
       "      <td>...</td>\n",
       "      <td>...</td>\n",
       "      <td>...</td>\n",
       "    </tr>\n",
       "    <tr>\n",
       "      <th>127</th>\n",
       "      <td>62</td>\n",
       "      <td>대전광역시 중구</td>\n",
       "      <td>40</td>\n",
       "    </tr>\n",
       "    <tr>\n",
       "      <th>128</th>\n",
       "      <td>11</td>\n",
       "      <td>경기도</td>\n",
       "      <td>30</td>\n",
       "    </tr>\n",
       "    <tr>\n",
       "      <th>129</th>\n",
       "      <td>109</td>\n",
       "      <td>전라북도 정읍시</td>\n",
       "      <td>22</td>\n",
       "    </tr>\n",
       "    <tr>\n",
       "      <th>130</th>\n",
       "      <td>119</td>\n",
       "      <td>충청남도 서천군</td>\n",
       "      <td>18</td>\n",
       "    </tr>\n",
       "    <tr>\n",
       "      <th>131</th>\n",
       "      <td>2</td>\n",
       "      <td>강원도 고성군</td>\n",
       "      <td>17</td>\n",
       "    </tr>\n",
       "  </tbody>\n",
       "</table>\n",
       "<p>132 rows × 3 columns</p>\n",
       "</div>"
      ],
      "text/plain": [
       "     index       산지명      거래량\n",
       "0       98  전라남도 진도군  1871637\n",
       "1       91  전라남도 신안군  1450623\n",
       "2       63     부산광역시   329887\n",
       "3       14   경기도 구리시   326826\n",
       "4      130  충청북도 청주시   228302\n",
       "..     ...       ...      ...\n",
       "127     62  대전광역시 중구       40\n",
       "128     11       경기도       30\n",
       "129    109  전라북도 정읍시       22\n",
       "130    119  충청남도 서천군       18\n",
       "131      2   강원도 고성군       17\n",
       "\n",
       "[132 rows x 3 columns]"
      ]
     },
     "execution_count": 92,
     "metadata": {},
     "output_type": "execute_result"
    }
   ],
   "source": [
    "asc_df_MTV2 = sum_trading_volume2.sort_values('거래량', ascending=False).reset_index()\n",
    "asc_df_MTV2"
   ]
  },
  {
   "cell_type": "code",
   "execution_count": 93,
   "metadata": {
    "scrolled": true
   },
   "outputs": [
    {
     "data": {
      "text/plain": [
       "index                                                 8646\n",
       "산지명      전라남도 진도군전라남도 신안군부산광역시경기도 구리시충청북도 청주시부산광역시 중구경상...\n",
       "거래량                                                6989360\n",
       "dtype: object"
      ]
     },
     "execution_count": 93,
     "metadata": {},
     "output_type": "execute_result"
    }
   ],
   "source": [
    "asc_df_MTV2.sum()"
   ]
  },
  {
   "cell_type": "code",
   "execution_count": 94,
   "metadata": {},
   "outputs": [],
   "source": [
    "asc_df_MTV2.loc[\"Total\", :] = asc_df_MTV2.sum()"
   ]
  },
  {
   "cell_type": "code",
   "execution_count": 95,
   "metadata": {},
   "outputs": [
    {
     "data": {
      "text/html": [
       "<div>\n",
       "<style scoped>\n",
       "    .dataframe tbody tr th:only-of-type {\n",
       "        vertical-align: middle;\n",
       "    }\n",
       "\n",
       "    .dataframe tbody tr th {\n",
       "        vertical-align: top;\n",
       "    }\n",
       "\n",
       "    .dataframe thead th {\n",
       "        text-align: right;\n",
       "    }\n",
       "</style>\n",
       "<table border=\"1\" class=\"dataframe\">\n",
       "  <thead>\n",
       "    <tr style=\"text-align: right;\">\n",
       "      <th></th>\n",
       "      <th>index</th>\n",
       "      <th>산지명</th>\n",
       "      <th>거래량</th>\n",
       "    </tr>\n",
       "  </thead>\n",
       "  <tbody>\n",
       "    <tr>\n",
       "      <th>0</th>\n",
       "      <td>98.0</td>\n",
       "      <td>전라남도 진도군</td>\n",
       "      <td>1871637.0</td>\n",
       "    </tr>\n",
       "    <tr>\n",
       "      <th>1</th>\n",
       "      <td>91.0</td>\n",
       "      <td>전라남도 신안군</td>\n",
       "      <td>1450623.0</td>\n",
       "    </tr>\n",
       "    <tr>\n",
       "      <th>2</th>\n",
       "      <td>63.0</td>\n",
       "      <td>부산광역시</td>\n",
       "      <td>329887.0</td>\n",
       "    </tr>\n",
       "    <tr>\n",
       "      <th>3</th>\n",
       "      <td>14.0</td>\n",
       "      <td>경기도 구리시</td>\n",
       "      <td>326826.0</td>\n",
       "    </tr>\n",
       "    <tr>\n",
       "      <th>4</th>\n",
       "      <td>130.0</td>\n",
       "      <td>충청북도 청주시</td>\n",
       "      <td>228302.0</td>\n",
       "    </tr>\n",
       "    <tr>\n",
       "      <th>...</th>\n",
       "      <td>...</td>\n",
       "      <td>...</td>\n",
       "      <td>...</td>\n",
       "    </tr>\n",
       "    <tr>\n",
       "      <th>128</th>\n",
       "      <td>11.0</td>\n",
       "      <td>경기도</td>\n",
       "      <td>30.0</td>\n",
       "    </tr>\n",
       "    <tr>\n",
       "      <th>129</th>\n",
       "      <td>109.0</td>\n",
       "      <td>전라북도 정읍시</td>\n",
       "      <td>22.0</td>\n",
       "    </tr>\n",
       "    <tr>\n",
       "      <th>130</th>\n",
       "      <td>119.0</td>\n",
       "      <td>충청남도 서천군</td>\n",
       "      <td>18.0</td>\n",
       "    </tr>\n",
       "    <tr>\n",
       "      <th>131</th>\n",
       "      <td>2.0</td>\n",
       "      <td>강원도 고성군</td>\n",
       "      <td>17.0</td>\n",
       "    </tr>\n",
       "    <tr>\n",
       "      <th>Total</th>\n",
       "      <td>8646.0</td>\n",
       "      <td>전라남도 진도군전라남도 신안군부산광역시경기도 구리시충청북도 청주시부산광역시 중구경상...</td>\n",
       "      <td>6989360.0</td>\n",
       "    </tr>\n",
       "  </tbody>\n",
       "</table>\n",
       "<p>133 rows × 3 columns</p>\n",
       "</div>"
      ],
      "text/plain": [
       "        index                                                산지명        거래량\n",
       "0        98.0                                           전라남도 진도군  1871637.0\n",
       "1        91.0                                           전라남도 신안군  1450623.0\n",
       "2        63.0                                              부산광역시   329887.0\n",
       "3        14.0                                            경기도 구리시   326826.0\n",
       "4       130.0                                           충청북도 청주시   228302.0\n",
       "...       ...                                                ...        ...\n",
       "128      11.0                                                경기도       30.0\n",
       "129     109.0                                           전라북도 정읍시       22.0\n",
       "130     119.0                                           충청남도 서천군       18.0\n",
       "131       2.0                                            강원도 고성군       17.0\n",
       "Total  8646.0  전라남도 진도군전라남도 신안군부산광역시경기도 구리시충청북도 청주시부산광역시 중구경상...  6989360.0\n",
       "\n",
       "[133 rows x 3 columns]"
      ]
     },
     "execution_count": 95,
     "metadata": {},
     "output_type": "execute_result"
    }
   ],
   "source": [
    "asc_df_MTV2"
   ]
  },
  {
   "cell_type": "code",
   "execution_count": 96,
   "metadata": {
    "scrolled": true
   },
   "outputs": [
    {
     "data": {
      "text/html": [
       "<div>\n",
       "<style scoped>\n",
       "    .dataframe tbody tr th:only-of-type {\n",
       "        vertical-align: middle;\n",
       "    }\n",
       "\n",
       "    .dataframe tbody tr th {\n",
       "        vertical-align: top;\n",
       "    }\n",
       "\n",
       "    .dataframe thead th {\n",
       "        text-align: right;\n",
       "    }\n",
       "</style>\n",
       "<table border=\"1\" class=\"dataframe\">\n",
       "  <thead>\n",
       "    <tr style=\"text-align: right;\">\n",
       "      <th></th>\n",
       "      <th>산지명</th>\n",
       "      <th>거래량</th>\n",
       "    </tr>\n",
       "  </thead>\n",
       "  <tbody>\n",
       "    <tr>\n",
       "      <th>0</th>\n",
       "      <td>강원도 강릉시</td>\n",
       "      <td>47573</td>\n",
       "    </tr>\n",
       "    <tr>\n",
       "      <th>1</th>\n",
       "      <td>강원도 고성군</td>\n",
       "      <td>862</td>\n",
       "    </tr>\n",
       "    <tr>\n",
       "      <th>2</th>\n",
       "      <td>강원도 동해시</td>\n",
       "      <td>8330</td>\n",
       "    </tr>\n",
       "    <tr>\n",
       "      <th>3</th>\n",
       "      <td>강원도 원주시</td>\n",
       "      <td>5437</td>\n",
       "    </tr>\n",
       "    <tr>\n",
       "      <th>4</th>\n",
       "      <td>강원도 인제군</td>\n",
       "      <td>64065</td>\n",
       "    </tr>\n",
       "    <tr>\n",
       "      <th>...</th>\n",
       "      <td>...</td>\n",
       "      <td>...</td>\n",
       "    </tr>\n",
       "    <tr>\n",
       "      <th>137</th>\n",
       "      <td>충청북도 옥천군</td>\n",
       "      <td>511</td>\n",
       "    </tr>\n",
       "    <tr>\n",
       "      <th>138</th>\n",
       "      <td>충청북도 제천시</td>\n",
       "      <td>20793</td>\n",
       "    </tr>\n",
       "    <tr>\n",
       "      <th>139</th>\n",
       "      <td>충청북도 진천군</td>\n",
       "      <td>58</td>\n",
       "    </tr>\n",
       "    <tr>\n",
       "      <th>140</th>\n",
       "      <td>충청북도 청주시</td>\n",
       "      <td>188988</td>\n",
       "    </tr>\n",
       "    <tr>\n",
       "      <th>141</th>\n",
       "      <td>충청북도 충주시</td>\n",
       "      <td>52762</td>\n",
       "    </tr>\n",
       "  </tbody>\n",
       "</table>\n",
       "<p>142 rows × 2 columns</p>\n",
       "</div>"
      ],
      "text/plain": [
       "          산지명     거래량\n",
       "0     강원도 강릉시   47573\n",
       "1     강원도 고성군     862\n",
       "2     강원도 동해시    8330\n",
       "3     강원도 원주시    5437\n",
       "4     강원도 인제군   64065\n",
       "..        ...     ...\n",
       "137  충청북도 옥천군     511\n",
       "138  충청북도 제천시   20793\n",
       "139  충청북도 진천군      58\n",
       "140  충청북도 청주시  188988\n",
       "141  충청북도 충주시   52762\n",
       "\n",
       "[142 rows x 2 columns]"
      ]
     },
     "execution_count": 96,
     "metadata": {},
     "output_type": "execute_result"
    }
   ],
   "source": [
    "sum_trading_volume3 = Feb20.groupby(Feb20['산지명'])['거래량'].sum().reset_index()\n",
    "sum_trading_volume3"
   ]
  },
  {
   "cell_type": "code",
   "execution_count": 97,
   "metadata": {
    "scrolled": true
   },
   "outputs": [
    {
     "data": {
      "text/html": [
       "<div>\n",
       "<style scoped>\n",
       "    .dataframe tbody tr th:only-of-type {\n",
       "        vertical-align: middle;\n",
       "    }\n",
       "\n",
       "    .dataframe tbody tr th {\n",
       "        vertical-align: top;\n",
       "    }\n",
       "\n",
       "    .dataframe thead th {\n",
       "        text-align: right;\n",
       "    }\n",
       "</style>\n",
       "<table border=\"1\" class=\"dataframe\">\n",
       "  <thead>\n",
       "    <tr style=\"text-align: right;\">\n",
       "      <th></th>\n",
       "      <th>index</th>\n",
       "      <th>산지명</th>\n",
       "      <th>거래량</th>\n",
       "    </tr>\n",
       "  </thead>\n",
       "  <tbody>\n",
       "    <tr>\n",
       "      <th>0</th>\n",
       "      <td>104</td>\n",
       "      <td>전라남도 진도군</td>\n",
       "      <td>2107991</td>\n",
       "    </tr>\n",
       "    <tr>\n",
       "      <th>1</th>\n",
       "      <td>99</td>\n",
       "      <td>전라남도 신안군</td>\n",
       "      <td>1820322</td>\n",
       "    </tr>\n",
       "    <tr>\n",
       "      <th>2</th>\n",
       "      <td>10</td>\n",
       "      <td>경기도 구리시</td>\n",
       "      <td>434842</td>\n",
       "    </tr>\n",
       "    <tr>\n",
       "      <th>3</th>\n",
       "      <td>66</td>\n",
       "      <td>부산광역시</td>\n",
       "      <td>375417</td>\n",
       "    </tr>\n",
       "    <tr>\n",
       "      <th>4</th>\n",
       "      <td>67</td>\n",
       "      <td>부산광역시 강서구</td>\n",
       "      <td>228587</td>\n",
       "    </tr>\n",
       "    <tr>\n",
       "      <th>...</th>\n",
       "      <td>...</td>\n",
       "      <td>...</td>\n",
       "      <td>...</td>\n",
       "    </tr>\n",
       "    <tr>\n",
       "      <th>137</th>\n",
       "      <td>117</td>\n",
       "      <td>제주특별자치도</td>\n",
       "      <td>30</td>\n",
       "    </tr>\n",
       "    <tr>\n",
       "      <th>138</th>\n",
       "      <td>62</td>\n",
       "      <td>대구광역시 서구</td>\n",
       "      <td>25</td>\n",
       "    </tr>\n",
       "    <tr>\n",
       "      <th>139</th>\n",
       "      <td>28</td>\n",
       "      <td>경상남도 거창군</td>\n",
       "      <td>20</td>\n",
       "    </tr>\n",
       "    <tr>\n",
       "      <th>140</th>\n",
       "      <td>52</td>\n",
       "      <td>경상북도 의성군</td>\n",
       "      <td>17</td>\n",
       "    </tr>\n",
       "    <tr>\n",
       "      <th>141</th>\n",
       "      <td>29</td>\n",
       "      <td>경상남도 고성군</td>\n",
       "      <td>5</td>\n",
       "    </tr>\n",
       "  </tbody>\n",
       "</table>\n",
       "<p>142 rows × 3 columns</p>\n",
       "</div>"
      ],
      "text/plain": [
       "     index        산지명      거래량\n",
       "0      104   전라남도 진도군  2107991\n",
       "1       99   전라남도 신안군  1820322\n",
       "2       10    경기도 구리시   434842\n",
       "3       66      부산광역시   375417\n",
       "4       67  부산광역시 강서구   228587\n",
       "..     ...        ...      ...\n",
       "137    117    제주특별자치도       30\n",
       "138     62   대구광역시 서구       25\n",
       "139     28   경상남도 거창군       20\n",
       "140     52   경상북도 의성군       17\n",
       "141     29   경상남도 고성군        5\n",
       "\n",
       "[142 rows x 3 columns]"
      ]
     },
     "execution_count": 97,
     "metadata": {},
     "output_type": "execute_result"
    }
   ],
   "source": [
    "asc_df_MTV3 = sum_trading_volume3.sort_values('거래량', ascending=False).reset_index()\n",
    "asc_df_MTV3"
   ]
  },
  {
   "cell_type": "code",
   "execution_count": 98,
   "metadata": {},
   "outputs": [
    {
     "data": {
      "text/plain": [
       "index                                                10011\n",
       "산지명      전라남도 진도군전라남도 신안군경기도 구리시부산광역시부산광역시 강서구충청북도 청주시전...\n",
       "거래량                                                8566983\n",
       "dtype: object"
      ]
     },
     "execution_count": 98,
     "metadata": {},
     "output_type": "execute_result"
    }
   ],
   "source": [
    "asc_df_MTV3.sum()"
   ]
  },
  {
   "cell_type": "code",
   "execution_count": 99,
   "metadata": {},
   "outputs": [],
   "source": [
    "asc_df_MTV3.loc[\"Total\", :] = asc_df_MTV3.sum()"
   ]
  },
  {
   "cell_type": "code",
   "execution_count": 100,
   "metadata": {},
   "outputs": [
    {
     "data": {
      "text/html": [
       "<div>\n",
       "<style scoped>\n",
       "    .dataframe tbody tr th:only-of-type {\n",
       "        vertical-align: middle;\n",
       "    }\n",
       "\n",
       "    .dataframe tbody tr th {\n",
       "        vertical-align: top;\n",
       "    }\n",
       "\n",
       "    .dataframe thead th {\n",
       "        text-align: right;\n",
       "    }\n",
       "</style>\n",
       "<table border=\"1\" class=\"dataframe\">\n",
       "  <thead>\n",
       "    <tr style=\"text-align: right;\">\n",
       "      <th></th>\n",
       "      <th>index</th>\n",
       "      <th>산지명</th>\n",
       "      <th>거래량</th>\n",
       "    </tr>\n",
       "  </thead>\n",
       "  <tbody>\n",
       "    <tr>\n",
       "      <th>0</th>\n",
       "      <td>104.0</td>\n",
       "      <td>전라남도 진도군</td>\n",
       "      <td>2107991.0</td>\n",
       "    </tr>\n",
       "    <tr>\n",
       "      <th>1</th>\n",
       "      <td>99.0</td>\n",
       "      <td>전라남도 신안군</td>\n",
       "      <td>1820322.0</td>\n",
       "    </tr>\n",
       "    <tr>\n",
       "      <th>2</th>\n",
       "      <td>10.0</td>\n",
       "      <td>경기도 구리시</td>\n",
       "      <td>434842.0</td>\n",
       "    </tr>\n",
       "    <tr>\n",
       "      <th>3</th>\n",
       "      <td>66.0</td>\n",
       "      <td>부산광역시</td>\n",
       "      <td>375417.0</td>\n",
       "    </tr>\n",
       "    <tr>\n",
       "      <th>4</th>\n",
       "      <td>67.0</td>\n",
       "      <td>부산광역시 강서구</td>\n",
       "      <td>228587.0</td>\n",
       "    </tr>\n",
       "    <tr>\n",
       "      <th>...</th>\n",
       "      <td>...</td>\n",
       "      <td>...</td>\n",
       "      <td>...</td>\n",
       "    </tr>\n",
       "    <tr>\n",
       "      <th>138</th>\n",
       "      <td>62.0</td>\n",
       "      <td>대구광역시 서구</td>\n",
       "      <td>25.0</td>\n",
       "    </tr>\n",
       "    <tr>\n",
       "      <th>139</th>\n",
       "      <td>28.0</td>\n",
       "      <td>경상남도 거창군</td>\n",
       "      <td>20.0</td>\n",
       "    </tr>\n",
       "    <tr>\n",
       "      <th>140</th>\n",
       "      <td>52.0</td>\n",
       "      <td>경상북도 의성군</td>\n",
       "      <td>17.0</td>\n",
       "    </tr>\n",
       "    <tr>\n",
       "      <th>141</th>\n",
       "      <td>29.0</td>\n",
       "      <td>경상남도 고성군</td>\n",
       "      <td>5.0</td>\n",
       "    </tr>\n",
       "    <tr>\n",
       "      <th>Total</th>\n",
       "      <td>10011.0</td>\n",
       "      <td>전라남도 진도군전라남도 신안군경기도 구리시부산광역시부산광역시 강서구충청북도 청주시전...</td>\n",
       "      <td>8566983.0</td>\n",
       "    </tr>\n",
       "  </tbody>\n",
       "</table>\n",
       "<p>143 rows × 3 columns</p>\n",
       "</div>"
      ],
      "text/plain": [
       "         index                                                산지명        거래량\n",
       "0        104.0                                           전라남도 진도군  2107991.0\n",
       "1         99.0                                           전라남도 신안군  1820322.0\n",
       "2         10.0                                            경기도 구리시   434842.0\n",
       "3         66.0                                              부산광역시   375417.0\n",
       "4         67.0                                          부산광역시 강서구   228587.0\n",
       "...        ...                                                ...        ...\n",
       "138       62.0                                           대구광역시 서구       25.0\n",
       "139       28.0                                           경상남도 거창군       20.0\n",
       "140       52.0                                           경상북도 의성군       17.0\n",
       "141       29.0                                           경상남도 고성군        5.0\n",
       "Total  10011.0  전라남도 진도군전라남도 신안군경기도 구리시부산광역시부산광역시 강서구충청북도 청주시전...  8566983.0\n",
       "\n",
       "[143 rows x 3 columns]"
      ]
     },
     "execution_count": 100,
     "metadata": {},
     "output_type": "execute_result"
    }
   ],
   "source": [
    "asc_df_MTV3"
   ]
  },
  {
   "cell_type": "code",
   "execution_count": 101,
   "metadata": {},
   "outputs": [
    {
     "data": {
      "text/html": [
       "<div>\n",
       "<style scoped>\n",
       "    .dataframe tbody tr th:only-of-type {\n",
       "        vertical-align: middle;\n",
       "    }\n",
       "\n",
       "    .dataframe tbody tr th {\n",
       "        vertical-align: top;\n",
       "    }\n",
       "\n",
       "    .dataframe thead th {\n",
       "        text-align: right;\n",
       "    }\n",
       "</style>\n",
       "<table border=\"1\" class=\"dataframe\">\n",
       "  <thead>\n",
       "    <tr style=\"text-align: right;\">\n",
       "      <th></th>\n",
       "      <th>산지명</th>\n",
       "      <th>거래량</th>\n",
       "    </tr>\n",
       "  </thead>\n",
       "  <tbody>\n",
       "    <tr>\n",
       "      <th>0</th>\n",
       "      <td>강원도 강릉시</td>\n",
       "      <td>48290</td>\n",
       "    </tr>\n",
       "    <tr>\n",
       "      <th>1</th>\n",
       "      <td>강원도 양양군</td>\n",
       "      <td>99990</td>\n",
       "    </tr>\n",
       "    <tr>\n",
       "      <th>2</th>\n",
       "      <td>강원도 원주시</td>\n",
       "      <td>3131</td>\n",
       "    </tr>\n",
       "    <tr>\n",
       "      <th>3</th>\n",
       "      <td>강원도 인제군</td>\n",
       "      <td>9282</td>\n",
       "    </tr>\n",
       "    <tr>\n",
       "      <th>4</th>\n",
       "      <td>강원도 정선군</td>\n",
       "      <td>4630</td>\n",
       "    </tr>\n",
       "    <tr>\n",
       "      <th>...</th>\n",
       "      <td>...</td>\n",
       "      <td>...</td>\n",
       "    </tr>\n",
       "    <tr>\n",
       "      <th>116</th>\n",
       "      <td>충청북도 옥천군</td>\n",
       "      <td>3</td>\n",
       "    </tr>\n",
       "    <tr>\n",
       "      <th>117</th>\n",
       "      <td>충청북도 음성군</td>\n",
       "      <td>36</td>\n",
       "    </tr>\n",
       "    <tr>\n",
       "      <th>118</th>\n",
       "      <td>충청북도 제천시</td>\n",
       "      <td>3246</td>\n",
       "    </tr>\n",
       "    <tr>\n",
       "      <th>119</th>\n",
       "      <td>충청북도 청주시</td>\n",
       "      <td>101837</td>\n",
       "    </tr>\n",
       "    <tr>\n",
       "      <th>120</th>\n",
       "      <td>충청북도 충주시</td>\n",
       "      <td>48628</td>\n",
       "    </tr>\n",
       "  </tbody>\n",
       "</table>\n",
       "<p>121 rows × 2 columns</p>\n",
       "</div>"
      ],
      "text/plain": [
       "          산지명     거래량\n",
       "0     강원도 강릉시   48290\n",
       "1     강원도 양양군   99990\n",
       "2     강원도 원주시    3131\n",
       "3     강원도 인제군    9282\n",
       "4     강원도 정선군    4630\n",
       "..        ...     ...\n",
       "116  충청북도 옥천군       3\n",
       "117  충청북도 음성군      36\n",
       "118  충청북도 제천시    3246\n",
       "119  충청북도 청주시  101837\n",
       "120  충청북도 충주시   48628\n",
       "\n",
       "[121 rows x 2 columns]"
      ]
     },
     "execution_count": 101,
     "metadata": {},
     "output_type": "execute_result"
    }
   ],
   "source": [
    "sum_trading_volume4 = Feb21.groupby(Feb21['산지명'])['거래량'].sum().reset_index()\n",
    "sum_trading_volume4"
   ]
  },
  {
   "cell_type": "code",
   "execution_count": 102,
   "metadata": {},
   "outputs": [
    {
     "data": {
      "text/plain": [
       "index                                              14520.0\n",
       "산지명      전라남도 신안군전라남도 진도군부산광역시경기도 구리시경상남도 김해시부산광역시 중구경기...\n",
       "거래량                                             11881078.0\n",
       "dtype: object"
      ]
     },
     "execution_count": 102,
     "metadata": {},
     "output_type": "execute_result"
    }
   ],
   "source": [
    "asc_df_MTV4.sum()"
   ]
  },
  {
   "cell_type": "code",
   "execution_count": 103,
   "metadata": {},
   "outputs": [
    {
     "data": {
      "text/html": [
       "<div>\n",
       "<style scoped>\n",
       "    .dataframe tbody tr th:only-of-type {\n",
       "        vertical-align: middle;\n",
       "    }\n",
       "\n",
       "    .dataframe tbody tr th {\n",
       "        vertical-align: top;\n",
       "    }\n",
       "\n",
       "    .dataframe thead th {\n",
       "        text-align: right;\n",
       "    }\n",
       "</style>\n",
       "<table border=\"1\" class=\"dataframe\">\n",
       "  <thead>\n",
       "    <tr style=\"text-align: right;\">\n",
       "      <th></th>\n",
       "      <th>index</th>\n",
       "      <th>산지명</th>\n",
       "      <th>거래량</th>\n",
       "    </tr>\n",
       "  </thead>\n",
       "  <tbody>\n",
       "    <tr>\n",
       "      <th>0</th>\n",
       "      <td>82</td>\n",
       "      <td>전라남도 신안군</td>\n",
       "      <td>1852960</td>\n",
       "    </tr>\n",
       "    <tr>\n",
       "      <th>1</th>\n",
       "      <td>88</td>\n",
       "      <td>전라남도 진도군</td>\n",
       "      <td>1502533</td>\n",
       "    </tr>\n",
       "    <tr>\n",
       "      <th>2</th>\n",
       "      <td>56</td>\n",
       "      <td>부산광역시</td>\n",
       "      <td>313009</td>\n",
       "    </tr>\n",
       "    <tr>\n",
       "      <th>3</th>\n",
       "      <td>11</td>\n",
       "      <td>경기도 구리시</td>\n",
       "      <td>228504</td>\n",
       "    </tr>\n",
       "    <tr>\n",
       "      <th>4</th>\n",
       "      <td>28</td>\n",
       "      <td>경상남도 김해시</td>\n",
       "      <td>162231</td>\n",
       "    </tr>\n",
       "    <tr>\n",
       "      <th>...</th>\n",
       "      <td>...</td>\n",
       "      <td>...</td>\n",
       "      <td>...</td>\n",
       "    </tr>\n",
       "    <tr>\n",
       "      <th>116</th>\n",
       "      <td>41</td>\n",
       "      <td>경상북도 상주시</td>\n",
       "      <td>6</td>\n",
       "    </tr>\n",
       "    <tr>\n",
       "      <th>117</th>\n",
       "      <td>107</td>\n",
       "      <td>충청남도 부여군</td>\n",
       "      <td>5</td>\n",
       "    </tr>\n",
       "    <tr>\n",
       "      <th>118</th>\n",
       "      <td>113</td>\n",
       "      <td>충청남도 청양군</td>\n",
       "      <td>3</td>\n",
       "    </tr>\n",
       "    <tr>\n",
       "      <th>119</th>\n",
       "      <td>102</td>\n",
       "      <td>충청남도</td>\n",
       "      <td>3</td>\n",
       "    </tr>\n",
       "    <tr>\n",
       "      <th>120</th>\n",
       "      <td>116</td>\n",
       "      <td>충청북도 옥천군</td>\n",
       "      <td>3</td>\n",
       "    </tr>\n",
       "  </tbody>\n",
       "</table>\n",
       "<p>121 rows × 3 columns</p>\n",
       "</div>"
      ],
      "text/plain": [
       "     index       산지명      거래량\n",
       "0       82  전라남도 신안군  1852960\n",
       "1       88  전라남도 진도군  1502533\n",
       "2       56     부산광역시   313009\n",
       "3       11   경기도 구리시   228504\n",
       "4       28  경상남도 김해시   162231\n",
       "..     ...       ...      ...\n",
       "116     41  경상북도 상주시        6\n",
       "117    107  충청남도 부여군        5\n",
       "118    113  충청남도 청양군        3\n",
       "119    102      충청남도        3\n",
       "120    116  충청북도 옥천군        3\n",
       "\n",
       "[121 rows x 3 columns]"
      ]
     },
     "execution_count": 103,
     "metadata": {},
     "output_type": "execute_result"
    }
   ],
   "source": [
    "asc_df_MTV4 = sum_trading_volume4.sort_values('거래량', ascending=False).reset_index()\n",
    "asc_df_MTV4"
   ]
  },
  {
   "cell_type": "code",
   "execution_count": 104,
   "metadata": {},
   "outputs": [],
   "source": [
    "asc_df_MTV4.loc[\"Total\", :] = asc_df_MTV4.sum()"
   ]
  },
  {
   "cell_type": "code",
   "execution_count": 105,
   "metadata": {},
   "outputs": [
    {
     "data": {
      "text/html": [
       "<div>\n",
       "<style scoped>\n",
       "    .dataframe tbody tr th:only-of-type {\n",
       "        vertical-align: middle;\n",
       "    }\n",
       "\n",
       "    .dataframe tbody tr th {\n",
       "        vertical-align: top;\n",
       "    }\n",
       "\n",
       "    .dataframe thead th {\n",
       "        text-align: right;\n",
       "    }\n",
       "</style>\n",
       "<table border=\"1\" class=\"dataframe\">\n",
       "  <thead>\n",
       "    <tr style=\"text-align: right;\">\n",
       "      <th></th>\n",
       "      <th>index</th>\n",
       "      <th>산지명</th>\n",
       "      <th>거래량</th>\n",
       "    </tr>\n",
       "  </thead>\n",
       "  <tbody>\n",
       "    <tr>\n",
       "      <th>0</th>\n",
       "      <td>82.0</td>\n",
       "      <td>전라남도 신안군</td>\n",
       "      <td>1852960.0</td>\n",
       "    </tr>\n",
       "    <tr>\n",
       "      <th>1</th>\n",
       "      <td>88.0</td>\n",
       "      <td>전라남도 진도군</td>\n",
       "      <td>1502533.0</td>\n",
       "    </tr>\n",
       "    <tr>\n",
       "      <th>2</th>\n",
       "      <td>56.0</td>\n",
       "      <td>부산광역시</td>\n",
       "      <td>313009.0</td>\n",
       "    </tr>\n",
       "    <tr>\n",
       "      <th>3</th>\n",
       "      <td>11.0</td>\n",
       "      <td>경기도 구리시</td>\n",
       "      <td>228504.0</td>\n",
       "    </tr>\n",
       "    <tr>\n",
       "      <th>4</th>\n",
       "      <td>28.0</td>\n",
       "      <td>경상남도 김해시</td>\n",
       "      <td>162231.0</td>\n",
       "    </tr>\n",
       "    <tr>\n",
       "      <th>...</th>\n",
       "      <td>...</td>\n",
       "      <td>...</td>\n",
       "      <td>...</td>\n",
       "    </tr>\n",
       "    <tr>\n",
       "      <th>117</th>\n",
       "      <td>107.0</td>\n",
       "      <td>충청남도 부여군</td>\n",
       "      <td>5.0</td>\n",
       "    </tr>\n",
       "    <tr>\n",
       "      <th>118</th>\n",
       "      <td>113.0</td>\n",
       "      <td>충청남도 청양군</td>\n",
       "      <td>3.0</td>\n",
       "    </tr>\n",
       "    <tr>\n",
       "      <th>119</th>\n",
       "      <td>102.0</td>\n",
       "      <td>충청남도</td>\n",
       "      <td>3.0</td>\n",
       "    </tr>\n",
       "    <tr>\n",
       "      <th>120</th>\n",
       "      <td>116.0</td>\n",
       "      <td>충청북도 옥천군</td>\n",
       "      <td>3.0</td>\n",
       "    </tr>\n",
       "    <tr>\n",
       "      <th>Total</th>\n",
       "      <td>7260.0</td>\n",
       "      <td>전라남도 신안군전라남도 진도군부산광역시경기도 구리시경상남도 김해시부산광역시 중구경기...</td>\n",
       "      <td>5940539.0</td>\n",
       "    </tr>\n",
       "  </tbody>\n",
       "</table>\n",
       "<p>122 rows × 3 columns</p>\n",
       "</div>"
      ],
      "text/plain": [
       "        index                                                산지명        거래량\n",
       "0        82.0                                           전라남도 신안군  1852960.0\n",
       "1        88.0                                           전라남도 진도군  1502533.0\n",
       "2        56.0                                              부산광역시   313009.0\n",
       "3        11.0                                            경기도 구리시   228504.0\n",
       "4        28.0                                           경상남도 김해시   162231.0\n",
       "...       ...                                                ...        ...\n",
       "117     107.0                                           충청남도 부여군        5.0\n",
       "118     113.0                                           충청남도 청양군        3.0\n",
       "119     102.0                                               충청남도        3.0\n",
       "120     116.0                                           충청북도 옥천군        3.0\n",
       "Total  7260.0  전라남도 신안군전라남도 진도군부산광역시경기도 구리시경상남도 김해시부산광역시 중구경기...  5940539.0\n",
       "\n",
       "[122 rows x 3 columns]"
      ]
     },
     "execution_count": 105,
     "metadata": {},
     "output_type": "execute_result"
    }
   ],
   "source": [
    "asc_df_MTV4"
   ]
  },
  {
   "cell_type": "code",
   "execution_count": 106,
   "metadata": {},
   "outputs": [
    {
     "data": {
      "text/html": [
       "<div>\n",
       "<style scoped>\n",
       "    .dataframe tbody tr th:only-of-type {\n",
       "        vertical-align: middle;\n",
       "    }\n",
       "\n",
       "    .dataframe tbody tr th {\n",
       "        vertical-align: top;\n",
       "    }\n",
       "\n",
       "    .dataframe thead th {\n",
       "        text-align: right;\n",
       "    }\n",
       "</style>\n",
       "<table border=\"1\" class=\"dataframe\">\n",
       "  <thead>\n",
       "    <tr style=\"text-align: right;\">\n",
       "      <th></th>\n",
       "      <th>산지명</th>\n",
       "      <th>거래량</th>\n",
       "    </tr>\n",
       "  </thead>\n",
       "  <tbody>\n",
       "    <tr>\n",
       "      <th>0</th>\n",
       "      <td>강원도 강릉시</td>\n",
       "      <td>23395</td>\n",
       "    </tr>\n",
       "    <tr>\n",
       "      <th>1</th>\n",
       "      <td>강원도 동해시</td>\n",
       "      <td>2240</td>\n",
       "    </tr>\n",
       "    <tr>\n",
       "      <th>2</th>\n",
       "      <td>강원도 원주시</td>\n",
       "      <td>3753</td>\n",
       "    </tr>\n",
       "    <tr>\n",
       "      <th>3</th>\n",
       "      <td>강원도 인제군</td>\n",
       "      <td>31230</td>\n",
       "    </tr>\n",
       "    <tr>\n",
       "      <th>4</th>\n",
       "      <td>강원도 정선군</td>\n",
       "      <td>300</td>\n",
       "    </tr>\n",
       "    <tr>\n",
       "      <th>...</th>\n",
       "      <td>...</td>\n",
       "      <td>...</td>\n",
       "    </tr>\n",
       "    <tr>\n",
       "      <th>119</th>\n",
       "      <td>충청북도 영동군</td>\n",
       "      <td>68</td>\n",
       "    </tr>\n",
       "    <tr>\n",
       "      <th>120</th>\n",
       "      <td>충청북도 제천시</td>\n",
       "      <td>6994</td>\n",
       "    </tr>\n",
       "    <tr>\n",
       "      <th>121</th>\n",
       "      <td>충청북도 진천군</td>\n",
       "      <td>112</td>\n",
       "    </tr>\n",
       "    <tr>\n",
       "      <th>122</th>\n",
       "      <td>충청북도 청주시</td>\n",
       "      <td>58406</td>\n",
       "    </tr>\n",
       "    <tr>\n",
       "      <th>123</th>\n",
       "      <td>충청북도 충주시</td>\n",
       "      <td>27765</td>\n",
       "    </tr>\n",
       "  </tbody>\n",
       "</table>\n",
       "<p>124 rows × 2 columns</p>\n",
       "</div>"
      ],
      "text/plain": [
       "          산지명    거래량\n",
       "0     강원도 강릉시  23395\n",
       "1     강원도 동해시   2240\n",
       "2     강원도 원주시   3753\n",
       "3     강원도 인제군  31230\n",
       "4     강원도 정선군    300\n",
       "..        ...    ...\n",
       "119  충청북도 영동군     68\n",
       "120  충청북도 제천시   6994\n",
       "121  충청북도 진천군    112\n",
       "122  충청북도 청주시  58406\n",
       "123  충청북도 충주시  27765\n",
       "\n",
       "[124 rows x 2 columns]"
      ]
     },
     "execution_count": 106,
     "metadata": {},
     "output_type": "execute_result"
    }
   ],
   "source": [
    "sum_trading_volume5 = Mar20.groupby(Mar20['산지명'])['거래량'].sum().reset_index()\n",
    "sum_trading_volume5"
   ]
  },
  {
   "cell_type": "code",
   "execution_count": 107,
   "metadata": {
    "scrolled": true
   },
   "outputs": [
    {
     "data": {
      "text/html": [
       "<div>\n",
       "<style scoped>\n",
       "    .dataframe tbody tr th:only-of-type {\n",
       "        vertical-align: middle;\n",
       "    }\n",
       "\n",
       "    .dataframe tbody tr th {\n",
       "        vertical-align: top;\n",
       "    }\n",
       "\n",
       "    .dataframe thead th {\n",
       "        text-align: right;\n",
       "    }\n",
       "</style>\n",
       "<table border=\"1\" class=\"dataframe\">\n",
       "  <thead>\n",
       "    <tr style=\"text-align: right;\">\n",
       "      <th></th>\n",
       "      <th>index</th>\n",
       "      <th>산지명</th>\n",
       "      <th>거래량</th>\n",
       "    </tr>\n",
       "  </thead>\n",
       "  <tbody>\n",
       "    <tr>\n",
       "      <th>0</th>\n",
       "      <td>86</td>\n",
       "      <td>전라남도 신안군</td>\n",
       "      <td>917565</td>\n",
       "    </tr>\n",
       "    <tr>\n",
       "      <th>1</th>\n",
       "      <td>91</td>\n",
       "      <td>전라남도 진도군</td>\n",
       "      <td>863131</td>\n",
       "    </tr>\n",
       "    <tr>\n",
       "      <th>2</th>\n",
       "      <td>6</td>\n",
       "      <td>경기도 구리시</td>\n",
       "      <td>213953</td>\n",
       "    </tr>\n",
       "    <tr>\n",
       "      <th>3</th>\n",
       "      <td>55</td>\n",
       "      <td>부산광역시</td>\n",
       "      <td>179809</td>\n",
       "    </tr>\n",
       "    <tr>\n",
       "      <th>4</th>\n",
       "      <td>56</td>\n",
       "      <td>부산광역시 강서구</td>\n",
       "      <td>104426</td>\n",
       "    </tr>\n",
       "    <tr>\n",
       "      <th>...</th>\n",
       "      <td>...</td>\n",
       "      <td>...</td>\n",
       "      <td>...</td>\n",
       "    </tr>\n",
       "    <tr>\n",
       "      <th>119</th>\n",
       "      <td>106</td>\n",
       "      <td>충청남도 공주시</td>\n",
       "      <td>37</td>\n",
       "    </tr>\n",
       "    <tr>\n",
       "      <th>120</th>\n",
       "      <td>44</td>\n",
       "      <td>광주광역시 동구</td>\n",
       "      <td>28</td>\n",
       "    </tr>\n",
       "    <tr>\n",
       "      <th>121</th>\n",
       "      <td>103</td>\n",
       "      <td>제주특별자치도 서귀포시</td>\n",
       "      <td>27</td>\n",
       "    </tr>\n",
       "    <tr>\n",
       "      <th>122</th>\n",
       "      <td>110</td>\n",
       "      <td>충청남도 보령시</td>\n",
       "      <td>18</td>\n",
       "    </tr>\n",
       "    <tr>\n",
       "      <th>123</th>\n",
       "      <td>24</td>\n",
       "      <td>경상남도 거제시</td>\n",
       "      <td>4</td>\n",
       "    </tr>\n",
       "  </tbody>\n",
       "</table>\n",
       "<p>124 rows × 3 columns</p>\n",
       "</div>"
      ],
      "text/plain": [
       "     index           산지명     거래량\n",
       "0       86      전라남도 신안군  917565\n",
       "1       91      전라남도 진도군  863131\n",
       "2        6       경기도 구리시  213953\n",
       "3       55         부산광역시  179809\n",
       "4       56     부산광역시 강서구  104426\n",
       "..     ...           ...     ...\n",
       "119    106      충청남도 공주시      37\n",
       "120     44      광주광역시 동구      28\n",
       "121    103  제주특별자치도 서귀포시      27\n",
       "122    110      충청남도 보령시      18\n",
       "123     24      경상남도 거제시       4\n",
       "\n",
       "[124 rows x 3 columns]"
      ]
     },
     "execution_count": 107,
     "metadata": {},
     "output_type": "execute_result"
    }
   ],
   "source": [
    "asc_df_MTV5 = sum_trading_volume5.sort_values('거래량', ascending=False).reset_index()\n",
    "asc_df_MTV5"
   ]
  },
  {
   "cell_type": "code",
   "execution_count": 108,
   "metadata": {
    "scrolled": true
   },
   "outputs": [
    {
     "data": {
      "text/plain": [
       "index                                                 7626\n",
       "산지명      전라남도 신안군전라남도 진도군경기도 구리시부산광역시부산광역시 강서구서울특별시 송파구...\n",
       "거래량                                                3799885\n",
       "dtype: object"
      ]
     },
     "execution_count": 108,
     "metadata": {},
     "output_type": "execute_result"
    }
   ],
   "source": [
    "asc_df_MTV5.sum()"
   ]
  },
  {
   "cell_type": "code",
   "execution_count": 109,
   "metadata": {},
   "outputs": [],
   "source": [
    "asc_df_MTV5.loc[\"Total\", :] = asc_df_MTV5.sum()"
   ]
  },
  {
   "cell_type": "code",
   "execution_count": 110,
   "metadata": {},
   "outputs": [
    {
     "data": {
      "text/html": [
       "<div>\n",
       "<style scoped>\n",
       "    .dataframe tbody tr th:only-of-type {\n",
       "        vertical-align: middle;\n",
       "    }\n",
       "\n",
       "    .dataframe tbody tr th {\n",
       "        vertical-align: top;\n",
       "    }\n",
       "\n",
       "    .dataframe thead th {\n",
       "        text-align: right;\n",
       "    }\n",
       "</style>\n",
       "<table border=\"1\" class=\"dataframe\">\n",
       "  <thead>\n",
       "    <tr style=\"text-align: right;\">\n",
       "      <th></th>\n",
       "      <th>index</th>\n",
       "      <th>산지명</th>\n",
       "      <th>거래량</th>\n",
       "    </tr>\n",
       "  </thead>\n",
       "  <tbody>\n",
       "    <tr>\n",
       "      <th>0</th>\n",
       "      <td>86.0</td>\n",
       "      <td>전라남도 신안군</td>\n",
       "      <td>917565.0</td>\n",
       "    </tr>\n",
       "    <tr>\n",
       "      <th>1</th>\n",
       "      <td>91.0</td>\n",
       "      <td>전라남도 진도군</td>\n",
       "      <td>863131.0</td>\n",
       "    </tr>\n",
       "    <tr>\n",
       "      <th>2</th>\n",
       "      <td>6.0</td>\n",
       "      <td>경기도 구리시</td>\n",
       "      <td>213953.0</td>\n",
       "    </tr>\n",
       "    <tr>\n",
       "      <th>3</th>\n",
       "      <td>55.0</td>\n",
       "      <td>부산광역시</td>\n",
       "      <td>179809.0</td>\n",
       "    </tr>\n",
       "    <tr>\n",
       "      <th>4</th>\n",
       "      <td>56.0</td>\n",
       "      <td>부산광역시 강서구</td>\n",
       "      <td>104426.0</td>\n",
       "    </tr>\n",
       "    <tr>\n",
       "      <th>...</th>\n",
       "      <td>...</td>\n",
       "      <td>...</td>\n",
       "      <td>...</td>\n",
       "    </tr>\n",
       "    <tr>\n",
       "      <th>120</th>\n",
       "      <td>44.0</td>\n",
       "      <td>광주광역시 동구</td>\n",
       "      <td>28.0</td>\n",
       "    </tr>\n",
       "    <tr>\n",
       "      <th>121</th>\n",
       "      <td>103.0</td>\n",
       "      <td>제주특별자치도 서귀포시</td>\n",
       "      <td>27.0</td>\n",
       "    </tr>\n",
       "    <tr>\n",
       "      <th>122</th>\n",
       "      <td>110.0</td>\n",
       "      <td>충청남도 보령시</td>\n",
       "      <td>18.0</td>\n",
       "    </tr>\n",
       "    <tr>\n",
       "      <th>123</th>\n",
       "      <td>24.0</td>\n",
       "      <td>경상남도 거제시</td>\n",
       "      <td>4.0</td>\n",
       "    </tr>\n",
       "    <tr>\n",
       "      <th>Total</th>\n",
       "      <td>7626.0</td>\n",
       "      <td>전라남도 신안군전라남도 진도군경기도 구리시부산광역시부산광역시 강서구서울특별시 송파구...</td>\n",
       "      <td>3799885.0</td>\n",
       "    </tr>\n",
       "  </tbody>\n",
       "</table>\n",
       "<p>125 rows × 3 columns</p>\n",
       "</div>"
      ],
      "text/plain": [
       "        index                                                산지명        거래량\n",
       "0        86.0                                           전라남도 신안군   917565.0\n",
       "1        91.0                                           전라남도 진도군   863131.0\n",
       "2         6.0                                            경기도 구리시   213953.0\n",
       "3        55.0                                              부산광역시   179809.0\n",
       "4        56.0                                          부산광역시 강서구   104426.0\n",
       "...       ...                                                ...        ...\n",
       "120      44.0                                           광주광역시 동구       28.0\n",
       "121     103.0                                       제주특별자치도 서귀포시       27.0\n",
       "122     110.0                                           충청남도 보령시       18.0\n",
       "123      24.0                                           경상남도 거제시        4.0\n",
       "Total  7626.0  전라남도 신안군전라남도 진도군경기도 구리시부산광역시부산광역시 강서구서울특별시 송파구...  3799885.0\n",
       "\n",
       "[125 rows x 3 columns]"
      ]
     },
     "execution_count": 110,
     "metadata": {},
     "output_type": "execute_result"
    }
   ],
   "source": [
    "asc_df_MTV5"
   ]
  },
  {
   "cell_type": "code",
   "execution_count": 111,
   "metadata": {},
   "outputs": [
    {
     "data": {
      "text/html": [
       "<div>\n",
       "<style scoped>\n",
       "    .dataframe tbody tr th:only-of-type {\n",
       "        vertical-align: middle;\n",
       "    }\n",
       "\n",
       "    .dataframe tbody tr th {\n",
       "        vertical-align: top;\n",
       "    }\n",
       "\n",
       "    .dataframe thead th {\n",
       "        text-align: right;\n",
       "    }\n",
       "</style>\n",
       "<table border=\"1\" class=\"dataframe\">\n",
       "  <thead>\n",
       "    <tr style=\"text-align: right;\">\n",
       "      <th></th>\n",
       "      <th>산지명</th>\n",
       "      <th>거래량</th>\n",
       "    </tr>\n",
       "  </thead>\n",
       "  <tbody>\n",
       "    <tr>\n",
       "      <th>0</th>\n",
       "      <td>강원도</td>\n",
       "      <td>840</td>\n",
       "    </tr>\n",
       "    <tr>\n",
       "      <th>1</th>\n",
       "      <td>강원도 강릉시</td>\n",
       "      <td>29920</td>\n",
       "    </tr>\n",
       "    <tr>\n",
       "      <th>2</th>\n",
       "      <td>강원도 동해시</td>\n",
       "      <td>570</td>\n",
       "    </tr>\n",
       "    <tr>\n",
       "      <th>3</th>\n",
       "      <td>강원도 양양군</td>\n",
       "      <td>41550</td>\n",
       "    </tr>\n",
       "    <tr>\n",
       "      <th>4</th>\n",
       "      <td>강원도 원주시</td>\n",
       "      <td>3850</td>\n",
       "    </tr>\n",
       "    <tr>\n",
       "      <th>...</th>\n",
       "      <td>...</td>\n",
       "      <td>...</td>\n",
       "    </tr>\n",
       "    <tr>\n",
       "      <th>111</th>\n",
       "      <td>충청북도 옥천군</td>\n",
       "      <td>37</td>\n",
       "    </tr>\n",
       "    <tr>\n",
       "      <th>112</th>\n",
       "      <td>충청북도 음성군</td>\n",
       "      <td>540</td>\n",
       "    </tr>\n",
       "    <tr>\n",
       "      <th>113</th>\n",
       "      <td>충청북도 제천시</td>\n",
       "      <td>761</td>\n",
       "    </tr>\n",
       "    <tr>\n",
       "      <th>114</th>\n",
       "      <td>충청북도 청주시</td>\n",
       "      <td>58039</td>\n",
       "    </tr>\n",
       "    <tr>\n",
       "      <th>115</th>\n",
       "      <td>충청북도 충주시</td>\n",
       "      <td>23631</td>\n",
       "    </tr>\n",
       "  </tbody>\n",
       "</table>\n",
       "<p>116 rows × 2 columns</p>\n",
       "</div>"
      ],
      "text/plain": [
       "          산지명    거래량\n",
       "0         강원도    840\n",
       "1     강원도 강릉시  29920\n",
       "2     강원도 동해시    570\n",
       "3     강원도 양양군  41550\n",
       "4     강원도 원주시   3850\n",
       "..        ...    ...\n",
       "111  충청북도 옥천군     37\n",
       "112  충청북도 음성군    540\n",
       "113  충청북도 제천시    761\n",
       "114  충청북도 청주시  58039\n",
       "115  충청북도 충주시  23631\n",
       "\n",
       "[116 rows x 2 columns]"
      ]
     },
     "execution_count": 111,
     "metadata": {},
     "output_type": "execute_result"
    }
   ],
   "source": [
    "sum_trading_volume6 = Mar21.groupby(Mar21['산지명'])['거래량'].sum().reset_index()\n",
    "sum_trading_volume6"
   ]
  },
  {
   "cell_type": "code",
   "execution_count": 112,
   "metadata": {},
   "outputs": [
    {
     "data": {
      "text/html": [
       "<div>\n",
       "<style scoped>\n",
       "    .dataframe tbody tr th:only-of-type {\n",
       "        vertical-align: middle;\n",
       "    }\n",
       "\n",
       "    .dataframe tbody tr th {\n",
       "        vertical-align: top;\n",
       "    }\n",
       "\n",
       "    .dataframe thead th {\n",
       "        text-align: right;\n",
       "    }\n",
       "</style>\n",
       "<table border=\"1\" class=\"dataframe\">\n",
       "  <thead>\n",
       "    <tr style=\"text-align: right;\">\n",
       "      <th></th>\n",
       "      <th>index</th>\n",
       "      <th>산지명</th>\n",
       "      <th>거래량</th>\n",
       "    </tr>\n",
       "  </thead>\n",
       "  <tbody>\n",
       "    <tr>\n",
       "      <th>0</th>\n",
       "      <td>81</td>\n",
       "      <td>전라남도 신안군</td>\n",
       "      <td>953441</td>\n",
       "    </tr>\n",
       "    <tr>\n",
       "      <th>1</th>\n",
       "      <td>87</td>\n",
       "      <td>전라남도 진도군</td>\n",
       "      <td>749608</td>\n",
       "    </tr>\n",
       "    <tr>\n",
       "      <th>2</th>\n",
       "      <td>53</td>\n",
       "      <td>부산광역시</td>\n",
       "      <td>209468</td>\n",
       "    </tr>\n",
       "    <tr>\n",
       "      <th>3</th>\n",
       "      <td>9</td>\n",
       "      <td>경기도 구리시</td>\n",
       "      <td>162760</td>\n",
       "    </tr>\n",
       "    <tr>\n",
       "      <th>4</th>\n",
       "      <td>60</td>\n",
       "      <td>서울특별시 송파구</td>\n",
       "      <td>76108</td>\n",
       "    </tr>\n",
       "    <tr>\n",
       "      <th>...</th>\n",
       "      <td>...</td>\n",
       "      <td>...</td>\n",
       "      <td>...</td>\n",
       "    </tr>\n",
       "    <tr>\n",
       "      <th>111</th>\n",
       "      <td>43</td>\n",
       "      <td>경상북도 포항시</td>\n",
       "      <td>10</td>\n",
       "    </tr>\n",
       "    <tr>\n",
       "      <th>112</th>\n",
       "      <td>104</td>\n",
       "      <td>충청남도 부여군</td>\n",
       "      <td>9</td>\n",
       "    </tr>\n",
       "    <tr>\n",
       "      <th>113</th>\n",
       "      <td>65</td>\n",
       "      <td>울산광역시 울주군</td>\n",
       "      <td>7</td>\n",
       "    </tr>\n",
       "    <tr>\n",
       "      <th>114</th>\n",
       "      <td>51</td>\n",
       "      <td>대전광역시 동구</td>\n",
       "      <td>5</td>\n",
       "    </tr>\n",
       "    <tr>\n",
       "      <th>115</th>\n",
       "      <td>109</td>\n",
       "      <td>충청남도 홍성군</td>\n",
       "      <td>1</td>\n",
       "    </tr>\n",
       "  </tbody>\n",
       "</table>\n",
       "<p>116 rows × 3 columns</p>\n",
       "</div>"
      ],
      "text/plain": [
       "     index        산지명     거래량\n",
       "0       81   전라남도 신안군  953441\n",
       "1       87   전라남도 진도군  749608\n",
       "2       53      부산광역시  209468\n",
       "3        9    경기도 구리시  162760\n",
       "4       60  서울특별시 송파구   76108\n",
       "..     ...        ...     ...\n",
       "111     43   경상북도 포항시      10\n",
       "112    104   충청남도 부여군       9\n",
       "113     65  울산광역시 울주군       7\n",
       "114     51   대전광역시 동구       5\n",
       "115    109   충청남도 홍성군       1\n",
       "\n",
       "[116 rows x 3 columns]"
      ]
     },
     "execution_count": 112,
     "metadata": {},
     "output_type": "execute_result"
    }
   ],
   "source": [
    "asc_df_MTV6 = sum_trading_volume6.sort_values('거래량', ascending=False).reset_index()\n",
    "asc_df_MTV6"
   ]
  },
  {
   "cell_type": "code",
   "execution_count": 113,
   "metadata": {},
   "outputs": [
    {
     "data": {
      "text/plain": [
       "index                                                 6670\n",
       "산지명      전라남도 신안군전라남도 진도군부산광역시경기도 구리시서울특별시 송파구경상남도 김해시부...\n",
       "거래량                                                3202171\n",
       "dtype: object"
      ]
     },
     "execution_count": 113,
     "metadata": {},
     "output_type": "execute_result"
    }
   ],
   "source": [
    "asc_df_MTV6.sum() "
   ]
  },
  {
   "cell_type": "code",
   "execution_count": 114,
   "metadata": {},
   "outputs": [],
   "source": [
    "asc_df_MTV6.loc[\"Total\", :] = asc_df_MTV6.sum()"
   ]
  },
  {
   "cell_type": "code",
   "execution_count": 115,
   "metadata": {},
   "outputs": [
    {
     "data": {
      "text/html": [
       "<div>\n",
       "<style scoped>\n",
       "    .dataframe tbody tr th:only-of-type {\n",
       "        vertical-align: middle;\n",
       "    }\n",
       "\n",
       "    .dataframe tbody tr th {\n",
       "        vertical-align: top;\n",
       "    }\n",
       "\n",
       "    .dataframe thead th {\n",
       "        text-align: right;\n",
       "    }\n",
       "</style>\n",
       "<table border=\"1\" class=\"dataframe\">\n",
       "  <thead>\n",
       "    <tr style=\"text-align: right;\">\n",
       "      <th></th>\n",
       "      <th>index</th>\n",
       "      <th>산지명</th>\n",
       "      <th>거래량</th>\n",
       "    </tr>\n",
       "  </thead>\n",
       "  <tbody>\n",
       "    <tr>\n",
       "      <th>0</th>\n",
       "      <td>81.0</td>\n",
       "      <td>전라남도 신안군</td>\n",
       "      <td>953441.0</td>\n",
       "    </tr>\n",
       "    <tr>\n",
       "      <th>1</th>\n",
       "      <td>87.0</td>\n",
       "      <td>전라남도 진도군</td>\n",
       "      <td>749608.0</td>\n",
       "    </tr>\n",
       "    <tr>\n",
       "      <th>2</th>\n",
       "      <td>53.0</td>\n",
       "      <td>부산광역시</td>\n",
       "      <td>209468.0</td>\n",
       "    </tr>\n",
       "    <tr>\n",
       "      <th>3</th>\n",
       "      <td>9.0</td>\n",
       "      <td>경기도 구리시</td>\n",
       "      <td>162760.0</td>\n",
       "    </tr>\n",
       "    <tr>\n",
       "      <th>4</th>\n",
       "      <td>60.0</td>\n",
       "      <td>서울특별시 송파구</td>\n",
       "      <td>76108.0</td>\n",
       "    </tr>\n",
       "    <tr>\n",
       "      <th>...</th>\n",
       "      <td>...</td>\n",
       "      <td>...</td>\n",
       "      <td>...</td>\n",
       "    </tr>\n",
       "    <tr>\n",
       "      <th>112</th>\n",
       "      <td>104.0</td>\n",
       "      <td>충청남도 부여군</td>\n",
       "      <td>9.0</td>\n",
       "    </tr>\n",
       "    <tr>\n",
       "      <th>113</th>\n",
       "      <td>65.0</td>\n",
       "      <td>울산광역시 울주군</td>\n",
       "      <td>7.0</td>\n",
       "    </tr>\n",
       "    <tr>\n",
       "      <th>114</th>\n",
       "      <td>51.0</td>\n",
       "      <td>대전광역시 동구</td>\n",
       "      <td>5.0</td>\n",
       "    </tr>\n",
       "    <tr>\n",
       "      <th>115</th>\n",
       "      <td>109.0</td>\n",
       "      <td>충청남도 홍성군</td>\n",
       "      <td>1.0</td>\n",
       "    </tr>\n",
       "    <tr>\n",
       "      <th>Total</th>\n",
       "      <td>6670.0</td>\n",
       "      <td>전라남도 신안군전라남도 진도군부산광역시경기도 구리시서울특별시 송파구경상남도 김해시부...</td>\n",
       "      <td>3202171.0</td>\n",
       "    </tr>\n",
       "  </tbody>\n",
       "</table>\n",
       "<p>117 rows × 3 columns</p>\n",
       "</div>"
      ],
      "text/plain": [
       "        index                                                산지명        거래량\n",
       "0        81.0                                           전라남도 신안군   953441.0\n",
       "1        87.0                                           전라남도 진도군   749608.0\n",
       "2        53.0                                              부산광역시   209468.0\n",
       "3         9.0                                            경기도 구리시   162760.0\n",
       "4        60.0                                          서울특별시 송파구    76108.0\n",
       "...       ...                                                ...        ...\n",
       "112     104.0                                           충청남도 부여군        9.0\n",
       "113      65.0                                          울산광역시 울주군        7.0\n",
       "114      51.0                                           대전광역시 동구        5.0\n",
       "115     109.0                                           충청남도 홍성군        1.0\n",
       "Total  6670.0  전라남도 신안군전라남도 진도군부산광역시경기도 구리시서울특별시 송파구경상남도 김해시부...  3202171.0\n",
       "\n",
       "[117 rows x 3 columns]"
      ]
     },
     "execution_count": 115,
     "metadata": {},
     "output_type": "execute_result"
    }
   ],
   "source": [
    "asc_df_MTV6"
   ]
  },
  {
   "cell_type": "markdown",
   "metadata": {},
   "source": [
    "### 도매시장 별 거래량 ###"
   ]
  },
  {
   "cell_type": "code",
   "execution_count": 116,
   "metadata": {
    "scrolled": true
   },
   "outputs": [
    {
     "data": {
      "text/html": [
       "<div>\n",
       "<style scoped>\n",
       "    .dataframe tbody tr th:only-of-type {\n",
       "        vertical-align: middle;\n",
       "    }\n",
       "\n",
       "    .dataframe tbody tr th {\n",
       "        vertical-align: top;\n",
       "    }\n",
       "\n",
       "    .dataframe thead th {\n",
       "        text-align: right;\n",
       "    }\n",
       "</style>\n",
       "<table border=\"1\" class=\"dataframe\">\n",
       "  <thead>\n",
       "    <tr style=\"text-align: right;\">\n",
       "      <th></th>\n",
       "      <th>산지명</th>\n",
       "      <th>거래량_x</th>\n",
       "      <th>거래량_y</th>\n",
       "    </tr>\n",
       "  </thead>\n",
       "  <tbody>\n",
       "    <tr>\n",
       "      <th>0</th>\n",
       "      <td>강원도</td>\n",
       "      <td>3915</td>\n",
       "      <td>200.0</td>\n",
       "    </tr>\n",
       "    <tr>\n",
       "      <th>1</th>\n",
       "      <td>강원도 강릉시</td>\n",
       "      <td>46925</td>\n",
       "      <td>52798.0</td>\n",
       "    </tr>\n",
       "    <tr>\n",
       "      <th>2</th>\n",
       "      <td>강원도 동해시</td>\n",
       "      <td>10946</td>\n",
       "      <td>1210.0</td>\n",
       "    </tr>\n",
       "    <tr>\n",
       "      <th>3</th>\n",
       "      <td>강원도 원주시</td>\n",
       "      <td>6382</td>\n",
       "      <td>3590.0</td>\n",
       "    </tr>\n",
       "    <tr>\n",
       "      <th>4</th>\n",
       "      <td>강원도 인제군</td>\n",
       "      <td>70467</td>\n",
       "      <td>12960.0</td>\n",
       "    </tr>\n",
       "    <tr>\n",
       "      <th>...</th>\n",
       "      <td>...</td>\n",
       "      <td>...</td>\n",
       "      <td>...</td>\n",
       "    </tr>\n",
       "    <tr>\n",
       "      <th>147</th>\n",
       "      <td>충청북도 음성군</td>\n",
       "      <td>78</td>\n",
       "      <td>NaN</td>\n",
       "    </tr>\n",
       "    <tr>\n",
       "      <th>148</th>\n",
       "      <td>충청북도 제천시</td>\n",
       "      <td>10625</td>\n",
       "      <td>7563.0</td>\n",
       "    </tr>\n",
       "    <tr>\n",
       "      <th>149</th>\n",
       "      <td>충청북도 진천군</td>\n",
       "      <td>591</td>\n",
       "      <td>NaN</td>\n",
       "    </tr>\n",
       "    <tr>\n",
       "      <th>150</th>\n",
       "      <td>충청북도 청주시</td>\n",
       "      <td>292296</td>\n",
       "      <td>228302.0</td>\n",
       "    </tr>\n",
       "    <tr>\n",
       "      <th>151</th>\n",
       "      <td>충청북도 충주시</td>\n",
       "      <td>54295</td>\n",
       "      <td>113297.0</td>\n",
       "    </tr>\n",
       "  </tbody>\n",
       "</table>\n",
       "<p>152 rows × 3 columns</p>\n",
       "</div>"
      ],
      "text/plain": [
       "          산지명   거래량_x     거래량_y\n",
       "0         강원도    3915     200.0\n",
       "1     강원도 강릉시   46925   52798.0\n",
       "2     강원도 동해시   10946    1210.0\n",
       "3     강원도 원주시    6382    3590.0\n",
       "4     강원도 인제군   70467   12960.0\n",
       "..        ...     ...       ...\n",
       "147  충청북도 음성군      78       NaN\n",
       "148  충청북도 제천시   10625    7563.0\n",
       "149  충청북도 진천군     591       NaN\n",
       "150  충청북도 청주시  292296  228302.0\n",
       "151  충청북도 충주시   54295  113297.0\n",
       "\n",
       "[152 rows x 3 columns]"
      ]
     },
     "execution_count": 116,
     "metadata": {},
     "output_type": "execute_result"
    }
   ],
   "source": [
    "#merge\n",
    "result = pd.merge(sum_trading_volume,sum_trading_volume2, on = '산지명', how = 'left')#'산지명'열 left 위주로 merge\n",
    "result\n"
   ]
  },
  {
   "cell_type": "code",
   "execution_count": 117,
   "metadata": {},
   "outputs": [
    {
     "data": {
      "text/html": [
       "<div>\n",
       "<style scoped>\n",
       "    .dataframe tbody tr th:only-of-type {\n",
       "        vertical-align: middle;\n",
       "    }\n",
       "\n",
       "    .dataframe tbody tr th {\n",
       "        vertical-align: top;\n",
       "    }\n",
       "\n",
       "    .dataframe thead th {\n",
       "        text-align: right;\n",
       "    }\n",
       "</style>\n",
       "<table border=\"1\" class=\"dataframe\">\n",
       "  <thead>\n",
       "    <tr style=\"text-align: right;\">\n",
       "      <th></th>\n",
       "      <th>산지명</th>\n",
       "      <th>거래량_x</th>\n",
       "      <th>거래량_y</th>\n",
       "      <th>거래량_x</th>\n",
       "      <th>거래량_y</th>\n",
       "      <th>거래량_x</th>\n",
       "      <th>거래량_y</th>\n",
       "    </tr>\n",
       "  </thead>\n",
       "  <tbody>\n",
       "    <tr>\n",
       "      <th>0</th>\n",
       "      <td>강원도</td>\n",
       "      <td>3915</td>\n",
       "      <td>200.0</td>\n",
       "      <td>NaN</td>\n",
       "      <td>NaN</td>\n",
       "      <td>NaN</td>\n",
       "      <td>840.0</td>\n",
       "    </tr>\n",
       "    <tr>\n",
       "      <th>1</th>\n",
       "      <td>강원도 강릉시</td>\n",
       "      <td>46925</td>\n",
       "      <td>52798.0</td>\n",
       "      <td>47573.0</td>\n",
       "      <td>48290.0</td>\n",
       "      <td>23395.0</td>\n",
       "      <td>29920.0</td>\n",
       "    </tr>\n",
       "    <tr>\n",
       "      <th>2</th>\n",
       "      <td>강원도 동해시</td>\n",
       "      <td>10946</td>\n",
       "      <td>1210.0</td>\n",
       "      <td>8330.0</td>\n",
       "      <td>NaN</td>\n",
       "      <td>2240.0</td>\n",
       "      <td>570.0</td>\n",
       "    </tr>\n",
       "    <tr>\n",
       "      <th>3</th>\n",
       "      <td>강원도 원주시</td>\n",
       "      <td>6382</td>\n",
       "      <td>3590.0</td>\n",
       "      <td>5437.0</td>\n",
       "      <td>3131.0</td>\n",
       "      <td>3753.0</td>\n",
       "      <td>3850.0</td>\n",
       "    </tr>\n",
       "    <tr>\n",
       "      <th>4</th>\n",
       "      <td>강원도 인제군</td>\n",
       "      <td>70467</td>\n",
       "      <td>12960.0</td>\n",
       "      <td>64065.0</td>\n",
       "      <td>9282.0</td>\n",
       "      <td>31230.0</td>\n",
       "      <td>5630.0</td>\n",
       "    </tr>\n",
       "    <tr>\n",
       "      <th>...</th>\n",
       "      <td>...</td>\n",
       "      <td>...</td>\n",
       "      <td>...</td>\n",
       "      <td>...</td>\n",
       "      <td>...</td>\n",
       "      <td>...</td>\n",
       "      <td>...</td>\n",
       "    </tr>\n",
       "    <tr>\n",
       "      <th>147</th>\n",
       "      <td>충청북도 음성군</td>\n",
       "      <td>78</td>\n",
       "      <td>NaN</td>\n",
       "      <td>NaN</td>\n",
       "      <td>36.0</td>\n",
       "      <td>NaN</td>\n",
       "      <td>540.0</td>\n",
       "    </tr>\n",
       "    <tr>\n",
       "      <th>148</th>\n",
       "      <td>충청북도 제천시</td>\n",
       "      <td>10625</td>\n",
       "      <td>7563.0</td>\n",
       "      <td>20793.0</td>\n",
       "      <td>3246.0</td>\n",
       "      <td>6994.0</td>\n",
       "      <td>761.0</td>\n",
       "    </tr>\n",
       "    <tr>\n",
       "      <th>149</th>\n",
       "      <td>충청북도 진천군</td>\n",
       "      <td>591</td>\n",
       "      <td>NaN</td>\n",
       "      <td>58.0</td>\n",
       "      <td>NaN</td>\n",
       "      <td>112.0</td>\n",
       "      <td>NaN</td>\n",
       "    </tr>\n",
       "    <tr>\n",
       "      <th>150</th>\n",
       "      <td>충청북도 청주시</td>\n",
       "      <td>292296</td>\n",
       "      <td>228302.0</td>\n",
       "      <td>188988.0</td>\n",
       "      <td>101837.0</td>\n",
       "      <td>58406.0</td>\n",
       "      <td>58039.0</td>\n",
       "    </tr>\n",
       "    <tr>\n",
       "      <th>151</th>\n",
       "      <td>충청북도 충주시</td>\n",
       "      <td>54295</td>\n",
       "      <td>113297.0</td>\n",
       "      <td>52762.0</td>\n",
       "      <td>48628.0</td>\n",
       "      <td>27765.0</td>\n",
       "      <td>23631.0</td>\n",
       "    </tr>\n",
       "  </tbody>\n",
       "</table>\n",
       "<p>152 rows × 7 columns</p>\n",
       "</div>"
      ],
      "text/plain": [
       "          산지명   거래량_x     거래량_y     거래량_x     거래량_y    거래량_x    거래량_y\n",
       "0         강원도    3915     200.0       NaN       NaN      NaN    840.0\n",
       "1     강원도 강릉시   46925   52798.0   47573.0   48290.0  23395.0  29920.0\n",
       "2     강원도 동해시   10946    1210.0    8330.0       NaN   2240.0    570.0\n",
       "3     강원도 원주시    6382    3590.0    5437.0    3131.0   3753.0   3850.0\n",
       "4     강원도 인제군   70467   12960.0   64065.0    9282.0  31230.0   5630.0\n",
       "..        ...     ...       ...       ...       ...      ...      ...\n",
       "147  충청북도 음성군      78       NaN       NaN      36.0      NaN    540.0\n",
       "148  충청북도 제천시   10625    7563.0   20793.0    3246.0   6994.0    761.0\n",
       "149  충청북도 진천군     591       NaN      58.0       NaN    112.0      NaN\n",
       "150  충청북도 청주시  292296  228302.0  188988.0  101837.0  58406.0  58039.0\n",
       "151  충청북도 충주시   54295  113297.0   52762.0   48628.0  27765.0  23631.0\n",
       "\n",
       "[152 rows x 7 columns]"
      ]
     },
     "execution_count": 117,
     "metadata": {},
     "output_type": "execute_result"
    }
   ],
   "source": [
    "result2 = pd.merge(result,sum_trading_volume3, on = '산지명', how = 'left')\n",
    "result3 = pd.merge(result2,sum_trading_volume4, on = '산지명', how = 'left')\n",
    "result4 = pd.merge(result3,sum_trading_volume5, on = '산지명', how = 'left')\n",
    "result5 = pd.merge(result4,sum_trading_volume6, on = '산지명', how = 'left')\n",
    "result5"
   ]
  },
  {
   "cell_type": "code",
   "execution_count": 118,
   "metadata": {
    "scrolled": true
   },
   "outputs": [
    {
     "name": "stdout",
     "output_type": "stream",
     "text": [
      "<class 'pandas.core.frame.DataFrame'>\n",
      "Int64Index: 152 entries, 0 to 151\n",
      "Data columns (total 7 columns):\n",
      " #   Column  Non-Null Count  Dtype  \n",
      "---  ------  --------------  -----  \n",
      " 0   산지명     152 non-null    object \n",
      " 1   거래량_x   152 non-null    int64  \n",
      " 2   거래량_y   117 non-null    float64\n",
      " 3   거래량_x   128 non-null    float64\n",
      " 4   거래량_y   104 non-null    float64\n",
      " 5   거래량_x   117 non-null    float64\n",
      " 6   거래량_y   100 non-null    float64\n",
      "dtypes: float64(5), int64(1), object(1)\n",
      "memory usage: 9.5+ KB\n"
     ]
    },
    {
     "data": {
      "text/html": [
       "<div>\n",
       "<style scoped>\n",
       "    .dataframe tbody tr th:only-of-type {\n",
       "        vertical-align: middle;\n",
       "    }\n",
       "\n",
       "    .dataframe tbody tr th {\n",
       "        vertical-align: top;\n",
       "    }\n",
       "\n",
       "    .dataframe thead th {\n",
       "        text-align: right;\n",
       "    }\n",
       "</style>\n",
       "<table border=\"1\" class=\"dataframe\">\n",
       "  <thead>\n",
       "    <tr style=\"text-align: right;\">\n",
       "      <th></th>\n",
       "      <th>산지명</th>\n",
       "      <th>거래량_x</th>\n",
       "      <th>거래량_y</th>\n",
       "      <th>거래량_x</th>\n",
       "      <th>거래량_y</th>\n",
       "      <th>거래량_x</th>\n",
       "      <th>거래량_y</th>\n",
       "    </tr>\n",
       "  </thead>\n",
       "  <tbody>\n",
       "    <tr>\n",
       "      <th>0</th>\n",
       "      <td>강원도</td>\n",
       "      <td>3915</td>\n",
       "      <td>200.0</td>\n",
       "      <td>0.0</td>\n",
       "      <td>0.0</td>\n",
       "      <td>0.0</td>\n",
       "      <td>840.0</td>\n",
       "    </tr>\n",
       "    <tr>\n",
       "      <th>1</th>\n",
       "      <td>강원도 강릉시</td>\n",
       "      <td>46925</td>\n",
       "      <td>52798.0</td>\n",
       "      <td>47573.0</td>\n",
       "      <td>48290.0</td>\n",
       "      <td>23395.0</td>\n",
       "      <td>29920.0</td>\n",
       "    </tr>\n",
       "    <tr>\n",
       "      <th>2</th>\n",
       "      <td>강원도 동해시</td>\n",
       "      <td>10946</td>\n",
       "      <td>1210.0</td>\n",
       "      <td>8330.0</td>\n",
       "      <td>0.0</td>\n",
       "      <td>2240.0</td>\n",
       "      <td>570.0</td>\n",
       "    </tr>\n",
       "    <tr>\n",
       "      <th>3</th>\n",
       "      <td>강원도 원주시</td>\n",
       "      <td>6382</td>\n",
       "      <td>3590.0</td>\n",
       "      <td>5437.0</td>\n",
       "      <td>3131.0</td>\n",
       "      <td>3753.0</td>\n",
       "      <td>3850.0</td>\n",
       "    </tr>\n",
       "    <tr>\n",
       "      <th>4</th>\n",
       "      <td>강원도 인제군</td>\n",
       "      <td>70467</td>\n",
       "      <td>12960.0</td>\n",
       "      <td>64065.0</td>\n",
       "      <td>9282.0</td>\n",
       "      <td>31230.0</td>\n",
       "      <td>5630.0</td>\n",
       "    </tr>\n",
       "    <tr>\n",
       "      <th>...</th>\n",
       "      <td>...</td>\n",
       "      <td>...</td>\n",
       "      <td>...</td>\n",
       "      <td>...</td>\n",
       "      <td>...</td>\n",
       "      <td>...</td>\n",
       "      <td>...</td>\n",
       "    </tr>\n",
       "    <tr>\n",
       "      <th>147</th>\n",
       "      <td>충청북도 음성군</td>\n",
       "      <td>78</td>\n",
       "      <td>0.0</td>\n",
       "      <td>0.0</td>\n",
       "      <td>36.0</td>\n",
       "      <td>0.0</td>\n",
       "      <td>540.0</td>\n",
       "    </tr>\n",
       "    <tr>\n",
       "      <th>148</th>\n",
       "      <td>충청북도 제천시</td>\n",
       "      <td>10625</td>\n",
       "      <td>7563.0</td>\n",
       "      <td>20793.0</td>\n",
       "      <td>3246.0</td>\n",
       "      <td>6994.0</td>\n",
       "      <td>761.0</td>\n",
       "    </tr>\n",
       "    <tr>\n",
       "      <th>149</th>\n",
       "      <td>충청북도 진천군</td>\n",
       "      <td>591</td>\n",
       "      <td>0.0</td>\n",
       "      <td>58.0</td>\n",
       "      <td>0.0</td>\n",
       "      <td>112.0</td>\n",
       "      <td>0.0</td>\n",
       "    </tr>\n",
       "    <tr>\n",
       "      <th>150</th>\n",
       "      <td>충청북도 청주시</td>\n",
       "      <td>292296</td>\n",
       "      <td>228302.0</td>\n",
       "      <td>188988.0</td>\n",
       "      <td>101837.0</td>\n",
       "      <td>58406.0</td>\n",
       "      <td>58039.0</td>\n",
       "    </tr>\n",
       "    <tr>\n",
       "      <th>151</th>\n",
       "      <td>충청북도 충주시</td>\n",
       "      <td>54295</td>\n",
       "      <td>113297.0</td>\n",
       "      <td>52762.0</td>\n",
       "      <td>48628.0</td>\n",
       "      <td>27765.0</td>\n",
       "      <td>23631.0</td>\n",
       "    </tr>\n",
       "  </tbody>\n",
       "</table>\n",
       "<p>152 rows × 7 columns</p>\n",
       "</div>"
      ],
      "text/plain": [
       "          산지명   거래량_x     거래량_y     거래량_x     거래량_y    거래량_x    거래량_y\n",
       "0         강원도    3915     200.0       0.0       0.0      0.0    840.0\n",
       "1     강원도 강릉시   46925   52798.0   47573.0   48290.0  23395.0  29920.0\n",
       "2     강원도 동해시   10946    1210.0    8330.0       0.0   2240.0    570.0\n",
       "3     강원도 원주시    6382    3590.0    5437.0    3131.0   3753.0   3850.0\n",
       "4     강원도 인제군   70467   12960.0   64065.0    9282.0  31230.0   5630.0\n",
       "..        ...     ...       ...       ...       ...      ...      ...\n",
       "147  충청북도 음성군      78       0.0       0.0      36.0      0.0    540.0\n",
       "148  충청북도 제천시   10625    7563.0   20793.0    3246.0   6994.0    761.0\n",
       "149  충청북도 진천군     591       0.0      58.0       0.0    112.0      0.0\n",
       "150  충청북도 청주시  292296  228302.0  188988.0  101837.0  58406.0  58039.0\n",
       "151  충청북도 충주시   54295  113297.0   52762.0   48628.0  27765.0  23631.0\n",
       "\n",
       "[152 rows x 7 columns]"
      ]
     },
     "execution_count": 118,
     "metadata": {},
     "output_type": "execute_result"
    }
   ],
   "source": [
    "# 결측치 채우기\n",
    "result5.info()\n",
    "result5.fillna(0)"
   ]
  },
  {
   "cell_type": "code",
   "execution_count": 119,
   "metadata": {},
   "outputs": [],
   "source": [
    "# 컬럼 변경\n",
    "result5.columns=['산지명','202001','202101','202002','202102','202003','202103'] "
   ]
  },
  {
   "cell_type": "code",
   "execution_count": 120,
   "metadata": {},
   "outputs": [
    {
     "data": {
      "text/html": [
       "<div>\n",
       "<style scoped>\n",
       "    .dataframe tbody tr th:only-of-type {\n",
       "        vertical-align: middle;\n",
       "    }\n",
       "\n",
       "    .dataframe tbody tr th {\n",
       "        vertical-align: top;\n",
       "    }\n",
       "\n",
       "    .dataframe thead th {\n",
       "        text-align: right;\n",
       "    }\n",
       "</style>\n",
       "<table border=\"1\" class=\"dataframe\">\n",
       "  <thead>\n",
       "    <tr style=\"text-align: right;\">\n",
       "      <th></th>\n",
       "      <th>산지명</th>\n",
       "      <th>202001</th>\n",
       "      <th>202101</th>\n",
       "      <th>202002</th>\n",
       "      <th>202102</th>\n",
       "      <th>202003</th>\n",
       "      <th>202103</th>\n",
       "    </tr>\n",
       "  </thead>\n",
       "  <tbody>\n",
       "    <tr>\n",
       "      <th>0</th>\n",
       "      <td>강원도</td>\n",
       "      <td>3915</td>\n",
       "      <td>200.0</td>\n",
       "      <td>NaN</td>\n",
       "      <td>NaN</td>\n",
       "      <td>NaN</td>\n",
       "      <td>840.0</td>\n",
       "    </tr>\n",
       "    <tr>\n",
       "      <th>1</th>\n",
       "      <td>강원도 강릉시</td>\n",
       "      <td>46925</td>\n",
       "      <td>52798.0</td>\n",
       "      <td>47573.0</td>\n",
       "      <td>48290.0</td>\n",
       "      <td>23395.0</td>\n",
       "      <td>29920.0</td>\n",
       "    </tr>\n",
       "    <tr>\n",
       "      <th>2</th>\n",
       "      <td>강원도 동해시</td>\n",
       "      <td>10946</td>\n",
       "      <td>1210.0</td>\n",
       "      <td>8330.0</td>\n",
       "      <td>NaN</td>\n",
       "      <td>2240.0</td>\n",
       "      <td>570.0</td>\n",
       "    </tr>\n",
       "    <tr>\n",
       "      <th>3</th>\n",
       "      <td>강원도 원주시</td>\n",
       "      <td>6382</td>\n",
       "      <td>3590.0</td>\n",
       "      <td>5437.0</td>\n",
       "      <td>3131.0</td>\n",
       "      <td>3753.0</td>\n",
       "      <td>3850.0</td>\n",
       "    </tr>\n",
       "    <tr>\n",
       "      <th>4</th>\n",
       "      <td>강원도 인제군</td>\n",
       "      <td>70467</td>\n",
       "      <td>12960.0</td>\n",
       "      <td>64065.0</td>\n",
       "      <td>9282.0</td>\n",
       "      <td>31230.0</td>\n",
       "      <td>5630.0</td>\n",
       "    </tr>\n",
       "    <tr>\n",
       "      <th>...</th>\n",
       "      <td>...</td>\n",
       "      <td>...</td>\n",
       "      <td>...</td>\n",
       "      <td>...</td>\n",
       "      <td>...</td>\n",
       "      <td>...</td>\n",
       "      <td>...</td>\n",
       "    </tr>\n",
       "    <tr>\n",
       "      <th>147</th>\n",
       "      <td>충청북도 음성군</td>\n",
       "      <td>78</td>\n",
       "      <td>NaN</td>\n",
       "      <td>NaN</td>\n",
       "      <td>36.0</td>\n",
       "      <td>NaN</td>\n",
       "      <td>540.0</td>\n",
       "    </tr>\n",
       "    <tr>\n",
       "      <th>148</th>\n",
       "      <td>충청북도 제천시</td>\n",
       "      <td>10625</td>\n",
       "      <td>7563.0</td>\n",
       "      <td>20793.0</td>\n",
       "      <td>3246.0</td>\n",
       "      <td>6994.0</td>\n",
       "      <td>761.0</td>\n",
       "    </tr>\n",
       "    <tr>\n",
       "      <th>149</th>\n",
       "      <td>충청북도 진천군</td>\n",
       "      <td>591</td>\n",
       "      <td>NaN</td>\n",
       "      <td>58.0</td>\n",
       "      <td>NaN</td>\n",
       "      <td>112.0</td>\n",
       "      <td>NaN</td>\n",
       "    </tr>\n",
       "    <tr>\n",
       "      <th>150</th>\n",
       "      <td>충청북도 청주시</td>\n",
       "      <td>292296</td>\n",
       "      <td>228302.0</td>\n",
       "      <td>188988.0</td>\n",
       "      <td>101837.0</td>\n",
       "      <td>58406.0</td>\n",
       "      <td>58039.0</td>\n",
       "    </tr>\n",
       "    <tr>\n",
       "      <th>151</th>\n",
       "      <td>충청북도 충주시</td>\n",
       "      <td>54295</td>\n",
       "      <td>113297.0</td>\n",
       "      <td>52762.0</td>\n",
       "      <td>48628.0</td>\n",
       "      <td>27765.0</td>\n",
       "      <td>23631.0</td>\n",
       "    </tr>\n",
       "  </tbody>\n",
       "</table>\n",
       "<p>152 rows × 7 columns</p>\n",
       "</div>"
      ],
      "text/plain": [
       "          산지명  202001    202101    202002    202102   202003   202103\n",
       "0         강원도    3915     200.0       NaN       NaN      NaN    840.0\n",
       "1     강원도 강릉시   46925   52798.0   47573.0   48290.0  23395.0  29920.0\n",
       "2     강원도 동해시   10946    1210.0    8330.0       NaN   2240.0    570.0\n",
       "3     강원도 원주시    6382    3590.0    5437.0    3131.0   3753.0   3850.0\n",
       "4     강원도 인제군   70467   12960.0   64065.0    9282.0  31230.0   5630.0\n",
       "..        ...     ...       ...       ...       ...      ...      ...\n",
       "147  충청북도 음성군      78       NaN       NaN      36.0      NaN    540.0\n",
       "148  충청북도 제천시   10625    7563.0   20793.0    3246.0   6994.0    761.0\n",
       "149  충청북도 진천군     591       NaN      58.0       NaN    112.0      NaN\n",
       "150  충청북도 청주시  292296  228302.0  188988.0  101837.0  58406.0  58039.0\n",
       "151  충청북도 충주시   54295  113297.0   52762.0   48628.0  27765.0  23631.0\n",
       "\n",
       "[152 rows x 7 columns]"
      ]
     },
     "execution_count": 120,
     "metadata": {},
     "output_type": "execute_result"
    }
   ],
   "source": [
    "result5"
   ]
  },
  {
   "cell_type": "code",
   "execution_count": 121,
   "metadata": {},
   "outputs": [],
   "source": [
    "result5 = result5.fillna(0)"
   ]
  },
  {
   "cell_type": "code",
   "execution_count": 122,
   "metadata": {},
   "outputs": [],
   "source": [
    "# 정수 처리\n",
    "result5 = result5.astype({'202001':'int'},{'202101':'int'})#2020컬럼 정수 처리\n",
    "# TypeError: astype() takes from 2 to 4 positional arguments but 5 were given"
   ]
  },
  {
   "cell_type": "code",
   "execution_count": 123,
   "metadata": {},
   "outputs": [
    {
     "data": {
      "text/html": [
       "<div>\n",
       "<style scoped>\n",
       "    .dataframe tbody tr th:only-of-type {\n",
       "        vertical-align: middle;\n",
       "    }\n",
       "\n",
       "    .dataframe tbody tr th {\n",
       "        vertical-align: top;\n",
       "    }\n",
       "\n",
       "    .dataframe thead th {\n",
       "        text-align: right;\n",
       "    }\n",
       "</style>\n",
       "<table border=\"1\" class=\"dataframe\">\n",
       "  <thead>\n",
       "    <tr style=\"text-align: right;\">\n",
       "      <th></th>\n",
       "      <th>산지명</th>\n",
       "      <th>202001</th>\n",
       "      <th>202101</th>\n",
       "      <th>202002</th>\n",
       "      <th>202102</th>\n",
       "      <th>202003</th>\n",
       "      <th>202103</th>\n",
       "    </tr>\n",
       "  </thead>\n",
       "  <tbody>\n",
       "    <tr>\n",
       "      <th>0</th>\n",
       "      <td>False</td>\n",
       "      <td>False</td>\n",
       "      <td>False</td>\n",
       "      <td>False</td>\n",
       "      <td>False</td>\n",
       "      <td>False</td>\n",
       "      <td>False</td>\n",
       "    </tr>\n",
       "    <tr>\n",
       "      <th>1</th>\n",
       "      <td>False</td>\n",
       "      <td>False</td>\n",
       "      <td>False</td>\n",
       "      <td>False</td>\n",
       "      <td>False</td>\n",
       "      <td>False</td>\n",
       "      <td>False</td>\n",
       "    </tr>\n",
       "    <tr>\n",
       "      <th>2</th>\n",
       "      <td>False</td>\n",
       "      <td>False</td>\n",
       "      <td>False</td>\n",
       "      <td>False</td>\n",
       "      <td>False</td>\n",
       "      <td>False</td>\n",
       "      <td>False</td>\n",
       "    </tr>\n",
       "    <tr>\n",
       "      <th>3</th>\n",
       "      <td>False</td>\n",
       "      <td>False</td>\n",
       "      <td>False</td>\n",
       "      <td>False</td>\n",
       "      <td>False</td>\n",
       "      <td>False</td>\n",
       "      <td>False</td>\n",
       "    </tr>\n",
       "    <tr>\n",
       "      <th>4</th>\n",
       "      <td>False</td>\n",
       "      <td>False</td>\n",
       "      <td>False</td>\n",
       "      <td>False</td>\n",
       "      <td>False</td>\n",
       "      <td>False</td>\n",
       "      <td>False</td>\n",
       "    </tr>\n",
       "    <tr>\n",
       "      <th>...</th>\n",
       "      <td>...</td>\n",
       "      <td>...</td>\n",
       "      <td>...</td>\n",
       "      <td>...</td>\n",
       "      <td>...</td>\n",
       "      <td>...</td>\n",
       "      <td>...</td>\n",
       "    </tr>\n",
       "    <tr>\n",
       "      <th>147</th>\n",
       "      <td>False</td>\n",
       "      <td>False</td>\n",
       "      <td>False</td>\n",
       "      <td>False</td>\n",
       "      <td>False</td>\n",
       "      <td>False</td>\n",
       "      <td>False</td>\n",
       "    </tr>\n",
       "    <tr>\n",
       "      <th>148</th>\n",
       "      <td>False</td>\n",
       "      <td>False</td>\n",
       "      <td>False</td>\n",
       "      <td>False</td>\n",
       "      <td>False</td>\n",
       "      <td>False</td>\n",
       "      <td>False</td>\n",
       "    </tr>\n",
       "    <tr>\n",
       "      <th>149</th>\n",
       "      <td>False</td>\n",
       "      <td>False</td>\n",
       "      <td>False</td>\n",
       "      <td>False</td>\n",
       "      <td>False</td>\n",
       "      <td>False</td>\n",
       "      <td>False</td>\n",
       "    </tr>\n",
       "    <tr>\n",
       "      <th>150</th>\n",
       "      <td>False</td>\n",
       "      <td>False</td>\n",
       "      <td>False</td>\n",
       "      <td>False</td>\n",
       "      <td>False</td>\n",
       "      <td>False</td>\n",
       "      <td>False</td>\n",
       "    </tr>\n",
       "    <tr>\n",
       "      <th>151</th>\n",
       "      <td>False</td>\n",
       "      <td>False</td>\n",
       "      <td>False</td>\n",
       "      <td>False</td>\n",
       "      <td>False</td>\n",
       "      <td>False</td>\n",
       "      <td>False</td>\n",
       "    </tr>\n",
       "  </tbody>\n",
       "</table>\n",
       "<p>152 rows × 7 columns</p>\n",
       "</div>"
      ],
      "text/plain": [
       "       산지명  202001  202101  202002  202102  202003  202103\n",
       "0    False   False   False   False   False   False   False\n",
       "1    False   False   False   False   False   False   False\n",
       "2    False   False   False   False   False   False   False\n",
       "3    False   False   False   False   False   False   False\n",
       "4    False   False   False   False   False   False   False\n",
       "..     ...     ...     ...     ...     ...     ...     ...\n",
       "147  False   False   False   False   False   False   False\n",
       "148  False   False   False   False   False   False   False\n",
       "149  False   False   False   False   False   False   False\n",
       "150  False   False   False   False   False   False   False\n",
       "151  False   False   False   False   False   False   False\n",
       "\n",
       "[152 rows x 7 columns]"
      ]
     },
     "execution_count": 123,
     "metadata": {},
     "output_type": "execute_result"
    }
   ],
   "source": [
    "result5.isnull()"
   ]
  },
  {
   "cell_type": "code",
   "execution_count": 124,
   "metadata": {
    "scrolled": true
   },
   "outputs": [],
   "source": [
    "result5 = result5.astype({'202002':'int'},{'202102':'int'})"
   ]
  },
  {
   "cell_type": "code",
   "execution_count": 125,
   "metadata": {},
   "outputs": [
    {
     "data": {
      "text/html": [
       "<div>\n",
       "<style scoped>\n",
       "    .dataframe tbody tr th:only-of-type {\n",
       "        vertical-align: middle;\n",
       "    }\n",
       "\n",
       "    .dataframe tbody tr th {\n",
       "        vertical-align: top;\n",
       "    }\n",
       "\n",
       "    .dataframe thead th {\n",
       "        text-align: right;\n",
       "    }\n",
       "</style>\n",
       "<table border=\"1\" class=\"dataframe\">\n",
       "  <thead>\n",
       "    <tr style=\"text-align: right;\">\n",
       "      <th></th>\n",
       "      <th>산지명</th>\n",
       "      <th>202001</th>\n",
       "      <th>202101</th>\n",
       "      <th>202002</th>\n",
       "      <th>202102</th>\n",
       "      <th>202003</th>\n",
       "      <th>202103</th>\n",
       "    </tr>\n",
       "  </thead>\n",
       "  <tbody>\n",
       "    <tr>\n",
       "      <th>0</th>\n",
       "      <td>강원도</td>\n",
       "      <td>3915</td>\n",
       "      <td>200.0</td>\n",
       "      <td>0</td>\n",
       "      <td>0.0</td>\n",
       "      <td>0</td>\n",
       "      <td>840.0</td>\n",
       "    </tr>\n",
       "    <tr>\n",
       "      <th>1</th>\n",
       "      <td>강원도 강릉시</td>\n",
       "      <td>46925</td>\n",
       "      <td>52798.0</td>\n",
       "      <td>47573</td>\n",
       "      <td>48290.0</td>\n",
       "      <td>23395</td>\n",
       "      <td>29920.0</td>\n",
       "    </tr>\n",
       "    <tr>\n",
       "      <th>2</th>\n",
       "      <td>강원도 동해시</td>\n",
       "      <td>10946</td>\n",
       "      <td>1210.0</td>\n",
       "      <td>8330</td>\n",
       "      <td>0.0</td>\n",
       "      <td>2240</td>\n",
       "      <td>570.0</td>\n",
       "    </tr>\n",
       "    <tr>\n",
       "      <th>3</th>\n",
       "      <td>강원도 원주시</td>\n",
       "      <td>6382</td>\n",
       "      <td>3590.0</td>\n",
       "      <td>5437</td>\n",
       "      <td>3131.0</td>\n",
       "      <td>3753</td>\n",
       "      <td>3850.0</td>\n",
       "    </tr>\n",
       "    <tr>\n",
       "      <th>4</th>\n",
       "      <td>강원도 인제군</td>\n",
       "      <td>70467</td>\n",
       "      <td>12960.0</td>\n",
       "      <td>64065</td>\n",
       "      <td>9282.0</td>\n",
       "      <td>31230</td>\n",
       "      <td>5630.0</td>\n",
       "    </tr>\n",
       "    <tr>\n",
       "      <th>...</th>\n",
       "      <td>...</td>\n",
       "      <td>...</td>\n",
       "      <td>...</td>\n",
       "      <td>...</td>\n",
       "      <td>...</td>\n",
       "      <td>...</td>\n",
       "      <td>...</td>\n",
       "    </tr>\n",
       "    <tr>\n",
       "      <th>147</th>\n",
       "      <td>충청북도 음성군</td>\n",
       "      <td>78</td>\n",
       "      <td>0.0</td>\n",
       "      <td>0</td>\n",
       "      <td>36.0</td>\n",
       "      <td>0</td>\n",
       "      <td>540.0</td>\n",
       "    </tr>\n",
       "    <tr>\n",
       "      <th>148</th>\n",
       "      <td>충청북도 제천시</td>\n",
       "      <td>10625</td>\n",
       "      <td>7563.0</td>\n",
       "      <td>20793</td>\n",
       "      <td>3246.0</td>\n",
       "      <td>6994</td>\n",
       "      <td>761.0</td>\n",
       "    </tr>\n",
       "    <tr>\n",
       "      <th>149</th>\n",
       "      <td>충청북도 진천군</td>\n",
       "      <td>591</td>\n",
       "      <td>0.0</td>\n",
       "      <td>58</td>\n",
       "      <td>0.0</td>\n",
       "      <td>112</td>\n",
       "      <td>0.0</td>\n",
       "    </tr>\n",
       "    <tr>\n",
       "      <th>150</th>\n",
       "      <td>충청북도 청주시</td>\n",
       "      <td>292296</td>\n",
       "      <td>228302.0</td>\n",
       "      <td>188988</td>\n",
       "      <td>101837.0</td>\n",
       "      <td>58406</td>\n",
       "      <td>58039.0</td>\n",
       "    </tr>\n",
       "    <tr>\n",
       "      <th>151</th>\n",
       "      <td>충청북도 충주시</td>\n",
       "      <td>54295</td>\n",
       "      <td>113297.0</td>\n",
       "      <td>52762</td>\n",
       "      <td>48628.0</td>\n",
       "      <td>27765</td>\n",
       "      <td>23631.0</td>\n",
       "    </tr>\n",
       "  </tbody>\n",
       "</table>\n",
       "<p>152 rows × 7 columns</p>\n",
       "</div>"
      ],
      "text/plain": [
       "          산지명  202001    202101  202002    202102  202003   202103\n",
       "0         강원도    3915     200.0       0       0.0       0    840.0\n",
       "1     강원도 강릉시   46925   52798.0   47573   48290.0   23395  29920.0\n",
       "2     강원도 동해시   10946    1210.0    8330       0.0    2240    570.0\n",
       "3     강원도 원주시    6382    3590.0    5437    3131.0    3753   3850.0\n",
       "4     강원도 인제군   70467   12960.0   64065    9282.0   31230   5630.0\n",
       "..        ...     ...       ...     ...       ...     ...      ...\n",
       "147  충청북도 음성군      78       0.0       0      36.0       0    540.0\n",
       "148  충청북도 제천시   10625    7563.0   20793    3246.0    6994    761.0\n",
       "149  충청북도 진천군     591       0.0      58       0.0     112      0.0\n",
       "150  충청북도 청주시  292296  228302.0  188988  101837.0   58406  58039.0\n",
       "151  충청북도 충주시   54295  113297.0   52762   48628.0   27765  23631.0\n",
       "\n",
       "[152 rows x 7 columns]"
      ]
     },
     "execution_count": 125,
     "metadata": {},
     "output_type": "execute_result"
    }
   ],
   "source": [
    "result5 = result5.astype({'202003':'int'},{'202103':'int'})\n",
    "result5"
   ]
  },
  {
   "cell_type": "markdown",
   "metadata": {},
   "source": [
    "### 데이터 시각화 ###"
   ]
  },
  {
   "cell_type": "code",
   "execution_count": 86,
   "metadata": {},
   "outputs": [
    {
     "data": {
      "text/html": [
       "        <script type=\"text/javascript\">\n",
       "        window.PlotlyConfig = {MathJaxConfig: 'local'};\n",
       "        if (window.MathJax) {MathJax.Hub.Config({SVG: {font: \"STIX-Web\"}});}\n",
       "        if (typeof require !== 'undefined') {\n",
       "        require.undef(\"plotly\");\n",
       "        requirejs.config({\n",
       "            paths: {\n",
       "                'plotly': ['https://cdn.plot.ly/plotly-latest.min']\n",
       "            }\n",
       "        });\n",
       "        require(['plotly'], function(Plotly) {\n",
       "            window._Plotly = Plotly;\n",
       "        });\n",
       "        }\n",
       "        </script>\n",
       "        "
      ]
     },
     "metadata": {},
     "output_type": "display_data"
    }
   ],
   "source": [
    "import plotly\n",
    "import plotly.offline as pyo\n",
    "import plotly.graph_objs as go\n",
    "from plotly.offline import download_plotlyjs, init_notebook_mode, plot, iplot\n",
    "init_notebook_mode(connected=True)"
   ]
  },
  {
   "cell_type": "markdown",
   "metadata": {},
   "source": [
    "### 대파 총 거래량 합계 ###"
   ]
  },
  {
   "cell_type": "code",
   "execution_count": 89,
   "metadata": {
    "scrolled": true
   },
   "outputs": [
    {
     "data": {
      "application/vnd.plotly.v1+json": {
       "config": {
        "linkText": "Export to plot.ly",
        "plotlyServerURL": "https://plot.ly",
        "showLink": false
       },
       "data": [
        {
         "name": "2020",
         "type": "bar",
         "x": [
          "1월",
          "2월",
          "3월"
         ],
         "y": [
          9114615,
          8712647,
          3872972
         ]
        },
        {
         "name": "2021",
         "type": "bar",
         "x": [
          "1월",
          "2월",
          "3월"
         ],
         "y": [
          7197294,
          6149395,
          3300430
         ]
        },
        {
         "mode": "lines",
         "name": "2020lines",
         "type": "scatter",
         "x": [
          "1월",
          "2월",
          "3월"
         ],
         "y": [
          9114615,
          8712647,
          3872972
         ]
        },
        {
         "mode": "lines",
         "name": "2021lines",
         "type": "scatter",
         "x": [
          "1월",
          "2월",
          "3월"
         ],
         "y": [
          7197294,
          6149395,
          3300430
         ]
        }
       ],
       "layout": {
        "barmode": "stack",
        "template": {
         "data": {
          "bar": [
           {
            "error_x": {
             "color": "#2a3f5f"
            },
            "error_y": {
             "color": "#2a3f5f"
            },
            "marker": {
             "line": {
              "color": "#E5ECF6",
              "width": 0.5
             }
            },
            "type": "bar"
           }
          ],
          "barpolar": [
           {
            "marker": {
             "line": {
              "color": "#E5ECF6",
              "width": 0.5
             }
            },
            "type": "barpolar"
           }
          ],
          "carpet": [
           {
            "aaxis": {
             "endlinecolor": "#2a3f5f",
             "gridcolor": "white",
             "linecolor": "white",
             "minorgridcolor": "white",
             "startlinecolor": "#2a3f5f"
            },
            "baxis": {
             "endlinecolor": "#2a3f5f",
             "gridcolor": "white",
             "linecolor": "white",
             "minorgridcolor": "white",
             "startlinecolor": "#2a3f5f"
            },
            "type": "carpet"
           }
          ],
          "choropleth": [
           {
            "colorbar": {
             "outlinewidth": 0,
             "ticks": ""
            },
            "type": "choropleth"
           }
          ],
          "contour": [
           {
            "colorbar": {
             "outlinewidth": 0,
             "ticks": ""
            },
            "colorscale": [
             [
              0,
              "#0d0887"
             ],
             [
              0.1111111111111111,
              "#46039f"
             ],
             [
              0.2222222222222222,
              "#7201a8"
             ],
             [
              0.3333333333333333,
              "#9c179e"
             ],
             [
              0.4444444444444444,
              "#bd3786"
             ],
             [
              0.5555555555555556,
              "#d8576b"
             ],
             [
              0.6666666666666666,
              "#ed7953"
             ],
             [
              0.7777777777777778,
              "#fb9f3a"
             ],
             [
              0.8888888888888888,
              "#fdca26"
             ],
             [
              1,
              "#f0f921"
             ]
            ],
            "type": "contour"
           }
          ],
          "contourcarpet": [
           {
            "colorbar": {
             "outlinewidth": 0,
             "ticks": ""
            },
            "type": "contourcarpet"
           }
          ],
          "heatmap": [
           {
            "colorbar": {
             "outlinewidth": 0,
             "ticks": ""
            },
            "colorscale": [
             [
              0,
              "#0d0887"
             ],
             [
              0.1111111111111111,
              "#46039f"
             ],
             [
              0.2222222222222222,
              "#7201a8"
             ],
             [
              0.3333333333333333,
              "#9c179e"
             ],
             [
              0.4444444444444444,
              "#bd3786"
             ],
             [
              0.5555555555555556,
              "#d8576b"
             ],
             [
              0.6666666666666666,
              "#ed7953"
             ],
             [
              0.7777777777777778,
              "#fb9f3a"
             ],
             [
              0.8888888888888888,
              "#fdca26"
             ],
             [
              1,
              "#f0f921"
             ]
            ],
            "type": "heatmap"
           }
          ],
          "heatmapgl": [
           {
            "colorbar": {
             "outlinewidth": 0,
             "ticks": ""
            },
            "colorscale": [
             [
              0,
              "#0d0887"
             ],
             [
              0.1111111111111111,
              "#46039f"
             ],
             [
              0.2222222222222222,
              "#7201a8"
             ],
             [
              0.3333333333333333,
              "#9c179e"
             ],
             [
              0.4444444444444444,
              "#bd3786"
             ],
             [
              0.5555555555555556,
              "#d8576b"
             ],
             [
              0.6666666666666666,
              "#ed7953"
             ],
             [
              0.7777777777777778,
              "#fb9f3a"
             ],
             [
              0.8888888888888888,
              "#fdca26"
             ],
             [
              1,
              "#f0f921"
             ]
            ],
            "type": "heatmapgl"
           }
          ],
          "histogram": [
           {
            "marker": {
             "colorbar": {
              "outlinewidth": 0,
              "ticks": ""
             }
            },
            "type": "histogram"
           }
          ],
          "histogram2d": [
           {
            "colorbar": {
             "outlinewidth": 0,
             "ticks": ""
            },
            "colorscale": [
             [
              0,
              "#0d0887"
             ],
             [
              0.1111111111111111,
              "#46039f"
             ],
             [
              0.2222222222222222,
              "#7201a8"
             ],
             [
              0.3333333333333333,
              "#9c179e"
             ],
             [
              0.4444444444444444,
              "#bd3786"
             ],
             [
              0.5555555555555556,
              "#d8576b"
             ],
             [
              0.6666666666666666,
              "#ed7953"
             ],
             [
              0.7777777777777778,
              "#fb9f3a"
             ],
             [
              0.8888888888888888,
              "#fdca26"
             ],
             [
              1,
              "#f0f921"
             ]
            ],
            "type": "histogram2d"
           }
          ],
          "histogram2dcontour": [
           {
            "colorbar": {
             "outlinewidth": 0,
             "ticks": ""
            },
            "colorscale": [
             [
              0,
              "#0d0887"
             ],
             [
              0.1111111111111111,
              "#46039f"
             ],
             [
              0.2222222222222222,
              "#7201a8"
             ],
             [
              0.3333333333333333,
              "#9c179e"
             ],
             [
              0.4444444444444444,
              "#bd3786"
             ],
             [
              0.5555555555555556,
              "#d8576b"
             ],
             [
              0.6666666666666666,
              "#ed7953"
             ],
             [
              0.7777777777777778,
              "#fb9f3a"
             ],
             [
              0.8888888888888888,
              "#fdca26"
             ],
             [
              1,
              "#f0f921"
             ]
            ],
            "type": "histogram2dcontour"
           }
          ],
          "mesh3d": [
           {
            "colorbar": {
             "outlinewidth": 0,
             "ticks": ""
            },
            "type": "mesh3d"
           }
          ],
          "parcoords": [
           {
            "line": {
             "colorbar": {
              "outlinewidth": 0,
              "ticks": ""
             }
            },
            "type": "parcoords"
           }
          ],
          "pie": [
           {
            "automargin": true,
            "type": "pie"
           }
          ],
          "scatter": [
           {
            "marker": {
             "colorbar": {
              "outlinewidth": 0,
              "ticks": ""
             }
            },
            "type": "scatter"
           }
          ],
          "scatter3d": [
           {
            "line": {
             "colorbar": {
              "outlinewidth": 0,
              "ticks": ""
             }
            },
            "marker": {
             "colorbar": {
              "outlinewidth": 0,
              "ticks": ""
             }
            },
            "type": "scatter3d"
           }
          ],
          "scattercarpet": [
           {
            "marker": {
             "colorbar": {
              "outlinewidth": 0,
              "ticks": ""
             }
            },
            "type": "scattercarpet"
           }
          ],
          "scattergeo": [
           {
            "marker": {
             "colorbar": {
              "outlinewidth": 0,
              "ticks": ""
             }
            },
            "type": "scattergeo"
           }
          ],
          "scattergl": [
           {
            "marker": {
             "colorbar": {
              "outlinewidth": 0,
              "ticks": ""
             }
            },
            "type": "scattergl"
           }
          ],
          "scattermapbox": [
           {
            "marker": {
             "colorbar": {
              "outlinewidth": 0,
              "ticks": ""
             }
            },
            "type": "scattermapbox"
           }
          ],
          "scatterpolar": [
           {
            "marker": {
             "colorbar": {
              "outlinewidth": 0,
              "ticks": ""
             }
            },
            "type": "scatterpolar"
           }
          ],
          "scatterpolargl": [
           {
            "marker": {
             "colorbar": {
              "outlinewidth": 0,
              "ticks": ""
             }
            },
            "type": "scatterpolargl"
           }
          ],
          "scatterternary": [
           {
            "marker": {
             "colorbar": {
              "outlinewidth": 0,
              "ticks": ""
             }
            },
            "type": "scatterternary"
           }
          ],
          "surface": [
           {
            "colorbar": {
             "outlinewidth": 0,
             "ticks": ""
            },
            "colorscale": [
             [
              0,
              "#0d0887"
             ],
             [
              0.1111111111111111,
              "#46039f"
             ],
             [
              0.2222222222222222,
              "#7201a8"
             ],
             [
              0.3333333333333333,
              "#9c179e"
             ],
             [
              0.4444444444444444,
              "#bd3786"
             ],
             [
              0.5555555555555556,
              "#d8576b"
             ],
             [
              0.6666666666666666,
              "#ed7953"
             ],
             [
              0.7777777777777778,
              "#fb9f3a"
             ],
             [
              0.8888888888888888,
              "#fdca26"
             ],
             [
              1,
              "#f0f921"
             ]
            ],
            "type": "surface"
           }
          ],
          "table": [
           {
            "cells": {
             "fill": {
              "color": "#EBF0F8"
             },
             "line": {
              "color": "white"
             }
            },
            "header": {
             "fill": {
              "color": "#C8D4E3"
             },
             "line": {
              "color": "white"
             }
            },
            "type": "table"
           }
          ]
         },
         "layout": {
          "annotationdefaults": {
           "arrowcolor": "#2a3f5f",
           "arrowhead": 0,
           "arrowwidth": 1
          },
          "autotypenumbers": "strict",
          "coloraxis": {
           "colorbar": {
            "outlinewidth": 0,
            "ticks": ""
           }
          },
          "colorscale": {
           "diverging": [
            [
             0,
             "#8e0152"
            ],
            [
             0.1,
             "#c51b7d"
            ],
            [
             0.2,
             "#de77ae"
            ],
            [
             0.3,
             "#f1b6da"
            ],
            [
             0.4,
             "#fde0ef"
            ],
            [
             0.5,
             "#f7f7f7"
            ],
            [
             0.6,
             "#e6f5d0"
            ],
            [
             0.7,
             "#b8e186"
            ],
            [
             0.8,
             "#7fbc41"
            ],
            [
             0.9,
             "#4d9221"
            ],
            [
             1,
             "#276419"
            ]
           ],
           "sequential": [
            [
             0,
             "#0d0887"
            ],
            [
             0.1111111111111111,
             "#46039f"
            ],
            [
             0.2222222222222222,
             "#7201a8"
            ],
            [
             0.3333333333333333,
             "#9c179e"
            ],
            [
             0.4444444444444444,
             "#bd3786"
            ],
            [
             0.5555555555555556,
             "#d8576b"
            ],
            [
             0.6666666666666666,
             "#ed7953"
            ],
            [
             0.7777777777777778,
             "#fb9f3a"
            ],
            [
             0.8888888888888888,
             "#fdca26"
            ],
            [
             1,
             "#f0f921"
            ]
           ],
           "sequentialminus": [
            [
             0,
             "#0d0887"
            ],
            [
             0.1111111111111111,
             "#46039f"
            ],
            [
             0.2222222222222222,
             "#7201a8"
            ],
            [
             0.3333333333333333,
             "#9c179e"
            ],
            [
             0.4444444444444444,
             "#bd3786"
            ],
            [
             0.5555555555555556,
             "#d8576b"
            ],
            [
             0.6666666666666666,
             "#ed7953"
            ],
            [
             0.7777777777777778,
             "#fb9f3a"
            ],
            [
             0.8888888888888888,
             "#fdca26"
            ],
            [
             1,
             "#f0f921"
            ]
           ]
          },
          "colorway": [
           "#636efa",
           "#EF553B",
           "#00cc96",
           "#ab63fa",
           "#FFA15A",
           "#19d3f3",
           "#FF6692",
           "#B6E880",
           "#FF97FF",
           "#FECB52"
          ],
          "font": {
           "color": "#2a3f5f"
          },
          "geo": {
           "bgcolor": "white",
           "lakecolor": "white",
           "landcolor": "#E5ECF6",
           "showlakes": true,
           "showland": true,
           "subunitcolor": "white"
          },
          "hoverlabel": {
           "align": "left"
          },
          "hovermode": "closest",
          "mapbox": {
           "style": "light"
          },
          "paper_bgcolor": "white",
          "plot_bgcolor": "#E5ECF6",
          "polar": {
           "angularaxis": {
            "gridcolor": "white",
            "linecolor": "white",
            "ticks": ""
           },
           "bgcolor": "#E5ECF6",
           "radialaxis": {
            "gridcolor": "white",
            "linecolor": "white",
            "ticks": ""
           }
          },
          "scene": {
           "xaxis": {
            "backgroundcolor": "#E5ECF6",
            "gridcolor": "white",
            "gridwidth": 2,
            "linecolor": "white",
            "showbackground": true,
            "ticks": "",
            "zerolinecolor": "white"
           },
           "yaxis": {
            "backgroundcolor": "#E5ECF6",
            "gridcolor": "white",
            "gridwidth": 2,
            "linecolor": "white",
            "showbackground": true,
            "ticks": "",
            "zerolinecolor": "white"
           },
           "zaxis": {
            "backgroundcolor": "#E5ECF6",
            "gridcolor": "white",
            "gridwidth": 2,
            "linecolor": "white",
            "showbackground": true,
            "ticks": "",
            "zerolinecolor": "white"
           }
          },
          "shapedefaults": {
           "line": {
            "color": "#2a3f5f"
           }
          },
          "ternary": {
           "aaxis": {
            "gridcolor": "white",
            "linecolor": "white",
            "ticks": ""
           },
           "baxis": {
            "gridcolor": "white",
            "linecolor": "white",
            "ticks": ""
           },
           "bgcolor": "#E5ECF6",
           "caxis": {
            "gridcolor": "white",
            "linecolor": "white",
            "ticks": ""
           }
          },
          "title": {
           "x": 0.05
          },
          "xaxis": {
           "automargin": true,
           "gridcolor": "white",
           "linecolor": "white",
           "ticks": "",
           "title": {
            "standoff": 15
           },
           "zerolinecolor": "white",
           "zerolinewidth": 2
          },
          "yaxis": {
           "automargin": true,
           "gridcolor": "white",
           "linecolor": "white",
           "ticks": "",
           "title": {
            "standoff": 15
           },
           "zerolinecolor": "white",
           "zerolinewidth": 2
          }
         }
        },
        "title": {
         "text": "2020-2021 1~3월 대파 총 거래량"
        }
       }
      },
      "text/html": [
       "<div>                            <div id=\"b1b3f21a-a506-415f-acf4-a63c0127fc28\" class=\"plotly-graph-div\" style=\"height:525px; width:100%;\"></div>            <script type=\"text/javascript\">                require([\"plotly\"], function(Plotly) {                    window.PLOTLYENV=window.PLOTLYENV || {};                                    if (document.getElementById(\"b1b3f21a-a506-415f-acf4-a63c0127fc28\")) {                    Plotly.newPlot(                        \"b1b3f21a-a506-415f-acf4-a63c0127fc28\",                        [{\"name\": \"2020\", \"type\": \"bar\", \"x\": [\"1\\uc6d4\", \"2\\uc6d4\", \"3\\uc6d4\"], \"y\": [9114615, 8712647, 3872972]}, {\"name\": \"2021\", \"type\": \"bar\", \"x\": [\"1\\uc6d4\", \"2\\uc6d4\", \"3\\uc6d4\"], \"y\": [7197294, 6149395, 3300430]}, {\"mode\": \"lines\", \"name\": \"2020lines\", \"type\": \"scatter\", \"x\": [\"1\\uc6d4\", \"2\\uc6d4\", \"3\\uc6d4\"], \"y\": [9114615, 8712647, 3872972]}, {\"mode\": \"lines\", \"name\": \"2021lines\", \"type\": \"scatter\", \"x\": [\"1\\uc6d4\", \"2\\uc6d4\", \"3\\uc6d4\"], \"y\": [7197294, 6149395, 3300430]}],                        {\"barmode\": \"stack\", \"template\": {\"data\": {\"bar\": [{\"error_x\": {\"color\": \"#2a3f5f\"}, \"error_y\": {\"color\": \"#2a3f5f\"}, \"marker\": {\"line\": {\"color\": \"#E5ECF6\", \"width\": 0.5}}, \"type\": \"bar\"}], \"barpolar\": [{\"marker\": {\"line\": {\"color\": \"#E5ECF6\", \"width\": 0.5}}, \"type\": \"barpolar\"}], \"carpet\": [{\"aaxis\": {\"endlinecolor\": \"#2a3f5f\", \"gridcolor\": \"white\", \"linecolor\": \"white\", \"minorgridcolor\": \"white\", \"startlinecolor\": \"#2a3f5f\"}, \"baxis\": {\"endlinecolor\": \"#2a3f5f\", \"gridcolor\": \"white\", \"linecolor\": \"white\", \"minorgridcolor\": \"white\", \"startlinecolor\": \"#2a3f5f\"}, \"type\": \"carpet\"}], \"choropleth\": [{\"colorbar\": {\"outlinewidth\": 0, \"ticks\": \"\"}, \"type\": \"choropleth\"}], \"contour\": [{\"colorbar\": {\"outlinewidth\": 0, \"ticks\": \"\"}, \"colorscale\": [[0.0, \"#0d0887\"], [0.1111111111111111, \"#46039f\"], [0.2222222222222222, \"#7201a8\"], [0.3333333333333333, \"#9c179e\"], [0.4444444444444444, \"#bd3786\"], [0.5555555555555556, \"#d8576b\"], [0.6666666666666666, \"#ed7953\"], [0.7777777777777778, \"#fb9f3a\"], [0.8888888888888888, \"#fdca26\"], [1.0, \"#f0f921\"]], \"type\": \"contour\"}], \"contourcarpet\": [{\"colorbar\": {\"outlinewidth\": 0, \"ticks\": \"\"}, \"type\": \"contourcarpet\"}], \"heatmap\": [{\"colorbar\": {\"outlinewidth\": 0, \"ticks\": \"\"}, \"colorscale\": [[0.0, \"#0d0887\"], [0.1111111111111111, \"#46039f\"], [0.2222222222222222, \"#7201a8\"], [0.3333333333333333, \"#9c179e\"], [0.4444444444444444, \"#bd3786\"], [0.5555555555555556, \"#d8576b\"], [0.6666666666666666, \"#ed7953\"], [0.7777777777777778, \"#fb9f3a\"], [0.8888888888888888, \"#fdca26\"], [1.0, \"#f0f921\"]], \"type\": \"heatmap\"}], \"heatmapgl\": [{\"colorbar\": {\"outlinewidth\": 0, \"ticks\": \"\"}, \"colorscale\": [[0.0, \"#0d0887\"], [0.1111111111111111, \"#46039f\"], [0.2222222222222222, \"#7201a8\"], [0.3333333333333333, \"#9c179e\"], [0.4444444444444444, \"#bd3786\"], [0.5555555555555556, \"#d8576b\"], [0.6666666666666666, \"#ed7953\"], [0.7777777777777778, \"#fb9f3a\"], [0.8888888888888888, \"#fdca26\"], [1.0, \"#f0f921\"]], \"type\": \"heatmapgl\"}], \"histogram\": [{\"marker\": {\"colorbar\": {\"outlinewidth\": 0, \"ticks\": \"\"}}, \"type\": \"histogram\"}], \"histogram2d\": [{\"colorbar\": {\"outlinewidth\": 0, \"ticks\": \"\"}, \"colorscale\": [[0.0, \"#0d0887\"], [0.1111111111111111, \"#46039f\"], [0.2222222222222222, \"#7201a8\"], [0.3333333333333333, \"#9c179e\"], [0.4444444444444444, \"#bd3786\"], [0.5555555555555556, \"#d8576b\"], [0.6666666666666666, \"#ed7953\"], [0.7777777777777778, \"#fb9f3a\"], [0.8888888888888888, \"#fdca26\"], [1.0, \"#f0f921\"]], \"type\": \"histogram2d\"}], \"histogram2dcontour\": [{\"colorbar\": {\"outlinewidth\": 0, \"ticks\": \"\"}, \"colorscale\": [[0.0, \"#0d0887\"], [0.1111111111111111, \"#46039f\"], [0.2222222222222222, \"#7201a8\"], [0.3333333333333333, \"#9c179e\"], [0.4444444444444444, \"#bd3786\"], [0.5555555555555556, \"#d8576b\"], [0.6666666666666666, \"#ed7953\"], [0.7777777777777778, \"#fb9f3a\"], [0.8888888888888888, \"#fdca26\"], [1.0, \"#f0f921\"]], \"type\": \"histogram2dcontour\"}], \"mesh3d\": [{\"colorbar\": {\"outlinewidth\": 0, \"ticks\": \"\"}, \"type\": \"mesh3d\"}], \"parcoords\": [{\"line\": {\"colorbar\": {\"outlinewidth\": 0, \"ticks\": \"\"}}, \"type\": \"parcoords\"}], \"pie\": [{\"automargin\": true, \"type\": \"pie\"}], \"scatter\": [{\"marker\": {\"colorbar\": {\"outlinewidth\": 0, \"ticks\": \"\"}}, \"type\": \"scatter\"}], \"scatter3d\": [{\"line\": {\"colorbar\": {\"outlinewidth\": 0, \"ticks\": \"\"}}, \"marker\": {\"colorbar\": {\"outlinewidth\": 0, \"ticks\": \"\"}}, \"type\": \"scatter3d\"}], \"scattercarpet\": [{\"marker\": {\"colorbar\": {\"outlinewidth\": 0, \"ticks\": \"\"}}, \"type\": \"scattercarpet\"}], \"scattergeo\": [{\"marker\": {\"colorbar\": {\"outlinewidth\": 0, \"ticks\": \"\"}}, \"type\": \"scattergeo\"}], \"scattergl\": [{\"marker\": {\"colorbar\": {\"outlinewidth\": 0, \"ticks\": \"\"}}, \"type\": \"scattergl\"}], \"scattermapbox\": [{\"marker\": {\"colorbar\": {\"outlinewidth\": 0, \"ticks\": \"\"}}, \"type\": \"scattermapbox\"}], \"scatterpolar\": [{\"marker\": {\"colorbar\": {\"outlinewidth\": 0, \"ticks\": \"\"}}, \"type\": \"scatterpolar\"}], \"scatterpolargl\": [{\"marker\": {\"colorbar\": {\"outlinewidth\": 0, \"ticks\": \"\"}}, \"type\": \"scatterpolargl\"}], \"scatterternary\": [{\"marker\": {\"colorbar\": {\"outlinewidth\": 0, \"ticks\": \"\"}}, \"type\": \"scatterternary\"}], \"surface\": [{\"colorbar\": {\"outlinewidth\": 0, \"ticks\": \"\"}, \"colorscale\": [[0.0, \"#0d0887\"], [0.1111111111111111, \"#46039f\"], [0.2222222222222222, \"#7201a8\"], [0.3333333333333333, \"#9c179e\"], [0.4444444444444444, \"#bd3786\"], [0.5555555555555556, \"#d8576b\"], [0.6666666666666666, \"#ed7953\"], [0.7777777777777778, \"#fb9f3a\"], [0.8888888888888888, \"#fdca26\"], [1.0, \"#f0f921\"]], \"type\": \"surface\"}], \"table\": [{\"cells\": {\"fill\": {\"color\": \"#EBF0F8\"}, \"line\": {\"color\": \"white\"}}, \"header\": {\"fill\": {\"color\": \"#C8D4E3\"}, \"line\": {\"color\": \"white\"}}, \"type\": \"table\"}]}, \"layout\": {\"annotationdefaults\": {\"arrowcolor\": \"#2a3f5f\", \"arrowhead\": 0, \"arrowwidth\": 1}, \"autotypenumbers\": \"strict\", \"coloraxis\": {\"colorbar\": {\"outlinewidth\": 0, \"ticks\": \"\"}}, \"colorscale\": {\"diverging\": [[0, \"#8e0152\"], [0.1, \"#c51b7d\"], [0.2, \"#de77ae\"], [0.3, \"#f1b6da\"], [0.4, \"#fde0ef\"], [0.5, \"#f7f7f7\"], [0.6, \"#e6f5d0\"], [0.7, \"#b8e186\"], [0.8, \"#7fbc41\"], [0.9, \"#4d9221\"], [1, \"#276419\"]], \"sequential\": [[0.0, \"#0d0887\"], [0.1111111111111111, \"#46039f\"], [0.2222222222222222, \"#7201a8\"], [0.3333333333333333, \"#9c179e\"], [0.4444444444444444, \"#bd3786\"], [0.5555555555555556, \"#d8576b\"], [0.6666666666666666, \"#ed7953\"], [0.7777777777777778, \"#fb9f3a\"], [0.8888888888888888, \"#fdca26\"], [1.0, \"#f0f921\"]], \"sequentialminus\": [[0.0, \"#0d0887\"], [0.1111111111111111, \"#46039f\"], [0.2222222222222222, \"#7201a8\"], [0.3333333333333333, \"#9c179e\"], [0.4444444444444444, \"#bd3786\"], [0.5555555555555556, \"#d8576b\"], [0.6666666666666666, \"#ed7953\"], [0.7777777777777778, \"#fb9f3a\"], [0.8888888888888888, \"#fdca26\"], [1.0, \"#f0f921\"]]}, \"colorway\": [\"#636efa\", \"#EF553B\", \"#00cc96\", \"#ab63fa\", \"#FFA15A\", \"#19d3f3\", \"#FF6692\", \"#B6E880\", \"#FF97FF\", \"#FECB52\"], \"font\": {\"color\": \"#2a3f5f\"}, \"geo\": {\"bgcolor\": \"white\", \"lakecolor\": \"white\", \"landcolor\": \"#E5ECF6\", \"showlakes\": true, \"showland\": true, \"subunitcolor\": \"white\"}, \"hoverlabel\": {\"align\": \"left\"}, \"hovermode\": \"closest\", \"mapbox\": {\"style\": \"light\"}, \"paper_bgcolor\": \"white\", \"plot_bgcolor\": \"#E5ECF6\", \"polar\": {\"angularaxis\": {\"gridcolor\": \"white\", \"linecolor\": \"white\", \"ticks\": \"\"}, \"bgcolor\": \"#E5ECF6\", \"radialaxis\": {\"gridcolor\": \"white\", \"linecolor\": \"white\", \"ticks\": \"\"}}, \"scene\": {\"xaxis\": {\"backgroundcolor\": \"#E5ECF6\", \"gridcolor\": \"white\", \"gridwidth\": 2, \"linecolor\": \"white\", \"showbackground\": true, \"ticks\": \"\", \"zerolinecolor\": \"white\"}, \"yaxis\": {\"backgroundcolor\": \"#E5ECF6\", \"gridcolor\": \"white\", \"gridwidth\": 2, \"linecolor\": \"white\", \"showbackground\": true, \"ticks\": \"\", \"zerolinecolor\": \"white\"}, \"zaxis\": {\"backgroundcolor\": \"#E5ECF6\", \"gridcolor\": \"white\", \"gridwidth\": 2, \"linecolor\": \"white\", \"showbackground\": true, \"ticks\": \"\", \"zerolinecolor\": \"white\"}}, \"shapedefaults\": {\"line\": {\"color\": \"#2a3f5f\"}}, \"ternary\": {\"aaxis\": {\"gridcolor\": \"white\", \"linecolor\": \"white\", \"ticks\": \"\"}, \"baxis\": {\"gridcolor\": \"white\", \"linecolor\": \"white\", \"ticks\": \"\"}, \"bgcolor\": \"#E5ECF6\", \"caxis\": {\"gridcolor\": \"white\", \"linecolor\": \"white\", \"ticks\": \"\"}}, \"title\": {\"x\": 0.05}, \"xaxis\": {\"automargin\": true, \"gridcolor\": \"white\", \"linecolor\": \"white\", \"ticks\": \"\", \"title\": {\"standoff\": 15}, \"zerolinecolor\": \"white\", \"zerolinewidth\": 2}, \"yaxis\": {\"automargin\": true, \"gridcolor\": \"white\", \"linecolor\": \"white\", \"ticks\": \"\", \"title\": {\"standoff\": 15}, \"zerolinecolor\": \"white\", \"zerolinewidth\": 2}}}, \"title\": {\"text\": \"2020-2021 1~3\\uc6d4 \\ub300\\ud30c \\ucd1d \\uac70\\ub798\\ub7c9\"}},                        {\"responsive\": true}                    ).then(function(){\n",
       "                            \n",
       "var gd = document.getElementById('b1b3f21a-a506-415f-acf4-a63c0127fc28');\n",
       "var x = new MutationObserver(function (mutations, observer) {{\n",
       "        var display = window.getComputedStyle(gd).display;\n",
       "        if (!display || display === 'none') {{\n",
       "            console.log([gd, 'removed!']);\n",
       "            Plotly.purge(gd);\n",
       "            observer.disconnect();\n",
       "        }}\n",
       "}});\n",
       "\n",
       "// Listen for the removal of the full notebook cells\n",
       "var notebookContainer = gd.closest('#notebook-container');\n",
       "if (notebookContainer) {{\n",
       "    x.observe(notebookContainer, {childList: true});\n",
       "}}\n",
       "\n",
       "// Listen for the clearing of the current output cell\n",
       "var outputEl = gd.closest('.output');\n",
       "if (outputEl) {{\n",
       "    x.observe(outputEl, {childList: true});\n",
       "}}\n",
       "\n",
       "                        })                };                });            </script>        </div>"
      ]
     },
     "metadata": {},
     "output_type": "display_data"
    }
   ],
   "source": [
    "#꺾은선,누적막대(stacked)\n",
    "trace1 = go.Bar(x=result4['month'], y=result4['2020'], name='2020')\n",
    "trace2 = go.Bar(x=result4['month'], y=result4['2021'], name='2021')\n",
    "trace3 = go.Scatter(x = result4['month'], y = result4['2020'], mode = 'lines', name = '2020lines')\n",
    "trace4 = go.Scatter(x = result4['month'], y = result4['2021'], mode = 'lines', name = '2021lines')\n",
    "\n",
    "data = [trace1, trace2, trace3, trace4]\n",
    "\n",
    "layout = go.Layout(title='2020-2021 1~3월 대파 총 거래량', barmode='stack')\n",
    "\n",
    "fig = go.Figure(data=data, layout=layout)\n",
    "pyo.iplot(fig)\n",
    " "
   ]
  },
  {
   "cell_type": "markdown",
   "metadata": {},
   "source": [
    "### 산지 별 총 거래량 합계 ###"
   ]
  },
  {
   "cell_type": "code",
   "execution_count": 130,
   "metadata": {},
   "outputs": [
    {
     "data": {
      "application/vnd.plotly.v1+json": {
       "config": {
        "linkText": "Export to plot.ly",
        "plotlyServerURL": "https://plot.ly",
        "showLink": false
       },
       "data": [
        {
         "name": "2020년1월",
         "type": "bar",
         "x": [
          "강원도",
          "강원도 강릉시",
          "강원도 동해시",
          "강원도 원주시",
          "강원도 인제군",
          "강원도 정선군",
          "강원도 철원군",
          "강원도 춘천시",
          "강원도 평창군",
          "경기도",
          "경기도 고양시",
          "경기도 구리시",
          "경기도 군포시",
          "경기도 김포시",
          "경기도 남양주시",
          "경기도 동두천시",
          "경기도 수원시",
          "경기도 안산시",
          "경기도 안성시",
          "경기도 안양시",
          "경기도 양주시",
          "경기도 여주시",
          "경기도 연천군",
          "경기도 이천시",
          "경기도 파주시",
          "경기도 평택시",
          "경기도 포천시",
          "경기도 화성시",
          "경상남도",
          "경상남도 거창군",
          "경상남도 김해시",
          "경상남도 남해군",
          "경상남도 밀양시",
          "경상남도 사천시",
          "경상남도 양산시",
          "경상남도 진주시",
          "경상남도 창녕군",
          "경상남도 창원시",
          "경상남도 하동군",
          "경상남도 함안군",
          "경상남도 함양군",
          "경상북도 경산시",
          "경상북도 경주시",
          "경상북도 고령군",
          "경상북도 구미시",
          "경상북도 군위군",
          "경상북도 김천시",
          "경상북도 봉화군",
          "경상북도 상주시",
          "경상북도 안동시",
          "경상북도 영덕군",
          "경상북도 영천시",
          "경상북도 칠곡군",
          "광주광역시",
          "광주광역시 광산구",
          "광주광역시 남구",
          "광주광역시 북구",
          "광주광역시 서구",
          "대구광역시",
          "대구광역시 남구",
          "대구광역시 달서구",
          "대구광역시 동구",
          "대구광역시 북구",
          "대구광역시 수성구",
          "대구광역시 중구",
          "대전광역시",
          "대전광역시 대덕구",
          "대전광역시 동구",
          "대전광역시 서구",
          "대전광역시 유성구",
          "부산광역시",
          "부산광역시 강서구",
          "부산광역시 사상구",
          "부산광역시 중구",
          "부산광역시 해운대구",
          "서울특별시",
          "서울특별시 강서구",
          "서울특별시 마포구",
          "서울특별시 성북구",
          "서울특별시 송파구",
          "서울특별시 양천구",
          "서울특별시 은평구",
          "서울특별시 중랑구",
          "세종특별자치시",
          "울산광역시",
          "울산광역시 남구",
          "인천광역시",
          "인천광역시 계양구",
          "인천광역시 남구",
          "인천광역시 남동구",
          "인천광역시 동구",
          "인천광역시 부평구",
          "인천광역시 연수구",
          "전라남도",
          "전라남도 강진군",
          "전라남도 고흥군",
          "전라남도 광양시",
          "전라남도 나주시",
          "전라남도 목포시",
          "전라남도 무안군",
          "전라남도 보성군",
          "전라남도 순천시",
          "전라남도 신안군",
          "전라남도 여수시",
          "전라남도 영광군",
          "전라남도 영암군",
          "전라남도 완도군",
          "전라남도 장성군",
          "전라남도 장흥군",
          "전라남도 진도군",
          "전라남도 함평군",
          "전라남도 해남군",
          "전라남도 화순군",
          "전라북도",
          "전라북도 고창군",
          "전라북도 군산시",
          "전라북도 김제시",
          "전라북도 남원시",
          "전라북도 부안군",
          "전라북도 완주군",
          "전라북도 익산시",
          "전라북도 임실군",
          "전라북도 장수군",
          "전라북도 전주시",
          "전라북도 정읍시",
          "전라북도 진안군",
          "제주특별자치도",
          "제주특별자치도 서귀포시",
          "제주특별자치도 제주시",
          "중국",
          "충청남도 공주시",
          "충청남도 금산군",
          "충청남도 논산시",
          "충청남도 당진시",
          "충청남도 보령시",
          "충청남도 부여군",
          "충청남도 서산시",
          "충청남도 서천군",
          "충청남도 아산시",
          "충청남도 예산군",
          "충청남도 천안시",
          "충청남도 태안군",
          "충청남도 홍성군",
          "충청북도",
          "충청북도 괴산군",
          "충청북도 보은군",
          "충청북도 영동군",
          "충청북도 음성군",
          "충청북도 제천시",
          "충청북도 진천군",
          "충청북도 청주시",
          "충청북도 충주시"
         ],
         "y": [
          3915,
          46925,
          10946,
          6382,
          70467,
          9170,
          22570,
          13670,
          3156,
          7280,
          18220,
          364288,
          763,
          42930,
          10312,
          14150,
          107199,
          930,
          6010,
          1650,
          82902,
          328,
          6540,
          47431,
          115260,
          8230,
          26888,
          830,
          50288,
          40,
          181893,
          40,
          37014,
          2650,
          2200,
          9323,
          1660,
          109249,
          123,
          1054,
          27951,
          435,
          153,
          10427,
          13827,
          2700,
          4900,
          820,
          75,
          150,
          242,
          53530,
          23085,
          24003,
          4620,
          504,
          8190,
          14527,
          56030,
          5280,
          9920,
          964,
          140,
          1552,
          152,
          1389,
          3752,
          125,
          355,
          44124,
          317795,
          200317,
          67126,
          170145,
          65707,
          60284,
          143610,
          6429,
          6990,
          90678,
          200,
          106110,
          14700,
          42787,
          4313,
          27342,
          66982,
          17050,
          41420,
          67759,
          1490,
          3330,
          32400,
          207712,
          3036,
          22912,
          7450,
          5248,
          111886,
          21326,
          10859,
          7318,
          1607819,
          35708,
          227843,
          223,
          53860,
          953,
          43,
          2049449,
          185,
          98867,
          300,
          10000,
          11668,
          4041,
          5838,
          11695,
          5101,
          108619,
          55805,
          70,
          5417,
          79319,
          9793,
          865,
          202,
          155,
          1143,
          3344,
          3916,
          5480,
          2020,
          5082,
          36,
          4190,
          59005,
          3223,
          130551,
          108972,
          67716,
          7707,
          10666,
          5120,
          1227,
          916,
          2719,
          78,
          10625,
          591,
          292296,
          54295
         ]
        },
        {
         "name": "2021년1월",
         "type": "bar",
         "x": [
          "강원도",
          "강원도 강릉시",
          "강원도 동해시",
          "강원도 원주시",
          "강원도 인제군",
          "강원도 정선군",
          "강원도 철원군",
          "강원도 춘천시",
          "강원도 평창군",
          "경기도",
          "경기도 고양시",
          "경기도 구리시",
          "경기도 군포시",
          "경기도 김포시",
          "경기도 남양주시",
          "경기도 동두천시",
          "경기도 수원시",
          "경기도 안산시",
          "경기도 안성시",
          "경기도 안양시",
          "경기도 양주시",
          "경기도 여주시",
          "경기도 연천군",
          "경기도 이천시",
          "경기도 파주시",
          "경기도 평택시",
          "경기도 포천시",
          "경기도 화성시",
          "경상남도",
          "경상남도 거창군",
          "경상남도 김해시",
          "경상남도 남해군",
          "경상남도 밀양시",
          "경상남도 사천시",
          "경상남도 양산시",
          "경상남도 진주시",
          "경상남도 창녕군",
          "경상남도 창원시",
          "경상남도 하동군",
          "경상남도 함안군",
          "경상남도 함양군",
          "경상북도 경산시",
          "경상북도 경주시",
          "경상북도 고령군",
          "경상북도 구미시",
          "경상북도 군위군",
          "경상북도 김천시",
          "경상북도 봉화군",
          "경상북도 상주시",
          "경상북도 안동시",
          "경상북도 영덕군",
          "경상북도 영천시",
          "경상북도 칠곡군",
          "광주광역시",
          "광주광역시 광산구",
          "광주광역시 남구",
          "광주광역시 북구",
          "광주광역시 서구",
          "대구광역시",
          "대구광역시 남구",
          "대구광역시 달서구",
          "대구광역시 동구",
          "대구광역시 북구",
          "대구광역시 수성구",
          "대구광역시 중구",
          "대전광역시",
          "대전광역시 대덕구",
          "대전광역시 동구",
          "대전광역시 서구",
          "대전광역시 유성구",
          "부산광역시",
          "부산광역시 강서구",
          "부산광역시 사상구",
          "부산광역시 중구",
          "부산광역시 해운대구",
          "서울특별시",
          "서울특별시 강서구",
          "서울특별시 마포구",
          "서울특별시 성북구",
          "서울특별시 송파구",
          "서울특별시 양천구",
          "서울특별시 은평구",
          "서울특별시 중랑구",
          "세종특별자치시",
          "울산광역시",
          "울산광역시 남구",
          "인천광역시",
          "인천광역시 계양구",
          "인천광역시 남구",
          "인천광역시 남동구",
          "인천광역시 동구",
          "인천광역시 부평구",
          "인천광역시 연수구",
          "전라남도",
          "전라남도 강진군",
          "전라남도 고흥군",
          "전라남도 광양시",
          "전라남도 나주시",
          "전라남도 목포시",
          "전라남도 무안군",
          "전라남도 보성군",
          "전라남도 순천시",
          "전라남도 신안군",
          "전라남도 여수시",
          "전라남도 영광군",
          "전라남도 영암군",
          "전라남도 완도군",
          "전라남도 장성군",
          "전라남도 장흥군",
          "전라남도 진도군",
          "전라남도 함평군",
          "전라남도 해남군",
          "전라남도 화순군",
          "전라북도",
          "전라북도 고창군",
          "전라북도 군산시",
          "전라북도 김제시",
          "전라북도 남원시",
          "전라북도 부안군",
          "전라북도 완주군",
          "전라북도 익산시",
          "전라북도 임실군",
          "전라북도 장수군",
          "전라북도 전주시",
          "전라북도 정읍시",
          "전라북도 진안군",
          "제주특별자치도",
          "제주특별자치도 서귀포시",
          "제주특별자치도 제주시",
          "중국",
          "충청남도 공주시",
          "충청남도 금산군",
          "충청남도 논산시",
          "충청남도 당진시",
          "충청남도 보령시",
          "충청남도 부여군",
          "충청남도 서산시",
          "충청남도 서천군",
          "충청남도 아산시",
          "충청남도 예산군",
          "충청남도 천안시",
          "충청남도 태안군",
          "충청남도 홍성군",
          "충청북도",
          "충청북도 괴산군",
          "충청북도 보은군",
          "충청북도 영동군",
          "충청북도 음성군",
          "충청북도 제천시",
          "충청북도 진천군",
          "충청북도 청주시",
          "충청북도 충주시"
         ],
         "y": [
          200,
          52798,
          1210,
          3590,
          12960,
          0,
          17330,
          300,
          74917,
          30,
          7160,
          326826,
          0,
          0,
          4045,
          0,
          45359,
          420,
          4820,
          1200,
          5023,
          21783,
          0,
          46785,
          121700,
          43,
          1448,
          4670,
          46892,
          0,
          171927,
          0,
          20217,
          7890,
          1825,
          13475,
          3250,
          41869,
          0,
          408,
          5717,
          1212,
          0,
          1515,
          4210,
          0,
          18028,
          0,
          0,
          4700,
          0,
          550,
          37700,
          24571,
          998,
          0,
          9379,
          1900,
          43875,
          0,
          0,
          315,
          235,
          2005,
          0,
          21454,
          330,
          16032,
          0,
          17888,
          329887,
          127475,
          36907,
          178265,
          37272,
          15567,
          0,
          0,
          0,
          83819,
          0,
          4960,
          6480,
          25339,
          8348,
          19924,
          91930,
          63980,
          0,
          10072,
          380,
          1000,
          0,
          74558,
          2111,
          4767,
          0,
          2542,
          10686,
          15130,
          5050,
          15131,
          1450623,
          748,
          152636,
          15680,
          3610,
          984,
          2597,
          1871637,
          1164,
          40989,
          0,
          10000,
          15316,
          0,
          0,
          12200,
          5462,
          99854,
          13306,
          0,
          19430,
          84067,
          22,
          0,
          3513,
          50,
          13616,
          3029,
          25152,
          608,
          1947,
          6390,
          0,
          0,
          15786,
          18,
          58552,
          82317,
          44518,
          464,
          490,
          0,
          232,
          469,
          2003,
          0,
          7563,
          0,
          228302,
          113297
         ]
        },
        {
         "name": "2020년2월",
         "type": "bar",
         "x": [
          "강원도",
          "강원도 강릉시",
          "강원도 동해시",
          "강원도 원주시",
          "강원도 인제군",
          "강원도 정선군",
          "강원도 철원군",
          "강원도 춘천시",
          "강원도 평창군",
          "경기도",
          "경기도 고양시",
          "경기도 구리시",
          "경기도 군포시",
          "경기도 김포시",
          "경기도 남양주시",
          "경기도 동두천시",
          "경기도 수원시",
          "경기도 안산시",
          "경기도 안성시",
          "경기도 안양시",
          "경기도 양주시",
          "경기도 여주시",
          "경기도 연천군",
          "경기도 이천시",
          "경기도 파주시",
          "경기도 평택시",
          "경기도 포천시",
          "경기도 화성시",
          "경상남도",
          "경상남도 거창군",
          "경상남도 김해시",
          "경상남도 남해군",
          "경상남도 밀양시",
          "경상남도 사천시",
          "경상남도 양산시",
          "경상남도 진주시",
          "경상남도 창녕군",
          "경상남도 창원시",
          "경상남도 하동군",
          "경상남도 함안군",
          "경상남도 함양군",
          "경상북도 경산시",
          "경상북도 경주시",
          "경상북도 고령군",
          "경상북도 구미시",
          "경상북도 군위군",
          "경상북도 김천시",
          "경상북도 봉화군",
          "경상북도 상주시",
          "경상북도 안동시",
          "경상북도 영덕군",
          "경상북도 영천시",
          "경상북도 칠곡군",
          "광주광역시",
          "광주광역시 광산구",
          "광주광역시 남구",
          "광주광역시 북구",
          "광주광역시 서구",
          "대구광역시",
          "대구광역시 남구",
          "대구광역시 달서구",
          "대구광역시 동구",
          "대구광역시 북구",
          "대구광역시 수성구",
          "대구광역시 중구",
          "대전광역시",
          "대전광역시 대덕구",
          "대전광역시 동구",
          "대전광역시 서구",
          "대전광역시 유성구",
          "부산광역시",
          "부산광역시 강서구",
          "부산광역시 사상구",
          "부산광역시 중구",
          "부산광역시 해운대구",
          "서울특별시",
          "서울특별시 강서구",
          "서울특별시 마포구",
          "서울특별시 성북구",
          "서울특별시 송파구",
          "서울특별시 양천구",
          "서울특별시 은평구",
          "서울특별시 중랑구",
          "세종특별자치시",
          "울산광역시",
          "울산광역시 남구",
          "인천광역시",
          "인천광역시 계양구",
          "인천광역시 남구",
          "인천광역시 남동구",
          "인천광역시 동구",
          "인천광역시 부평구",
          "인천광역시 연수구",
          "전라남도",
          "전라남도 강진군",
          "전라남도 고흥군",
          "전라남도 광양시",
          "전라남도 나주시",
          "전라남도 목포시",
          "전라남도 무안군",
          "전라남도 보성군",
          "전라남도 순천시",
          "전라남도 신안군",
          "전라남도 여수시",
          "전라남도 영광군",
          "전라남도 영암군",
          "전라남도 완도군",
          "전라남도 장성군",
          "전라남도 장흥군",
          "전라남도 진도군",
          "전라남도 함평군",
          "전라남도 해남군",
          "전라남도 화순군",
          "전라북도",
          "전라북도 고창군",
          "전라북도 군산시",
          "전라북도 김제시",
          "전라북도 남원시",
          "전라북도 부안군",
          "전라북도 완주군",
          "전라북도 익산시",
          "전라북도 임실군",
          "전라북도 장수군",
          "전라북도 전주시",
          "전라북도 정읍시",
          "전라북도 진안군",
          "제주특별자치도",
          "제주특별자치도 서귀포시",
          "제주특별자치도 제주시",
          "중국",
          "충청남도 공주시",
          "충청남도 금산군",
          "충청남도 논산시",
          "충청남도 당진시",
          "충청남도 보령시",
          "충청남도 부여군",
          "충청남도 서산시",
          "충청남도 서천군",
          "충청남도 아산시",
          "충청남도 예산군",
          "충청남도 천안시",
          "충청남도 태안군",
          "충청남도 홍성군",
          "충청북도",
          "충청북도 괴산군",
          "충청북도 보은군",
          "충청북도 영동군",
          "충청북도 음성군",
          "충청북도 제천시",
          "충청북도 진천군",
          "충청북도 청주시",
          "충청북도 충주시"
         ],
         "y": [
          0,
          47573,
          8330,
          5437,
          64065,
          3445,
          4300,
          0,
          250,
          1600,
          15219,
          434842,
          520,
          43750,
          15450,
          5590,
          106947,
          2680,
          716,
          1550,
          72100,
          260,
          8930,
          49630,
          132340,
          6620,
          0,
          0,
          37931,
          20,
          132680,
          140,
          32084,
          5715,
          2515,
          13680,
          11870,
          92941,
          0,
          1317,
          30235,
          177,
          78,
          14434,
          12747,
          11100,
          1015,
          48,
          0,
          204,
          232,
          67775,
          33164,
          23993,
          4608,
          0,
          11107,
          26430,
          26615,
          0,
          810,
          3104,
          0,
          0,
          0,
          1076,
          702,
          0,
          0,
          15303,
          375417,
          228587,
          59509,
          158154,
          71981,
          82612,
          98970,
          10745,
          17979,
          95836,
          0,
          59560,
          4650,
          9882,
          7202,
          22436,
          84752,
          39460,
          50560,
          54420,
          0,
          8570,
          51510,
          161578,
          1588,
          12340,
          4870,
          5574,
          114782,
          14215,
          7455,
          12510,
          1820322,
          21499,
          37978,
          1972,
          33055,
          0,
          0,
          2107991,
          0,
          106745,
          300,
          8000,
          9673,
          6469,
          445,
          0,
          0,
          80095,
          50754,
          0,
          3971,
          106040,
          8970,
          656,
          30,
          38,
          1567,
          2811,
          3078,
          4372,
          861,
          7713,
          577,
          1579,
          52864,
          4032,
          51796,
          90153,
          66059,
          700,
          21500,
          0,
          2908,
          0,
          1620,
          0,
          20793,
          58,
          188988,
          52762
         ]
        },
        {
         "name": "2021년2월",
         "type": "bar",
         "x": [
          "강원도",
          "강원도 강릉시",
          "강원도 동해시",
          "강원도 원주시",
          "강원도 인제군",
          "강원도 정선군",
          "강원도 철원군",
          "강원도 춘천시",
          "강원도 평창군",
          "경기도",
          "경기도 고양시",
          "경기도 구리시",
          "경기도 군포시",
          "경기도 김포시",
          "경기도 남양주시",
          "경기도 동두천시",
          "경기도 수원시",
          "경기도 안산시",
          "경기도 안성시",
          "경기도 안양시",
          "경기도 양주시",
          "경기도 여주시",
          "경기도 연천군",
          "경기도 이천시",
          "경기도 파주시",
          "경기도 평택시",
          "경기도 포천시",
          "경기도 화성시",
          "경상남도",
          "경상남도 거창군",
          "경상남도 김해시",
          "경상남도 남해군",
          "경상남도 밀양시",
          "경상남도 사천시",
          "경상남도 양산시",
          "경상남도 진주시",
          "경상남도 창녕군",
          "경상남도 창원시",
          "경상남도 하동군",
          "경상남도 함안군",
          "경상남도 함양군",
          "경상북도 경산시",
          "경상북도 경주시",
          "경상북도 고령군",
          "경상북도 구미시",
          "경상북도 군위군",
          "경상북도 김천시",
          "경상북도 봉화군",
          "경상북도 상주시",
          "경상북도 안동시",
          "경상북도 영덕군",
          "경상북도 영천시",
          "경상북도 칠곡군",
          "광주광역시",
          "광주광역시 광산구",
          "광주광역시 남구",
          "광주광역시 북구",
          "광주광역시 서구",
          "대구광역시",
          "대구광역시 남구",
          "대구광역시 달서구",
          "대구광역시 동구",
          "대구광역시 북구",
          "대구광역시 수성구",
          "대구광역시 중구",
          "대전광역시",
          "대전광역시 대덕구",
          "대전광역시 동구",
          "대전광역시 서구",
          "대전광역시 유성구",
          "부산광역시",
          "부산광역시 강서구",
          "부산광역시 사상구",
          "부산광역시 중구",
          "부산광역시 해운대구",
          "서울특별시",
          "서울특별시 강서구",
          "서울특별시 마포구",
          "서울특별시 성북구",
          "서울특별시 송파구",
          "서울특별시 양천구",
          "서울특별시 은평구",
          "서울특별시 중랑구",
          "세종특별자치시",
          "울산광역시",
          "울산광역시 남구",
          "인천광역시",
          "인천광역시 계양구",
          "인천광역시 남구",
          "인천광역시 남동구",
          "인천광역시 동구",
          "인천광역시 부평구",
          "인천광역시 연수구",
          "전라남도",
          "전라남도 강진군",
          "전라남도 고흥군",
          "전라남도 광양시",
          "전라남도 나주시",
          "전라남도 목포시",
          "전라남도 무안군",
          "전라남도 보성군",
          "전라남도 순천시",
          "전라남도 신안군",
          "전라남도 여수시",
          "전라남도 영광군",
          "전라남도 영암군",
          "전라남도 완도군",
          "전라남도 장성군",
          "전라남도 장흥군",
          "전라남도 진도군",
          "전라남도 함평군",
          "전라남도 해남군",
          "전라남도 화순군",
          "전라북도",
          "전라북도 고창군",
          "전라북도 군산시",
          "전라북도 김제시",
          "전라북도 남원시",
          "전라북도 부안군",
          "전라북도 완주군",
          "전라북도 익산시",
          "전라북도 임실군",
          "전라북도 장수군",
          "전라북도 전주시",
          "전라북도 정읍시",
          "전라북도 진안군",
          "제주특별자치도",
          "제주특별자치도 서귀포시",
          "제주특별자치도 제주시",
          "중국",
          "충청남도 공주시",
          "충청남도 금산군",
          "충청남도 논산시",
          "충청남도 당진시",
          "충청남도 보령시",
          "충청남도 부여군",
          "충청남도 서산시",
          "충청남도 서천군",
          "충청남도 아산시",
          "충청남도 예산군",
          "충청남도 천안시",
          "충청남도 태안군",
          "충청남도 홍성군",
          "충청북도",
          "충청북도 괴산군",
          "충청북도 보은군",
          "충청북도 영동군",
          "충청북도 음성군",
          "충청북도 제천시",
          "충청북도 진천군",
          "충청북도 청주시",
          "충청북도 충주시"
         ],
         "y": [
          0,
          48290,
          0,
          3131,
          9282,
          4630,
          15060,
          0,
          34632,
          1930,
          1140,
          228504,
          0,
          0,
          4841,
          0,
          31811,
          0,
          3830,
          2000,
          1432,
          20354,
          1990,
          4924,
          127891,
          2943,
          500,
          8470,
          30017,
          0,
          162231,
          0,
          21990,
          6145,
          2610,
          3337,
          3120,
          32487,
          0,
          0,
          5610,
          4163,
          140,
          0,
          4432,
          0,
          27858,
          0,
          6,
          7776,
          0,
          0,
          31800,
          30828,
          0,
          0,
          9564,
          5821,
          30036,
          0,
          0,
          0,
          0,
          0,
          0,
          237,
          1875,
          20,
          0,
          20260,
          313009,
          112804,
          24656,
          135163,
          40160,
          28154,
          0,
          0,
          0,
          90882,
          0,
          0,
          2000,
          11274,
          3714,
          17222,
          51864,
          15700,
          0,
          5861,
          0,
          0,
          0,
          78697,
          3506,
          1065,
          822,
          3504,
          10716,
          12385,
          11170,
          12265,
          1852960,
          577,
          40712,
          7170,
          0,
          531,
          189,
          1502533,
          340,
          40302,
          0,
          0,
          2842,
          0,
          0,
          6809,
          120,
          60493,
          3518,
          0,
          4129,
          39205,
          0,
          0,
          5879,
          452,
          19062,
          2525,
          11002,
          530,
          3263,
          6629,
          0,
          5,
          8254,
          26,
          7547,
          42068,
          17758,
          0,
          0,
          0,
          385,
          0,
          365,
          36,
          3246,
          0,
          101837,
          48628
         ]
        },
        {
         "name": "2020년3월",
         "type": "bar",
         "x": [
          "강원도",
          "강원도 강릉시",
          "강원도 동해시",
          "강원도 원주시",
          "강원도 인제군",
          "강원도 정선군",
          "강원도 철원군",
          "강원도 춘천시",
          "강원도 평창군",
          "경기도",
          "경기도 고양시",
          "경기도 구리시",
          "경기도 군포시",
          "경기도 김포시",
          "경기도 남양주시",
          "경기도 동두천시",
          "경기도 수원시",
          "경기도 안산시",
          "경기도 안성시",
          "경기도 안양시",
          "경기도 양주시",
          "경기도 여주시",
          "경기도 연천군",
          "경기도 이천시",
          "경기도 파주시",
          "경기도 평택시",
          "경기도 포천시",
          "경기도 화성시",
          "경상남도",
          "경상남도 거창군",
          "경상남도 김해시",
          "경상남도 남해군",
          "경상남도 밀양시",
          "경상남도 사천시",
          "경상남도 양산시",
          "경상남도 진주시",
          "경상남도 창녕군",
          "경상남도 창원시",
          "경상남도 하동군",
          "경상남도 함안군",
          "경상남도 함양군",
          "경상북도 경산시",
          "경상북도 경주시",
          "경상북도 고령군",
          "경상북도 구미시",
          "경상북도 군위군",
          "경상북도 김천시",
          "경상북도 봉화군",
          "경상북도 상주시",
          "경상북도 안동시",
          "경상북도 영덕군",
          "경상북도 영천시",
          "경상북도 칠곡군",
          "광주광역시",
          "광주광역시 광산구",
          "광주광역시 남구",
          "광주광역시 북구",
          "광주광역시 서구",
          "대구광역시",
          "대구광역시 남구",
          "대구광역시 달서구",
          "대구광역시 동구",
          "대구광역시 북구",
          "대구광역시 수성구",
          "대구광역시 중구",
          "대전광역시",
          "대전광역시 대덕구",
          "대전광역시 동구",
          "대전광역시 서구",
          "대전광역시 유성구",
          "부산광역시",
          "부산광역시 강서구",
          "부산광역시 사상구",
          "부산광역시 중구",
          "부산광역시 해운대구",
          "서울특별시",
          "서울특별시 강서구",
          "서울특별시 마포구",
          "서울특별시 성북구",
          "서울특별시 송파구",
          "서울특별시 양천구",
          "서울특별시 은평구",
          "서울특별시 중랑구",
          "세종특별자치시",
          "울산광역시",
          "울산광역시 남구",
          "인천광역시",
          "인천광역시 계양구",
          "인천광역시 남구",
          "인천광역시 남동구",
          "인천광역시 동구",
          "인천광역시 부평구",
          "인천광역시 연수구",
          "전라남도",
          "전라남도 강진군",
          "전라남도 고흥군",
          "전라남도 광양시",
          "전라남도 나주시",
          "전라남도 목포시",
          "전라남도 무안군",
          "전라남도 보성군",
          "전라남도 순천시",
          "전라남도 신안군",
          "전라남도 여수시",
          "전라남도 영광군",
          "전라남도 영암군",
          "전라남도 완도군",
          "전라남도 장성군",
          "전라남도 장흥군",
          "전라남도 진도군",
          "전라남도 함평군",
          "전라남도 해남군",
          "전라남도 화순군",
          "전라북도",
          "전라북도 고창군",
          "전라북도 군산시",
          "전라북도 김제시",
          "전라북도 남원시",
          "전라북도 부안군",
          "전라북도 완주군",
          "전라북도 익산시",
          "전라북도 임실군",
          "전라북도 장수군",
          "전라북도 전주시",
          "전라북도 정읍시",
          "전라북도 진안군",
          "제주특별자치도",
          "제주특별자치도 서귀포시",
          "제주특별자치도 제주시",
          "중국",
          "충청남도 공주시",
          "충청남도 금산군",
          "충청남도 논산시",
          "충청남도 당진시",
          "충청남도 보령시",
          "충청남도 부여군",
          "충청남도 서산시",
          "충청남도 서천군",
          "충청남도 아산시",
          "충청남도 예산군",
          "충청남도 천안시",
          "충청남도 태안군",
          "충청남도 홍성군",
          "충청북도",
          "충청북도 괴산군",
          "충청북도 보은군",
          "충청북도 영동군",
          "충청북도 음성군",
          "충청북도 제천시",
          "충청북도 진천군",
          "충청북도 청주시",
          "충청북도 충주시"
         ],
         "y": [
          0,
          23395,
          2240,
          3753,
          31230,
          300,
          0,
          0,
          0,
          0,
          1000,
          213953,
          0,
          19760,
          4250,
          1200,
          42535,
          440,
          0,
          210,
          20129,
          450,
          10400,
          23069,
          67300,
          5700,
          0,
          350,
          24113,
          60,
          42720,
          0,
          18716,
          5305,
          1290,
          6488,
          4740,
          41613,
          0,
          317,
          15785,
          0,
          0,
          5672,
          3538,
          0,
          65,
          0,
          0,
          0,
          138,
          41940,
          1500,
          8400,
          2400,
          0,
          5480,
          14121,
          13011,
          1915,
          4460,
          2128,
          0,
          0,
          0,
          2879,
          606,
          1666,
          0,
          5251,
          179809,
          104426,
          24486,
          57792,
          24935,
          37288,
          40570,
          9699,
          12274,
          68397,
          0,
          1990,
          500,
          68,
          7264,
          9986,
          25169,
          5390,
          22590,
          21476,
          0,
          3460,
          18120,
          42527,
          625,
          6140,
          200,
          1077,
          61743,
          7153,
          22596,
          6745,
          917565,
          6524,
          18617,
          558,
          50,
          0,
          0,
          863131,
          0,
          63564,
          0,
          1000,
          2500,
          1077,
          1193,
          0,
          3200,
          32361,
          20370,
          0,
          3242,
          40154,
          3282,
          0,
          0,
          27,
          604,
          2040,
          37,
          1520,
          998,
          5323,
          18,
          0,
          41273,
          1122,
          11078,
          29433,
          31689,
          2940,
          9616,
          0,
          283,
          0,
          68,
          0,
          6994,
          112,
          58406,
          27765
         ]
        },
        {
         "name": "2021년3월",
         "type": "bar",
         "x": [
          "강원도",
          "강원도 강릉시",
          "강원도 동해시",
          "강원도 원주시",
          "강원도 인제군",
          "강원도 정선군",
          "강원도 철원군",
          "강원도 춘천시",
          "강원도 평창군",
          "경기도",
          "경기도 고양시",
          "경기도 구리시",
          "경기도 군포시",
          "경기도 김포시",
          "경기도 남양주시",
          "경기도 동두천시",
          "경기도 수원시",
          "경기도 안산시",
          "경기도 안성시",
          "경기도 안양시",
          "경기도 양주시",
          "경기도 여주시",
          "경기도 연천군",
          "경기도 이천시",
          "경기도 파주시",
          "경기도 평택시",
          "경기도 포천시",
          "경기도 화성시",
          "경상남도",
          "경상남도 거창군",
          "경상남도 김해시",
          "경상남도 남해군",
          "경상남도 밀양시",
          "경상남도 사천시",
          "경상남도 양산시",
          "경상남도 진주시",
          "경상남도 창녕군",
          "경상남도 창원시",
          "경상남도 하동군",
          "경상남도 함안군",
          "경상남도 함양군",
          "경상북도 경산시",
          "경상북도 경주시",
          "경상북도 고령군",
          "경상북도 구미시",
          "경상북도 군위군",
          "경상북도 김천시",
          "경상북도 봉화군",
          "경상북도 상주시",
          "경상북도 안동시",
          "경상북도 영덕군",
          "경상북도 영천시",
          "경상북도 칠곡군",
          "광주광역시",
          "광주광역시 광산구",
          "광주광역시 남구",
          "광주광역시 북구",
          "광주광역시 서구",
          "대구광역시",
          "대구광역시 남구",
          "대구광역시 달서구",
          "대구광역시 동구",
          "대구광역시 북구",
          "대구광역시 수성구",
          "대구광역시 중구",
          "대전광역시",
          "대전광역시 대덕구",
          "대전광역시 동구",
          "대전광역시 서구",
          "대전광역시 유성구",
          "부산광역시",
          "부산광역시 강서구",
          "부산광역시 사상구",
          "부산광역시 중구",
          "부산광역시 해운대구",
          "서울특별시",
          "서울특별시 강서구",
          "서울특별시 마포구",
          "서울특별시 성북구",
          "서울특별시 송파구",
          "서울특별시 양천구",
          "서울특별시 은평구",
          "서울특별시 중랑구",
          "세종특별자치시",
          "울산광역시",
          "울산광역시 남구",
          "인천광역시",
          "인천광역시 계양구",
          "인천광역시 남구",
          "인천광역시 남동구",
          "인천광역시 동구",
          "인천광역시 부평구",
          "인천광역시 연수구",
          "전라남도",
          "전라남도 강진군",
          "전라남도 고흥군",
          "전라남도 광양시",
          "전라남도 나주시",
          "전라남도 목포시",
          "전라남도 무안군",
          "전라남도 보성군",
          "전라남도 순천시",
          "전라남도 신안군",
          "전라남도 여수시",
          "전라남도 영광군",
          "전라남도 영암군",
          "전라남도 완도군",
          "전라남도 장성군",
          "전라남도 장흥군",
          "전라남도 진도군",
          "전라남도 함평군",
          "전라남도 해남군",
          "전라남도 화순군",
          "전라북도",
          "전라북도 고창군",
          "전라북도 군산시",
          "전라북도 김제시",
          "전라북도 남원시",
          "전라북도 부안군",
          "전라북도 완주군",
          "전라북도 익산시",
          "전라북도 임실군",
          "전라북도 장수군",
          "전라북도 전주시",
          "전라북도 정읍시",
          "전라북도 진안군",
          "제주특별자치도",
          "제주특별자치도 서귀포시",
          "제주특별자치도 제주시",
          "중국",
          "충청남도 공주시",
          "충청남도 금산군",
          "충청남도 논산시",
          "충청남도 당진시",
          "충청남도 보령시",
          "충청남도 부여군",
          "충청남도 서산시",
          "충청남도 서천군",
          "충청남도 아산시",
          "충청남도 예산군",
          "충청남도 천안시",
          "충청남도 태안군",
          "충청남도 홍성군",
          "충청북도",
          "충청북도 괴산군",
          "충청북도 보은군",
          "충청북도 영동군",
          "충청북도 음성군",
          "충청북도 제천시",
          "충청북도 진천군",
          "충청북도 청주시",
          "충청북도 충주시"
         ],
         "y": [
          840,
          29920,
          570,
          3850,
          5630,
          500,
          18560,
          0,
          24525,
          0,
          0,
          162760,
          0,
          0,
          460,
          0,
          32076,
          0,
          1710,
          1690,
          1079,
          8442,
          0,
          88,
          69050,
          1695,
          1260,
          3205,
          7476,
          0,
          74381,
          0,
          11377,
          0,
          1503,
          6819,
          1750,
          25820,
          0,
          0,
          3150,
          1092,
          495,
          0,
          3586,
          0,
          5961,
          0,
          211,
          4965,
          0,
          0,
          19984,
          6384,
          0,
          0,
          375,
          3767,
          25391,
          0,
          0,
          0,
          605,
          0,
          0,
          4000,
          750,
          5,
          0,
          12648,
          209468,
          36283,
          23576,
          72738,
          21397,
          24222,
          0,
          0,
          0,
          76108,
          0,
          0,
          800,
          6434,
          1242,
          9099,
          26974,
          2500,
          200,
          6532,
          0,
          0,
          0,
          40404,
          3701,
          111,
          0,
          3552,
          4695,
          5384,
          0,
          4102,
          953441,
          500,
          42586,
          186,
          0,
          107,
          18,
          749608,
          0,
          52814,
          0,
          400,
          518,
          0,
          0,
          0,
          137,
          32995,
          2278,
          184,
          1230,
          17432,
          0,
          0,
          5256,
          50,
          7476,
          5959,
          346,
          0,
          348,
          2330,
          0,
          9,
          14094,
          0,
          986,
          8071,
          4698,
          0,
          1,
          0,
          0,
          0,
          237,
          540,
          761,
          0,
          58039,
          23631
         ]
        }
       ],
       "layout": {
        "barmode": "stack",
        "template": {
         "data": {
          "bar": [
           {
            "error_x": {
             "color": "#2a3f5f"
            },
            "error_y": {
             "color": "#2a3f5f"
            },
            "marker": {
             "line": {
              "color": "#E5ECF6",
              "width": 0.5
             }
            },
            "type": "bar"
           }
          ],
          "barpolar": [
           {
            "marker": {
             "line": {
              "color": "#E5ECF6",
              "width": 0.5
             }
            },
            "type": "barpolar"
           }
          ],
          "carpet": [
           {
            "aaxis": {
             "endlinecolor": "#2a3f5f",
             "gridcolor": "white",
             "linecolor": "white",
             "minorgridcolor": "white",
             "startlinecolor": "#2a3f5f"
            },
            "baxis": {
             "endlinecolor": "#2a3f5f",
             "gridcolor": "white",
             "linecolor": "white",
             "minorgridcolor": "white",
             "startlinecolor": "#2a3f5f"
            },
            "type": "carpet"
           }
          ],
          "choropleth": [
           {
            "colorbar": {
             "outlinewidth": 0,
             "ticks": ""
            },
            "type": "choropleth"
           }
          ],
          "contour": [
           {
            "colorbar": {
             "outlinewidth": 0,
             "ticks": ""
            },
            "colorscale": [
             [
              0,
              "#0d0887"
             ],
             [
              0.1111111111111111,
              "#46039f"
             ],
             [
              0.2222222222222222,
              "#7201a8"
             ],
             [
              0.3333333333333333,
              "#9c179e"
             ],
             [
              0.4444444444444444,
              "#bd3786"
             ],
             [
              0.5555555555555556,
              "#d8576b"
             ],
             [
              0.6666666666666666,
              "#ed7953"
             ],
             [
              0.7777777777777778,
              "#fb9f3a"
             ],
             [
              0.8888888888888888,
              "#fdca26"
             ],
             [
              1,
              "#f0f921"
             ]
            ],
            "type": "contour"
           }
          ],
          "contourcarpet": [
           {
            "colorbar": {
             "outlinewidth": 0,
             "ticks": ""
            },
            "type": "contourcarpet"
           }
          ],
          "heatmap": [
           {
            "colorbar": {
             "outlinewidth": 0,
             "ticks": ""
            },
            "colorscale": [
             [
              0,
              "#0d0887"
             ],
             [
              0.1111111111111111,
              "#46039f"
             ],
             [
              0.2222222222222222,
              "#7201a8"
             ],
             [
              0.3333333333333333,
              "#9c179e"
             ],
             [
              0.4444444444444444,
              "#bd3786"
             ],
             [
              0.5555555555555556,
              "#d8576b"
             ],
             [
              0.6666666666666666,
              "#ed7953"
             ],
             [
              0.7777777777777778,
              "#fb9f3a"
             ],
             [
              0.8888888888888888,
              "#fdca26"
             ],
             [
              1,
              "#f0f921"
             ]
            ],
            "type": "heatmap"
           }
          ],
          "heatmapgl": [
           {
            "colorbar": {
             "outlinewidth": 0,
             "ticks": ""
            },
            "colorscale": [
             [
              0,
              "#0d0887"
             ],
             [
              0.1111111111111111,
              "#46039f"
             ],
             [
              0.2222222222222222,
              "#7201a8"
             ],
             [
              0.3333333333333333,
              "#9c179e"
             ],
             [
              0.4444444444444444,
              "#bd3786"
             ],
             [
              0.5555555555555556,
              "#d8576b"
             ],
             [
              0.6666666666666666,
              "#ed7953"
             ],
             [
              0.7777777777777778,
              "#fb9f3a"
             ],
             [
              0.8888888888888888,
              "#fdca26"
             ],
             [
              1,
              "#f0f921"
             ]
            ],
            "type": "heatmapgl"
           }
          ],
          "histogram": [
           {
            "marker": {
             "colorbar": {
              "outlinewidth": 0,
              "ticks": ""
             }
            },
            "type": "histogram"
           }
          ],
          "histogram2d": [
           {
            "colorbar": {
             "outlinewidth": 0,
             "ticks": ""
            },
            "colorscale": [
             [
              0,
              "#0d0887"
             ],
             [
              0.1111111111111111,
              "#46039f"
             ],
             [
              0.2222222222222222,
              "#7201a8"
             ],
             [
              0.3333333333333333,
              "#9c179e"
             ],
             [
              0.4444444444444444,
              "#bd3786"
             ],
             [
              0.5555555555555556,
              "#d8576b"
             ],
             [
              0.6666666666666666,
              "#ed7953"
             ],
             [
              0.7777777777777778,
              "#fb9f3a"
             ],
             [
              0.8888888888888888,
              "#fdca26"
             ],
             [
              1,
              "#f0f921"
             ]
            ],
            "type": "histogram2d"
           }
          ],
          "histogram2dcontour": [
           {
            "colorbar": {
             "outlinewidth": 0,
             "ticks": ""
            },
            "colorscale": [
             [
              0,
              "#0d0887"
             ],
             [
              0.1111111111111111,
              "#46039f"
             ],
             [
              0.2222222222222222,
              "#7201a8"
             ],
             [
              0.3333333333333333,
              "#9c179e"
             ],
             [
              0.4444444444444444,
              "#bd3786"
             ],
             [
              0.5555555555555556,
              "#d8576b"
             ],
             [
              0.6666666666666666,
              "#ed7953"
             ],
             [
              0.7777777777777778,
              "#fb9f3a"
             ],
             [
              0.8888888888888888,
              "#fdca26"
             ],
             [
              1,
              "#f0f921"
             ]
            ],
            "type": "histogram2dcontour"
           }
          ],
          "mesh3d": [
           {
            "colorbar": {
             "outlinewidth": 0,
             "ticks": ""
            },
            "type": "mesh3d"
           }
          ],
          "parcoords": [
           {
            "line": {
             "colorbar": {
              "outlinewidth": 0,
              "ticks": ""
             }
            },
            "type": "parcoords"
           }
          ],
          "pie": [
           {
            "automargin": true,
            "type": "pie"
           }
          ],
          "scatter": [
           {
            "marker": {
             "colorbar": {
              "outlinewidth": 0,
              "ticks": ""
             }
            },
            "type": "scatter"
           }
          ],
          "scatter3d": [
           {
            "line": {
             "colorbar": {
              "outlinewidth": 0,
              "ticks": ""
             }
            },
            "marker": {
             "colorbar": {
              "outlinewidth": 0,
              "ticks": ""
             }
            },
            "type": "scatter3d"
           }
          ],
          "scattercarpet": [
           {
            "marker": {
             "colorbar": {
              "outlinewidth": 0,
              "ticks": ""
             }
            },
            "type": "scattercarpet"
           }
          ],
          "scattergeo": [
           {
            "marker": {
             "colorbar": {
              "outlinewidth": 0,
              "ticks": ""
             }
            },
            "type": "scattergeo"
           }
          ],
          "scattergl": [
           {
            "marker": {
             "colorbar": {
              "outlinewidth": 0,
              "ticks": ""
             }
            },
            "type": "scattergl"
           }
          ],
          "scattermapbox": [
           {
            "marker": {
             "colorbar": {
              "outlinewidth": 0,
              "ticks": ""
             }
            },
            "type": "scattermapbox"
           }
          ],
          "scatterpolar": [
           {
            "marker": {
             "colorbar": {
              "outlinewidth": 0,
              "ticks": ""
             }
            },
            "type": "scatterpolar"
           }
          ],
          "scatterpolargl": [
           {
            "marker": {
             "colorbar": {
              "outlinewidth": 0,
              "ticks": ""
             }
            },
            "type": "scatterpolargl"
           }
          ],
          "scatterternary": [
           {
            "marker": {
             "colorbar": {
              "outlinewidth": 0,
              "ticks": ""
             }
            },
            "type": "scatterternary"
           }
          ],
          "surface": [
           {
            "colorbar": {
             "outlinewidth": 0,
             "ticks": ""
            },
            "colorscale": [
             [
              0,
              "#0d0887"
             ],
             [
              0.1111111111111111,
              "#46039f"
             ],
             [
              0.2222222222222222,
              "#7201a8"
             ],
             [
              0.3333333333333333,
              "#9c179e"
             ],
             [
              0.4444444444444444,
              "#bd3786"
             ],
             [
              0.5555555555555556,
              "#d8576b"
             ],
             [
              0.6666666666666666,
              "#ed7953"
             ],
             [
              0.7777777777777778,
              "#fb9f3a"
             ],
             [
              0.8888888888888888,
              "#fdca26"
             ],
             [
              1,
              "#f0f921"
             ]
            ],
            "type": "surface"
           }
          ],
          "table": [
           {
            "cells": {
             "fill": {
              "color": "#EBF0F8"
             },
             "line": {
              "color": "white"
             }
            },
            "header": {
             "fill": {
              "color": "#C8D4E3"
             },
             "line": {
              "color": "white"
             }
            },
            "type": "table"
           }
          ]
         },
         "layout": {
          "annotationdefaults": {
           "arrowcolor": "#2a3f5f",
           "arrowhead": 0,
           "arrowwidth": 1
          },
          "autotypenumbers": "strict",
          "coloraxis": {
           "colorbar": {
            "outlinewidth": 0,
            "ticks": ""
           }
          },
          "colorscale": {
           "diverging": [
            [
             0,
             "#8e0152"
            ],
            [
             0.1,
             "#c51b7d"
            ],
            [
             0.2,
             "#de77ae"
            ],
            [
             0.3,
             "#f1b6da"
            ],
            [
             0.4,
             "#fde0ef"
            ],
            [
             0.5,
             "#f7f7f7"
            ],
            [
             0.6,
             "#e6f5d0"
            ],
            [
             0.7,
             "#b8e186"
            ],
            [
             0.8,
             "#7fbc41"
            ],
            [
             0.9,
             "#4d9221"
            ],
            [
             1,
             "#276419"
            ]
           ],
           "sequential": [
            [
             0,
             "#0d0887"
            ],
            [
             0.1111111111111111,
             "#46039f"
            ],
            [
             0.2222222222222222,
             "#7201a8"
            ],
            [
             0.3333333333333333,
             "#9c179e"
            ],
            [
             0.4444444444444444,
             "#bd3786"
            ],
            [
             0.5555555555555556,
             "#d8576b"
            ],
            [
             0.6666666666666666,
             "#ed7953"
            ],
            [
             0.7777777777777778,
             "#fb9f3a"
            ],
            [
             0.8888888888888888,
             "#fdca26"
            ],
            [
             1,
             "#f0f921"
            ]
           ],
           "sequentialminus": [
            [
             0,
             "#0d0887"
            ],
            [
             0.1111111111111111,
             "#46039f"
            ],
            [
             0.2222222222222222,
             "#7201a8"
            ],
            [
             0.3333333333333333,
             "#9c179e"
            ],
            [
             0.4444444444444444,
             "#bd3786"
            ],
            [
             0.5555555555555556,
             "#d8576b"
            ],
            [
             0.6666666666666666,
             "#ed7953"
            ],
            [
             0.7777777777777778,
             "#fb9f3a"
            ],
            [
             0.8888888888888888,
             "#fdca26"
            ],
            [
             1,
             "#f0f921"
            ]
           ]
          },
          "colorway": [
           "#636efa",
           "#EF553B",
           "#00cc96",
           "#ab63fa",
           "#FFA15A",
           "#19d3f3",
           "#FF6692",
           "#B6E880",
           "#FF97FF",
           "#FECB52"
          ],
          "font": {
           "color": "#2a3f5f"
          },
          "geo": {
           "bgcolor": "white",
           "lakecolor": "white",
           "landcolor": "#E5ECF6",
           "showlakes": true,
           "showland": true,
           "subunitcolor": "white"
          },
          "hoverlabel": {
           "align": "left"
          },
          "hovermode": "closest",
          "mapbox": {
           "style": "light"
          },
          "paper_bgcolor": "white",
          "plot_bgcolor": "#E5ECF6",
          "polar": {
           "angularaxis": {
            "gridcolor": "white",
            "linecolor": "white",
            "ticks": ""
           },
           "bgcolor": "#E5ECF6",
           "radialaxis": {
            "gridcolor": "white",
            "linecolor": "white",
            "ticks": ""
           }
          },
          "scene": {
           "xaxis": {
            "backgroundcolor": "#E5ECF6",
            "gridcolor": "white",
            "gridwidth": 2,
            "linecolor": "white",
            "showbackground": true,
            "ticks": "",
            "zerolinecolor": "white"
           },
           "yaxis": {
            "backgroundcolor": "#E5ECF6",
            "gridcolor": "white",
            "gridwidth": 2,
            "linecolor": "white",
            "showbackground": true,
            "ticks": "",
            "zerolinecolor": "white"
           },
           "zaxis": {
            "backgroundcolor": "#E5ECF6",
            "gridcolor": "white",
            "gridwidth": 2,
            "linecolor": "white",
            "showbackground": true,
            "ticks": "",
            "zerolinecolor": "white"
           }
          },
          "shapedefaults": {
           "line": {
            "color": "#2a3f5f"
           }
          },
          "ternary": {
           "aaxis": {
            "gridcolor": "white",
            "linecolor": "white",
            "ticks": ""
           },
           "baxis": {
            "gridcolor": "white",
            "linecolor": "white",
            "ticks": ""
           },
           "bgcolor": "#E5ECF6",
           "caxis": {
            "gridcolor": "white",
            "linecolor": "white",
            "ticks": ""
           }
          },
          "title": {
           "x": 0.05
          },
          "xaxis": {
           "automargin": true,
           "gridcolor": "white",
           "linecolor": "white",
           "ticks": "",
           "title": {
            "standoff": 15
           },
           "zerolinecolor": "white",
           "zerolinewidth": 2
          },
          "yaxis": {
           "automargin": true,
           "gridcolor": "white",
           "linecolor": "white",
           "ticks": "",
           "title": {
            "standoff": 15
           },
           "zerolinecolor": "white",
           "zerolinewidth": 2
          }
         }
        },
        "title": {
         "text": "2020-2021 1~3월 산지 별 대파 출하량"
        }
       }
      },
      "text/html": [
       "<div>                            <div id=\"2e5c8cba-63cb-4d49-bf92-46469df15464\" class=\"plotly-graph-div\" style=\"height:525px; width:100%;\"></div>            <script type=\"text/javascript\">                require([\"plotly\"], function(Plotly) {                    window.PLOTLYENV=window.PLOTLYENV || {};                                    if (document.getElementById(\"2e5c8cba-63cb-4d49-bf92-46469df15464\")) {                    Plotly.newPlot(                        \"2e5c8cba-63cb-4d49-bf92-46469df15464\",                        [{\"name\": \"2020\\ub1441\\uc6d4\", \"type\": \"bar\", \"x\": [\"\\uac15\\uc6d0\\ub3c4\", \"\\uac15\\uc6d0\\ub3c4 \\uac15\\ub989\\uc2dc\", \"\\uac15\\uc6d0\\ub3c4 \\ub3d9\\ud574\\uc2dc\", \"\\uac15\\uc6d0\\ub3c4 \\uc6d0\\uc8fc\\uc2dc\", \"\\uac15\\uc6d0\\ub3c4 \\uc778\\uc81c\\uad70\", \"\\uac15\\uc6d0\\ub3c4 \\uc815\\uc120\\uad70\", \"\\uac15\\uc6d0\\ub3c4 \\ucca0\\uc6d0\\uad70\", \"\\uac15\\uc6d0\\ub3c4 \\ucd98\\ucc9c\\uc2dc\", \"\\uac15\\uc6d0\\ub3c4 \\ud3c9\\ucc3d\\uad70\", \"\\uacbd\\uae30\\ub3c4\", \"\\uacbd\\uae30\\ub3c4 \\uace0\\uc591\\uc2dc\", \"\\uacbd\\uae30\\ub3c4 \\uad6c\\ub9ac\\uc2dc\", \"\\uacbd\\uae30\\ub3c4 \\uad70\\ud3ec\\uc2dc\", \"\\uacbd\\uae30\\ub3c4 \\uae40\\ud3ec\\uc2dc\", \"\\uacbd\\uae30\\ub3c4 \\ub0a8\\uc591\\uc8fc\\uc2dc\", \"\\uacbd\\uae30\\ub3c4 \\ub3d9\\ub450\\ucc9c\\uc2dc\", \"\\uacbd\\uae30\\ub3c4 \\uc218\\uc6d0\\uc2dc\", \"\\uacbd\\uae30\\ub3c4 \\uc548\\uc0b0\\uc2dc\", \"\\uacbd\\uae30\\ub3c4 \\uc548\\uc131\\uc2dc\", \"\\uacbd\\uae30\\ub3c4 \\uc548\\uc591\\uc2dc\", \"\\uacbd\\uae30\\ub3c4 \\uc591\\uc8fc\\uc2dc\", \"\\uacbd\\uae30\\ub3c4 \\uc5ec\\uc8fc\\uc2dc\", \"\\uacbd\\uae30\\ub3c4 \\uc5f0\\ucc9c\\uad70\", \"\\uacbd\\uae30\\ub3c4 \\uc774\\ucc9c\\uc2dc\", \"\\uacbd\\uae30\\ub3c4 \\ud30c\\uc8fc\\uc2dc\", \"\\uacbd\\uae30\\ub3c4 \\ud3c9\\ud0dd\\uc2dc\", \"\\uacbd\\uae30\\ub3c4 \\ud3ec\\ucc9c\\uc2dc\", \"\\uacbd\\uae30\\ub3c4 \\ud654\\uc131\\uc2dc\", \"\\uacbd\\uc0c1\\ub0a8\\ub3c4\", \"\\uacbd\\uc0c1\\ub0a8\\ub3c4 \\uac70\\ucc3d\\uad70\", \"\\uacbd\\uc0c1\\ub0a8\\ub3c4 \\uae40\\ud574\\uc2dc\", \"\\uacbd\\uc0c1\\ub0a8\\ub3c4 \\ub0a8\\ud574\\uad70\", \"\\uacbd\\uc0c1\\ub0a8\\ub3c4 \\ubc00\\uc591\\uc2dc\", \"\\uacbd\\uc0c1\\ub0a8\\ub3c4 \\uc0ac\\ucc9c\\uc2dc\", \"\\uacbd\\uc0c1\\ub0a8\\ub3c4 \\uc591\\uc0b0\\uc2dc\", \"\\uacbd\\uc0c1\\ub0a8\\ub3c4 \\uc9c4\\uc8fc\\uc2dc\", \"\\uacbd\\uc0c1\\ub0a8\\ub3c4 \\ucc3d\\ub155\\uad70\", \"\\uacbd\\uc0c1\\ub0a8\\ub3c4 \\ucc3d\\uc6d0\\uc2dc\", \"\\uacbd\\uc0c1\\ub0a8\\ub3c4 \\ud558\\ub3d9\\uad70\", \"\\uacbd\\uc0c1\\ub0a8\\ub3c4 \\ud568\\uc548\\uad70\", \"\\uacbd\\uc0c1\\ub0a8\\ub3c4 \\ud568\\uc591\\uad70\", \"\\uacbd\\uc0c1\\ubd81\\ub3c4 \\uacbd\\uc0b0\\uc2dc\", \"\\uacbd\\uc0c1\\ubd81\\ub3c4 \\uacbd\\uc8fc\\uc2dc\", \"\\uacbd\\uc0c1\\ubd81\\ub3c4 \\uace0\\ub839\\uad70\", \"\\uacbd\\uc0c1\\ubd81\\ub3c4 \\uad6c\\ubbf8\\uc2dc\", \"\\uacbd\\uc0c1\\ubd81\\ub3c4 \\uad70\\uc704\\uad70\", \"\\uacbd\\uc0c1\\ubd81\\ub3c4 \\uae40\\ucc9c\\uc2dc\", \"\\uacbd\\uc0c1\\ubd81\\ub3c4 \\ubd09\\ud654\\uad70\", \"\\uacbd\\uc0c1\\ubd81\\ub3c4 \\uc0c1\\uc8fc\\uc2dc\", \"\\uacbd\\uc0c1\\ubd81\\ub3c4 \\uc548\\ub3d9\\uc2dc\", \"\\uacbd\\uc0c1\\ubd81\\ub3c4 \\uc601\\ub355\\uad70\", \"\\uacbd\\uc0c1\\ubd81\\ub3c4 \\uc601\\ucc9c\\uc2dc\", \"\\uacbd\\uc0c1\\ubd81\\ub3c4 \\uce60\\uace1\\uad70\", \"\\uad11\\uc8fc\\uad11\\uc5ed\\uc2dc\", \"\\uad11\\uc8fc\\uad11\\uc5ed\\uc2dc \\uad11\\uc0b0\\uad6c\", \"\\uad11\\uc8fc\\uad11\\uc5ed\\uc2dc \\ub0a8\\uad6c\", \"\\uad11\\uc8fc\\uad11\\uc5ed\\uc2dc \\ubd81\\uad6c\", \"\\uad11\\uc8fc\\uad11\\uc5ed\\uc2dc \\uc11c\\uad6c\", \"\\ub300\\uad6c\\uad11\\uc5ed\\uc2dc\", \"\\ub300\\uad6c\\uad11\\uc5ed\\uc2dc \\ub0a8\\uad6c\", \"\\ub300\\uad6c\\uad11\\uc5ed\\uc2dc \\ub2ec\\uc11c\\uad6c\", \"\\ub300\\uad6c\\uad11\\uc5ed\\uc2dc \\ub3d9\\uad6c\", \"\\ub300\\uad6c\\uad11\\uc5ed\\uc2dc \\ubd81\\uad6c\", \"\\ub300\\uad6c\\uad11\\uc5ed\\uc2dc \\uc218\\uc131\\uad6c\", \"\\ub300\\uad6c\\uad11\\uc5ed\\uc2dc \\uc911\\uad6c\", \"\\ub300\\uc804\\uad11\\uc5ed\\uc2dc\", \"\\ub300\\uc804\\uad11\\uc5ed\\uc2dc \\ub300\\ub355\\uad6c\", \"\\ub300\\uc804\\uad11\\uc5ed\\uc2dc \\ub3d9\\uad6c\", \"\\ub300\\uc804\\uad11\\uc5ed\\uc2dc \\uc11c\\uad6c\", \"\\ub300\\uc804\\uad11\\uc5ed\\uc2dc \\uc720\\uc131\\uad6c\", \"\\ubd80\\uc0b0\\uad11\\uc5ed\\uc2dc\", \"\\ubd80\\uc0b0\\uad11\\uc5ed\\uc2dc \\uac15\\uc11c\\uad6c\", \"\\ubd80\\uc0b0\\uad11\\uc5ed\\uc2dc \\uc0ac\\uc0c1\\uad6c\", \"\\ubd80\\uc0b0\\uad11\\uc5ed\\uc2dc \\uc911\\uad6c\", \"\\ubd80\\uc0b0\\uad11\\uc5ed\\uc2dc \\ud574\\uc6b4\\ub300\\uad6c\", \"\\uc11c\\uc6b8\\ud2b9\\ubcc4\\uc2dc\", \"\\uc11c\\uc6b8\\ud2b9\\ubcc4\\uc2dc \\uac15\\uc11c\\uad6c\", \"\\uc11c\\uc6b8\\ud2b9\\ubcc4\\uc2dc \\ub9c8\\ud3ec\\uad6c\", \"\\uc11c\\uc6b8\\ud2b9\\ubcc4\\uc2dc \\uc131\\ubd81\\uad6c\", \"\\uc11c\\uc6b8\\ud2b9\\ubcc4\\uc2dc \\uc1a1\\ud30c\\uad6c\", \"\\uc11c\\uc6b8\\ud2b9\\ubcc4\\uc2dc \\uc591\\ucc9c\\uad6c\", \"\\uc11c\\uc6b8\\ud2b9\\ubcc4\\uc2dc \\uc740\\ud3c9\\uad6c\", \"\\uc11c\\uc6b8\\ud2b9\\ubcc4\\uc2dc \\uc911\\ub791\\uad6c\", \"\\uc138\\uc885\\ud2b9\\ubcc4\\uc790\\uce58\\uc2dc\", \"\\uc6b8\\uc0b0\\uad11\\uc5ed\\uc2dc\", \"\\uc6b8\\uc0b0\\uad11\\uc5ed\\uc2dc \\ub0a8\\uad6c\", \"\\uc778\\ucc9c\\uad11\\uc5ed\\uc2dc\", \"\\uc778\\ucc9c\\uad11\\uc5ed\\uc2dc \\uacc4\\uc591\\uad6c\", \"\\uc778\\ucc9c\\uad11\\uc5ed\\uc2dc \\ub0a8\\uad6c\", \"\\uc778\\ucc9c\\uad11\\uc5ed\\uc2dc \\ub0a8\\ub3d9\\uad6c\", \"\\uc778\\ucc9c\\uad11\\uc5ed\\uc2dc \\ub3d9\\uad6c\", \"\\uc778\\ucc9c\\uad11\\uc5ed\\uc2dc \\ubd80\\ud3c9\\uad6c\", \"\\uc778\\ucc9c\\uad11\\uc5ed\\uc2dc \\uc5f0\\uc218\\uad6c\", \"\\uc804\\ub77c\\ub0a8\\ub3c4\", \"\\uc804\\ub77c\\ub0a8\\ub3c4 \\uac15\\uc9c4\\uad70\", \"\\uc804\\ub77c\\ub0a8\\ub3c4 \\uace0\\ud765\\uad70\", \"\\uc804\\ub77c\\ub0a8\\ub3c4 \\uad11\\uc591\\uc2dc\", \"\\uc804\\ub77c\\ub0a8\\ub3c4 \\ub098\\uc8fc\\uc2dc\", \"\\uc804\\ub77c\\ub0a8\\ub3c4 \\ubaa9\\ud3ec\\uc2dc\", \"\\uc804\\ub77c\\ub0a8\\ub3c4 \\ubb34\\uc548\\uad70\", \"\\uc804\\ub77c\\ub0a8\\ub3c4 \\ubcf4\\uc131\\uad70\", \"\\uc804\\ub77c\\ub0a8\\ub3c4 \\uc21c\\ucc9c\\uc2dc\", \"\\uc804\\ub77c\\ub0a8\\ub3c4 \\uc2e0\\uc548\\uad70\", \"\\uc804\\ub77c\\ub0a8\\ub3c4 \\uc5ec\\uc218\\uc2dc\", \"\\uc804\\ub77c\\ub0a8\\ub3c4 \\uc601\\uad11\\uad70\", \"\\uc804\\ub77c\\ub0a8\\ub3c4 \\uc601\\uc554\\uad70\", \"\\uc804\\ub77c\\ub0a8\\ub3c4 \\uc644\\ub3c4\\uad70\", \"\\uc804\\ub77c\\ub0a8\\ub3c4 \\uc7a5\\uc131\\uad70\", \"\\uc804\\ub77c\\ub0a8\\ub3c4 \\uc7a5\\ud765\\uad70\", \"\\uc804\\ub77c\\ub0a8\\ub3c4 \\uc9c4\\ub3c4\\uad70\", \"\\uc804\\ub77c\\ub0a8\\ub3c4 \\ud568\\ud3c9\\uad70\", \"\\uc804\\ub77c\\ub0a8\\ub3c4 \\ud574\\ub0a8\\uad70\", \"\\uc804\\ub77c\\ub0a8\\ub3c4 \\ud654\\uc21c\\uad70\", \"\\uc804\\ub77c\\ubd81\\ub3c4\", \"\\uc804\\ub77c\\ubd81\\ub3c4 \\uace0\\ucc3d\\uad70\", \"\\uc804\\ub77c\\ubd81\\ub3c4 \\uad70\\uc0b0\\uc2dc\", \"\\uc804\\ub77c\\ubd81\\ub3c4 \\uae40\\uc81c\\uc2dc\", \"\\uc804\\ub77c\\ubd81\\ub3c4 \\ub0a8\\uc6d0\\uc2dc\", \"\\uc804\\ub77c\\ubd81\\ub3c4 \\ubd80\\uc548\\uad70\", \"\\uc804\\ub77c\\ubd81\\ub3c4 \\uc644\\uc8fc\\uad70\", \"\\uc804\\ub77c\\ubd81\\ub3c4 \\uc775\\uc0b0\\uc2dc\", \"\\uc804\\ub77c\\ubd81\\ub3c4 \\uc784\\uc2e4\\uad70\", \"\\uc804\\ub77c\\ubd81\\ub3c4 \\uc7a5\\uc218\\uad70\", \"\\uc804\\ub77c\\ubd81\\ub3c4 \\uc804\\uc8fc\\uc2dc\", \"\\uc804\\ub77c\\ubd81\\ub3c4 \\uc815\\uc74d\\uc2dc\", \"\\uc804\\ub77c\\ubd81\\ub3c4 \\uc9c4\\uc548\\uad70\", \"\\uc81c\\uc8fc\\ud2b9\\ubcc4\\uc790\\uce58\\ub3c4\", \"\\uc81c\\uc8fc\\ud2b9\\ubcc4\\uc790\\uce58\\ub3c4 \\uc11c\\uadc0\\ud3ec\\uc2dc\", \"\\uc81c\\uc8fc\\ud2b9\\ubcc4\\uc790\\uce58\\ub3c4 \\uc81c\\uc8fc\\uc2dc\", \"\\uc911\\uad6d\", \"\\ucda9\\uccad\\ub0a8\\ub3c4 \\uacf5\\uc8fc\\uc2dc\", \"\\ucda9\\uccad\\ub0a8\\ub3c4 \\uae08\\uc0b0\\uad70\", \"\\ucda9\\uccad\\ub0a8\\ub3c4 \\ub17c\\uc0b0\\uc2dc\", \"\\ucda9\\uccad\\ub0a8\\ub3c4 \\ub2f9\\uc9c4\\uc2dc\", \"\\ucda9\\uccad\\ub0a8\\ub3c4 \\ubcf4\\ub839\\uc2dc\", \"\\ucda9\\uccad\\ub0a8\\ub3c4 \\ubd80\\uc5ec\\uad70\", \"\\ucda9\\uccad\\ub0a8\\ub3c4 \\uc11c\\uc0b0\\uc2dc\", \"\\ucda9\\uccad\\ub0a8\\ub3c4 \\uc11c\\ucc9c\\uad70\", \"\\ucda9\\uccad\\ub0a8\\ub3c4 \\uc544\\uc0b0\\uc2dc\", \"\\ucda9\\uccad\\ub0a8\\ub3c4 \\uc608\\uc0b0\\uad70\", \"\\ucda9\\uccad\\ub0a8\\ub3c4 \\ucc9c\\uc548\\uc2dc\", \"\\ucda9\\uccad\\ub0a8\\ub3c4 \\ud0dc\\uc548\\uad70\", \"\\ucda9\\uccad\\ub0a8\\ub3c4 \\ud64d\\uc131\\uad70\", \"\\ucda9\\uccad\\ubd81\\ub3c4\", \"\\ucda9\\uccad\\ubd81\\ub3c4 \\uad34\\uc0b0\\uad70\", \"\\ucda9\\uccad\\ubd81\\ub3c4 \\ubcf4\\uc740\\uad70\", \"\\ucda9\\uccad\\ubd81\\ub3c4 \\uc601\\ub3d9\\uad70\", \"\\ucda9\\uccad\\ubd81\\ub3c4 \\uc74c\\uc131\\uad70\", \"\\ucda9\\uccad\\ubd81\\ub3c4 \\uc81c\\ucc9c\\uc2dc\", \"\\ucda9\\uccad\\ubd81\\ub3c4 \\uc9c4\\ucc9c\\uad70\", \"\\ucda9\\uccad\\ubd81\\ub3c4 \\uccad\\uc8fc\\uc2dc\", \"\\ucda9\\uccad\\ubd81\\ub3c4 \\ucda9\\uc8fc\\uc2dc\"], \"y\": [3915, 46925, 10946, 6382, 70467, 9170, 22570, 13670, 3156, 7280, 18220, 364288, 763, 42930, 10312, 14150, 107199, 930, 6010, 1650, 82902, 328, 6540, 47431, 115260, 8230, 26888, 830, 50288, 40, 181893, 40, 37014, 2650, 2200, 9323, 1660, 109249, 123, 1054, 27951, 435, 153, 10427, 13827, 2700, 4900, 820, 75, 150, 242, 53530, 23085, 24003, 4620, 504, 8190, 14527, 56030, 5280, 9920, 964, 140, 1552, 152, 1389, 3752, 125, 355, 44124, 317795, 200317, 67126, 170145, 65707, 60284, 143610, 6429, 6990, 90678, 200, 106110, 14700, 42787, 4313, 27342, 66982, 17050, 41420, 67759, 1490, 3330, 32400, 207712, 3036, 22912, 7450, 5248, 111886, 21326, 10859, 7318, 1607819, 35708, 227843, 223, 53860, 953, 43, 2049449, 185, 98867, 300, 10000, 11668, 4041, 5838, 11695, 5101, 108619, 55805, 70, 5417, 79319, 9793, 865, 202, 155, 1143, 3344, 3916, 5480, 2020, 5082, 36, 4190, 59005, 3223, 130551, 108972, 67716, 7707, 10666, 5120, 1227, 916, 2719, 78, 10625, 591, 292296, 54295]}, {\"name\": \"2021\\ub1441\\uc6d4\", \"type\": \"bar\", \"x\": [\"\\uac15\\uc6d0\\ub3c4\", \"\\uac15\\uc6d0\\ub3c4 \\uac15\\ub989\\uc2dc\", \"\\uac15\\uc6d0\\ub3c4 \\ub3d9\\ud574\\uc2dc\", \"\\uac15\\uc6d0\\ub3c4 \\uc6d0\\uc8fc\\uc2dc\", \"\\uac15\\uc6d0\\ub3c4 \\uc778\\uc81c\\uad70\", \"\\uac15\\uc6d0\\ub3c4 \\uc815\\uc120\\uad70\", \"\\uac15\\uc6d0\\ub3c4 \\ucca0\\uc6d0\\uad70\", \"\\uac15\\uc6d0\\ub3c4 \\ucd98\\ucc9c\\uc2dc\", \"\\uac15\\uc6d0\\ub3c4 \\ud3c9\\ucc3d\\uad70\", \"\\uacbd\\uae30\\ub3c4\", \"\\uacbd\\uae30\\ub3c4 \\uace0\\uc591\\uc2dc\", \"\\uacbd\\uae30\\ub3c4 \\uad6c\\ub9ac\\uc2dc\", \"\\uacbd\\uae30\\ub3c4 \\uad70\\ud3ec\\uc2dc\", \"\\uacbd\\uae30\\ub3c4 \\uae40\\ud3ec\\uc2dc\", \"\\uacbd\\uae30\\ub3c4 \\ub0a8\\uc591\\uc8fc\\uc2dc\", \"\\uacbd\\uae30\\ub3c4 \\ub3d9\\ub450\\ucc9c\\uc2dc\", \"\\uacbd\\uae30\\ub3c4 \\uc218\\uc6d0\\uc2dc\", \"\\uacbd\\uae30\\ub3c4 \\uc548\\uc0b0\\uc2dc\", \"\\uacbd\\uae30\\ub3c4 \\uc548\\uc131\\uc2dc\", \"\\uacbd\\uae30\\ub3c4 \\uc548\\uc591\\uc2dc\", \"\\uacbd\\uae30\\ub3c4 \\uc591\\uc8fc\\uc2dc\", \"\\uacbd\\uae30\\ub3c4 \\uc5ec\\uc8fc\\uc2dc\", \"\\uacbd\\uae30\\ub3c4 \\uc5f0\\ucc9c\\uad70\", \"\\uacbd\\uae30\\ub3c4 \\uc774\\ucc9c\\uc2dc\", \"\\uacbd\\uae30\\ub3c4 \\ud30c\\uc8fc\\uc2dc\", \"\\uacbd\\uae30\\ub3c4 \\ud3c9\\ud0dd\\uc2dc\", \"\\uacbd\\uae30\\ub3c4 \\ud3ec\\ucc9c\\uc2dc\", \"\\uacbd\\uae30\\ub3c4 \\ud654\\uc131\\uc2dc\", \"\\uacbd\\uc0c1\\ub0a8\\ub3c4\", \"\\uacbd\\uc0c1\\ub0a8\\ub3c4 \\uac70\\ucc3d\\uad70\", \"\\uacbd\\uc0c1\\ub0a8\\ub3c4 \\uae40\\ud574\\uc2dc\", \"\\uacbd\\uc0c1\\ub0a8\\ub3c4 \\ub0a8\\ud574\\uad70\", \"\\uacbd\\uc0c1\\ub0a8\\ub3c4 \\ubc00\\uc591\\uc2dc\", \"\\uacbd\\uc0c1\\ub0a8\\ub3c4 \\uc0ac\\ucc9c\\uc2dc\", \"\\uacbd\\uc0c1\\ub0a8\\ub3c4 \\uc591\\uc0b0\\uc2dc\", \"\\uacbd\\uc0c1\\ub0a8\\ub3c4 \\uc9c4\\uc8fc\\uc2dc\", \"\\uacbd\\uc0c1\\ub0a8\\ub3c4 \\ucc3d\\ub155\\uad70\", \"\\uacbd\\uc0c1\\ub0a8\\ub3c4 \\ucc3d\\uc6d0\\uc2dc\", \"\\uacbd\\uc0c1\\ub0a8\\ub3c4 \\ud558\\ub3d9\\uad70\", \"\\uacbd\\uc0c1\\ub0a8\\ub3c4 \\ud568\\uc548\\uad70\", \"\\uacbd\\uc0c1\\ub0a8\\ub3c4 \\ud568\\uc591\\uad70\", \"\\uacbd\\uc0c1\\ubd81\\ub3c4 \\uacbd\\uc0b0\\uc2dc\", \"\\uacbd\\uc0c1\\ubd81\\ub3c4 \\uacbd\\uc8fc\\uc2dc\", \"\\uacbd\\uc0c1\\ubd81\\ub3c4 \\uace0\\ub839\\uad70\", \"\\uacbd\\uc0c1\\ubd81\\ub3c4 \\uad6c\\ubbf8\\uc2dc\", \"\\uacbd\\uc0c1\\ubd81\\ub3c4 \\uad70\\uc704\\uad70\", \"\\uacbd\\uc0c1\\ubd81\\ub3c4 \\uae40\\ucc9c\\uc2dc\", \"\\uacbd\\uc0c1\\ubd81\\ub3c4 \\ubd09\\ud654\\uad70\", \"\\uacbd\\uc0c1\\ubd81\\ub3c4 \\uc0c1\\uc8fc\\uc2dc\", \"\\uacbd\\uc0c1\\ubd81\\ub3c4 \\uc548\\ub3d9\\uc2dc\", \"\\uacbd\\uc0c1\\ubd81\\ub3c4 \\uc601\\ub355\\uad70\", \"\\uacbd\\uc0c1\\ubd81\\ub3c4 \\uc601\\ucc9c\\uc2dc\", \"\\uacbd\\uc0c1\\ubd81\\ub3c4 \\uce60\\uace1\\uad70\", \"\\uad11\\uc8fc\\uad11\\uc5ed\\uc2dc\", \"\\uad11\\uc8fc\\uad11\\uc5ed\\uc2dc \\uad11\\uc0b0\\uad6c\", \"\\uad11\\uc8fc\\uad11\\uc5ed\\uc2dc \\ub0a8\\uad6c\", \"\\uad11\\uc8fc\\uad11\\uc5ed\\uc2dc \\ubd81\\uad6c\", \"\\uad11\\uc8fc\\uad11\\uc5ed\\uc2dc \\uc11c\\uad6c\", \"\\ub300\\uad6c\\uad11\\uc5ed\\uc2dc\", \"\\ub300\\uad6c\\uad11\\uc5ed\\uc2dc \\ub0a8\\uad6c\", \"\\ub300\\uad6c\\uad11\\uc5ed\\uc2dc \\ub2ec\\uc11c\\uad6c\", \"\\ub300\\uad6c\\uad11\\uc5ed\\uc2dc \\ub3d9\\uad6c\", \"\\ub300\\uad6c\\uad11\\uc5ed\\uc2dc \\ubd81\\uad6c\", \"\\ub300\\uad6c\\uad11\\uc5ed\\uc2dc \\uc218\\uc131\\uad6c\", \"\\ub300\\uad6c\\uad11\\uc5ed\\uc2dc \\uc911\\uad6c\", \"\\ub300\\uc804\\uad11\\uc5ed\\uc2dc\", \"\\ub300\\uc804\\uad11\\uc5ed\\uc2dc \\ub300\\ub355\\uad6c\", \"\\ub300\\uc804\\uad11\\uc5ed\\uc2dc \\ub3d9\\uad6c\", \"\\ub300\\uc804\\uad11\\uc5ed\\uc2dc \\uc11c\\uad6c\", \"\\ub300\\uc804\\uad11\\uc5ed\\uc2dc \\uc720\\uc131\\uad6c\", \"\\ubd80\\uc0b0\\uad11\\uc5ed\\uc2dc\", \"\\ubd80\\uc0b0\\uad11\\uc5ed\\uc2dc \\uac15\\uc11c\\uad6c\", \"\\ubd80\\uc0b0\\uad11\\uc5ed\\uc2dc \\uc0ac\\uc0c1\\uad6c\", \"\\ubd80\\uc0b0\\uad11\\uc5ed\\uc2dc \\uc911\\uad6c\", \"\\ubd80\\uc0b0\\uad11\\uc5ed\\uc2dc \\ud574\\uc6b4\\ub300\\uad6c\", \"\\uc11c\\uc6b8\\ud2b9\\ubcc4\\uc2dc\", \"\\uc11c\\uc6b8\\ud2b9\\ubcc4\\uc2dc \\uac15\\uc11c\\uad6c\", \"\\uc11c\\uc6b8\\ud2b9\\ubcc4\\uc2dc \\ub9c8\\ud3ec\\uad6c\", \"\\uc11c\\uc6b8\\ud2b9\\ubcc4\\uc2dc \\uc131\\ubd81\\uad6c\", \"\\uc11c\\uc6b8\\ud2b9\\ubcc4\\uc2dc \\uc1a1\\ud30c\\uad6c\", \"\\uc11c\\uc6b8\\ud2b9\\ubcc4\\uc2dc \\uc591\\ucc9c\\uad6c\", \"\\uc11c\\uc6b8\\ud2b9\\ubcc4\\uc2dc \\uc740\\ud3c9\\uad6c\", \"\\uc11c\\uc6b8\\ud2b9\\ubcc4\\uc2dc \\uc911\\ub791\\uad6c\", \"\\uc138\\uc885\\ud2b9\\ubcc4\\uc790\\uce58\\uc2dc\", \"\\uc6b8\\uc0b0\\uad11\\uc5ed\\uc2dc\", \"\\uc6b8\\uc0b0\\uad11\\uc5ed\\uc2dc \\ub0a8\\uad6c\", \"\\uc778\\ucc9c\\uad11\\uc5ed\\uc2dc\", \"\\uc778\\ucc9c\\uad11\\uc5ed\\uc2dc \\uacc4\\uc591\\uad6c\", \"\\uc778\\ucc9c\\uad11\\uc5ed\\uc2dc \\ub0a8\\uad6c\", \"\\uc778\\ucc9c\\uad11\\uc5ed\\uc2dc \\ub0a8\\ub3d9\\uad6c\", \"\\uc778\\ucc9c\\uad11\\uc5ed\\uc2dc \\ub3d9\\uad6c\", \"\\uc778\\ucc9c\\uad11\\uc5ed\\uc2dc \\ubd80\\ud3c9\\uad6c\", \"\\uc778\\ucc9c\\uad11\\uc5ed\\uc2dc \\uc5f0\\uc218\\uad6c\", \"\\uc804\\ub77c\\ub0a8\\ub3c4\", \"\\uc804\\ub77c\\ub0a8\\ub3c4 \\uac15\\uc9c4\\uad70\", \"\\uc804\\ub77c\\ub0a8\\ub3c4 \\uace0\\ud765\\uad70\", \"\\uc804\\ub77c\\ub0a8\\ub3c4 \\uad11\\uc591\\uc2dc\", \"\\uc804\\ub77c\\ub0a8\\ub3c4 \\ub098\\uc8fc\\uc2dc\", \"\\uc804\\ub77c\\ub0a8\\ub3c4 \\ubaa9\\ud3ec\\uc2dc\", \"\\uc804\\ub77c\\ub0a8\\ub3c4 \\ubb34\\uc548\\uad70\", \"\\uc804\\ub77c\\ub0a8\\ub3c4 \\ubcf4\\uc131\\uad70\", \"\\uc804\\ub77c\\ub0a8\\ub3c4 \\uc21c\\ucc9c\\uc2dc\", \"\\uc804\\ub77c\\ub0a8\\ub3c4 \\uc2e0\\uc548\\uad70\", \"\\uc804\\ub77c\\ub0a8\\ub3c4 \\uc5ec\\uc218\\uc2dc\", \"\\uc804\\ub77c\\ub0a8\\ub3c4 \\uc601\\uad11\\uad70\", \"\\uc804\\ub77c\\ub0a8\\ub3c4 \\uc601\\uc554\\uad70\", \"\\uc804\\ub77c\\ub0a8\\ub3c4 \\uc644\\ub3c4\\uad70\", \"\\uc804\\ub77c\\ub0a8\\ub3c4 \\uc7a5\\uc131\\uad70\", \"\\uc804\\ub77c\\ub0a8\\ub3c4 \\uc7a5\\ud765\\uad70\", \"\\uc804\\ub77c\\ub0a8\\ub3c4 \\uc9c4\\ub3c4\\uad70\", \"\\uc804\\ub77c\\ub0a8\\ub3c4 \\ud568\\ud3c9\\uad70\", \"\\uc804\\ub77c\\ub0a8\\ub3c4 \\ud574\\ub0a8\\uad70\", \"\\uc804\\ub77c\\ub0a8\\ub3c4 \\ud654\\uc21c\\uad70\", \"\\uc804\\ub77c\\ubd81\\ub3c4\", \"\\uc804\\ub77c\\ubd81\\ub3c4 \\uace0\\ucc3d\\uad70\", \"\\uc804\\ub77c\\ubd81\\ub3c4 \\uad70\\uc0b0\\uc2dc\", \"\\uc804\\ub77c\\ubd81\\ub3c4 \\uae40\\uc81c\\uc2dc\", \"\\uc804\\ub77c\\ubd81\\ub3c4 \\ub0a8\\uc6d0\\uc2dc\", \"\\uc804\\ub77c\\ubd81\\ub3c4 \\ubd80\\uc548\\uad70\", \"\\uc804\\ub77c\\ubd81\\ub3c4 \\uc644\\uc8fc\\uad70\", \"\\uc804\\ub77c\\ubd81\\ub3c4 \\uc775\\uc0b0\\uc2dc\", \"\\uc804\\ub77c\\ubd81\\ub3c4 \\uc784\\uc2e4\\uad70\", \"\\uc804\\ub77c\\ubd81\\ub3c4 \\uc7a5\\uc218\\uad70\", \"\\uc804\\ub77c\\ubd81\\ub3c4 \\uc804\\uc8fc\\uc2dc\", \"\\uc804\\ub77c\\ubd81\\ub3c4 \\uc815\\uc74d\\uc2dc\", \"\\uc804\\ub77c\\ubd81\\ub3c4 \\uc9c4\\uc548\\uad70\", \"\\uc81c\\uc8fc\\ud2b9\\ubcc4\\uc790\\uce58\\ub3c4\", \"\\uc81c\\uc8fc\\ud2b9\\ubcc4\\uc790\\uce58\\ub3c4 \\uc11c\\uadc0\\ud3ec\\uc2dc\", \"\\uc81c\\uc8fc\\ud2b9\\ubcc4\\uc790\\uce58\\ub3c4 \\uc81c\\uc8fc\\uc2dc\", \"\\uc911\\uad6d\", \"\\ucda9\\uccad\\ub0a8\\ub3c4 \\uacf5\\uc8fc\\uc2dc\", \"\\ucda9\\uccad\\ub0a8\\ub3c4 \\uae08\\uc0b0\\uad70\", \"\\ucda9\\uccad\\ub0a8\\ub3c4 \\ub17c\\uc0b0\\uc2dc\", \"\\ucda9\\uccad\\ub0a8\\ub3c4 \\ub2f9\\uc9c4\\uc2dc\", \"\\ucda9\\uccad\\ub0a8\\ub3c4 \\ubcf4\\ub839\\uc2dc\", \"\\ucda9\\uccad\\ub0a8\\ub3c4 \\ubd80\\uc5ec\\uad70\", \"\\ucda9\\uccad\\ub0a8\\ub3c4 \\uc11c\\uc0b0\\uc2dc\", \"\\ucda9\\uccad\\ub0a8\\ub3c4 \\uc11c\\ucc9c\\uad70\", \"\\ucda9\\uccad\\ub0a8\\ub3c4 \\uc544\\uc0b0\\uc2dc\", \"\\ucda9\\uccad\\ub0a8\\ub3c4 \\uc608\\uc0b0\\uad70\", \"\\ucda9\\uccad\\ub0a8\\ub3c4 \\ucc9c\\uc548\\uc2dc\", \"\\ucda9\\uccad\\ub0a8\\ub3c4 \\ud0dc\\uc548\\uad70\", \"\\ucda9\\uccad\\ub0a8\\ub3c4 \\ud64d\\uc131\\uad70\", \"\\ucda9\\uccad\\ubd81\\ub3c4\", \"\\ucda9\\uccad\\ubd81\\ub3c4 \\uad34\\uc0b0\\uad70\", \"\\ucda9\\uccad\\ubd81\\ub3c4 \\ubcf4\\uc740\\uad70\", \"\\ucda9\\uccad\\ubd81\\ub3c4 \\uc601\\ub3d9\\uad70\", \"\\ucda9\\uccad\\ubd81\\ub3c4 \\uc74c\\uc131\\uad70\", \"\\ucda9\\uccad\\ubd81\\ub3c4 \\uc81c\\ucc9c\\uc2dc\", \"\\ucda9\\uccad\\ubd81\\ub3c4 \\uc9c4\\ucc9c\\uad70\", \"\\ucda9\\uccad\\ubd81\\ub3c4 \\uccad\\uc8fc\\uc2dc\", \"\\ucda9\\uccad\\ubd81\\ub3c4 \\ucda9\\uc8fc\\uc2dc\"], \"y\": [200.0, 52798.0, 1210.0, 3590.0, 12960.0, 0.0, 17330.0, 300.0, 74917.0, 30.0, 7160.0, 326826.0, 0.0, 0.0, 4045.0, 0.0, 45359.0, 420.0, 4820.0, 1200.0, 5023.0, 21783.0, 0.0, 46785.0, 121700.0, 43.0, 1448.0, 4670.0, 46892.0, 0.0, 171927.0, 0.0, 20217.0, 7890.0, 1825.0, 13475.0, 3250.0, 41869.0, 0.0, 408.0, 5717.0, 1212.0, 0.0, 1515.0, 4210.0, 0.0, 18028.0, 0.0, 0.0, 4700.0, 0.0, 550.0, 37700.0, 24571.0, 998.0, 0.0, 9379.0, 1900.0, 43875.0, 0.0, 0.0, 315.0, 235.0, 2005.0, 0.0, 21454.0, 330.0, 16032.0, 0.0, 17888.0, 329887.0, 127475.0, 36907.0, 178265.0, 37272.0, 15567.0, 0.0, 0.0, 0.0, 83819.0, 0.0, 4960.0, 6480.0, 25339.0, 8348.0, 19924.0, 91930.0, 63980.0, 0.0, 10072.0, 380.0, 1000.0, 0.0, 74558.0, 2111.0, 4767.0, 0.0, 2542.0, 10686.0, 15130.0, 5050.0, 15131.0, 1450623.0, 748.0, 152636.0, 15680.0, 3610.0, 984.0, 2597.0, 1871637.0, 1164.0, 40989.0, 0.0, 10000.0, 15316.0, 0.0, 0.0, 12200.0, 5462.0, 99854.0, 13306.0, 0.0, 19430.0, 84067.0, 22.0, 0.0, 3513.0, 50.0, 13616.0, 3029.0, 25152.0, 608.0, 1947.0, 6390.0, 0.0, 0.0, 15786.0, 18.0, 58552.0, 82317.0, 44518.0, 464.0, 490.0, 0.0, 232.0, 469.0, 2003.0, 0.0, 7563.0, 0.0, 228302.0, 113297.0]}, {\"name\": \"2020\\ub1442\\uc6d4\", \"type\": \"bar\", \"x\": [\"\\uac15\\uc6d0\\ub3c4\", \"\\uac15\\uc6d0\\ub3c4 \\uac15\\ub989\\uc2dc\", \"\\uac15\\uc6d0\\ub3c4 \\ub3d9\\ud574\\uc2dc\", \"\\uac15\\uc6d0\\ub3c4 \\uc6d0\\uc8fc\\uc2dc\", \"\\uac15\\uc6d0\\ub3c4 \\uc778\\uc81c\\uad70\", \"\\uac15\\uc6d0\\ub3c4 \\uc815\\uc120\\uad70\", \"\\uac15\\uc6d0\\ub3c4 \\ucca0\\uc6d0\\uad70\", \"\\uac15\\uc6d0\\ub3c4 \\ucd98\\ucc9c\\uc2dc\", \"\\uac15\\uc6d0\\ub3c4 \\ud3c9\\ucc3d\\uad70\", \"\\uacbd\\uae30\\ub3c4\", \"\\uacbd\\uae30\\ub3c4 \\uace0\\uc591\\uc2dc\", \"\\uacbd\\uae30\\ub3c4 \\uad6c\\ub9ac\\uc2dc\", \"\\uacbd\\uae30\\ub3c4 \\uad70\\ud3ec\\uc2dc\", \"\\uacbd\\uae30\\ub3c4 \\uae40\\ud3ec\\uc2dc\", \"\\uacbd\\uae30\\ub3c4 \\ub0a8\\uc591\\uc8fc\\uc2dc\", \"\\uacbd\\uae30\\ub3c4 \\ub3d9\\ub450\\ucc9c\\uc2dc\", \"\\uacbd\\uae30\\ub3c4 \\uc218\\uc6d0\\uc2dc\", \"\\uacbd\\uae30\\ub3c4 \\uc548\\uc0b0\\uc2dc\", \"\\uacbd\\uae30\\ub3c4 \\uc548\\uc131\\uc2dc\", \"\\uacbd\\uae30\\ub3c4 \\uc548\\uc591\\uc2dc\", \"\\uacbd\\uae30\\ub3c4 \\uc591\\uc8fc\\uc2dc\", \"\\uacbd\\uae30\\ub3c4 \\uc5ec\\uc8fc\\uc2dc\", \"\\uacbd\\uae30\\ub3c4 \\uc5f0\\ucc9c\\uad70\", \"\\uacbd\\uae30\\ub3c4 \\uc774\\ucc9c\\uc2dc\", \"\\uacbd\\uae30\\ub3c4 \\ud30c\\uc8fc\\uc2dc\", \"\\uacbd\\uae30\\ub3c4 \\ud3c9\\ud0dd\\uc2dc\", \"\\uacbd\\uae30\\ub3c4 \\ud3ec\\ucc9c\\uc2dc\", \"\\uacbd\\uae30\\ub3c4 \\ud654\\uc131\\uc2dc\", \"\\uacbd\\uc0c1\\ub0a8\\ub3c4\", \"\\uacbd\\uc0c1\\ub0a8\\ub3c4 \\uac70\\ucc3d\\uad70\", \"\\uacbd\\uc0c1\\ub0a8\\ub3c4 \\uae40\\ud574\\uc2dc\", \"\\uacbd\\uc0c1\\ub0a8\\ub3c4 \\ub0a8\\ud574\\uad70\", \"\\uacbd\\uc0c1\\ub0a8\\ub3c4 \\ubc00\\uc591\\uc2dc\", \"\\uacbd\\uc0c1\\ub0a8\\ub3c4 \\uc0ac\\ucc9c\\uc2dc\", \"\\uacbd\\uc0c1\\ub0a8\\ub3c4 \\uc591\\uc0b0\\uc2dc\", \"\\uacbd\\uc0c1\\ub0a8\\ub3c4 \\uc9c4\\uc8fc\\uc2dc\", \"\\uacbd\\uc0c1\\ub0a8\\ub3c4 \\ucc3d\\ub155\\uad70\", \"\\uacbd\\uc0c1\\ub0a8\\ub3c4 \\ucc3d\\uc6d0\\uc2dc\", \"\\uacbd\\uc0c1\\ub0a8\\ub3c4 \\ud558\\ub3d9\\uad70\", \"\\uacbd\\uc0c1\\ub0a8\\ub3c4 \\ud568\\uc548\\uad70\", \"\\uacbd\\uc0c1\\ub0a8\\ub3c4 \\ud568\\uc591\\uad70\", \"\\uacbd\\uc0c1\\ubd81\\ub3c4 \\uacbd\\uc0b0\\uc2dc\", \"\\uacbd\\uc0c1\\ubd81\\ub3c4 \\uacbd\\uc8fc\\uc2dc\", \"\\uacbd\\uc0c1\\ubd81\\ub3c4 \\uace0\\ub839\\uad70\", \"\\uacbd\\uc0c1\\ubd81\\ub3c4 \\uad6c\\ubbf8\\uc2dc\", \"\\uacbd\\uc0c1\\ubd81\\ub3c4 \\uad70\\uc704\\uad70\", \"\\uacbd\\uc0c1\\ubd81\\ub3c4 \\uae40\\ucc9c\\uc2dc\", \"\\uacbd\\uc0c1\\ubd81\\ub3c4 \\ubd09\\ud654\\uad70\", \"\\uacbd\\uc0c1\\ubd81\\ub3c4 \\uc0c1\\uc8fc\\uc2dc\", \"\\uacbd\\uc0c1\\ubd81\\ub3c4 \\uc548\\ub3d9\\uc2dc\", \"\\uacbd\\uc0c1\\ubd81\\ub3c4 \\uc601\\ub355\\uad70\", \"\\uacbd\\uc0c1\\ubd81\\ub3c4 \\uc601\\ucc9c\\uc2dc\", \"\\uacbd\\uc0c1\\ubd81\\ub3c4 \\uce60\\uace1\\uad70\", \"\\uad11\\uc8fc\\uad11\\uc5ed\\uc2dc\", \"\\uad11\\uc8fc\\uad11\\uc5ed\\uc2dc \\uad11\\uc0b0\\uad6c\", \"\\uad11\\uc8fc\\uad11\\uc5ed\\uc2dc \\ub0a8\\uad6c\", \"\\uad11\\uc8fc\\uad11\\uc5ed\\uc2dc \\ubd81\\uad6c\", \"\\uad11\\uc8fc\\uad11\\uc5ed\\uc2dc \\uc11c\\uad6c\", \"\\ub300\\uad6c\\uad11\\uc5ed\\uc2dc\", \"\\ub300\\uad6c\\uad11\\uc5ed\\uc2dc \\ub0a8\\uad6c\", \"\\ub300\\uad6c\\uad11\\uc5ed\\uc2dc \\ub2ec\\uc11c\\uad6c\", \"\\ub300\\uad6c\\uad11\\uc5ed\\uc2dc \\ub3d9\\uad6c\", \"\\ub300\\uad6c\\uad11\\uc5ed\\uc2dc \\ubd81\\uad6c\", \"\\ub300\\uad6c\\uad11\\uc5ed\\uc2dc \\uc218\\uc131\\uad6c\", \"\\ub300\\uad6c\\uad11\\uc5ed\\uc2dc \\uc911\\uad6c\", \"\\ub300\\uc804\\uad11\\uc5ed\\uc2dc\", \"\\ub300\\uc804\\uad11\\uc5ed\\uc2dc \\ub300\\ub355\\uad6c\", \"\\ub300\\uc804\\uad11\\uc5ed\\uc2dc \\ub3d9\\uad6c\", \"\\ub300\\uc804\\uad11\\uc5ed\\uc2dc \\uc11c\\uad6c\", \"\\ub300\\uc804\\uad11\\uc5ed\\uc2dc \\uc720\\uc131\\uad6c\", \"\\ubd80\\uc0b0\\uad11\\uc5ed\\uc2dc\", \"\\ubd80\\uc0b0\\uad11\\uc5ed\\uc2dc \\uac15\\uc11c\\uad6c\", \"\\ubd80\\uc0b0\\uad11\\uc5ed\\uc2dc \\uc0ac\\uc0c1\\uad6c\", \"\\ubd80\\uc0b0\\uad11\\uc5ed\\uc2dc \\uc911\\uad6c\", \"\\ubd80\\uc0b0\\uad11\\uc5ed\\uc2dc \\ud574\\uc6b4\\ub300\\uad6c\", \"\\uc11c\\uc6b8\\ud2b9\\ubcc4\\uc2dc\", \"\\uc11c\\uc6b8\\ud2b9\\ubcc4\\uc2dc \\uac15\\uc11c\\uad6c\", \"\\uc11c\\uc6b8\\ud2b9\\ubcc4\\uc2dc \\ub9c8\\ud3ec\\uad6c\", \"\\uc11c\\uc6b8\\ud2b9\\ubcc4\\uc2dc \\uc131\\ubd81\\uad6c\", \"\\uc11c\\uc6b8\\ud2b9\\ubcc4\\uc2dc \\uc1a1\\ud30c\\uad6c\", \"\\uc11c\\uc6b8\\ud2b9\\ubcc4\\uc2dc \\uc591\\ucc9c\\uad6c\", \"\\uc11c\\uc6b8\\ud2b9\\ubcc4\\uc2dc \\uc740\\ud3c9\\uad6c\", \"\\uc11c\\uc6b8\\ud2b9\\ubcc4\\uc2dc \\uc911\\ub791\\uad6c\", \"\\uc138\\uc885\\ud2b9\\ubcc4\\uc790\\uce58\\uc2dc\", \"\\uc6b8\\uc0b0\\uad11\\uc5ed\\uc2dc\", \"\\uc6b8\\uc0b0\\uad11\\uc5ed\\uc2dc \\ub0a8\\uad6c\", \"\\uc778\\ucc9c\\uad11\\uc5ed\\uc2dc\", \"\\uc778\\ucc9c\\uad11\\uc5ed\\uc2dc \\uacc4\\uc591\\uad6c\", \"\\uc778\\ucc9c\\uad11\\uc5ed\\uc2dc \\ub0a8\\uad6c\", \"\\uc778\\ucc9c\\uad11\\uc5ed\\uc2dc \\ub0a8\\ub3d9\\uad6c\", \"\\uc778\\ucc9c\\uad11\\uc5ed\\uc2dc \\ub3d9\\uad6c\", \"\\uc778\\ucc9c\\uad11\\uc5ed\\uc2dc \\ubd80\\ud3c9\\uad6c\", \"\\uc778\\ucc9c\\uad11\\uc5ed\\uc2dc \\uc5f0\\uc218\\uad6c\", \"\\uc804\\ub77c\\ub0a8\\ub3c4\", \"\\uc804\\ub77c\\ub0a8\\ub3c4 \\uac15\\uc9c4\\uad70\", \"\\uc804\\ub77c\\ub0a8\\ub3c4 \\uace0\\ud765\\uad70\", \"\\uc804\\ub77c\\ub0a8\\ub3c4 \\uad11\\uc591\\uc2dc\", \"\\uc804\\ub77c\\ub0a8\\ub3c4 \\ub098\\uc8fc\\uc2dc\", \"\\uc804\\ub77c\\ub0a8\\ub3c4 \\ubaa9\\ud3ec\\uc2dc\", \"\\uc804\\ub77c\\ub0a8\\ub3c4 \\ubb34\\uc548\\uad70\", \"\\uc804\\ub77c\\ub0a8\\ub3c4 \\ubcf4\\uc131\\uad70\", \"\\uc804\\ub77c\\ub0a8\\ub3c4 \\uc21c\\ucc9c\\uc2dc\", \"\\uc804\\ub77c\\ub0a8\\ub3c4 \\uc2e0\\uc548\\uad70\", \"\\uc804\\ub77c\\ub0a8\\ub3c4 \\uc5ec\\uc218\\uc2dc\", \"\\uc804\\ub77c\\ub0a8\\ub3c4 \\uc601\\uad11\\uad70\", \"\\uc804\\ub77c\\ub0a8\\ub3c4 \\uc601\\uc554\\uad70\", \"\\uc804\\ub77c\\ub0a8\\ub3c4 \\uc644\\ub3c4\\uad70\", \"\\uc804\\ub77c\\ub0a8\\ub3c4 \\uc7a5\\uc131\\uad70\", \"\\uc804\\ub77c\\ub0a8\\ub3c4 \\uc7a5\\ud765\\uad70\", \"\\uc804\\ub77c\\ub0a8\\ub3c4 \\uc9c4\\ub3c4\\uad70\", \"\\uc804\\ub77c\\ub0a8\\ub3c4 \\ud568\\ud3c9\\uad70\", \"\\uc804\\ub77c\\ub0a8\\ub3c4 \\ud574\\ub0a8\\uad70\", \"\\uc804\\ub77c\\ub0a8\\ub3c4 \\ud654\\uc21c\\uad70\", \"\\uc804\\ub77c\\ubd81\\ub3c4\", \"\\uc804\\ub77c\\ubd81\\ub3c4 \\uace0\\ucc3d\\uad70\", \"\\uc804\\ub77c\\ubd81\\ub3c4 \\uad70\\uc0b0\\uc2dc\", \"\\uc804\\ub77c\\ubd81\\ub3c4 \\uae40\\uc81c\\uc2dc\", \"\\uc804\\ub77c\\ubd81\\ub3c4 \\ub0a8\\uc6d0\\uc2dc\", \"\\uc804\\ub77c\\ubd81\\ub3c4 \\ubd80\\uc548\\uad70\", \"\\uc804\\ub77c\\ubd81\\ub3c4 \\uc644\\uc8fc\\uad70\", \"\\uc804\\ub77c\\ubd81\\ub3c4 \\uc775\\uc0b0\\uc2dc\", \"\\uc804\\ub77c\\ubd81\\ub3c4 \\uc784\\uc2e4\\uad70\", \"\\uc804\\ub77c\\ubd81\\ub3c4 \\uc7a5\\uc218\\uad70\", \"\\uc804\\ub77c\\ubd81\\ub3c4 \\uc804\\uc8fc\\uc2dc\", \"\\uc804\\ub77c\\ubd81\\ub3c4 \\uc815\\uc74d\\uc2dc\", \"\\uc804\\ub77c\\ubd81\\ub3c4 \\uc9c4\\uc548\\uad70\", \"\\uc81c\\uc8fc\\ud2b9\\ubcc4\\uc790\\uce58\\ub3c4\", \"\\uc81c\\uc8fc\\ud2b9\\ubcc4\\uc790\\uce58\\ub3c4 \\uc11c\\uadc0\\ud3ec\\uc2dc\", \"\\uc81c\\uc8fc\\ud2b9\\ubcc4\\uc790\\uce58\\ub3c4 \\uc81c\\uc8fc\\uc2dc\", \"\\uc911\\uad6d\", \"\\ucda9\\uccad\\ub0a8\\ub3c4 \\uacf5\\uc8fc\\uc2dc\", \"\\ucda9\\uccad\\ub0a8\\ub3c4 \\uae08\\uc0b0\\uad70\", \"\\ucda9\\uccad\\ub0a8\\ub3c4 \\ub17c\\uc0b0\\uc2dc\", \"\\ucda9\\uccad\\ub0a8\\ub3c4 \\ub2f9\\uc9c4\\uc2dc\", \"\\ucda9\\uccad\\ub0a8\\ub3c4 \\ubcf4\\ub839\\uc2dc\", \"\\ucda9\\uccad\\ub0a8\\ub3c4 \\ubd80\\uc5ec\\uad70\", \"\\ucda9\\uccad\\ub0a8\\ub3c4 \\uc11c\\uc0b0\\uc2dc\", \"\\ucda9\\uccad\\ub0a8\\ub3c4 \\uc11c\\ucc9c\\uad70\", \"\\ucda9\\uccad\\ub0a8\\ub3c4 \\uc544\\uc0b0\\uc2dc\", \"\\ucda9\\uccad\\ub0a8\\ub3c4 \\uc608\\uc0b0\\uad70\", \"\\ucda9\\uccad\\ub0a8\\ub3c4 \\ucc9c\\uc548\\uc2dc\", \"\\ucda9\\uccad\\ub0a8\\ub3c4 \\ud0dc\\uc548\\uad70\", \"\\ucda9\\uccad\\ub0a8\\ub3c4 \\ud64d\\uc131\\uad70\", \"\\ucda9\\uccad\\ubd81\\ub3c4\", \"\\ucda9\\uccad\\ubd81\\ub3c4 \\uad34\\uc0b0\\uad70\", \"\\ucda9\\uccad\\ubd81\\ub3c4 \\ubcf4\\uc740\\uad70\", \"\\ucda9\\uccad\\ubd81\\ub3c4 \\uc601\\ub3d9\\uad70\", \"\\ucda9\\uccad\\ubd81\\ub3c4 \\uc74c\\uc131\\uad70\", \"\\ucda9\\uccad\\ubd81\\ub3c4 \\uc81c\\ucc9c\\uc2dc\", \"\\ucda9\\uccad\\ubd81\\ub3c4 \\uc9c4\\ucc9c\\uad70\", \"\\ucda9\\uccad\\ubd81\\ub3c4 \\uccad\\uc8fc\\uc2dc\", \"\\ucda9\\uccad\\ubd81\\ub3c4 \\ucda9\\uc8fc\\uc2dc\"], \"y\": [0, 47573, 8330, 5437, 64065, 3445, 4300, 0, 250, 1600, 15219, 434842, 520, 43750, 15450, 5590, 106947, 2680, 716, 1550, 72100, 260, 8930, 49630, 132340, 6620, 0, 0, 37931, 20, 132680, 140, 32084, 5715, 2515, 13680, 11870, 92941, 0, 1317, 30235, 177, 78, 14434, 12747, 11100, 1015, 48, 0, 204, 232, 67775, 33164, 23993, 4608, 0, 11107, 26430, 26615, 0, 810, 3104, 0, 0, 0, 1076, 702, 0, 0, 15303, 375417, 228587, 59509, 158154, 71981, 82612, 98970, 10745, 17979, 95836, 0, 59560, 4650, 9882, 7202, 22436, 84752, 39460, 50560, 54420, 0, 8570, 51510, 161578, 1588, 12340, 4870, 5574, 114782, 14215, 7455, 12510, 1820322, 21499, 37978, 1972, 33055, 0, 0, 2107991, 0, 106745, 300, 8000, 9673, 6469, 445, 0, 0, 80095, 50754, 0, 3971, 106040, 8970, 656, 30, 38, 1567, 2811, 3078, 4372, 861, 7713, 577, 1579, 52864, 4032, 51796, 90153, 66059, 700, 21500, 0, 2908, 0, 1620, 0, 20793, 58, 188988, 52762]}, {\"name\": \"2021\\ub1442\\uc6d4\", \"type\": \"bar\", \"x\": [\"\\uac15\\uc6d0\\ub3c4\", \"\\uac15\\uc6d0\\ub3c4 \\uac15\\ub989\\uc2dc\", \"\\uac15\\uc6d0\\ub3c4 \\ub3d9\\ud574\\uc2dc\", \"\\uac15\\uc6d0\\ub3c4 \\uc6d0\\uc8fc\\uc2dc\", \"\\uac15\\uc6d0\\ub3c4 \\uc778\\uc81c\\uad70\", \"\\uac15\\uc6d0\\ub3c4 \\uc815\\uc120\\uad70\", \"\\uac15\\uc6d0\\ub3c4 \\ucca0\\uc6d0\\uad70\", \"\\uac15\\uc6d0\\ub3c4 \\ucd98\\ucc9c\\uc2dc\", \"\\uac15\\uc6d0\\ub3c4 \\ud3c9\\ucc3d\\uad70\", \"\\uacbd\\uae30\\ub3c4\", \"\\uacbd\\uae30\\ub3c4 \\uace0\\uc591\\uc2dc\", \"\\uacbd\\uae30\\ub3c4 \\uad6c\\ub9ac\\uc2dc\", \"\\uacbd\\uae30\\ub3c4 \\uad70\\ud3ec\\uc2dc\", \"\\uacbd\\uae30\\ub3c4 \\uae40\\ud3ec\\uc2dc\", \"\\uacbd\\uae30\\ub3c4 \\ub0a8\\uc591\\uc8fc\\uc2dc\", \"\\uacbd\\uae30\\ub3c4 \\ub3d9\\ub450\\ucc9c\\uc2dc\", \"\\uacbd\\uae30\\ub3c4 \\uc218\\uc6d0\\uc2dc\", \"\\uacbd\\uae30\\ub3c4 \\uc548\\uc0b0\\uc2dc\", \"\\uacbd\\uae30\\ub3c4 \\uc548\\uc131\\uc2dc\", \"\\uacbd\\uae30\\ub3c4 \\uc548\\uc591\\uc2dc\", \"\\uacbd\\uae30\\ub3c4 \\uc591\\uc8fc\\uc2dc\", \"\\uacbd\\uae30\\ub3c4 \\uc5ec\\uc8fc\\uc2dc\", \"\\uacbd\\uae30\\ub3c4 \\uc5f0\\ucc9c\\uad70\", \"\\uacbd\\uae30\\ub3c4 \\uc774\\ucc9c\\uc2dc\", \"\\uacbd\\uae30\\ub3c4 \\ud30c\\uc8fc\\uc2dc\", \"\\uacbd\\uae30\\ub3c4 \\ud3c9\\ud0dd\\uc2dc\", \"\\uacbd\\uae30\\ub3c4 \\ud3ec\\ucc9c\\uc2dc\", \"\\uacbd\\uae30\\ub3c4 \\ud654\\uc131\\uc2dc\", \"\\uacbd\\uc0c1\\ub0a8\\ub3c4\", \"\\uacbd\\uc0c1\\ub0a8\\ub3c4 \\uac70\\ucc3d\\uad70\", \"\\uacbd\\uc0c1\\ub0a8\\ub3c4 \\uae40\\ud574\\uc2dc\", \"\\uacbd\\uc0c1\\ub0a8\\ub3c4 \\ub0a8\\ud574\\uad70\", \"\\uacbd\\uc0c1\\ub0a8\\ub3c4 \\ubc00\\uc591\\uc2dc\", \"\\uacbd\\uc0c1\\ub0a8\\ub3c4 \\uc0ac\\ucc9c\\uc2dc\", \"\\uacbd\\uc0c1\\ub0a8\\ub3c4 \\uc591\\uc0b0\\uc2dc\", \"\\uacbd\\uc0c1\\ub0a8\\ub3c4 \\uc9c4\\uc8fc\\uc2dc\", \"\\uacbd\\uc0c1\\ub0a8\\ub3c4 \\ucc3d\\ub155\\uad70\", \"\\uacbd\\uc0c1\\ub0a8\\ub3c4 \\ucc3d\\uc6d0\\uc2dc\", \"\\uacbd\\uc0c1\\ub0a8\\ub3c4 \\ud558\\ub3d9\\uad70\", \"\\uacbd\\uc0c1\\ub0a8\\ub3c4 \\ud568\\uc548\\uad70\", \"\\uacbd\\uc0c1\\ub0a8\\ub3c4 \\ud568\\uc591\\uad70\", \"\\uacbd\\uc0c1\\ubd81\\ub3c4 \\uacbd\\uc0b0\\uc2dc\", \"\\uacbd\\uc0c1\\ubd81\\ub3c4 \\uacbd\\uc8fc\\uc2dc\", \"\\uacbd\\uc0c1\\ubd81\\ub3c4 \\uace0\\ub839\\uad70\", \"\\uacbd\\uc0c1\\ubd81\\ub3c4 \\uad6c\\ubbf8\\uc2dc\", \"\\uacbd\\uc0c1\\ubd81\\ub3c4 \\uad70\\uc704\\uad70\", \"\\uacbd\\uc0c1\\ubd81\\ub3c4 \\uae40\\ucc9c\\uc2dc\", \"\\uacbd\\uc0c1\\ubd81\\ub3c4 \\ubd09\\ud654\\uad70\", \"\\uacbd\\uc0c1\\ubd81\\ub3c4 \\uc0c1\\uc8fc\\uc2dc\", \"\\uacbd\\uc0c1\\ubd81\\ub3c4 \\uc548\\ub3d9\\uc2dc\", \"\\uacbd\\uc0c1\\ubd81\\ub3c4 \\uc601\\ub355\\uad70\", \"\\uacbd\\uc0c1\\ubd81\\ub3c4 \\uc601\\ucc9c\\uc2dc\", \"\\uacbd\\uc0c1\\ubd81\\ub3c4 \\uce60\\uace1\\uad70\", \"\\uad11\\uc8fc\\uad11\\uc5ed\\uc2dc\", \"\\uad11\\uc8fc\\uad11\\uc5ed\\uc2dc \\uad11\\uc0b0\\uad6c\", \"\\uad11\\uc8fc\\uad11\\uc5ed\\uc2dc \\ub0a8\\uad6c\", \"\\uad11\\uc8fc\\uad11\\uc5ed\\uc2dc \\ubd81\\uad6c\", \"\\uad11\\uc8fc\\uad11\\uc5ed\\uc2dc \\uc11c\\uad6c\", \"\\ub300\\uad6c\\uad11\\uc5ed\\uc2dc\", \"\\ub300\\uad6c\\uad11\\uc5ed\\uc2dc \\ub0a8\\uad6c\", \"\\ub300\\uad6c\\uad11\\uc5ed\\uc2dc \\ub2ec\\uc11c\\uad6c\", \"\\ub300\\uad6c\\uad11\\uc5ed\\uc2dc \\ub3d9\\uad6c\", \"\\ub300\\uad6c\\uad11\\uc5ed\\uc2dc \\ubd81\\uad6c\", \"\\ub300\\uad6c\\uad11\\uc5ed\\uc2dc \\uc218\\uc131\\uad6c\", \"\\ub300\\uad6c\\uad11\\uc5ed\\uc2dc \\uc911\\uad6c\", \"\\ub300\\uc804\\uad11\\uc5ed\\uc2dc\", \"\\ub300\\uc804\\uad11\\uc5ed\\uc2dc \\ub300\\ub355\\uad6c\", \"\\ub300\\uc804\\uad11\\uc5ed\\uc2dc \\ub3d9\\uad6c\", \"\\ub300\\uc804\\uad11\\uc5ed\\uc2dc \\uc11c\\uad6c\", \"\\ub300\\uc804\\uad11\\uc5ed\\uc2dc \\uc720\\uc131\\uad6c\", \"\\ubd80\\uc0b0\\uad11\\uc5ed\\uc2dc\", \"\\ubd80\\uc0b0\\uad11\\uc5ed\\uc2dc \\uac15\\uc11c\\uad6c\", \"\\ubd80\\uc0b0\\uad11\\uc5ed\\uc2dc \\uc0ac\\uc0c1\\uad6c\", \"\\ubd80\\uc0b0\\uad11\\uc5ed\\uc2dc \\uc911\\uad6c\", \"\\ubd80\\uc0b0\\uad11\\uc5ed\\uc2dc \\ud574\\uc6b4\\ub300\\uad6c\", \"\\uc11c\\uc6b8\\ud2b9\\ubcc4\\uc2dc\", \"\\uc11c\\uc6b8\\ud2b9\\ubcc4\\uc2dc \\uac15\\uc11c\\uad6c\", \"\\uc11c\\uc6b8\\ud2b9\\ubcc4\\uc2dc \\ub9c8\\ud3ec\\uad6c\", \"\\uc11c\\uc6b8\\ud2b9\\ubcc4\\uc2dc \\uc131\\ubd81\\uad6c\", \"\\uc11c\\uc6b8\\ud2b9\\ubcc4\\uc2dc \\uc1a1\\ud30c\\uad6c\", \"\\uc11c\\uc6b8\\ud2b9\\ubcc4\\uc2dc \\uc591\\ucc9c\\uad6c\", \"\\uc11c\\uc6b8\\ud2b9\\ubcc4\\uc2dc \\uc740\\ud3c9\\uad6c\", \"\\uc11c\\uc6b8\\ud2b9\\ubcc4\\uc2dc \\uc911\\ub791\\uad6c\", \"\\uc138\\uc885\\ud2b9\\ubcc4\\uc790\\uce58\\uc2dc\", \"\\uc6b8\\uc0b0\\uad11\\uc5ed\\uc2dc\", \"\\uc6b8\\uc0b0\\uad11\\uc5ed\\uc2dc \\ub0a8\\uad6c\", \"\\uc778\\ucc9c\\uad11\\uc5ed\\uc2dc\", \"\\uc778\\ucc9c\\uad11\\uc5ed\\uc2dc \\uacc4\\uc591\\uad6c\", \"\\uc778\\ucc9c\\uad11\\uc5ed\\uc2dc \\ub0a8\\uad6c\", \"\\uc778\\ucc9c\\uad11\\uc5ed\\uc2dc \\ub0a8\\ub3d9\\uad6c\", \"\\uc778\\ucc9c\\uad11\\uc5ed\\uc2dc \\ub3d9\\uad6c\", \"\\uc778\\ucc9c\\uad11\\uc5ed\\uc2dc \\ubd80\\ud3c9\\uad6c\", \"\\uc778\\ucc9c\\uad11\\uc5ed\\uc2dc \\uc5f0\\uc218\\uad6c\", \"\\uc804\\ub77c\\ub0a8\\ub3c4\", \"\\uc804\\ub77c\\ub0a8\\ub3c4 \\uac15\\uc9c4\\uad70\", \"\\uc804\\ub77c\\ub0a8\\ub3c4 \\uace0\\ud765\\uad70\", \"\\uc804\\ub77c\\ub0a8\\ub3c4 \\uad11\\uc591\\uc2dc\", \"\\uc804\\ub77c\\ub0a8\\ub3c4 \\ub098\\uc8fc\\uc2dc\", \"\\uc804\\ub77c\\ub0a8\\ub3c4 \\ubaa9\\ud3ec\\uc2dc\", \"\\uc804\\ub77c\\ub0a8\\ub3c4 \\ubb34\\uc548\\uad70\", \"\\uc804\\ub77c\\ub0a8\\ub3c4 \\ubcf4\\uc131\\uad70\", \"\\uc804\\ub77c\\ub0a8\\ub3c4 \\uc21c\\ucc9c\\uc2dc\", \"\\uc804\\ub77c\\ub0a8\\ub3c4 \\uc2e0\\uc548\\uad70\", \"\\uc804\\ub77c\\ub0a8\\ub3c4 \\uc5ec\\uc218\\uc2dc\", \"\\uc804\\ub77c\\ub0a8\\ub3c4 \\uc601\\uad11\\uad70\", \"\\uc804\\ub77c\\ub0a8\\ub3c4 \\uc601\\uc554\\uad70\", \"\\uc804\\ub77c\\ub0a8\\ub3c4 \\uc644\\ub3c4\\uad70\", \"\\uc804\\ub77c\\ub0a8\\ub3c4 \\uc7a5\\uc131\\uad70\", \"\\uc804\\ub77c\\ub0a8\\ub3c4 \\uc7a5\\ud765\\uad70\", \"\\uc804\\ub77c\\ub0a8\\ub3c4 \\uc9c4\\ub3c4\\uad70\", \"\\uc804\\ub77c\\ub0a8\\ub3c4 \\ud568\\ud3c9\\uad70\", \"\\uc804\\ub77c\\ub0a8\\ub3c4 \\ud574\\ub0a8\\uad70\", \"\\uc804\\ub77c\\ub0a8\\ub3c4 \\ud654\\uc21c\\uad70\", \"\\uc804\\ub77c\\ubd81\\ub3c4\", \"\\uc804\\ub77c\\ubd81\\ub3c4 \\uace0\\ucc3d\\uad70\", \"\\uc804\\ub77c\\ubd81\\ub3c4 \\uad70\\uc0b0\\uc2dc\", \"\\uc804\\ub77c\\ubd81\\ub3c4 \\uae40\\uc81c\\uc2dc\", \"\\uc804\\ub77c\\ubd81\\ub3c4 \\ub0a8\\uc6d0\\uc2dc\", \"\\uc804\\ub77c\\ubd81\\ub3c4 \\ubd80\\uc548\\uad70\", \"\\uc804\\ub77c\\ubd81\\ub3c4 \\uc644\\uc8fc\\uad70\", \"\\uc804\\ub77c\\ubd81\\ub3c4 \\uc775\\uc0b0\\uc2dc\", \"\\uc804\\ub77c\\ubd81\\ub3c4 \\uc784\\uc2e4\\uad70\", \"\\uc804\\ub77c\\ubd81\\ub3c4 \\uc7a5\\uc218\\uad70\", \"\\uc804\\ub77c\\ubd81\\ub3c4 \\uc804\\uc8fc\\uc2dc\", \"\\uc804\\ub77c\\ubd81\\ub3c4 \\uc815\\uc74d\\uc2dc\", \"\\uc804\\ub77c\\ubd81\\ub3c4 \\uc9c4\\uc548\\uad70\", \"\\uc81c\\uc8fc\\ud2b9\\ubcc4\\uc790\\uce58\\ub3c4\", \"\\uc81c\\uc8fc\\ud2b9\\ubcc4\\uc790\\uce58\\ub3c4 \\uc11c\\uadc0\\ud3ec\\uc2dc\", \"\\uc81c\\uc8fc\\ud2b9\\ubcc4\\uc790\\uce58\\ub3c4 \\uc81c\\uc8fc\\uc2dc\", \"\\uc911\\uad6d\", \"\\ucda9\\uccad\\ub0a8\\ub3c4 \\uacf5\\uc8fc\\uc2dc\", \"\\ucda9\\uccad\\ub0a8\\ub3c4 \\uae08\\uc0b0\\uad70\", \"\\ucda9\\uccad\\ub0a8\\ub3c4 \\ub17c\\uc0b0\\uc2dc\", \"\\ucda9\\uccad\\ub0a8\\ub3c4 \\ub2f9\\uc9c4\\uc2dc\", \"\\ucda9\\uccad\\ub0a8\\ub3c4 \\ubcf4\\ub839\\uc2dc\", \"\\ucda9\\uccad\\ub0a8\\ub3c4 \\ubd80\\uc5ec\\uad70\", \"\\ucda9\\uccad\\ub0a8\\ub3c4 \\uc11c\\uc0b0\\uc2dc\", \"\\ucda9\\uccad\\ub0a8\\ub3c4 \\uc11c\\ucc9c\\uad70\", \"\\ucda9\\uccad\\ub0a8\\ub3c4 \\uc544\\uc0b0\\uc2dc\", \"\\ucda9\\uccad\\ub0a8\\ub3c4 \\uc608\\uc0b0\\uad70\", \"\\ucda9\\uccad\\ub0a8\\ub3c4 \\ucc9c\\uc548\\uc2dc\", \"\\ucda9\\uccad\\ub0a8\\ub3c4 \\ud0dc\\uc548\\uad70\", \"\\ucda9\\uccad\\ub0a8\\ub3c4 \\ud64d\\uc131\\uad70\", \"\\ucda9\\uccad\\ubd81\\ub3c4\", \"\\ucda9\\uccad\\ubd81\\ub3c4 \\uad34\\uc0b0\\uad70\", \"\\ucda9\\uccad\\ubd81\\ub3c4 \\ubcf4\\uc740\\uad70\", \"\\ucda9\\uccad\\ubd81\\ub3c4 \\uc601\\ub3d9\\uad70\", \"\\ucda9\\uccad\\ubd81\\ub3c4 \\uc74c\\uc131\\uad70\", \"\\ucda9\\uccad\\ubd81\\ub3c4 \\uc81c\\ucc9c\\uc2dc\", \"\\ucda9\\uccad\\ubd81\\ub3c4 \\uc9c4\\ucc9c\\uad70\", \"\\ucda9\\uccad\\ubd81\\ub3c4 \\uccad\\uc8fc\\uc2dc\", \"\\ucda9\\uccad\\ubd81\\ub3c4 \\ucda9\\uc8fc\\uc2dc\"], \"y\": [0.0, 48290.0, 0.0, 3131.0, 9282.0, 4630.0, 15060.0, 0.0, 34632.0, 1930.0, 1140.0, 228504.0, 0.0, 0.0, 4841.0, 0.0, 31811.0, 0.0, 3830.0, 2000.0, 1432.0, 20354.0, 1990.0, 4924.0, 127891.0, 2943.0, 500.0, 8470.0, 30017.0, 0.0, 162231.0, 0.0, 21990.0, 6145.0, 2610.0, 3337.0, 3120.0, 32487.0, 0.0, 0.0, 5610.0, 4163.0, 140.0, 0.0, 4432.0, 0.0, 27858.0, 0.0, 6.0, 7776.0, 0.0, 0.0, 31800.0, 30828.0, 0.0, 0.0, 9564.0, 5821.0, 30036.0, 0.0, 0.0, 0.0, 0.0, 0.0, 0.0, 237.0, 1875.0, 20.0, 0.0, 20260.0, 313009.0, 112804.0, 24656.0, 135163.0, 40160.0, 28154.0, 0.0, 0.0, 0.0, 90882.0, 0.0, 0.0, 2000.0, 11274.0, 3714.0, 17222.0, 51864.0, 15700.0, 0.0, 5861.0, 0.0, 0.0, 0.0, 78697.0, 3506.0, 1065.0, 822.0, 3504.0, 10716.0, 12385.0, 11170.0, 12265.0, 1852960.0, 577.0, 40712.0, 7170.0, 0.0, 531.0, 189.0, 1502533.0, 340.0, 40302.0, 0.0, 0.0, 2842.0, 0.0, 0.0, 6809.0, 120.0, 60493.0, 3518.0, 0.0, 4129.0, 39205.0, 0.0, 0.0, 5879.0, 452.0, 19062.0, 2525.0, 11002.0, 530.0, 3263.0, 6629.0, 0.0, 5.0, 8254.0, 26.0, 7547.0, 42068.0, 17758.0, 0.0, 0.0, 0.0, 385.0, 0.0, 365.0, 36.0, 3246.0, 0.0, 101837.0, 48628.0]}, {\"name\": \"2020\\ub1443\\uc6d4\", \"type\": \"bar\", \"x\": [\"\\uac15\\uc6d0\\ub3c4\", \"\\uac15\\uc6d0\\ub3c4 \\uac15\\ub989\\uc2dc\", \"\\uac15\\uc6d0\\ub3c4 \\ub3d9\\ud574\\uc2dc\", \"\\uac15\\uc6d0\\ub3c4 \\uc6d0\\uc8fc\\uc2dc\", \"\\uac15\\uc6d0\\ub3c4 \\uc778\\uc81c\\uad70\", \"\\uac15\\uc6d0\\ub3c4 \\uc815\\uc120\\uad70\", \"\\uac15\\uc6d0\\ub3c4 \\ucca0\\uc6d0\\uad70\", \"\\uac15\\uc6d0\\ub3c4 \\ucd98\\ucc9c\\uc2dc\", \"\\uac15\\uc6d0\\ub3c4 \\ud3c9\\ucc3d\\uad70\", \"\\uacbd\\uae30\\ub3c4\", \"\\uacbd\\uae30\\ub3c4 \\uace0\\uc591\\uc2dc\", \"\\uacbd\\uae30\\ub3c4 \\uad6c\\ub9ac\\uc2dc\", \"\\uacbd\\uae30\\ub3c4 \\uad70\\ud3ec\\uc2dc\", \"\\uacbd\\uae30\\ub3c4 \\uae40\\ud3ec\\uc2dc\", \"\\uacbd\\uae30\\ub3c4 \\ub0a8\\uc591\\uc8fc\\uc2dc\", \"\\uacbd\\uae30\\ub3c4 \\ub3d9\\ub450\\ucc9c\\uc2dc\", \"\\uacbd\\uae30\\ub3c4 \\uc218\\uc6d0\\uc2dc\", \"\\uacbd\\uae30\\ub3c4 \\uc548\\uc0b0\\uc2dc\", \"\\uacbd\\uae30\\ub3c4 \\uc548\\uc131\\uc2dc\", \"\\uacbd\\uae30\\ub3c4 \\uc548\\uc591\\uc2dc\", \"\\uacbd\\uae30\\ub3c4 \\uc591\\uc8fc\\uc2dc\", \"\\uacbd\\uae30\\ub3c4 \\uc5ec\\uc8fc\\uc2dc\", \"\\uacbd\\uae30\\ub3c4 \\uc5f0\\ucc9c\\uad70\", \"\\uacbd\\uae30\\ub3c4 \\uc774\\ucc9c\\uc2dc\", \"\\uacbd\\uae30\\ub3c4 \\ud30c\\uc8fc\\uc2dc\", \"\\uacbd\\uae30\\ub3c4 \\ud3c9\\ud0dd\\uc2dc\", \"\\uacbd\\uae30\\ub3c4 \\ud3ec\\ucc9c\\uc2dc\", \"\\uacbd\\uae30\\ub3c4 \\ud654\\uc131\\uc2dc\", \"\\uacbd\\uc0c1\\ub0a8\\ub3c4\", \"\\uacbd\\uc0c1\\ub0a8\\ub3c4 \\uac70\\ucc3d\\uad70\", \"\\uacbd\\uc0c1\\ub0a8\\ub3c4 \\uae40\\ud574\\uc2dc\", \"\\uacbd\\uc0c1\\ub0a8\\ub3c4 \\ub0a8\\ud574\\uad70\", \"\\uacbd\\uc0c1\\ub0a8\\ub3c4 \\ubc00\\uc591\\uc2dc\", \"\\uacbd\\uc0c1\\ub0a8\\ub3c4 \\uc0ac\\ucc9c\\uc2dc\", \"\\uacbd\\uc0c1\\ub0a8\\ub3c4 \\uc591\\uc0b0\\uc2dc\", \"\\uacbd\\uc0c1\\ub0a8\\ub3c4 \\uc9c4\\uc8fc\\uc2dc\", \"\\uacbd\\uc0c1\\ub0a8\\ub3c4 \\ucc3d\\ub155\\uad70\", \"\\uacbd\\uc0c1\\ub0a8\\ub3c4 \\ucc3d\\uc6d0\\uc2dc\", \"\\uacbd\\uc0c1\\ub0a8\\ub3c4 \\ud558\\ub3d9\\uad70\", \"\\uacbd\\uc0c1\\ub0a8\\ub3c4 \\ud568\\uc548\\uad70\", \"\\uacbd\\uc0c1\\ub0a8\\ub3c4 \\ud568\\uc591\\uad70\", \"\\uacbd\\uc0c1\\ubd81\\ub3c4 \\uacbd\\uc0b0\\uc2dc\", \"\\uacbd\\uc0c1\\ubd81\\ub3c4 \\uacbd\\uc8fc\\uc2dc\", \"\\uacbd\\uc0c1\\ubd81\\ub3c4 \\uace0\\ub839\\uad70\", \"\\uacbd\\uc0c1\\ubd81\\ub3c4 \\uad6c\\ubbf8\\uc2dc\", \"\\uacbd\\uc0c1\\ubd81\\ub3c4 \\uad70\\uc704\\uad70\", \"\\uacbd\\uc0c1\\ubd81\\ub3c4 \\uae40\\ucc9c\\uc2dc\", \"\\uacbd\\uc0c1\\ubd81\\ub3c4 \\ubd09\\ud654\\uad70\", \"\\uacbd\\uc0c1\\ubd81\\ub3c4 \\uc0c1\\uc8fc\\uc2dc\", \"\\uacbd\\uc0c1\\ubd81\\ub3c4 \\uc548\\ub3d9\\uc2dc\", \"\\uacbd\\uc0c1\\ubd81\\ub3c4 \\uc601\\ub355\\uad70\", \"\\uacbd\\uc0c1\\ubd81\\ub3c4 \\uc601\\ucc9c\\uc2dc\", \"\\uacbd\\uc0c1\\ubd81\\ub3c4 \\uce60\\uace1\\uad70\", \"\\uad11\\uc8fc\\uad11\\uc5ed\\uc2dc\", \"\\uad11\\uc8fc\\uad11\\uc5ed\\uc2dc \\uad11\\uc0b0\\uad6c\", \"\\uad11\\uc8fc\\uad11\\uc5ed\\uc2dc \\ub0a8\\uad6c\", \"\\uad11\\uc8fc\\uad11\\uc5ed\\uc2dc \\ubd81\\uad6c\", \"\\uad11\\uc8fc\\uad11\\uc5ed\\uc2dc \\uc11c\\uad6c\", \"\\ub300\\uad6c\\uad11\\uc5ed\\uc2dc\", \"\\ub300\\uad6c\\uad11\\uc5ed\\uc2dc \\ub0a8\\uad6c\", \"\\ub300\\uad6c\\uad11\\uc5ed\\uc2dc \\ub2ec\\uc11c\\uad6c\", \"\\ub300\\uad6c\\uad11\\uc5ed\\uc2dc \\ub3d9\\uad6c\", \"\\ub300\\uad6c\\uad11\\uc5ed\\uc2dc \\ubd81\\uad6c\", \"\\ub300\\uad6c\\uad11\\uc5ed\\uc2dc \\uc218\\uc131\\uad6c\", \"\\ub300\\uad6c\\uad11\\uc5ed\\uc2dc \\uc911\\uad6c\", \"\\ub300\\uc804\\uad11\\uc5ed\\uc2dc\", \"\\ub300\\uc804\\uad11\\uc5ed\\uc2dc \\ub300\\ub355\\uad6c\", \"\\ub300\\uc804\\uad11\\uc5ed\\uc2dc \\ub3d9\\uad6c\", \"\\ub300\\uc804\\uad11\\uc5ed\\uc2dc \\uc11c\\uad6c\", \"\\ub300\\uc804\\uad11\\uc5ed\\uc2dc \\uc720\\uc131\\uad6c\", \"\\ubd80\\uc0b0\\uad11\\uc5ed\\uc2dc\", \"\\ubd80\\uc0b0\\uad11\\uc5ed\\uc2dc \\uac15\\uc11c\\uad6c\", \"\\ubd80\\uc0b0\\uad11\\uc5ed\\uc2dc \\uc0ac\\uc0c1\\uad6c\", \"\\ubd80\\uc0b0\\uad11\\uc5ed\\uc2dc \\uc911\\uad6c\", \"\\ubd80\\uc0b0\\uad11\\uc5ed\\uc2dc \\ud574\\uc6b4\\ub300\\uad6c\", \"\\uc11c\\uc6b8\\ud2b9\\ubcc4\\uc2dc\", \"\\uc11c\\uc6b8\\ud2b9\\ubcc4\\uc2dc \\uac15\\uc11c\\uad6c\", \"\\uc11c\\uc6b8\\ud2b9\\ubcc4\\uc2dc \\ub9c8\\ud3ec\\uad6c\", \"\\uc11c\\uc6b8\\ud2b9\\ubcc4\\uc2dc \\uc131\\ubd81\\uad6c\", \"\\uc11c\\uc6b8\\ud2b9\\ubcc4\\uc2dc \\uc1a1\\ud30c\\uad6c\", \"\\uc11c\\uc6b8\\ud2b9\\ubcc4\\uc2dc \\uc591\\ucc9c\\uad6c\", \"\\uc11c\\uc6b8\\ud2b9\\ubcc4\\uc2dc \\uc740\\ud3c9\\uad6c\", \"\\uc11c\\uc6b8\\ud2b9\\ubcc4\\uc2dc \\uc911\\ub791\\uad6c\", \"\\uc138\\uc885\\ud2b9\\ubcc4\\uc790\\uce58\\uc2dc\", \"\\uc6b8\\uc0b0\\uad11\\uc5ed\\uc2dc\", \"\\uc6b8\\uc0b0\\uad11\\uc5ed\\uc2dc \\ub0a8\\uad6c\", \"\\uc778\\ucc9c\\uad11\\uc5ed\\uc2dc\", \"\\uc778\\ucc9c\\uad11\\uc5ed\\uc2dc \\uacc4\\uc591\\uad6c\", \"\\uc778\\ucc9c\\uad11\\uc5ed\\uc2dc \\ub0a8\\uad6c\", \"\\uc778\\ucc9c\\uad11\\uc5ed\\uc2dc \\ub0a8\\ub3d9\\uad6c\", \"\\uc778\\ucc9c\\uad11\\uc5ed\\uc2dc \\ub3d9\\uad6c\", \"\\uc778\\ucc9c\\uad11\\uc5ed\\uc2dc \\ubd80\\ud3c9\\uad6c\", \"\\uc778\\ucc9c\\uad11\\uc5ed\\uc2dc \\uc5f0\\uc218\\uad6c\", \"\\uc804\\ub77c\\ub0a8\\ub3c4\", \"\\uc804\\ub77c\\ub0a8\\ub3c4 \\uac15\\uc9c4\\uad70\", \"\\uc804\\ub77c\\ub0a8\\ub3c4 \\uace0\\ud765\\uad70\", \"\\uc804\\ub77c\\ub0a8\\ub3c4 \\uad11\\uc591\\uc2dc\", \"\\uc804\\ub77c\\ub0a8\\ub3c4 \\ub098\\uc8fc\\uc2dc\", \"\\uc804\\ub77c\\ub0a8\\ub3c4 \\ubaa9\\ud3ec\\uc2dc\", \"\\uc804\\ub77c\\ub0a8\\ub3c4 \\ubb34\\uc548\\uad70\", \"\\uc804\\ub77c\\ub0a8\\ub3c4 \\ubcf4\\uc131\\uad70\", \"\\uc804\\ub77c\\ub0a8\\ub3c4 \\uc21c\\ucc9c\\uc2dc\", \"\\uc804\\ub77c\\ub0a8\\ub3c4 \\uc2e0\\uc548\\uad70\", \"\\uc804\\ub77c\\ub0a8\\ub3c4 \\uc5ec\\uc218\\uc2dc\", \"\\uc804\\ub77c\\ub0a8\\ub3c4 \\uc601\\uad11\\uad70\", \"\\uc804\\ub77c\\ub0a8\\ub3c4 \\uc601\\uc554\\uad70\", \"\\uc804\\ub77c\\ub0a8\\ub3c4 \\uc644\\ub3c4\\uad70\", \"\\uc804\\ub77c\\ub0a8\\ub3c4 \\uc7a5\\uc131\\uad70\", \"\\uc804\\ub77c\\ub0a8\\ub3c4 \\uc7a5\\ud765\\uad70\", \"\\uc804\\ub77c\\ub0a8\\ub3c4 \\uc9c4\\ub3c4\\uad70\", \"\\uc804\\ub77c\\ub0a8\\ub3c4 \\ud568\\ud3c9\\uad70\", \"\\uc804\\ub77c\\ub0a8\\ub3c4 \\ud574\\ub0a8\\uad70\", \"\\uc804\\ub77c\\ub0a8\\ub3c4 \\ud654\\uc21c\\uad70\", \"\\uc804\\ub77c\\ubd81\\ub3c4\", \"\\uc804\\ub77c\\ubd81\\ub3c4 \\uace0\\ucc3d\\uad70\", \"\\uc804\\ub77c\\ubd81\\ub3c4 \\uad70\\uc0b0\\uc2dc\", \"\\uc804\\ub77c\\ubd81\\ub3c4 \\uae40\\uc81c\\uc2dc\", \"\\uc804\\ub77c\\ubd81\\ub3c4 \\ub0a8\\uc6d0\\uc2dc\", \"\\uc804\\ub77c\\ubd81\\ub3c4 \\ubd80\\uc548\\uad70\", \"\\uc804\\ub77c\\ubd81\\ub3c4 \\uc644\\uc8fc\\uad70\", \"\\uc804\\ub77c\\ubd81\\ub3c4 \\uc775\\uc0b0\\uc2dc\", \"\\uc804\\ub77c\\ubd81\\ub3c4 \\uc784\\uc2e4\\uad70\", \"\\uc804\\ub77c\\ubd81\\ub3c4 \\uc7a5\\uc218\\uad70\", \"\\uc804\\ub77c\\ubd81\\ub3c4 \\uc804\\uc8fc\\uc2dc\", \"\\uc804\\ub77c\\ubd81\\ub3c4 \\uc815\\uc74d\\uc2dc\", \"\\uc804\\ub77c\\ubd81\\ub3c4 \\uc9c4\\uc548\\uad70\", \"\\uc81c\\uc8fc\\ud2b9\\ubcc4\\uc790\\uce58\\ub3c4\", \"\\uc81c\\uc8fc\\ud2b9\\ubcc4\\uc790\\uce58\\ub3c4 \\uc11c\\uadc0\\ud3ec\\uc2dc\", \"\\uc81c\\uc8fc\\ud2b9\\ubcc4\\uc790\\uce58\\ub3c4 \\uc81c\\uc8fc\\uc2dc\", \"\\uc911\\uad6d\", \"\\ucda9\\uccad\\ub0a8\\ub3c4 \\uacf5\\uc8fc\\uc2dc\", \"\\ucda9\\uccad\\ub0a8\\ub3c4 \\uae08\\uc0b0\\uad70\", \"\\ucda9\\uccad\\ub0a8\\ub3c4 \\ub17c\\uc0b0\\uc2dc\", \"\\ucda9\\uccad\\ub0a8\\ub3c4 \\ub2f9\\uc9c4\\uc2dc\", \"\\ucda9\\uccad\\ub0a8\\ub3c4 \\ubcf4\\ub839\\uc2dc\", \"\\ucda9\\uccad\\ub0a8\\ub3c4 \\ubd80\\uc5ec\\uad70\", \"\\ucda9\\uccad\\ub0a8\\ub3c4 \\uc11c\\uc0b0\\uc2dc\", \"\\ucda9\\uccad\\ub0a8\\ub3c4 \\uc11c\\ucc9c\\uad70\", \"\\ucda9\\uccad\\ub0a8\\ub3c4 \\uc544\\uc0b0\\uc2dc\", \"\\ucda9\\uccad\\ub0a8\\ub3c4 \\uc608\\uc0b0\\uad70\", \"\\ucda9\\uccad\\ub0a8\\ub3c4 \\ucc9c\\uc548\\uc2dc\", \"\\ucda9\\uccad\\ub0a8\\ub3c4 \\ud0dc\\uc548\\uad70\", \"\\ucda9\\uccad\\ub0a8\\ub3c4 \\ud64d\\uc131\\uad70\", \"\\ucda9\\uccad\\ubd81\\ub3c4\", \"\\ucda9\\uccad\\ubd81\\ub3c4 \\uad34\\uc0b0\\uad70\", \"\\ucda9\\uccad\\ubd81\\ub3c4 \\ubcf4\\uc740\\uad70\", \"\\ucda9\\uccad\\ubd81\\ub3c4 \\uc601\\ub3d9\\uad70\", \"\\ucda9\\uccad\\ubd81\\ub3c4 \\uc74c\\uc131\\uad70\", \"\\ucda9\\uccad\\ubd81\\ub3c4 \\uc81c\\ucc9c\\uc2dc\", \"\\ucda9\\uccad\\ubd81\\ub3c4 \\uc9c4\\ucc9c\\uad70\", \"\\ucda9\\uccad\\ubd81\\ub3c4 \\uccad\\uc8fc\\uc2dc\", \"\\ucda9\\uccad\\ubd81\\ub3c4 \\ucda9\\uc8fc\\uc2dc\"], \"y\": [0, 23395, 2240, 3753, 31230, 300, 0, 0, 0, 0, 1000, 213953, 0, 19760, 4250, 1200, 42535, 440, 0, 210, 20129, 450, 10400, 23069, 67300, 5700, 0, 350, 24113, 60, 42720, 0, 18716, 5305, 1290, 6488, 4740, 41613, 0, 317, 15785, 0, 0, 5672, 3538, 0, 65, 0, 0, 0, 138, 41940, 1500, 8400, 2400, 0, 5480, 14121, 13011, 1915, 4460, 2128, 0, 0, 0, 2879, 606, 1666, 0, 5251, 179809, 104426, 24486, 57792, 24935, 37288, 40570, 9699, 12274, 68397, 0, 1990, 500, 68, 7264, 9986, 25169, 5390, 22590, 21476, 0, 3460, 18120, 42527, 625, 6140, 200, 1077, 61743, 7153, 22596, 6745, 917565, 6524, 18617, 558, 50, 0, 0, 863131, 0, 63564, 0, 1000, 2500, 1077, 1193, 0, 3200, 32361, 20370, 0, 3242, 40154, 3282, 0, 0, 27, 604, 2040, 37, 1520, 998, 5323, 18, 0, 41273, 1122, 11078, 29433, 31689, 2940, 9616, 0, 283, 0, 68, 0, 6994, 112, 58406, 27765]}, {\"name\": \"2021\\ub1443\\uc6d4\", \"type\": \"bar\", \"x\": [\"\\uac15\\uc6d0\\ub3c4\", \"\\uac15\\uc6d0\\ub3c4 \\uac15\\ub989\\uc2dc\", \"\\uac15\\uc6d0\\ub3c4 \\ub3d9\\ud574\\uc2dc\", \"\\uac15\\uc6d0\\ub3c4 \\uc6d0\\uc8fc\\uc2dc\", \"\\uac15\\uc6d0\\ub3c4 \\uc778\\uc81c\\uad70\", \"\\uac15\\uc6d0\\ub3c4 \\uc815\\uc120\\uad70\", \"\\uac15\\uc6d0\\ub3c4 \\ucca0\\uc6d0\\uad70\", \"\\uac15\\uc6d0\\ub3c4 \\ucd98\\ucc9c\\uc2dc\", \"\\uac15\\uc6d0\\ub3c4 \\ud3c9\\ucc3d\\uad70\", \"\\uacbd\\uae30\\ub3c4\", \"\\uacbd\\uae30\\ub3c4 \\uace0\\uc591\\uc2dc\", \"\\uacbd\\uae30\\ub3c4 \\uad6c\\ub9ac\\uc2dc\", \"\\uacbd\\uae30\\ub3c4 \\uad70\\ud3ec\\uc2dc\", \"\\uacbd\\uae30\\ub3c4 \\uae40\\ud3ec\\uc2dc\", \"\\uacbd\\uae30\\ub3c4 \\ub0a8\\uc591\\uc8fc\\uc2dc\", \"\\uacbd\\uae30\\ub3c4 \\ub3d9\\ub450\\ucc9c\\uc2dc\", \"\\uacbd\\uae30\\ub3c4 \\uc218\\uc6d0\\uc2dc\", \"\\uacbd\\uae30\\ub3c4 \\uc548\\uc0b0\\uc2dc\", \"\\uacbd\\uae30\\ub3c4 \\uc548\\uc131\\uc2dc\", \"\\uacbd\\uae30\\ub3c4 \\uc548\\uc591\\uc2dc\", \"\\uacbd\\uae30\\ub3c4 \\uc591\\uc8fc\\uc2dc\", \"\\uacbd\\uae30\\ub3c4 \\uc5ec\\uc8fc\\uc2dc\", \"\\uacbd\\uae30\\ub3c4 \\uc5f0\\ucc9c\\uad70\", \"\\uacbd\\uae30\\ub3c4 \\uc774\\ucc9c\\uc2dc\", \"\\uacbd\\uae30\\ub3c4 \\ud30c\\uc8fc\\uc2dc\", \"\\uacbd\\uae30\\ub3c4 \\ud3c9\\ud0dd\\uc2dc\", \"\\uacbd\\uae30\\ub3c4 \\ud3ec\\ucc9c\\uc2dc\", \"\\uacbd\\uae30\\ub3c4 \\ud654\\uc131\\uc2dc\", \"\\uacbd\\uc0c1\\ub0a8\\ub3c4\", \"\\uacbd\\uc0c1\\ub0a8\\ub3c4 \\uac70\\ucc3d\\uad70\", \"\\uacbd\\uc0c1\\ub0a8\\ub3c4 \\uae40\\ud574\\uc2dc\", \"\\uacbd\\uc0c1\\ub0a8\\ub3c4 \\ub0a8\\ud574\\uad70\", \"\\uacbd\\uc0c1\\ub0a8\\ub3c4 \\ubc00\\uc591\\uc2dc\", \"\\uacbd\\uc0c1\\ub0a8\\ub3c4 \\uc0ac\\ucc9c\\uc2dc\", \"\\uacbd\\uc0c1\\ub0a8\\ub3c4 \\uc591\\uc0b0\\uc2dc\", \"\\uacbd\\uc0c1\\ub0a8\\ub3c4 \\uc9c4\\uc8fc\\uc2dc\", \"\\uacbd\\uc0c1\\ub0a8\\ub3c4 \\ucc3d\\ub155\\uad70\", \"\\uacbd\\uc0c1\\ub0a8\\ub3c4 \\ucc3d\\uc6d0\\uc2dc\", \"\\uacbd\\uc0c1\\ub0a8\\ub3c4 \\ud558\\ub3d9\\uad70\", \"\\uacbd\\uc0c1\\ub0a8\\ub3c4 \\ud568\\uc548\\uad70\", \"\\uacbd\\uc0c1\\ub0a8\\ub3c4 \\ud568\\uc591\\uad70\", \"\\uacbd\\uc0c1\\ubd81\\ub3c4 \\uacbd\\uc0b0\\uc2dc\", \"\\uacbd\\uc0c1\\ubd81\\ub3c4 \\uacbd\\uc8fc\\uc2dc\", \"\\uacbd\\uc0c1\\ubd81\\ub3c4 \\uace0\\ub839\\uad70\", \"\\uacbd\\uc0c1\\ubd81\\ub3c4 \\uad6c\\ubbf8\\uc2dc\", \"\\uacbd\\uc0c1\\ubd81\\ub3c4 \\uad70\\uc704\\uad70\", \"\\uacbd\\uc0c1\\ubd81\\ub3c4 \\uae40\\ucc9c\\uc2dc\", \"\\uacbd\\uc0c1\\ubd81\\ub3c4 \\ubd09\\ud654\\uad70\", \"\\uacbd\\uc0c1\\ubd81\\ub3c4 \\uc0c1\\uc8fc\\uc2dc\", \"\\uacbd\\uc0c1\\ubd81\\ub3c4 \\uc548\\ub3d9\\uc2dc\", \"\\uacbd\\uc0c1\\ubd81\\ub3c4 \\uc601\\ub355\\uad70\", \"\\uacbd\\uc0c1\\ubd81\\ub3c4 \\uc601\\ucc9c\\uc2dc\", \"\\uacbd\\uc0c1\\ubd81\\ub3c4 \\uce60\\uace1\\uad70\", \"\\uad11\\uc8fc\\uad11\\uc5ed\\uc2dc\", \"\\uad11\\uc8fc\\uad11\\uc5ed\\uc2dc \\uad11\\uc0b0\\uad6c\", \"\\uad11\\uc8fc\\uad11\\uc5ed\\uc2dc \\ub0a8\\uad6c\", \"\\uad11\\uc8fc\\uad11\\uc5ed\\uc2dc \\ubd81\\uad6c\", \"\\uad11\\uc8fc\\uad11\\uc5ed\\uc2dc \\uc11c\\uad6c\", \"\\ub300\\uad6c\\uad11\\uc5ed\\uc2dc\", \"\\ub300\\uad6c\\uad11\\uc5ed\\uc2dc \\ub0a8\\uad6c\", \"\\ub300\\uad6c\\uad11\\uc5ed\\uc2dc \\ub2ec\\uc11c\\uad6c\", \"\\ub300\\uad6c\\uad11\\uc5ed\\uc2dc \\ub3d9\\uad6c\", \"\\ub300\\uad6c\\uad11\\uc5ed\\uc2dc \\ubd81\\uad6c\", \"\\ub300\\uad6c\\uad11\\uc5ed\\uc2dc \\uc218\\uc131\\uad6c\", \"\\ub300\\uad6c\\uad11\\uc5ed\\uc2dc \\uc911\\uad6c\", \"\\ub300\\uc804\\uad11\\uc5ed\\uc2dc\", \"\\ub300\\uc804\\uad11\\uc5ed\\uc2dc \\ub300\\ub355\\uad6c\", \"\\ub300\\uc804\\uad11\\uc5ed\\uc2dc \\ub3d9\\uad6c\", \"\\ub300\\uc804\\uad11\\uc5ed\\uc2dc \\uc11c\\uad6c\", \"\\ub300\\uc804\\uad11\\uc5ed\\uc2dc \\uc720\\uc131\\uad6c\", \"\\ubd80\\uc0b0\\uad11\\uc5ed\\uc2dc\", \"\\ubd80\\uc0b0\\uad11\\uc5ed\\uc2dc \\uac15\\uc11c\\uad6c\", \"\\ubd80\\uc0b0\\uad11\\uc5ed\\uc2dc \\uc0ac\\uc0c1\\uad6c\", \"\\ubd80\\uc0b0\\uad11\\uc5ed\\uc2dc \\uc911\\uad6c\", \"\\ubd80\\uc0b0\\uad11\\uc5ed\\uc2dc \\ud574\\uc6b4\\ub300\\uad6c\", \"\\uc11c\\uc6b8\\ud2b9\\ubcc4\\uc2dc\", \"\\uc11c\\uc6b8\\ud2b9\\ubcc4\\uc2dc \\uac15\\uc11c\\uad6c\", \"\\uc11c\\uc6b8\\ud2b9\\ubcc4\\uc2dc \\ub9c8\\ud3ec\\uad6c\", \"\\uc11c\\uc6b8\\ud2b9\\ubcc4\\uc2dc \\uc131\\ubd81\\uad6c\", \"\\uc11c\\uc6b8\\ud2b9\\ubcc4\\uc2dc \\uc1a1\\ud30c\\uad6c\", \"\\uc11c\\uc6b8\\ud2b9\\ubcc4\\uc2dc \\uc591\\ucc9c\\uad6c\", \"\\uc11c\\uc6b8\\ud2b9\\ubcc4\\uc2dc \\uc740\\ud3c9\\uad6c\", \"\\uc11c\\uc6b8\\ud2b9\\ubcc4\\uc2dc \\uc911\\ub791\\uad6c\", \"\\uc138\\uc885\\ud2b9\\ubcc4\\uc790\\uce58\\uc2dc\", \"\\uc6b8\\uc0b0\\uad11\\uc5ed\\uc2dc\", \"\\uc6b8\\uc0b0\\uad11\\uc5ed\\uc2dc \\ub0a8\\uad6c\", \"\\uc778\\ucc9c\\uad11\\uc5ed\\uc2dc\", \"\\uc778\\ucc9c\\uad11\\uc5ed\\uc2dc \\uacc4\\uc591\\uad6c\", \"\\uc778\\ucc9c\\uad11\\uc5ed\\uc2dc \\ub0a8\\uad6c\", \"\\uc778\\ucc9c\\uad11\\uc5ed\\uc2dc \\ub0a8\\ub3d9\\uad6c\", \"\\uc778\\ucc9c\\uad11\\uc5ed\\uc2dc \\ub3d9\\uad6c\", \"\\uc778\\ucc9c\\uad11\\uc5ed\\uc2dc \\ubd80\\ud3c9\\uad6c\", \"\\uc778\\ucc9c\\uad11\\uc5ed\\uc2dc \\uc5f0\\uc218\\uad6c\", \"\\uc804\\ub77c\\ub0a8\\ub3c4\", \"\\uc804\\ub77c\\ub0a8\\ub3c4 \\uac15\\uc9c4\\uad70\", \"\\uc804\\ub77c\\ub0a8\\ub3c4 \\uace0\\ud765\\uad70\", \"\\uc804\\ub77c\\ub0a8\\ub3c4 \\uad11\\uc591\\uc2dc\", \"\\uc804\\ub77c\\ub0a8\\ub3c4 \\ub098\\uc8fc\\uc2dc\", \"\\uc804\\ub77c\\ub0a8\\ub3c4 \\ubaa9\\ud3ec\\uc2dc\", \"\\uc804\\ub77c\\ub0a8\\ub3c4 \\ubb34\\uc548\\uad70\", \"\\uc804\\ub77c\\ub0a8\\ub3c4 \\ubcf4\\uc131\\uad70\", \"\\uc804\\ub77c\\ub0a8\\ub3c4 \\uc21c\\ucc9c\\uc2dc\", \"\\uc804\\ub77c\\ub0a8\\ub3c4 \\uc2e0\\uc548\\uad70\", \"\\uc804\\ub77c\\ub0a8\\ub3c4 \\uc5ec\\uc218\\uc2dc\", \"\\uc804\\ub77c\\ub0a8\\ub3c4 \\uc601\\uad11\\uad70\", \"\\uc804\\ub77c\\ub0a8\\ub3c4 \\uc601\\uc554\\uad70\", \"\\uc804\\ub77c\\ub0a8\\ub3c4 \\uc644\\ub3c4\\uad70\", \"\\uc804\\ub77c\\ub0a8\\ub3c4 \\uc7a5\\uc131\\uad70\", \"\\uc804\\ub77c\\ub0a8\\ub3c4 \\uc7a5\\ud765\\uad70\", \"\\uc804\\ub77c\\ub0a8\\ub3c4 \\uc9c4\\ub3c4\\uad70\", \"\\uc804\\ub77c\\ub0a8\\ub3c4 \\ud568\\ud3c9\\uad70\", \"\\uc804\\ub77c\\ub0a8\\ub3c4 \\ud574\\ub0a8\\uad70\", \"\\uc804\\ub77c\\ub0a8\\ub3c4 \\ud654\\uc21c\\uad70\", \"\\uc804\\ub77c\\ubd81\\ub3c4\", \"\\uc804\\ub77c\\ubd81\\ub3c4 \\uace0\\ucc3d\\uad70\", \"\\uc804\\ub77c\\ubd81\\ub3c4 \\uad70\\uc0b0\\uc2dc\", \"\\uc804\\ub77c\\ubd81\\ub3c4 \\uae40\\uc81c\\uc2dc\", \"\\uc804\\ub77c\\ubd81\\ub3c4 \\ub0a8\\uc6d0\\uc2dc\", \"\\uc804\\ub77c\\ubd81\\ub3c4 \\ubd80\\uc548\\uad70\", \"\\uc804\\ub77c\\ubd81\\ub3c4 \\uc644\\uc8fc\\uad70\", \"\\uc804\\ub77c\\ubd81\\ub3c4 \\uc775\\uc0b0\\uc2dc\", \"\\uc804\\ub77c\\ubd81\\ub3c4 \\uc784\\uc2e4\\uad70\", \"\\uc804\\ub77c\\ubd81\\ub3c4 \\uc7a5\\uc218\\uad70\", \"\\uc804\\ub77c\\ubd81\\ub3c4 \\uc804\\uc8fc\\uc2dc\", \"\\uc804\\ub77c\\ubd81\\ub3c4 \\uc815\\uc74d\\uc2dc\", \"\\uc804\\ub77c\\ubd81\\ub3c4 \\uc9c4\\uc548\\uad70\", \"\\uc81c\\uc8fc\\ud2b9\\ubcc4\\uc790\\uce58\\ub3c4\", \"\\uc81c\\uc8fc\\ud2b9\\ubcc4\\uc790\\uce58\\ub3c4 \\uc11c\\uadc0\\ud3ec\\uc2dc\", \"\\uc81c\\uc8fc\\ud2b9\\ubcc4\\uc790\\uce58\\ub3c4 \\uc81c\\uc8fc\\uc2dc\", \"\\uc911\\uad6d\", \"\\ucda9\\uccad\\ub0a8\\ub3c4 \\uacf5\\uc8fc\\uc2dc\", \"\\ucda9\\uccad\\ub0a8\\ub3c4 \\uae08\\uc0b0\\uad70\", \"\\ucda9\\uccad\\ub0a8\\ub3c4 \\ub17c\\uc0b0\\uc2dc\", \"\\ucda9\\uccad\\ub0a8\\ub3c4 \\ub2f9\\uc9c4\\uc2dc\", \"\\ucda9\\uccad\\ub0a8\\ub3c4 \\ubcf4\\ub839\\uc2dc\", \"\\ucda9\\uccad\\ub0a8\\ub3c4 \\ubd80\\uc5ec\\uad70\", \"\\ucda9\\uccad\\ub0a8\\ub3c4 \\uc11c\\uc0b0\\uc2dc\", \"\\ucda9\\uccad\\ub0a8\\ub3c4 \\uc11c\\ucc9c\\uad70\", \"\\ucda9\\uccad\\ub0a8\\ub3c4 \\uc544\\uc0b0\\uc2dc\", \"\\ucda9\\uccad\\ub0a8\\ub3c4 \\uc608\\uc0b0\\uad70\", \"\\ucda9\\uccad\\ub0a8\\ub3c4 \\ucc9c\\uc548\\uc2dc\", \"\\ucda9\\uccad\\ub0a8\\ub3c4 \\ud0dc\\uc548\\uad70\", \"\\ucda9\\uccad\\ub0a8\\ub3c4 \\ud64d\\uc131\\uad70\", \"\\ucda9\\uccad\\ubd81\\ub3c4\", \"\\ucda9\\uccad\\ubd81\\ub3c4 \\uad34\\uc0b0\\uad70\", \"\\ucda9\\uccad\\ubd81\\ub3c4 \\ubcf4\\uc740\\uad70\", \"\\ucda9\\uccad\\ubd81\\ub3c4 \\uc601\\ub3d9\\uad70\", \"\\ucda9\\uccad\\ubd81\\ub3c4 \\uc74c\\uc131\\uad70\", \"\\ucda9\\uccad\\ubd81\\ub3c4 \\uc81c\\ucc9c\\uc2dc\", \"\\ucda9\\uccad\\ubd81\\ub3c4 \\uc9c4\\ucc9c\\uad70\", \"\\ucda9\\uccad\\ubd81\\ub3c4 \\uccad\\uc8fc\\uc2dc\", \"\\ucda9\\uccad\\ubd81\\ub3c4 \\ucda9\\uc8fc\\uc2dc\"], \"y\": [840.0, 29920.0, 570.0, 3850.0, 5630.0, 500.0, 18560.0, 0.0, 24525.0, 0.0, 0.0, 162760.0, 0.0, 0.0, 460.0, 0.0, 32076.0, 0.0, 1710.0, 1690.0, 1079.0, 8442.0, 0.0, 88.0, 69050.0, 1695.0, 1260.0, 3205.0, 7476.0, 0.0, 74381.0, 0.0, 11377.0, 0.0, 1503.0, 6819.0, 1750.0, 25820.0, 0.0, 0.0, 3150.0, 1092.0, 495.0, 0.0, 3586.0, 0.0, 5961.0, 0.0, 211.0, 4965.0, 0.0, 0.0, 19984.0, 6384.0, 0.0, 0.0, 375.0, 3767.0, 25391.0, 0.0, 0.0, 0.0, 605.0, 0.0, 0.0, 4000.0, 750.0, 5.0, 0.0, 12648.0, 209468.0, 36283.0, 23576.0, 72738.0, 21397.0, 24222.0, 0.0, 0.0, 0.0, 76108.0, 0.0, 0.0, 800.0, 6434.0, 1242.0, 9099.0, 26974.0, 2500.0, 200.0, 6532.0, 0.0, 0.0, 0.0, 40404.0, 3701.0, 111.0, 0.0, 3552.0, 4695.0, 5384.0, 0.0, 4102.0, 953441.0, 500.0, 42586.0, 186.0, 0.0, 107.0, 18.0, 749608.0, 0.0, 52814.0, 0.0, 400.0, 518.0, 0.0, 0.0, 0.0, 137.0, 32995.0, 2278.0, 184.0, 1230.0, 17432.0, 0.0, 0.0, 5256.0, 50.0, 7476.0, 5959.0, 346.0, 0.0, 348.0, 2330.0, 0.0, 9.0, 14094.0, 0.0, 986.0, 8071.0, 4698.0, 0.0, 1.0, 0.0, 0.0, 0.0, 237.0, 540.0, 761.0, 0.0, 58039.0, 23631.0]}],                        {\"barmode\": \"stack\", \"template\": {\"data\": {\"bar\": [{\"error_x\": {\"color\": \"#2a3f5f\"}, \"error_y\": {\"color\": \"#2a3f5f\"}, \"marker\": {\"line\": {\"color\": \"#E5ECF6\", \"width\": 0.5}}, \"type\": \"bar\"}], \"barpolar\": [{\"marker\": {\"line\": {\"color\": \"#E5ECF6\", \"width\": 0.5}}, \"type\": \"barpolar\"}], \"carpet\": [{\"aaxis\": {\"endlinecolor\": \"#2a3f5f\", \"gridcolor\": \"white\", \"linecolor\": \"white\", \"minorgridcolor\": \"white\", \"startlinecolor\": \"#2a3f5f\"}, \"baxis\": {\"endlinecolor\": \"#2a3f5f\", \"gridcolor\": \"white\", \"linecolor\": \"white\", \"minorgridcolor\": \"white\", \"startlinecolor\": \"#2a3f5f\"}, \"type\": \"carpet\"}], \"choropleth\": [{\"colorbar\": {\"outlinewidth\": 0, \"ticks\": \"\"}, \"type\": \"choropleth\"}], \"contour\": [{\"colorbar\": {\"outlinewidth\": 0, \"ticks\": \"\"}, \"colorscale\": [[0.0, \"#0d0887\"], [0.1111111111111111, \"#46039f\"], [0.2222222222222222, \"#7201a8\"], [0.3333333333333333, \"#9c179e\"], [0.4444444444444444, \"#bd3786\"], [0.5555555555555556, \"#d8576b\"], [0.6666666666666666, \"#ed7953\"], [0.7777777777777778, \"#fb9f3a\"], [0.8888888888888888, \"#fdca26\"], [1.0, \"#f0f921\"]], \"type\": \"contour\"}], \"contourcarpet\": [{\"colorbar\": {\"outlinewidth\": 0, \"ticks\": \"\"}, \"type\": \"contourcarpet\"}], \"heatmap\": [{\"colorbar\": {\"outlinewidth\": 0, \"ticks\": \"\"}, \"colorscale\": [[0.0, \"#0d0887\"], [0.1111111111111111, \"#46039f\"], [0.2222222222222222, \"#7201a8\"], [0.3333333333333333, \"#9c179e\"], [0.4444444444444444, \"#bd3786\"], [0.5555555555555556, \"#d8576b\"], [0.6666666666666666, \"#ed7953\"], [0.7777777777777778, \"#fb9f3a\"], [0.8888888888888888, \"#fdca26\"], [1.0, \"#f0f921\"]], \"type\": \"heatmap\"}], \"heatmapgl\": [{\"colorbar\": {\"outlinewidth\": 0, \"ticks\": \"\"}, \"colorscale\": [[0.0, \"#0d0887\"], [0.1111111111111111, \"#46039f\"], [0.2222222222222222, \"#7201a8\"], [0.3333333333333333, \"#9c179e\"], [0.4444444444444444, \"#bd3786\"], [0.5555555555555556, \"#d8576b\"], [0.6666666666666666, \"#ed7953\"], [0.7777777777777778, \"#fb9f3a\"], [0.8888888888888888, \"#fdca26\"], [1.0, \"#f0f921\"]], \"type\": \"heatmapgl\"}], \"histogram\": [{\"marker\": {\"colorbar\": {\"outlinewidth\": 0, \"ticks\": \"\"}}, \"type\": \"histogram\"}], \"histogram2d\": [{\"colorbar\": {\"outlinewidth\": 0, \"ticks\": \"\"}, \"colorscale\": [[0.0, \"#0d0887\"], [0.1111111111111111, \"#46039f\"], [0.2222222222222222, \"#7201a8\"], [0.3333333333333333, \"#9c179e\"], [0.4444444444444444, \"#bd3786\"], [0.5555555555555556, \"#d8576b\"], [0.6666666666666666, \"#ed7953\"], [0.7777777777777778, \"#fb9f3a\"], [0.8888888888888888, \"#fdca26\"], [1.0, \"#f0f921\"]], \"type\": \"histogram2d\"}], \"histogram2dcontour\": [{\"colorbar\": {\"outlinewidth\": 0, \"ticks\": \"\"}, \"colorscale\": [[0.0, \"#0d0887\"], [0.1111111111111111, \"#46039f\"], [0.2222222222222222, \"#7201a8\"], [0.3333333333333333, \"#9c179e\"], [0.4444444444444444, \"#bd3786\"], [0.5555555555555556, \"#d8576b\"], [0.6666666666666666, \"#ed7953\"], [0.7777777777777778, \"#fb9f3a\"], [0.8888888888888888, \"#fdca26\"], [1.0, \"#f0f921\"]], \"type\": \"histogram2dcontour\"}], \"mesh3d\": [{\"colorbar\": {\"outlinewidth\": 0, \"ticks\": \"\"}, \"type\": \"mesh3d\"}], \"parcoords\": [{\"line\": {\"colorbar\": {\"outlinewidth\": 0, \"ticks\": \"\"}}, \"type\": \"parcoords\"}], \"pie\": [{\"automargin\": true, \"type\": \"pie\"}], \"scatter\": [{\"marker\": {\"colorbar\": {\"outlinewidth\": 0, \"ticks\": \"\"}}, \"type\": \"scatter\"}], \"scatter3d\": [{\"line\": {\"colorbar\": {\"outlinewidth\": 0, \"ticks\": \"\"}}, \"marker\": {\"colorbar\": {\"outlinewidth\": 0, \"ticks\": \"\"}}, \"type\": \"scatter3d\"}], \"scattercarpet\": [{\"marker\": {\"colorbar\": {\"outlinewidth\": 0, \"ticks\": \"\"}}, \"type\": \"scattercarpet\"}], \"scattergeo\": [{\"marker\": {\"colorbar\": {\"outlinewidth\": 0, \"ticks\": \"\"}}, \"type\": \"scattergeo\"}], \"scattergl\": [{\"marker\": {\"colorbar\": {\"outlinewidth\": 0, \"ticks\": \"\"}}, \"type\": \"scattergl\"}], \"scattermapbox\": [{\"marker\": {\"colorbar\": {\"outlinewidth\": 0, \"ticks\": \"\"}}, \"type\": \"scattermapbox\"}], \"scatterpolar\": [{\"marker\": {\"colorbar\": {\"outlinewidth\": 0, \"ticks\": \"\"}}, \"type\": \"scatterpolar\"}], \"scatterpolargl\": [{\"marker\": {\"colorbar\": {\"outlinewidth\": 0, \"ticks\": \"\"}}, \"type\": \"scatterpolargl\"}], \"scatterternary\": [{\"marker\": {\"colorbar\": {\"outlinewidth\": 0, \"ticks\": \"\"}}, \"type\": \"scatterternary\"}], \"surface\": [{\"colorbar\": {\"outlinewidth\": 0, \"ticks\": \"\"}, \"colorscale\": [[0.0, \"#0d0887\"], [0.1111111111111111, \"#46039f\"], [0.2222222222222222, \"#7201a8\"], [0.3333333333333333, \"#9c179e\"], [0.4444444444444444, \"#bd3786\"], [0.5555555555555556, \"#d8576b\"], [0.6666666666666666, \"#ed7953\"], [0.7777777777777778, \"#fb9f3a\"], [0.8888888888888888, \"#fdca26\"], [1.0, \"#f0f921\"]], \"type\": \"surface\"}], \"table\": [{\"cells\": {\"fill\": {\"color\": \"#EBF0F8\"}, \"line\": {\"color\": \"white\"}}, \"header\": {\"fill\": {\"color\": \"#C8D4E3\"}, \"line\": {\"color\": \"white\"}}, \"type\": \"table\"}]}, \"layout\": {\"annotationdefaults\": {\"arrowcolor\": \"#2a3f5f\", \"arrowhead\": 0, \"arrowwidth\": 1}, \"autotypenumbers\": \"strict\", \"coloraxis\": {\"colorbar\": {\"outlinewidth\": 0, \"ticks\": \"\"}}, \"colorscale\": {\"diverging\": [[0, \"#8e0152\"], [0.1, \"#c51b7d\"], [0.2, \"#de77ae\"], [0.3, \"#f1b6da\"], [0.4, \"#fde0ef\"], [0.5, \"#f7f7f7\"], [0.6, \"#e6f5d0\"], [0.7, \"#b8e186\"], [0.8, \"#7fbc41\"], [0.9, \"#4d9221\"], [1, \"#276419\"]], \"sequential\": [[0.0, \"#0d0887\"], [0.1111111111111111, \"#46039f\"], [0.2222222222222222, \"#7201a8\"], [0.3333333333333333, \"#9c179e\"], [0.4444444444444444, \"#bd3786\"], [0.5555555555555556, \"#d8576b\"], [0.6666666666666666, \"#ed7953\"], [0.7777777777777778, \"#fb9f3a\"], [0.8888888888888888, \"#fdca26\"], [1.0, \"#f0f921\"]], \"sequentialminus\": [[0.0, \"#0d0887\"], [0.1111111111111111, \"#46039f\"], [0.2222222222222222, \"#7201a8\"], [0.3333333333333333, \"#9c179e\"], [0.4444444444444444, \"#bd3786\"], [0.5555555555555556, \"#d8576b\"], [0.6666666666666666, \"#ed7953\"], [0.7777777777777778, \"#fb9f3a\"], [0.8888888888888888, \"#fdca26\"], [1.0, \"#f0f921\"]]}, \"colorway\": [\"#636efa\", \"#EF553B\", \"#00cc96\", \"#ab63fa\", \"#FFA15A\", \"#19d3f3\", \"#FF6692\", \"#B6E880\", \"#FF97FF\", \"#FECB52\"], \"font\": {\"color\": \"#2a3f5f\"}, \"geo\": {\"bgcolor\": \"white\", \"lakecolor\": \"white\", \"landcolor\": \"#E5ECF6\", \"showlakes\": true, \"showland\": true, \"subunitcolor\": \"white\"}, \"hoverlabel\": {\"align\": \"left\"}, \"hovermode\": \"closest\", \"mapbox\": {\"style\": \"light\"}, \"paper_bgcolor\": \"white\", \"plot_bgcolor\": \"#E5ECF6\", \"polar\": {\"angularaxis\": {\"gridcolor\": \"white\", \"linecolor\": \"white\", \"ticks\": \"\"}, \"bgcolor\": \"#E5ECF6\", \"radialaxis\": {\"gridcolor\": \"white\", \"linecolor\": \"white\", \"ticks\": \"\"}}, \"scene\": {\"xaxis\": {\"backgroundcolor\": \"#E5ECF6\", \"gridcolor\": \"white\", \"gridwidth\": 2, \"linecolor\": \"white\", \"showbackground\": true, \"ticks\": \"\", \"zerolinecolor\": \"white\"}, \"yaxis\": {\"backgroundcolor\": \"#E5ECF6\", \"gridcolor\": \"white\", \"gridwidth\": 2, \"linecolor\": \"white\", \"showbackground\": true, \"ticks\": \"\", \"zerolinecolor\": \"white\"}, \"zaxis\": {\"backgroundcolor\": \"#E5ECF6\", \"gridcolor\": \"white\", \"gridwidth\": 2, \"linecolor\": \"white\", \"showbackground\": true, \"ticks\": \"\", \"zerolinecolor\": \"white\"}}, \"shapedefaults\": {\"line\": {\"color\": \"#2a3f5f\"}}, \"ternary\": {\"aaxis\": {\"gridcolor\": \"white\", \"linecolor\": \"white\", \"ticks\": \"\"}, \"baxis\": {\"gridcolor\": \"white\", \"linecolor\": \"white\", \"ticks\": \"\"}, \"bgcolor\": \"#E5ECF6\", \"caxis\": {\"gridcolor\": \"white\", \"linecolor\": \"white\", \"ticks\": \"\"}}, \"title\": {\"x\": 0.05}, \"xaxis\": {\"automargin\": true, \"gridcolor\": \"white\", \"linecolor\": \"white\", \"ticks\": \"\", \"title\": {\"standoff\": 15}, \"zerolinecolor\": \"white\", \"zerolinewidth\": 2}, \"yaxis\": {\"automargin\": true, \"gridcolor\": \"white\", \"linecolor\": \"white\", \"ticks\": \"\", \"title\": {\"standoff\": 15}, \"zerolinecolor\": \"white\", \"zerolinewidth\": 2}}}, \"title\": {\"text\": \"2020-2021 1~3\\uc6d4 \\uc0b0\\uc9c0 \\ubcc4 \\ub300\\ud30c \\ucd9c\\ud558\\ub7c9\"}},                        {\"responsive\": true}                    ).then(function(){\n",
       "                            \n",
       "var gd = document.getElementById('2e5c8cba-63cb-4d49-bf92-46469df15464');\n",
       "var x = new MutationObserver(function (mutations, observer) {{\n",
       "        var display = window.getComputedStyle(gd).display;\n",
       "        if (!display || display === 'none') {{\n",
       "            console.log([gd, 'removed!']);\n",
       "            Plotly.purge(gd);\n",
       "            observer.disconnect();\n",
       "        }}\n",
       "}});\n",
       "\n",
       "// Listen for the removal of the full notebook cells\n",
       "var notebookContainer = gd.closest('#notebook-container');\n",
       "if (notebookContainer) {{\n",
       "    x.observe(notebookContainer, {childList: true});\n",
       "}}\n",
       "\n",
       "// Listen for the clearing of the current output cell\n",
       "var outputEl = gd.closest('.output');\n",
       "if (outputEl) {{\n",
       "    x.observe(outputEl, {childList: true});\n",
       "}}\n",
       "\n",
       "                        })                };                });            </script>        </div>"
      ]
     },
     "metadata": {},
     "output_type": "display_data"
    }
   ],
   "source": [
    "#누적막대\n",
    "trace1 = go.Bar(x=result5['산지명'], y=result5['202001'], name='2020년1월')\n",
    "trace2 = go.Bar(x=result5['산지명'], y=result5['202101'], name='2021년1월')\n",
    "trace3 = go.Bar(x=result5['산지명'], y=result5['202002'], name='2020년2월')\n",
    "trace4 = go.Bar(x=result5['산지명'], y=result5['202102'], name='2021년2월')\n",
    "trace5 = go.Bar(x=result5['산지명'], y=result5['202003'], name='2020년3월')\n",
    "trace6 = go.Bar(x=result5['산지명'], y=result5['202103'], name='2021년3월')\n",
    "\n",
    "data = [trace1, trace2, trace3, trace4, trace5, trace6]\n",
    "\n",
    "layout = go.Layout(title='2020-2021 1~3월 산지 별 대파 출하량', barmode='stack')\n",
    "\n",
    "fig = go.Figure(data=data, layout=layout)\n",
    "pyo.iplot(fig)\n",
    " "
   ]
  },
  {
   "cell_type": "code",
   "execution_count": null,
   "metadata": {},
   "outputs": [],
   "source": []
  }
 ],
 "metadata": {
  "kernelspec": {
   "display_name": "pydata",
   "language": "python",
   "name": "pydata"
  },
  "language_info": {
   "codemirror_mode": {
    "name": "ipython",
    "version": 3
   },
   "file_extension": ".py",
   "mimetype": "text/x-python",
   "name": "python",
   "nbconvert_exporter": "python",
   "pygments_lexer": "ipython3",
   "version": "3.7.10"
  }
 },
 "nbformat": 4,
 "nbformat_minor": 4
}
