{
 "cells": [
  {
   "cell_type": "code",
   "execution_count": 1,
   "metadata": {},
   "outputs": [],
   "source": [
    "import numpy as np\n",
    "import pandas as pd\n",
    "import os\n",
    "import warnings\n",
    "warnings.filterwarnings(action='ignore')\n",
    "#경고 메시지 숨기기"
   ]
  },
  {
   "cell_type": "markdown",
   "metadata": {},
   "source": [
    "### 2020/2021 1~3월 데이터 불러오기 ###"
   ]
  },
  {
   "cell_type": "code",
   "execution_count": 2,
   "metadata": {
    "scrolled": true
   },
   "outputs": [
    {
     "name": "stdout",
     "output_type": "stream",
     "text": [
      "       Unnamed: 0  경매구분코드 경매구분코드명  도매시장법인코드    산지코드      산지명2      경락일자   거래량  \\\n",
      "0               0       2    정가수의  24000101  585000  전라북도 고창군  20200102   500   \n",
      "1              47       1      경매  24000401  950000      전라남도  20200102   200   \n",
      "2              27       1      경매  24000103  535807       NaN  20200102   180   \n",
      "3              25       1      경매  24000103  535807       NaN  20200102   155   \n",
      "4              95       1      경매  35010101  561302       NaN  20200102   131   \n",
      "...           ...     ...     ...       ...     ...       ...       ...   ...   \n",
      "43015       31838       1      경매  38030302  630850       NaN  20200131   100   \n",
      "43016       31859       1      경매  38040102  548800       NaN  20200131    80   \n",
      "43017       31858       2    정가수의  38040102  676810       NaN  20200131  1300   \n",
      "43018       31819       2    정가수의  38020101  138701       NaN  20200131    20   \n",
      "43019       31857       1      경매  38040101  676000  경상남도 함양군  20200131   100   \n",
      "\n",
      "       도매시장법인명   거래가격  ...  포장상태코드 포장상태명        산지명 등급코드     품종명 거래규격단위코드  \\\n",
      "0      광주원협(공)   6000  ...     1ZZ    기타   전라북도 고창군   11  대파(일반)       12   \n",
      "1      농협광주(공)   1900  ...     1ZZ    기타       전라남도   11  대파(일반)       12   \n",
      "2       광주중앙청과   2300  ...     107   파렛트   전라남도 신안군   11  대파(일반)       12   \n",
      "3       광주중앙청과   2000  ...     107   파렛트   전라남도 신안군   11  대파(일반)       12   \n",
      "4      전주원협(공)   2600  ...     111     단   전라북도 전주시   11  대파(일반)       12   \n",
      "...        ...    ...  ...     ...   ...        ...  ...     ...      ...   \n",
      "43015  창원원협(공)   1700  ...     111     단   경상남도 창원시   19  대파(일반)       12   \n",
      "43016   진주중앙청과    800  ...     111     단   전라남도 고흥군   11  대파(일반)       12   \n",
      "43017   진주중앙청과   1300  ...     111     단   경상남도 함양군   11  대파(일반)       12   \n",
      "43018  울산원협(공)  10414  ...     101    상자  서울특별시 송파구   11  대파(일반)       12   \n",
      "43019  진주원협(공)   1600  ...     111     단   경상남도 함양군   11  대파(일반)       12   \n",
      "\n",
      "      거래단위명  도매시장코드     도매시장명                 경매시간  \n",
      "0        kg  240001  광주각화도매시장                  NaN  \n",
      "1        kg  240004  광주서부도매시장  2020-01-02 05:11:02  \n",
      "2        kg  240001  광주각화도매시장                  NaN  \n",
      "3        kg  240001  광주각화도매시장  2020-01-02 04:21:30  \n",
      "4        kg  350101    전주도매시장                  NaN  \n",
      "...     ...     ...       ...                  ...  \n",
      "43015    kg  380303  창원내서도매시장                  NaN  \n",
      "43016    kg  380401    진주도매시장  2020-01-31 08:00:00  \n",
      "43017    kg  380401    진주도매시장  2020-01-31 08:00:00  \n",
      "43018    kg  380201    울산도매시장                  NaN  \n",
      "43019    kg  380401    진주도매시장                  NaN  \n",
      "\n",
      "[43020 rows x 23 columns]\n"
     ]
    }
   ],
   "source": [
    "#Csv파일 불러오기\n",
    "Jan20 = pd.read_csv(r'C:\\study\\python\\notebook\\202001.csv', encoding='utf-8-sig')\n",
    "print(Jan20)"
   ]
  },
  {
   "cell_type": "code",
   "execution_count": 3,
   "metadata": {
    "scrolled": true
   },
   "outputs": [
    {
     "name": "stdout",
     "output_type": "stream",
     "text": [
      "       Unnamed: 0  경매구분코드 경매구분코드명  도매시장법인코드    산지코드      경락일자  거래량  도매시장법인명  \\\n",
      "0               0       1      경매  24000101  535800  20210102  150  광주원협(공)   \n",
      "1           76229       2    정가수의  38020101  907000  20210102  250  울산원협(공)   \n",
      "2           76228       2    정가수의  38020101  907000  20210102   80  울산원협(공)   \n",
      "3           76227       2    정가수의  38020101  907000  20210102   50  울산원협(공)   \n",
      "4           76226       2    정가수의  38020101  907000  20210102   15  울산원협(공)   \n",
      "...           ...     ...     ...       ...     ...       ...  ...      ...   \n",
      "64115       99579       2    정가수의  38020101  680813  20210131   20  울산원협(공)   \n",
      "64116       99580       2    정가수의  38020101  680813  20210131   10  울산원협(공)   \n",
      "64117       99581       2    정가수의  38020101  680813  20210131  100  울산원협(공)   \n",
      "64118       99582       1      경매  38020102  626000  20210131   40   울산중앙청과   \n",
      "64119       23377       2    정가수의  38020101  680813  20210131  100  울산원협(공)   \n",
      "\n",
      "        거래가격  출하구분코드  ... 포장상태명       산지명 등급코드     품종명 거래규격단위코드 거래단위명  도매시장코드  \\\n",
      "0       4300     3.0  ...     단  전라남도 신안군   11  대파(일반)       12    kg  240001   \n",
      "1       2300     3.0  ...     단     울산광역시   12     깐대파       12    kg  380201   \n",
      "2       2300     3.0  ...     단     울산광역시   12     깐대파       12    kg  380201   \n",
      "3       2300     3.0  ...     단     울산광역시   12     깐대파       12    kg  380201   \n",
      "4      13000     3.0  ...    봉지     울산광역시   12     깐대파       12    kg  380201   \n",
      "...      ...     ...  ...   ...       ...  ...     ...      ...   ...     ...   \n",
      "64115  36000     4.0  ...    상자  울산광역시 남구   12  대파(수입)       12    kg  380201   \n",
      "64116  36000     4.0  ...    상자  울산광역시 남구   12  대파(수입)       12    kg  380201   \n",
      "64117  36000     4.0  ...    상자  울산광역시 남구   12  대파(수입)       12    kg  380201   \n",
      "64118  22000     3.0  ...    기타  경상남도 양산시   1Z  대파(일반)       12    kg  380201   \n",
      "64119  36000     4.0  ...    상자  울산광역시 남구   12  대파(수입)       12    kg  380201   \n",
      "\n",
      "          도매시장명      산지명2  경매시간  \n",
      "0      광주각화도매시장       NaN   NaN  \n",
      "1        울산도매시장     울산광역시   NaN  \n",
      "2        울산도매시장     울산광역시   NaN  \n",
      "3        울산도매시장     울산광역시   NaN  \n",
      "4        울산도매시장     울산광역시   NaN  \n",
      "...         ...       ...   ...  \n",
      "64115    울산도매시장       NaN   NaN  \n",
      "64116    울산도매시장       NaN   NaN  \n",
      "64117    울산도매시장       NaN   NaN  \n",
      "64118    울산도매시장  경상남도 양산시   NaN  \n",
      "64119    울산도매시장       NaN   NaN  \n",
      "\n",
      "[64120 rows x 23 columns]\n"
     ]
    }
   ],
   "source": [
    "Jan21 = pd.read_csv(r'C:\\study\\python\\notebook\\202101.csv', encoding='utf-8-sig')\n",
    "print(Jan21)"
   ]
  },
  {
   "cell_type": "code",
   "execution_count": 4,
   "metadata": {},
   "outputs": [
    {
     "name": "stdout",
     "output_type": "stream",
     "text": [
      "       Unnamed: 0  경매구분코드 경매구분코드명  도매시장법인코드    산지코드      산지명2      경락일자  거래량  \\\n",
      "0           31877       1      경매  11000801  950000      전라남도  20200201  500   \n",
      "1           31876       1      경매  11000801  950000      전라남도  20200201  500   \n",
      "2           31875       1      경매  11000801  539000  전라남도 진도군  20200201  400   \n",
      "3           31874       1      경매  11000801  539000  전라남도 진도군  20200201  400   \n",
      "4           31873       1      경매  11000801  950000      전라남도  20200201  500   \n",
      "...           ...     ...     ...       ...     ...       ...       ...  ...   \n",
      "40045       76895       1      경매  21000903  535830       NaN  20200229   50   \n",
      "40046       76896       1      경매  22000101  539000  전라남도 진도군  20200229   44   \n",
      "40047       76897       1      경매  22000101  539000  전라남도 진도군  20200229   44   \n",
      "40048       76898       1      경매  22000101  539000  전라남도 진도군  20200229   44   \n",
      "40049       76899       1      경매  22000103  539000  전라남도 진도군  20200229  250   \n",
      "\n",
      "       도매시장법인명  거래가격  ...  포장상태코드 포장상태명       산지명 등급코드     품종명 거래규격단위코드 거래단위명  \\\n",
      "0      농협강서(공)   600  ...     111     단      전라남도   11  대파(일반)       12    kg   \n",
      "1      농협강서(공)   600  ...     111     단      전라남도   11  대파(일반)       12    kg   \n",
      "2      농협강서(공)   600  ...     111     단  전라남도 진도군   11  대파(일반)       12    kg   \n",
      "3      농협강서(공)   600  ...     111     단  전라남도 진도군   11  대파(일반)       12    kg   \n",
      "4      농협강서(공)   600  ...     111     단      전라남도   11  대파(일반)       12    kg   \n",
      "...        ...   ...  ...     ...   ...       ...  ...     ...      ...   ...   \n",
      "40045  농협반여(공)   510  ...     1ZZ    기타  전라남도 신안군   11  대파(일반)       12    kg   \n",
      "40046   대구중앙청과  6500  ...     101    상자  전라남도 진도군   11  대파(일반)       12    kg   \n",
      "40047   대구중앙청과  6500  ...     101    상자  전라남도 진도군   11  대파(일반)       12    kg   \n",
      "40048   대구중앙청과  6500  ...     101    상자  전라남도 진도군   11  대파(일반)       12    kg   \n",
      "40049     효성청과   720  ...     111     단  전라남도 진도군   11  대파(일반)       12    kg   \n",
      "\n",
      "       도매시장코드     도매시장명           경매시간  \n",
      "0      110008  서울강서도매시장  2020-02-01 ::  \n",
      "1      110008  서울강서도매시장  2020-02-01 ::  \n",
      "2      110008  서울강서도매시장  2020-02-01 ::  \n",
      "3      110008  서울강서도매시장  2020-02-01 ::  \n",
      "4      110008  서울강서도매시장  2020-02-01 ::  \n",
      "...       ...       ...            ...  \n",
      "40045  210009  부산반여도매시장            NaN  \n",
      "40046  220001  대구북부도매시장            NaN  \n",
      "40047  220001  대구북부도매시장            NaN  \n",
      "40048  220001  대구북부도매시장            NaN  \n",
      "40049  220001  대구북부도매시장            NaN  \n",
      "\n",
      "[40050 rows x 23 columns]\n"
     ]
    }
   ],
   "source": [
    "Feb20 = pd.read_csv(r'C:\\study\\python\\notebook\\202002.csv', encoding='utf-8-sig')\n",
    "print(Feb20)"
   ]
  },
  {
   "cell_type": "code",
   "execution_count": 5,
   "metadata": {
    "scrolled": true
   },
   "outputs": [
    {
     "name": "stdout",
     "output_type": "stream",
     "text": [
      "       Unnamed: 0  경매구분코드 경매구분코드명  도매시장법인코드    산지코드      경락일자  거래량  도매시장법인명  \\\n",
      "0           24844       1      경매  38010101  641111  20210201  100     창원청과   \n",
      "1           24843       1      경매  37150102  730010  20210201   10   구미중앙청과   \n",
      "2           24842       1      경매  37150102  730010  20210201   15   구미중앙청과   \n",
      "3           24841       1      경매  37150102  730010  20210201   15   구미중앙청과   \n",
      "4           24840       1      경매  37150102  730010  20210201    4   구미중앙청과   \n",
      "...           ...     ...     ...       ...     ...       ...  ...      ...   \n",
      "55789       52918       2    정가수의  11000802  535000  20210227  200     서부청과   \n",
      "55790       52921       1      경매  11000803  215000  20210227  550     강서청과   \n",
      "55791       52916       1      경매  11000802  535000  20210227  500     서부청과   \n",
      "55792       52917       1      경매  11000802  535000  20210227  500     서부청과   \n",
      "55793       54678       1      경매  25000302  305325  20210301  100  대전원협(공)   \n",
      "\n",
      "        거래가격  출하구분코드  ... 포장상태명        산지명 등급코드     품종명 거래규격단위코드 거래단위명  \\\n",
      "0       5100     3.0  ...    기타   경상남도 창원시   11  대파(일반)       12    kg   \n",
      "1      12000     3.0  ...    기타   경상북도 구미시   12  대파(일반)       12    kg   \n",
      "2      15500     3.0  ...    기타   경상북도 구미시   11  대파(일반)       12    kg   \n",
      "3      15500     3.0  ...    기타   경상북도 구미시   11  대파(일반)       12    kg   \n",
      "4      20300     4.0  ...    기타   경상북도 구미시   13  대파(일반)       12    kg   \n",
      "...      ...     ...  ...   ...        ...  ...     ...      ...   ...   \n",
      "55789   5200     NaN  ...     단   전라남도 신안군   11  대파(일반)       12    kg   \n",
      "55790   5100     NaN  ...   PE대    강원도 양양군   1Z  대파(일반)       12    kg   \n",
      "55791   5200     NaN  ...     단   전라남도 신안군   11  대파(일반)       12    kg   \n",
      "55792   5200     NaN  ...     단   전라남도 신안군   11  대파(일반)       12    kg   \n",
      "55793  27300     3.0  ...     단  대전광역시 유성구   11  대파(일반)       12    kg   \n",
      "\n",
      "       도매시장코드     도매시장명      산지명2             경매시간  \n",
      "0      380101  창원팔용도매시장       NaN  2021-02-01 5:22  \n",
      "1      371501    구미도매시장       NaN  2021-02-01 8:47  \n",
      "2      371501    구미도매시장       NaN  2021-02-01 8:47  \n",
      "3      371501    구미도매시장       NaN  2021-02-01 8:46  \n",
      "4      371501    구미도매시장       NaN  2021-02-01 8:38  \n",
      "...       ...       ...       ...              ...  \n",
      "55789  110008  서울강서도매시장  전라남도 신안군    2021-02-27 ::  \n",
      "55790  110008  서울강서도매시장   강원도 양양군    2021-02-27 ::  \n",
      "55791  110008  서울강서도매시장  전라남도 신안군    2021-02-27 ::  \n",
      "55792  110008  서울강서도매시장  전라남도 신안군    2021-02-27 ::  \n",
      "55793  250003  대전노은도매시장       NaN              NaN  \n",
      "\n",
      "[55794 rows x 23 columns]\n"
     ]
    }
   ],
   "source": [
    "Feb21 = pd.read_csv(r'C:\\study\\python\\notebook\\202102.csv', encoding='utf-8-sig')\n",
    "print(Feb21)"
   ]
  },
  {
   "cell_type": "code",
   "execution_count": 7,
   "metadata": {},
   "outputs": [
    {
     "name": "stdout",
     "output_type": "stream",
     "text": [
      "       Unnamed: 0  경매구분코드 경매구분코드명  도매시장법인코드    산지코드      산지명2      경락일자  거래량  \\\n",
      "0           78781       1      경매  25000102  539000  전라남도 진도군  20200302  300   \n",
      "1           78778       1      경매  25000102  535000  전라남도 신안군  20200302  230   \n",
      "2           78782       1      경매  25000102  539000  전라남도 진도군  20200302  250   \n",
      "3           78777       1      경매  25000102  535000  전라남도 신안군  20200302  230   \n",
      "4           78783       1      경매  25000102  539000  전라남도 진도군  20200302  250   \n",
      "...           ...     ...     ...       ...     ...       ...       ...  ...   \n",
      "18378       97787       1      경매  38040102  660010       NaN  20200314  100   \n",
      "18379       97788       1      경매  38040102  660010       NaN  20200314  100   \n",
      "18380       97789       1      경매  38040102  660010       NaN  20200314  100   \n",
      "18381       96623       1      경매  21000101  617030       NaN  20200314  200   \n",
      "18382       96668       1      경매  21000102  621000  경상남도 김해시  20200314  100   \n",
      "\n",
      "       도매시장법인명  거래가격  ...  포장상태코드 포장상태명        산지명 등급코드     품종명 거래규격단위코드  \\\n",
      "0      대전청과(주)  1030  ...     111     단   전라남도 진도군   1Z  대파(일반)       12   \n",
      "1      대전청과(주)  1260  ...     111     단   전라남도 신안군   1Z  대파(일반)       12   \n",
      "2      대전청과(주)  1050  ...     111     단   전라남도 진도군   1Z  대파(일반)       12   \n",
      "3      대전청과(주)  1250  ...     111     단   전라남도 신안군   1Z  대파(일반)       12   \n",
      "4      대전청과(주)  1060  ...     111     단   전라남도 진도군   1Z  대파(일반)       12   \n",
      "...        ...   ...  ...     ...   ...        ...  ...     ...      ...   \n",
      "18378   진주중앙청과   700  ...     111     단   경상남도 진주시   11  대파(일반)       12   \n",
      "18379   진주중앙청과   700  ...     111     단   경상남도 진주시   11  대파(일반)       12   \n",
      "18380   진주중앙청과   700  ...     111     단   경상남도 진주시   11  대파(일반)       12   \n",
      "18381  농협부산(공)   800  ...     111     단  부산광역시 사상구   12  대파(일반)       12   \n",
      "18382     부산청과   600  ...     111     단   경상남도 김해시   13  대파(일반)       12   \n",
      "\n",
      "      거래단위명  도매시장코드     도매시장명                 경매시간  \n",
      "0        kg  250001  대전오정도매시장                  NaN  \n",
      "1        kg  250001  대전오정도매시장                  NaN  \n",
      "2        kg  250001  대전오정도매시장                  NaN  \n",
      "3        kg  250001  대전오정도매시장                  NaN  \n",
      "4        kg  250001  대전오정도매시장                  NaN  \n",
      "...     ...     ...       ...                  ...  \n",
      "18378    kg  380401    진주도매시장  2020-03-14 08:00:00  \n",
      "18379    kg  380401    진주도매시장  2020-03-14 08:00:00  \n",
      "18380    kg  380401    진주도매시장  2020-03-14 08:00:00  \n",
      "18381    kg  210001  부산엄궁도매시장                  NaN  \n",
      "18382    kg  210001  부산엄궁도매시장                  NaN  \n",
      "\n",
      "[18383 rows x 23 columns]\n"
     ]
    }
   ],
   "source": [
    "Mar20 = pd.read_csv(r'C:\\study\\python\\notebook\\202003.csv', encoding='utf-8-sig')\n",
    "print(Mar20)"
   ]
  },
  {
   "cell_type": "code",
   "execution_count": 8,
   "metadata": {},
   "outputs": [
    {
     "name": "stdout",
     "output_type": "stream",
     "text": [
      "       Unnamed: 0  경매구분코드 경매구분코드명  도매시장법인코드    산지코드      경락일자  거래량  도매시장법인명  \\\n",
      "0           54663       1      경매  25000301  535000  20210301  270   대전중앙청과   \n",
      "1           54662       2    정가수의  25000301  535000  20210301  123   대전중앙청과   \n",
      "2           54661       1      경매  25000301  535000  20210301   85   대전중앙청과   \n",
      "3           54658       1      경매  25000301  535000  20210301  120   대전중앙청과   \n",
      "4           54659       1      경매  25000301  535000  20210301  122   대전중앙청과   \n",
      "...           ...     ...     ...       ...     ...       ...  ...      ...   \n",
      "32488      147984       1      경매  21000101  232948  20210315  200  농협부산(공)   \n",
      "32489      147983       1      경매  21000101  232948  20210315  200  농협부산(공)   \n",
      "32490      147982       1      경매  21000101  902000  20210315  300  농협부산(공)   \n",
      "32491      147992       1      경매  21000103  902000  20210315  300     항도청과   \n",
      "32492      148110       1      경매  21000903  612810  20210315  300  농협반여(공)   \n",
      "\n",
      "        거래가격  출하구분코드  ... 포장상태명         산지명 등급코드     품종명 거래규격단위코드 거래단위명  \\\n",
      "0      11600     1.0  ...     단    전라남도 신안군   1Z  대파(일반)       12    kg   \n",
      "1      11600     1.0  ...   파렛트    전라남도 신안군   1Z  대파(일반)       12    kg   \n",
      "2      21600     1.0  ...     단    전라남도 신안군   1Z  대파(일반)       12    kg   \n",
      "3      23000     1.0  ...     단    전라남도 신안군   1Z  대파(일반)       12    kg   \n",
      "4      23200     1.0  ...     단    전라남도 신안군   1Z  대파(일반)       12    kg   \n",
      "...      ...     ...  ...   ...         ...  ...     ...      ...   ...   \n",
      "32488   3080     3.0  ...     단     강원도 평창군   12  대파(일반)       12    kg   \n",
      "32489   3050     3.0  ...     단     강원도 평창군   12  대파(일반)       12    kg   \n",
      "32490   3510     2.0  ...     단       부산광역시   12  대파(일반)       12    kg   \n",
      "32491   4000     3.0  ...     단       부산광역시   11  대파(일반)       12    kg   \n",
      "32492   3900     2.0  ...    기타  부산광역시 해운대구   11  대파(일반)       12    kg   \n",
      "\n",
      "       도매시장코드     도매시장명      산지명2  경매시간  \n",
      "0      250003  대전노은도매시장  전라남도 신안군   NaN  \n",
      "1      250003  대전노은도매시장  전라남도 신안군   NaN  \n",
      "2      250003  대전노은도매시장  전라남도 신안군   NaN  \n",
      "3      250003  대전노은도매시장  전라남도 신안군   NaN  \n",
      "4      250003  대전노은도매시장  전라남도 신안군   NaN  \n",
      "...       ...       ...       ...   ...  \n",
      "32488  210001  부산엄궁도매시장       NaN   NaN  \n",
      "32489  210001  부산엄궁도매시장       NaN   NaN  \n",
      "32490  210001  부산엄궁도매시장     부산광역시   NaN  \n",
      "32491  210001  부산엄궁도매시장     부산광역시   NaN  \n",
      "32492  210009  부산반여도매시장       NaN   NaN  \n",
      "\n",
      "[32493 rows x 23 columns]\n"
     ]
    }
   ],
   "source": [
    "Mar21 = pd.read_csv(r'C:\\study\\python\\notebook\\202103.csv', encoding='utf-8-sig')\n",
    "print(Mar21)"
   ]
  },
  {
   "cell_type": "markdown",
   "metadata": {},
   "source": [
    "### 2020/2021 1~3월 데이터 산지별 거래량 합계 전처리 ###"
   ]
  },
  {
   "cell_type": "code",
   "execution_count": 9,
   "metadata": {},
   "outputs": [
    {
     "data": {
      "text/html": [
       "<div>\n",
       "<style scoped>\n",
       "    .dataframe tbody tr th:only-of-type {\n",
       "        vertical-align: middle;\n",
       "    }\n",
       "\n",
       "    .dataframe tbody tr th {\n",
       "        vertical-align: top;\n",
       "    }\n",
       "\n",
       "    .dataframe thead th {\n",
       "        text-align: right;\n",
       "    }\n",
       "</style>\n",
       "<table border=\"1\" class=\"dataframe\">\n",
       "  <thead>\n",
       "    <tr style=\"text-align: right;\">\n",
       "      <th></th>\n",
       "      <th>산지명</th>\n",
       "      <th>거래량</th>\n",
       "    </tr>\n",
       "  </thead>\n",
       "  <tbody>\n",
       "    <tr>\n",
       "      <th>0</th>\n",
       "      <td>강원도</td>\n",
       "      <td>3915</td>\n",
       "    </tr>\n",
       "    <tr>\n",
       "      <th>1</th>\n",
       "      <td>강원도 강릉시</td>\n",
       "      <td>46925</td>\n",
       "    </tr>\n",
       "    <tr>\n",
       "      <th>2</th>\n",
       "      <td>강원도 동해시</td>\n",
       "      <td>10946</td>\n",
       "    </tr>\n",
       "    <tr>\n",
       "      <th>3</th>\n",
       "      <td>강원도 원주시</td>\n",
       "      <td>6382</td>\n",
       "    </tr>\n",
       "    <tr>\n",
       "      <th>4</th>\n",
       "      <td>강원도 인제군</td>\n",
       "      <td>70467</td>\n",
       "    </tr>\n",
       "    <tr>\n",
       "      <th>...</th>\n",
       "      <td>...</td>\n",
       "      <td>...</td>\n",
       "    </tr>\n",
       "    <tr>\n",
       "      <th>147</th>\n",
       "      <td>충청북도 음성군</td>\n",
       "      <td>78</td>\n",
       "    </tr>\n",
       "    <tr>\n",
       "      <th>148</th>\n",
       "      <td>충청북도 제천시</td>\n",
       "      <td>10625</td>\n",
       "    </tr>\n",
       "    <tr>\n",
       "      <th>149</th>\n",
       "      <td>충청북도 진천군</td>\n",
       "      <td>591</td>\n",
       "    </tr>\n",
       "    <tr>\n",
       "      <th>150</th>\n",
       "      <td>충청북도 청주시</td>\n",
       "      <td>292296</td>\n",
       "    </tr>\n",
       "    <tr>\n",
       "      <th>151</th>\n",
       "      <td>충청북도 충주시</td>\n",
       "      <td>54295</td>\n",
       "    </tr>\n",
       "  </tbody>\n",
       "</table>\n",
       "<p>152 rows × 2 columns</p>\n",
       "</div>"
      ],
      "text/plain": [
       "          산지명     거래량\n",
       "0         강원도    3915\n",
       "1     강원도 강릉시   46925\n",
       "2     강원도 동해시   10946\n",
       "3     강원도 원주시    6382\n",
       "4     강원도 인제군   70467\n",
       "..        ...     ...\n",
       "147  충청북도 음성군      78\n",
       "148  충청북도 제천시   10625\n",
       "149  충청북도 진천군     591\n",
       "150  충청북도 청주시  292296\n",
       "151  충청북도 충주시   54295\n",
       "\n",
       "[152 rows x 2 columns]"
      ]
     },
     "execution_count": 9,
     "metadata": {},
     "output_type": "execute_result"
    }
   ],
   "source": [
    "sum_trading_volume = Jan20.groupby(Jan20['산지명'])['거래량'].sum().reset_index()\n",
    "#20산지 별 거래량 합계\n",
    "sum_trading_volume"
   ]
  },
  {
   "cell_type": "code",
   "execution_count": 10,
   "metadata": {},
   "outputs": [
    {
     "data": {
      "text/html": [
       "<div>\n",
       "<style scoped>\n",
       "    .dataframe tbody tr th:only-of-type {\n",
       "        vertical-align: middle;\n",
       "    }\n",
       "\n",
       "    .dataframe tbody tr th {\n",
       "        vertical-align: top;\n",
       "    }\n",
       "\n",
       "    .dataframe thead th {\n",
       "        text-align: right;\n",
       "    }\n",
       "</style>\n",
       "<table border=\"1\" class=\"dataframe\">\n",
       "  <thead>\n",
       "    <tr style=\"text-align: right;\">\n",
       "      <th></th>\n",
       "      <th>index</th>\n",
       "      <th>산지명</th>\n",
       "      <th>거래량</th>\n",
       "    </tr>\n",
       "  </thead>\n",
       "  <tbody>\n",
       "    <tr>\n",
       "      <th>0</th>\n",
       "      <td>109</td>\n",
       "      <td>전라남도 진도군</td>\n",
       "      <td>2049449</td>\n",
       "    </tr>\n",
       "    <tr>\n",
       "      <th>1</th>\n",
       "      <td>102</td>\n",
       "      <td>전라남도 신안군</td>\n",
       "      <td>1607819</td>\n",
       "    </tr>\n",
       "    <tr>\n",
       "      <th>2</th>\n",
       "      <td>11</td>\n",
       "      <td>경기도 구리시</td>\n",
       "      <td>364288</td>\n",
       "    </tr>\n",
       "    <tr>\n",
       "      <th>3</th>\n",
       "      <td>70</td>\n",
       "      <td>부산광역시</td>\n",
       "      <td>317795</td>\n",
       "    </tr>\n",
       "    <tr>\n",
       "      <th>4</th>\n",
       "      <td>150</td>\n",
       "      <td>충청북도 청주시</td>\n",
       "      <td>292296</td>\n",
       "    </tr>\n",
       "    <tr>\n",
       "      <th>...</th>\n",
       "      <td>...</td>\n",
       "      <td>...</td>\n",
       "      <td>...</td>\n",
       "    </tr>\n",
       "    <tr>\n",
       "      <th>147</th>\n",
       "      <td>121</td>\n",
       "      <td>전라북도 임실군</td>\n",
       "      <td>70</td>\n",
       "    </tr>\n",
       "    <tr>\n",
       "      <th>148</th>\n",
       "      <td>108</td>\n",
       "      <td>전라남도 장흥군</td>\n",
       "      <td>43</td>\n",
       "    </tr>\n",
       "    <tr>\n",
       "      <th>149</th>\n",
       "      <td>29</td>\n",
       "      <td>경상남도 거창군</td>\n",
       "      <td>40</td>\n",
       "    </tr>\n",
       "    <tr>\n",
       "      <th>150</th>\n",
       "      <td>31</td>\n",
       "      <td>경상남도 남해군</td>\n",
       "      <td>40</td>\n",
       "    </tr>\n",
       "    <tr>\n",
       "      <th>151</th>\n",
       "      <td>134</td>\n",
       "      <td>충청남도 보령시</td>\n",
       "      <td>36</td>\n",
       "    </tr>\n",
       "  </tbody>\n",
       "</table>\n",
       "<p>152 rows × 3 columns</p>\n",
       "</div>"
      ],
      "text/plain": [
       "     index       산지명      거래량\n",
       "0      109  전라남도 진도군  2049449\n",
       "1      102  전라남도 신안군  1607819\n",
       "2       11   경기도 구리시   364288\n",
       "3       70     부산광역시   317795\n",
       "4      150  충청북도 청주시   292296\n",
       "..     ...       ...      ...\n",
       "147    121  전라북도 임실군       70\n",
       "148    108  전라남도 장흥군       43\n",
       "149     29  경상남도 거창군       40\n",
       "150     31  경상남도 남해군       40\n",
       "151    134  충청남도 보령시       36\n",
       "\n",
       "[152 rows x 3 columns]"
      ]
     },
     "execution_count": 10,
     "metadata": {},
     "output_type": "execute_result"
    }
   ],
   "source": [
    "asc_df_MTV = sum_trading_volume.sort_values('거래량', ascending=False).reset_index()\n",
    "asc_df_MTV"
   ]
  },
  {
   "cell_type": "code",
   "execution_count": 11,
   "metadata": {},
   "outputs": [
    {
     "data": {
      "text/plain": [
       "index                                                11476\n",
       "산지명      전라남도 진도군전라남도 신안군경기도 구리시부산광역시충청북도 청주시전라남도 영광군전라...\n",
       "거래량                                                8876265\n",
       "dtype: object"
      ]
     },
     "execution_count": 11,
     "metadata": {},
     "output_type": "execute_result"
    }
   ],
   "source": [
    "asc_df_MTV.sum()"
   ]
  },
  {
   "cell_type": "code",
   "execution_count": 38,
   "metadata": {},
   "outputs": [],
   "source": [
    "asc_df_MTV.loc[\"Total\", :] = asc_df_MTV.sum()\n",
    "#거래량 합계 total 행 추가"
   ]
  },
  {
   "cell_type": "code",
   "execution_count": 39,
   "metadata": {
    "scrolled": true
   },
   "outputs": [
    {
     "data": {
      "text/html": [
       "<div>\n",
       "<style scoped>\n",
       "    .dataframe tbody tr th:only-of-type {\n",
       "        vertical-align: middle;\n",
       "    }\n",
       "\n",
       "    .dataframe tbody tr th {\n",
       "        vertical-align: top;\n",
       "    }\n",
       "\n",
       "    .dataframe thead th {\n",
       "        text-align: right;\n",
       "    }\n",
       "</style>\n",
       "<table border=\"1\" class=\"dataframe\">\n",
       "  <thead>\n",
       "    <tr style=\"text-align: right;\">\n",
       "      <th></th>\n",
       "      <th>index</th>\n",
       "      <th>산지명</th>\n",
       "      <th>거래량</th>\n",
       "    </tr>\n",
       "  </thead>\n",
       "  <tbody>\n",
       "    <tr>\n",
       "      <th>0</th>\n",
       "      <td>109.0</td>\n",
       "      <td>전라남도 진도군</td>\n",
       "      <td>2049449.0</td>\n",
       "    </tr>\n",
       "    <tr>\n",
       "      <th>1</th>\n",
       "      <td>102.0</td>\n",
       "      <td>전라남도 신안군</td>\n",
       "      <td>1607819.0</td>\n",
       "    </tr>\n",
       "    <tr>\n",
       "      <th>2</th>\n",
       "      <td>11.0</td>\n",
       "      <td>경기도 구리시</td>\n",
       "      <td>364288.0</td>\n",
       "    </tr>\n",
       "    <tr>\n",
       "      <th>3</th>\n",
       "      <td>70.0</td>\n",
       "      <td>부산광역시</td>\n",
       "      <td>317795.0</td>\n",
       "    </tr>\n",
       "    <tr>\n",
       "      <th>4</th>\n",
       "      <td>150.0</td>\n",
       "      <td>충청북도 청주시</td>\n",
       "      <td>292296.0</td>\n",
       "    </tr>\n",
       "    <tr>\n",
       "      <th>...</th>\n",
       "      <td>...</td>\n",
       "      <td>...</td>\n",
       "      <td>...</td>\n",
       "    </tr>\n",
       "    <tr>\n",
       "      <th>148</th>\n",
       "      <td>108.0</td>\n",
       "      <td>전라남도 장흥군</td>\n",
       "      <td>43.0</td>\n",
       "    </tr>\n",
       "    <tr>\n",
       "      <th>149</th>\n",
       "      <td>29.0</td>\n",
       "      <td>경상남도 거창군</td>\n",
       "      <td>40.0</td>\n",
       "    </tr>\n",
       "    <tr>\n",
       "      <th>150</th>\n",
       "      <td>31.0</td>\n",
       "      <td>경상남도 남해군</td>\n",
       "      <td>40.0</td>\n",
       "    </tr>\n",
       "    <tr>\n",
       "      <th>151</th>\n",
       "      <td>134.0</td>\n",
       "      <td>충청남도 보령시</td>\n",
       "      <td>36.0</td>\n",
       "    </tr>\n",
       "    <tr>\n",
       "      <th>Total</th>\n",
       "      <td>11476.0</td>\n",
       "      <td>전라남도 진도군전라남도 신안군경기도 구리시부산광역시충청북도 청주시전라남도 영광군전라...</td>\n",
       "      <td>8876265.0</td>\n",
       "    </tr>\n",
       "  </tbody>\n",
       "</table>\n",
       "<p>153 rows × 3 columns</p>\n",
       "</div>"
      ],
      "text/plain": [
       "         index                                                산지명        거래량\n",
       "0        109.0                                           전라남도 진도군  2049449.0\n",
       "1        102.0                                           전라남도 신안군  1607819.0\n",
       "2         11.0                                            경기도 구리시   364288.0\n",
       "3         70.0                                              부산광역시   317795.0\n",
       "4        150.0                                           충청북도 청주시   292296.0\n",
       "...        ...                                                ...        ...\n",
       "148      108.0                                           전라남도 장흥군       43.0\n",
       "149       29.0                                           경상남도 거창군       40.0\n",
       "150       31.0                                           경상남도 남해군       40.0\n",
       "151      134.0                                           충청남도 보령시       36.0\n",
       "Total  11476.0  전라남도 진도군전라남도 신안군경기도 구리시부산광역시충청북도 청주시전라남도 영광군전라...  8876265.0\n",
       "\n",
       "[153 rows x 3 columns]"
      ]
     },
     "execution_count": 39,
     "metadata": {},
     "output_type": "execute_result"
    }
   ],
   "source": [
    "asc_df_MTV"
   ]
  },
  {
   "cell_type": "code",
   "execution_count": 62,
   "metadata": {},
   "outputs": [],
   "source": [
    "Total_trading1 = asc_df_MTV.iloc[[-1], :]\n",
    "#total행 선택"
   ]
  },
  {
   "cell_type": "code",
   "execution_count": 63,
   "metadata": {},
   "outputs": [],
   "source": [
    "Total_trading1.rename(index={'Total':'2020_01'}, inplace=True)\n",
    "#total행 이름 변경"
   ]
  },
  {
   "cell_type": "code",
   "execution_count": 64,
   "metadata": {},
   "outputs": [
    {
     "data": {
      "text/html": [
       "<div>\n",
       "<style scoped>\n",
       "    .dataframe tbody tr th:only-of-type {\n",
       "        vertical-align: middle;\n",
       "    }\n",
       "\n",
       "    .dataframe tbody tr th {\n",
       "        vertical-align: top;\n",
       "    }\n",
       "\n",
       "    .dataframe thead th {\n",
       "        text-align: right;\n",
       "    }\n",
       "</style>\n",
       "<table border=\"1\" class=\"dataframe\">\n",
       "  <thead>\n",
       "    <tr style=\"text-align: right;\">\n",
       "      <th></th>\n",
       "      <th>index</th>\n",
       "      <th>산지명</th>\n",
       "      <th>거래량</th>\n",
       "    </tr>\n",
       "  </thead>\n",
       "  <tbody>\n",
       "    <tr>\n",
       "      <th>2020_01</th>\n",
       "      <td>11476.0</td>\n",
       "      <td>전라남도 진도군전라남도 신안군경기도 구리시부산광역시충청북도 청주시전라남도 영광군전라...</td>\n",
       "      <td>8876265.0</td>\n",
       "    </tr>\n",
       "  </tbody>\n",
       "</table>\n",
       "</div>"
      ],
      "text/plain": [
       "           index                                                산지명        거래량\n",
       "2020_01  11476.0  전라남도 진도군전라남도 신안군경기도 구리시부산광역시충청북도 청주시전라남도 영광군전라...  8876265.0"
      ]
     },
     "execution_count": 64,
     "metadata": {},
     "output_type": "execute_result"
    }
   ],
   "source": [
    "Total_trading1"
   ]
  },
  {
   "cell_type": "code",
   "execution_count": 48,
   "metadata": {},
   "outputs": [],
   "source": [
    "Total_trading2 = asc_df_MTV2.iloc[[-1], :]"
   ]
  },
  {
   "cell_type": "code",
   "execution_count": 54,
   "metadata": {},
   "outputs": [],
   "source": [
    "Total_trading2.rename(index={'2020_02':'2021_01'}, inplace=True)"
   ]
  },
  {
   "cell_type": "code",
   "execution_count": 55,
   "metadata": {},
   "outputs": [
    {
     "data": {
      "text/html": [
       "<div>\n",
       "<style scoped>\n",
       "    .dataframe tbody tr th:only-of-type {\n",
       "        vertical-align: middle;\n",
       "    }\n",
       "\n",
       "    .dataframe tbody tr th {\n",
       "        vertical-align: top;\n",
       "    }\n",
       "\n",
       "    .dataframe thead th {\n",
       "        text-align: right;\n",
       "    }\n",
       "</style>\n",
       "<table border=\"1\" class=\"dataframe\">\n",
       "  <thead>\n",
       "    <tr style=\"text-align: right;\">\n",
       "      <th></th>\n",
       "      <th>index</th>\n",
       "      <th>산지명</th>\n",
       "      <th>거래량</th>\n",
       "    </tr>\n",
       "  </thead>\n",
       "  <tbody>\n",
       "    <tr>\n",
       "      <th>2021_01</th>\n",
       "      <td>8646.0</td>\n",
       "      <td>전라남도 진도군전라남도 신안군부산광역시경기도 구리시충청북도 청주시부산광역시 중구경상...</td>\n",
       "      <td>13978720.0</td>\n",
       "    </tr>\n",
       "  </tbody>\n",
       "</table>\n",
       "</div>"
      ],
      "text/plain": [
       "          index                                                산지명         거래량\n",
       "2021_01  8646.0  전라남도 진도군전라남도 신안군부산광역시경기도 구리시충청북도 청주시부산광역시 중구경상...  13978720.0"
      ]
     },
     "execution_count": 55,
     "metadata": {},
     "output_type": "execute_result"
    }
   ],
   "source": [
    "Total_trading2"
   ]
  },
  {
   "cell_type": "code",
   "execution_count": 59,
   "metadata": {},
   "outputs": [],
   "source": [
    "Total_trading3 = asc_df_MTV3.iloc[[-1], :]"
   ]
  },
  {
   "cell_type": "code",
   "execution_count": 60,
   "metadata": {},
   "outputs": [],
   "source": [
    "Total_trading3.rename(index={'Total':'2020_02'}, inplace=True)"
   ]
  },
  {
   "cell_type": "code",
   "execution_count": 61,
   "metadata": {},
   "outputs": [
    {
     "data": {
      "text/html": [
       "<div>\n",
       "<style scoped>\n",
       "    .dataframe tbody tr th:only-of-type {\n",
       "        vertical-align: middle;\n",
       "    }\n",
       "\n",
       "    .dataframe tbody tr th {\n",
       "        vertical-align: top;\n",
       "    }\n",
       "\n",
       "    .dataframe thead th {\n",
       "        text-align: right;\n",
       "    }\n",
       "</style>\n",
       "<table border=\"1\" class=\"dataframe\">\n",
       "  <thead>\n",
       "    <tr style=\"text-align: right;\">\n",
       "      <th></th>\n",
       "      <th>index</th>\n",
       "      <th>산지명</th>\n",
       "      <th>거래량</th>\n",
       "    </tr>\n",
       "  </thead>\n",
       "  <tbody>\n",
       "    <tr>\n",
       "      <th>2020_02</th>\n",
       "      <td>10011.0</td>\n",
       "      <td>전라남도 진도군전라남도 신안군경기도 구리시부산광역시부산광역시 강서구충청북도 청주시전...</td>\n",
       "      <td>8567093.0</td>\n",
       "    </tr>\n",
       "  </tbody>\n",
       "</table>\n",
       "</div>"
      ],
      "text/plain": [
       "           index                                                산지명        거래량\n",
       "2020_02  10011.0  전라남도 진도군전라남도 신안군경기도 구리시부산광역시부산광역시 강서구충청북도 청주시전...  8567093.0"
      ]
     },
     "execution_count": 61,
     "metadata": {},
     "output_type": "execute_result"
    }
   ],
   "source": [
    "Total_trading3"
   ]
  },
  {
   "cell_type": "code",
   "execution_count": 65,
   "metadata": {},
   "outputs": [],
   "source": [
    "Total_trading4 = asc_df_MTV4.iloc[[-1], :]"
   ]
  },
  {
   "cell_type": "code",
   "execution_count": 66,
   "metadata": {},
   "outputs": [],
   "source": [
    "Total_trading4.rename(index={'Total':'2021_02'}, inplace=True)"
   ]
  },
  {
   "cell_type": "code",
   "execution_count": 67,
   "metadata": {},
   "outputs": [
    {
     "data": {
      "text/html": [
       "<div>\n",
       "<style scoped>\n",
       "    .dataframe tbody tr th:only-of-type {\n",
       "        vertical-align: middle;\n",
       "    }\n",
       "\n",
       "    .dataframe tbody tr th {\n",
       "        vertical-align: top;\n",
       "    }\n",
       "\n",
       "    .dataframe thead th {\n",
       "        text-align: right;\n",
       "    }\n",
       "</style>\n",
       "<table border=\"1\" class=\"dataframe\">\n",
       "  <thead>\n",
       "    <tr style=\"text-align: right;\">\n",
       "      <th></th>\n",
       "      <th>index</th>\n",
       "      <th>산지명</th>\n",
       "      <th>거래량</th>\n",
       "    </tr>\n",
       "  </thead>\n",
       "  <tbody>\n",
       "    <tr>\n",
       "      <th>2021_02</th>\n",
       "      <td>7260.0</td>\n",
       "      <td>전라남도 신안군전라남도 진도군부산광역시경기도 구리시경상남도 김해시부산광역시 중구경기...</td>\n",
       "      <td>11881718.0</td>\n",
       "    </tr>\n",
       "  </tbody>\n",
       "</table>\n",
       "</div>"
      ],
      "text/plain": [
       "          index                                                산지명         거래량\n",
       "2021_02  7260.0  전라남도 신안군전라남도 진도군부산광역시경기도 구리시경상남도 김해시부산광역시 중구경기...  11881718.0"
      ]
     },
     "execution_count": 67,
     "metadata": {},
     "output_type": "execute_result"
    }
   ],
   "source": [
    "Total_trading4"
   ]
  },
  {
   "cell_type": "code",
   "execution_count": 68,
   "metadata": {},
   "outputs": [],
   "source": [
    "Total_trading5 = asc_df_MTV5.iloc[[-1], :]"
   ]
  },
  {
   "cell_type": "code",
   "execution_count": 69,
   "metadata": {},
   "outputs": [],
   "source": [
    "Total_trading5.rename(index={'Total':'2020_03'}, inplace=True)"
   ]
  },
  {
   "cell_type": "code",
   "execution_count": 70,
   "metadata": {},
   "outputs": [
    {
     "data": {
      "text/html": [
       "<div>\n",
       "<style scoped>\n",
       "    .dataframe tbody tr th:only-of-type {\n",
       "        vertical-align: middle;\n",
       "    }\n",
       "\n",
       "    .dataframe tbody tr th {\n",
       "        vertical-align: top;\n",
       "    }\n",
       "\n",
       "    .dataframe thead th {\n",
       "        text-align: right;\n",
       "    }\n",
       "</style>\n",
       "<table border=\"1\" class=\"dataframe\">\n",
       "  <thead>\n",
       "    <tr style=\"text-align: right;\">\n",
       "      <th></th>\n",
       "      <th>index</th>\n",
       "      <th>산지명</th>\n",
       "      <th>거래량</th>\n",
       "    </tr>\n",
       "  </thead>\n",
       "  <tbody>\n",
       "    <tr>\n",
       "      <th>2020_03</th>\n",
       "      <td>7626.0</td>\n",
       "      <td>전라남도 신안군전라남도 진도군경기도 구리시부산광역시부산광역시 강서구서울특별시 송파구...</td>\n",
       "      <td>3799695.0</td>\n",
       "    </tr>\n",
       "  </tbody>\n",
       "</table>\n",
       "</div>"
      ],
      "text/plain": [
       "          index                                                산지명        거래량\n",
       "2020_03  7626.0  전라남도 신안군전라남도 진도군경기도 구리시부산광역시부산광역시 강서구서울특별시 송파구...  3799695.0"
      ]
     },
     "execution_count": 70,
     "metadata": {},
     "output_type": "execute_result"
    }
   ],
   "source": [
    "Total_trading5"
   ]
  },
  {
   "cell_type": "code",
   "execution_count": 71,
   "metadata": {},
   "outputs": [],
   "source": [
    "Total_trading6 = asc_df_MTV6.iloc[[-1], :]"
   ]
  },
  {
   "cell_type": "code",
   "execution_count": 72,
   "metadata": {},
   "outputs": [],
   "source": [
    "Total_trading6.rename(index={'Total':'2021_03'}, inplace=True)"
   ]
  },
  {
   "cell_type": "code",
   "execution_count": 73,
   "metadata": {},
   "outputs": [
    {
     "data": {
      "text/html": [
       "<div>\n",
       "<style scoped>\n",
       "    .dataframe tbody tr th:only-of-type {\n",
       "        vertical-align: middle;\n",
       "    }\n",
       "\n",
       "    .dataframe tbody tr th {\n",
       "        vertical-align: top;\n",
       "    }\n",
       "\n",
       "    .dataframe thead th {\n",
       "        text-align: right;\n",
       "    }\n",
       "</style>\n",
       "<table border=\"1\" class=\"dataframe\">\n",
       "  <thead>\n",
       "    <tr style=\"text-align: right;\">\n",
       "      <th></th>\n",
       "      <th>index</th>\n",
       "      <th>산지명</th>\n",
       "      <th>거래량</th>\n",
       "    </tr>\n",
       "  </thead>\n",
       "  <tbody>\n",
       "    <tr>\n",
       "      <th>2021_03</th>\n",
       "      <td>6670.0</td>\n",
       "      <td>전라남도 신안군전라남도 진도군부산광역시경기도 구리시서울특별시 송파구경상남도 김해시부...</td>\n",
       "      <td>6405142.0</td>\n",
       "    </tr>\n",
       "  </tbody>\n",
       "</table>\n",
       "</div>"
      ],
      "text/plain": [
       "          index                                                산지명        거래량\n",
       "2021_03  6670.0  전라남도 신안군전라남도 진도군부산광역시경기도 구리시서울특별시 송파구경상남도 김해시부...  6405142.0"
      ]
     },
     "execution_count": 73,
     "metadata": {},
     "output_type": "execute_result"
    }
   ],
   "source": [
    "Total_trading6"
   ]
  },
  {
   "cell_type": "code",
   "execution_count": 76,
   "metadata": {},
   "outputs": [],
   "source": [
    "#각 연월 거래량 합계 merge\n",
    "result = pd.concat([Total_trading1,Total_trading2,Total_trading3,Total_trading4,Total_trading5,Total_trading6])"
   ]
  },
  {
   "cell_type": "code",
   "execution_count": 77,
   "metadata": {},
   "outputs": [
    {
     "data": {
      "text/html": [
       "<div>\n",
       "<style scoped>\n",
       "    .dataframe tbody tr th:only-of-type {\n",
       "        vertical-align: middle;\n",
       "    }\n",
       "\n",
       "    .dataframe tbody tr th {\n",
       "        vertical-align: top;\n",
       "    }\n",
       "\n",
       "    .dataframe thead th {\n",
       "        text-align: right;\n",
       "    }\n",
       "</style>\n",
       "<table border=\"1\" class=\"dataframe\">\n",
       "  <thead>\n",
       "    <tr style=\"text-align: right;\">\n",
       "      <th></th>\n",
       "      <th>index</th>\n",
       "      <th>산지명</th>\n",
       "      <th>거래량</th>\n",
       "    </tr>\n",
       "  </thead>\n",
       "  <tbody>\n",
       "    <tr>\n",
       "      <th>2020_01</th>\n",
       "      <td>11476.0</td>\n",
       "      <td>전라남도 진도군전라남도 신안군경기도 구리시부산광역시충청북도 청주시전라남도 영광군전라...</td>\n",
       "      <td>8876265.0</td>\n",
       "    </tr>\n",
       "    <tr>\n",
       "      <th>2021_01</th>\n",
       "      <td>8646.0</td>\n",
       "      <td>전라남도 진도군전라남도 신안군부산광역시경기도 구리시충청북도 청주시부산광역시 중구경상...</td>\n",
       "      <td>13978720.0</td>\n",
       "    </tr>\n",
       "    <tr>\n",
       "      <th>2020_02</th>\n",
       "      <td>10011.0</td>\n",
       "      <td>전라남도 진도군전라남도 신안군경기도 구리시부산광역시부산광역시 강서구충청북도 청주시전...</td>\n",
       "      <td>8567093.0</td>\n",
       "    </tr>\n",
       "    <tr>\n",
       "      <th>2021_02</th>\n",
       "      <td>7260.0</td>\n",
       "      <td>전라남도 신안군전라남도 진도군부산광역시경기도 구리시경상남도 김해시부산광역시 중구경기...</td>\n",
       "      <td>11881718.0</td>\n",
       "    </tr>\n",
       "    <tr>\n",
       "      <th>2020_03</th>\n",
       "      <td>7626.0</td>\n",
       "      <td>전라남도 신안군전라남도 진도군경기도 구리시부산광역시부산광역시 강서구서울특별시 송파구...</td>\n",
       "      <td>3799695.0</td>\n",
       "    </tr>\n",
       "    <tr>\n",
       "      <th>2021_03</th>\n",
       "      <td>6670.0</td>\n",
       "      <td>전라남도 신안군전라남도 진도군부산광역시경기도 구리시서울특별시 송파구경상남도 김해시부...</td>\n",
       "      <td>6405142.0</td>\n",
       "    </tr>\n",
       "  </tbody>\n",
       "</table>\n",
       "</div>"
      ],
      "text/plain": [
       "           index                                                산지명  \\\n",
       "2020_01  11476.0  전라남도 진도군전라남도 신안군경기도 구리시부산광역시충청북도 청주시전라남도 영광군전라...   \n",
       "2021_01   8646.0  전라남도 진도군전라남도 신안군부산광역시경기도 구리시충청북도 청주시부산광역시 중구경상...   \n",
       "2020_02  10011.0  전라남도 진도군전라남도 신안군경기도 구리시부산광역시부산광역시 강서구충청북도 청주시전...   \n",
       "2021_02   7260.0  전라남도 신안군전라남도 진도군부산광역시경기도 구리시경상남도 김해시부산광역시 중구경기...   \n",
       "2020_03   7626.0  전라남도 신안군전라남도 진도군경기도 구리시부산광역시부산광역시 강서구서울특별시 송파구...   \n",
       "2021_03   6670.0  전라남도 신안군전라남도 진도군부산광역시경기도 구리시서울특별시 송파구경상남도 김해시부...   \n",
       "\n",
       "                거래량  \n",
       "2020_01   8876265.0  \n",
       "2021_01  13978720.0  \n",
       "2020_02   8567093.0  \n",
       "2021_02  11881718.0  \n",
       "2020_03   3799695.0  \n",
       "2021_03   6405142.0  "
      ]
     },
     "execution_count": 77,
     "metadata": {},
     "output_type": "execute_result"
    }
   ],
   "source": [
    "result"
   ]
  },
  {
   "cell_type": "code",
   "execution_count": 86,
   "metadata": {},
   "outputs": [],
   "source": [
    "#시각화하기 위한 index 설정\n",
    "result2 = result.reset_index()"
   ]
  },
  {
   "cell_type": "code",
   "execution_count": 83,
   "metadata": {},
   "outputs": [
    {
     "data": {
      "text/html": [
       "<div>\n",
       "<style scoped>\n",
       "    .dataframe tbody tr th:only-of-type {\n",
       "        vertical-align: middle;\n",
       "    }\n",
       "\n",
       "    .dataframe tbody tr th {\n",
       "        vertical-align: top;\n",
       "    }\n",
       "\n",
       "    .dataframe thead th {\n",
       "        text-align: right;\n",
       "    }\n",
       "</style>\n",
       "<table border=\"1\" class=\"dataframe\">\n",
       "  <thead>\n",
       "    <tr style=\"text-align: right;\">\n",
       "      <th></th>\n",
       "      <th>index</th>\n",
       "      <th>거래량</th>\n",
       "    </tr>\n",
       "  </thead>\n",
       "  <tbody>\n",
       "    <tr>\n",
       "      <th>0</th>\n",
       "      <td>2020_01</td>\n",
       "      <td>8876265.0</td>\n",
       "    </tr>\n",
       "    <tr>\n",
       "      <th>1</th>\n",
       "      <td>2021_01</td>\n",
       "      <td>13978720.0</td>\n",
       "    </tr>\n",
       "    <tr>\n",
       "      <th>2</th>\n",
       "      <td>2020_02</td>\n",
       "      <td>8567093.0</td>\n",
       "    </tr>\n",
       "    <tr>\n",
       "      <th>3</th>\n",
       "      <td>2021_02</td>\n",
       "      <td>11881718.0</td>\n",
       "    </tr>\n",
       "    <tr>\n",
       "      <th>4</th>\n",
       "      <td>2020_03</td>\n",
       "      <td>3799695.0</td>\n",
       "    </tr>\n",
       "    <tr>\n",
       "      <th>5</th>\n",
       "      <td>2021_03</td>\n",
       "      <td>6405142.0</td>\n",
       "    </tr>\n",
       "  </tbody>\n",
       "</table>\n",
       "</div>"
      ],
      "text/plain": [
       "     index         거래량\n",
       "0  2020_01   8876265.0\n",
       "1  2021_01  13978720.0\n",
       "2  2020_02   8567093.0\n",
       "3  2021_02  11881718.0\n",
       "4  2020_03   3799695.0\n",
       "5  2021_03   6405142.0"
      ]
     },
     "execution_count": 83,
     "metadata": {},
     "output_type": "execute_result"
    }
   ],
   "source": [
    "result2"
   ]
  },
  {
   "cell_type": "code",
   "execution_count": 78,
   "metadata": {},
   "outputs": [],
   "source": [
    "#인덱스, 산지명 제외\n",
    "result.drop(['index','산지명'], axis=1, inplace=True)"
   ]
  },
  {
   "cell_type": "code",
   "execution_count": 12,
   "metadata": {
    "scrolled": true
   },
   "outputs": [
    {
     "data": {
      "text/html": [
       "<div>\n",
       "<style scoped>\n",
       "    .dataframe tbody tr th:only-of-type {\n",
       "        vertical-align: middle;\n",
       "    }\n",
       "\n",
       "    .dataframe tbody tr th {\n",
       "        vertical-align: top;\n",
       "    }\n",
       "\n",
       "    .dataframe thead th {\n",
       "        text-align: right;\n",
       "    }\n",
       "</style>\n",
       "<table border=\"1\" class=\"dataframe\">\n",
       "  <thead>\n",
       "    <tr style=\"text-align: right;\">\n",
       "      <th></th>\n",
       "      <th>산지명</th>\n",
       "      <th>거래량</th>\n",
       "    </tr>\n",
       "  </thead>\n",
       "  <tbody>\n",
       "    <tr>\n",
       "      <th>0</th>\n",
       "      <td>강원도</td>\n",
       "      <td>400</td>\n",
       "    </tr>\n",
       "    <tr>\n",
       "      <th>1</th>\n",
       "      <td>강원도 강릉시</td>\n",
       "      <td>105596</td>\n",
       "    </tr>\n",
       "    <tr>\n",
       "      <th>2</th>\n",
       "      <td>강원도 고성군</td>\n",
       "      <td>34</td>\n",
       "    </tr>\n",
       "    <tr>\n",
       "      <th>3</th>\n",
       "      <td>강원도 동해시</td>\n",
       "      <td>2420</td>\n",
       "    </tr>\n",
       "    <tr>\n",
       "      <th>4</th>\n",
       "      <td>강원도 양양군</td>\n",
       "      <td>236820</td>\n",
       "    </tr>\n",
       "    <tr>\n",
       "      <th>...</th>\n",
       "      <td>...</td>\n",
       "      <td>...</td>\n",
       "    </tr>\n",
       "    <tr>\n",
       "      <th>127</th>\n",
       "      <td>충청북도 영동군</td>\n",
       "      <td>4006</td>\n",
       "    </tr>\n",
       "    <tr>\n",
       "      <th>128</th>\n",
       "      <td>충청북도 제천시</td>\n",
       "      <td>15126</td>\n",
       "    </tr>\n",
       "    <tr>\n",
       "      <th>129</th>\n",
       "      <td>충청북도 증평군</td>\n",
       "      <td>3280</td>\n",
       "    </tr>\n",
       "    <tr>\n",
       "      <th>130</th>\n",
       "      <td>충청북도 청주시</td>\n",
       "      <td>456604</td>\n",
       "    </tr>\n",
       "    <tr>\n",
       "      <th>131</th>\n",
       "      <td>충청북도 충주시</td>\n",
       "      <td>226594</td>\n",
       "    </tr>\n",
       "  </tbody>\n",
       "</table>\n",
       "<p>132 rows × 2 columns</p>\n",
       "</div>"
      ],
      "text/plain": [
       "          산지명     거래량\n",
       "0         강원도     400\n",
       "1     강원도 강릉시  105596\n",
       "2     강원도 고성군      34\n",
       "3     강원도 동해시    2420\n",
       "4     강원도 양양군  236820\n",
       "..        ...     ...\n",
       "127  충청북도 영동군    4006\n",
       "128  충청북도 제천시   15126\n",
       "129  충청북도 증평군    3280\n",
       "130  충청북도 청주시  456604\n",
       "131  충청북도 충주시  226594\n",
       "\n",
       "[132 rows x 2 columns]"
      ]
     },
     "execution_count": 12,
     "metadata": {},
     "output_type": "execute_result"
    }
   ],
   "source": [
    "sum_trading_volume2 = Jan21.groupby(Jan21['산지명'])['거래량'].sum().reset_index()\n",
    "#20산지 별 거래량 합계\n",
    "sum_trading_volume2"
   ]
  },
  {
   "cell_type": "code",
   "execution_count": 13,
   "metadata": {},
   "outputs": [
    {
     "data": {
      "text/html": [
       "<div>\n",
       "<style scoped>\n",
       "    .dataframe tbody tr th:only-of-type {\n",
       "        vertical-align: middle;\n",
       "    }\n",
       "\n",
       "    .dataframe tbody tr th {\n",
       "        vertical-align: top;\n",
       "    }\n",
       "\n",
       "    .dataframe thead th {\n",
       "        text-align: right;\n",
       "    }\n",
       "</style>\n",
       "<table border=\"1\" class=\"dataframe\">\n",
       "  <thead>\n",
       "    <tr style=\"text-align: right;\">\n",
       "      <th></th>\n",
       "      <th>index</th>\n",
       "      <th>산지명</th>\n",
       "      <th>거래량</th>\n",
       "    </tr>\n",
       "  </thead>\n",
       "  <tbody>\n",
       "    <tr>\n",
       "      <th>0</th>\n",
       "      <td>98</td>\n",
       "      <td>전라남도 진도군</td>\n",
       "      <td>3743274</td>\n",
       "    </tr>\n",
       "    <tr>\n",
       "      <th>1</th>\n",
       "      <td>91</td>\n",
       "      <td>전라남도 신안군</td>\n",
       "      <td>2901246</td>\n",
       "    </tr>\n",
       "    <tr>\n",
       "      <th>2</th>\n",
       "      <td>63</td>\n",
       "      <td>부산광역시</td>\n",
       "      <td>659774</td>\n",
       "    </tr>\n",
       "    <tr>\n",
       "      <th>3</th>\n",
       "      <td>14</td>\n",
       "      <td>경기도 구리시</td>\n",
       "      <td>653652</td>\n",
       "    </tr>\n",
       "    <tr>\n",
       "      <th>4</th>\n",
       "      <td>130</td>\n",
       "      <td>충청북도 청주시</td>\n",
       "      <td>456604</td>\n",
       "    </tr>\n",
       "    <tr>\n",
       "      <th>...</th>\n",
       "      <td>...</td>\n",
       "      <td>...</td>\n",
       "      <td>...</td>\n",
       "    </tr>\n",
       "    <tr>\n",
       "      <th>127</th>\n",
       "      <td>62</td>\n",
       "      <td>대전광역시 중구</td>\n",
       "      <td>80</td>\n",
       "    </tr>\n",
       "    <tr>\n",
       "      <th>128</th>\n",
       "      <td>11</td>\n",
       "      <td>경기도</td>\n",
       "      <td>60</td>\n",
       "    </tr>\n",
       "    <tr>\n",
       "      <th>129</th>\n",
       "      <td>109</td>\n",
       "      <td>전라북도 정읍시</td>\n",
       "      <td>44</td>\n",
       "    </tr>\n",
       "    <tr>\n",
       "      <th>130</th>\n",
       "      <td>119</td>\n",
       "      <td>충청남도 서천군</td>\n",
       "      <td>36</td>\n",
       "    </tr>\n",
       "    <tr>\n",
       "      <th>131</th>\n",
       "      <td>2</td>\n",
       "      <td>강원도 고성군</td>\n",
       "      <td>34</td>\n",
       "    </tr>\n",
       "  </tbody>\n",
       "</table>\n",
       "<p>132 rows × 3 columns</p>\n",
       "</div>"
      ],
      "text/plain": [
       "     index       산지명      거래량\n",
       "0       98  전라남도 진도군  3743274\n",
       "1       91  전라남도 신안군  2901246\n",
       "2       63     부산광역시   659774\n",
       "3       14   경기도 구리시   653652\n",
       "4      130  충청북도 청주시   456604\n",
       "..     ...       ...      ...\n",
       "127     62  대전광역시 중구       80\n",
       "128     11       경기도       60\n",
       "129    109  전라북도 정읍시       44\n",
       "130    119  충청남도 서천군       36\n",
       "131      2   강원도 고성군       34\n",
       "\n",
       "[132 rows x 3 columns]"
      ]
     },
     "execution_count": 13,
     "metadata": {},
     "output_type": "execute_result"
    }
   ],
   "source": [
    "asc_df_MTV2 = sum_trading_volume2.sort_values('거래량', ascending=False).reset_index()\n",
    "asc_df_MTV2"
   ]
  },
  {
   "cell_type": "code",
   "execution_count": 14,
   "metadata": {
    "scrolled": true
   },
   "outputs": [
    {
     "data": {
      "text/plain": [
       "index                                                 8646\n",
       "산지명      전라남도 진도군전라남도 신안군부산광역시경기도 구리시충청북도 청주시부산광역시 중구경상...\n",
       "거래량                                               13978720\n",
       "dtype: object"
      ]
     },
     "execution_count": 14,
     "metadata": {},
     "output_type": "execute_result"
    }
   ],
   "source": [
    "asc_df_MTV2.sum()"
   ]
  },
  {
   "cell_type": "code",
   "execution_count": 36,
   "metadata": {},
   "outputs": [],
   "source": [
    "asc_df_MTV2.loc[\"Total\", :] = asc_df_MTV2.sum()"
   ]
  },
  {
   "cell_type": "code",
   "execution_count": 37,
   "metadata": {},
   "outputs": [
    {
     "data": {
      "text/html": [
       "<div>\n",
       "<style scoped>\n",
       "    .dataframe tbody tr th:only-of-type {\n",
       "        vertical-align: middle;\n",
       "    }\n",
       "\n",
       "    .dataframe tbody tr th {\n",
       "        vertical-align: top;\n",
       "    }\n",
       "\n",
       "    .dataframe thead th {\n",
       "        text-align: right;\n",
       "    }\n",
       "</style>\n",
       "<table border=\"1\" class=\"dataframe\">\n",
       "  <thead>\n",
       "    <tr style=\"text-align: right;\">\n",
       "      <th></th>\n",
       "      <th>index</th>\n",
       "      <th>산지명</th>\n",
       "      <th>거래량</th>\n",
       "    </tr>\n",
       "  </thead>\n",
       "  <tbody>\n",
       "    <tr>\n",
       "      <th>0</th>\n",
       "      <td>98.0</td>\n",
       "      <td>전라남도 진도군</td>\n",
       "      <td>3743274.0</td>\n",
       "    </tr>\n",
       "    <tr>\n",
       "      <th>1</th>\n",
       "      <td>91.0</td>\n",
       "      <td>전라남도 신안군</td>\n",
       "      <td>2901246.0</td>\n",
       "    </tr>\n",
       "    <tr>\n",
       "      <th>2</th>\n",
       "      <td>63.0</td>\n",
       "      <td>부산광역시</td>\n",
       "      <td>659774.0</td>\n",
       "    </tr>\n",
       "    <tr>\n",
       "      <th>3</th>\n",
       "      <td>14.0</td>\n",
       "      <td>경기도 구리시</td>\n",
       "      <td>653652.0</td>\n",
       "    </tr>\n",
       "    <tr>\n",
       "      <th>4</th>\n",
       "      <td>130.0</td>\n",
       "      <td>충청북도 청주시</td>\n",
       "      <td>456604.0</td>\n",
       "    </tr>\n",
       "    <tr>\n",
       "      <th>...</th>\n",
       "      <td>...</td>\n",
       "      <td>...</td>\n",
       "      <td>...</td>\n",
       "    </tr>\n",
       "    <tr>\n",
       "      <th>128</th>\n",
       "      <td>11.0</td>\n",
       "      <td>경기도</td>\n",
       "      <td>60.0</td>\n",
       "    </tr>\n",
       "    <tr>\n",
       "      <th>129</th>\n",
       "      <td>109.0</td>\n",
       "      <td>전라북도 정읍시</td>\n",
       "      <td>44.0</td>\n",
       "    </tr>\n",
       "    <tr>\n",
       "      <th>130</th>\n",
       "      <td>119.0</td>\n",
       "      <td>충청남도 서천군</td>\n",
       "      <td>36.0</td>\n",
       "    </tr>\n",
       "    <tr>\n",
       "      <th>131</th>\n",
       "      <td>2.0</td>\n",
       "      <td>강원도 고성군</td>\n",
       "      <td>34.0</td>\n",
       "    </tr>\n",
       "    <tr>\n",
       "      <th>Total</th>\n",
       "      <td>8646.0</td>\n",
       "      <td>전라남도 진도군전라남도 신안군부산광역시경기도 구리시충청북도 청주시부산광역시 중구경상...</td>\n",
       "      <td>13978720.0</td>\n",
       "    </tr>\n",
       "  </tbody>\n",
       "</table>\n",
       "<p>133 rows × 3 columns</p>\n",
       "</div>"
      ],
      "text/plain": [
       "        index                                                산지명         거래량\n",
       "0        98.0                                           전라남도 진도군   3743274.0\n",
       "1        91.0                                           전라남도 신안군   2901246.0\n",
       "2        63.0                                              부산광역시    659774.0\n",
       "3        14.0                                            경기도 구리시    653652.0\n",
       "4       130.0                                           충청북도 청주시    456604.0\n",
       "...       ...                                                ...         ...\n",
       "128      11.0                                                경기도        60.0\n",
       "129     109.0                                           전라북도 정읍시        44.0\n",
       "130     119.0                                           충청남도 서천군        36.0\n",
       "131       2.0                                            강원도 고성군        34.0\n",
       "Total  8646.0  전라남도 진도군전라남도 신안군부산광역시경기도 구리시충청북도 청주시부산광역시 중구경상...  13978720.0\n",
       "\n",
       "[133 rows x 3 columns]"
      ]
     },
     "execution_count": 37,
     "metadata": {},
     "output_type": "execute_result"
    }
   ],
   "source": [
    "asc_df_MTV2"
   ]
  },
  {
   "cell_type": "code",
   "execution_count": 15,
   "metadata": {
    "scrolled": true
   },
   "outputs": [
    {
     "data": {
      "text/html": [
       "<div>\n",
       "<style scoped>\n",
       "    .dataframe tbody tr th:only-of-type {\n",
       "        vertical-align: middle;\n",
       "    }\n",
       "\n",
       "    .dataframe tbody tr th {\n",
       "        vertical-align: top;\n",
       "    }\n",
       "\n",
       "    .dataframe thead th {\n",
       "        text-align: right;\n",
       "    }\n",
       "</style>\n",
       "<table border=\"1\" class=\"dataframe\">\n",
       "  <thead>\n",
       "    <tr style=\"text-align: right;\">\n",
       "      <th></th>\n",
       "      <th>산지명</th>\n",
       "      <th>거래량</th>\n",
       "    </tr>\n",
       "  </thead>\n",
       "  <tbody>\n",
       "    <tr>\n",
       "      <th>0</th>\n",
       "      <td>강원도 강릉시</td>\n",
       "      <td>47573</td>\n",
       "    </tr>\n",
       "    <tr>\n",
       "      <th>1</th>\n",
       "      <td>강원도 고성군</td>\n",
       "      <td>862</td>\n",
       "    </tr>\n",
       "    <tr>\n",
       "      <th>2</th>\n",
       "      <td>강원도 동해시</td>\n",
       "      <td>8330</td>\n",
       "    </tr>\n",
       "    <tr>\n",
       "      <th>3</th>\n",
       "      <td>강원도 원주시</td>\n",
       "      <td>5437</td>\n",
       "    </tr>\n",
       "    <tr>\n",
       "      <th>4</th>\n",
       "      <td>강원도 인제군</td>\n",
       "      <td>64065</td>\n",
       "    </tr>\n",
       "    <tr>\n",
       "      <th>...</th>\n",
       "      <td>...</td>\n",
       "      <td>...</td>\n",
       "    </tr>\n",
       "    <tr>\n",
       "      <th>137</th>\n",
       "      <td>충청북도 옥천군</td>\n",
       "      <td>511</td>\n",
       "    </tr>\n",
       "    <tr>\n",
       "      <th>138</th>\n",
       "      <td>충청북도 제천시</td>\n",
       "      <td>20793</td>\n",
       "    </tr>\n",
       "    <tr>\n",
       "      <th>139</th>\n",
       "      <td>충청북도 진천군</td>\n",
       "      <td>58</td>\n",
       "    </tr>\n",
       "    <tr>\n",
       "      <th>140</th>\n",
       "      <td>충청북도 청주시</td>\n",
       "      <td>188988</td>\n",
       "    </tr>\n",
       "    <tr>\n",
       "      <th>141</th>\n",
       "      <td>충청북도 충주시</td>\n",
       "      <td>52762</td>\n",
       "    </tr>\n",
       "  </tbody>\n",
       "</table>\n",
       "<p>142 rows × 2 columns</p>\n",
       "</div>"
      ],
      "text/plain": [
       "          산지명     거래량\n",
       "0     강원도 강릉시   47573\n",
       "1     강원도 고성군     862\n",
       "2     강원도 동해시    8330\n",
       "3     강원도 원주시    5437\n",
       "4     강원도 인제군   64065\n",
       "..        ...     ...\n",
       "137  충청북도 옥천군     511\n",
       "138  충청북도 제천시   20793\n",
       "139  충청북도 진천군      58\n",
       "140  충청북도 청주시  188988\n",
       "141  충청북도 충주시   52762\n",
       "\n",
       "[142 rows x 2 columns]"
      ]
     },
     "execution_count": 15,
     "metadata": {},
     "output_type": "execute_result"
    }
   ],
   "source": [
    "sum_trading_volume3 = Feb20.groupby(Feb20['산지명'])['거래량'].sum().reset_index()\n",
    "sum_trading_volume3"
   ]
  },
  {
   "cell_type": "code",
   "execution_count": 16,
   "metadata": {
    "scrolled": true
   },
   "outputs": [
    {
     "data": {
      "text/html": [
       "<div>\n",
       "<style scoped>\n",
       "    .dataframe tbody tr th:only-of-type {\n",
       "        vertical-align: middle;\n",
       "    }\n",
       "\n",
       "    .dataframe tbody tr th {\n",
       "        vertical-align: top;\n",
       "    }\n",
       "\n",
       "    .dataframe thead th {\n",
       "        text-align: right;\n",
       "    }\n",
       "</style>\n",
       "<table border=\"1\" class=\"dataframe\">\n",
       "  <thead>\n",
       "    <tr style=\"text-align: right;\">\n",
       "      <th></th>\n",
       "      <th>index</th>\n",
       "      <th>산지명</th>\n",
       "      <th>거래량</th>\n",
       "    </tr>\n",
       "  </thead>\n",
       "  <tbody>\n",
       "    <tr>\n",
       "      <th>0</th>\n",
       "      <td>104</td>\n",
       "      <td>전라남도 진도군</td>\n",
       "      <td>2107991</td>\n",
       "    </tr>\n",
       "    <tr>\n",
       "      <th>1</th>\n",
       "      <td>99</td>\n",
       "      <td>전라남도 신안군</td>\n",
       "      <td>1820322</td>\n",
       "    </tr>\n",
       "    <tr>\n",
       "      <th>2</th>\n",
       "      <td>10</td>\n",
       "      <td>경기도 구리시</td>\n",
       "      <td>434842</td>\n",
       "    </tr>\n",
       "    <tr>\n",
       "      <th>3</th>\n",
       "      <td>66</td>\n",
       "      <td>부산광역시</td>\n",
       "      <td>375417</td>\n",
       "    </tr>\n",
       "    <tr>\n",
       "      <th>4</th>\n",
       "      <td>67</td>\n",
       "      <td>부산광역시 강서구</td>\n",
       "      <td>228587</td>\n",
       "    </tr>\n",
       "    <tr>\n",
       "      <th>...</th>\n",
       "      <td>...</td>\n",
       "      <td>...</td>\n",
       "      <td>...</td>\n",
       "    </tr>\n",
       "    <tr>\n",
       "      <th>137</th>\n",
       "      <td>117</td>\n",
       "      <td>제주특별자치도</td>\n",
       "      <td>30</td>\n",
       "    </tr>\n",
       "    <tr>\n",
       "      <th>138</th>\n",
       "      <td>62</td>\n",
       "      <td>대구광역시 서구</td>\n",
       "      <td>25</td>\n",
       "    </tr>\n",
       "    <tr>\n",
       "      <th>139</th>\n",
       "      <td>28</td>\n",
       "      <td>경상남도 거창군</td>\n",
       "      <td>20</td>\n",
       "    </tr>\n",
       "    <tr>\n",
       "      <th>140</th>\n",
       "      <td>52</td>\n",
       "      <td>경상북도 의성군</td>\n",
       "      <td>17</td>\n",
       "    </tr>\n",
       "    <tr>\n",
       "      <th>141</th>\n",
       "      <td>29</td>\n",
       "      <td>경상남도 고성군</td>\n",
       "      <td>5</td>\n",
       "    </tr>\n",
       "  </tbody>\n",
       "</table>\n",
       "<p>142 rows × 3 columns</p>\n",
       "</div>"
      ],
      "text/plain": [
       "     index        산지명      거래량\n",
       "0      104   전라남도 진도군  2107991\n",
       "1       99   전라남도 신안군  1820322\n",
       "2       10    경기도 구리시   434842\n",
       "3       66      부산광역시   375417\n",
       "4       67  부산광역시 강서구   228587\n",
       "..     ...        ...      ...\n",
       "137    117    제주특별자치도       30\n",
       "138     62   대구광역시 서구       25\n",
       "139     28   경상남도 거창군       20\n",
       "140     52   경상북도 의성군       17\n",
       "141     29   경상남도 고성군        5\n",
       "\n",
       "[142 rows x 3 columns]"
      ]
     },
     "execution_count": 16,
     "metadata": {},
     "output_type": "execute_result"
    }
   ],
   "source": [
    "asc_df_MTV3 = sum_trading_volume3.sort_values('거래량', ascending=False).reset_index()\n",
    "asc_df_MTV3"
   ]
  },
  {
   "cell_type": "code",
   "execution_count": 17,
   "metadata": {},
   "outputs": [
    {
     "data": {
      "text/plain": [
       "index                                                10011\n",
       "산지명      전라남도 진도군전라남도 신안군경기도 구리시부산광역시부산광역시 강서구충청북도 청주시전...\n",
       "거래량                                                8567093\n",
       "dtype: object"
      ]
     },
     "execution_count": 17,
     "metadata": {},
     "output_type": "execute_result"
    }
   ],
   "source": [
    "asc_df_MTV3.sum()"
   ]
  },
  {
   "cell_type": "code",
   "execution_count": 34,
   "metadata": {},
   "outputs": [],
   "source": [
    "asc_df_MTV3.loc[\"Total\", :] = asc_df_MTV3.sum()"
   ]
  },
  {
   "cell_type": "code",
   "execution_count": 35,
   "metadata": {},
   "outputs": [
    {
     "data": {
      "text/html": [
       "<div>\n",
       "<style scoped>\n",
       "    .dataframe tbody tr th:only-of-type {\n",
       "        vertical-align: middle;\n",
       "    }\n",
       "\n",
       "    .dataframe tbody tr th {\n",
       "        vertical-align: top;\n",
       "    }\n",
       "\n",
       "    .dataframe thead th {\n",
       "        text-align: right;\n",
       "    }\n",
       "</style>\n",
       "<table border=\"1\" class=\"dataframe\">\n",
       "  <thead>\n",
       "    <tr style=\"text-align: right;\">\n",
       "      <th></th>\n",
       "      <th>index</th>\n",
       "      <th>산지명</th>\n",
       "      <th>거래량</th>\n",
       "    </tr>\n",
       "  </thead>\n",
       "  <tbody>\n",
       "    <tr>\n",
       "      <th>0</th>\n",
       "      <td>104.0</td>\n",
       "      <td>전라남도 진도군</td>\n",
       "      <td>2107991.0</td>\n",
       "    </tr>\n",
       "    <tr>\n",
       "      <th>1</th>\n",
       "      <td>99.0</td>\n",
       "      <td>전라남도 신안군</td>\n",
       "      <td>1820322.0</td>\n",
       "    </tr>\n",
       "    <tr>\n",
       "      <th>2</th>\n",
       "      <td>10.0</td>\n",
       "      <td>경기도 구리시</td>\n",
       "      <td>434842.0</td>\n",
       "    </tr>\n",
       "    <tr>\n",
       "      <th>3</th>\n",
       "      <td>66.0</td>\n",
       "      <td>부산광역시</td>\n",
       "      <td>375417.0</td>\n",
       "    </tr>\n",
       "    <tr>\n",
       "      <th>4</th>\n",
       "      <td>67.0</td>\n",
       "      <td>부산광역시 강서구</td>\n",
       "      <td>228587.0</td>\n",
       "    </tr>\n",
       "    <tr>\n",
       "      <th>...</th>\n",
       "      <td>...</td>\n",
       "      <td>...</td>\n",
       "      <td>...</td>\n",
       "    </tr>\n",
       "    <tr>\n",
       "      <th>138</th>\n",
       "      <td>62.0</td>\n",
       "      <td>대구광역시 서구</td>\n",
       "      <td>25.0</td>\n",
       "    </tr>\n",
       "    <tr>\n",
       "      <th>139</th>\n",
       "      <td>28.0</td>\n",
       "      <td>경상남도 거창군</td>\n",
       "      <td>20.0</td>\n",
       "    </tr>\n",
       "    <tr>\n",
       "      <th>140</th>\n",
       "      <td>52.0</td>\n",
       "      <td>경상북도 의성군</td>\n",
       "      <td>17.0</td>\n",
       "    </tr>\n",
       "    <tr>\n",
       "      <th>141</th>\n",
       "      <td>29.0</td>\n",
       "      <td>경상남도 고성군</td>\n",
       "      <td>5.0</td>\n",
       "    </tr>\n",
       "    <tr>\n",
       "      <th>Total</th>\n",
       "      <td>10011.0</td>\n",
       "      <td>전라남도 진도군전라남도 신안군경기도 구리시부산광역시부산광역시 강서구충청북도 청주시전...</td>\n",
       "      <td>8567093.0</td>\n",
       "    </tr>\n",
       "  </tbody>\n",
       "</table>\n",
       "<p>143 rows × 3 columns</p>\n",
       "</div>"
      ],
      "text/plain": [
       "         index                                                산지명        거래량\n",
       "0        104.0                                           전라남도 진도군  2107991.0\n",
       "1         99.0                                           전라남도 신안군  1820322.0\n",
       "2         10.0                                            경기도 구리시   434842.0\n",
       "3         66.0                                              부산광역시   375417.0\n",
       "4         67.0                                          부산광역시 강서구   228587.0\n",
       "...        ...                                                ...        ...\n",
       "138       62.0                                           대구광역시 서구       25.0\n",
       "139       28.0                                           경상남도 거창군       20.0\n",
       "140       52.0                                           경상북도 의성군       17.0\n",
       "141       29.0                                           경상남도 고성군        5.0\n",
       "Total  10011.0  전라남도 진도군전라남도 신안군경기도 구리시부산광역시부산광역시 강서구충청북도 청주시전...  8567093.0\n",
       "\n",
       "[143 rows x 3 columns]"
      ]
     },
     "execution_count": 35,
     "metadata": {},
     "output_type": "execute_result"
    }
   ],
   "source": [
    "asc_df_MTV3"
   ]
  },
  {
   "cell_type": "code",
   "execution_count": 18,
   "metadata": {},
   "outputs": [
    {
     "data": {
      "text/html": [
       "<div>\n",
       "<style scoped>\n",
       "    .dataframe tbody tr th:only-of-type {\n",
       "        vertical-align: middle;\n",
       "    }\n",
       "\n",
       "    .dataframe tbody tr th {\n",
       "        vertical-align: top;\n",
       "    }\n",
       "\n",
       "    .dataframe thead th {\n",
       "        text-align: right;\n",
       "    }\n",
       "</style>\n",
       "<table border=\"1\" class=\"dataframe\">\n",
       "  <thead>\n",
       "    <tr style=\"text-align: right;\">\n",
       "      <th></th>\n",
       "      <th>산지명</th>\n",
       "      <th>거래량</th>\n",
       "    </tr>\n",
       "  </thead>\n",
       "  <tbody>\n",
       "    <tr>\n",
       "      <th>0</th>\n",
       "      <td>강원도 강릉시</td>\n",
       "      <td>96580</td>\n",
       "    </tr>\n",
       "    <tr>\n",
       "      <th>1</th>\n",
       "      <td>강원도 양양군</td>\n",
       "      <td>199980</td>\n",
       "    </tr>\n",
       "    <tr>\n",
       "      <th>2</th>\n",
       "      <td>강원도 원주시</td>\n",
       "      <td>6262</td>\n",
       "    </tr>\n",
       "    <tr>\n",
       "      <th>3</th>\n",
       "      <td>강원도 인제군</td>\n",
       "      <td>18564</td>\n",
       "    </tr>\n",
       "    <tr>\n",
       "      <th>4</th>\n",
       "      <td>강원도 정선군</td>\n",
       "      <td>9260</td>\n",
       "    </tr>\n",
       "    <tr>\n",
       "      <th>...</th>\n",
       "      <td>...</td>\n",
       "      <td>...</td>\n",
       "    </tr>\n",
       "    <tr>\n",
       "      <th>116</th>\n",
       "      <td>충청북도 옥천군</td>\n",
       "      <td>6</td>\n",
       "    </tr>\n",
       "    <tr>\n",
       "      <th>117</th>\n",
       "      <td>충청북도 음성군</td>\n",
       "      <td>72</td>\n",
       "    </tr>\n",
       "    <tr>\n",
       "      <th>118</th>\n",
       "      <td>충청북도 제천시</td>\n",
       "      <td>6492</td>\n",
       "    </tr>\n",
       "    <tr>\n",
       "      <th>119</th>\n",
       "      <td>충청북도 청주시</td>\n",
       "      <td>203674</td>\n",
       "    </tr>\n",
       "    <tr>\n",
       "      <th>120</th>\n",
       "      <td>충청북도 충주시</td>\n",
       "      <td>97256</td>\n",
       "    </tr>\n",
       "  </tbody>\n",
       "</table>\n",
       "<p>121 rows × 2 columns</p>\n",
       "</div>"
      ],
      "text/plain": [
       "          산지명     거래량\n",
       "0     강원도 강릉시   96580\n",
       "1     강원도 양양군  199980\n",
       "2     강원도 원주시    6262\n",
       "3     강원도 인제군   18564\n",
       "4     강원도 정선군    9260\n",
       "..        ...     ...\n",
       "116  충청북도 옥천군       6\n",
       "117  충청북도 음성군      72\n",
       "118  충청북도 제천시    6492\n",
       "119  충청북도 청주시  203674\n",
       "120  충청북도 충주시   97256\n",
       "\n",
       "[121 rows x 2 columns]"
      ]
     },
     "execution_count": 18,
     "metadata": {},
     "output_type": "execute_result"
    }
   ],
   "source": [
    "sum_trading_volume4 = Feb21.groupby(Feb21['산지명'])['거래량'].sum().reset_index()\n",
    "sum_trading_volume4"
   ]
  },
  {
   "cell_type": "code",
   "execution_count": 21,
   "metadata": {},
   "outputs": [
    {
     "data": {
      "text/plain": [
       "index                                                 7260\n",
       "산지명      전라남도 신안군전라남도 진도군부산광역시경기도 구리시경상남도 김해시부산광역시 중구경기...\n",
       "거래량                                               11881718\n",
       "dtype: object"
      ]
     },
     "execution_count": 21,
     "metadata": {},
     "output_type": "execute_result"
    }
   ],
   "source": [
    "asc_df_MTV4.sum()"
   ]
  },
  {
   "cell_type": "code",
   "execution_count": 20,
   "metadata": {},
   "outputs": [
    {
     "data": {
      "text/html": [
       "<div>\n",
       "<style scoped>\n",
       "    .dataframe tbody tr th:only-of-type {\n",
       "        vertical-align: middle;\n",
       "    }\n",
       "\n",
       "    .dataframe tbody tr th {\n",
       "        vertical-align: top;\n",
       "    }\n",
       "\n",
       "    .dataframe thead th {\n",
       "        text-align: right;\n",
       "    }\n",
       "</style>\n",
       "<table border=\"1\" class=\"dataframe\">\n",
       "  <thead>\n",
       "    <tr style=\"text-align: right;\">\n",
       "      <th></th>\n",
       "      <th>index</th>\n",
       "      <th>산지명</th>\n",
       "      <th>거래량</th>\n",
       "    </tr>\n",
       "  </thead>\n",
       "  <tbody>\n",
       "    <tr>\n",
       "      <th>0</th>\n",
       "      <td>82</td>\n",
       "      <td>전라남도 신안군</td>\n",
       "      <td>3705920</td>\n",
       "    </tr>\n",
       "    <tr>\n",
       "      <th>1</th>\n",
       "      <td>88</td>\n",
       "      <td>전라남도 진도군</td>\n",
       "      <td>3005066</td>\n",
       "    </tr>\n",
       "    <tr>\n",
       "      <th>2</th>\n",
       "      <td>56</td>\n",
       "      <td>부산광역시</td>\n",
       "      <td>626018</td>\n",
       "    </tr>\n",
       "    <tr>\n",
       "      <th>3</th>\n",
       "      <td>11</td>\n",
       "      <td>경기도 구리시</td>\n",
       "      <td>457008</td>\n",
       "    </tr>\n",
       "    <tr>\n",
       "      <th>4</th>\n",
       "      <td>28</td>\n",
       "      <td>경상남도 김해시</td>\n",
       "      <td>324462</td>\n",
       "    </tr>\n",
       "    <tr>\n",
       "      <th>...</th>\n",
       "      <td>...</td>\n",
       "      <td>...</td>\n",
       "      <td>...</td>\n",
       "    </tr>\n",
       "    <tr>\n",
       "      <th>116</th>\n",
       "      <td>41</td>\n",
       "      <td>경상북도 상주시</td>\n",
       "      <td>12</td>\n",
       "    </tr>\n",
       "    <tr>\n",
       "      <th>117</th>\n",
       "      <td>107</td>\n",
       "      <td>충청남도 부여군</td>\n",
       "      <td>10</td>\n",
       "    </tr>\n",
       "    <tr>\n",
       "      <th>118</th>\n",
       "      <td>113</td>\n",
       "      <td>충청남도 청양군</td>\n",
       "      <td>6</td>\n",
       "    </tr>\n",
       "    <tr>\n",
       "      <th>119</th>\n",
       "      <td>102</td>\n",
       "      <td>충청남도</td>\n",
       "      <td>6</td>\n",
       "    </tr>\n",
       "    <tr>\n",
       "      <th>120</th>\n",
       "      <td>116</td>\n",
       "      <td>충청북도 옥천군</td>\n",
       "      <td>6</td>\n",
       "    </tr>\n",
       "  </tbody>\n",
       "</table>\n",
       "<p>121 rows × 3 columns</p>\n",
       "</div>"
      ],
      "text/plain": [
       "     index       산지명      거래량\n",
       "0       82  전라남도 신안군  3705920\n",
       "1       88  전라남도 진도군  3005066\n",
       "2       56     부산광역시   626018\n",
       "3       11   경기도 구리시   457008\n",
       "4       28  경상남도 김해시   324462\n",
       "..     ...       ...      ...\n",
       "116     41  경상북도 상주시       12\n",
       "117    107  충청남도 부여군       10\n",
       "118    113  충청남도 청양군        6\n",
       "119    102      충청남도        6\n",
       "120    116  충청북도 옥천군        6\n",
       "\n",
       "[121 rows x 3 columns]"
      ]
     },
     "execution_count": 20,
     "metadata": {},
     "output_type": "execute_result"
    }
   ],
   "source": [
    "asc_df_MTV4 = sum_trading_volume4.sort_values('거래량', ascending=False).reset_index()\n",
    "asc_df_MTV4"
   ]
  },
  {
   "cell_type": "code",
   "execution_count": 32,
   "metadata": {},
   "outputs": [],
   "source": [
    "asc_df_MTV4.loc[\"Total\", :] = asc_df_MTV4.sum()"
   ]
  },
  {
   "cell_type": "code",
   "execution_count": 33,
   "metadata": {},
   "outputs": [
    {
     "data": {
      "text/html": [
       "<div>\n",
       "<style scoped>\n",
       "    .dataframe tbody tr th:only-of-type {\n",
       "        vertical-align: middle;\n",
       "    }\n",
       "\n",
       "    .dataframe tbody tr th {\n",
       "        vertical-align: top;\n",
       "    }\n",
       "\n",
       "    .dataframe thead th {\n",
       "        text-align: right;\n",
       "    }\n",
       "</style>\n",
       "<table border=\"1\" class=\"dataframe\">\n",
       "  <thead>\n",
       "    <tr style=\"text-align: right;\">\n",
       "      <th></th>\n",
       "      <th>index</th>\n",
       "      <th>산지명</th>\n",
       "      <th>거래량</th>\n",
       "    </tr>\n",
       "  </thead>\n",
       "  <tbody>\n",
       "    <tr>\n",
       "      <th>0</th>\n",
       "      <td>82.0</td>\n",
       "      <td>전라남도 신안군</td>\n",
       "      <td>3705920.0</td>\n",
       "    </tr>\n",
       "    <tr>\n",
       "      <th>1</th>\n",
       "      <td>88.0</td>\n",
       "      <td>전라남도 진도군</td>\n",
       "      <td>3005066.0</td>\n",
       "    </tr>\n",
       "    <tr>\n",
       "      <th>2</th>\n",
       "      <td>56.0</td>\n",
       "      <td>부산광역시</td>\n",
       "      <td>626018.0</td>\n",
       "    </tr>\n",
       "    <tr>\n",
       "      <th>3</th>\n",
       "      <td>11.0</td>\n",
       "      <td>경기도 구리시</td>\n",
       "      <td>457008.0</td>\n",
       "    </tr>\n",
       "    <tr>\n",
       "      <th>4</th>\n",
       "      <td>28.0</td>\n",
       "      <td>경상남도 김해시</td>\n",
       "      <td>324462.0</td>\n",
       "    </tr>\n",
       "    <tr>\n",
       "      <th>...</th>\n",
       "      <td>...</td>\n",
       "      <td>...</td>\n",
       "      <td>...</td>\n",
       "    </tr>\n",
       "    <tr>\n",
       "      <th>117</th>\n",
       "      <td>107.0</td>\n",
       "      <td>충청남도 부여군</td>\n",
       "      <td>10.0</td>\n",
       "    </tr>\n",
       "    <tr>\n",
       "      <th>118</th>\n",
       "      <td>113.0</td>\n",
       "      <td>충청남도 청양군</td>\n",
       "      <td>6.0</td>\n",
       "    </tr>\n",
       "    <tr>\n",
       "      <th>119</th>\n",
       "      <td>102.0</td>\n",
       "      <td>충청남도</td>\n",
       "      <td>6.0</td>\n",
       "    </tr>\n",
       "    <tr>\n",
       "      <th>120</th>\n",
       "      <td>116.0</td>\n",
       "      <td>충청북도 옥천군</td>\n",
       "      <td>6.0</td>\n",
       "    </tr>\n",
       "    <tr>\n",
       "      <th>Total</th>\n",
       "      <td>7260.0</td>\n",
       "      <td>전라남도 신안군전라남도 진도군부산광역시경기도 구리시경상남도 김해시부산광역시 중구경기...</td>\n",
       "      <td>11881718.0</td>\n",
       "    </tr>\n",
       "  </tbody>\n",
       "</table>\n",
       "<p>122 rows × 3 columns</p>\n",
       "</div>"
      ],
      "text/plain": [
       "        index                                                산지명         거래량\n",
       "0        82.0                                           전라남도 신안군   3705920.0\n",
       "1        88.0                                           전라남도 진도군   3005066.0\n",
       "2        56.0                                              부산광역시    626018.0\n",
       "3        11.0                                            경기도 구리시    457008.0\n",
       "4        28.0                                           경상남도 김해시    324462.0\n",
       "...       ...                                                ...         ...\n",
       "117     107.0                                           충청남도 부여군        10.0\n",
       "118     113.0                                           충청남도 청양군         6.0\n",
       "119     102.0                                               충청남도         6.0\n",
       "120     116.0                                           충청북도 옥천군         6.0\n",
       "Total  7260.0  전라남도 신안군전라남도 진도군부산광역시경기도 구리시경상남도 김해시부산광역시 중구경기...  11881718.0\n",
       "\n",
       "[122 rows x 3 columns]"
      ]
     },
     "execution_count": 33,
     "metadata": {},
     "output_type": "execute_result"
    }
   ],
   "source": [
    "asc_df_MTV4"
   ]
  },
  {
   "cell_type": "code",
   "execution_count": 22,
   "metadata": {},
   "outputs": [
    {
     "data": {
      "text/html": [
       "<div>\n",
       "<style scoped>\n",
       "    .dataframe tbody tr th:only-of-type {\n",
       "        vertical-align: middle;\n",
       "    }\n",
       "\n",
       "    .dataframe tbody tr th {\n",
       "        vertical-align: top;\n",
       "    }\n",
       "\n",
       "    .dataframe thead th {\n",
       "        text-align: right;\n",
       "    }\n",
       "</style>\n",
       "<table border=\"1\" class=\"dataframe\">\n",
       "  <thead>\n",
       "    <tr style=\"text-align: right;\">\n",
       "      <th></th>\n",
       "      <th>산지명</th>\n",
       "      <th>거래량</th>\n",
       "    </tr>\n",
       "  </thead>\n",
       "  <tbody>\n",
       "    <tr>\n",
       "      <th>0</th>\n",
       "      <td>강원도 강릉시</td>\n",
       "      <td>23395</td>\n",
       "    </tr>\n",
       "    <tr>\n",
       "      <th>1</th>\n",
       "      <td>강원도 동해시</td>\n",
       "      <td>2240</td>\n",
       "    </tr>\n",
       "    <tr>\n",
       "      <th>2</th>\n",
       "      <td>강원도 원주시</td>\n",
       "      <td>3753</td>\n",
       "    </tr>\n",
       "    <tr>\n",
       "      <th>3</th>\n",
       "      <td>강원도 인제군</td>\n",
       "      <td>31230</td>\n",
       "    </tr>\n",
       "    <tr>\n",
       "      <th>4</th>\n",
       "      <td>강원도 정선군</td>\n",
       "      <td>300</td>\n",
       "    </tr>\n",
       "    <tr>\n",
       "      <th>...</th>\n",
       "      <td>...</td>\n",
       "      <td>...</td>\n",
       "    </tr>\n",
       "    <tr>\n",
       "      <th>119</th>\n",
       "      <td>충청북도 영동군</td>\n",
       "      <td>68</td>\n",
       "    </tr>\n",
       "    <tr>\n",
       "      <th>120</th>\n",
       "      <td>충청북도 제천시</td>\n",
       "      <td>6994</td>\n",
       "    </tr>\n",
       "    <tr>\n",
       "      <th>121</th>\n",
       "      <td>충청북도 진천군</td>\n",
       "      <td>112</td>\n",
       "    </tr>\n",
       "    <tr>\n",
       "      <th>122</th>\n",
       "      <td>충청북도 청주시</td>\n",
       "      <td>58406</td>\n",
       "    </tr>\n",
       "    <tr>\n",
       "      <th>123</th>\n",
       "      <td>충청북도 충주시</td>\n",
       "      <td>27765</td>\n",
       "    </tr>\n",
       "  </tbody>\n",
       "</table>\n",
       "<p>124 rows × 2 columns</p>\n",
       "</div>"
      ],
      "text/plain": [
       "          산지명    거래량\n",
       "0     강원도 강릉시  23395\n",
       "1     강원도 동해시   2240\n",
       "2     강원도 원주시   3753\n",
       "3     강원도 인제군  31230\n",
       "4     강원도 정선군    300\n",
       "..        ...    ...\n",
       "119  충청북도 영동군     68\n",
       "120  충청북도 제천시   6994\n",
       "121  충청북도 진천군    112\n",
       "122  충청북도 청주시  58406\n",
       "123  충청북도 충주시  27765\n",
       "\n",
       "[124 rows x 2 columns]"
      ]
     },
     "execution_count": 22,
     "metadata": {},
     "output_type": "execute_result"
    }
   ],
   "source": [
    "sum_trading_volume5 = Mar20.groupby(Mar20['산지명'])['거래량'].sum().reset_index()\n",
    "sum_trading_volume5"
   ]
  },
  {
   "cell_type": "code",
   "execution_count": 23,
   "metadata": {
    "scrolled": true
   },
   "outputs": [
    {
     "data": {
      "text/html": [
       "<div>\n",
       "<style scoped>\n",
       "    .dataframe tbody tr th:only-of-type {\n",
       "        vertical-align: middle;\n",
       "    }\n",
       "\n",
       "    .dataframe tbody tr th {\n",
       "        vertical-align: top;\n",
       "    }\n",
       "\n",
       "    .dataframe thead th {\n",
       "        text-align: right;\n",
       "    }\n",
       "</style>\n",
       "<table border=\"1\" class=\"dataframe\">\n",
       "  <thead>\n",
       "    <tr style=\"text-align: right;\">\n",
       "      <th></th>\n",
       "      <th>index</th>\n",
       "      <th>산지명</th>\n",
       "      <th>거래량</th>\n",
       "    </tr>\n",
       "  </thead>\n",
       "  <tbody>\n",
       "    <tr>\n",
       "      <th>0</th>\n",
       "      <td>86</td>\n",
       "      <td>전라남도 신안군</td>\n",
       "      <td>917325</td>\n",
       "    </tr>\n",
       "    <tr>\n",
       "      <th>1</th>\n",
       "      <td>91</td>\n",
       "      <td>전라남도 진도군</td>\n",
       "      <td>863131</td>\n",
       "    </tr>\n",
       "    <tr>\n",
       "      <th>2</th>\n",
       "      <td>6</td>\n",
       "      <td>경기도 구리시</td>\n",
       "      <td>213953</td>\n",
       "    </tr>\n",
       "    <tr>\n",
       "      <th>3</th>\n",
       "      <td>55</td>\n",
       "      <td>부산광역시</td>\n",
       "      <td>179809</td>\n",
       "    </tr>\n",
       "    <tr>\n",
       "      <th>4</th>\n",
       "      <td>56</td>\n",
       "      <td>부산광역시 강서구</td>\n",
       "      <td>104426</td>\n",
       "    </tr>\n",
       "    <tr>\n",
       "      <th>...</th>\n",
       "      <td>...</td>\n",
       "      <td>...</td>\n",
       "      <td>...</td>\n",
       "    </tr>\n",
       "    <tr>\n",
       "      <th>119</th>\n",
       "      <td>106</td>\n",
       "      <td>충청남도 공주시</td>\n",
       "      <td>37</td>\n",
       "    </tr>\n",
       "    <tr>\n",
       "      <th>120</th>\n",
       "      <td>44</td>\n",
       "      <td>광주광역시 동구</td>\n",
       "      <td>28</td>\n",
       "    </tr>\n",
       "    <tr>\n",
       "      <th>121</th>\n",
       "      <td>103</td>\n",
       "      <td>제주특별자치도 서귀포시</td>\n",
       "      <td>27</td>\n",
       "    </tr>\n",
       "    <tr>\n",
       "      <th>122</th>\n",
       "      <td>110</td>\n",
       "      <td>충청남도 보령시</td>\n",
       "      <td>18</td>\n",
       "    </tr>\n",
       "    <tr>\n",
       "      <th>123</th>\n",
       "      <td>24</td>\n",
       "      <td>경상남도 거제시</td>\n",
       "      <td>4</td>\n",
       "    </tr>\n",
       "  </tbody>\n",
       "</table>\n",
       "<p>124 rows × 3 columns</p>\n",
       "</div>"
      ],
      "text/plain": [
       "     index           산지명     거래량\n",
       "0       86      전라남도 신안군  917325\n",
       "1       91      전라남도 진도군  863131\n",
       "2        6       경기도 구리시  213953\n",
       "3       55         부산광역시  179809\n",
       "4       56     부산광역시 강서구  104426\n",
       "..     ...           ...     ...\n",
       "119    106      충청남도 공주시      37\n",
       "120     44      광주광역시 동구      28\n",
       "121    103  제주특별자치도 서귀포시      27\n",
       "122    110      충청남도 보령시      18\n",
       "123     24      경상남도 거제시       4\n",
       "\n",
       "[124 rows x 3 columns]"
      ]
     },
     "execution_count": 23,
     "metadata": {},
     "output_type": "execute_result"
    }
   ],
   "source": [
    "asc_df_MTV5 = sum_trading_volume5.sort_values('거래량', ascending=False).reset_index()\n",
    "asc_df_MTV5"
   ]
  },
  {
   "cell_type": "code",
   "execution_count": 24,
   "metadata": {
    "scrolled": true
   },
   "outputs": [
    {
     "data": {
      "text/plain": [
       "index                                                 7626\n",
       "산지명      전라남도 신안군전라남도 진도군경기도 구리시부산광역시부산광역시 강서구서울특별시 송파구...\n",
       "거래량                                                3799695\n",
       "dtype: object"
      ]
     },
     "execution_count": 24,
     "metadata": {},
     "output_type": "execute_result"
    }
   ],
   "source": [
    "asc_df_MTV5.sum()"
   ]
  },
  {
   "cell_type": "code",
   "execution_count": 30,
   "metadata": {},
   "outputs": [],
   "source": [
    "asc_df_MTV5.loc[\"Total\", :] = asc_df_MTV5.sum()"
   ]
  },
  {
   "cell_type": "code",
   "execution_count": 31,
   "metadata": {},
   "outputs": [
    {
     "data": {
      "text/html": [
       "<div>\n",
       "<style scoped>\n",
       "    .dataframe tbody tr th:only-of-type {\n",
       "        vertical-align: middle;\n",
       "    }\n",
       "\n",
       "    .dataframe tbody tr th {\n",
       "        vertical-align: top;\n",
       "    }\n",
       "\n",
       "    .dataframe thead th {\n",
       "        text-align: right;\n",
       "    }\n",
       "</style>\n",
       "<table border=\"1\" class=\"dataframe\">\n",
       "  <thead>\n",
       "    <tr style=\"text-align: right;\">\n",
       "      <th></th>\n",
       "      <th>index</th>\n",
       "      <th>산지명</th>\n",
       "      <th>거래량</th>\n",
       "    </tr>\n",
       "  </thead>\n",
       "  <tbody>\n",
       "    <tr>\n",
       "      <th>0</th>\n",
       "      <td>86.0</td>\n",
       "      <td>전라남도 신안군</td>\n",
       "      <td>917325.0</td>\n",
       "    </tr>\n",
       "    <tr>\n",
       "      <th>1</th>\n",
       "      <td>91.0</td>\n",
       "      <td>전라남도 진도군</td>\n",
       "      <td>863131.0</td>\n",
       "    </tr>\n",
       "    <tr>\n",
       "      <th>2</th>\n",
       "      <td>6.0</td>\n",
       "      <td>경기도 구리시</td>\n",
       "      <td>213953.0</td>\n",
       "    </tr>\n",
       "    <tr>\n",
       "      <th>3</th>\n",
       "      <td>55.0</td>\n",
       "      <td>부산광역시</td>\n",
       "      <td>179809.0</td>\n",
       "    </tr>\n",
       "    <tr>\n",
       "      <th>4</th>\n",
       "      <td>56.0</td>\n",
       "      <td>부산광역시 강서구</td>\n",
       "      <td>104426.0</td>\n",
       "    </tr>\n",
       "    <tr>\n",
       "      <th>...</th>\n",
       "      <td>...</td>\n",
       "      <td>...</td>\n",
       "      <td>...</td>\n",
       "    </tr>\n",
       "    <tr>\n",
       "      <th>120</th>\n",
       "      <td>44.0</td>\n",
       "      <td>광주광역시 동구</td>\n",
       "      <td>28.0</td>\n",
       "    </tr>\n",
       "    <tr>\n",
       "      <th>121</th>\n",
       "      <td>103.0</td>\n",
       "      <td>제주특별자치도 서귀포시</td>\n",
       "      <td>27.0</td>\n",
       "    </tr>\n",
       "    <tr>\n",
       "      <th>122</th>\n",
       "      <td>110.0</td>\n",
       "      <td>충청남도 보령시</td>\n",
       "      <td>18.0</td>\n",
       "    </tr>\n",
       "    <tr>\n",
       "      <th>123</th>\n",
       "      <td>24.0</td>\n",
       "      <td>경상남도 거제시</td>\n",
       "      <td>4.0</td>\n",
       "    </tr>\n",
       "    <tr>\n",
       "      <th>Total</th>\n",
       "      <td>7626.0</td>\n",
       "      <td>전라남도 신안군전라남도 진도군경기도 구리시부산광역시부산광역시 강서구서울특별시 송파구...</td>\n",
       "      <td>3799695.0</td>\n",
       "    </tr>\n",
       "  </tbody>\n",
       "</table>\n",
       "<p>125 rows × 3 columns</p>\n",
       "</div>"
      ],
      "text/plain": [
       "        index                                                산지명        거래량\n",
       "0        86.0                                           전라남도 신안군   917325.0\n",
       "1        91.0                                           전라남도 진도군   863131.0\n",
       "2         6.0                                            경기도 구리시   213953.0\n",
       "3        55.0                                              부산광역시   179809.0\n",
       "4        56.0                                          부산광역시 강서구   104426.0\n",
       "...       ...                                                ...        ...\n",
       "120      44.0                                           광주광역시 동구       28.0\n",
       "121     103.0                                       제주특별자치도 서귀포시       27.0\n",
       "122     110.0                                           충청남도 보령시       18.0\n",
       "123      24.0                                           경상남도 거제시        4.0\n",
       "Total  7626.0  전라남도 신안군전라남도 진도군경기도 구리시부산광역시부산광역시 강서구서울특별시 송파구...  3799695.0\n",
       "\n",
       "[125 rows x 3 columns]"
      ]
     },
     "execution_count": 31,
     "metadata": {},
     "output_type": "execute_result"
    }
   ],
   "source": [
    "asc_df_MTV5"
   ]
  },
  {
   "cell_type": "code",
   "execution_count": 25,
   "metadata": {},
   "outputs": [
    {
     "data": {
      "text/html": [
       "<div>\n",
       "<style scoped>\n",
       "    .dataframe tbody tr th:only-of-type {\n",
       "        vertical-align: middle;\n",
       "    }\n",
       "\n",
       "    .dataframe tbody tr th {\n",
       "        vertical-align: top;\n",
       "    }\n",
       "\n",
       "    .dataframe thead th {\n",
       "        text-align: right;\n",
       "    }\n",
       "</style>\n",
       "<table border=\"1\" class=\"dataframe\">\n",
       "  <thead>\n",
       "    <tr style=\"text-align: right;\">\n",
       "      <th></th>\n",
       "      <th>산지명</th>\n",
       "      <th>거래량</th>\n",
       "    </tr>\n",
       "  </thead>\n",
       "  <tbody>\n",
       "    <tr>\n",
       "      <th>0</th>\n",
       "      <td>강원도</td>\n",
       "      <td>1680</td>\n",
       "    </tr>\n",
       "    <tr>\n",
       "      <th>1</th>\n",
       "      <td>강원도 강릉시</td>\n",
       "      <td>59840</td>\n",
       "    </tr>\n",
       "    <tr>\n",
       "      <th>2</th>\n",
       "      <td>강원도 동해시</td>\n",
       "      <td>1140</td>\n",
       "    </tr>\n",
       "    <tr>\n",
       "      <th>3</th>\n",
       "      <td>강원도 양양군</td>\n",
       "      <td>83100</td>\n",
       "    </tr>\n",
       "    <tr>\n",
       "      <th>4</th>\n",
       "      <td>강원도 원주시</td>\n",
       "      <td>7700</td>\n",
       "    </tr>\n",
       "    <tr>\n",
       "      <th>...</th>\n",
       "      <td>...</td>\n",
       "      <td>...</td>\n",
       "    </tr>\n",
       "    <tr>\n",
       "      <th>111</th>\n",
       "      <td>충청북도 옥천군</td>\n",
       "      <td>74</td>\n",
       "    </tr>\n",
       "    <tr>\n",
       "      <th>112</th>\n",
       "      <td>충청북도 음성군</td>\n",
       "      <td>1080</td>\n",
       "    </tr>\n",
       "    <tr>\n",
       "      <th>113</th>\n",
       "      <td>충청북도 제천시</td>\n",
       "      <td>1522</td>\n",
       "    </tr>\n",
       "    <tr>\n",
       "      <th>114</th>\n",
       "      <td>충청북도 청주시</td>\n",
       "      <td>116078</td>\n",
       "    </tr>\n",
       "    <tr>\n",
       "      <th>115</th>\n",
       "      <td>충청북도 충주시</td>\n",
       "      <td>47262</td>\n",
       "    </tr>\n",
       "  </tbody>\n",
       "</table>\n",
       "<p>116 rows × 2 columns</p>\n",
       "</div>"
      ],
      "text/plain": [
       "          산지명     거래량\n",
       "0         강원도    1680\n",
       "1     강원도 강릉시   59840\n",
       "2     강원도 동해시    1140\n",
       "3     강원도 양양군   83100\n",
       "4     강원도 원주시    7700\n",
       "..        ...     ...\n",
       "111  충청북도 옥천군      74\n",
       "112  충청북도 음성군    1080\n",
       "113  충청북도 제천시    1522\n",
       "114  충청북도 청주시  116078\n",
       "115  충청북도 충주시   47262\n",
       "\n",
       "[116 rows x 2 columns]"
      ]
     },
     "execution_count": 25,
     "metadata": {},
     "output_type": "execute_result"
    }
   ],
   "source": [
    "sum_trading_volume6 = Mar21.groupby(Mar21['산지명'])['거래량'].sum().reset_index()\n",
    "sum_trading_volume6"
   ]
  },
  {
   "cell_type": "code",
   "execution_count": 26,
   "metadata": {},
   "outputs": [
    {
     "data": {
      "text/html": [
       "<div>\n",
       "<style scoped>\n",
       "    .dataframe tbody tr th:only-of-type {\n",
       "        vertical-align: middle;\n",
       "    }\n",
       "\n",
       "    .dataframe tbody tr th {\n",
       "        vertical-align: top;\n",
       "    }\n",
       "\n",
       "    .dataframe thead th {\n",
       "        text-align: right;\n",
       "    }\n",
       "</style>\n",
       "<table border=\"1\" class=\"dataframe\">\n",
       "  <thead>\n",
       "    <tr style=\"text-align: right;\">\n",
       "      <th></th>\n",
       "      <th>index</th>\n",
       "      <th>산지명</th>\n",
       "      <th>거래량</th>\n",
       "    </tr>\n",
       "  </thead>\n",
       "  <tbody>\n",
       "    <tr>\n",
       "      <th>0</th>\n",
       "      <td>81</td>\n",
       "      <td>전라남도 신안군</td>\n",
       "      <td>1906882</td>\n",
       "    </tr>\n",
       "    <tr>\n",
       "      <th>1</th>\n",
       "      <td>87</td>\n",
       "      <td>전라남도 진도군</td>\n",
       "      <td>1499216</td>\n",
       "    </tr>\n",
       "    <tr>\n",
       "      <th>2</th>\n",
       "      <td>53</td>\n",
       "      <td>부산광역시</td>\n",
       "      <td>419836</td>\n",
       "    </tr>\n",
       "    <tr>\n",
       "      <th>3</th>\n",
       "      <td>9</td>\n",
       "      <td>경기도 구리시</td>\n",
       "      <td>325520</td>\n",
       "    </tr>\n",
       "    <tr>\n",
       "      <th>4</th>\n",
       "      <td>60</td>\n",
       "      <td>서울특별시 송파구</td>\n",
       "      <td>152216</td>\n",
       "    </tr>\n",
       "    <tr>\n",
       "      <th>...</th>\n",
       "      <td>...</td>\n",
       "      <td>...</td>\n",
       "      <td>...</td>\n",
       "    </tr>\n",
       "    <tr>\n",
       "      <th>111</th>\n",
       "      <td>43</td>\n",
       "      <td>경상북도 포항시</td>\n",
       "      <td>20</td>\n",
       "    </tr>\n",
       "    <tr>\n",
       "      <th>112</th>\n",
       "      <td>104</td>\n",
       "      <td>충청남도 부여군</td>\n",
       "      <td>18</td>\n",
       "    </tr>\n",
       "    <tr>\n",
       "      <th>113</th>\n",
       "      <td>65</td>\n",
       "      <td>울산광역시 울주군</td>\n",
       "      <td>14</td>\n",
       "    </tr>\n",
       "    <tr>\n",
       "      <th>114</th>\n",
       "      <td>51</td>\n",
       "      <td>대전광역시 동구</td>\n",
       "      <td>10</td>\n",
       "    </tr>\n",
       "    <tr>\n",
       "      <th>115</th>\n",
       "      <td>109</td>\n",
       "      <td>충청남도 홍성군</td>\n",
       "      <td>2</td>\n",
       "    </tr>\n",
       "  </tbody>\n",
       "</table>\n",
       "<p>116 rows × 3 columns</p>\n",
       "</div>"
      ],
      "text/plain": [
       "     index        산지명      거래량\n",
       "0       81   전라남도 신안군  1906882\n",
       "1       87   전라남도 진도군  1499216\n",
       "2       53      부산광역시   419836\n",
       "3        9    경기도 구리시   325520\n",
       "4       60  서울특별시 송파구   152216\n",
       "..     ...        ...      ...\n",
       "111     43   경상북도 포항시       20\n",
       "112    104   충청남도 부여군       18\n",
       "113     65  울산광역시 울주군       14\n",
       "114     51   대전광역시 동구       10\n",
       "115    109   충청남도 홍성군        2\n",
       "\n",
       "[116 rows x 3 columns]"
      ]
     },
     "execution_count": 26,
     "metadata": {},
     "output_type": "execute_result"
    }
   ],
   "source": [
    "asc_df_MTV6 = sum_trading_volume6.sort_values('거래량', ascending=False).reset_index()\n",
    "asc_df_MTV6"
   ]
  },
  {
   "cell_type": "code",
   "execution_count": 27,
   "metadata": {},
   "outputs": [
    {
     "data": {
      "text/plain": [
       "index                                                 6670\n",
       "산지명      전라남도 신안군전라남도 진도군부산광역시경기도 구리시서울특별시 송파구경상남도 김해시부...\n",
       "거래량                                                6405142\n",
       "dtype: object"
      ]
     },
     "execution_count": 27,
     "metadata": {},
     "output_type": "execute_result"
    }
   ],
   "source": [
    "asc_df_MTV6.sum() "
   ]
  },
  {
   "cell_type": "code",
   "execution_count": 28,
   "metadata": {},
   "outputs": [],
   "source": [
    "asc_df_MTV6.loc[\"Total\", :] = asc_df_MTV6.sum()"
   ]
  },
  {
   "cell_type": "code",
   "execution_count": 29,
   "metadata": {},
   "outputs": [
    {
     "data": {
      "text/html": [
       "<div>\n",
       "<style scoped>\n",
       "    .dataframe tbody tr th:only-of-type {\n",
       "        vertical-align: middle;\n",
       "    }\n",
       "\n",
       "    .dataframe tbody tr th {\n",
       "        vertical-align: top;\n",
       "    }\n",
       "\n",
       "    .dataframe thead th {\n",
       "        text-align: right;\n",
       "    }\n",
       "</style>\n",
       "<table border=\"1\" class=\"dataframe\">\n",
       "  <thead>\n",
       "    <tr style=\"text-align: right;\">\n",
       "      <th></th>\n",
       "      <th>index</th>\n",
       "      <th>산지명</th>\n",
       "      <th>거래량</th>\n",
       "    </tr>\n",
       "  </thead>\n",
       "  <tbody>\n",
       "    <tr>\n",
       "      <th>0</th>\n",
       "      <td>81.0</td>\n",
       "      <td>전라남도 신안군</td>\n",
       "      <td>1906882.0</td>\n",
       "    </tr>\n",
       "    <tr>\n",
       "      <th>1</th>\n",
       "      <td>87.0</td>\n",
       "      <td>전라남도 진도군</td>\n",
       "      <td>1499216.0</td>\n",
       "    </tr>\n",
       "    <tr>\n",
       "      <th>2</th>\n",
       "      <td>53.0</td>\n",
       "      <td>부산광역시</td>\n",
       "      <td>419836.0</td>\n",
       "    </tr>\n",
       "    <tr>\n",
       "      <th>3</th>\n",
       "      <td>9.0</td>\n",
       "      <td>경기도 구리시</td>\n",
       "      <td>325520.0</td>\n",
       "    </tr>\n",
       "    <tr>\n",
       "      <th>4</th>\n",
       "      <td>60.0</td>\n",
       "      <td>서울특별시 송파구</td>\n",
       "      <td>152216.0</td>\n",
       "    </tr>\n",
       "    <tr>\n",
       "      <th>...</th>\n",
       "      <td>...</td>\n",
       "      <td>...</td>\n",
       "      <td>...</td>\n",
       "    </tr>\n",
       "    <tr>\n",
       "      <th>112</th>\n",
       "      <td>104.0</td>\n",
       "      <td>충청남도 부여군</td>\n",
       "      <td>18.0</td>\n",
       "    </tr>\n",
       "    <tr>\n",
       "      <th>113</th>\n",
       "      <td>65.0</td>\n",
       "      <td>울산광역시 울주군</td>\n",
       "      <td>14.0</td>\n",
       "    </tr>\n",
       "    <tr>\n",
       "      <th>114</th>\n",
       "      <td>51.0</td>\n",
       "      <td>대전광역시 동구</td>\n",
       "      <td>10.0</td>\n",
       "    </tr>\n",
       "    <tr>\n",
       "      <th>115</th>\n",
       "      <td>109.0</td>\n",
       "      <td>충청남도 홍성군</td>\n",
       "      <td>2.0</td>\n",
       "    </tr>\n",
       "    <tr>\n",
       "      <th>Total</th>\n",
       "      <td>6670.0</td>\n",
       "      <td>전라남도 신안군전라남도 진도군부산광역시경기도 구리시서울특별시 송파구경상남도 김해시부...</td>\n",
       "      <td>6405142.0</td>\n",
       "    </tr>\n",
       "  </tbody>\n",
       "</table>\n",
       "<p>117 rows × 3 columns</p>\n",
       "</div>"
      ],
      "text/plain": [
       "        index                                                산지명        거래량\n",
       "0        81.0                                           전라남도 신안군  1906882.0\n",
       "1        87.0                                           전라남도 진도군  1499216.0\n",
       "2        53.0                                              부산광역시   419836.0\n",
       "3         9.0                                            경기도 구리시   325520.0\n",
       "4        60.0                                          서울특별시 송파구   152216.0\n",
       "...       ...                                                ...        ...\n",
       "112     104.0                                           충청남도 부여군       18.0\n",
       "113      65.0                                          울산광역시 울주군       14.0\n",
       "114      51.0                                           대전광역시 동구       10.0\n",
       "115     109.0                                           충청남도 홍성군        2.0\n",
       "Total  6670.0  전라남도 신안군전라남도 진도군부산광역시경기도 구리시서울특별시 송파구경상남도 김해시부...  6405142.0\n",
       "\n",
       "[117 rows x 3 columns]"
      ]
     },
     "execution_count": 29,
     "metadata": {},
     "output_type": "execute_result"
    }
   ],
   "source": [
    "asc_df_MTV6"
   ]
  },
  {
   "cell_type": "markdown",
   "metadata": {},
   "source": [
    "### 데이터 시각화 ###"
   ]
  },
  {
   "cell_type": "code",
   "execution_count": 85,
   "metadata": {},
   "outputs": [
    {
     "data": {
      "application/vnd.plotly.v1+json": {
       "config": {
        "linkText": "Export to plot.ly",
        "plotlyServerURL": "https://plot.ly",
        "showLink": false
       },
       "data": [
        {
         "type": "bar",
         "x": [
          "2020_01",
          "2021_01",
          "2020_02",
          "2021_02",
          "2020_03",
          "2021_03"
         ],
         "y": [
          8876265,
          13978720,
          8567093,
          11881718,
          3799695,
          6405142
         ]
        }
       ],
       "layout": {
        "template": {
         "data": {
          "bar": [
           {
            "error_x": {
             "color": "#2a3f5f"
            },
            "error_y": {
             "color": "#2a3f5f"
            },
            "marker": {
             "line": {
              "color": "#E5ECF6",
              "width": 0.5
             }
            },
            "type": "bar"
           }
          ],
          "barpolar": [
           {
            "marker": {
             "line": {
              "color": "#E5ECF6",
              "width": 0.5
             }
            },
            "type": "barpolar"
           }
          ],
          "carpet": [
           {
            "aaxis": {
             "endlinecolor": "#2a3f5f",
             "gridcolor": "white",
             "linecolor": "white",
             "minorgridcolor": "white",
             "startlinecolor": "#2a3f5f"
            },
            "baxis": {
             "endlinecolor": "#2a3f5f",
             "gridcolor": "white",
             "linecolor": "white",
             "minorgridcolor": "white",
             "startlinecolor": "#2a3f5f"
            },
            "type": "carpet"
           }
          ],
          "choropleth": [
           {
            "colorbar": {
             "outlinewidth": 0,
             "ticks": ""
            },
            "type": "choropleth"
           }
          ],
          "contour": [
           {
            "colorbar": {
             "outlinewidth": 0,
             "ticks": ""
            },
            "colorscale": [
             [
              0,
              "#0d0887"
             ],
             [
              0.1111111111111111,
              "#46039f"
             ],
             [
              0.2222222222222222,
              "#7201a8"
             ],
             [
              0.3333333333333333,
              "#9c179e"
             ],
             [
              0.4444444444444444,
              "#bd3786"
             ],
             [
              0.5555555555555556,
              "#d8576b"
             ],
             [
              0.6666666666666666,
              "#ed7953"
             ],
             [
              0.7777777777777778,
              "#fb9f3a"
             ],
             [
              0.8888888888888888,
              "#fdca26"
             ],
             [
              1,
              "#f0f921"
             ]
            ],
            "type": "contour"
           }
          ],
          "contourcarpet": [
           {
            "colorbar": {
             "outlinewidth": 0,
             "ticks": ""
            },
            "type": "contourcarpet"
           }
          ],
          "heatmap": [
           {
            "colorbar": {
             "outlinewidth": 0,
             "ticks": ""
            },
            "colorscale": [
             [
              0,
              "#0d0887"
             ],
             [
              0.1111111111111111,
              "#46039f"
             ],
             [
              0.2222222222222222,
              "#7201a8"
             ],
             [
              0.3333333333333333,
              "#9c179e"
             ],
             [
              0.4444444444444444,
              "#bd3786"
             ],
             [
              0.5555555555555556,
              "#d8576b"
             ],
             [
              0.6666666666666666,
              "#ed7953"
             ],
             [
              0.7777777777777778,
              "#fb9f3a"
             ],
             [
              0.8888888888888888,
              "#fdca26"
             ],
             [
              1,
              "#f0f921"
             ]
            ],
            "type": "heatmap"
           }
          ],
          "heatmapgl": [
           {
            "colorbar": {
             "outlinewidth": 0,
             "ticks": ""
            },
            "colorscale": [
             [
              0,
              "#0d0887"
             ],
             [
              0.1111111111111111,
              "#46039f"
             ],
             [
              0.2222222222222222,
              "#7201a8"
             ],
             [
              0.3333333333333333,
              "#9c179e"
             ],
             [
              0.4444444444444444,
              "#bd3786"
             ],
             [
              0.5555555555555556,
              "#d8576b"
             ],
             [
              0.6666666666666666,
              "#ed7953"
             ],
             [
              0.7777777777777778,
              "#fb9f3a"
             ],
             [
              0.8888888888888888,
              "#fdca26"
             ],
             [
              1,
              "#f0f921"
             ]
            ],
            "type": "heatmapgl"
           }
          ],
          "histogram": [
           {
            "marker": {
             "colorbar": {
              "outlinewidth": 0,
              "ticks": ""
             }
            },
            "type": "histogram"
           }
          ],
          "histogram2d": [
           {
            "colorbar": {
             "outlinewidth": 0,
             "ticks": ""
            },
            "colorscale": [
             [
              0,
              "#0d0887"
             ],
             [
              0.1111111111111111,
              "#46039f"
             ],
             [
              0.2222222222222222,
              "#7201a8"
             ],
             [
              0.3333333333333333,
              "#9c179e"
             ],
             [
              0.4444444444444444,
              "#bd3786"
             ],
             [
              0.5555555555555556,
              "#d8576b"
             ],
             [
              0.6666666666666666,
              "#ed7953"
             ],
             [
              0.7777777777777778,
              "#fb9f3a"
             ],
             [
              0.8888888888888888,
              "#fdca26"
             ],
             [
              1,
              "#f0f921"
             ]
            ],
            "type": "histogram2d"
           }
          ],
          "histogram2dcontour": [
           {
            "colorbar": {
             "outlinewidth": 0,
             "ticks": ""
            },
            "colorscale": [
             [
              0,
              "#0d0887"
             ],
             [
              0.1111111111111111,
              "#46039f"
             ],
             [
              0.2222222222222222,
              "#7201a8"
             ],
             [
              0.3333333333333333,
              "#9c179e"
             ],
             [
              0.4444444444444444,
              "#bd3786"
             ],
             [
              0.5555555555555556,
              "#d8576b"
             ],
             [
              0.6666666666666666,
              "#ed7953"
             ],
             [
              0.7777777777777778,
              "#fb9f3a"
             ],
             [
              0.8888888888888888,
              "#fdca26"
             ],
             [
              1,
              "#f0f921"
             ]
            ],
            "type": "histogram2dcontour"
           }
          ],
          "mesh3d": [
           {
            "colorbar": {
             "outlinewidth": 0,
             "ticks": ""
            },
            "type": "mesh3d"
           }
          ],
          "parcoords": [
           {
            "line": {
             "colorbar": {
              "outlinewidth": 0,
              "ticks": ""
             }
            },
            "type": "parcoords"
           }
          ],
          "pie": [
           {
            "automargin": true,
            "type": "pie"
           }
          ],
          "scatter": [
           {
            "marker": {
             "colorbar": {
              "outlinewidth": 0,
              "ticks": ""
             }
            },
            "type": "scatter"
           }
          ],
          "scatter3d": [
           {
            "line": {
             "colorbar": {
              "outlinewidth": 0,
              "ticks": ""
             }
            },
            "marker": {
             "colorbar": {
              "outlinewidth": 0,
              "ticks": ""
             }
            },
            "type": "scatter3d"
           }
          ],
          "scattercarpet": [
           {
            "marker": {
             "colorbar": {
              "outlinewidth": 0,
              "ticks": ""
             }
            },
            "type": "scattercarpet"
           }
          ],
          "scattergeo": [
           {
            "marker": {
             "colorbar": {
              "outlinewidth": 0,
              "ticks": ""
             }
            },
            "type": "scattergeo"
           }
          ],
          "scattergl": [
           {
            "marker": {
             "colorbar": {
              "outlinewidth": 0,
              "ticks": ""
             }
            },
            "type": "scattergl"
           }
          ],
          "scattermapbox": [
           {
            "marker": {
             "colorbar": {
              "outlinewidth": 0,
              "ticks": ""
             }
            },
            "type": "scattermapbox"
           }
          ],
          "scatterpolar": [
           {
            "marker": {
             "colorbar": {
              "outlinewidth": 0,
              "ticks": ""
             }
            },
            "type": "scatterpolar"
           }
          ],
          "scatterpolargl": [
           {
            "marker": {
             "colorbar": {
              "outlinewidth": 0,
              "ticks": ""
             }
            },
            "type": "scatterpolargl"
           }
          ],
          "scatterternary": [
           {
            "marker": {
             "colorbar": {
              "outlinewidth": 0,
              "ticks": ""
             }
            },
            "type": "scatterternary"
           }
          ],
          "surface": [
           {
            "colorbar": {
             "outlinewidth": 0,
             "ticks": ""
            },
            "colorscale": [
             [
              0,
              "#0d0887"
             ],
             [
              0.1111111111111111,
              "#46039f"
             ],
             [
              0.2222222222222222,
              "#7201a8"
             ],
             [
              0.3333333333333333,
              "#9c179e"
             ],
             [
              0.4444444444444444,
              "#bd3786"
             ],
             [
              0.5555555555555556,
              "#d8576b"
             ],
             [
              0.6666666666666666,
              "#ed7953"
             ],
             [
              0.7777777777777778,
              "#fb9f3a"
             ],
             [
              0.8888888888888888,
              "#fdca26"
             ],
             [
              1,
              "#f0f921"
             ]
            ],
            "type": "surface"
           }
          ],
          "table": [
           {
            "cells": {
             "fill": {
              "color": "#EBF0F8"
             },
             "line": {
              "color": "white"
             }
            },
            "header": {
             "fill": {
              "color": "#C8D4E3"
             },
             "line": {
              "color": "white"
             }
            },
            "type": "table"
           }
          ]
         },
         "layout": {
          "annotationdefaults": {
           "arrowcolor": "#2a3f5f",
           "arrowhead": 0,
           "arrowwidth": 1
          },
          "autotypenumbers": "strict",
          "coloraxis": {
           "colorbar": {
            "outlinewidth": 0,
            "ticks": ""
           }
          },
          "colorscale": {
           "diverging": [
            [
             0,
             "#8e0152"
            ],
            [
             0.1,
             "#c51b7d"
            ],
            [
             0.2,
             "#de77ae"
            ],
            [
             0.3,
             "#f1b6da"
            ],
            [
             0.4,
             "#fde0ef"
            ],
            [
             0.5,
             "#f7f7f7"
            ],
            [
             0.6,
             "#e6f5d0"
            ],
            [
             0.7,
             "#b8e186"
            ],
            [
             0.8,
             "#7fbc41"
            ],
            [
             0.9,
             "#4d9221"
            ],
            [
             1,
             "#276419"
            ]
           ],
           "sequential": [
            [
             0,
             "#0d0887"
            ],
            [
             0.1111111111111111,
             "#46039f"
            ],
            [
             0.2222222222222222,
             "#7201a8"
            ],
            [
             0.3333333333333333,
             "#9c179e"
            ],
            [
             0.4444444444444444,
             "#bd3786"
            ],
            [
             0.5555555555555556,
             "#d8576b"
            ],
            [
             0.6666666666666666,
             "#ed7953"
            ],
            [
             0.7777777777777778,
             "#fb9f3a"
            ],
            [
             0.8888888888888888,
             "#fdca26"
            ],
            [
             1,
             "#f0f921"
            ]
           ],
           "sequentialminus": [
            [
             0,
             "#0d0887"
            ],
            [
             0.1111111111111111,
             "#46039f"
            ],
            [
             0.2222222222222222,
             "#7201a8"
            ],
            [
             0.3333333333333333,
             "#9c179e"
            ],
            [
             0.4444444444444444,
             "#bd3786"
            ],
            [
             0.5555555555555556,
             "#d8576b"
            ],
            [
             0.6666666666666666,
             "#ed7953"
            ],
            [
             0.7777777777777778,
             "#fb9f3a"
            ],
            [
             0.8888888888888888,
             "#fdca26"
            ],
            [
             1,
             "#f0f921"
            ]
           ]
          },
          "colorway": [
           "#636efa",
           "#EF553B",
           "#00cc96",
           "#ab63fa",
           "#FFA15A",
           "#19d3f3",
           "#FF6692",
           "#B6E880",
           "#FF97FF",
           "#FECB52"
          ],
          "font": {
           "color": "#2a3f5f"
          },
          "geo": {
           "bgcolor": "white",
           "lakecolor": "white",
           "landcolor": "#E5ECF6",
           "showlakes": true,
           "showland": true,
           "subunitcolor": "white"
          },
          "hoverlabel": {
           "align": "left"
          },
          "hovermode": "closest",
          "mapbox": {
           "style": "light"
          },
          "paper_bgcolor": "white",
          "plot_bgcolor": "#E5ECF6",
          "polar": {
           "angularaxis": {
            "gridcolor": "white",
            "linecolor": "white",
            "ticks": ""
           },
           "bgcolor": "#E5ECF6",
           "radialaxis": {
            "gridcolor": "white",
            "linecolor": "white",
            "ticks": ""
           }
          },
          "scene": {
           "xaxis": {
            "backgroundcolor": "#E5ECF6",
            "gridcolor": "white",
            "gridwidth": 2,
            "linecolor": "white",
            "showbackground": true,
            "ticks": "",
            "zerolinecolor": "white"
           },
           "yaxis": {
            "backgroundcolor": "#E5ECF6",
            "gridcolor": "white",
            "gridwidth": 2,
            "linecolor": "white",
            "showbackground": true,
            "ticks": "",
            "zerolinecolor": "white"
           },
           "zaxis": {
            "backgroundcolor": "#E5ECF6",
            "gridcolor": "white",
            "gridwidth": 2,
            "linecolor": "white",
            "showbackground": true,
            "ticks": "",
            "zerolinecolor": "white"
           }
          },
          "shapedefaults": {
           "line": {
            "color": "#2a3f5f"
           }
          },
          "ternary": {
           "aaxis": {
            "gridcolor": "white",
            "linecolor": "white",
            "ticks": ""
           },
           "baxis": {
            "gridcolor": "white",
            "linecolor": "white",
            "ticks": ""
           },
           "bgcolor": "#E5ECF6",
           "caxis": {
            "gridcolor": "white",
            "linecolor": "white",
            "ticks": ""
           }
          },
          "title": {
           "x": 0.05
          },
          "xaxis": {
           "automargin": true,
           "gridcolor": "white",
           "linecolor": "white",
           "ticks": "",
           "title": {
            "standoff": 15
           },
           "zerolinecolor": "white",
           "zerolinewidth": 2
          },
          "yaxis": {
           "automargin": true,
           "gridcolor": "white",
           "linecolor": "white",
           "ticks": "",
           "title": {
            "standoff": 15
           },
           "zerolinecolor": "white",
           "zerolinewidth": 2
          }
         }
        },
        "title": {
         "text": "2020 vs 2021 1~3월 대파 총 거래량 비교"
        }
       }
      },
      "text/html": [
       "<div>                            <div id=\"e0742a8f-731b-4e7e-bce9-a5f9b14d0a90\" class=\"plotly-graph-div\" style=\"height:525px; width:100%;\"></div>            <script type=\"text/javascript\">                require([\"plotly\"], function(Plotly) {                    window.PLOTLYENV=window.PLOTLYENV || {};                                    if (document.getElementById(\"e0742a8f-731b-4e7e-bce9-a5f9b14d0a90\")) {                    Plotly.newPlot(                        \"e0742a8f-731b-4e7e-bce9-a5f9b14d0a90\",                        [{\"type\": \"bar\", \"x\": [\"2020_01\", \"2021_01\", \"2020_02\", \"2021_02\", \"2020_03\", \"2021_03\"], \"y\": [8876265.0, 13978720.0, 8567093.0, 11881718.0, 3799695.0, 6405142.0]}],                        {\"template\": {\"data\": {\"bar\": [{\"error_x\": {\"color\": \"#2a3f5f\"}, \"error_y\": {\"color\": \"#2a3f5f\"}, \"marker\": {\"line\": {\"color\": \"#E5ECF6\", \"width\": 0.5}}, \"type\": \"bar\"}], \"barpolar\": [{\"marker\": {\"line\": {\"color\": \"#E5ECF6\", \"width\": 0.5}}, \"type\": \"barpolar\"}], \"carpet\": [{\"aaxis\": {\"endlinecolor\": \"#2a3f5f\", \"gridcolor\": \"white\", \"linecolor\": \"white\", \"minorgridcolor\": \"white\", \"startlinecolor\": \"#2a3f5f\"}, \"baxis\": {\"endlinecolor\": \"#2a3f5f\", \"gridcolor\": \"white\", \"linecolor\": \"white\", \"minorgridcolor\": \"white\", \"startlinecolor\": \"#2a3f5f\"}, \"type\": \"carpet\"}], \"choropleth\": [{\"colorbar\": {\"outlinewidth\": 0, \"ticks\": \"\"}, \"type\": \"choropleth\"}], \"contour\": [{\"colorbar\": {\"outlinewidth\": 0, \"ticks\": \"\"}, \"colorscale\": [[0.0, \"#0d0887\"], [0.1111111111111111, \"#46039f\"], [0.2222222222222222, \"#7201a8\"], [0.3333333333333333, \"#9c179e\"], [0.4444444444444444, \"#bd3786\"], [0.5555555555555556, \"#d8576b\"], [0.6666666666666666, \"#ed7953\"], [0.7777777777777778, \"#fb9f3a\"], [0.8888888888888888, \"#fdca26\"], [1.0, \"#f0f921\"]], \"type\": \"contour\"}], \"contourcarpet\": [{\"colorbar\": {\"outlinewidth\": 0, \"ticks\": \"\"}, \"type\": \"contourcarpet\"}], \"heatmap\": [{\"colorbar\": {\"outlinewidth\": 0, \"ticks\": \"\"}, \"colorscale\": [[0.0, \"#0d0887\"], [0.1111111111111111, \"#46039f\"], [0.2222222222222222, \"#7201a8\"], [0.3333333333333333, \"#9c179e\"], [0.4444444444444444, \"#bd3786\"], [0.5555555555555556, \"#d8576b\"], [0.6666666666666666, \"#ed7953\"], [0.7777777777777778, \"#fb9f3a\"], [0.8888888888888888, \"#fdca26\"], [1.0, \"#f0f921\"]], \"type\": \"heatmap\"}], \"heatmapgl\": [{\"colorbar\": {\"outlinewidth\": 0, \"ticks\": \"\"}, \"colorscale\": [[0.0, \"#0d0887\"], [0.1111111111111111, \"#46039f\"], [0.2222222222222222, \"#7201a8\"], [0.3333333333333333, \"#9c179e\"], [0.4444444444444444, \"#bd3786\"], [0.5555555555555556, \"#d8576b\"], [0.6666666666666666, \"#ed7953\"], [0.7777777777777778, \"#fb9f3a\"], [0.8888888888888888, \"#fdca26\"], [1.0, \"#f0f921\"]], \"type\": \"heatmapgl\"}], \"histogram\": [{\"marker\": {\"colorbar\": {\"outlinewidth\": 0, \"ticks\": \"\"}}, \"type\": \"histogram\"}], \"histogram2d\": [{\"colorbar\": {\"outlinewidth\": 0, \"ticks\": \"\"}, \"colorscale\": [[0.0, \"#0d0887\"], [0.1111111111111111, \"#46039f\"], [0.2222222222222222, \"#7201a8\"], [0.3333333333333333, \"#9c179e\"], [0.4444444444444444, \"#bd3786\"], [0.5555555555555556, \"#d8576b\"], [0.6666666666666666, \"#ed7953\"], [0.7777777777777778, \"#fb9f3a\"], [0.8888888888888888, \"#fdca26\"], [1.0, \"#f0f921\"]], \"type\": \"histogram2d\"}], \"histogram2dcontour\": [{\"colorbar\": {\"outlinewidth\": 0, \"ticks\": \"\"}, \"colorscale\": [[0.0, \"#0d0887\"], [0.1111111111111111, \"#46039f\"], [0.2222222222222222, \"#7201a8\"], [0.3333333333333333, \"#9c179e\"], [0.4444444444444444, \"#bd3786\"], [0.5555555555555556, \"#d8576b\"], [0.6666666666666666, \"#ed7953\"], [0.7777777777777778, \"#fb9f3a\"], [0.8888888888888888, \"#fdca26\"], [1.0, \"#f0f921\"]], \"type\": \"histogram2dcontour\"}], \"mesh3d\": [{\"colorbar\": {\"outlinewidth\": 0, \"ticks\": \"\"}, \"type\": \"mesh3d\"}], \"parcoords\": [{\"line\": {\"colorbar\": {\"outlinewidth\": 0, \"ticks\": \"\"}}, \"type\": \"parcoords\"}], \"pie\": [{\"automargin\": true, \"type\": \"pie\"}], \"scatter\": [{\"marker\": {\"colorbar\": {\"outlinewidth\": 0, \"ticks\": \"\"}}, \"type\": \"scatter\"}], \"scatter3d\": [{\"line\": {\"colorbar\": {\"outlinewidth\": 0, \"ticks\": \"\"}}, \"marker\": {\"colorbar\": {\"outlinewidth\": 0, \"ticks\": \"\"}}, \"type\": \"scatter3d\"}], \"scattercarpet\": [{\"marker\": {\"colorbar\": {\"outlinewidth\": 0, \"ticks\": \"\"}}, \"type\": \"scattercarpet\"}], \"scattergeo\": [{\"marker\": {\"colorbar\": {\"outlinewidth\": 0, \"ticks\": \"\"}}, \"type\": \"scattergeo\"}], \"scattergl\": [{\"marker\": {\"colorbar\": {\"outlinewidth\": 0, \"ticks\": \"\"}}, \"type\": \"scattergl\"}], \"scattermapbox\": [{\"marker\": {\"colorbar\": {\"outlinewidth\": 0, \"ticks\": \"\"}}, \"type\": \"scattermapbox\"}], \"scatterpolar\": [{\"marker\": {\"colorbar\": {\"outlinewidth\": 0, \"ticks\": \"\"}}, \"type\": \"scatterpolar\"}], \"scatterpolargl\": [{\"marker\": {\"colorbar\": {\"outlinewidth\": 0, \"ticks\": \"\"}}, \"type\": \"scatterpolargl\"}], \"scatterternary\": [{\"marker\": {\"colorbar\": {\"outlinewidth\": 0, \"ticks\": \"\"}}, \"type\": \"scatterternary\"}], \"surface\": [{\"colorbar\": {\"outlinewidth\": 0, \"ticks\": \"\"}, \"colorscale\": [[0.0, \"#0d0887\"], [0.1111111111111111, \"#46039f\"], [0.2222222222222222, \"#7201a8\"], [0.3333333333333333, \"#9c179e\"], [0.4444444444444444, \"#bd3786\"], [0.5555555555555556, \"#d8576b\"], [0.6666666666666666, \"#ed7953\"], [0.7777777777777778, \"#fb9f3a\"], [0.8888888888888888, \"#fdca26\"], [1.0, \"#f0f921\"]], \"type\": \"surface\"}], \"table\": [{\"cells\": {\"fill\": {\"color\": \"#EBF0F8\"}, \"line\": {\"color\": \"white\"}}, \"header\": {\"fill\": {\"color\": \"#C8D4E3\"}, \"line\": {\"color\": \"white\"}}, \"type\": \"table\"}]}, \"layout\": {\"annotationdefaults\": {\"arrowcolor\": \"#2a3f5f\", \"arrowhead\": 0, \"arrowwidth\": 1}, \"autotypenumbers\": \"strict\", \"coloraxis\": {\"colorbar\": {\"outlinewidth\": 0, \"ticks\": \"\"}}, \"colorscale\": {\"diverging\": [[0, \"#8e0152\"], [0.1, \"#c51b7d\"], [0.2, \"#de77ae\"], [0.3, \"#f1b6da\"], [0.4, \"#fde0ef\"], [0.5, \"#f7f7f7\"], [0.6, \"#e6f5d0\"], [0.7, \"#b8e186\"], [0.8, \"#7fbc41\"], [0.9, \"#4d9221\"], [1, \"#276419\"]], \"sequential\": [[0.0, \"#0d0887\"], [0.1111111111111111, \"#46039f\"], [0.2222222222222222, \"#7201a8\"], [0.3333333333333333, \"#9c179e\"], [0.4444444444444444, \"#bd3786\"], [0.5555555555555556, \"#d8576b\"], [0.6666666666666666, \"#ed7953\"], [0.7777777777777778, \"#fb9f3a\"], [0.8888888888888888, \"#fdca26\"], [1.0, \"#f0f921\"]], \"sequentialminus\": [[0.0, \"#0d0887\"], [0.1111111111111111, \"#46039f\"], [0.2222222222222222, \"#7201a8\"], [0.3333333333333333, \"#9c179e\"], [0.4444444444444444, \"#bd3786\"], [0.5555555555555556, \"#d8576b\"], [0.6666666666666666, \"#ed7953\"], [0.7777777777777778, \"#fb9f3a\"], [0.8888888888888888, \"#fdca26\"], [1.0, \"#f0f921\"]]}, \"colorway\": [\"#636efa\", \"#EF553B\", \"#00cc96\", \"#ab63fa\", \"#FFA15A\", \"#19d3f3\", \"#FF6692\", \"#B6E880\", \"#FF97FF\", \"#FECB52\"], \"font\": {\"color\": \"#2a3f5f\"}, \"geo\": {\"bgcolor\": \"white\", \"lakecolor\": \"white\", \"landcolor\": \"#E5ECF6\", \"showlakes\": true, \"showland\": true, \"subunitcolor\": \"white\"}, \"hoverlabel\": {\"align\": \"left\"}, \"hovermode\": \"closest\", \"mapbox\": {\"style\": \"light\"}, \"paper_bgcolor\": \"white\", \"plot_bgcolor\": \"#E5ECF6\", \"polar\": {\"angularaxis\": {\"gridcolor\": \"white\", \"linecolor\": \"white\", \"ticks\": \"\"}, \"bgcolor\": \"#E5ECF6\", \"radialaxis\": {\"gridcolor\": \"white\", \"linecolor\": \"white\", \"ticks\": \"\"}}, \"scene\": {\"xaxis\": {\"backgroundcolor\": \"#E5ECF6\", \"gridcolor\": \"white\", \"gridwidth\": 2, \"linecolor\": \"white\", \"showbackground\": true, \"ticks\": \"\", \"zerolinecolor\": \"white\"}, \"yaxis\": {\"backgroundcolor\": \"#E5ECF6\", \"gridcolor\": \"white\", \"gridwidth\": 2, \"linecolor\": \"white\", \"showbackground\": true, \"ticks\": \"\", \"zerolinecolor\": \"white\"}, \"zaxis\": {\"backgroundcolor\": \"#E5ECF6\", \"gridcolor\": \"white\", \"gridwidth\": 2, \"linecolor\": \"white\", \"showbackground\": true, \"ticks\": \"\", \"zerolinecolor\": \"white\"}}, \"shapedefaults\": {\"line\": {\"color\": \"#2a3f5f\"}}, \"ternary\": {\"aaxis\": {\"gridcolor\": \"white\", \"linecolor\": \"white\", \"ticks\": \"\"}, \"baxis\": {\"gridcolor\": \"white\", \"linecolor\": \"white\", \"ticks\": \"\"}, \"bgcolor\": \"#E5ECF6\", \"caxis\": {\"gridcolor\": \"white\", \"linecolor\": \"white\", \"ticks\": \"\"}}, \"title\": {\"x\": 0.05}, \"xaxis\": {\"automargin\": true, \"gridcolor\": \"white\", \"linecolor\": \"white\", \"ticks\": \"\", \"title\": {\"standoff\": 15}, \"zerolinecolor\": \"white\", \"zerolinewidth\": 2}, \"yaxis\": {\"automargin\": true, \"gridcolor\": \"white\", \"linecolor\": \"white\", \"ticks\": \"\", \"title\": {\"standoff\": 15}, \"zerolinecolor\": \"white\", \"zerolinewidth\": 2}}}, \"title\": {\"text\": \"2020 vs 2021 1~3\\uc6d4 \\ub300\\ud30c \\ucd1d \\uac70\\ub798\\ub7c9 \\ube44\\uad50\"}},                        {\"responsive\": true}                    ).then(function(){\n",
       "                            \n",
       "var gd = document.getElementById('e0742a8f-731b-4e7e-bce9-a5f9b14d0a90');\n",
       "var x = new MutationObserver(function (mutations, observer) {{\n",
       "        var display = window.getComputedStyle(gd).display;\n",
       "        if (!display || display === 'none') {{\n",
       "            console.log([gd, 'removed!']);\n",
       "            Plotly.purge(gd);\n",
       "            observer.disconnect();\n",
       "        }}\n",
       "}});\n",
       "\n",
       "// Listen for the removal of the full notebook cells\n",
       "var notebookContainer = gd.closest('#notebook-container');\n",
       "if (notebookContainer) {{\n",
       "    x.observe(notebookContainer, {childList: true});\n",
       "}}\n",
       "\n",
       "// Listen for the clearing of the current output cell\n",
       "var outputEl = gd.closest('.output');\n",
       "if (outputEl) {{\n",
       "    x.observe(outputEl, {childList: true});\n",
       "}}\n",
       "\n",
       "                        })                };                });            </script>        </div>"
      ]
     },
     "metadata": {},
     "output_type": "display_data"
    }
   ],
   "source": [
    "import plotly.offline as pyo\n",
    "import plotly.graph_objs as go\n",
    "\n",
    "trace = go.Bar(x=result2['index'], y=result2['거래량'])\n",
    "data = [trace]\n",
    "layout = go.Layout(title='2020 vs 2021 1~3월 대파 총 거래량 비교')\n",
    "fig = go.Figure(data=data, layout=layout)\n",
    "pyo.iplot(fig)\n"
   ]
  },
  {
   "cell_type": "code",
   "execution_count": null,
   "metadata": {},
   "outputs": [],
   "source": []
  }
 ],
 "metadata": {
  "kernelspec": {
   "display_name": "pydata",
   "language": "python",
   "name": "pydata"
  },
  "language_info": {
   "codemirror_mode": {
    "name": "ipython",
    "version": 3
   },
   "file_extension": ".py",
   "mimetype": "text/x-python",
   "name": "python",
   "nbconvert_exporter": "python",
   "pygments_lexer": "ipython3",
   "version": "3.7.10"
  }
 },
 "nbformat": 4,
 "nbformat_minor": 4
}
