{
 "cells": [
  {
   "cell_type": "code",
   "execution_count": 7,
   "metadata": {},
   "outputs": [],
   "source": [
    "import numpy as np\n",
    "import pandas as pd\n",
    "import os\n",
    "import warnings\n",
    "os.chdir(os.getcwd())\n",
    "warnings.filterwarnings(action='ignore')\n",
    "#경고 메시지 숨기기"
   ]
  },
  {
   "cell_type": "markdown",
   "metadata": {},
   "source": [
    "### 2020/2021 1~3월 데이터 불러오기 ###"
   ]
  },
  {
   "cell_type": "code",
   "execution_count": 8,
   "metadata": {
    "scrolled": true
   },
   "outputs": [],
   "source": [
    "#Csv파일 불러오기\n",
    "Jan20 = pd.read_csv('./202001.csv', encoding='utf-8-sig')\n",
    "Jan21 = pd.read_csv('./202101.csv', encoding='utf-8-sig')\n",
    "Feb20 = pd.read_csv('./202002.csv', encoding='utf-8-sig')\n",
    "Feb21 = pd.read_csv('./202102.csv', encoding='utf-8-sig')\n",
    "Mar20 = pd.read_csv('./202003.csv', encoding='utf-8-sig')\n",
    "Mar21 = pd.read_csv('./202103.csv', encoding='utf-8-sig')"
   ]
  },
  {
   "cell_type": "markdown",
   "metadata": {},
   "source": [
    "### 2020/2021 1~3월 데이터 산지별 거래량 합계 전처리 ###"
   ]
  },
  {
   "cell_type": "code",
   "execution_count": 9,
   "metadata": {},
   "outputs": [
    {
     "data": {
      "text/plain": "          산지명     거래량\n0         강원도    3915\n1     강원도 강릉시   46925\n2     강원도 동해시   10946\n3     강원도 원주시    6382\n4     강원도 인제군   70467\n..        ...     ...\n147  충청북도 음성군      78\n148  충청북도 제천시   10625\n149  충청북도 진천군     591\n150  충청북도 청주시  292296\n151  충청북도 충주시   54295\n\n[152 rows x 2 columns]",
      "text/html": "<div>\n<style scoped>\n    .dataframe tbody tr th:only-of-type {\n        vertical-align: middle;\n    }\n\n    .dataframe tbody tr th {\n        vertical-align: top;\n    }\n\n    .dataframe thead th {\n        text-align: right;\n    }\n</style>\n<table border=\"1\" class=\"dataframe\">\n  <thead>\n    <tr style=\"text-align: right;\">\n      <th></th>\n      <th>산지명</th>\n      <th>거래량</th>\n    </tr>\n  </thead>\n  <tbody>\n    <tr>\n      <th>0</th>\n      <td>강원도</td>\n      <td>3915</td>\n    </tr>\n    <tr>\n      <th>1</th>\n      <td>강원도 강릉시</td>\n      <td>46925</td>\n    </tr>\n    <tr>\n      <th>2</th>\n      <td>강원도 동해시</td>\n      <td>10946</td>\n    </tr>\n    <tr>\n      <th>3</th>\n      <td>강원도 원주시</td>\n      <td>6382</td>\n    </tr>\n    <tr>\n      <th>4</th>\n      <td>강원도 인제군</td>\n      <td>70467</td>\n    </tr>\n    <tr>\n      <th>...</th>\n      <td>...</td>\n      <td>...</td>\n    </tr>\n    <tr>\n      <th>147</th>\n      <td>충청북도 음성군</td>\n      <td>78</td>\n    </tr>\n    <tr>\n      <th>148</th>\n      <td>충청북도 제천시</td>\n      <td>10625</td>\n    </tr>\n    <tr>\n      <th>149</th>\n      <td>충청북도 진천군</td>\n      <td>591</td>\n    </tr>\n    <tr>\n      <th>150</th>\n      <td>충청북도 청주시</td>\n      <td>292296</td>\n    </tr>\n    <tr>\n      <th>151</th>\n      <td>충청북도 충주시</td>\n      <td>54295</td>\n    </tr>\n  </tbody>\n</table>\n<p>152 rows × 2 columns</p>\n</div>"
     },
     "execution_count": 9,
     "metadata": {},
     "output_type": "execute_result"
    }
   ],
   "source": [
    "sum_trading_volume = Jan20.groupby(Jan20['산지명'])['거래량'].sum().reset_index()\n",
    "#20산지 별 거래량 합계\n",
    "sum_trading_volume"
   ]
  },
  {
   "cell_type": "code",
   "execution_count": 10,
   "metadata": {},
   "outputs": [
    {
     "data": {
      "text/plain": "     index       산지명      거래량\n0      109  전라남도 진도군  2049449\n1      102  전라남도 신안군  1607819\n2       11   경기도 구리시   364288\n3       70     부산광역시   317795\n4      150  충청북도 청주시   292296\n..     ...       ...      ...\n147    121  전라북도 임실군       70\n148    108  전라남도 장흥군       43\n149     29  경상남도 거창군       40\n150     31  경상남도 남해군       40\n151    134  충청남도 보령시       36\n\n[152 rows x 3 columns]",
      "text/html": "<div>\n<style scoped>\n    .dataframe tbody tr th:only-of-type {\n        vertical-align: middle;\n    }\n\n    .dataframe tbody tr th {\n        vertical-align: top;\n    }\n\n    .dataframe thead th {\n        text-align: right;\n    }\n</style>\n<table border=\"1\" class=\"dataframe\">\n  <thead>\n    <tr style=\"text-align: right;\">\n      <th></th>\n      <th>index</th>\n      <th>산지명</th>\n      <th>거래량</th>\n    </tr>\n  </thead>\n  <tbody>\n    <tr>\n      <th>0</th>\n      <td>109</td>\n      <td>전라남도 진도군</td>\n      <td>2049449</td>\n    </tr>\n    <tr>\n      <th>1</th>\n      <td>102</td>\n      <td>전라남도 신안군</td>\n      <td>1607819</td>\n    </tr>\n    <tr>\n      <th>2</th>\n      <td>11</td>\n      <td>경기도 구리시</td>\n      <td>364288</td>\n    </tr>\n    <tr>\n      <th>3</th>\n      <td>70</td>\n      <td>부산광역시</td>\n      <td>317795</td>\n    </tr>\n    <tr>\n      <th>4</th>\n      <td>150</td>\n      <td>충청북도 청주시</td>\n      <td>292296</td>\n    </tr>\n    <tr>\n      <th>...</th>\n      <td>...</td>\n      <td>...</td>\n      <td>...</td>\n    </tr>\n    <tr>\n      <th>147</th>\n      <td>121</td>\n      <td>전라북도 임실군</td>\n      <td>70</td>\n    </tr>\n    <tr>\n      <th>148</th>\n      <td>108</td>\n      <td>전라남도 장흥군</td>\n      <td>43</td>\n    </tr>\n    <tr>\n      <th>149</th>\n      <td>29</td>\n      <td>경상남도 거창군</td>\n      <td>40</td>\n    </tr>\n    <tr>\n      <th>150</th>\n      <td>31</td>\n      <td>경상남도 남해군</td>\n      <td>40</td>\n    </tr>\n    <tr>\n      <th>151</th>\n      <td>134</td>\n      <td>충청남도 보령시</td>\n      <td>36</td>\n    </tr>\n  </tbody>\n</table>\n<p>152 rows × 3 columns</p>\n</div>"
     },
     "execution_count": 10,
     "metadata": {},
     "output_type": "execute_result"
    }
   ],
   "source": [
    "asc_df_MTV = sum_trading_volume.sort_values('거래량', ascending=False).reset_index()\n",
    "asc_df_MTV"
   ]
  },
  {
   "cell_type": "code",
   "execution_count": 11,
   "metadata": {},
   "outputs": [
    {
     "data": {
      "text/plain": "index                                                11476\n산지명      전라남도 진도군전라남도 신안군경기도 구리시부산광역시충청북도 청주시전라남도 영광군전라...\n거래량                                                8876265\ndtype: object"
     },
     "execution_count": 11,
     "metadata": {},
     "output_type": "execute_result"
    }
   ],
   "source": [
    "asc_df_MTV.sum()"
   ]
  },
  {
   "cell_type": "code",
   "execution_count": 12,
   "metadata": {},
   "outputs": [],
   "source": [
    "asc_df_MTV.loc[\"Total\", :] = asc_df_MTV.sum()\n",
    "#거래량 합계 total 행 추가"
   ]
  },
  {
   "cell_type": "code",
   "execution_count": 13,
   "metadata": {
    "scrolled": true
   },
   "outputs": [
    {
     "data": {
      "text/plain": "         index                                                산지명        거래량\n0        109.0                                           전라남도 진도군  2049449.0\n1        102.0                                           전라남도 신안군  1607819.0\n2         11.0                                            경기도 구리시   364288.0\n3         70.0                                              부산광역시   317795.0\n4        150.0                                           충청북도 청주시   292296.0\n...        ...                                                ...        ...\n148      108.0                                           전라남도 장흥군       43.0\n149       29.0                                           경상남도 거창군       40.0\n150       31.0                                           경상남도 남해군       40.0\n151      134.0                                           충청남도 보령시       36.0\nTotal  11476.0  전라남도 진도군전라남도 신안군경기도 구리시부산광역시충청북도 청주시전라남도 영광군전라...  8876265.0\n\n[153 rows x 3 columns]",
      "text/html": "<div>\n<style scoped>\n    .dataframe tbody tr th:only-of-type {\n        vertical-align: middle;\n    }\n\n    .dataframe tbody tr th {\n        vertical-align: top;\n    }\n\n    .dataframe thead th {\n        text-align: right;\n    }\n</style>\n<table border=\"1\" class=\"dataframe\">\n  <thead>\n    <tr style=\"text-align: right;\">\n      <th></th>\n      <th>index</th>\n      <th>산지명</th>\n      <th>거래량</th>\n    </tr>\n  </thead>\n  <tbody>\n    <tr>\n      <th>0</th>\n      <td>109.0</td>\n      <td>전라남도 진도군</td>\n      <td>2049449.0</td>\n    </tr>\n    <tr>\n      <th>1</th>\n      <td>102.0</td>\n      <td>전라남도 신안군</td>\n      <td>1607819.0</td>\n    </tr>\n    <tr>\n      <th>2</th>\n      <td>11.0</td>\n      <td>경기도 구리시</td>\n      <td>364288.0</td>\n    </tr>\n    <tr>\n      <th>3</th>\n      <td>70.0</td>\n      <td>부산광역시</td>\n      <td>317795.0</td>\n    </tr>\n    <tr>\n      <th>4</th>\n      <td>150.0</td>\n      <td>충청북도 청주시</td>\n      <td>292296.0</td>\n    </tr>\n    <tr>\n      <th>...</th>\n      <td>...</td>\n      <td>...</td>\n      <td>...</td>\n    </tr>\n    <tr>\n      <th>148</th>\n      <td>108.0</td>\n      <td>전라남도 장흥군</td>\n      <td>43.0</td>\n    </tr>\n    <tr>\n      <th>149</th>\n      <td>29.0</td>\n      <td>경상남도 거창군</td>\n      <td>40.0</td>\n    </tr>\n    <tr>\n      <th>150</th>\n      <td>31.0</td>\n      <td>경상남도 남해군</td>\n      <td>40.0</td>\n    </tr>\n    <tr>\n      <th>151</th>\n      <td>134.0</td>\n      <td>충청남도 보령시</td>\n      <td>36.0</td>\n    </tr>\n    <tr>\n      <th>Total</th>\n      <td>11476.0</td>\n      <td>전라남도 진도군전라남도 신안군경기도 구리시부산광역시충청북도 청주시전라남도 영광군전라...</td>\n      <td>8876265.0</td>\n    </tr>\n  </tbody>\n</table>\n<p>153 rows × 3 columns</p>\n</div>"
     },
     "execution_count": 13,
     "metadata": {},
     "output_type": "execute_result"
    }
   ],
   "source": [
    "asc_df_MTV"
   ]
  },
  {
   "cell_type": "code",
   "execution_count": 14,
   "metadata": {},
   "outputs": [],
   "source": [
    "Total_trading1 = asc_df_MTV.iloc[[-1], :]\n",
    "#total행 선택"
   ]
  },
  {
   "cell_type": "code",
   "execution_count": 15,
   "metadata": {},
   "outputs": [],
   "source": [
    "Total_trading1.rename(index={'Total':'2020_01'}, inplace=True)\n",
    "#total행 이름 변경"
   ]
  },
  {
   "cell_type": "code",
   "execution_count": 16,
   "metadata": {},
   "outputs": [
    {
     "data": {
      "text/plain": "           index                                                산지명        거래량\n2020_01  11476.0  전라남도 진도군전라남도 신안군경기도 구리시부산광역시충청북도 청주시전라남도 영광군전라...  8876265.0",
      "text/html": "<div>\n<style scoped>\n    .dataframe tbody tr th:only-of-type {\n        vertical-align: middle;\n    }\n\n    .dataframe tbody tr th {\n        vertical-align: top;\n    }\n\n    .dataframe thead th {\n        text-align: right;\n    }\n</style>\n<table border=\"1\" class=\"dataframe\">\n  <thead>\n    <tr style=\"text-align: right;\">\n      <th></th>\n      <th>index</th>\n      <th>산지명</th>\n      <th>거래량</th>\n    </tr>\n  </thead>\n  <tbody>\n    <tr>\n      <th>2020_01</th>\n      <td>11476.0</td>\n      <td>전라남도 진도군전라남도 신안군경기도 구리시부산광역시충청북도 청주시전라남도 영광군전라...</td>\n      <td>8876265.0</td>\n    </tr>\n  </tbody>\n</table>\n</div>"
     },
     "execution_count": 16,
     "metadata": {},
     "output_type": "execute_result"
    }
   ],
   "source": [
    "Total_trading1"
   ]
  },
  {
   "cell_type": "code",
   "execution_count": 17,
   "metadata": {},
   "outputs": [
    {
     "ename": "NameError",
     "evalue": "name 'asc_df_MTV2' is not defined",
     "output_type": "error",
     "traceback": [
      "\u001B[0;31m---------------------------------------------------------------------------\u001B[0m",
      "\u001B[0;31mNameError\u001B[0m                                 Traceback (most recent call last)",
      "\u001B[0;32m<ipython-input-17-2c6885c06cce>\u001B[0m in \u001B[0;36m<module>\u001B[0;34m\u001B[0m\n\u001B[0;32m----> 1\u001B[0;31m \u001B[0mTotal_trading2\u001B[0m \u001B[0;34m=\u001B[0m \u001B[0masc_df_MTV2\u001B[0m\u001B[0;34m.\u001B[0m\u001B[0miloc\u001B[0m\u001B[0;34m[\u001B[0m\u001B[0;34m[\u001B[0m\u001B[0;34m-\u001B[0m\u001B[0;36m1\u001B[0m\u001B[0;34m]\u001B[0m\u001B[0;34m,\u001B[0m \u001B[0;34m:\u001B[0m\u001B[0;34m]\u001B[0m\u001B[0;34m\u001B[0m\u001B[0;34m\u001B[0m\u001B[0m\n\u001B[0m\u001B[1;32m      2\u001B[0m \u001B[0;34m\u001B[0m\u001B[0m\n",
      "\u001B[0;31mNameError\u001B[0m: name 'asc_df_MTV2' is not defined"
     ]
    }
   ],
   "source": [
    "Total_trading2 = asc_df_MTV2.iloc[[-1], :]"
   ]
  },
  {
   "cell_type": "code",
   "execution_count": null,
   "metadata": {},
   "outputs": [],
   "source": [
    "Total_trading2.rename(index={'Total':'2021_01'}, inplace=True)"
   ]
  },
  {
   "cell_type": "code",
   "execution_count": null,
   "metadata": {},
   "outputs": [],
   "source": [
    "Total_trading2"
   ]
  },
  {
   "cell_type": "code",
   "execution_count": null,
   "metadata": {},
   "outputs": [],
   "source": [
    "Total_trading3 = asc_df_MTV3.iloc[[-1], :]"
   ]
  },
  {
   "cell_type": "code",
   "execution_count": null,
   "metadata": {},
   "outputs": [],
   "source": [
    "Total_trading3.rename(index={'Total':'2020_02'}, inplace=True)"
   ]
  },
  {
   "cell_type": "code",
   "execution_count": null,
   "metadata": {},
   "outputs": [],
   "source": [
    "Total_trading3"
   ]
  },
  {
   "cell_type": "code",
   "execution_count": null,
   "metadata": {},
   "outputs": [],
   "source": [
    "Total_trading4 = asc_df_MTV4.iloc[[-1], :]"
   ]
  },
  {
   "cell_type": "code",
   "execution_count": null,
   "metadata": {},
   "outputs": [],
   "source": [
    "Total_trading4.rename(index={'Total':'2021_02'}, inplace=True)"
   ]
  },
  {
   "cell_type": "code",
   "execution_count": null,
   "metadata": {},
   "outputs": [],
   "source": [
    "Total_trading4"
   ]
  },
  {
   "cell_type": "code",
   "execution_count": null,
   "metadata": {},
   "outputs": [],
   "source": [
    "Total_trading5 = asc_df_MTV5.iloc[[-1], :]"
   ]
  },
  {
   "cell_type": "code",
   "execution_count": null,
   "metadata": {},
   "outputs": [],
   "source": [
    "Total_trading5.rename(index={'Total':'2020_03'}, inplace=True)"
   ]
  },
  {
   "cell_type": "code",
   "execution_count": null,
   "metadata": {},
   "outputs": [],
   "source": [
    "Total_trading5"
   ]
  },
  {
   "cell_type": "code",
   "execution_count": null,
   "metadata": {},
   "outputs": [],
   "source": [
    "Total_trading6 = asc_df_MTV6.iloc[[-1], :]"
   ]
  },
  {
   "cell_type": "code",
   "execution_count": null,
   "metadata": {},
   "outputs": [],
   "source": [
    "Total_trading6.rename(index={'Total':'2021_03'}, inplace=True)"
   ]
  },
  {
   "cell_type": "code",
   "execution_count": null,
   "metadata": {},
   "outputs": [],
   "source": [
    "Total_trading6"
   ]
  },
  {
   "cell_type": "code",
   "execution_count": null,
   "metadata": {},
   "outputs": [],
   "source": [
    "#각 연월 거래량 합계 merge\n",
    "result = pd.concat([Total_trading1,Total_trading2,Total_trading3,Total_trading4,Total_trading5,Total_trading6])"
   ]
  },
  {
   "cell_type": "code",
   "execution_count": null,
   "metadata": {},
   "outputs": [],
   "source": [
    "result"
   ]
  },
  {
   "cell_type": "code",
   "execution_count": null,
   "metadata": {},
   "outputs": [],
   "source": [
    "#시각화하기 위한 index 설정\n",
    "result2 = result.reset_index()"
   ]
  },
  {
   "cell_type": "code",
   "execution_count": null,
   "metadata": {},
   "outputs": [],
   "source": [
    "result2 #시각화 최종 데이터 "
   ]
  },
  {
   "cell_type": "markdown",
   "metadata": {},
   "source": [
    "### 꺾은 선 막대그래프 시각화로 변경하기 위한 데이터 프레임 수정 ###"
   ]
  },
  {
   "cell_type": "code",
   "execution_count": null,
   "metadata": {},
   "outputs": [],
   "source": [
    "result2.drop(['index','산지명'], axis=1, inplace=True)#필요없는 칼럼 삭제"
   ]
  },
  {
   "cell_type": "code",
   "execution_count": null,
   "metadata": {},
   "outputs": [],
   "source": [
    "result2[\"2021\"] = 6 # 컬럼 추가"
   ]
  },
  {
   "cell_type": "code",
   "execution_count": null,
   "metadata": {},
   "outputs": [],
   "source": [
    "result2"
   ]
  },
  {
   "cell_type": "code",
   "execution_count": null,
   "metadata": {},
   "outputs": [],
   "source": [
    "result2.rename(index={'거래량':'2020'}, inplace=True) #컬럼명 변경"
   ]
  },
  {
   "cell_type": "code",
   "execution_count": null,
   "metadata": {},
   "outputs": [],
   "source": [
    "# 1. Index 기반 접근방법 \n",
    "result2.at[0,'level_0'] = '1월'\n",
    "# 0행, 'level_0'컬럼 값을 1월로 변경"
   ]
  },
  {
   "cell_type": "code",
   "execution_count": null,
   "metadata": {},
   "outputs": [],
   "source": [
    "result2.at[2,'2021'] = '23763436'"
   ]
  },
  {
   "cell_type": "code",
   "execution_count": null,
   "metadata": {},
   "outputs": [],
   "source": [
    "result2.at[4,'2021'] = '6405142'"
   ]
  },
  {
   "cell_type": "code",
   "execution_count": null,
   "metadata": {},
   "outputs": [],
   "source": [
    "result2"
   ]
  },
  {
   "cell_type": "code",
   "execution_count": null,
   "metadata": {},
   "outputs": [],
   "source": [
    "result3 = result2.drop([1,3,5], axis=0)#필요없는 행 삭제"
   ]
  },
  {
   "cell_type": "code",
   "execution_count": null,
   "metadata": {},
   "outputs": [],
   "source": [
    "result3"
   ]
  },
  {
   "cell_type": "code",
   "execution_count": null,
   "metadata": {},
   "outputs": [],
   "source": [
    "result3.at[2,'level_0'] = '2월'\n",
    "result3.at[4,'level_0'] = '3월'"
   ]
  },
  {
   "cell_type": "code",
   "execution_count": null,
   "metadata": {},
   "outputs": [],
   "source": [
    "result3.columns=['month','2020','2021'] #컬럼명 변경"
   ]
  },
  {
   "cell_type": "code",
   "execution_count": null,
   "metadata": {},
   "outputs": [],
   "source": [
    "result4 = result3.reset_index()\n",
    "result4.drop(['index'], axis=1, inplace=True)#필요없는 칼럼 삭제\n"
   ]
  },
  {
   "cell_type": "code",
   "execution_count": null,
   "metadata": {},
   "outputs": [],
   "source": [
    "result4.dtypes#타입확인"
   ]
  },
  {
   "cell_type": "code",
   "execution_count": null,
   "metadata": {},
   "outputs": [],
   "source": [
    "result4 = result4.astype({'2020':'int'})#2020컬럼 정수 처리"
   ]
  },
  {
   "cell_type": "code",
   "execution_count": null,
   "metadata": {},
   "outputs": [],
   "source": [
    "result4#최종 데이터"
   ]
  },
  {
   "cell_type": "markdown",
   "metadata": {},
   "source": [
    "### 연도별 1~3월 산지별 거래량 합계 전처리 ### "
   ]
  },
  {
   "cell_type": "code",
   "execution_count": null,
   "metadata": {},
   "outputs": [],
   "source": [
    "#인덱스, 산지명 제외\n",
    "result.drop(['index','산지명'], axis=1, inplace=True)"
   ]
  },
  {
   "cell_type": "code",
   "execution_count": null,
   "metadata": {
    "scrolled": true
   },
   "outputs": [],
   "source": [
    "sum_trading_volume2 = Jan21.groupby(Jan21['산지명'])['거래량'].sum().reset_index()\n",
    "#2020 1월 산지 별 거래량 합계\n",
    "sum_trading_volume2"
   ]
  },
  {
   "cell_type": "code",
   "execution_count": null,
   "metadata": {},
   "outputs": [],
   "source": [
    "asc_df_MTV2 = sum_trading_volume2.sort_values('거래량', ascending=False).reset_index()\n",
    "asc_df_MTV2"
   ]
  },
  {
   "cell_type": "code",
   "execution_count": null,
   "metadata": {
    "scrolled": true
   },
   "outputs": [],
   "source": [
    "asc_df_MTV2.sum()"
   ]
  },
  {
   "cell_type": "code",
   "execution_count": null,
   "metadata": {},
   "outputs": [],
   "source": [
    "asc_df_MTV2.loc[\"Total\", :] = asc_df_MTV2.sum()"
   ]
  },
  {
   "cell_type": "code",
   "execution_count": null,
   "metadata": {},
   "outputs": [],
   "source": [
    "asc_df_MTV2"
   ]
  },
  {
   "cell_type": "code",
   "execution_count": null,
   "metadata": {
    "scrolled": true
   },
   "outputs": [],
   "source": [
    "sum_trading_volume3 = Feb20.groupby(Feb20['산지명'])['거래량'].sum().reset_index()\n",
    "sum_trading_volume3"
   ]
  },
  {
   "cell_type": "code",
   "execution_count": null,
   "metadata": {
    "scrolled": true
   },
   "outputs": [],
   "source": [
    "asc_df_MTV3 = sum_trading_volume3.sort_values('거래량', ascending=False).reset_index()\n",
    "asc_df_MTV3"
   ]
  },
  {
   "cell_type": "code",
   "execution_count": null,
   "metadata": {},
   "outputs": [],
   "source": [
    "asc_df_MTV3.sum()"
   ]
  },
  {
   "cell_type": "code",
   "execution_count": null,
   "metadata": {},
   "outputs": [],
   "source": [
    "asc_df_MTV3.loc[\"Total\", :] = asc_df_MTV3.sum()"
   ]
  },
  {
   "cell_type": "code",
   "execution_count": null,
   "metadata": {},
   "outputs": [],
   "source": [
    "asc_df_MTV3"
   ]
  },
  {
   "cell_type": "code",
   "execution_count": null,
   "metadata": {},
   "outputs": [],
   "source": [
    "sum_trading_volume4 = Feb21.groupby(Feb21['산지명'])['거래량'].sum().reset_index()\n",
    "sum_trading_volume4"
   ]
  },
  {
   "cell_type": "code",
   "execution_count": null,
   "metadata": {},
   "outputs": [],
   "source": [
    "asc_df_MTV4.sum()"
   ]
  },
  {
   "cell_type": "code",
   "execution_count": null,
   "metadata": {},
   "outputs": [],
   "source": [
    "asc_df_MTV4 = sum_trading_volume4.sort_values('거래량', ascending=False).reset_index()\n",
    "asc_df_MTV4"
   ]
  },
  {
   "cell_type": "code",
   "execution_count": null,
   "metadata": {},
   "outputs": [],
   "source": [
    "asc_df_MTV4.loc[\"Total\", :] = asc_df_MTV4.sum()"
   ]
  },
  {
   "cell_type": "code",
   "execution_count": null,
   "metadata": {},
   "outputs": [],
   "source": [
    "asc_df_MTV4"
   ]
  },
  {
   "cell_type": "code",
   "execution_count": null,
   "metadata": {},
   "outputs": [],
   "source": [
    "sum_trading_volume5 = Mar20.groupby(Mar20['산지명'])['거래량'].sum().reset_index()\n",
    "sum_trading_volume5"
   ]
  },
  {
   "cell_type": "code",
   "execution_count": null,
   "metadata": {
    "scrolled": true
   },
   "outputs": [],
   "source": [
    "asc_df_MTV5 = sum_trading_volume5.sort_values('거래량', ascending=False).reset_index()\n",
    "asc_df_MTV5"
   ]
  },
  {
   "cell_type": "code",
   "execution_count": null,
   "metadata": {
    "scrolled": true
   },
   "outputs": [],
   "source": [
    "asc_df_MTV5.sum()"
   ]
  },
  {
   "cell_type": "code",
   "execution_count": null,
   "metadata": {},
   "outputs": [],
   "source": [
    "asc_df_MTV5.loc[\"Total\", :] = asc_df_MTV5.sum()"
   ]
  },
  {
   "cell_type": "code",
   "execution_count": null,
   "metadata": {},
   "outputs": [],
   "source": [
    "asc_df_MTV5"
   ]
  },
  {
   "cell_type": "code",
   "execution_count": null,
   "metadata": {},
   "outputs": [],
   "source": [
    "sum_trading_volume6 = Mar21.groupby(Mar21['산지명'])['거래량'].sum().reset_index()\n",
    "sum_trading_volume6"
   ]
  },
  {
   "cell_type": "code",
   "execution_count": null,
   "metadata": {},
   "outputs": [],
   "source": [
    "asc_df_MTV6 = sum_trading_volume6.sort_values('거래량', ascending=False).reset_index()\n",
    "asc_df_MTV6"
   ]
  },
  {
   "cell_type": "code",
   "execution_count": null,
   "metadata": {},
   "outputs": [],
   "source": [
    "asc_df_MTV6.sum() "
   ]
  },
  {
   "cell_type": "code",
   "execution_count": null,
   "metadata": {},
   "outputs": [],
   "source": [
    "asc_df_MTV6.loc[\"Total\", :] = asc_df_MTV6.sum()"
   ]
  },
  {
   "cell_type": "code",
   "execution_count": null,
   "metadata": {},
   "outputs": [],
   "source": [
    "asc_df_MTV6"
   ]
  },
  {
   "cell_type": "markdown",
   "metadata": {},
   "source": [
    "### 데이터 시각화 ###"
   ]
  },
  {
   "cell_type": "code",
   "execution_count": null,
   "metadata": {},
   "outputs": [],
   "source": [
    "import plotly\n",
    "import plotly.offline as pyo\n",
    "import plotly.graph_objs as go\n",
    "from plotly.offline import download_plotlyjs, init_notebook_mode, plot, iplot\n",
    "init_notebook_mode(connected=True)"
   ]
  },
  {
   "cell_type": "code",
   "execution_count": null,
   "metadata": {
    "scrolled": true
   },
   "outputs": [],
   "source": [
    "#꺾은선,누적막대(stacked)\n",
    "trace1 = go.Bar(x=result4['month'], y=result4['2020'], name='2020')\n",
    "trace2 = go.Bar(x=result4['month'], y=result4['2021'], name='2021')\n",
    "trace3 = go.Scatter(x = result4['month'], y = result4['2020'], mode = 'lines', name = '2020lines')\n",
    "trace4 = go.Scatter(x = result4['month'], y = result4['2021'], mode = 'lines', name = '2021lines')\n",
    "\n",
    "data = [trace1, trace2, trace3, trace4]\n",
    "\n",
    "layout = go.Layout(title='2020-2021 1~3월 대파 총 거래량', barmode='stack')\n",
    "\n",
    "fig = go.Figure(data=data, layout=layout)\n",
    "pyo.iplot(fig)\n",
    " "
   ]
  }
 ],
 "metadata": {
  "kernelspec": {
   "name": "python3",
   "language": "python",
   "display_name": "Python 3"
  },
  "language_info": {
   "codemirror_mode": {
    "name": "ipython",
    "version": 3
   },
   "file_extension": ".py",
   "mimetype": "text/x-python",
   "name": "python",
   "nbconvert_exporter": "python",
   "pygments_lexer": "ipython3",
   "version": "3.7.10"
  }
 },
 "nbformat": 4,
 "nbformat_minor": 4
}