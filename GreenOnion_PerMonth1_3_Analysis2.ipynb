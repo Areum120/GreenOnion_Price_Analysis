{
 "cells": [
  {
   "cell_type": "code",
   "execution_count": 3,
   "metadata": {},
   "outputs": [],
   "source": [
    "import numpy as np\n",
    "import pandas as pd\n",
    "import os\n",
    "import warnings\n",
    "warnings.filterwarnings(action='ignore')\n",
    "#경고 메시지 숨기기"
   ]
  },
  {
   "cell_type": "code",
   "execution_count": 4,
   "metadata": {},
   "outputs": [],
   "source": [
    "### 2020/2021 1~3월 데이터 불러오기 ###"
   ]
  },
  {
   "cell_type": "code",
   "execution_count": 5,
   "metadata": {},
   "outputs": [
    {
     "name": "stdout",
     "output_type": "stream",
     "text": [
      "       Unnamed: 0  경매구분코드 경매구분코드명  도매시장법인코드    산지코드      산지명2      경락일자  거래량  \\\n",
      "0               0       2    정가수의  24000101  585000  전라북도 고창군  20200102  500   \n",
      "1             261       1      경매  38010102  641465       NaN  20200102  100   \n",
      "2             260       1      경매  38010101  627834       NaN  20200102  100   \n",
      "3             259       1      경매  38010101  627834       NaN  20200102  100   \n",
      "4             258       1      경매  38010101  627834       NaN  20200102  100   \n",
      "...           ...     ...     ...       ...     ...       ...       ...  ...   \n",
      "43015       30768       1      경매  21000902  600010       NaN  20200131  140   \n",
      "43016       30767       1      경매  21000902  539800       NaN  20200131  226   \n",
      "43017       30777       2    정가수의  21000902  600010       NaN  20200131  100   \n",
      "43018       30735       1      경매  21000901  902000     부산광역시  20200131  150   \n",
      "43019       30324       1      경매  11000105  539000  전라남도 진도군  20200131  216   \n",
      "\n",
      "       도매시장법인명  거래가격  ...  stdMgNewNm       산지명 등급코드 등급명     품종명 거래규격단위코드  \\\n",
      "0      광주원협(공)  6000  ...          기타  전라북도 고창군   11   특  대파(일반)       12   \n",
      "1      농협창원(공)  1750  ...          기타  경상남도 창원시   11   특  대파(일반)       12   \n",
      "2         창원청과  1900  ...          기타  경상남도 밀양시   11   특  대파(일반)       12   \n",
      "3         창원청과  1900  ...          기타  경상남도 밀양시   11   특  대파(일반)       12   \n",
      "4         창원청과  1850  ...          기타  경상남도 밀양시   11   특  대파(일반)       12   \n",
      "...        ...   ...  ...         ...       ...  ...  ..     ...      ...   \n",
      "43015   부산중앙청과   850  ...          기타  부산광역시 중구   12   상  대파(일반)       12   \n",
      "43016   부산중앙청과   700  ...          기타  전라남도 진도군   12   상  대파(일반)       12   \n",
      "43017   부산중앙청과   700  ...          기타  부산광역시 중구   12   상  대파(일반)       12   \n",
      "43018     동부청과   850  ...          기타     부산광역시   12   상  대파(일반)       12   \n",
      "43019     한국청과  5300  ...          기타  전라남도 진도군   11   특  대파(일반)       12   \n",
      "\n",
      "      거래단위명  도매시장코드     도매시장명                 경매시간  \n",
      "0        kg  240001  광주각화도매시장                  NaN  \n",
      "1        kg  380101  창원팔용도매시장                  NaN  \n",
      "2        kg  380101  창원팔용도매시장  2020-01-02 05:14:27  \n",
      "3        kg  380101  창원팔용도매시장  2020-01-02 05:14:21  \n",
      "4        kg  380101  창원팔용도매시장  2020-01-02 05:14:17  \n",
      "...     ...     ...       ...                  ...  \n",
      "43015    kg  210009  부산반여도매시장  2020-01-31 07:17:15  \n",
      "43016    kg  210009  부산반여도매시장  2020-01-31 07:17:13  \n",
      "43017    kg  210009  부산반여도매시장  2020-01-31 09:18:18  \n",
      "43018    kg  210009  부산반여도매시장  2020-01-31 09:03:20  \n",
      "43019    kg  110001  서울가락도매시장        2020-01-31 ::  \n",
      "\n",
      "[43020 rows x 25 columns]\n"
     ]
    }
   ],
   "source": [
    "#Csv파일 불러오기\n",
    "Jan20 = pd.read_csv(r'C:\\study\\python\\notebook\\202001.csv', encoding='utf-8-sig')\n",
    "print(Jan20)"
   ]
  },
  {
   "cell_type": "code",
   "execution_count": 6,
   "metadata": {},
   "outputs": [
    {
     "name": "stdout",
     "output_type": "stream",
     "text": [
      "       Unnamed: 0  경매구분코드 경매구분코드명  도매시장법인코드    산지코드      경락일자  거래량  도매시장법인명  \\\n",
      "0               0       1      경매  24000101  535800  20210102  150  광주원협(공)   \n",
      "1           76229       2    정가수의  38020101  907000  20210102  250  울산원협(공)   \n",
      "2           76228       2    정가수의  38020101  907000  20210102   80  울산원협(공)   \n",
      "3           76227       2    정가수의  38020101  907000  20210102   50  울산원협(공)   \n",
      "4           76226       2    정가수의  38020101  907000  20210102   15  울산원협(공)   \n",
      "...           ...     ...     ...       ...     ...       ...  ...      ...   \n",
      "64115       99579       2    정가수의  38020101  680813  20210131   20  울산원협(공)   \n",
      "64116       99580       2    정가수의  38020101  680813  20210131   10  울산원협(공)   \n",
      "64117       99581       2    정가수의  38020101  680813  20210131  100  울산원협(공)   \n",
      "64118       99582       1      경매  38020102  626000  20210131   40   울산중앙청과   \n",
      "64119       23377       2    정가수의  38020101  680813  20210131  100  울산원협(공)   \n",
      "\n",
      "        거래가격  출하구분코드  ...       산지명 등급코드  등급명     품종명 거래규격단위코드 거래단위명  도매시장코드  \\\n",
      "0       4300     3.0  ...  전라남도 신안군   11    특  대파(일반)       12    kg  240001   \n",
      "1       2300     3.0  ...     울산광역시   12    상     깐대파       12    kg  380201   \n",
      "2       2300     3.0  ...     울산광역시   12    상     깐대파       12    kg  380201   \n",
      "3       2300     3.0  ...     울산광역시   12    상     깐대파       12    kg  380201   \n",
      "4      13000     3.0  ...     울산광역시   12    상     깐대파       12    kg  380201   \n",
      "...      ...     ...  ...       ...  ...  ...     ...      ...   ...     ...   \n",
      "64115  36000     4.0  ...  울산광역시 남구   12    상  대파(수입)       12    kg  380201   \n",
      "64116  36000     4.0  ...  울산광역시 남구   12    상  대파(수입)       12    kg  380201   \n",
      "64117  36000     4.0  ...  울산광역시 남구   12    상  대파(수입)       12    kg  380201   \n",
      "64118  22000     3.0  ...  경상남도 양산시   1Z  무등급  대파(일반)       12    kg  380201   \n",
      "64119  36000     4.0  ...  울산광역시 남구   12    상  대파(수입)       12    kg  380201   \n",
      "\n",
      "          도매시장명      산지명2 경매시간  \n",
      "0      광주각화도매시장       NaN  NaN  \n",
      "1        울산도매시장     울산광역시  NaN  \n",
      "2        울산도매시장     울산광역시  NaN  \n",
      "3        울산도매시장     울산광역시  NaN  \n",
      "4        울산도매시장     울산광역시  NaN  \n",
      "...         ...       ...  ...  \n",
      "64115    울산도매시장       NaN  NaN  \n",
      "64116    울산도매시장       NaN  NaN  \n",
      "64117    울산도매시장       NaN  NaN  \n",
      "64118    울산도매시장  경상남도 양산시  NaN  \n",
      "64119    울산도매시장       NaN  NaN  \n",
      "\n",
      "[64120 rows x 24 columns]\n"
     ]
    }
   ],
   "source": [
    "Jan21 = pd.read_csv(r'C:\\study\\python\\notebook\\202101.csv', encoding='utf-8-sig')\n",
    "print(Jan21)"
   ]
  },
  {
   "cell_type": "code",
   "execution_count": 7,
   "metadata": {},
   "outputs": [
    {
     "name": "stdout",
     "output_type": "stream",
     "text": [
      "       Unnamed: 0  경매구분코드 경매구분코드명  도매시장법인코드    산지코드      산지명2      경락일자  거래량  \\\n",
      "0           32359       1      경매  25000301  536000  전라남도 해남군  20200201  100   \n",
      "1           32360       1      경매  25000301  536000  전라남도 해남군  20200201  150   \n",
      "2           32361       1      경매  25000301  536000  전라남도 해남군  20200201  150   \n",
      "3           32362       1      경매  25000301  536000  전라남도 해남군  20200201  150   \n",
      "4           32363       1      경매  25000301  536000  전라남도 해남군  20200201  160   \n",
      "...           ...     ...     ...       ...     ...       ...       ...  ...   \n",
      "40045       77340       1      경매  31120103  471080       NaN  20200229   30   \n",
      "40046       77341       1      경매  31120103  471080       NaN  20200229   30   \n",
      "40047       77342       1      경매  31120103  471080       NaN  20200229   30   \n",
      "40048       77284       1      경매  31120101  471030       NaN  20200229  300   \n",
      "40049       76480       1      경매  11000104  535000  전라남도 신안군  20200229  180   \n",
      "\n",
      "       도매시장법인명  거래가격  ...  stdMgNewNm       산지명 등급코드  등급명     품종명 거래규격단위코드  \\\n",
      "0       대전중앙청과  2500  ...          기타  전라남도 해남군   1Z  무등급  대파(일반)       12   \n",
      "1       대전중앙청과   550  ...          기타  전라남도 해남군   1Z  무등급  대파(일반)       12   \n",
      "2       대전중앙청과   500  ...          기타  전라남도 해남군   1Z  무등급  대파(일반)       12   \n",
      "3       대전중앙청과   500  ...          기타  전라남도 해남군   1Z  무등급  대파(일반)       12   \n",
      "4       대전중앙청과   500  ...          기타  전라남도 해남군   1Z  무등급  대파(일반)       12   \n",
      "...        ...   ...  ...         ...       ...  ...  ...     ...      ...   \n",
      "40045     구리청과  7500  ...          기타   경기도 구리시   11    특  대파(일반)       12   \n",
      "40046     구리청과  7500  ...          기타   경기도 구리시   11    특  대파(일반)       12   \n",
      "40047     구리청과  7500  ...          기타   경기도 구리시   11    특  대파(일반)       12   \n",
      "40048  농협구리(공)   870  ...          10   경기도 구리시   11    특  대파(일반)       12   \n",
      "40049     동화청과  7200  ...          기타  전라남도 신안군   11    특  대파(일반)       12   \n",
      "\n",
      "      거래단위명  도매시장코드     도매시장명           경매시간  \n",
      "0        kg  250003  대전노은도매시장            NaN  \n",
      "1        kg  250003  대전노은도매시장            NaN  \n",
      "2        kg  250003  대전노은도매시장            NaN  \n",
      "3        kg  250003  대전노은도매시장            NaN  \n",
      "4        kg  250003  대전노은도매시장            NaN  \n",
      "...     ...     ...       ...            ...  \n",
      "40045    kg  311201    구리도매시장            NaN  \n",
      "40046    kg  311201    구리도매시장            NaN  \n",
      "40047    kg  311201    구리도매시장            NaN  \n",
      "40048    kg  311201    구리도매시장            NaN  \n",
      "40049    kg  110001  서울가락도매시장  2020-02-29 ::  \n",
      "\n",
      "[40050 rows x 25 columns]\n"
     ]
    }
   ],
   "source": [
    "Feb20 = pd.read_csv(r'C:\\study\\python\\notebook\\202002.csv', encoding='utf-8-sig')\n",
    "print(Feb20)"
   ]
  },
  {
   "cell_type": "code",
   "execution_count": 8,
   "metadata": {},
   "outputs": [
    {
     "name": "stdout",
     "output_type": "stream",
     "text": [
      "       Unnamed: 0  경매구분코드 경매구분코드명  도매시장법인코드    산지코드      경락일자  거래량  도매시장법인명  \\\n",
      "0           24844       1      경매  38010101  641111  20210201  100     창원청과   \n",
      "1           24843       1      경매  37150102  730010  20210201   10   구미중앙청과   \n",
      "2           24842       1      경매  37150102  730010  20210201   15   구미중앙청과   \n",
      "3           24841       1      경매  37150102  730010  20210201   15   구미중앙청과   \n",
      "4           24840       1      경매  37150102  730010  20210201    4   구미중앙청과   \n",
      "...           ...     ...     ...       ...     ...       ...  ...      ...   \n",
      "55789       52918       2    정가수의  11000802  535000  20210227  200     서부청과   \n",
      "55790       52921       1      경매  11000803  215000  20210227  550     강서청과   \n",
      "55791       52916       1      경매  11000802  535000  20210227  500     서부청과   \n",
      "55792       52917       1      경매  11000802  535000  20210227  500     서부청과   \n",
      "55793       54678       1      경매  25000302  305325  20210301  100  대전원협(공)   \n",
      "\n",
      "        거래가격  출하구분코드  ...        산지명 등급코드  등급명     품종명 거래규격단위코드 거래단위명  도매시장코드  \\\n",
      "0       5100     3.0  ...   경상남도 창원시   11    특  대파(일반)       12    kg  380101   \n",
      "1      12000     3.0  ...   경상북도 구미시   12    상  대파(일반)       12    kg  371501   \n",
      "2      15500     3.0  ...   경상북도 구미시   11    특  대파(일반)       12    kg  371501   \n",
      "3      15500     3.0  ...   경상북도 구미시   11    특  대파(일반)       12    kg  371501   \n",
      "4      20300     4.0  ...   경상북도 구미시   13   보통  대파(일반)       12    kg  371501   \n",
      "...      ...     ...  ...        ...  ...  ...     ...      ...   ...     ...   \n",
      "55789   5200     NaN  ...   전라남도 신안군   11    특  대파(일반)       12    kg  110008   \n",
      "55790   5100     NaN  ...    강원도 양양군   1Z  무등급  대파(일반)       12    kg  110008   \n",
      "55791   5200     NaN  ...   전라남도 신안군   11    특  대파(일반)       12    kg  110008   \n",
      "55792   5200     NaN  ...   전라남도 신안군   11    특  대파(일반)       12    kg  110008   \n",
      "55793  27300     3.0  ...  대전광역시 유성구   11    특  대파(일반)       12    kg  250003   \n",
      "\n",
      "          도매시장명      산지명2             경매시간  \n",
      "0      창원팔용도매시장       NaN  2021-02-01 5:22  \n",
      "1        구미도매시장       NaN  2021-02-01 8:47  \n",
      "2        구미도매시장       NaN  2021-02-01 8:47  \n",
      "3        구미도매시장       NaN  2021-02-01 8:46  \n",
      "4        구미도매시장       NaN  2021-02-01 8:38  \n",
      "...         ...       ...              ...  \n",
      "55789  서울강서도매시장  전라남도 신안군    2021-02-27 ::  \n",
      "55790  서울강서도매시장   강원도 양양군    2021-02-27 ::  \n",
      "55791  서울강서도매시장  전라남도 신안군    2021-02-27 ::  \n",
      "55792  서울강서도매시장  전라남도 신안군    2021-02-27 ::  \n",
      "55793  대전노은도매시장       NaN              NaN  \n",
      "\n",
      "[55794 rows x 24 columns]\n"
     ]
    }
   ],
   "source": [
    "Feb21 = pd.read_csv(r'C:\\study\\python\\notebook\\202102.csv', encoding='utf-8-sig')\n",
    "print(Feb21)"
   ]
  },
  {
   "cell_type": "code",
   "execution_count": 9,
   "metadata": {},
   "outputs": [
    {
     "name": "stdout",
     "output_type": "stream",
     "text": [
      "       Unnamed: 0  경매구분코드 경매구분코드명  도매시장법인코드    산지코드      산지명2      경락일자  거래량  \\\n",
      "0           77728       2    정가수의  11000101  539000  전라남도 진도군  20200302   75   \n",
      "1           78956       2    정가수의  31090105  413810       NaN  20200302  500   \n",
      "2           78955       2    정가수의  31090105  413810       NaN  20200302  500   \n",
      "3           78954       2    정가수의  31090105  413810       NaN  20200302  500   \n",
      "4           78953       2    정가수의  31090105  413810       NaN  20200302  500   \n",
      "...           ...     ...     ...       ...     ...       ...       ...  ...   \n",
      "18378       97772       1      경매  38040101  676000  경상남도 함양군  20200314  110   \n",
      "18379       97773       1      경매  38040101  664600       NaN  20200314  100   \n",
      "18380       97774       1      경매  38040101  664600       NaN  20200314  100   \n",
      "18381       97766       1      경매  38040101  676000  경상남도 함양군  20200314  100   \n",
      "18382       96832       1      경매  22000103  539000  전라남도 진도군  20200314  250   \n",
      "\n",
      "       도매시장법인명  거래가격  ...  stdMgNewNm       산지명 등급코드 등급명     품종명 거래규격단위코드  \\\n",
      "0         서울청과  6000  ...          기타  전라남도 진도군   11   특  대파(일반)       12   \n",
      "1        안산농산물  1000  ...          기타   경기도 파주시   11   특  대파(일반)       12   \n",
      "2        안산농산물   850  ...          기타   경기도 파주시   11   특  대파(일반)       12   \n",
      "3        안산농산물   850  ...          기타   경기도 파주시   11   특  대파(일반)       12   \n",
      "4        안산농산물  1000  ...          기타   경기도 파주시   11   특  대파(일반)       12   \n",
      "...        ...   ...  ...         ...       ...  ...  ..     ...      ...   \n",
      "18378  진주원협(공)  1400  ...          기타  경상남도 함양군   11   특  대파(일반)       12   \n",
      "18379  진주원협(공)  1800  ...          기타  경상남도 사천시   11   특  대파(일반)       12   \n",
      "18380  진주원협(공)  1800  ...          기타  경상남도 사천시   11   특  대파(일반)       12   \n",
      "18381  진주원협(공)  1400  ...          기타  경상남도 함양군   11   특  대파(일반)       12   \n",
      "18382     효성청과   800  ...          기타  전라남도 진도군   11   특  대파(일반)       12   \n",
      "\n",
      "      거래단위명  도매시장코드     도매시장명           경매시간  \n",
      "0        kg  110001  서울가락도매시장  2020-03-02 ::  \n",
      "1        kg  310901    안산도매시장            NaN  \n",
      "2        kg  310901    안산도매시장            NaN  \n",
      "3        kg  310901    안산도매시장            NaN  \n",
      "4        kg  310901    안산도매시장            NaN  \n",
      "...     ...     ...       ...            ...  \n",
      "18378    kg  380401    진주도매시장            NaN  \n",
      "18379    kg  380401    진주도매시장            NaN  \n",
      "18380    kg  380401    진주도매시장            NaN  \n",
      "18381    kg  380401    진주도매시장            NaN  \n",
      "18382    kg  220001  대구북부도매시장            NaN  \n",
      "\n",
      "[18383 rows x 25 columns]\n"
     ]
    }
   ],
   "source": [
    "Mar20 = pd.read_csv(r'C:\\study\\python\\notebook\\202003.csv', encoding='utf-8-sig')\n",
    "print(Mar20)"
   ]
  },
  {
   "cell_type": "code",
   "execution_count": 10,
   "metadata": {},
   "outputs": [
    {
     "name": "stdout",
     "output_type": "stream",
     "text": [
      "       Unnamed: 0  경매구분코드 경매구분코드명  도매시장법인코드    산지코드      경락일자  거래량  도매시장법인명  \\\n",
      "0           54663       1      경매  25000301  535000  20210301  270   대전중앙청과   \n",
      "1           54662       2    정가수의  25000301  535000  20210301  123   대전중앙청과   \n",
      "2           54661       1      경매  25000301  535000  20210301   85   대전중앙청과   \n",
      "3           54658       1      경매  25000301  535000  20210301  120   대전중앙청과   \n",
      "4           54659       1      경매  25000301  535000  20210301  122   대전중앙청과   \n",
      "...           ...     ...     ...       ...     ...       ...  ...      ...   \n",
      "32488      147984       1      경매  21000101  232948  20210315  200  농협부산(공)   \n",
      "32489      147983       1      경매  21000101  232948  20210315  200  농협부산(공)   \n",
      "32490      147982       1      경매  21000101  902000  20210315  300  농협부산(공)   \n",
      "32491      147992       1      경매  21000103  902000  20210315  300     항도청과   \n",
      "32492      148110       1      경매  21000903  612810  20210315  300  농협반여(공)   \n",
      "\n",
      "        거래가격  출하구분코드  ...         산지명 등급코드  등급명     품종명 거래규격단위코드 거래단위명  \\\n",
      "0      11600     1.0  ...    전라남도 신안군   1Z  무등급  대파(일반)       12    kg   \n",
      "1      11600     1.0  ...    전라남도 신안군   1Z  무등급  대파(일반)       12    kg   \n",
      "2      21600     1.0  ...    전라남도 신안군   1Z  무등급  대파(일반)       12    kg   \n",
      "3      23000     1.0  ...    전라남도 신안군   1Z  무등급  대파(일반)       12    kg   \n",
      "4      23200     1.0  ...    전라남도 신안군   1Z  무등급  대파(일반)       12    kg   \n",
      "...      ...     ...  ...         ...  ...  ...     ...      ...   ...   \n",
      "32488   3080     3.0  ...     강원도 평창군   12    상  대파(일반)       12    kg   \n",
      "32489   3050     3.0  ...     강원도 평창군   12    상  대파(일반)       12    kg   \n",
      "32490   3510     2.0  ...       부산광역시   12    상  대파(일반)       12    kg   \n",
      "32491   4000     3.0  ...       부산광역시   11    특  대파(일반)       12    kg   \n",
      "32492   3900     2.0  ...  부산광역시 해운대구   11    특  대파(일반)       12    kg   \n",
      "\n",
      "       도매시장코드     도매시장명      산지명2 경매시간  \n",
      "0      250003  대전노은도매시장  전라남도 신안군  NaN  \n",
      "1      250003  대전노은도매시장  전라남도 신안군  NaN  \n",
      "2      250003  대전노은도매시장  전라남도 신안군  NaN  \n",
      "3      250003  대전노은도매시장  전라남도 신안군  NaN  \n",
      "4      250003  대전노은도매시장  전라남도 신안군  NaN  \n",
      "...       ...       ...       ...  ...  \n",
      "32488  210001  부산엄궁도매시장       NaN  NaN  \n",
      "32489  210001  부산엄궁도매시장       NaN  NaN  \n",
      "32490  210001  부산엄궁도매시장     부산광역시  NaN  \n",
      "32491  210001  부산엄궁도매시장     부산광역시  NaN  \n",
      "32492  210009  부산반여도매시장       NaN  NaN  \n",
      "\n",
      "[32493 rows x 24 columns]\n"
     ]
    }
   ],
   "source": [
    "Mar21 = pd.read_csv(r'C:\\study\\python\\notebook\\202103.csv', encoding='utf-8-sig')\n",
    "print(Mar21)"
   ]
  },
  {
   "cell_type": "markdown",
   "metadata": {},
   "source": [
    "### 품종별 년월 거래량 합계 ###"
   ]
  },
  {
   "cell_type": "code",
   "execution_count": 89,
   "metadata": {
    "scrolled": true
   },
   "outputs": [
    {
     "data": {
      "text/plain": [
       "품종명\n",
       "기타          11304\n",
       "깐대파         87078\n",
       "대파(수입)      10463\n",
       "대파(일반)    8988171\n",
       "중파          17599\n",
       "Name: 거래량, dtype: int64"
      ]
     },
     "execution_count": 89,
     "metadata": {},
     "output_type": "execute_result"
    }
   ],
   "source": [
    "Jan20sp = Jan20['거래량'].groupby([Jan20['품종명']]).sum()\n",
    "Jan20sp"
   ]
  },
  {
   "cell_type": "code",
   "execution_count": 91,
   "metadata": {},
   "outputs": [
    {
     "data": {
      "text/html": [
       "<div>\n",
       "<style scoped>\n",
       "    .dataframe tbody tr th:only-of-type {\n",
       "        vertical-align: middle;\n",
       "    }\n",
       "\n",
       "    .dataframe tbody tr th {\n",
       "        vertical-align: top;\n",
       "    }\n",
       "\n",
       "    .dataframe thead th {\n",
       "        text-align: right;\n",
       "    }\n",
       "</style>\n",
       "<table border=\"1\" class=\"dataframe\">\n",
       "  <thead>\n",
       "    <tr style=\"text-align: right;\">\n",
       "      <th></th>\n",
       "      <th>index</th>\n",
       "      <th>품종명</th>\n",
       "      <th>거래량</th>\n",
       "    </tr>\n",
       "  </thead>\n",
       "  <tbody>\n",
       "    <tr>\n",
       "      <th>0</th>\n",
       "      <td>0</td>\n",
       "      <td>기타</td>\n",
       "      <td>11304</td>\n",
       "    </tr>\n",
       "    <tr>\n",
       "      <th>1</th>\n",
       "      <td>1</td>\n",
       "      <td>깐대파</td>\n",
       "      <td>87078</td>\n",
       "    </tr>\n",
       "    <tr>\n",
       "      <th>2</th>\n",
       "      <td>2</td>\n",
       "      <td>대파(수입)</td>\n",
       "      <td>10463</td>\n",
       "    </tr>\n",
       "    <tr>\n",
       "      <th>3</th>\n",
       "      <td>3</td>\n",
       "      <td>대파(일반)</td>\n",
       "      <td>8988171</td>\n",
       "    </tr>\n",
       "    <tr>\n",
       "      <th>4</th>\n",
       "      <td>4</td>\n",
       "      <td>중파</td>\n",
       "      <td>17599</td>\n",
       "    </tr>\n",
       "  </tbody>\n",
       "</table>\n",
       "</div>"
      ],
      "text/plain": [
       "   index     품종명      거래량\n",
       "0      0      기타    11304\n",
       "1      1     깐대파    87078\n",
       "2      2  대파(수입)    10463\n",
       "3      3  대파(일반)  8988171\n",
       "4      4      중파    17599"
      ]
     },
     "execution_count": 91,
     "metadata": {},
     "output_type": "execute_result"
    }
   ],
   "source": [
    "Jan20sp = Jan20sp.reset_index()\n",
    "Jan20sp"
   ]
  },
  {
   "cell_type": "code",
   "execution_count": 92,
   "metadata": {},
   "outputs": [
    {
     "data": {
      "text/html": [
       "<div>\n",
       "<style scoped>\n",
       "    .dataframe tbody tr th:only-of-type {\n",
       "        vertical-align: middle;\n",
       "    }\n",
       "\n",
       "    .dataframe tbody tr th {\n",
       "        vertical-align: top;\n",
       "    }\n",
       "\n",
       "    .dataframe thead th {\n",
       "        text-align: right;\n",
       "    }\n",
       "</style>\n",
       "<table border=\"1\" class=\"dataframe\">\n",
       "  <thead>\n",
       "    <tr style=\"text-align: right;\">\n",
       "      <th></th>\n",
       "      <th>index</th>\n",
       "      <th>품종명</th>\n",
       "      <th>202001</th>\n",
       "    </tr>\n",
       "  </thead>\n",
       "  <tbody>\n",
       "    <tr>\n",
       "      <th>0</th>\n",
       "      <td>0</td>\n",
       "      <td>기타</td>\n",
       "      <td>11304</td>\n",
       "    </tr>\n",
       "    <tr>\n",
       "      <th>1</th>\n",
       "      <td>1</td>\n",
       "      <td>깐대파</td>\n",
       "      <td>87078</td>\n",
       "    </tr>\n",
       "    <tr>\n",
       "      <th>2</th>\n",
       "      <td>2</td>\n",
       "      <td>대파(수입)</td>\n",
       "      <td>10463</td>\n",
       "    </tr>\n",
       "    <tr>\n",
       "      <th>3</th>\n",
       "      <td>3</td>\n",
       "      <td>대파(일반)</td>\n",
       "      <td>8988171</td>\n",
       "    </tr>\n",
       "    <tr>\n",
       "      <th>4</th>\n",
       "      <td>4</td>\n",
       "      <td>중파</td>\n",
       "      <td>17599</td>\n",
       "    </tr>\n",
       "  </tbody>\n",
       "</table>\n",
       "</div>"
      ],
      "text/plain": [
       "   index     품종명   202001\n",
       "0      0      기타    11304\n",
       "1      1     깐대파    87078\n",
       "2      2  대파(수입)    10463\n",
       "3      3  대파(일반)  8988171\n",
       "4      4      중파    17599"
      ]
     },
     "execution_count": 92,
     "metadata": {},
     "output_type": "execute_result"
    }
   ],
   "source": [
    "Jan20sp.columns = ['index','품종명','202001']#컬럼명변경\n",
    "Jan20sp"
   ]
  },
  {
   "cell_type": "code",
   "execution_count": 93,
   "metadata": {},
   "outputs": [],
   "source": [
    "Jan20sp.drop(['index'], axis=1, inplace=True)#필요없는 칼럼 삭제"
   ]
  },
  {
   "cell_type": "code",
   "execution_count": 94,
   "metadata": {},
   "outputs": [
    {
     "data": {
      "text/plain": [
       "품종명\n",
       "기타           19936\n",
       "깐대파         168398\n",
       "대파(수입)       15754\n",
       "대파(일반)    14187880\n",
       "중파            2620\n",
       "Name: 거래량, dtype: int64"
      ]
     },
     "execution_count": 94,
     "metadata": {},
     "output_type": "execute_result"
    }
   ],
   "source": [
    "Jan21sp = Jan21['거래량'].groupby([Jan21['품종명']]).sum()\n",
    "Jan21sp"
   ]
  },
  {
   "cell_type": "code",
   "execution_count": 95,
   "metadata": {},
   "outputs": [],
   "source": [
    "Jan21sp = Jan21sp.reset_index()"
   ]
  },
  {
   "cell_type": "code",
   "execution_count": 96,
   "metadata": {},
   "outputs": [
    {
     "data": {
      "text/html": [
       "<div>\n",
       "<style scoped>\n",
       "    .dataframe tbody tr th:only-of-type {\n",
       "        vertical-align: middle;\n",
       "    }\n",
       "\n",
       "    .dataframe tbody tr th {\n",
       "        vertical-align: top;\n",
       "    }\n",
       "\n",
       "    .dataframe thead th {\n",
       "        text-align: right;\n",
       "    }\n",
       "</style>\n",
       "<table border=\"1\" class=\"dataframe\">\n",
       "  <thead>\n",
       "    <tr style=\"text-align: right;\">\n",
       "      <th></th>\n",
       "      <th>품종명</th>\n",
       "      <th>거래량</th>\n",
       "    </tr>\n",
       "  </thead>\n",
       "  <tbody>\n",
       "    <tr>\n",
       "      <th>0</th>\n",
       "      <td>기타</td>\n",
       "      <td>19936</td>\n",
       "    </tr>\n",
       "    <tr>\n",
       "      <th>1</th>\n",
       "      <td>깐대파</td>\n",
       "      <td>168398</td>\n",
       "    </tr>\n",
       "    <tr>\n",
       "      <th>2</th>\n",
       "      <td>대파(수입)</td>\n",
       "      <td>15754</td>\n",
       "    </tr>\n",
       "    <tr>\n",
       "      <th>3</th>\n",
       "      <td>대파(일반)</td>\n",
       "      <td>14187880</td>\n",
       "    </tr>\n",
       "    <tr>\n",
       "      <th>4</th>\n",
       "      <td>중파</td>\n",
       "      <td>2620</td>\n",
       "    </tr>\n",
       "  </tbody>\n",
       "</table>\n",
       "</div>"
      ],
      "text/plain": [
       "      품종명       거래량\n",
       "0      기타     19936\n",
       "1     깐대파    168398\n",
       "2  대파(수입)     15754\n",
       "3  대파(일반)  14187880\n",
       "4      중파      2620"
      ]
     },
     "execution_count": 96,
     "metadata": {},
     "output_type": "execute_result"
    }
   ],
   "source": [
    "Jan21sp"
   ]
  },
  {
   "cell_type": "code",
   "execution_count": 97,
   "metadata": {},
   "outputs": [],
   "source": [
    "Jan21sp.columns = ['품종명','202101']#컬럼명변경"
   ]
  },
  {
   "cell_type": "code",
   "execution_count": 98,
   "metadata": {},
   "outputs": [
    {
     "data": {
      "text/html": [
       "<div>\n",
       "<style scoped>\n",
       "    .dataframe tbody tr th:only-of-type {\n",
       "        vertical-align: middle;\n",
       "    }\n",
       "\n",
       "    .dataframe tbody tr th {\n",
       "        vertical-align: top;\n",
       "    }\n",
       "\n",
       "    .dataframe thead th {\n",
       "        text-align: right;\n",
       "    }\n",
       "</style>\n",
       "<table border=\"1\" class=\"dataframe\">\n",
       "  <thead>\n",
       "    <tr style=\"text-align: right;\">\n",
       "      <th></th>\n",
       "      <th>품종명</th>\n",
       "      <th>202101</th>\n",
       "    </tr>\n",
       "  </thead>\n",
       "  <tbody>\n",
       "    <tr>\n",
       "      <th>0</th>\n",
       "      <td>기타</td>\n",
       "      <td>19936</td>\n",
       "    </tr>\n",
       "    <tr>\n",
       "      <th>1</th>\n",
       "      <td>깐대파</td>\n",
       "      <td>168398</td>\n",
       "    </tr>\n",
       "    <tr>\n",
       "      <th>2</th>\n",
       "      <td>대파(수입)</td>\n",
       "      <td>15754</td>\n",
       "    </tr>\n",
       "    <tr>\n",
       "      <th>3</th>\n",
       "      <td>대파(일반)</td>\n",
       "      <td>14187880</td>\n",
       "    </tr>\n",
       "    <tr>\n",
       "      <th>4</th>\n",
       "      <td>중파</td>\n",
       "      <td>2620</td>\n",
       "    </tr>\n",
       "  </tbody>\n",
       "</table>\n",
       "</div>"
      ],
      "text/plain": [
       "      품종명    202101\n",
       "0      기타     19936\n",
       "1     깐대파    168398\n",
       "2  대파(수입)     15754\n",
       "3  대파(일반)  14187880\n",
       "4      중파      2620"
      ]
     },
     "execution_count": 98,
     "metadata": {},
     "output_type": "execute_result"
    }
   ],
   "source": [
    "Jan21sp"
   ]
  },
  {
   "cell_type": "code",
   "execution_count": 99,
   "metadata": {},
   "outputs": [
    {
     "data": {
      "text/plain": [
       "품종명\n",
       "기타          10554\n",
       "깐대파        102213\n",
       "대파(수입)       5817\n",
       "대파(일반)    8592145\n",
       "중파           1918\n",
       "Name: 거래량, dtype: int64"
      ]
     },
     "execution_count": 99,
     "metadata": {},
     "output_type": "execute_result"
    }
   ],
   "source": [
    "Feb20sp = Feb20['거래량'].groupby([Feb20['품종명']]).sum()\n",
    "Feb20sp"
   ]
  },
  {
   "cell_type": "code",
   "execution_count": 100,
   "metadata": {},
   "outputs": [],
   "source": [
    "Feb20sp = Feb20sp.reset_index()"
   ]
  },
  {
   "cell_type": "code",
   "execution_count": 101,
   "metadata": {},
   "outputs": [
    {
     "data": {
      "text/html": [
       "<div>\n",
       "<style scoped>\n",
       "    .dataframe tbody tr th:only-of-type {\n",
       "        vertical-align: middle;\n",
       "    }\n",
       "\n",
       "    .dataframe tbody tr th {\n",
       "        vertical-align: top;\n",
       "    }\n",
       "\n",
       "    .dataframe thead th {\n",
       "        text-align: right;\n",
       "    }\n",
       "</style>\n",
       "<table border=\"1\" class=\"dataframe\">\n",
       "  <thead>\n",
       "    <tr style=\"text-align: right;\">\n",
       "      <th></th>\n",
       "      <th>품종명</th>\n",
       "      <th>거래량</th>\n",
       "    </tr>\n",
       "  </thead>\n",
       "  <tbody>\n",
       "    <tr>\n",
       "      <th>0</th>\n",
       "      <td>기타</td>\n",
       "      <td>10554</td>\n",
       "    </tr>\n",
       "    <tr>\n",
       "      <th>1</th>\n",
       "      <td>깐대파</td>\n",
       "      <td>102213</td>\n",
       "    </tr>\n",
       "    <tr>\n",
       "      <th>2</th>\n",
       "      <td>대파(수입)</td>\n",
       "      <td>5817</td>\n",
       "    </tr>\n",
       "    <tr>\n",
       "      <th>3</th>\n",
       "      <td>대파(일반)</td>\n",
       "      <td>8592145</td>\n",
       "    </tr>\n",
       "    <tr>\n",
       "      <th>4</th>\n",
       "      <td>중파</td>\n",
       "      <td>1918</td>\n",
       "    </tr>\n",
       "  </tbody>\n",
       "</table>\n",
       "</div>"
      ],
      "text/plain": [
       "      품종명      거래량\n",
       "0      기타    10554\n",
       "1     깐대파   102213\n",
       "2  대파(수입)     5817\n",
       "3  대파(일반)  8592145\n",
       "4      중파     1918"
      ]
     },
     "execution_count": 101,
     "metadata": {},
     "output_type": "execute_result"
    }
   ],
   "source": [
    "Feb20sp"
   ]
  },
  {
   "cell_type": "code",
   "execution_count": 115,
   "metadata": {},
   "outputs": [
    {
     "data": {
      "text/html": [
       "<div>\n",
       "<style scoped>\n",
       "    .dataframe tbody tr th:only-of-type {\n",
       "        vertical-align: middle;\n",
       "    }\n",
       "\n",
       "    .dataframe tbody tr th {\n",
       "        vertical-align: top;\n",
       "    }\n",
       "\n",
       "    .dataframe thead th {\n",
       "        text-align: right;\n",
       "    }\n",
       "</style>\n",
       "<table border=\"1\" class=\"dataframe\">\n",
       "  <thead>\n",
       "    <tr style=\"text-align: right;\">\n",
       "      <th></th>\n",
       "      <th>품종명</th>\n",
       "      <th>202002</th>\n",
       "    </tr>\n",
       "  </thead>\n",
       "  <tbody>\n",
       "    <tr>\n",
       "      <th>0</th>\n",
       "      <td>기타</td>\n",
       "      <td>10554</td>\n",
       "    </tr>\n",
       "    <tr>\n",
       "      <th>1</th>\n",
       "      <td>깐대파</td>\n",
       "      <td>102213</td>\n",
       "    </tr>\n",
       "    <tr>\n",
       "      <th>2</th>\n",
       "      <td>대파(수입)</td>\n",
       "      <td>5817</td>\n",
       "    </tr>\n",
       "    <tr>\n",
       "      <th>3</th>\n",
       "      <td>대파(일반)</td>\n",
       "      <td>8592145</td>\n",
       "    </tr>\n",
       "    <tr>\n",
       "      <th>4</th>\n",
       "      <td>중파</td>\n",
       "      <td>1918</td>\n",
       "    </tr>\n",
       "  </tbody>\n",
       "</table>\n",
       "</div>"
      ],
      "text/plain": [
       "      품종명   202002\n",
       "0      기타    10554\n",
       "1     깐대파   102213\n",
       "2  대파(수입)     5817\n",
       "3  대파(일반)  8592145\n",
       "4      중파     1918"
      ]
     },
     "execution_count": 115,
     "metadata": {},
     "output_type": "execute_result"
    }
   ],
   "source": [
    "Feb20sp.columns = ['품종명','202002']#컬럼명변경\n",
    "Feb20sp"
   ]
  },
  {
   "cell_type": "code",
   "execution_count": 102,
   "metadata": {},
   "outputs": [
    {
     "data": {
      "text/plain": [
       "품종명\n",
       "기타           38808\n",
       "깐대파         157174\n",
       "대파(수입)       37299\n",
       "대파(일반)    12063420\n",
       "중파            2704\n",
       "Name: 거래량, dtype: int64"
      ]
     },
     "execution_count": 102,
     "metadata": {},
     "output_type": "execute_result"
    }
   ],
   "source": [
    "Feb21sp = Feb21['거래량'].groupby([Feb21['품종명']]).sum()\n",
    "Feb21sp"
   ]
  },
  {
   "cell_type": "code",
   "execution_count": 103,
   "metadata": {},
   "outputs": [
    {
     "data": {
      "text/plain": [
       "품종명\n",
       "기타           38808\n",
       "깐대파         157174\n",
       "대파(수입)       37299\n",
       "대파(일반)    12063420\n",
       "중파            2704\n",
       "Name: 거래량, dtype: int64"
      ]
     },
     "execution_count": 103,
     "metadata": {},
     "output_type": "execute_result"
    }
   ],
   "source": [
    "Feb21sp"
   ]
  },
  {
   "cell_type": "code",
   "execution_count": 104,
   "metadata": {},
   "outputs": [
    {
     "data": {
      "text/html": [
       "<div>\n",
       "<style scoped>\n",
       "    .dataframe tbody tr th:only-of-type {\n",
       "        vertical-align: middle;\n",
       "    }\n",
       "\n",
       "    .dataframe tbody tr th {\n",
       "        vertical-align: top;\n",
       "    }\n",
       "\n",
       "    .dataframe thead th {\n",
       "        text-align: right;\n",
       "    }\n",
       "</style>\n",
       "<table border=\"1\" class=\"dataframe\">\n",
       "  <thead>\n",
       "    <tr style=\"text-align: right;\">\n",
       "      <th></th>\n",
       "      <th>품종명</th>\n",
       "      <th>거래량</th>\n",
       "    </tr>\n",
       "  </thead>\n",
       "  <tbody>\n",
       "    <tr>\n",
       "      <th>0</th>\n",
       "      <td>기타</td>\n",
       "      <td>38808</td>\n",
       "    </tr>\n",
       "    <tr>\n",
       "      <th>1</th>\n",
       "      <td>깐대파</td>\n",
       "      <td>157174</td>\n",
       "    </tr>\n",
       "    <tr>\n",
       "      <th>2</th>\n",
       "      <td>대파(수입)</td>\n",
       "      <td>37299</td>\n",
       "    </tr>\n",
       "    <tr>\n",
       "      <th>3</th>\n",
       "      <td>대파(일반)</td>\n",
       "      <td>12063420</td>\n",
       "    </tr>\n",
       "    <tr>\n",
       "      <th>4</th>\n",
       "      <td>중파</td>\n",
       "      <td>2704</td>\n",
       "    </tr>\n",
       "  </tbody>\n",
       "</table>\n",
       "</div>"
      ],
      "text/plain": [
       "      품종명       거래량\n",
       "0      기타     38808\n",
       "1     깐대파    157174\n",
       "2  대파(수입)     37299\n",
       "3  대파(일반)  12063420\n",
       "4      중파      2704"
      ]
     },
     "execution_count": 104,
     "metadata": {},
     "output_type": "execute_result"
    }
   ],
   "source": [
    "Feb21sp = Feb21sp.reset_index()\n",
    "Feb21sp"
   ]
  },
  {
   "cell_type": "code",
   "execution_count": 105,
   "metadata": {},
   "outputs": [
    {
     "data": {
      "text/html": [
       "<div>\n",
       "<style scoped>\n",
       "    .dataframe tbody tr th:only-of-type {\n",
       "        vertical-align: middle;\n",
       "    }\n",
       "\n",
       "    .dataframe tbody tr th {\n",
       "        vertical-align: top;\n",
       "    }\n",
       "\n",
       "    .dataframe thead th {\n",
       "        text-align: right;\n",
       "    }\n",
       "</style>\n",
       "<table border=\"1\" class=\"dataframe\">\n",
       "  <thead>\n",
       "    <tr style=\"text-align: right;\">\n",
       "      <th></th>\n",
       "      <th>품종명</th>\n",
       "      <th>202102</th>\n",
       "    </tr>\n",
       "  </thead>\n",
       "  <tbody>\n",
       "    <tr>\n",
       "      <th>0</th>\n",
       "      <td>기타</td>\n",
       "      <td>38808</td>\n",
       "    </tr>\n",
       "    <tr>\n",
       "      <th>1</th>\n",
       "      <td>깐대파</td>\n",
       "      <td>157174</td>\n",
       "    </tr>\n",
       "    <tr>\n",
       "      <th>2</th>\n",
       "      <td>대파(수입)</td>\n",
       "      <td>37299</td>\n",
       "    </tr>\n",
       "    <tr>\n",
       "      <th>3</th>\n",
       "      <td>대파(일반)</td>\n",
       "      <td>12063420</td>\n",
       "    </tr>\n",
       "    <tr>\n",
       "      <th>4</th>\n",
       "      <td>중파</td>\n",
       "      <td>2704</td>\n",
       "    </tr>\n",
       "  </tbody>\n",
       "</table>\n",
       "</div>"
      ],
      "text/plain": [
       "      품종명    202102\n",
       "0      기타     38808\n",
       "1     깐대파    157174\n",
       "2  대파(수입)     37299\n",
       "3  대파(일반)  12063420\n",
       "4      중파      2704"
      ]
     },
     "execution_count": 105,
     "metadata": {},
     "output_type": "execute_result"
    }
   ],
   "source": [
    "Feb21sp.columns = ['품종명','202102']#컬럼명변경\n",
    "Feb21sp"
   ]
  },
  {
   "cell_type": "code",
   "execution_count": 106,
   "metadata": {},
   "outputs": [
    {
     "data": {
      "text/plain": [
       "품종명\n",
       "기타           4774\n",
       "깐대파         50127\n",
       "대파(수입)       2848\n",
       "대파(일반)    3807773\n",
       "중파           7450\n",
       "Name: 거래량, dtype: int64"
      ]
     },
     "execution_count": 106,
     "metadata": {},
     "output_type": "execute_result"
    }
   ],
   "source": [
    "Mar20sp = Mar20['거래량'].groupby([Mar20['품종명']]).sum()\n",
    "Mar20sp"
   ]
  },
  {
   "cell_type": "code",
   "execution_count": 107,
   "metadata": {},
   "outputs": [
    {
     "data": {
      "text/html": [
       "<div>\n",
       "<style scoped>\n",
       "    .dataframe tbody tr th:only-of-type {\n",
       "        vertical-align: middle;\n",
       "    }\n",
       "\n",
       "    .dataframe tbody tr th {\n",
       "        vertical-align: top;\n",
       "    }\n",
       "\n",
       "    .dataframe thead th {\n",
       "        text-align: right;\n",
       "    }\n",
       "</style>\n",
       "<table border=\"1\" class=\"dataframe\">\n",
       "  <thead>\n",
       "    <tr style=\"text-align: right;\">\n",
       "      <th></th>\n",
       "      <th>품종명</th>\n",
       "      <th>거래량</th>\n",
       "    </tr>\n",
       "  </thead>\n",
       "  <tbody>\n",
       "    <tr>\n",
       "      <th>0</th>\n",
       "      <td>기타</td>\n",
       "      <td>4774</td>\n",
       "    </tr>\n",
       "    <tr>\n",
       "      <th>1</th>\n",
       "      <td>깐대파</td>\n",
       "      <td>50127</td>\n",
       "    </tr>\n",
       "    <tr>\n",
       "      <th>2</th>\n",
       "      <td>대파(수입)</td>\n",
       "      <td>2848</td>\n",
       "    </tr>\n",
       "    <tr>\n",
       "      <th>3</th>\n",
       "      <td>대파(일반)</td>\n",
       "      <td>3807773</td>\n",
       "    </tr>\n",
       "    <tr>\n",
       "      <th>4</th>\n",
       "      <td>중파</td>\n",
       "      <td>7450</td>\n",
       "    </tr>\n",
       "  </tbody>\n",
       "</table>\n",
       "</div>"
      ],
      "text/plain": [
       "      품종명      거래량\n",
       "0      기타     4774\n",
       "1     깐대파    50127\n",
       "2  대파(수입)     2848\n",
       "3  대파(일반)  3807773\n",
       "4      중파     7450"
      ]
     },
     "execution_count": 107,
     "metadata": {},
     "output_type": "execute_result"
    }
   ],
   "source": [
    "Mar20sp = Mar20sp.reset_index()\n",
    "Mar20sp"
   ]
  },
  {
   "cell_type": "code",
   "execution_count": 108,
   "metadata": {},
   "outputs": [
    {
     "data": {
      "text/html": [
       "<div>\n",
       "<style scoped>\n",
       "    .dataframe tbody tr th:only-of-type {\n",
       "        vertical-align: middle;\n",
       "    }\n",
       "\n",
       "    .dataframe tbody tr th {\n",
       "        vertical-align: top;\n",
       "    }\n",
       "\n",
       "    .dataframe thead th {\n",
       "        text-align: right;\n",
       "    }\n",
       "</style>\n",
       "<table border=\"1\" class=\"dataframe\">\n",
       "  <thead>\n",
       "    <tr style=\"text-align: right;\">\n",
       "      <th></th>\n",
       "      <th>품종명</th>\n",
       "      <th>202003</th>\n",
       "    </tr>\n",
       "  </thead>\n",
       "  <tbody>\n",
       "    <tr>\n",
       "      <th>0</th>\n",
       "      <td>기타</td>\n",
       "      <td>4774</td>\n",
       "    </tr>\n",
       "    <tr>\n",
       "      <th>1</th>\n",
       "      <td>깐대파</td>\n",
       "      <td>50127</td>\n",
       "    </tr>\n",
       "    <tr>\n",
       "      <th>2</th>\n",
       "      <td>대파(수입)</td>\n",
       "      <td>2848</td>\n",
       "    </tr>\n",
       "    <tr>\n",
       "      <th>3</th>\n",
       "      <td>대파(일반)</td>\n",
       "      <td>3807773</td>\n",
       "    </tr>\n",
       "    <tr>\n",
       "      <th>4</th>\n",
       "      <td>중파</td>\n",
       "      <td>7450</td>\n",
       "    </tr>\n",
       "  </tbody>\n",
       "</table>\n",
       "</div>"
      ],
      "text/plain": [
       "      품종명   202003\n",
       "0      기타     4774\n",
       "1     깐대파    50127\n",
       "2  대파(수입)     2848\n",
       "3  대파(일반)  3807773\n",
       "4      중파     7450"
      ]
     },
     "execution_count": 108,
     "metadata": {},
     "output_type": "execute_result"
    }
   ],
   "source": [
    "Mar20sp.columns = ['품종명','202003']#컬럼명변경\n",
    "Mar20sp"
   ]
  },
  {
   "cell_type": "code",
   "execution_count": 109,
   "metadata": {},
   "outputs": [
    {
     "data": {
      "text/plain": [
       "품종명\n",
       "기타           8574\n",
       "깐대파         71594\n",
       "대파(수입)      42860\n",
       "대파(일반)    6476682\n",
       "중파           1950\n",
       "Name: 거래량, dtype: int64"
      ]
     },
     "execution_count": 109,
     "metadata": {},
     "output_type": "execute_result"
    }
   ],
   "source": [
    "Mar21sp = Mar21['거래량'].groupby([Mar21['품종명']]).sum()\n",
    "Mar21sp"
   ]
  },
  {
   "cell_type": "code",
   "execution_count": 110,
   "metadata": {},
   "outputs": [
    {
     "data": {
      "text/html": [
       "<div>\n",
       "<style scoped>\n",
       "    .dataframe tbody tr th:only-of-type {\n",
       "        vertical-align: middle;\n",
       "    }\n",
       "\n",
       "    .dataframe tbody tr th {\n",
       "        vertical-align: top;\n",
       "    }\n",
       "\n",
       "    .dataframe thead th {\n",
       "        text-align: right;\n",
       "    }\n",
       "</style>\n",
       "<table border=\"1\" class=\"dataframe\">\n",
       "  <thead>\n",
       "    <tr style=\"text-align: right;\">\n",
       "      <th></th>\n",
       "      <th>품종명</th>\n",
       "      <th>거래량</th>\n",
       "    </tr>\n",
       "  </thead>\n",
       "  <tbody>\n",
       "    <tr>\n",
       "      <th>0</th>\n",
       "      <td>기타</td>\n",
       "      <td>8574</td>\n",
       "    </tr>\n",
       "    <tr>\n",
       "      <th>1</th>\n",
       "      <td>깐대파</td>\n",
       "      <td>71594</td>\n",
       "    </tr>\n",
       "    <tr>\n",
       "      <th>2</th>\n",
       "      <td>대파(수입)</td>\n",
       "      <td>42860</td>\n",
       "    </tr>\n",
       "    <tr>\n",
       "      <th>3</th>\n",
       "      <td>대파(일반)</td>\n",
       "      <td>6476682</td>\n",
       "    </tr>\n",
       "    <tr>\n",
       "      <th>4</th>\n",
       "      <td>중파</td>\n",
       "      <td>1950</td>\n",
       "    </tr>\n",
       "  </tbody>\n",
       "</table>\n",
       "</div>"
      ],
      "text/plain": [
       "      품종명      거래량\n",
       "0      기타     8574\n",
       "1     깐대파    71594\n",
       "2  대파(수입)    42860\n",
       "3  대파(일반)  6476682\n",
       "4      중파     1950"
      ]
     },
     "execution_count": 110,
     "metadata": {},
     "output_type": "execute_result"
    }
   ],
   "source": [
    "Mar21sp = Mar21sp.reset_index()\n",
    "Mar21sp"
   ]
  },
  {
   "cell_type": "code",
   "execution_count": 111,
   "metadata": {},
   "outputs": [
    {
     "data": {
      "text/html": [
       "<div>\n",
       "<style scoped>\n",
       "    .dataframe tbody tr th:only-of-type {\n",
       "        vertical-align: middle;\n",
       "    }\n",
       "\n",
       "    .dataframe tbody tr th {\n",
       "        vertical-align: top;\n",
       "    }\n",
       "\n",
       "    .dataframe thead th {\n",
       "        text-align: right;\n",
       "    }\n",
       "</style>\n",
       "<table border=\"1\" class=\"dataframe\">\n",
       "  <thead>\n",
       "    <tr style=\"text-align: right;\">\n",
       "      <th></th>\n",
       "      <th>품종명</th>\n",
       "      <th>202103</th>\n",
       "    </tr>\n",
       "  </thead>\n",
       "  <tbody>\n",
       "    <tr>\n",
       "      <th>0</th>\n",
       "      <td>기타</td>\n",
       "      <td>8574</td>\n",
       "    </tr>\n",
       "    <tr>\n",
       "      <th>1</th>\n",
       "      <td>깐대파</td>\n",
       "      <td>71594</td>\n",
       "    </tr>\n",
       "    <tr>\n",
       "      <th>2</th>\n",
       "      <td>대파(수입)</td>\n",
       "      <td>42860</td>\n",
       "    </tr>\n",
       "    <tr>\n",
       "      <th>3</th>\n",
       "      <td>대파(일반)</td>\n",
       "      <td>6476682</td>\n",
       "    </tr>\n",
       "    <tr>\n",
       "      <th>4</th>\n",
       "      <td>중파</td>\n",
       "      <td>1950</td>\n",
       "    </tr>\n",
       "  </tbody>\n",
       "</table>\n",
       "</div>"
      ],
      "text/plain": [
       "      품종명   202103\n",
       "0      기타     8574\n",
       "1     깐대파    71594\n",
       "2  대파(수입)    42860\n",
       "3  대파(일반)  6476682\n",
       "4      중파     1950"
      ]
     },
     "execution_count": 111,
     "metadata": {},
     "output_type": "execute_result"
    }
   ],
   "source": [
    "Mar21sp.columns = ['품종명','202103']#컬럼명변경\n",
    "Mar21sp"
   ]
  },
  {
   "cell_type": "markdown",
   "metadata": {},
   "source": [
    "### 데이터 통합 ###\n",
    "\n"
   ]
  },
  {
   "cell_type": "code",
   "execution_count": 112,
   "metadata": {},
   "outputs": [
    {
     "data": {
      "text/html": [
       "<div>\n",
       "<style scoped>\n",
       "    .dataframe tbody tr th:only-of-type {\n",
       "        vertical-align: middle;\n",
       "    }\n",
       "\n",
       "    .dataframe tbody tr th {\n",
       "        vertical-align: top;\n",
       "    }\n",
       "\n",
       "    .dataframe thead th {\n",
       "        text-align: right;\n",
       "    }\n",
       "</style>\n",
       "<table border=\"1\" class=\"dataframe\">\n",
       "  <thead>\n",
       "    <tr style=\"text-align: right;\">\n",
       "      <th></th>\n",
       "      <th>품종명</th>\n",
       "      <th>202001</th>\n",
       "      <th>202101</th>\n",
       "    </tr>\n",
       "  </thead>\n",
       "  <tbody>\n",
       "    <tr>\n",
       "      <th>0</th>\n",
       "      <td>기타</td>\n",
       "      <td>11304</td>\n",
       "      <td>19936</td>\n",
       "    </tr>\n",
       "    <tr>\n",
       "      <th>1</th>\n",
       "      <td>깐대파</td>\n",
       "      <td>87078</td>\n",
       "      <td>168398</td>\n",
       "    </tr>\n",
       "    <tr>\n",
       "      <th>2</th>\n",
       "      <td>대파(수입)</td>\n",
       "      <td>10463</td>\n",
       "      <td>15754</td>\n",
       "    </tr>\n",
       "    <tr>\n",
       "      <th>3</th>\n",
       "      <td>대파(일반)</td>\n",
       "      <td>8988171</td>\n",
       "      <td>14187880</td>\n",
       "    </tr>\n",
       "    <tr>\n",
       "      <th>4</th>\n",
       "      <td>중파</td>\n",
       "      <td>17599</td>\n",
       "      <td>2620</td>\n",
       "    </tr>\n",
       "  </tbody>\n",
       "</table>\n",
       "</div>"
      ],
      "text/plain": [
       "      품종명   202001    202101\n",
       "0      기타    11304     19936\n",
       "1     깐대파    87078    168398\n",
       "2  대파(수입)    10463     15754\n",
       "3  대파(일반)  8988171  14187880\n",
       "4      중파    17599      2620"
      ]
     },
     "execution_count": 112,
     "metadata": {},
     "output_type": "execute_result"
    }
   ],
   "source": [
    "result = pd.merge(Jan20sp,Jan21sp, on = '품종명', how = 'left')#'품종명'열 left 위주로 merge, Jan20sp가 left데이터임\n",
    "result"
   ]
  },
  {
   "cell_type": "code",
   "execution_count": 116,
   "metadata": {},
   "outputs": [
    {
     "data": {
      "text/html": [
       "<div>\n",
       "<style scoped>\n",
       "    .dataframe tbody tr th:only-of-type {\n",
       "        vertical-align: middle;\n",
       "    }\n",
       "\n",
       "    .dataframe tbody tr th {\n",
       "        vertical-align: top;\n",
       "    }\n",
       "\n",
       "    .dataframe thead th {\n",
       "        text-align: right;\n",
       "    }\n",
       "</style>\n",
       "<table border=\"1\" class=\"dataframe\">\n",
       "  <thead>\n",
       "    <tr style=\"text-align: right;\">\n",
       "      <th></th>\n",
       "      <th>품종명</th>\n",
       "      <th>202001</th>\n",
       "      <th>202101</th>\n",
       "      <th>202002</th>\n",
       "      <th>202102</th>\n",
       "      <th>202003</th>\n",
       "      <th>202103</th>\n",
       "    </tr>\n",
       "  </thead>\n",
       "  <tbody>\n",
       "    <tr>\n",
       "      <th>0</th>\n",
       "      <td>기타</td>\n",
       "      <td>11304</td>\n",
       "      <td>19936</td>\n",
       "      <td>10554</td>\n",
       "      <td>38808</td>\n",
       "      <td>4774</td>\n",
       "      <td>8574</td>\n",
       "    </tr>\n",
       "    <tr>\n",
       "      <th>1</th>\n",
       "      <td>깐대파</td>\n",
       "      <td>87078</td>\n",
       "      <td>168398</td>\n",
       "      <td>102213</td>\n",
       "      <td>157174</td>\n",
       "      <td>50127</td>\n",
       "      <td>71594</td>\n",
       "    </tr>\n",
       "    <tr>\n",
       "      <th>2</th>\n",
       "      <td>대파(수입)</td>\n",
       "      <td>10463</td>\n",
       "      <td>15754</td>\n",
       "      <td>5817</td>\n",
       "      <td>37299</td>\n",
       "      <td>2848</td>\n",
       "      <td>42860</td>\n",
       "    </tr>\n",
       "    <tr>\n",
       "      <th>3</th>\n",
       "      <td>대파(일반)</td>\n",
       "      <td>8988171</td>\n",
       "      <td>14187880</td>\n",
       "      <td>8592145</td>\n",
       "      <td>12063420</td>\n",
       "      <td>3807773</td>\n",
       "      <td>6476682</td>\n",
       "    </tr>\n",
       "    <tr>\n",
       "      <th>4</th>\n",
       "      <td>중파</td>\n",
       "      <td>17599</td>\n",
       "      <td>2620</td>\n",
       "      <td>1918</td>\n",
       "      <td>2704</td>\n",
       "      <td>7450</td>\n",
       "      <td>1950</td>\n",
       "    </tr>\n",
       "  </tbody>\n",
       "</table>\n",
       "</div>"
      ],
      "text/plain": [
       "      품종명   202001    202101   202002    202102   202003   202103\n",
       "0      기타    11304     19936    10554     38808     4774     8574\n",
       "1     깐대파    87078    168398   102213    157174    50127    71594\n",
       "2  대파(수입)    10463     15754     5817     37299     2848    42860\n",
       "3  대파(일반)  8988171  14187880  8592145  12063420  3807773  6476682\n",
       "4      중파    17599      2620     1918      2704     7450     1950"
      ]
     },
     "execution_count": 116,
     "metadata": {},
     "output_type": "execute_result"
    }
   ],
   "source": [
    "result2 = pd.merge(result,Feb20sp, on = '품종명', how = 'left')\n",
    "result3 = pd.merge(result2,Feb21sp, on = '품종명', how = 'left')\n",
    "result4 = pd.merge(result3,Mar20sp, on = '품종명', how = 'left')\n",
    "result5 = pd.merge(result4,Mar21sp, on = '품종명', how = 'left')\n",
    "result5"
   ]
  },
  {
   "cell_type": "markdown",
   "metadata": {},
   "source": [
    "### 데이터 시각화 ###"
   ]
  },
  {
   "cell_type": "markdown",
   "metadata": {},
   "source": [
    "### 품종 별 거래량 ###"
   ]
  },
  {
   "cell_type": "code",
   "execution_count": 74,
   "metadata": {},
   "outputs": [
    {
     "name": "stdout",
     "output_type": "stream",
     "text": [
      "Requirement already satisfied: plotly in c:\\programdata\\anaconda3\\envs\\pydata\\lib\\site-packages (4.14.3)\n",
      "Requirement already satisfied: retrying>=1.3.3 in c:\\programdata\\anaconda3\\envs\\pydata\\lib\\site-packages (from plotly) (1.3.3)\n",
      "Requirement already satisfied: six in c:\\programdata\\anaconda3\\envs\\pydata\\lib\\site-packages (from plotly) (1.15.0)\n"
     ]
    }
   ],
   "source": [
    "!pip install plotly\n",
    "\n",
    "import plotly.offline as pyo\n",
    "import plotly.graph_objs as go"
   ]
  },
  {
   "cell_type": "code",
   "execution_count": 118,
   "metadata": {},
   "outputs": [
    {
     "data": {
      "application/vnd.plotly.v1+json": {
       "config": {
        "linkText": "Export to plot.ly",
        "plotlyServerURL": "https://plot.ly",
        "showLink": false
       },
       "data": [
        {
         "name": "2020년 1월",
         "type": "bar",
         "x": [
          "기타",
          "깐대파",
          "대파(수입)",
          "대파(일반)",
          "중파"
         ],
         "y": [
          11304,
          87078,
          10463,
          8988171,
          17599
         ]
        },
        {
         "name": "2021년 1월",
         "type": "bar",
         "x": [
          "기타",
          "깐대파",
          "대파(수입)",
          "대파(일반)",
          "중파"
         ],
         "y": [
          19936,
          168398,
          15754,
          14187880,
          2620
         ]
        },
        {
         "name": "2020년 2월",
         "type": "bar",
         "x": [
          "기타",
          "깐대파",
          "대파(수입)",
          "대파(일반)",
          "중파"
         ],
         "y": [
          10554,
          102213,
          5817,
          8592145,
          1918
         ]
        },
        {
         "name": "2021년 2월",
         "type": "bar",
         "x": [
          "기타",
          "깐대파",
          "대파(수입)",
          "대파(일반)",
          "중파"
         ],
         "y": [
          38808,
          157174,
          37299,
          12063420,
          2704
         ]
        },
        {
         "name": "2020년 3월",
         "type": "bar",
         "x": [
          "기타",
          "깐대파",
          "대파(수입)",
          "대파(일반)",
          "중파"
         ],
         "y": [
          4774,
          50127,
          2848,
          3807773,
          7450
         ]
        },
        {
         "name": "2021년 3월",
         "type": "bar",
         "x": [
          "기타",
          "깐대파",
          "대파(수입)",
          "대파(일반)",
          "중파"
         ],
         "y": [
          8574,
          71594,
          42860,
          6476682,
          1950
         ]
        }
       ],
       "layout": {
        "template": {
         "data": {
          "bar": [
           {
            "error_x": {
             "color": "#2a3f5f"
            },
            "error_y": {
             "color": "#2a3f5f"
            },
            "marker": {
             "line": {
              "color": "#E5ECF6",
              "width": 0.5
             }
            },
            "type": "bar"
           }
          ],
          "barpolar": [
           {
            "marker": {
             "line": {
              "color": "#E5ECF6",
              "width": 0.5
             }
            },
            "type": "barpolar"
           }
          ],
          "carpet": [
           {
            "aaxis": {
             "endlinecolor": "#2a3f5f",
             "gridcolor": "white",
             "linecolor": "white",
             "minorgridcolor": "white",
             "startlinecolor": "#2a3f5f"
            },
            "baxis": {
             "endlinecolor": "#2a3f5f",
             "gridcolor": "white",
             "linecolor": "white",
             "minorgridcolor": "white",
             "startlinecolor": "#2a3f5f"
            },
            "type": "carpet"
           }
          ],
          "choropleth": [
           {
            "colorbar": {
             "outlinewidth": 0,
             "ticks": ""
            },
            "type": "choropleth"
           }
          ],
          "contour": [
           {
            "colorbar": {
             "outlinewidth": 0,
             "ticks": ""
            },
            "colorscale": [
             [
              0,
              "#0d0887"
             ],
             [
              0.1111111111111111,
              "#46039f"
             ],
             [
              0.2222222222222222,
              "#7201a8"
             ],
             [
              0.3333333333333333,
              "#9c179e"
             ],
             [
              0.4444444444444444,
              "#bd3786"
             ],
             [
              0.5555555555555556,
              "#d8576b"
             ],
             [
              0.6666666666666666,
              "#ed7953"
             ],
             [
              0.7777777777777778,
              "#fb9f3a"
             ],
             [
              0.8888888888888888,
              "#fdca26"
             ],
             [
              1,
              "#f0f921"
             ]
            ],
            "type": "contour"
           }
          ],
          "contourcarpet": [
           {
            "colorbar": {
             "outlinewidth": 0,
             "ticks": ""
            },
            "type": "contourcarpet"
           }
          ],
          "heatmap": [
           {
            "colorbar": {
             "outlinewidth": 0,
             "ticks": ""
            },
            "colorscale": [
             [
              0,
              "#0d0887"
             ],
             [
              0.1111111111111111,
              "#46039f"
             ],
             [
              0.2222222222222222,
              "#7201a8"
             ],
             [
              0.3333333333333333,
              "#9c179e"
             ],
             [
              0.4444444444444444,
              "#bd3786"
             ],
             [
              0.5555555555555556,
              "#d8576b"
             ],
             [
              0.6666666666666666,
              "#ed7953"
             ],
             [
              0.7777777777777778,
              "#fb9f3a"
             ],
             [
              0.8888888888888888,
              "#fdca26"
             ],
             [
              1,
              "#f0f921"
             ]
            ],
            "type": "heatmap"
           }
          ],
          "heatmapgl": [
           {
            "colorbar": {
             "outlinewidth": 0,
             "ticks": ""
            },
            "colorscale": [
             [
              0,
              "#0d0887"
             ],
             [
              0.1111111111111111,
              "#46039f"
             ],
             [
              0.2222222222222222,
              "#7201a8"
             ],
             [
              0.3333333333333333,
              "#9c179e"
             ],
             [
              0.4444444444444444,
              "#bd3786"
             ],
             [
              0.5555555555555556,
              "#d8576b"
             ],
             [
              0.6666666666666666,
              "#ed7953"
             ],
             [
              0.7777777777777778,
              "#fb9f3a"
             ],
             [
              0.8888888888888888,
              "#fdca26"
             ],
             [
              1,
              "#f0f921"
             ]
            ],
            "type": "heatmapgl"
           }
          ],
          "histogram": [
           {
            "marker": {
             "colorbar": {
              "outlinewidth": 0,
              "ticks": ""
             }
            },
            "type": "histogram"
           }
          ],
          "histogram2d": [
           {
            "colorbar": {
             "outlinewidth": 0,
             "ticks": ""
            },
            "colorscale": [
             [
              0,
              "#0d0887"
             ],
             [
              0.1111111111111111,
              "#46039f"
             ],
             [
              0.2222222222222222,
              "#7201a8"
             ],
             [
              0.3333333333333333,
              "#9c179e"
             ],
             [
              0.4444444444444444,
              "#bd3786"
             ],
             [
              0.5555555555555556,
              "#d8576b"
             ],
             [
              0.6666666666666666,
              "#ed7953"
             ],
             [
              0.7777777777777778,
              "#fb9f3a"
             ],
             [
              0.8888888888888888,
              "#fdca26"
             ],
             [
              1,
              "#f0f921"
             ]
            ],
            "type": "histogram2d"
           }
          ],
          "histogram2dcontour": [
           {
            "colorbar": {
             "outlinewidth": 0,
             "ticks": ""
            },
            "colorscale": [
             [
              0,
              "#0d0887"
             ],
             [
              0.1111111111111111,
              "#46039f"
             ],
             [
              0.2222222222222222,
              "#7201a8"
             ],
             [
              0.3333333333333333,
              "#9c179e"
             ],
             [
              0.4444444444444444,
              "#bd3786"
             ],
             [
              0.5555555555555556,
              "#d8576b"
             ],
             [
              0.6666666666666666,
              "#ed7953"
             ],
             [
              0.7777777777777778,
              "#fb9f3a"
             ],
             [
              0.8888888888888888,
              "#fdca26"
             ],
             [
              1,
              "#f0f921"
             ]
            ],
            "type": "histogram2dcontour"
           }
          ],
          "mesh3d": [
           {
            "colorbar": {
             "outlinewidth": 0,
             "ticks": ""
            },
            "type": "mesh3d"
           }
          ],
          "parcoords": [
           {
            "line": {
             "colorbar": {
              "outlinewidth": 0,
              "ticks": ""
             }
            },
            "type": "parcoords"
           }
          ],
          "pie": [
           {
            "automargin": true,
            "type": "pie"
           }
          ],
          "scatter": [
           {
            "marker": {
             "colorbar": {
              "outlinewidth": 0,
              "ticks": ""
             }
            },
            "type": "scatter"
           }
          ],
          "scatter3d": [
           {
            "line": {
             "colorbar": {
              "outlinewidth": 0,
              "ticks": ""
             }
            },
            "marker": {
             "colorbar": {
              "outlinewidth": 0,
              "ticks": ""
             }
            },
            "type": "scatter3d"
           }
          ],
          "scattercarpet": [
           {
            "marker": {
             "colorbar": {
              "outlinewidth": 0,
              "ticks": ""
             }
            },
            "type": "scattercarpet"
           }
          ],
          "scattergeo": [
           {
            "marker": {
             "colorbar": {
              "outlinewidth": 0,
              "ticks": ""
             }
            },
            "type": "scattergeo"
           }
          ],
          "scattergl": [
           {
            "marker": {
             "colorbar": {
              "outlinewidth": 0,
              "ticks": ""
             }
            },
            "type": "scattergl"
           }
          ],
          "scattermapbox": [
           {
            "marker": {
             "colorbar": {
              "outlinewidth": 0,
              "ticks": ""
             }
            },
            "type": "scattermapbox"
           }
          ],
          "scatterpolar": [
           {
            "marker": {
             "colorbar": {
              "outlinewidth": 0,
              "ticks": ""
             }
            },
            "type": "scatterpolar"
           }
          ],
          "scatterpolargl": [
           {
            "marker": {
             "colorbar": {
              "outlinewidth": 0,
              "ticks": ""
             }
            },
            "type": "scatterpolargl"
           }
          ],
          "scatterternary": [
           {
            "marker": {
             "colorbar": {
              "outlinewidth": 0,
              "ticks": ""
             }
            },
            "type": "scatterternary"
           }
          ],
          "surface": [
           {
            "colorbar": {
             "outlinewidth": 0,
             "ticks": ""
            },
            "colorscale": [
             [
              0,
              "#0d0887"
             ],
             [
              0.1111111111111111,
              "#46039f"
             ],
             [
              0.2222222222222222,
              "#7201a8"
             ],
             [
              0.3333333333333333,
              "#9c179e"
             ],
             [
              0.4444444444444444,
              "#bd3786"
             ],
             [
              0.5555555555555556,
              "#d8576b"
             ],
             [
              0.6666666666666666,
              "#ed7953"
             ],
             [
              0.7777777777777778,
              "#fb9f3a"
             ],
             [
              0.8888888888888888,
              "#fdca26"
             ],
             [
              1,
              "#f0f921"
             ]
            ],
            "type": "surface"
           }
          ],
          "table": [
           {
            "cells": {
             "fill": {
              "color": "#EBF0F8"
             },
             "line": {
              "color": "white"
             }
            },
            "header": {
             "fill": {
              "color": "#C8D4E3"
             },
             "line": {
              "color": "white"
             }
            },
            "type": "table"
           }
          ]
         },
         "layout": {
          "annotationdefaults": {
           "arrowcolor": "#2a3f5f",
           "arrowhead": 0,
           "arrowwidth": 1
          },
          "autotypenumbers": "strict",
          "coloraxis": {
           "colorbar": {
            "outlinewidth": 0,
            "ticks": ""
           }
          },
          "colorscale": {
           "diverging": [
            [
             0,
             "#8e0152"
            ],
            [
             0.1,
             "#c51b7d"
            ],
            [
             0.2,
             "#de77ae"
            ],
            [
             0.3,
             "#f1b6da"
            ],
            [
             0.4,
             "#fde0ef"
            ],
            [
             0.5,
             "#f7f7f7"
            ],
            [
             0.6,
             "#e6f5d0"
            ],
            [
             0.7,
             "#b8e186"
            ],
            [
             0.8,
             "#7fbc41"
            ],
            [
             0.9,
             "#4d9221"
            ],
            [
             1,
             "#276419"
            ]
           ],
           "sequential": [
            [
             0,
             "#0d0887"
            ],
            [
             0.1111111111111111,
             "#46039f"
            ],
            [
             0.2222222222222222,
             "#7201a8"
            ],
            [
             0.3333333333333333,
             "#9c179e"
            ],
            [
             0.4444444444444444,
             "#bd3786"
            ],
            [
             0.5555555555555556,
             "#d8576b"
            ],
            [
             0.6666666666666666,
             "#ed7953"
            ],
            [
             0.7777777777777778,
             "#fb9f3a"
            ],
            [
             0.8888888888888888,
             "#fdca26"
            ],
            [
             1,
             "#f0f921"
            ]
           ],
           "sequentialminus": [
            [
             0,
             "#0d0887"
            ],
            [
             0.1111111111111111,
             "#46039f"
            ],
            [
             0.2222222222222222,
             "#7201a8"
            ],
            [
             0.3333333333333333,
             "#9c179e"
            ],
            [
             0.4444444444444444,
             "#bd3786"
            ],
            [
             0.5555555555555556,
             "#d8576b"
            ],
            [
             0.6666666666666666,
             "#ed7953"
            ],
            [
             0.7777777777777778,
             "#fb9f3a"
            ],
            [
             0.8888888888888888,
             "#fdca26"
            ],
            [
             1,
             "#f0f921"
            ]
           ]
          },
          "colorway": [
           "#636efa",
           "#EF553B",
           "#00cc96",
           "#ab63fa",
           "#FFA15A",
           "#19d3f3",
           "#FF6692",
           "#B6E880",
           "#FF97FF",
           "#FECB52"
          ],
          "font": {
           "color": "#2a3f5f"
          },
          "geo": {
           "bgcolor": "white",
           "lakecolor": "white",
           "landcolor": "#E5ECF6",
           "showlakes": true,
           "showland": true,
           "subunitcolor": "white"
          },
          "hoverlabel": {
           "align": "left"
          },
          "hovermode": "closest",
          "mapbox": {
           "style": "light"
          },
          "paper_bgcolor": "white",
          "plot_bgcolor": "#E5ECF6",
          "polar": {
           "angularaxis": {
            "gridcolor": "white",
            "linecolor": "white",
            "ticks": ""
           },
           "bgcolor": "#E5ECF6",
           "radialaxis": {
            "gridcolor": "white",
            "linecolor": "white",
            "ticks": ""
           }
          },
          "scene": {
           "xaxis": {
            "backgroundcolor": "#E5ECF6",
            "gridcolor": "white",
            "gridwidth": 2,
            "linecolor": "white",
            "showbackground": true,
            "ticks": "",
            "zerolinecolor": "white"
           },
           "yaxis": {
            "backgroundcolor": "#E5ECF6",
            "gridcolor": "white",
            "gridwidth": 2,
            "linecolor": "white",
            "showbackground": true,
            "ticks": "",
            "zerolinecolor": "white"
           },
           "zaxis": {
            "backgroundcolor": "#E5ECF6",
            "gridcolor": "white",
            "gridwidth": 2,
            "linecolor": "white",
            "showbackground": true,
            "ticks": "",
            "zerolinecolor": "white"
           }
          },
          "shapedefaults": {
           "line": {
            "color": "#2a3f5f"
           }
          },
          "ternary": {
           "aaxis": {
            "gridcolor": "white",
            "linecolor": "white",
            "ticks": ""
           },
           "baxis": {
            "gridcolor": "white",
            "linecolor": "white",
            "ticks": ""
           },
           "bgcolor": "#E5ECF6",
           "caxis": {
            "gridcolor": "white",
            "linecolor": "white",
            "ticks": ""
           }
          },
          "title": {
           "x": 0.05
          },
          "xaxis": {
           "automargin": true,
           "gridcolor": "white",
           "linecolor": "white",
           "ticks": "",
           "title": {
            "standoff": 15
           },
           "zerolinecolor": "white",
           "zerolinewidth": 2
          },
          "yaxis": {
           "automargin": true,
           "gridcolor": "white",
           "linecolor": "white",
           "ticks": "",
           "title": {
            "standoff": 15
           },
           "zerolinecolor": "white",
           "zerolinewidth": 2
          }
         }
        },
        "title": {
         "text": "2020-2021연도 및 1~3월 별 대파 품종명 별 거래량"
        }
       }
      },
      "text/html": [
       "<div>                            <div id=\"6897cc42-ee7c-49be-ac33-53c6faefc629\" class=\"plotly-graph-div\" style=\"height:525px; width:100%;\"></div>            <script type=\"text/javascript\">                require([\"plotly\"], function(Plotly) {                    window.PLOTLYENV=window.PLOTLYENV || {};                                    if (document.getElementById(\"6897cc42-ee7c-49be-ac33-53c6faefc629\")) {                    Plotly.newPlot(                        \"6897cc42-ee7c-49be-ac33-53c6faefc629\",                        [{\"name\": \"2020\\ub144 1\\uc6d4\", \"type\": \"bar\", \"x\": [\"\\uae30\\ud0c0\", \"\\uae50\\ub300\\ud30c\", \"\\ub300\\ud30c(\\uc218\\uc785)\", \"\\ub300\\ud30c(\\uc77c\\ubc18)\", \"\\uc911\\ud30c\"], \"y\": [11304, 87078, 10463, 8988171, 17599]}, {\"name\": \"2021\\ub144 1\\uc6d4\", \"type\": \"bar\", \"x\": [\"\\uae30\\ud0c0\", \"\\uae50\\ub300\\ud30c\", \"\\ub300\\ud30c(\\uc218\\uc785)\", \"\\ub300\\ud30c(\\uc77c\\ubc18)\", \"\\uc911\\ud30c\"], \"y\": [19936, 168398, 15754, 14187880, 2620]}, {\"name\": \"2020\\ub144 2\\uc6d4\", \"type\": \"bar\", \"x\": [\"\\uae30\\ud0c0\", \"\\uae50\\ub300\\ud30c\", \"\\ub300\\ud30c(\\uc218\\uc785)\", \"\\ub300\\ud30c(\\uc77c\\ubc18)\", \"\\uc911\\ud30c\"], \"y\": [10554, 102213, 5817, 8592145, 1918]}, {\"name\": \"2021\\ub144 2\\uc6d4\", \"type\": \"bar\", \"x\": [\"\\uae30\\ud0c0\", \"\\uae50\\ub300\\ud30c\", \"\\ub300\\ud30c(\\uc218\\uc785)\", \"\\ub300\\ud30c(\\uc77c\\ubc18)\", \"\\uc911\\ud30c\"], \"y\": [38808, 157174, 37299, 12063420, 2704]}, {\"name\": \"2020\\ub144 3\\uc6d4\", \"type\": \"bar\", \"x\": [\"\\uae30\\ud0c0\", \"\\uae50\\ub300\\ud30c\", \"\\ub300\\ud30c(\\uc218\\uc785)\", \"\\ub300\\ud30c(\\uc77c\\ubc18)\", \"\\uc911\\ud30c\"], \"y\": [4774, 50127, 2848, 3807773, 7450]}, {\"name\": \"2021\\ub144 3\\uc6d4\", \"type\": \"bar\", \"x\": [\"\\uae30\\ud0c0\", \"\\uae50\\ub300\\ud30c\", \"\\ub300\\ud30c(\\uc218\\uc785)\", \"\\ub300\\ud30c(\\uc77c\\ubc18)\", \"\\uc911\\ud30c\"], \"y\": [8574, 71594, 42860, 6476682, 1950]}],                        {\"template\": {\"data\": {\"bar\": [{\"error_x\": {\"color\": \"#2a3f5f\"}, \"error_y\": {\"color\": \"#2a3f5f\"}, \"marker\": {\"line\": {\"color\": \"#E5ECF6\", \"width\": 0.5}}, \"type\": \"bar\"}], \"barpolar\": [{\"marker\": {\"line\": {\"color\": \"#E5ECF6\", \"width\": 0.5}}, \"type\": \"barpolar\"}], \"carpet\": [{\"aaxis\": {\"endlinecolor\": \"#2a3f5f\", \"gridcolor\": \"white\", \"linecolor\": \"white\", \"minorgridcolor\": \"white\", \"startlinecolor\": \"#2a3f5f\"}, \"baxis\": {\"endlinecolor\": \"#2a3f5f\", \"gridcolor\": \"white\", \"linecolor\": \"white\", \"minorgridcolor\": \"white\", \"startlinecolor\": \"#2a3f5f\"}, \"type\": \"carpet\"}], \"choropleth\": [{\"colorbar\": {\"outlinewidth\": 0, \"ticks\": \"\"}, \"type\": \"choropleth\"}], \"contour\": [{\"colorbar\": {\"outlinewidth\": 0, \"ticks\": \"\"}, \"colorscale\": [[0.0, \"#0d0887\"], [0.1111111111111111, \"#46039f\"], [0.2222222222222222, \"#7201a8\"], [0.3333333333333333, \"#9c179e\"], [0.4444444444444444, \"#bd3786\"], [0.5555555555555556, \"#d8576b\"], [0.6666666666666666, \"#ed7953\"], [0.7777777777777778, \"#fb9f3a\"], [0.8888888888888888, \"#fdca26\"], [1.0, \"#f0f921\"]], \"type\": \"contour\"}], \"contourcarpet\": [{\"colorbar\": {\"outlinewidth\": 0, \"ticks\": \"\"}, \"type\": \"contourcarpet\"}], \"heatmap\": [{\"colorbar\": {\"outlinewidth\": 0, \"ticks\": \"\"}, \"colorscale\": [[0.0, \"#0d0887\"], [0.1111111111111111, \"#46039f\"], [0.2222222222222222, \"#7201a8\"], [0.3333333333333333, \"#9c179e\"], [0.4444444444444444, \"#bd3786\"], [0.5555555555555556, \"#d8576b\"], [0.6666666666666666, \"#ed7953\"], [0.7777777777777778, \"#fb9f3a\"], [0.8888888888888888, \"#fdca26\"], [1.0, \"#f0f921\"]], \"type\": \"heatmap\"}], \"heatmapgl\": [{\"colorbar\": {\"outlinewidth\": 0, \"ticks\": \"\"}, \"colorscale\": [[0.0, \"#0d0887\"], [0.1111111111111111, \"#46039f\"], [0.2222222222222222, \"#7201a8\"], [0.3333333333333333, \"#9c179e\"], [0.4444444444444444, \"#bd3786\"], [0.5555555555555556, \"#d8576b\"], [0.6666666666666666, \"#ed7953\"], [0.7777777777777778, \"#fb9f3a\"], [0.8888888888888888, \"#fdca26\"], [1.0, \"#f0f921\"]], \"type\": \"heatmapgl\"}], \"histogram\": [{\"marker\": {\"colorbar\": {\"outlinewidth\": 0, \"ticks\": \"\"}}, \"type\": \"histogram\"}], \"histogram2d\": [{\"colorbar\": {\"outlinewidth\": 0, \"ticks\": \"\"}, \"colorscale\": [[0.0, \"#0d0887\"], [0.1111111111111111, \"#46039f\"], [0.2222222222222222, \"#7201a8\"], [0.3333333333333333, \"#9c179e\"], [0.4444444444444444, \"#bd3786\"], [0.5555555555555556, \"#d8576b\"], [0.6666666666666666, \"#ed7953\"], [0.7777777777777778, \"#fb9f3a\"], [0.8888888888888888, \"#fdca26\"], [1.0, \"#f0f921\"]], \"type\": \"histogram2d\"}], \"histogram2dcontour\": [{\"colorbar\": {\"outlinewidth\": 0, \"ticks\": \"\"}, \"colorscale\": [[0.0, \"#0d0887\"], [0.1111111111111111, \"#46039f\"], [0.2222222222222222, \"#7201a8\"], [0.3333333333333333, \"#9c179e\"], [0.4444444444444444, \"#bd3786\"], [0.5555555555555556, \"#d8576b\"], [0.6666666666666666, \"#ed7953\"], [0.7777777777777778, \"#fb9f3a\"], [0.8888888888888888, \"#fdca26\"], [1.0, \"#f0f921\"]], \"type\": \"histogram2dcontour\"}], \"mesh3d\": [{\"colorbar\": {\"outlinewidth\": 0, \"ticks\": \"\"}, \"type\": \"mesh3d\"}], \"parcoords\": [{\"line\": {\"colorbar\": {\"outlinewidth\": 0, \"ticks\": \"\"}}, \"type\": \"parcoords\"}], \"pie\": [{\"automargin\": true, \"type\": \"pie\"}], \"scatter\": [{\"marker\": {\"colorbar\": {\"outlinewidth\": 0, \"ticks\": \"\"}}, \"type\": \"scatter\"}], \"scatter3d\": [{\"line\": {\"colorbar\": {\"outlinewidth\": 0, \"ticks\": \"\"}}, \"marker\": {\"colorbar\": {\"outlinewidth\": 0, \"ticks\": \"\"}}, \"type\": \"scatter3d\"}], \"scattercarpet\": [{\"marker\": {\"colorbar\": {\"outlinewidth\": 0, \"ticks\": \"\"}}, \"type\": \"scattercarpet\"}], \"scattergeo\": [{\"marker\": {\"colorbar\": {\"outlinewidth\": 0, \"ticks\": \"\"}}, \"type\": \"scattergeo\"}], \"scattergl\": [{\"marker\": {\"colorbar\": {\"outlinewidth\": 0, \"ticks\": \"\"}}, \"type\": \"scattergl\"}], \"scattermapbox\": [{\"marker\": {\"colorbar\": {\"outlinewidth\": 0, \"ticks\": \"\"}}, \"type\": \"scattermapbox\"}], \"scatterpolar\": [{\"marker\": {\"colorbar\": {\"outlinewidth\": 0, \"ticks\": \"\"}}, \"type\": \"scatterpolar\"}], \"scatterpolargl\": [{\"marker\": {\"colorbar\": {\"outlinewidth\": 0, \"ticks\": \"\"}}, \"type\": \"scatterpolargl\"}], \"scatterternary\": [{\"marker\": {\"colorbar\": {\"outlinewidth\": 0, \"ticks\": \"\"}}, \"type\": \"scatterternary\"}], \"surface\": [{\"colorbar\": {\"outlinewidth\": 0, \"ticks\": \"\"}, \"colorscale\": [[0.0, \"#0d0887\"], [0.1111111111111111, \"#46039f\"], [0.2222222222222222, \"#7201a8\"], [0.3333333333333333, \"#9c179e\"], [0.4444444444444444, \"#bd3786\"], [0.5555555555555556, \"#d8576b\"], [0.6666666666666666, \"#ed7953\"], [0.7777777777777778, \"#fb9f3a\"], [0.8888888888888888, \"#fdca26\"], [1.0, \"#f0f921\"]], \"type\": \"surface\"}], \"table\": [{\"cells\": {\"fill\": {\"color\": \"#EBF0F8\"}, \"line\": {\"color\": \"white\"}}, \"header\": {\"fill\": {\"color\": \"#C8D4E3\"}, \"line\": {\"color\": \"white\"}}, \"type\": \"table\"}]}, \"layout\": {\"annotationdefaults\": {\"arrowcolor\": \"#2a3f5f\", \"arrowhead\": 0, \"arrowwidth\": 1}, \"autotypenumbers\": \"strict\", \"coloraxis\": {\"colorbar\": {\"outlinewidth\": 0, \"ticks\": \"\"}}, \"colorscale\": {\"diverging\": [[0, \"#8e0152\"], [0.1, \"#c51b7d\"], [0.2, \"#de77ae\"], [0.3, \"#f1b6da\"], [0.4, \"#fde0ef\"], [0.5, \"#f7f7f7\"], [0.6, \"#e6f5d0\"], [0.7, \"#b8e186\"], [0.8, \"#7fbc41\"], [0.9, \"#4d9221\"], [1, \"#276419\"]], \"sequential\": [[0.0, \"#0d0887\"], [0.1111111111111111, \"#46039f\"], [0.2222222222222222, \"#7201a8\"], [0.3333333333333333, \"#9c179e\"], [0.4444444444444444, \"#bd3786\"], [0.5555555555555556, \"#d8576b\"], [0.6666666666666666, \"#ed7953\"], [0.7777777777777778, \"#fb9f3a\"], [0.8888888888888888, \"#fdca26\"], [1.0, \"#f0f921\"]], \"sequentialminus\": [[0.0, \"#0d0887\"], [0.1111111111111111, \"#46039f\"], [0.2222222222222222, \"#7201a8\"], [0.3333333333333333, \"#9c179e\"], [0.4444444444444444, \"#bd3786\"], [0.5555555555555556, \"#d8576b\"], [0.6666666666666666, \"#ed7953\"], [0.7777777777777778, \"#fb9f3a\"], [0.8888888888888888, \"#fdca26\"], [1.0, \"#f0f921\"]]}, \"colorway\": [\"#636efa\", \"#EF553B\", \"#00cc96\", \"#ab63fa\", \"#FFA15A\", \"#19d3f3\", \"#FF6692\", \"#B6E880\", \"#FF97FF\", \"#FECB52\"], \"font\": {\"color\": \"#2a3f5f\"}, \"geo\": {\"bgcolor\": \"white\", \"lakecolor\": \"white\", \"landcolor\": \"#E5ECF6\", \"showlakes\": true, \"showland\": true, \"subunitcolor\": \"white\"}, \"hoverlabel\": {\"align\": \"left\"}, \"hovermode\": \"closest\", \"mapbox\": {\"style\": \"light\"}, \"paper_bgcolor\": \"white\", \"plot_bgcolor\": \"#E5ECF6\", \"polar\": {\"angularaxis\": {\"gridcolor\": \"white\", \"linecolor\": \"white\", \"ticks\": \"\"}, \"bgcolor\": \"#E5ECF6\", \"radialaxis\": {\"gridcolor\": \"white\", \"linecolor\": \"white\", \"ticks\": \"\"}}, \"scene\": {\"xaxis\": {\"backgroundcolor\": \"#E5ECF6\", \"gridcolor\": \"white\", \"gridwidth\": 2, \"linecolor\": \"white\", \"showbackground\": true, \"ticks\": \"\", \"zerolinecolor\": \"white\"}, \"yaxis\": {\"backgroundcolor\": \"#E5ECF6\", \"gridcolor\": \"white\", \"gridwidth\": 2, \"linecolor\": \"white\", \"showbackground\": true, \"ticks\": \"\", \"zerolinecolor\": \"white\"}, \"zaxis\": {\"backgroundcolor\": \"#E5ECF6\", \"gridcolor\": \"white\", \"gridwidth\": 2, \"linecolor\": \"white\", \"showbackground\": true, \"ticks\": \"\", \"zerolinecolor\": \"white\"}}, \"shapedefaults\": {\"line\": {\"color\": \"#2a3f5f\"}}, \"ternary\": {\"aaxis\": {\"gridcolor\": \"white\", \"linecolor\": \"white\", \"ticks\": \"\"}, \"baxis\": {\"gridcolor\": \"white\", \"linecolor\": \"white\", \"ticks\": \"\"}, \"bgcolor\": \"#E5ECF6\", \"caxis\": {\"gridcolor\": \"white\", \"linecolor\": \"white\", \"ticks\": \"\"}}, \"title\": {\"x\": 0.05}, \"xaxis\": {\"automargin\": true, \"gridcolor\": \"white\", \"linecolor\": \"white\", \"ticks\": \"\", \"title\": {\"standoff\": 15}, \"zerolinecolor\": \"white\", \"zerolinewidth\": 2}, \"yaxis\": {\"automargin\": true, \"gridcolor\": \"white\", \"linecolor\": \"white\", \"ticks\": \"\", \"title\": {\"standoff\": 15}, \"zerolinecolor\": \"white\", \"zerolinewidth\": 2}}}, \"title\": {\"text\": \"2020-2021\\uc5f0\\ub3c4 \\ubc0f 1~3\\uc6d4 \\ubcc4 \\ub300\\ud30c \\ud488\\uc885\\uba85 \\ubcc4 \\uac70\\ub798\\ub7c9\"}},                        {\"responsive\": true}                    ).then(function(){\n",
       "                            \n",
       "var gd = document.getElementById('6897cc42-ee7c-49be-ac33-53c6faefc629');\n",
       "var x = new MutationObserver(function (mutations, observer) {{\n",
       "        var display = window.getComputedStyle(gd).display;\n",
       "        if (!display || display === 'none') {{\n",
       "            console.log([gd, 'removed!']);\n",
       "            Plotly.purge(gd);\n",
       "            observer.disconnect();\n",
       "        }}\n",
       "}});\n",
       "\n",
       "// Listen for the removal of the full notebook cells\n",
       "var notebookContainer = gd.closest('#notebook-container');\n",
       "if (notebookContainer) {{\n",
       "    x.observe(notebookContainer, {childList: true});\n",
       "}}\n",
       "\n",
       "// Listen for the clearing of the current output cell\n",
       "var outputEl = gd.closest('.output');\n",
       "if (outputEl) {{\n",
       "    x.observe(outputEl, {childList: true});\n",
       "}}\n",
       "\n",
       "                        })                };                });            </script>        </div>"
      ]
     },
     "metadata": {},
     "output_type": "display_data"
    }
   ],
   "source": [
    "trace1 = go.Bar(x=result5['품종명'], y=result5['202001'], name='2020년 1월')\n",
    "trace2 = go.Bar(x=result5['품종명'], y=result5['202101'], name='2021년 1월')\n",
    "trace3 = go.Bar(x=result5['품종명'], y=result5['202002'], name='2020년 2월')\n",
    "trace4 = go.Bar(x=result5['품종명'], y=result5['202102'], name='2021년 2월')\n",
    "trace5 = go.Bar(x=result5['품종명'], y=result5['202003'], name='2020년 3월')\n",
    "trace6 = go.Bar(x=result5['품종명'], y=result5['202103'], name='2021년 3월')\n",
    "\n",
    "\n",
    "data = [trace1,trace2, trace3, trace4,trace5,trace6]\n",
    "layout = go.Layout(title='2020-2021연도 및 1~3월 별 대파 품종명 별 거래량')\n",
    "fig = go.Figure(data=data, layout=layout)\n",
    "pyo.iplot(fig)"
   ]
  },
  {
   "cell_type": "markdown",
   "metadata": {},
   "source": [
    "### 도매시장 별 거래량 순 ###"
   ]
  },
  {
   "cell_type": "code",
   "execution_count": null,
   "metadata": {},
   "outputs": [],
   "source": [
    "!pip install plotly\n",
    "\n",
    "import plotly.offline as pyo\n",
    "import plotly.graph_objs as go\n",
    "\n",
    "trace = go.Bar(x=asc_df_MTV['도매시장명'], y=asc_df_MTV['거래량_합계'],)\n",
    "data = [trace]\n",
    "layout = go.Layout(title='전국 도매시장 별 대파 거래량 합계 비교')\n",
    "fig = go.Figure(data=data, layout=layout)\n",
    "pyo.iplot(fig)\n"
   ]
  }
 ],
 "metadata": {
  "kernelspec": {
   "display_name": "pydata",
   "language": "python",
   "name": "pydata"
  },
  "language_info": {
   "codemirror_mode": {
    "name": "ipython",
    "version": 3
   },
   "file_extension": ".py",
   "mimetype": "text/x-python",
   "name": "python",
   "nbconvert_exporter": "python",
   "pygments_lexer": "ipython3",
   "version": "3.7.10"
  }
 },
 "nbformat": 4,
 "nbformat_minor": 4
}
