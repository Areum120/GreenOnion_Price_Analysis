{
 "cells": [
  {
   "cell_type": "code",
   "execution_count": 3,
   "metadata": {},
   "outputs": [],
   "source": [
    "import numpy as np\n",
    "import pandas as pd\n",
    "import os\n",
    "import warnings\n",
    "warnings.filterwarnings(action='ignore')\n",
    "#경고 메시지 숨기기"
   ]
  },
  {
   "cell_type": "code",
   "execution_count": 5,
   "metadata": {},
   "outputs": [
    {
     "name": "stdout",
     "output_type": "stream",
     "text": [
      "        Unnamed: 0  aucSeCode aucSeNm  catgoryCode  catgoryNewCode  \\\n",
      "0                0          2    정가수의           12              12   \n",
      "1                1          1      경매           12              12   \n",
      "2                2          1      경매           12              12   \n",
      "3                3          1      경매           12              12   \n",
      "4                4          1      경매           12              12   \n",
      "...            ...        ...     ...          ...             ...   \n",
      "101450        1775          1      경매           12              12   \n",
      "101451        1776          1      경매           12              12   \n",
      "101452           0          1      경매           12              12   \n",
      "101453           1          1      경매           12              12   \n",
      "101454           2          1      경매           12              12   \n",
      "\n",
      "       catgoryNewNm catgoryNm  cprInsttCode  cprInsttNewCode cprMtcCode  ...  \\\n",
      "0             조미채소류     조미채소류      24000101          6061101     585000  ...   \n",
      "1             조미채소류     조미채소류      24000101          6061101     570600  ...   \n",
      "2             조미채소류     조미채소류      24000101          6061101     570600  ...   \n",
      "3             조미채소류     조미채소류      24000101          6061101     570600  ...   \n",
      "4             조미채소류     조미채소류      24000101          6061101     570600  ...   \n",
      "...             ...       ...           ...              ...        ...  ...   \n",
      "101450        조미채소류     조미채소류      38040102          6052601     548800  ...   \n",
      "101451        조미채소류     조미채소류      38040102          6052601     548800  ...   \n",
      "101452        조미채소류     조미채소류      38020102          6044705     680000  ...   \n",
      "101453        조미채소류     조미채소류      38020102          6044705     680000  ...   \n",
      "101454        조미채소류     조미채소류      38020102          6044705     680000  ...   \n",
      "\n",
      "       stdSpciesNewCode stdSpciesNewNm stdSpciesNm  stdUnitNewCode  \\\n",
      "0                120201         대파(일반)      대파(일반)              12   \n",
      "1                120201         대파(일반)      대파(일반)              12   \n",
      "2                120201         대파(일반)      대파(일반)              12   \n",
      "3                120201         대파(일반)      대파(일반)              12   \n",
      "4                120201         대파(일반)      대파(일반)              12   \n",
      "...                 ...            ...         ...             ...   \n",
      "101450           120201         대파(일반)      대파(일반)              12   \n",
      "101451           120201         대파(일반)      대파(일반)              12   \n",
      "101452           120201         대파(일반)      대파(일반)              12   \n",
      "101453           120201         대파(일반)      대파(일반)              12   \n",
      "101454           120201         대파(일반)      대파(일반)              12   \n",
      "\n",
      "        stdUnitNewNm  whsalMrktCode whsalMrktNewCode whsalMrktNewNm  \\\n",
      "0                 kg         240001          1061101    광주각화농산물도매시장   \n",
      "1                 kg         240001          1061101    광주각화농산물도매시장   \n",
      "2                 kg         240001          1061101    광주각화농산물도매시장   \n",
      "3                 kg         240001          1061101    광주각화농산물도매시장   \n",
      "4                 kg         240001          1061101    광주각화농산물도매시장   \n",
      "...              ...            ...              ...            ...   \n",
      "101450            kg         380401          1052601      진주농산물도매시장   \n",
      "101451            kg         380401          1052601      진주농산물도매시장   \n",
      "101452            kg         380201          1044701     울산농수산물도매시장   \n",
      "101453            kg         380201          1044701     울산농수산물도매시장   \n",
      "101454            kg         380201          1044701     울산농수산물도매시장   \n",
      "\n",
      "        whsalMrktNm             sbidTime  \n",
      "0          광주각화도매시장                  NaN  \n",
      "1          광주각화도매시장                  NaN  \n",
      "2          광주각화도매시장                  NaN  \n",
      "3          광주각화도매시장                  NaN  \n",
      "4          광주각화도매시장                  NaN  \n",
      "...             ...                  ...  \n",
      "101450       진주도매시장  2020-01-11 08:00:00  \n",
      "101451       진주도매시장  2020-01-11 08:00:00  \n",
      "101452       울산도매시장                  NaN  \n",
      "101453       울산도매시장                  NaN  \n",
      "101454       울산도매시장                  NaN  \n",
      "\n",
      "[101455 rows x 47 columns]\n"
     ]
    }
   ],
   "source": [
    "#2020파일 불러오기\n",
    "\n",
    "all_data = pd.read_csv(r'C:\\Users\\tjfsu\\PycharmProjects\\pythonProject\\CallAPI\\Greenonion_20200101_0315\\all.csv', encoding='utf-8-sig')\n",
    "print(all_data)"
   ]
  },
  {
   "cell_type": "code",
   "execution_count": 6,
   "metadata": {},
   "outputs": [
    {
     "name": "stdout",
     "output_type": "stream",
     "text": [
      "       Unnamed: 0  aucSeCode aucSeNm  catgoryCode  catgoryNewCode  \\\n",
      "0               0          1      경매           12              12   \n",
      "1               1          1      경매           12              12   \n",
      "2               2          1      경매           12              12   \n",
      "3               3          1      경매           12              12   \n",
      "4               4          1      경매           12              12   \n",
      "...           ...        ...     ...          ...             ...   \n",
      "76199        1017          1      경매           12              12   \n",
      "76200        1018          1      경매           12              12   \n",
      "76201        1019          1      경매           12              12   \n",
      "76202        1020          1      경매           12              12   \n",
      "76203        1021          1      경매           12              12   \n",
      "\n",
      "      catgoryNewNm catgoryNm  cprInsttCode  cprInsttNewCode cprMtcCode  ...  \\\n",
      "0            조미채소류     조미채소류      24000101          6061101     535800  ...   \n",
      "1            조미채소류     조미채소류      24000101          6061101     535800  ...   \n",
      "2            조미채소류     조미채소류      24000101          6061101     535800  ...   \n",
      "3            조미채소류     조미채소류      24000101          6061101     535800  ...   \n",
      "4            조미채소류     조미채소류      24000101          6061101     560000  ...   \n",
      "...            ...       ...           ...              ...        ...  ...   \n",
      "76199        조미채소류     조미채소류      38040101          6052611     676000  ...   \n",
      "76200        조미채소류     조미채소류      38040101          6052611     676000  ...   \n",
      "76201        조미채소류     조미채소류      38040101          6052611     664600  ...   \n",
      "76202        조미채소류     조미채소류      38040101          6052611     664600  ...   \n",
      "76203        조미채소류     조미채소류      38040101          6052611     664600  ...   \n",
      "\n",
      "      stdSpciesNewNm stdSpciesNm  stdUnitNewCode  stdUnitNewNm  whsalMrktCode  \\\n",
      "0             대파(일반)      대파(일반)              12            kg         240001   \n",
      "1             대파(일반)      대파(일반)              12            kg         240001   \n",
      "2             대파(일반)      대파(일반)              12            kg         240001   \n",
      "3             대파(일반)      대파(일반)              12            kg         240001   \n",
      "4             대파(일반)      대파(일반)              12            kg         240001   \n",
      "...              ...         ...             ...           ...            ...   \n",
      "76199         대파(일반)      대파(일반)              12            kg         380401   \n",
      "76200         대파(일반)      대파(일반)              12            kg         380401   \n",
      "76201         대파(일반)      대파(일반)              12            kg         380401   \n",
      "76202         대파(일반)      대파(일반)              12            kg         380401   \n",
      "76203         대파(일반)      대파(일반)              12            kg         380401   \n",
      "\n",
      "      whsalMrktNewCode whsalMrktNewNm  whsalMrktNm  cprMtcNm  sbidTime  \n",
      "0              1061101    광주각화농산물도매시장     광주각화도매시장       NaN       NaN  \n",
      "1              1061101    광주각화농산물도매시장     광주각화도매시장       NaN       NaN  \n",
      "2              1061101    광주각화농산물도매시장     광주각화도매시장       NaN       NaN  \n",
      "3              1061101    광주각화농산물도매시장     광주각화도매시장       NaN       NaN  \n",
      "4              1061101    광주각화농산물도매시장     광주각화도매시장  전라북도 전주시       NaN  \n",
      "...                ...            ...          ...       ...       ...  \n",
      "76199          1052601      진주농산물도매시장       진주도매시장  경상남도 함양군       NaN  \n",
      "76200          1052601      진주농산물도매시장       진주도매시장  경상남도 함양군       NaN  \n",
      "76201          1052601      진주농산물도매시장       진주도매시장       NaN       NaN  \n",
      "76202          1052601      진주농산물도매시장       진주도매시장       NaN       NaN  \n",
      "76203          1052601      진주농산물도매시장       진주도매시장       NaN       NaN  \n",
      "\n",
      "[76204 rows x 47 columns]\n"
     ]
    }
   ],
   "source": [
    "\n",
    "all_data2 = pd.read_csv(r'C:\\Users\\tjfsu\\PycharmProjects\\pythonProject\\CallAPI\\Greenonion_20210101_0315\\all.csv', encoding='utf-8-sig')\n",
    "print(all_data2)"
   ]
  },
  {
   "cell_type": "code",
   "execution_count": 7,
   "metadata": {},
   "outputs": [
    {
     "data": {
      "text/html": [
       "<div>\n",
       "<style scoped>\n",
       "    .dataframe tbody tr th:only-of-type {\n",
       "        vertical-align: middle;\n",
       "    }\n",
       "\n",
       "    .dataframe tbody tr th {\n",
       "        vertical-align: top;\n",
       "    }\n",
       "\n",
       "    .dataframe thead th {\n",
       "        text-align: right;\n",
       "    }\n",
       "</style>\n",
       "<table border=\"1\" class=\"dataframe\">\n",
       "  <thead>\n",
       "    <tr style=\"text-align: right;\">\n",
       "      <th></th>\n",
       "      <th>Unnamed: 0</th>\n",
       "      <th>aucSeCode</th>\n",
       "      <th>aucSeNm</th>\n",
       "      <th>catgoryCode</th>\n",
       "      <th>catgoryNewCode</th>\n",
       "      <th>catgoryNewNm</th>\n",
       "      <th>catgoryNm</th>\n",
       "      <th>cprInsttCode</th>\n",
       "      <th>cprInsttNewCode</th>\n",
       "      <th>cprMtcCode</th>\n",
       "      <th>...</th>\n",
       "      <th>stdSpciesNewCode</th>\n",
       "      <th>stdSpciesNewNm</th>\n",
       "      <th>stdSpciesNm</th>\n",
       "      <th>stdUnitNewCode</th>\n",
       "      <th>stdUnitNewNm</th>\n",
       "      <th>whsalMrktCode</th>\n",
       "      <th>whsalMrktNewCode</th>\n",
       "      <th>whsalMrktNewNm</th>\n",
       "      <th>whsalMrktNm</th>\n",
       "      <th>sbidTime</th>\n",
       "    </tr>\n",
       "  </thead>\n",
       "  <tbody>\n",
       "    <tr>\n",
       "      <th>0</th>\n",
       "      <td>0</td>\n",
       "      <td>2</td>\n",
       "      <td>정가수의</td>\n",
       "      <td>12</td>\n",
       "      <td>12</td>\n",
       "      <td>조미채소류</td>\n",
       "      <td>조미채소류</td>\n",
       "      <td>24000101</td>\n",
       "      <td>6061101</td>\n",
       "      <td>585000</td>\n",
       "      <td>...</td>\n",
       "      <td>120201</td>\n",
       "      <td>대파(일반)</td>\n",
       "      <td>대파(일반)</td>\n",
       "      <td>12</td>\n",
       "      <td>kg</td>\n",
       "      <td>240001</td>\n",
       "      <td>1061101</td>\n",
       "      <td>광주각화농산물도매시장</td>\n",
       "      <td>광주각화도매시장</td>\n",
       "      <td>NaN</td>\n",
       "    </tr>\n",
       "    <tr>\n",
       "      <th>1</th>\n",
       "      <td>1</td>\n",
       "      <td>1</td>\n",
       "      <td>경매</td>\n",
       "      <td>12</td>\n",
       "      <td>12</td>\n",
       "      <td>조미채소류</td>\n",
       "      <td>조미채소류</td>\n",
       "      <td>24000101</td>\n",
       "      <td>6061101</td>\n",
       "      <td>570600</td>\n",
       "      <td>...</td>\n",
       "      <td>120201</td>\n",
       "      <td>대파(일반)</td>\n",
       "      <td>대파(일반)</td>\n",
       "      <td>12</td>\n",
       "      <td>kg</td>\n",
       "      <td>240001</td>\n",
       "      <td>1061101</td>\n",
       "      <td>광주각화농산물도매시장</td>\n",
       "      <td>광주각화도매시장</td>\n",
       "      <td>NaN</td>\n",
       "    </tr>\n",
       "    <tr>\n",
       "      <th>2</th>\n",
       "      <td>2</td>\n",
       "      <td>1</td>\n",
       "      <td>경매</td>\n",
       "      <td>12</td>\n",
       "      <td>12</td>\n",
       "      <td>조미채소류</td>\n",
       "      <td>조미채소류</td>\n",
       "      <td>24000101</td>\n",
       "      <td>6061101</td>\n",
       "      <td>570600</td>\n",
       "      <td>...</td>\n",
       "      <td>120201</td>\n",
       "      <td>대파(일반)</td>\n",
       "      <td>대파(일반)</td>\n",
       "      <td>12</td>\n",
       "      <td>kg</td>\n",
       "      <td>240001</td>\n",
       "      <td>1061101</td>\n",
       "      <td>광주각화농산물도매시장</td>\n",
       "      <td>광주각화도매시장</td>\n",
       "      <td>NaN</td>\n",
       "    </tr>\n",
       "    <tr>\n",
       "      <th>3</th>\n",
       "      <td>3</td>\n",
       "      <td>1</td>\n",
       "      <td>경매</td>\n",
       "      <td>12</td>\n",
       "      <td>12</td>\n",
       "      <td>조미채소류</td>\n",
       "      <td>조미채소류</td>\n",
       "      <td>24000101</td>\n",
       "      <td>6061101</td>\n",
       "      <td>570600</td>\n",
       "      <td>...</td>\n",
       "      <td>120201</td>\n",
       "      <td>대파(일반)</td>\n",
       "      <td>대파(일반)</td>\n",
       "      <td>12</td>\n",
       "      <td>kg</td>\n",
       "      <td>240001</td>\n",
       "      <td>1061101</td>\n",
       "      <td>광주각화농산물도매시장</td>\n",
       "      <td>광주각화도매시장</td>\n",
       "      <td>NaN</td>\n",
       "    </tr>\n",
       "    <tr>\n",
       "      <th>4</th>\n",
       "      <td>4</td>\n",
       "      <td>1</td>\n",
       "      <td>경매</td>\n",
       "      <td>12</td>\n",
       "      <td>12</td>\n",
       "      <td>조미채소류</td>\n",
       "      <td>조미채소류</td>\n",
       "      <td>24000101</td>\n",
       "      <td>6061101</td>\n",
       "      <td>570600</td>\n",
       "      <td>...</td>\n",
       "      <td>120201</td>\n",
       "      <td>대파(일반)</td>\n",
       "      <td>대파(일반)</td>\n",
       "      <td>12</td>\n",
       "      <td>kg</td>\n",
       "      <td>240001</td>\n",
       "      <td>1061101</td>\n",
       "      <td>광주각화농산물도매시장</td>\n",
       "      <td>광주각화도매시장</td>\n",
       "      <td>NaN</td>\n",
       "    </tr>\n",
       "    <tr>\n",
       "      <th>...</th>\n",
       "      <td>...</td>\n",
       "      <td>...</td>\n",
       "      <td>...</td>\n",
       "      <td>...</td>\n",
       "      <td>...</td>\n",
       "      <td>...</td>\n",
       "      <td>...</td>\n",
       "      <td>...</td>\n",
       "      <td>...</td>\n",
       "      <td>...</td>\n",
       "      <td>...</td>\n",
       "      <td>...</td>\n",
       "      <td>...</td>\n",
       "      <td>...</td>\n",
       "      <td>...</td>\n",
       "      <td>...</td>\n",
       "      <td>...</td>\n",
       "      <td>...</td>\n",
       "      <td>...</td>\n",
       "      <td>...</td>\n",
       "      <td>...</td>\n",
       "    </tr>\n",
       "    <tr>\n",
       "      <th>76199</th>\n",
       "      <td>1017</td>\n",
       "      <td>1</td>\n",
       "      <td>경매</td>\n",
       "      <td>12</td>\n",
       "      <td>12</td>\n",
       "      <td>조미채소류</td>\n",
       "      <td>조미채소류</td>\n",
       "      <td>38040101</td>\n",
       "      <td>6052611</td>\n",
       "      <td>676000</td>\n",
       "      <td>...</td>\n",
       "      <td>120201</td>\n",
       "      <td>대파(일반)</td>\n",
       "      <td>대파(일반)</td>\n",
       "      <td>12</td>\n",
       "      <td>kg</td>\n",
       "      <td>380401</td>\n",
       "      <td>1052601</td>\n",
       "      <td>진주농산물도매시장</td>\n",
       "      <td>진주도매시장</td>\n",
       "      <td>NaN</td>\n",
       "    </tr>\n",
       "    <tr>\n",
       "      <th>76200</th>\n",
       "      <td>1018</td>\n",
       "      <td>1</td>\n",
       "      <td>경매</td>\n",
       "      <td>12</td>\n",
       "      <td>12</td>\n",
       "      <td>조미채소류</td>\n",
       "      <td>조미채소류</td>\n",
       "      <td>38040101</td>\n",
       "      <td>6052611</td>\n",
       "      <td>676000</td>\n",
       "      <td>...</td>\n",
       "      <td>120201</td>\n",
       "      <td>대파(일반)</td>\n",
       "      <td>대파(일반)</td>\n",
       "      <td>12</td>\n",
       "      <td>kg</td>\n",
       "      <td>380401</td>\n",
       "      <td>1052601</td>\n",
       "      <td>진주농산물도매시장</td>\n",
       "      <td>진주도매시장</td>\n",
       "      <td>NaN</td>\n",
       "    </tr>\n",
       "    <tr>\n",
       "      <th>76201</th>\n",
       "      <td>1019</td>\n",
       "      <td>1</td>\n",
       "      <td>경매</td>\n",
       "      <td>12</td>\n",
       "      <td>12</td>\n",
       "      <td>조미채소류</td>\n",
       "      <td>조미채소류</td>\n",
       "      <td>38040101</td>\n",
       "      <td>6052611</td>\n",
       "      <td>664600</td>\n",
       "      <td>...</td>\n",
       "      <td>120201</td>\n",
       "      <td>대파(일반)</td>\n",
       "      <td>대파(일반)</td>\n",
       "      <td>12</td>\n",
       "      <td>kg</td>\n",
       "      <td>380401</td>\n",
       "      <td>1052601</td>\n",
       "      <td>진주농산물도매시장</td>\n",
       "      <td>진주도매시장</td>\n",
       "      <td>NaN</td>\n",
       "    </tr>\n",
       "    <tr>\n",
       "      <th>76202</th>\n",
       "      <td>1020</td>\n",
       "      <td>1</td>\n",
       "      <td>경매</td>\n",
       "      <td>12</td>\n",
       "      <td>12</td>\n",
       "      <td>조미채소류</td>\n",
       "      <td>조미채소류</td>\n",
       "      <td>38040101</td>\n",
       "      <td>6052611</td>\n",
       "      <td>664600</td>\n",
       "      <td>...</td>\n",
       "      <td>120201</td>\n",
       "      <td>대파(일반)</td>\n",
       "      <td>대파(일반)</td>\n",
       "      <td>12</td>\n",
       "      <td>kg</td>\n",
       "      <td>380401</td>\n",
       "      <td>1052601</td>\n",
       "      <td>진주농산물도매시장</td>\n",
       "      <td>진주도매시장</td>\n",
       "      <td>NaN</td>\n",
       "    </tr>\n",
       "    <tr>\n",
       "      <th>76203</th>\n",
       "      <td>1021</td>\n",
       "      <td>1</td>\n",
       "      <td>경매</td>\n",
       "      <td>12</td>\n",
       "      <td>12</td>\n",
       "      <td>조미채소류</td>\n",
       "      <td>조미채소류</td>\n",
       "      <td>38040101</td>\n",
       "      <td>6052611</td>\n",
       "      <td>664600</td>\n",
       "      <td>...</td>\n",
       "      <td>120201</td>\n",
       "      <td>대파(일반)</td>\n",
       "      <td>대파(일반)</td>\n",
       "      <td>12</td>\n",
       "      <td>kg</td>\n",
       "      <td>380401</td>\n",
       "      <td>1052601</td>\n",
       "      <td>진주농산물도매시장</td>\n",
       "      <td>진주도매시장</td>\n",
       "      <td>NaN</td>\n",
       "    </tr>\n",
       "  </tbody>\n",
       "</table>\n",
       "<p>177659 rows × 47 columns</p>\n",
       "</div>"
      ],
      "text/plain": [
       "       Unnamed: 0  aucSeCode aucSeNm  catgoryCode  catgoryNewCode  \\\n",
       "0               0          2    정가수의           12              12   \n",
       "1               1          1      경매           12              12   \n",
       "2               2          1      경매           12              12   \n",
       "3               3          1      경매           12              12   \n",
       "4               4          1      경매           12              12   \n",
       "...           ...        ...     ...          ...             ...   \n",
       "76199        1017          1      경매           12              12   \n",
       "76200        1018          1      경매           12              12   \n",
       "76201        1019          1      경매           12              12   \n",
       "76202        1020          1      경매           12              12   \n",
       "76203        1021          1      경매           12              12   \n",
       "\n",
       "      catgoryNewNm catgoryNm  cprInsttCode  cprInsttNewCode cprMtcCode  ...  \\\n",
       "0            조미채소류     조미채소류      24000101          6061101     585000  ...   \n",
       "1            조미채소류     조미채소류      24000101          6061101     570600  ...   \n",
       "2            조미채소류     조미채소류      24000101          6061101     570600  ...   \n",
       "3            조미채소류     조미채소류      24000101          6061101     570600  ...   \n",
       "4            조미채소류     조미채소류      24000101          6061101     570600  ...   \n",
       "...            ...       ...           ...              ...        ...  ...   \n",
       "76199        조미채소류     조미채소류      38040101          6052611     676000  ...   \n",
       "76200        조미채소류     조미채소류      38040101          6052611     676000  ...   \n",
       "76201        조미채소류     조미채소류      38040101          6052611     664600  ...   \n",
       "76202        조미채소류     조미채소류      38040101          6052611     664600  ...   \n",
       "76203        조미채소류     조미채소류      38040101          6052611     664600  ...   \n",
       "\n",
       "      stdSpciesNewCode stdSpciesNewNm stdSpciesNm  stdUnitNewCode  \\\n",
       "0               120201         대파(일반)      대파(일반)              12   \n",
       "1               120201         대파(일반)      대파(일반)              12   \n",
       "2               120201         대파(일반)      대파(일반)              12   \n",
       "3               120201         대파(일반)      대파(일반)              12   \n",
       "4               120201         대파(일반)      대파(일반)              12   \n",
       "...                ...            ...         ...             ...   \n",
       "76199           120201         대파(일반)      대파(일반)              12   \n",
       "76200           120201         대파(일반)      대파(일반)              12   \n",
       "76201           120201         대파(일반)      대파(일반)              12   \n",
       "76202           120201         대파(일반)      대파(일반)              12   \n",
       "76203           120201         대파(일반)      대파(일반)              12   \n",
       "\n",
       "       stdUnitNewNm  whsalMrktCode whsalMrktNewCode whsalMrktNewNm  \\\n",
       "0                kg         240001          1061101    광주각화농산물도매시장   \n",
       "1                kg         240001          1061101    광주각화농산물도매시장   \n",
       "2                kg         240001          1061101    광주각화농산물도매시장   \n",
       "3                kg         240001          1061101    광주각화농산물도매시장   \n",
       "4                kg         240001          1061101    광주각화농산물도매시장   \n",
       "...             ...            ...              ...            ...   \n",
       "76199            kg         380401          1052601      진주농산물도매시장   \n",
       "76200            kg         380401          1052601      진주농산물도매시장   \n",
       "76201            kg         380401          1052601      진주농산물도매시장   \n",
       "76202            kg         380401          1052601      진주농산물도매시장   \n",
       "76203            kg         380401          1052601      진주농산물도매시장   \n",
       "\n",
       "       whsalMrktNm  sbidTime  \n",
       "0         광주각화도매시장       NaN  \n",
       "1         광주각화도매시장       NaN  \n",
       "2         광주각화도매시장       NaN  \n",
       "3         광주각화도매시장       NaN  \n",
       "4         광주각화도매시장       NaN  \n",
       "...            ...       ...  \n",
       "76199       진주도매시장       NaN  \n",
       "76200       진주도매시장       NaN  \n",
       "76201       진주도매시장       NaN  \n",
       "76202       진주도매시장       NaN  \n",
       "76203       진주도매시장       NaN  \n",
       "\n",
       "[177659 rows x 47 columns]"
      ]
     },
     "execution_count": 7,
     "metadata": {},
     "output_type": "execute_result"
    }
   ],
   "source": [
    "result = pd.concat([all_data, all_data2])#2020,2021데이터 합치기\n",
    "result"
   ]
  },
  {
   "cell_type": "code",
   "execution_count": 11,
   "metadata": {},
   "outputs": [
    {
     "data": {
      "text/plain": [
       "Unnamed: 0               0\n",
       "aucSeCode                0\n",
       "aucSeNm                822\n",
       "catgoryCode              0\n",
       "catgoryNewCode           0\n",
       "catgoryNewNm             0\n",
       "catgoryNm                0\n",
       "cprInsttCode             0\n",
       "cprInsttNewCode          0\n",
       "cprMtcCode               0\n",
       "cprMtcNm             82848\n",
       "cprUsePrdlstCode     35287\n",
       "cprUsePrdlstNm       52041\n",
       "delngDe                  0\n",
       "delngPrut                0\n",
       "delngQy                  0\n",
       "insttNewNm            2136\n",
       "insttNm                  0\n",
       "ledgNo                   0\n",
       "rnum                     0\n",
       "sbidPric                 0\n",
       "shipmntSeCode        33197\n",
       "shipmntSeNm          33197\n",
       "sleSeqn                  0\n",
       "stdFrmlcNewCode          0\n",
       "stdFrmlcNewNm            0\n",
       "stdMgNewCode             0\n",
       "stdMgNewNm               0\n",
       "stdMtcNewCode            0\n",
       "stdMtcNewNm           5322\n",
       "stdPrdlstCode            0\n",
       "stdPrdlstNewCode         0\n",
       "stdPrdlstNewNm           0\n",
       "stdPrdlstNm              0\n",
       "stdQlityNewCode          0\n",
       "stdQlityNewNm            0\n",
       "stdSpciesCode            0\n",
       "stdSpciesNewCode         0\n",
       "stdSpciesNewNm           0\n",
       "stdSpciesNm              0\n",
       "stdUnitNewCode           0\n",
       "stdUnitNewNm             0\n",
       "whsalMrktCode            0\n",
       "whsalMrktNewCode         0\n",
       "whsalMrktNewNm           0\n",
       "whsalMrktNm              0\n",
       "sbidTime            112548\n",
       "dtype: int64"
      ]
     },
     "execution_count": 11,
     "metadata": {},
     "output_type": "execute_result"
    }
   ],
   "source": [
    "result.isnull().sum()#결측치 갯수 확인"
   ]
  },
  {
   "cell_type": "code",
   "execution_count": 19,
   "metadata": {},
   "outputs": [
    {
     "name": "stdout",
     "output_type": "stream",
     "text": [
      "<class 'pandas.core.frame.DataFrame'>\n",
      "Int64Index: 177659 entries, 0 to 76203\n",
      "Data columns (total 47 columns):\n",
      " #   Column            Non-Null Count   Dtype  \n",
      "---  ------            --------------   -----  \n",
      " 0   Unnamed: 0        177659 non-null  int64  \n",
      " 1   경매구분코드            177659 non-null  int64  \n",
      " 2   경매구분코드명           176837 non-null  object \n",
      " 3   catgoryCode       177659 non-null  int64  \n",
      " 4   catgoryNewCode    177659 non-null  int64  \n",
      " 5   catgoryNewNm      177659 non-null  object \n",
      " 6   부류명               177659 non-null  object \n",
      " 7   도매시장법인코드          177659 non-null  int64  \n",
      " 8   cprInsttNewCode   177659 non-null  int64  \n",
      " 9   산지코드              177659 non-null  object \n",
      " 10  산지명2              94811 non-null   object \n",
      " 11  cprUsePrdlstCode  142372 non-null  object \n",
      " 12  법인사용품목명           125618 non-null  object \n",
      " 13  경락일자              177659 non-null  int64  \n",
      " 14  delngPrut         177659 non-null  float64\n",
      " 15  거래량               177659 non-null  int64  \n",
      " 16  insttNewNm        175523 non-null  object \n",
      " 17  도매시장법인명           177659 non-null  object \n",
      " 18  경매원표번호            177659 non-null  int64  \n",
      " 19  한페이지결과수           177659 non-null  int64  \n",
      " 20  거래가격              177659 non-null  int64  \n",
      " 21  출하구분코드            144462 non-null  float64\n",
      " 22  출하구분명             144462 non-null  object \n",
      " 23  일련번호              177659 non-null  object \n",
      " 24  포장상태코드            177659 non-null  object \n",
      " 25  포장상태명             177659 non-null  object \n",
      " 26  stdMgNewCode      177659 non-null  object \n",
      " 27  stdMgNewNm        177659 non-null  object \n",
      " 28  stdMtcNewCode     177659 non-null  object \n",
      " 29  산지명               172337 non-null  object \n",
      " 30  stdPrdlstCode     177659 non-null  int64  \n",
      " 31  stdPrdlstNewCode  177659 non-null  int64  \n",
      " 32  stdPrdlstNewNm    177659 non-null  object \n",
      " 33  품목명               177659 non-null  object \n",
      " 34  등급코드              177659 non-null  object \n",
      " 35  등급명               177659 non-null  object \n",
      " 36  품종코드              177659 non-null  int64  \n",
      " 37  stdSpciesNewCode  177659 non-null  int64  \n",
      " 38  stdSpciesNewNm    177659 non-null  object \n",
      " 39  품종명               177659 non-null  object \n",
      " 40  거래규격단위코드          177659 non-null  int64  \n",
      " 41  거래단위명             177659 non-null  object \n",
      " 42  도매시장코드            177659 non-null  int64  \n",
      " 43  whsalMrktNewCode  177659 non-null  int64  \n",
      " 44  whsalMrktNewNm    177659 non-null  object \n",
      " 45  도매시장명             177659 non-null  object \n",
      " 46  경매시간              65111 non-null   object \n",
      "dtypes: float64(2), int64(18), object(27)\n",
      "memory usage: 65.1+ MB\n"
     ]
    }
   ],
   "source": [
    "result2 = result.rename({'aucSeCode':'경매구분코드','aucSeNm':'경매구분코드명','catgoryNm':'부류명','cprInsttCode':'도매시장법인코드','cprMtcCode':'산지코드','prUsePrdlstCode':'법인사용품목코드','cprUsePrdlstNm':'법인사용품목명','delngDe':'경락일자',' delngPrut':'거래단위량','delngQy':'거래량','insttNm':'도매시장법인명','ledgNo':'경매원표번호','rnum':'한페이지결과수','sbidPric':'거래가격','shipmntSeCode':'출하구분코드','shipmntSeNm':'출하구분명','sleSeqn':'일련번호','stdFrmlcNewCode':'포장상태코드','stdFrmlcNewNm':'포장상태명','stdMtcNewNm':'산지명',' stdPrdlstCode':'품목코드','stdPrdlstNm':'품목명','stdSpciesCode':'품종코드','stdSpciesNm':'품종명','stdQlityNewCode':'등급코드','stdQlityNewNm':'등급명','stdUnitNewCode':'거래규격단위코드','stdUnitNewNm':'거래단위명','whsalMrktCode':'도매시장코드','whsalMrktNm':'도매시장명','cprMtcNm':'산지명2','sbidTime':'경매시간'}, axis = 'columns')\n",
    "result2.info()"
   ]
  },
  {
   "cell_type": "code",
   "execution_count": 21,
   "metadata": {
    "scrolled": false
   },
   "outputs": [
    {
     "data": {
      "text/html": [
       "<div>\n",
       "<style scoped>\n",
       "    .dataframe tbody tr th:only-of-type {\n",
       "        vertical-align: middle;\n",
       "    }\n",
       "\n",
       "    .dataframe tbody tr th {\n",
       "        vertical-align: top;\n",
       "    }\n",
       "\n",
       "    .dataframe thead th {\n",
       "        text-align: right;\n",
       "    }\n",
       "</style>\n",
       "<table border=\"1\" class=\"dataframe\">\n",
       "  <thead>\n",
       "    <tr style=\"text-align: right;\">\n",
       "      <th></th>\n",
       "      <th>경락일자</th>\n",
       "      <th>거래량</th>\n",
       "      <th>거래가격</th>\n",
       "    </tr>\n",
       "  </thead>\n",
       "  <tbody>\n",
       "    <tr>\n",
       "      <th>0</th>\n",
       "      <td>20200102</td>\n",
       "      <td>500</td>\n",
       "      <td>6000</td>\n",
       "    </tr>\n",
       "    <tr>\n",
       "      <th>1</th>\n",
       "      <td>20200102</td>\n",
       "      <td>120</td>\n",
       "      <td>2500</td>\n",
       "    </tr>\n",
       "    <tr>\n",
       "      <th>2</th>\n",
       "      <td>20200102</td>\n",
       "      <td>170</td>\n",
       "      <td>2500</td>\n",
       "    </tr>\n",
       "    <tr>\n",
       "      <th>3</th>\n",
       "      <td>20200102</td>\n",
       "      <td>150</td>\n",
       "      <td>2300</td>\n",
       "    </tr>\n",
       "    <tr>\n",
       "      <th>4</th>\n",
       "      <td>20200102</td>\n",
       "      <td>150</td>\n",
       "      <td>2400</td>\n",
       "    </tr>\n",
       "    <tr>\n",
       "      <th>...</th>\n",
       "      <td>...</td>\n",
       "      <td>...</td>\n",
       "      <td>...</td>\n",
       "    </tr>\n",
       "    <tr>\n",
       "      <th>76199</th>\n",
       "      <td>20210113</td>\n",
       "      <td>110</td>\n",
       "      <td>6900</td>\n",
       "    </tr>\n",
       "    <tr>\n",
       "      <th>76200</th>\n",
       "      <td>20210113</td>\n",
       "      <td>12</td>\n",
       "      <td>12000</td>\n",
       "    </tr>\n",
       "    <tr>\n",
       "      <th>76201</th>\n",
       "      <td>20210113</td>\n",
       "      <td>110</td>\n",
       "      <td>6900</td>\n",
       "    </tr>\n",
       "    <tr>\n",
       "      <th>76202</th>\n",
       "      <td>20210113</td>\n",
       "      <td>110</td>\n",
       "      <td>6900</td>\n",
       "    </tr>\n",
       "    <tr>\n",
       "      <th>76203</th>\n",
       "      <td>20210113</td>\n",
       "      <td>110</td>\n",
       "      <td>6900</td>\n",
       "    </tr>\n",
       "  </tbody>\n",
       "</table>\n",
       "<p>177659 rows × 3 columns</p>\n",
       "</div>"
      ],
      "text/plain": [
       "           경락일자  거래량   거래가격\n",
       "0      20200102  500   6000\n",
       "1      20200102  120   2500\n",
       "2      20200102  170   2500\n",
       "3      20200102  150   2300\n",
       "4      20200102  150   2400\n",
       "...         ...  ...    ...\n",
       "76199  20210113  110   6900\n",
       "76200  20210113   12  12000\n",
       "76201  20210113  110   6900\n",
       "76202  20210113  110   6900\n",
       "76203  20210113  110   6900\n",
       "\n",
       "[177659 rows x 3 columns]"
      ]
     },
     "execution_count": 21,
     "metadata": {},
     "output_type": "execute_result"
    }
   ],
   "source": [
    "result3 = result2[['경락일자','거래량','거래가격']]\n",
    "result3"
   ]
  },
  {
   "cell_type": "code",
   "execution_count": 23,
   "metadata": {},
   "outputs": [
    {
     "data": {
      "text/plain": [
       "0       2020-01-02\n",
       "1       2020-01-02\n",
       "2       2020-01-02\n",
       "3       2020-01-02\n",
       "4       2020-01-02\n",
       "           ...    \n",
       "76199   2021-01-13\n",
       "76200   2021-01-13\n",
       "76201   2021-01-13\n",
       "76202   2021-01-13\n",
       "76203   2021-01-13\n",
       "Name: 경락일자, Length: 177659, dtype: datetime64[ns]"
      ]
     },
     "execution_count": 23,
     "metadata": {},
     "output_type": "execute_result"
    }
   ],
   "source": [
    "result3['경락일자'] = pd.to_datetime(result3['경락일자'], format='%Y%m%d')\n",
    "result3['경락일자']"
   ]
  },
  {
   "cell_type": "code",
   "execution_count": 24,
   "metadata": {},
   "outputs": [
    {
     "data": {
      "text/html": [
       "<div>\n",
       "<style scoped>\n",
       "    .dataframe tbody tr th:only-of-type {\n",
       "        vertical-align: middle;\n",
       "    }\n",
       "\n",
       "    .dataframe tbody tr th {\n",
       "        vertical-align: top;\n",
       "    }\n",
       "\n",
       "    .dataframe thead th {\n",
       "        text-align: right;\n",
       "    }\n",
       "</style>\n",
       "<table border=\"1\" class=\"dataframe\">\n",
       "  <thead>\n",
       "    <tr style=\"text-align: right;\">\n",
       "      <th></th>\n",
       "      <th>경락일자</th>\n",
       "      <th>거래량</th>\n",
       "      <th>거래가격</th>\n",
       "    </tr>\n",
       "  </thead>\n",
       "  <tbody>\n",
       "    <tr>\n",
       "      <th>0</th>\n",
       "      <td>2020-01-02</td>\n",
       "      <td>500</td>\n",
       "      <td>6000</td>\n",
       "    </tr>\n",
       "    <tr>\n",
       "      <th>1</th>\n",
       "      <td>2020-01-02</td>\n",
       "      <td>120</td>\n",
       "      <td>2500</td>\n",
       "    </tr>\n",
       "    <tr>\n",
       "      <th>2</th>\n",
       "      <td>2020-01-02</td>\n",
       "      <td>170</td>\n",
       "      <td>2500</td>\n",
       "    </tr>\n",
       "    <tr>\n",
       "      <th>3</th>\n",
       "      <td>2020-01-02</td>\n",
       "      <td>150</td>\n",
       "      <td>2300</td>\n",
       "    </tr>\n",
       "    <tr>\n",
       "      <th>4</th>\n",
       "      <td>2020-01-02</td>\n",
       "      <td>150</td>\n",
       "      <td>2400</td>\n",
       "    </tr>\n",
       "    <tr>\n",
       "      <th>...</th>\n",
       "      <td>...</td>\n",
       "      <td>...</td>\n",
       "      <td>...</td>\n",
       "    </tr>\n",
       "    <tr>\n",
       "      <th>76199</th>\n",
       "      <td>2021-01-13</td>\n",
       "      <td>110</td>\n",
       "      <td>6900</td>\n",
       "    </tr>\n",
       "    <tr>\n",
       "      <th>76200</th>\n",
       "      <td>2021-01-13</td>\n",
       "      <td>12</td>\n",
       "      <td>12000</td>\n",
       "    </tr>\n",
       "    <tr>\n",
       "      <th>76201</th>\n",
       "      <td>2021-01-13</td>\n",
       "      <td>110</td>\n",
       "      <td>6900</td>\n",
       "    </tr>\n",
       "    <tr>\n",
       "      <th>76202</th>\n",
       "      <td>2021-01-13</td>\n",
       "      <td>110</td>\n",
       "      <td>6900</td>\n",
       "    </tr>\n",
       "    <tr>\n",
       "      <th>76203</th>\n",
       "      <td>2021-01-13</td>\n",
       "      <td>110</td>\n",
       "      <td>6900</td>\n",
       "    </tr>\n",
       "  </tbody>\n",
       "</table>\n",
       "<p>177659 rows × 3 columns</p>\n",
       "</div>"
      ],
      "text/plain": [
       "            경락일자  거래량   거래가격\n",
       "0     2020-01-02  500   6000\n",
       "1     2020-01-02  120   2500\n",
       "2     2020-01-02  170   2500\n",
       "3     2020-01-02  150   2300\n",
       "4     2020-01-02  150   2400\n",
       "...          ...  ...    ...\n",
       "76199 2021-01-13  110   6900\n",
       "76200 2021-01-13   12  12000\n",
       "76201 2021-01-13  110   6900\n",
       "76202 2021-01-13  110   6900\n",
       "76203 2021-01-13  110   6900\n",
       "\n",
       "[177659 rows x 3 columns]"
      ]
     },
     "execution_count": 24,
     "metadata": {},
     "output_type": "execute_result"
    }
   ],
   "source": [
    "result3"
   ]
  },
  {
   "cell_type": "markdown",
   "metadata": {},
   "source": [
    "## 특정 데이터 날짜로 조회 ##\n",
    "참고 : https://zephyrus1111.tistory.com/69"
   ]
  },
  {
   "cell_type": "code",
   "execution_count": 36,
   "metadata": {},
   "outputs": [],
   "source": [
    "target_year = 2020 # 2020년\n",
    "df2020 = result3[result3['경락일자'].dt.year==target_year]"
   ]
  },
  {
   "cell_type": "code",
   "execution_count": 38,
   "metadata": {},
   "outputs": [],
   "source": [
    "target_month = 1 # 1월\n",
    "Jan20 = df2020[df2020['경락일자'].dt.month==target_month]"
   ]
  },
  {
   "cell_type": "code",
   "execution_count": 39,
   "metadata": {},
   "outputs": [],
   "source": [
    "target_month = 2 # 2월\n",
    "Feb20 = df2020[df2020['경락일자'].dt.month==target_month]"
   ]
  },
  {
   "cell_type": "code",
   "execution_count": 40,
   "metadata": {},
   "outputs": [],
   "source": [
    "target_month = 3 # 3월\n",
    "Mar20 = df2020[df2020['경락일자'].dt.month==target_month]"
   ]
  },
  {
   "cell_type": "code",
   "execution_count": 42,
   "metadata": {},
   "outputs": [],
   "source": [
    "target_year = 2021 # 2021년\n",
    "df2021 = result3[result3['경락일자'].dt.year==target_year]"
   ]
  },
  {
   "cell_type": "code",
   "execution_count": 43,
   "metadata": {},
   "outputs": [],
   "source": [
    "target_month = 1 # 1월\n",
    "Jan21 = df2021[df2021['경락일자'].dt.month==target_month]"
   ]
  },
  {
   "cell_type": "code",
   "execution_count": 44,
   "metadata": {},
   "outputs": [],
   "source": [
    "target_month = 2 # 2월\n",
    "Feb21 = df2021[df2021['경락일자'].dt.month==target_month]"
   ]
  },
  {
   "cell_type": "code",
   "execution_count": 45,
   "metadata": {},
   "outputs": [],
   "source": [
    "target_month = 3 # 3월\n",
    "Mar21 = df2021[df2021['경락일자'].dt.month==target_month]"
   ]
  },
  {
   "cell_type": "markdown",
   "metadata": {},
   "source": [
    "## 연월 별 거래량, 거래가격 합하기 ##"
   ]
  },
  {
   "cell_type": "code",
   "execution_count": 50,
   "metadata": {},
   "outputs": [
    {
     "data": {
      "text/plain": [
       "9114615"
      ]
     },
     "execution_count": 50,
     "metadata": {},
     "output_type": "execute_result"
    }
   ],
   "source": [
    "Jan20_tradeVol = Jan20['거래량'].sum()#2020년1월총거래량\n",
    "Jan20_tradeVol"
   ]
  },
  {
   "cell_type": "code",
   "execution_count": 52,
   "metadata": {},
   "outputs": [
    {
     "data": {
      "text/plain": [
       "4336.291143654114"
      ]
     },
     "execution_count": 52,
     "metadata": {},
     "output_type": "execute_result"
    }
   ],
   "source": [
    "Jan20_tradePri = Jan20['거래가격'].mean()#2020년1월평균거래가격\n",
    "Jan20_tradePri"
   ]
  },
  {
   "cell_type": "code",
   "execution_count": 53,
   "metadata": {},
   "outputs": [
    {
     "data": {
      "text/plain": [
       "8712757"
      ]
     },
     "execution_count": 53,
     "metadata": {},
     "output_type": "execute_result"
    }
   ],
   "source": [
    "Feb20_tradeVol = Feb20['거래량'].sum()#2020년2월총거래량\n",
    "Feb20_tradeVol"
   ]
  },
  {
   "cell_type": "code",
   "execution_count": 54,
   "metadata": {},
   "outputs": [
    {
     "data": {
      "text/plain": [
       "3320.4368929614743"
      ]
     },
     "execution_count": 54,
     "metadata": {},
     "output_type": "execute_result"
    }
   ],
   "source": [
    "Feb20_tradePri = Feb20['거래가격'].mean()#2020년2월평균거래가격\n",
    "Feb20_tradePri"
   ]
  },
  {
   "cell_type": "code",
   "execution_count": 55,
   "metadata": {},
   "outputs": [
    {
     "data": {
      "text/plain": [
       "3873022"
      ]
     },
     "execution_count": 55,
     "metadata": {},
     "output_type": "execute_result"
    }
   ],
   "source": [
    "Mar20_tradeVol = Mar20['거래량'].sum()#2020년3월총거래량\n",
    "Mar20_tradeVol"
   ]
  },
  {
   "cell_type": "code",
   "execution_count": 56,
   "metadata": {},
   "outputs": [
    {
     "data": {
      "text/plain": [
       "2793.149912967798"
      ]
     },
     "execution_count": 56,
     "metadata": {},
     "output_type": "execute_result"
    }
   ],
   "source": [
    "Mar20_tradePri = Mar20['거래가격'].mean()#2020년3월평균거래가격\n",
    "Mar20_tradePri"
   ]
  },
  {
   "cell_type": "code",
   "execution_count": 57,
   "metadata": {},
   "outputs": [
    {
     "data": {
      "text/plain": [
       "7197294"
      ]
     },
     "execution_count": 57,
     "metadata": {},
     "output_type": "execute_result"
    }
   ],
   "source": [
    "Jan21_tradeVol = Jan21['거래량'].sum()#2021년1월총거래량\n",
    "Jan21_tradeVol"
   ]
  },
  {
   "cell_type": "code",
   "execution_count": 58,
   "metadata": {},
   "outputs": [
    {
     "data": {
      "text/plain": [
       "10580.969806612602"
      ]
     },
     "execution_count": 58,
     "metadata": {},
     "output_type": "execute_result"
    }
   ],
   "source": [
    "Jan21_tradePri = Jan21['거래가격'].mean()#2021년1월평균거래가격\n",
    "Jan21_tradePri"
   ]
  },
  {
   "cell_type": "code",
   "execution_count": 59,
   "metadata": {},
   "outputs": [
    {
     "data": {
      "text/plain": [
       "6149665"
      ]
     },
     "execution_count": 59,
     "metadata": {},
     "output_type": "execute_result"
    }
   ],
   "source": [
    "Feb21_tradeVol = Feb21['거래량'].sum()#2021년2월총거래량\n",
    "Feb21_tradeVol"
   ]
  },
  {
   "cell_type": "code",
   "execution_count": 60,
   "metadata": {},
   "outputs": [
    {
     "data": {
      "text/plain": [
       "16440.5521023766"
      ]
     },
     "execution_count": 60,
     "metadata": {},
     "output_type": "execute_result"
    }
   ],
   "source": [
    "Feb21_tradePri = Feb21['거래가격'].mean()#2021년2월평균거래가격\n",
    "Feb21_tradePri"
   ]
  },
  {
   "cell_type": "code",
   "execution_count": 61,
   "metadata": {},
   "outputs": [
    {
     "data": {
      "text/plain": [
       "3300880"
      ]
     },
     "execution_count": 61,
     "metadata": {},
     "output_type": "execute_result"
    }
   ],
   "source": [
    "Mar21_tradeVol = Mar21['거래량'].sum()#2021년3월총거래량\n",
    "Mar21_tradeVol"
   ]
  },
  {
   "cell_type": "code",
   "execution_count": 62,
   "metadata": {},
   "outputs": [
    {
     "data": {
      "text/plain": [
       "17075.236289776574"
      ]
     },
     "execution_count": 62,
     "metadata": {},
     "output_type": "execute_result"
    }
   ],
   "source": [
    "Mar21_tradePri = Mar21['거래가격'].mean()#2021년3월평균거래가격\n",
    "Mar21_tradePri"
   ]
  },
  {
   "cell_type": "code",
   "execution_count": 73,
   "metadata": {},
   "outputs": [
    {
     "data": {
      "text/html": [
       "<div>\n",
       "<style scoped>\n",
       "    .dataframe tbody tr th:only-of-type {\n",
       "        vertical-align: middle;\n",
       "    }\n",
       "\n",
       "    .dataframe tbody tr th {\n",
       "        vertical-align: top;\n",
       "    }\n",
       "\n",
       "    .dataframe thead th {\n",
       "        text-align: right;\n",
       "    }\n",
       "</style>\n",
       "<table border=\"1\" class=\"dataframe\">\n",
       "  <thead>\n",
       "    <tr style=\"text-align: right;\">\n",
       "      <th></th>\n",
       "      <th>총거래량</th>\n",
       "      <th>평균거래가격</th>\n",
       "    </tr>\n",
       "  </thead>\n",
       "  <tbody>\n",
       "    <tr>\n",
       "      <th>202001</th>\n",
       "      <td>9114615</td>\n",
       "      <td>4336</td>\n",
       "    </tr>\n",
       "    <tr>\n",
       "      <th>202002</th>\n",
       "      <td>8712757</td>\n",
       "      <td>3320</td>\n",
       "    </tr>\n",
       "    <tr>\n",
       "      <th>202003</th>\n",
       "      <td>3873022</td>\n",
       "      <td>2793</td>\n",
       "    </tr>\n",
       "    <tr>\n",
       "      <th>202101</th>\n",
       "      <td>7197294</td>\n",
       "      <td>10580</td>\n",
       "    </tr>\n",
       "    <tr>\n",
       "      <th>202102</th>\n",
       "      <td>6149665</td>\n",
       "      <td>16440</td>\n",
       "    </tr>\n",
       "    <tr>\n",
       "      <th>202103</th>\n",
       "      <td>3300880</td>\n",
       "      <td>17075</td>\n",
       "    </tr>\n",
       "  </tbody>\n",
       "</table>\n",
       "</div>"
      ],
      "text/plain": [
       "           총거래량  평균거래가격\n",
       "202001  9114615    4336\n",
       "202002  8712757    3320\n",
       "202003  3873022    2793\n",
       "202101  7197294   10580\n",
       "202102  6149665   16440\n",
       "202103  3300880   17075"
      ]
     },
     "execution_count": 73,
     "metadata": {},
     "output_type": "execute_result"
    }
   ],
   "source": [
    "#연월별 거래량, 거래가격 데이터프레임 만들기\n",
    "TradeVol_pri = pd.DataFrame([[9114615,4336],[8712757,3320],[3873022,2793],[7197294,10580],[6149665,16440],[3300880,17075]], columns = ['총거래량','평균거래가격'], index = ['202001', '202002', '202003','202101','202102','202103'])   \n",
    "TradeVol_pri"
   ]
  },
  {
   "cell_type": "code",
   "execution_count": 74,
   "metadata": {},
   "outputs": [
    {
     "data": {
      "text/html": [
       "<div>\n",
       "<style scoped>\n",
       "    .dataframe tbody tr th:only-of-type {\n",
       "        vertical-align: middle;\n",
       "    }\n",
       "\n",
       "    .dataframe tbody tr th {\n",
       "        vertical-align: top;\n",
       "    }\n",
       "\n",
       "    .dataframe thead th {\n",
       "        text-align: right;\n",
       "    }\n",
       "</style>\n",
       "<table border=\"1\" class=\"dataframe\">\n",
       "  <thead>\n",
       "    <tr style=\"text-align: right;\">\n",
       "      <th></th>\n",
       "      <th>총거래량</th>\n",
       "      <th>평균거래가격</th>\n",
       "    </tr>\n",
       "  </thead>\n",
       "  <tbody>\n",
       "    <tr>\n",
       "      <th>총거래량</th>\n",
       "      <td>1.000000</td>\n",
       "      <td>-0.448864</td>\n",
       "    </tr>\n",
       "    <tr>\n",
       "      <th>평균거래가격</th>\n",
       "      <td>-0.448864</td>\n",
       "      <td>1.000000</td>\n",
       "    </tr>\n",
       "  </tbody>\n",
       "</table>\n",
       "</div>"
      ],
      "text/plain": [
       "            총거래량    평균거래가격\n",
       "총거래량    1.000000 -0.448864\n",
       "평균거래가격 -0.448864  1.000000"
      ]
     },
     "execution_count": 74,
     "metadata": {},
     "output_type": "execute_result"
    }
   ],
   "source": [
    "trade_corr = TradeVol_pri.corr(method = 'pearson')\n",
    "trade_corr#피어슨 상관계수 \n",
    "# 값이 -0.7 ~ -0.3 이면, 뚜렷한 음적 상관관계\n"
   ]
  },
  {
   "cell_type": "code",
   "execution_count": 75,
   "metadata": {},
   "outputs": [],
   "source": [
    "import matplotlib.pyplot as plt \n",
    "import seaborn as sns\n",
    "\n",
    "plt.rc('font', family='Malgun Gothic')#폰트설정"
   ]
  },
  {
   "cell_type": "code",
   "execution_count": 76,
   "metadata": {},
   "outputs": [
    {
     "data": {
      "image/png": "[encoded data removed]",
      "text/plain": [
       "<Figure size 432x288 with 2 Axes>"
      ]
     },
     "metadata": {
      "needs_background": "light"
     },
     "output_type": "display_data"
    }
   ],
   "source": [
    "df_heatmap = sns.heatmap(trade_corr, cbar = True, annot = True, annot_kws={'size' : 20}, fmt = '.2f', square = True, cmap = 'Blues')\n",
    "# 음의 상관 관계(negative correlation)는 한 변수의 수치가 증가할 때 다른 변수는 감소하는 경향을 보이는 것을 의미\n",
    "# 즉 거래량이 증가할 수록 평균 거래가격은 내려가는 뚜렷한 상관관계를 보인다."
   ]
  },
  {
   "cell_type": "markdown",
   "metadata": {},
   "source": [
    "## 전라남도 진도군 데이터만 추리기 ##"
   ]
  },
  {
   "cell_type": "code",
   "execution_count": 77,
   "metadata": {},
   "outputs": [
    {
     "data": {
      "text/html": [
       "<div>\n",
       "<style scoped>\n",
       "    .dataframe tbody tr th:only-of-type {\n",
       "        vertical-align: middle;\n",
       "    }\n",
       "\n",
       "    .dataframe tbody tr th {\n",
       "        vertical-align: top;\n",
       "    }\n",
       "\n",
       "    .dataframe thead th {\n",
       "        text-align: right;\n",
       "    }\n",
       "</style>\n",
       "<table border=\"1\" class=\"dataframe\">\n",
       "  <thead>\n",
       "    <tr style=\"text-align: right;\">\n",
       "      <th></th>\n",
       "      <th>경락일자</th>\n",
       "      <th>산지명</th>\n",
       "      <th>거래량</th>\n",
       "      <th>거래가격</th>\n",
       "    </tr>\n",
       "  </thead>\n",
       "  <tbody>\n",
       "    <tr>\n",
       "      <th>0</th>\n",
       "      <td>20200102</td>\n",
       "      <td>전라북도 고창군</td>\n",
       "      <td>500</td>\n",
       "      <td>6000</td>\n",
       "    </tr>\n",
       "    <tr>\n",
       "      <th>1</th>\n",
       "      <td>20200102</td>\n",
       "      <td>전라북도 익산시</td>\n",
       "      <td>120</td>\n",
       "      <td>2500</td>\n",
       "    </tr>\n",
       "    <tr>\n",
       "      <th>2</th>\n",
       "      <td>20200102</td>\n",
       "      <td>전라북도 익산시</td>\n",
       "      <td>170</td>\n",
       "      <td>2500</td>\n",
       "    </tr>\n",
       "    <tr>\n",
       "      <th>3</th>\n",
       "      <td>20200102</td>\n",
       "      <td>전라북도 익산시</td>\n",
       "      <td>150</td>\n",
       "      <td>2300</td>\n",
       "    </tr>\n",
       "    <tr>\n",
       "      <th>4</th>\n",
       "      <td>20200102</td>\n",
       "      <td>전라북도 익산시</td>\n",
       "      <td>150</td>\n",
       "      <td>2400</td>\n",
       "    </tr>\n",
       "    <tr>\n",
       "      <th>...</th>\n",
       "      <td>...</td>\n",
       "      <td>...</td>\n",
       "      <td>...</td>\n",
       "      <td>...</td>\n",
       "    </tr>\n",
       "    <tr>\n",
       "      <th>76199</th>\n",
       "      <td>20210113</td>\n",
       "      <td>경상남도 함양군</td>\n",
       "      <td>110</td>\n",
       "      <td>6900</td>\n",
       "    </tr>\n",
       "    <tr>\n",
       "      <th>76200</th>\n",
       "      <td>20210113</td>\n",
       "      <td>경상남도 함양군</td>\n",
       "      <td>12</td>\n",
       "      <td>12000</td>\n",
       "    </tr>\n",
       "    <tr>\n",
       "      <th>76201</th>\n",
       "      <td>20210113</td>\n",
       "      <td>경상남도 사천시</td>\n",
       "      <td>110</td>\n",
       "      <td>6900</td>\n",
       "    </tr>\n",
       "    <tr>\n",
       "      <th>76202</th>\n",
       "      <td>20210113</td>\n",
       "      <td>경상남도 사천시</td>\n",
       "      <td>110</td>\n",
       "      <td>6900</td>\n",
       "    </tr>\n",
       "    <tr>\n",
       "      <th>76203</th>\n",
       "      <td>20210113</td>\n",
       "      <td>경상남도 사천시</td>\n",
       "      <td>110</td>\n",
       "      <td>6900</td>\n",
       "    </tr>\n",
       "  </tbody>\n",
       "</table>\n",
       "<p>177659 rows × 4 columns</p>\n",
       "</div>"
      ],
      "text/plain": [
       "           경락일자       산지명  거래량   거래가격\n",
       "0      20200102  전라북도 고창군  500   6000\n",
       "1      20200102  전라북도 익산시  120   2500\n",
       "2      20200102  전라북도 익산시  170   2500\n",
       "3      20200102  전라북도 익산시  150   2300\n",
       "4      20200102  전라북도 익산시  150   2400\n",
       "...         ...       ...  ...    ...\n",
       "76199  20210113  경상남도 함양군  110   6900\n",
       "76200  20210113  경상남도 함양군   12  12000\n",
       "76201  20210113  경상남도 사천시  110   6900\n",
       "76202  20210113  경상남도 사천시  110   6900\n",
       "76203  20210113  경상남도 사천시  110   6900\n",
       "\n",
       "[177659 rows x 4 columns]"
      ]
     },
     "execution_count": 77,
     "metadata": {},
     "output_type": "execute_result"
    }
   ],
   "source": [
    "newdf = result2[['경락일자','산지명','거래량','거래가격']]\n",
    "newdf"
   ]
  },
  {
   "cell_type": "code",
   "execution_count": 78,
   "metadata": {},
   "outputs": [
    {
     "data": {
      "text/html": [
       "<div>\n",
       "<style scoped>\n",
       "    .dataframe tbody tr th:only-of-type {\n",
       "        vertical-align: middle;\n",
       "    }\n",
       "\n",
       "    .dataframe tbody tr th {\n",
       "        vertical-align: top;\n",
       "    }\n",
       "\n",
       "    .dataframe thead th {\n",
       "        text-align: right;\n",
       "    }\n",
       "</style>\n",
       "<table border=\"1\" class=\"dataframe\">\n",
       "  <thead>\n",
       "    <tr style=\"text-align: right;\">\n",
       "      <th></th>\n",
       "      <th>경락일자</th>\n",
       "      <th>산지명</th>\n",
       "      <th>거래량</th>\n",
       "      <th>거래가격</th>\n",
       "    </tr>\n",
       "  </thead>\n",
       "  <tbody>\n",
       "    <tr>\n",
       "      <th>13</th>\n",
       "      <td>20200102</td>\n",
       "      <td>전라남도 진도군</td>\n",
       "      <td>100</td>\n",
       "      <td>2700</td>\n",
       "    </tr>\n",
       "    <tr>\n",
       "      <th>14</th>\n",
       "      <td>20200102</td>\n",
       "      <td>전라남도 진도군</td>\n",
       "      <td>500</td>\n",
       "      <td>1000</td>\n",
       "    </tr>\n",
       "    <tr>\n",
       "      <th>252</th>\n",
       "      <td>20200102</td>\n",
       "      <td>전라남도 진도군</td>\n",
       "      <td>200</td>\n",
       "      <td>1500</td>\n",
       "    </tr>\n",
       "    <tr>\n",
       "      <th>253</th>\n",
       "      <td>20200102</td>\n",
       "      <td>전라남도 진도군</td>\n",
       "      <td>200</td>\n",
       "      <td>1600</td>\n",
       "    </tr>\n",
       "    <tr>\n",
       "      <th>254</th>\n",
       "      <td>20200102</td>\n",
       "      <td>전라남도 진도군</td>\n",
       "      <td>75</td>\n",
       "      <td>1650</td>\n",
       "    </tr>\n",
       "    <tr>\n",
       "      <th>...</th>\n",
       "      <td>...</td>\n",
       "      <td>...</td>\n",
       "      <td>...</td>\n",
       "      <td>...</td>\n",
       "    </tr>\n",
       "    <tr>\n",
       "      <th>76146</th>\n",
       "      <td>20210113</td>\n",
       "      <td>전라남도 진도군</td>\n",
       "      <td>40</td>\n",
       "      <td>11000</td>\n",
       "    </tr>\n",
       "    <tr>\n",
       "      <th>76147</th>\n",
       "      <td>20210113</td>\n",
       "      <td>전라남도 진도군</td>\n",
       "      <td>40</td>\n",
       "      <td>11000</td>\n",
       "    </tr>\n",
       "    <tr>\n",
       "      <th>76167</th>\n",
       "      <td>20210113</td>\n",
       "      <td>전라남도 진도군</td>\n",
       "      <td>47</td>\n",
       "      <td>9000</td>\n",
       "    </tr>\n",
       "    <tr>\n",
       "      <th>76168</th>\n",
       "      <td>20210113</td>\n",
       "      <td>전라남도 진도군</td>\n",
       "      <td>46</td>\n",
       "      <td>9600</td>\n",
       "    </tr>\n",
       "    <tr>\n",
       "      <th>76169</th>\n",
       "      <td>20210113</td>\n",
       "      <td>전라남도 진도군</td>\n",
       "      <td>46</td>\n",
       "      <td>9800</td>\n",
       "    </tr>\n",
       "  </tbody>\n",
       "</table>\n",
       "<p>32226 rows × 4 columns</p>\n",
       "</div>"
      ],
      "text/plain": [
       "           경락일자       산지명  거래량   거래가격\n",
       "13     20200102  전라남도 진도군  100   2700\n",
       "14     20200102  전라남도 진도군  500   1000\n",
       "252    20200102  전라남도 진도군  200   1500\n",
       "253    20200102  전라남도 진도군  200   1600\n",
       "254    20200102  전라남도 진도군   75   1650\n",
       "...         ...       ...  ...    ...\n",
       "76146  20210113  전라남도 진도군   40  11000\n",
       "76147  20210113  전라남도 진도군   40  11000\n",
       "76167  20210113  전라남도 진도군   47   9000\n",
       "76168  20210113  전라남도 진도군   46   9600\n",
       "76169  20210113  전라남도 진도군   46   9800\n",
       "\n",
       "[32226 rows x 4 columns]"
      ]
     },
     "execution_count": 78,
     "metadata": {},
     "output_type": "execute_result"
    }
   ],
   "source": [
    "jindo = newdf[newdf['산지명']=='전라남도 진도군']\n",
    "jindo"
   ]
  },
  {
   "cell_type": "code",
   "execution_count": 83,
   "metadata": {},
   "outputs": [
    {
     "data": {
      "text/plain": [
       "13      2020-01-02\n",
       "14      2020-01-02\n",
       "252     2020-01-02\n",
       "253     2020-01-02\n",
       "254     2020-01-02\n",
       "           ...    \n",
       "76146   2021-01-13\n",
       "76147   2021-01-13\n",
       "76167   2021-01-13\n",
       "76168   2021-01-13\n",
       "76169   2021-01-13\n",
       "Name: 경락일자, Length: 32226, dtype: datetime64[ns]"
      ]
     },
     "execution_count": 83,
     "metadata": {},
     "output_type": "execute_result"
    }
   ],
   "source": [
    "jindo['경락일자'] = pd.to_datetime(jindo['경락일자'], format='%Y%m%d')\n",
    "jindo['경락일자']"
   ]
  },
  {
   "cell_type": "code",
   "execution_count": 84,
   "metadata": {
    "scrolled": true
   },
   "outputs": [],
   "source": [
    "target_year2 = 2020 # 2020년\n",
    "Jindo_df2020 = jindo[jindo['경락일자'].dt.year==target_year2]"
   ]
  },
  {
   "cell_type": "code",
   "execution_count": 86,
   "metadata": {},
   "outputs": [],
   "source": [
    "target_month2 = 1 # 1월\n",
    "Jindo_Jan20 = Jindo_df2020[Jindo_df2020['경락일자'].dt.month==target_month2]"
   ]
  },
  {
   "cell_type": "code",
   "execution_count": 87,
   "metadata": {},
   "outputs": [],
   "source": [
    "target_month2 = 2 # 2월\n",
    "Jindo_Feb20 = Jindo_df2020[Jindo_df2020['경락일자'].dt.month==target_month2]"
   ]
  },
  {
   "cell_type": "code",
   "execution_count": 88,
   "metadata": {},
   "outputs": [],
   "source": [
    "target_month2 = 3 # 2월\n",
    "Jindo_Mar20 = Jindo_df2020[Jindo_df2020['경락일자'].dt.month==target_month2]"
   ]
  },
  {
   "cell_type": "code",
   "execution_count": 85,
   "metadata": {},
   "outputs": [],
   "source": [
    "target_year2 = 2021 # 2021년\n",
    "Jindo_df2021 = jindo[jindo['경락일자'].dt.year==target_year2]"
   ]
  },
  {
   "cell_type": "code",
   "execution_count": 89,
   "metadata": {},
   "outputs": [],
   "source": [
    "target_month2 = 1 # 1월\n",
    "Jindo_Jan21 = Jindo_df2021[Jindo_df2021['경락일자'].dt.month==target_month2]"
   ]
  },
  {
   "cell_type": "code",
   "execution_count": 90,
   "metadata": {},
   "outputs": [],
   "source": [
    "target_month2 = 2 # 2월\n",
    "Jindo_Feb21 = Jindo_df2021[Jindo_df2021['경락일자'].dt.month==target_month2]"
   ]
  },
  {
   "cell_type": "code",
   "execution_count": 91,
   "metadata": {},
   "outputs": [],
   "source": [
    "target_month2 = 3 # 2월\n",
    "Jindo_Mar21 = Jindo_df2021[Jindo_df2021['경락일자'].dt.month==target_month2]"
   ]
  },
  {
   "cell_type": "markdown",
   "metadata": {},
   "source": [
    "## 전라남도 진도군 년월별 거래량, 거래가격 구하기 ##"
   ]
  },
  {
   "cell_type": "code",
   "execution_count": 92,
   "metadata": {},
   "outputs": [
    {
     "data": {
      "text/plain": [
       "2049449"
      ]
     },
     "execution_count": 92,
     "metadata": {},
     "output_type": "execute_result"
    }
   ],
   "source": [
    "Jindo_Jan20_tradeVol = Jindo_Jan20['거래량'].sum()#2020년1월총거래량\n",
    "Jindo_Jan20_tradeVol"
   ]
  },
  {
   "cell_type": "code",
   "execution_count": 93,
   "metadata": {},
   "outputs": [
    {
     "data": {
      "text/plain": [
       "3695.3678667994877"
      ]
     },
     "execution_count": 93,
     "metadata": {},
     "output_type": "execute_result"
    }
   ],
   "source": [
    "Jindo_Jan20_tradePri = Jindo_Jan20['거래가격'].mean()#2020년1월평균거래가격\n",
    "Jindo_Jan20_tradePri"
   ]
  },
  {
   "cell_type": "code",
   "execution_count": 94,
   "metadata": {},
   "outputs": [
    {
     "data": {
      "text/plain": [
       "2107991"
      ]
     },
     "execution_count": 94,
     "metadata": {},
     "output_type": "execute_result"
    }
   ],
   "source": [
    "Jindo_Feb20_tradeVol = Jindo_Feb20['거래량'].sum()#2020년2월총거래량\n",
    "Jindo_Feb20_tradeVol"
   ]
  },
  {
   "cell_type": "code",
   "execution_count": 95,
   "metadata": {},
   "outputs": [
    {
     "data": {
      "text/plain": [
       "3182.08658008658"
      ]
     },
     "execution_count": 95,
     "metadata": {},
     "output_type": "execute_result"
    }
   ],
   "source": [
    "Jindo_Feb20_tradePri = Jindo_Feb20['거래가격'].mean()#2020년2월평균거래가격\n",
    "Jindo_Feb20_tradePri"
   ]
  },
  {
   "cell_type": "code",
   "execution_count": 96,
   "metadata": {},
   "outputs": [
    {
     "data": {
      "text/plain": [
       "863131"
      ]
     },
     "execution_count": 96,
     "metadata": {},
     "output_type": "execute_result"
    }
   ],
   "source": [
    "Jindo_Mar20_tradeVol = Jindo_Mar20['거래량'].sum()#2020년3월총거래량\n",
    "Jindo_Mar20_tradeVol"
   ]
  },
  {
   "cell_type": "code",
   "execution_count": 97,
   "metadata": {},
   "outputs": [
    {
     "data": {
      "text/plain": [
       "2783.6096172097436"
      ]
     },
     "execution_count": 97,
     "metadata": {},
     "output_type": "execute_result"
    }
   ],
   "source": [
    "Jindo_Mar20_tradePri = Jindo_Mar20['거래가격'].mean()#2020년3월평균거래가격\n",
    "Jindo_Mar20_tradePri"
   ]
  },
  {
   "cell_type": "code",
   "execution_count": 98,
   "metadata": {},
   "outputs": [
    {
     "data": {
      "text/plain": [
       "1871637"
      ]
     },
     "execution_count": 98,
     "metadata": {},
     "output_type": "execute_result"
    }
   ],
   "source": [
    "Jindo_Jan21_tradeVol = Jindo_Jan21['거래량'].sum()#2021년1월총거래량\n",
    "Jindo_Jan21_tradeVol"
   ]
  },
  {
   "cell_type": "code",
   "execution_count": 99,
   "metadata": {},
   "outputs": [
    {
     "data": {
      "text/plain": [
       "12914.215640547263"
      ]
     },
     "execution_count": 99,
     "metadata": {},
     "output_type": "execute_result"
    }
   ],
   "source": [
    "Jindo_Jan21_tradePri = Jindo_Jan21['거래가격'].mean()#2021년1월평균거래가격\n",
    "Jindo_Jan21_tradePri"
   ]
  },
  {
   "cell_type": "code",
   "execution_count": 100,
   "metadata": {},
   "outputs": [
    {
     "data": {
      "text/plain": [
       "1502533"
      ]
     },
     "execution_count": 100,
     "metadata": {},
     "output_type": "execute_result"
    }
   ],
   "source": [
    "Jindo_Feb21_tradeVol = Jindo_Feb21['거래량'].sum()#2021년2월총거래량\n",
    "Jindo_Feb21_tradeVol"
   ]
  },
  {
   "cell_type": "code",
   "execution_count": 101,
   "metadata": {},
   "outputs": [
    {
     "data": {
      "text/plain": [
       "17978.225352112677"
      ]
     },
     "execution_count": 101,
     "metadata": {},
     "output_type": "execute_result"
    }
   ],
   "source": [
    "Jindo_Feb21_tradePri = Jindo_Feb21['거래가격'].mean()#2021년2월평균거래가격\n",
    "Jindo_Feb21_tradePri"
   ]
  },
  {
   "cell_type": "code",
   "execution_count": 102,
   "metadata": {},
   "outputs": [
    {
     "data": {
      "text/plain": [
       "749608"
      ]
     },
     "execution_count": 102,
     "metadata": {},
     "output_type": "execute_result"
    }
   ],
   "source": [
    "Jindo_Mar21_tradeVol = Jindo_Mar21['거래량'].sum()#2021년3월총거래량\n",
    "Jindo_Mar21_tradeVol"
   ]
  },
  {
   "cell_type": "code",
   "execution_count": 103,
   "metadata": {},
   "outputs": [
    {
     "data": {
      "text/plain": [
       "17989.906542056076"
      ]
     },
     "execution_count": 103,
     "metadata": {},
     "output_type": "execute_result"
    }
   ],
   "source": [
    "Jindo_Mar21_tradePri = Jindo_Mar21['거래가격'].mean()#2021년3월평균거래가격\n",
    "Jindo_Mar21_tradePri"
   ]
  },
  {
   "cell_type": "code",
   "execution_count": 106,
   "metadata": {},
   "outputs": [
    {
     "data": {
      "text/html": [
       "<div>\n",
       "<style scoped>\n",
       "    .dataframe tbody tr th:only-of-type {\n",
       "        vertical-align: middle;\n",
       "    }\n",
       "\n",
       "    .dataframe tbody tr th {\n",
       "        vertical-align: top;\n",
       "    }\n",
       "\n",
       "    .dataframe thead th {\n",
       "        text-align: right;\n",
       "    }\n",
       "</style>\n",
       "<table border=\"1\" class=\"dataframe\">\n",
       "  <thead>\n",
       "    <tr style=\"text-align: right;\">\n",
       "      <th></th>\n",
       "      <th>총거래량</th>\n",
       "      <th>평균거래가격</th>\n",
       "      <th>평균기온(2개월전)</th>\n",
       "      <th>평균최저기온(2개월전)</th>\n",
       "      <th>최저기온(2개월전)</th>\n",
       "    </tr>\n",
       "  </thead>\n",
       "  <tbody>\n",
       "    <tr>\n",
       "      <th>202001</th>\n",
       "      <td>2049449</td>\n",
       "      <td>3695</td>\n",
       "      <td>5.4</td>\n",
       "      <td>0.7</td>\n",
       "      <td>-4.0</td>\n",
       "    </tr>\n",
       "    <tr>\n",
       "      <th>202002</th>\n",
       "      <td>2107991</td>\n",
       "      <td>3182</td>\n",
       "      <td>5.3</td>\n",
       "      <td>1.9</td>\n",
       "      <td>-4.9</td>\n",
       "    </tr>\n",
       "    <tr>\n",
       "      <th>202003</th>\n",
       "      <td>863131</td>\n",
       "      <td>2783</td>\n",
       "      <td>5.4</td>\n",
       "      <td>0.7</td>\n",
       "      <td>-5.0</td>\n",
       "    </tr>\n",
       "    <tr>\n",
       "      <th>202101</th>\n",
       "      <td>1871637</td>\n",
       "      <td>12914</td>\n",
       "      <td>3.5</td>\n",
       "      <td>-1.3</td>\n",
       "      <td>-6.3</td>\n",
       "    </tr>\n",
       "    <tr>\n",
       "      <th>202102</th>\n",
       "      <td>1502533</td>\n",
       "      <td>17978</td>\n",
       "      <td>2.7</td>\n",
       "      <td>-2.2</td>\n",
       "      <td>-13.7</td>\n",
       "    </tr>\n",
       "    <tr>\n",
       "      <th>202103</th>\n",
       "      <td>749608</td>\n",
       "      <td>17989</td>\n",
       "      <td>5.6</td>\n",
       "      <td>0.5</td>\n",
       "      <td>-4.4</td>\n",
       "    </tr>\n",
       "  </tbody>\n",
       "</table>\n",
       "</div>"
      ],
      "text/plain": [
       "           총거래량  평균거래가격  평균기온(2개월전)  평균최저기온(2개월전)  최저기온(2개월전)\n",
       "202001  2049449    3695         5.4           0.7        -4.0\n",
       "202002  2107991    3182         5.3           1.9        -4.9\n",
       "202003   863131    2783         5.4           0.7        -5.0\n",
       "202101  1871637   12914         3.5          -1.3        -6.3\n",
       "202102  1502533   17978         2.7          -2.2       -13.7\n",
       "202103   749608   17989         5.6           0.5        -4.4"
      ]
     },
     "execution_count": 106,
     "metadata": {},
     "output_type": "execute_result"
    }
   ],
   "source": [
    "#전라남도 진도군 연월별 거래량, 거래가격 데이터프레임 만들기\n",
    "Jindo_TradeVol_pri = pd.DataFrame([[2049449,3695,5.4,0.7,-4],[2107991,3182,5.3,1.9,-4.9],[863131,2783,5.4,0.7,-5],[1871637,12914,3.5,-1.3,-6.3],[1502533,17978,2.7,-2.2,-13.7],[749608,17989,5.6,0.5,-4.4]], columns = ['총거래량','평균거래가격','평균기온(2개월전)','평균최저기온(2개월전)','최저기온(2개월전)'], index = ['202001', '202002', '202003','202101','202102','202103'])   \n",
    "Jindo_TradeVol_pri"
   ]
  },
  {
   "cell_type": "code",
   "execution_count": 107,
   "metadata": {},
   "outputs": [
    {
     "data": {
      "text/html": [
       "<div>\n",
       "<style scoped>\n",
       "    .dataframe tbody tr th:only-of-type {\n",
       "        vertical-align: middle;\n",
       "    }\n",
       "\n",
       "    .dataframe tbody tr th {\n",
       "        vertical-align: top;\n",
       "    }\n",
       "\n",
       "    .dataframe thead th {\n",
       "        text-align: right;\n",
       "    }\n",
       "</style>\n",
       "<table border=\"1\" class=\"dataframe\">\n",
       "  <thead>\n",
       "    <tr style=\"text-align: right;\">\n",
       "      <th></th>\n",
       "      <th>총거래량</th>\n",
       "      <th>평균거래가격</th>\n",
       "      <th>평균기온(2개월전)</th>\n",
       "      <th>평균최저기온(2개월전)</th>\n",
       "      <th>최저기온(2개월전)</th>\n",
       "    </tr>\n",
       "  </thead>\n",
       "  <tbody>\n",
       "    <tr>\n",
       "      <th>총거래량</th>\n",
       "      <td>1.000000</td>\n",
       "      <td>-0.356913</td>\n",
       "      <td>-0.222424</td>\n",
       "      <td>0.049646</td>\n",
       "      <td>-0.013313</td>\n",
       "    </tr>\n",
       "    <tr>\n",
       "      <th>평균거래가격</th>\n",
       "      <td>-0.356913</td>\n",
       "      <td>1.000000</td>\n",
       "      <td>-0.568395</td>\n",
       "      <td>-0.711684</td>\n",
       "      <td>-0.570245</td>\n",
       "    </tr>\n",
       "    <tr>\n",
       "      <th>평균기온(2개월전)</th>\n",
       "      <td>-0.222424</td>\n",
       "      <td>-0.568395</td>\n",
       "      <td>1.000000</td>\n",
       "      <td>0.921355</td>\n",
       "      <td>0.879133</td>\n",
       "    </tr>\n",
       "    <tr>\n",
       "      <th>평균최저기온(2개월전)</th>\n",
       "      <td>0.049646</td>\n",
       "      <td>-0.711684</td>\n",
       "      <td>0.921355</td>\n",
       "      <td>1.000000</td>\n",
       "      <td>0.811759</td>\n",
       "    </tr>\n",
       "    <tr>\n",
       "      <th>최저기온(2개월전)</th>\n",
       "      <td>-0.013313</td>\n",
       "      <td>-0.570245</td>\n",
       "      <td>0.879133</td>\n",
       "      <td>0.811759</td>\n",
       "      <td>1.000000</td>\n",
       "    </tr>\n",
       "  </tbody>\n",
       "</table>\n",
       "</div>"
      ],
      "text/plain": [
       "                  총거래량    평균거래가격  평균기온(2개월전)  평균최저기온(2개월전)  최저기온(2개월전)\n",
       "총거래량          1.000000 -0.356913   -0.222424      0.049646   -0.013313\n",
       "평균거래가격       -0.356913  1.000000   -0.568395     -0.711684   -0.570245\n",
       "평균기온(2개월전)   -0.222424 -0.568395    1.000000      0.921355    0.879133\n",
       "평균최저기온(2개월전)  0.049646 -0.711684    0.921355      1.000000    0.811759\n",
       "최저기온(2개월전)   -0.013313 -0.570245    0.879133      0.811759    1.000000"
      ]
     },
     "execution_count": 107,
     "metadata": {},
     "output_type": "execute_result"
    }
   ],
   "source": [
    "#진도군 데이터 상관관계 (날씨요인 추가)\n",
    "trade_corr2 = Jindo_TradeVol_pri.corr(method = 'pearson')\n",
    "trade_corr2#피어슨 상관계수 \n",
    "# 값이 -0.7 ~ -0.3 이면, 뚜렷한 음적 상관관계"
   ]
  },
  {
   "cell_type": "code",
   "execution_count": 109,
   "metadata": {},
   "outputs": [
    {
     "data": {
      "image/png": "[encoded data removed]",
      "text/plain": [
       "<Figure size 432x288 with 2 Axes>"
      ]
     },
     "metadata": {
      "needs_background": "light"
     },
     "output_type": "display_data"
    }
   ],
   "source": [
    "df_heatmap2 = sns.heatmap(trade_corr2, cbar = True, annot = True, annot_kws={'size' : 20}, fmt = '.2f', square = True, cmap = 'Blues')\n",
    "# 평균최저기온과 평균거래가격이 가장 큰 음의 관계가 나타남\n",
    "# 값이 -1.0 ~ -0.7 이면, 강한 음적 상관관계\n",
    "# 값이 -0.7 ~ -0.3 이면, 뚜렷한 음적 상관관계\n"
   ]
  },
  {
   "cell_type": "code",
   "execution_count": null,
   "metadata": {},
   "outputs": [],
   "source": []
  }
 ],
 "metadata": {
  "kernelspec": {
   "display_name": "pydata",
   "language": "python",
   "name": "pydata"
  },
  "language_info": {
   "codemirror_mode": {
    "name": "ipython",
    "version": 3
   },
   "file_extension": ".py",
   "mimetype": "text/x-python",
   "name": "python",
   "nbconvert_exporter": "python",
   "pygments_lexer": "ipython3",
   "version": "3.7.10"
  }
 },
 "nbformat": 4,
 "nbformat_minor": 4
}
